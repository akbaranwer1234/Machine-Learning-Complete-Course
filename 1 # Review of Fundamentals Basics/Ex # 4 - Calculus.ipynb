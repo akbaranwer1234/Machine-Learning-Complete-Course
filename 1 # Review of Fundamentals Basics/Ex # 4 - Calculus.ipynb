{
 "cells": [
  {
   "cell_type": "code",
   "execution_count": 152,
   "metadata": {},
   "outputs": [],
   "source": [
    "import numpy as np\n",
    "import random\n",
    "from sklearn.model_selection import train_test_split\n",
    "import math\n",
    "import matplotlib.pyplot as plt"
   ]
  },
  {
   "cell_type": "code",
   "execution_count": 56,
   "metadata": {},
   "outputs": [],
   "source": [
    "data = np.random.randint(100, 1000, 4000).reshape(1000, 4)\n",
    "yData = np.random.randint(0,2, 4000)\n",
    "        "
   ]
  },
  {
   "cell_type": "code",
   "execution_count": 63,
   "metadata": {},
   "outputs": [],
   "source": [
    "xTrain = data[:3200, :]\n",
    "yTrain = yData[:3200]\n",
    "\n",
    "xTest = data[3200:]\n",
    "yTest = yData[3200:]"
   ]
  },
  {
   "cell_type": "code",
   "execution_count": 66,
   "metadata": {},
   "outputs": [],
   "source": [
    "def calculateFactorial (number):\n",
    "    if number == 0 or number == 1:\n",
    "        return 1\n",
    "\n",
    "    return (number*calculateFactorial(number-1))\n"
   ]
  },
  {
   "cell_type": "code",
   "execution_count": 67,
   "metadata": {},
   "outputs": [
    {
     "data": {
      "text/plain": [
       "120"
      ]
     },
     "execution_count": 67,
     "metadata": {},
     "output_type": "execute_result"
    }
   ],
   "source": [
    "calculateFactorial(5)"
   ]
  },
  {
   "cell_type": "code",
   "execution_count": null,
   "metadata": {},
   "outputs": [],
   "source": [
    "dictionary = []\n",
    "\n",
    "with open('test.txt','r') as file:\n",
    "\n",
    "    for line in file:\n",
    "        # print(line)\n",
    "        for word in line.split():\n",
    "            # print(word)\n",
    "            if len(dictionary) > 0:\n",
    "                # print(dictionary)\n",
    "                for frequency in dictionary:\n",
    "                    # print(frequency)\n",
    "                    if frequency[0] == word:\n",
    "                        frequency[1] += 1\n",
    "                        print(frequency)\n",
    "                    else:\n",
    "                        dictionary.append([word, 1])\n",
    "\n",
    "            else:\n",
    "                dictionary.append([word, 1])\n",
    "\n",
    "                # for frequency in dictionary:\n",
    "\n",
    "                #     if word == frequency[0]:\n",
    "\n",
    "                #         frequency[1] += 1\n",
    "\n",
    "                #     else:\n",
    "\n",
    "                #         dictionary.append([word, 1])\n",
    "            # else:\n",
    "            #     dictionary.append([word, 1])           "
   ]
  },
  {
   "cell_type": "code",
   "execution_count": 2,
   "metadata": {},
   "outputs": [],
   "source": [
    "def calculateMean (array):\n",
    "    number = 0\n",
    "    for i in array:\n",
    "        number += i\n",
    "\n",
    "    return number"
   ]
  },
  {
   "cell_type": "code",
   "execution_count": null,
   "metadata": {},
   "outputs": [],
   "source": [
    "def calculateMod (array):\n",
    "    mme"
   ]
  },
  {
   "cell_type": "markdown",
   "metadata": {},
   "source": [
    "1. Univariate functions"
   ]
  },
  {
   "cell_type": "markdown",
   "metadata": {},
   "source": [
    "a) Create python functions that take a single variable as input and return the result of applying\n",
    "the following univariate functions on the input:"
   ]
  },
  {
   "cell_type": "markdown",
   "metadata": {},
   "source": [
    "i) Quadratic function of your choice"
   ]
  },
  {
   "cell_type": "code",
   "execution_count": 65,
   "metadata": {},
   "outputs": [],
   "source": [
    "def quadratic (a, b, c):\n",
    "\n",
    "    positiveResult = (-(b)+math.sqrt(b**2-4*a*c))/(2*a)\n",
    "    negativeResult = (-(b)-math.sqrt(b**2-4*a*c))/(2*a)\n",
    "    \n",
    "    return positiveResult, negativeResult"
   ]
  },
  {
   "cell_type": "code",
   "execution_count": 66,
   "metadata": {},
   "outputs": [
    {
     "name": "stdout",
     "output_type": "stream",
     "text": [
      "When a = 3, b = 5, c = 1, our quadratic function's result is = (-0.2324081207560018, -1.434258545910665)\n"
     ]
    }
   ],
   "source": [
    "a = 3\n",
    "b = 5\n",
    "c = 1\n",
    "\n",
    "positiveResult, negativeResult = quadratic (a, b, c)\n",
    "\n",
    "print(f\"When a = {a}, b = {b}, c = {c}, our quadratic function's result is = {positiveResult, negativeResult}\")"
   ]
  },
  {
   "cell_type": "markdown",
   "metadata": {},
   "source": [
    "ii) Exponential function of your choice"
   ]
  },
  {
   "cell_type": "code",
   "execution_count": 78,
   "metadata": {},
   "outputs": [],
   "source": [
    "def exponential (x):\n",
    "    return math.exp(x)"
   ]
  },
  {
   "cell_type": "code",
   "execution_count": 83,
   "metadata": {},
   "outputs": [
    {
     "name": "stdout",
     "output_type": "stream",
     "text": [
      "Exponent of the function is: 54.598150033144236\n"
     ]
    }
   ],
   "source": [
    "x = 4\n",
    "result = exponential (x)\n",
    "\n",
    "print(f\"Exponent of the function is: {result}\")"
   ]
  },
  {
   "cell_type": "markdown",
   "metadata": {},
   "source": [
    "iii) Sigmoid function"
   ]
  },
  {
   "cell_type": "code",
   "execution_count": 74,
   "metadata": {},
   "outputs": [],
   "source": [
    "def sigmoid (x):\n",
    "    return 1/(1+math.exp(-(x)))"
   ]
  },
  {
   "cell_type": "code",
   "execution_count": 86,
   "metadata": {},
   "outputs": [
    {
     "name": "stdout",
     "output_type": "stream",
     "text": [
      "Sigmoid of the function is: 0.9820137900379085\n"
     ]
    }
   ],
   "source": [
    "x = 4\n",
    "result = sigmoid (x)\n",
    "\n",
    "print(f\"Sigmoid of the function is: {result}\")"
   ]
  },
  {
   "cell_type": "markdown",
   "metadata": {},
   "source": [
    "b) Now create functions that calculate the derivatives of each of the above univariate functions"
   ]
  },
  {
   "cell_type": "code",
   "execution_count": 77,
   "metadata": {},
   "outputs": [
    {
     "name": "stdout",
     "output_type": "stream",
     "text": [
      "The derivative of the quadratic function at a = 2, b = 2, and x = 4 is: 17\n"
     ]
    }
   ],
   "source": [
    "def derivative_of_quadratic(a, b, x):\n",
    "    derivative = 2 * a * x + c\n",
    "    return derivative\n",
    "\n",
    "a = 2\n",
    "b = 2 \n",
    "x = 4\n",
    "\n",
    "result = derivative_of_quadratic(a, b, x)\n",
    "\n",
    "print(f\"The derivative of the quadratic function at a = {a}, b = {b}, and x = {x} is: {result}\")\n"
   ]
  },
  {
   "cell_type": "code",
   "execution_count": 82,
   "metadata": {},
   "outputs": [
    {
     "name": "stdout",
     "output_type": "stream",
     "text": [
      "The derivative of the exponential function at  x = 4 is: 54.598150033144236\n"
     ]
    }
   ],
   "source": [
    "def derivative_of_exponentian (x):\n",
    "    return math.exp(x)\n",
    "\n",
    "x = 4\n",
    "\n",
    "result = derivative_of_exponentian(x)\n",
    "\n",
    "print(f\"The derivative of the exponential function at  x = {x} is: {result}\")"
   ]
  },
  {
   "cell_type": "code",
   "execution_count": 85,
   "metadata": {},
   "outputs": [
    {
     "name": "stdout",
     "output_type": "stream",
     "text": [
      "The derivative of the sigmoid function at  x = 4 is: 0.017662706213291107\n"
     ]
    }
   ],
   "source": [
    "def derivative_of_sigmoid (x):\n",
    "    return (sigmoid(x)*(1-sigmoid(x)))\n",
    "\n",
    "x = 4\n",
    "\n",
    "result = derivative_of_sigmoid(x)\n",
    "\n",
    "print(f\"The derivative of the sigmoid function at  x = {x} is: {result}\")"
   ]
  },
  {
   "cell_type": "markdown",
   "metadata": {},
   "source": [
    "2) Multivariate functions:"
   ]
  },
  {
   "cell_type": "markdown",
   "metadata": {},
   "source": [
    "a) Create a python function that takes three variables as input and returns the result of applying\n",
    "the following multivariate function on the input"
   ]
  },
  {
   "cell_type": "markdown",
   "metadata": {},
   "source": [
    "𝑓(𝑥, 𝑦, 𝑧) = (𝑥 + 2𝑦2 + 4𝑧3)2"
   ]
  },
  {
   "cell_type": "code",
   "execution_count": 88,
   "metadata": {},
   "outputs": [
    {
     "name": "stdout",
     "output_type": "stream",
     "text": [
      "The derivative of the quadratic function at x = 2, y = 2, and z = 4 is: 16924996\n"
     ]
    }
   ],
   "source": [
    "def multivariate (x, y, z):\n",
    "    return (x + ((2*y)**2) + ((4*z)**3))**2\n",
    "\n",
    "x = 2\n",
    "y = 2 \n",
    "z = 4\n",
    "\n",
    "result = multivariate(x, y, z)\n",
    "\n",
    "print(f\"The derivative of the multivariate function at x = {x}, y = {y}, and z = {z} is: {result}\")"
   ]
  },
  {
   "cell_type": "markdown",
   "metadata": {},
   "source": [
    "b)  Now create a function that calculates the derivative of the above multivariate function"
   ]
  },
  {
   "cell_type": "code",
   "execution_count": 90,
   "metadata": {},
   "outputs": [
    {
     "name": "stdout",
     "output_type": "stream",
     "text": [
      "The derivative of the multivariate function at x = 2, y = 2, and z = 4 is: (8228, 65824, 394944)\n"
     ]
    }
   ],
   "source": [
    "def multivariateDerivative (x, y, z):\n",
    "\n",
    "    derivateOfX = 2*(x + ((2*y)**2) + ((4*z)**3))\n",
    "    derivativeOfY = (8*y)*(x + ((2*y)**2) + ((4*z)**3))\n",
    "    derivativeOfZ = (24*z)*(x + ((2*y)**2) + ((4*z)**3))\n",
    "\n",
    "    return derivateOfX, derivativeOfY, derivativeOfZ\n",
    "\n",
    "\n",
    "x = 2\n",
    "y = 2 \n",
    "z = 4\n",
    "\n",
    "result = multivariateDerivative (x, y, z)\n",
    "\n",
    "print(f\"The derivative of the multivariate function at x = {x}, y = {y}, and z = {z} is: {result}\")"
   ]
  },
  {
   "cell_type": "markdown",
   "metadata": {},
   "source": [
    "3: Linear Regression:"
   ]
  },
  {
   "cell_type": "markdown",
   "metadata": {},
   "source": [
    "a) Create a function that takes two vectors as input (weight and feature vector) and returns\n",
    "the linear regression prediction for that input"
   ]
  },
  {
   "cell_type": "code",
   "execution_count": 375,
   "metadata": {},
   "outputs": [],
   "source": [
    "theta0 = [7]\n",
    "theta1 = [0.00001]\n",
    "learningRate = 0.01"
   ]
  },
  {
   "cell_type": "code",
   "execution_count": 376,
   "metadata": {},
   "outputs": [],
   "source": [
    "# weightVector = []\n",
    "# featureVector = []\n",
    "\n",
    "# for i in range(100):\n",
    "#     weightVector.append([random.randint(1000000, 10000000)])\n",
    "#     featureVector.append([random.uniform(1, 5)])\n",
    "\n",
    "weightVector = np.random.randint(1000, 100000, 102)\n",
    "featureVector = np.random.uniform(5, 10, 102).round(2)\n",
    "predictedFeatureVector = []\n",
    "\n",
    "def linearRegressionPrediction (weightVector, featureVector, theta0, theta1):\n",
    "\n",
    "    for i in range(0, len(weightVector)):\n",
    "        \n",
    "        hypothesis = theta0[-1] + theta1[-1]*weightVector[i]\n",
    "        predictedFeatureVector.append(hypothesis)\n",
    "\n",
    "    # actualX = sum(weightVector)/len(weightVector)\n",
    "    # actualY = sum(featureVector)/len(featureVector)\n",
    "\n",
    "    # predictedX = sum(weightVector)/len(weightVector)\n",
    "    # predictedY = sum(predictedVector)/len(predictedVector)\n",
    "\n",
    "    plt.scatter(weightVector, featureVector)\n",
    "    plt.scatter(weightVector, predictedFeatureVector)\n",
    "    plt.xlabel(\"Feature Vector\")\n",
    "    plt.ylabel(\"Weight Vector\")\n",
    "    plt.title(\"House Price prediction on No. Of Marla Sizez\")\n",
    "    plt.legend([\"Actual\", \"Predicted\"], loc = \"upper right\")\n",
    "\n",
    "    return predictedFeatureVector  "
   ]
  },
  {
   "cell_type": "code",
   "execution_count": 377,
   "metadata": {},
   "outputs": [
    {
     "data": {
      "text/plain": [
       "[7.8519000000000005, 7.3586, 7.32617, 7.15131, 7.13455]"
      ]
     },
     "execution_count": 377,
     "metadata": {},
     "output_type": "execute_result"
    },
    {
     "data": {
      "image/png": "[encoded data removed]",
      "text/plain": [
       "<Figure size 640x480 with 1 Axes>"
      ]
     },
     "metadata": {},
     "output_type": "display_data"
    }
   ],
   "source": [
    "result = linearRegressionPrediction(weightVector, featureVector, theta0, theta1)\n",
    "result[:5]"
   ]
  },
  {
   "cell_type": "markdown",
   "metadata": {},
   "source": [
    "b) Now create a function that takes a vector of predictions and a vector of actual values as\n",
    "input and returns the Mean Squared Error."
   ]
  },
  {
   "cell_type": "code",
   "execution_count": 378,
   "metadata": {},
   "outputs": [
    {
     "name": "stdout",
     "output_type": "stream",
     "text": [
      "Mean Squared Error (MSE) is = 1.1828877252294119\n"
     ]
    }
   ],
   "source": [
    "def calculateMeanSquaredError (featureVector, predictedFeatureVector):\n",
    "\n",
    "    score = []\n",
    "\n",
    "    for i in range (0, len(weightVector)):\n",
    "\n",
    "        tempScore = (predictedFeatureVector[i] - featureVector[i])**2\n",
    "        score.append(tempScore)\n",
    "\n",
    "    result = sum(score)/(2*len(weightVector))\n",
    "    return result\n",
    "\n",
    "MSE = calculateMeanSquaredError (featureVector, predictedFeatureVector)\n",
    "print(f\"Mean Squared Error (MSE) is = {MSE}\")\n"
   ]
  },
  {
   "cell_type": "markdown",
   "metadata": {},
   "source": [
    "c) Now create a function that takes a vector of predictions and a vector of actual values as\n",
    "input and returns the Gradient of Mean Squared Error"
   ]
  },
  {
   "cell_type": "code",
   "execution_count": 379,
   "metadata": {},
   "outputs": [],
   "source": [
    "def calculateGradient (weightVector, featureVector, predictedFeatureVector, theta0, theta1, learningRate):\n",
    "\n",
    "    score0 = []\n",
    "    score1 = []\n",
    "\n",
    "    for i in range(0, len(weightVector)):\n",
    "\n",
    "        result0 = (predictedFeatureVector[i] - featureVector[i])\n",
    "        score0.append(result0)\n",
    "        # print(f\"result0 = {result0}\")\n",
    "\n",
    "        result1 = (predictedFeatureVector[i] - featureVector[i])*weightVector[i]\n",
    "        score1.append(result1)\n",
    "        # print(f\"result1 = {result1}\")\n",
    "\n",
    "    # s = 0\n",
    "\n",
    "    # for i in score0:\n",
    "    #     s += i\n",
    "    # print(f\"s = {s}\")\n",
    "    # print(score0)\n",
    "    \n",
    "    divisionScore = sum(score0)/len(featureVector)\n",
    "    learningRateMultiplication = learningRate * divisionScore\n",
    "    newTheta0 = (theta0[-1] - learningRateMultiplication)\n",
    "    # print(f\"theta0 = {newTheta0}\")\n",
    "\n",
    "    divisionScore = sum(score1)/len(featureVector)\n",
    "    learningRateMultiplication = learningRate * divisionScore\n",
    "    newTheta1 = (theta1[-1] - learningRateMultiplication)\n",
    "    # print(f\"theta1 = {newTheta1}\")\n",
    "\n",
    "    theta0.append(newTheta0)\n",
    "    theta1.append(newTheta1)\n",
    "\n",
    "    return newTheta0, newTheta1\n",
    "    "
   ]
  },
  {
   "cell_type": "code",
   "execution_count": 380,
   "metadata": {},
   "outputs": [
    {
     "name": "stdout",
     "output_type": "stream",
     "text": [
      " previous theta0 = 7, and theta1 = 1e-05\n",
      " new theta0 = 7.000797098039215, and theta1 = -66.76406496862747 result = (7.000797098039215, -66.76406496862747)\n"
     ]
    }
   ],
   "source": [
    "# theta0 = 7\n",
    "# theta1 = 0.00001\n",
    "# learningRate = 0.01\n",
    "\n",
    "result = calculateGradient(weightVector, featureVector, predictedFeatureVector, theta0, theta1, learningRate)\n",
    "print(f\" previous theta0 = {theta0[-2]}, and theta1 = {theta1[-2]}\\n new theta0 = {theta0[-1]}, and theta1 = {theta1[-1]} result = {result}\")\n",
    "# for i in range(100):\n",
    "#     print(calculateGradient(weightVector, featureVector, predictedFeatureVector, theta0, theta1, learningRate))\n",
    "    # print([theta0, theta1])"
   ]
  },
  {
   "cell_type": "markdown",
   "metadata": {},
   "source": [
    "4: Gradient Descent Algorithm:"
   ]
  },
  {
   "cell_type": "markdown",
   "metadata": {},
   "source": [
    "Create a function that implements the gradient descent algorithm. The function should take a weight\n",
    "vector, gradient of loss and a stopping criterion as input and return the optimized weight vector.\n",
    "Implement both vanilla and stochastic gradient descent cases."
   ]
  },
  {
   "cell_type": "code",
   "execution_count": null,
   "metadata": {},
   "outputs": [],
   "source": [
    "# Vanilla Gradient Descent\n",
    "oldMeanSquaredError = 0\n",
    "j = 0\n",
    "\n",
    "def GradientDescentAlgorithm (weightVector, featureVector, outputVector, gradientOfLoss, stoppinIteration):\n",
    "\n",
    "    learningRate = 0.00001\n",
    "\n",
    "    hypothesisVector = []\n",
    "\n",
    "    for i in range(len(weightVector)):\n",
    "\n",
    "        hypothesisVector.append(weightVector[i][0]+weightVector[i][1]*featureVector[i][0])\n",
    "\n",
    "    \n",
    "    predictedVector = []\n",
    "    squaredPredictedVector = []\n",
    "\n",
    "    for i in range(len(featureVector)):\n",
    "\n",
    "        result = (hypothesisVector[i]-outputVector[i][0])\n",
    "        predictedVector.append(result)\n",
    "        squaredPredictedVector.append(result**2)\n",
    "    \n",
    "    meanSquaredError = sum(squaredPredictedVector)/(2*len(featureVector))\n",
    "    withoutSquaredError = sum(predictedVector)/(len(featureVector))\n",
    "\n",
    "    # oldWeightValues = weightVector[0]\n",
    "\n",
    "    # newWeightValues = oldWeightValues[0] - (learningRate * (withoutSquaredError)), oldWeightValues[1] - (learningRate * (withoutSquaredError))\n",
    "\n",
    "    alpha = 0\n",
    "\n",
    "    for i in range(len(featureVector)):\n",
    "\n",
    "        result = (predictedVector[i] - featureVector[i])*outputVector[i]\n",
    "\n",
    "        alpha += result\n",
    "\n",
    "    alpha = alpha/len(featureVector)\n",
    "\n",
    "\n",
    "    # newWeightValues = [(weightVector[0][0] - (learningRate * (withoutSquaredError))), (weightVector[0][1] - (learningRate * alpha))]\n",
    "    a, b = (weightVector[0][0] - (learningRate * (withoutSquaredError))), (weightVector[0][1] - (learningRate * alpha))\n",
    "\n",
    "    newWeightVector = []\n",
    "\n",
    "    for i in range(len(featureVector)):\n",
    "        newWeightVector.append([a, b[0]])\n",
    "\n",
    "    newWeightVector = np.array(newWeightVector)\n",
    "\n",
    "    print (f'theta0 = {a}, theta1 = {b[0]}, meanSquaredError = {meanSquaredError}')\n",
    "\n",
    "    # if stoppinIteration == 0:\n",
    "        # print((featureVector.reshape(-1)))\n",
    "        # plt.scatter(featureVector.reshape(-1), outputVector.reshape(-1))\n",
    "        # plt.plot([0, 0], [weightVector[0][0], weightVector[0][1]])\n",
    "        # plt.plot([newWeightVector[0][0], newWeightVector[0][1]], [newWeightVector[-1][0], newWeightVector[-1][1]])\n",
    "\n",
    "    while (stoppinIteration != 0):\n",
    "        return GradientDescentAlgorithm(newWeightVector, featureVector, outputVector, gradientOfLoss, stoppinIteration-1)"
   ]
  },
  {
   "cell_type": "code",
   "execution_count": null,
   "metadata": {},
   "outputs": [],
   "source": [
    "weightVector = np.full((100, 2), -1)\n",
    "featureVector = np.random.randint(100, 1000, 100).reshape(100, 1)\n",
    "outputVector = np.random.randint(5, 20, 100).reshape(100, 1)\n",
    "# weightVector\n",
    "# print(featureVector)\n",
    "\n",
    "GradientDescentAlgorithm(weightVector, featureVector, outputVector, 9, 20)"
   ]
  },
  {
   "cell_type": "code",
   "execution_count": 563,
   "metadata": {},
   "outputs": [
    {
     "name": "stdout",
     "output_type": "stream",
     "text": [
      "theta0 = -0.9948785, theta1 = -0.871923, meanSquaredError = 165588.425\n",
      "theta0 = -0.9903959377141, theta1 = -0.7519301852083999, meanSquaredError = 126670.52978122223\n",
      "theta0 = -0.9865119804118477, theta1 = -0.6395112451754824, meanSquaredError = 94933.17396051661\n",
      "theta0 = -0.9831888413477348, theta1 = -0.5341880825624942, meanSquaredError = 69345.53798667123\n",
      "theta0 = -0.9803911190470748, theta1 = -0.43551277970392477, meanSquaredError = 49012.4859926508\n",
      "theta0 = -0.9780856467368872, theta1 = -0.3430656935296009, meanSquaredError = 33157.367306343884\n",
      "theta0 = -0.9762413512813861, theta1 = -0.2564536707439409, meanSquaredError = 21106.959178704485\n",
      "theta0 = -0.9748291210221013, theta1 = -0.17530837567119334, meanSquaredError = 12278.28650731191\n",
      "theta0 = -0.9738216819605304, theta1 = -0.09928472365467121, meanSquaredError = 6167.086791531085\n",
      "theta0 = -0.9731934817567042, theta1 = -0.028059413346933848, meanSquaredError = 2337.717035461038\n",
      "theta0 = -0.9729205810502881, theta1 = 0.038670448351527664, meanSquaredError = 414.32430371768254\n",
      "theta0 = -0.9729805516419895, theta1 = 0.10118863455349607, meanSquaredError = 73.12356021647722\n",
      "theta0 = -0.9733523811022162, theta1 = 0.1597610053253414, meanSquaredError = 1035.64565662692\n",
      "theta0 = -0.9740163834012696, theta1 = 0.21463663843978537, meanSquaredError = 3062.835214286016\n",
      "theta0 = -0.9749541151809648, theta1 = 0.26604888875042104, meanSquaredError = 5949.892950022199\n",
      "theta0 = -0.9761482973115667, theta1 = 0.3142163806937063, meanSquaredError = 9521.769986137682\n",
      "theta0 = -0.977582741400408, theta1 = 0.3593439381397279, meanSquaredError = 13629.233080276786\n",
      "theta0 = -0.9792422809396164, theta1 = 0.40162345554656714, meanSquaredError = 18145.429707385596\n",
      "theta0 = -0.98111270680011, theta1 = 0.44123471412344845, meanSquaredError = 22962.89069485456\n",
      "theta0 = -0.983180706797504, theta1 = 0.4783461464739676, meanSquaredError = 27990.915803660457\n",
      "theta0 = -0.9854338090728921, theta1 = 0.5131155529715699, meanSquaredError = 33153.294394905\n"
     ]
    }
   ],
   "source": [
    "weightVector = np.full((100, 2), -1)\n",
    "featureVector = np.random.randint(100, 1000, 100).reshape(100, 1)\n",
    "outputVector = np.random.randint(5, 20, 100).reshape(100, 1)\n",
    "# weightVector\n",
    "# print(featureVector)\n",
    "\n",
    "GradientDescentAlgorithm(weightVector, featureVector, outputVector, 9, 20)"
   ]
  },
  {
   "cell_type": "markdown",
   "metadata": {},
   "source": [
    "5: Application of linear regression:"
   ]
  },
  {
   "cell_type": "markdown",
   "metadata": {},
   "source": [
    "Apply linear regression on the California housing dataset. You can find details about this dataset at\n",
    "the following link: https://developers.google.com/machine-learning/crash-course/californiahousing-data-description\n",
    "The dataset can be loaded by using the following lines of code:"
   ]
  },
  {
   "cell_type": "code",
   "execution_count": 733,
   "metadata": {},
   "outputs": [],
   "source": [
    "from sklearn import datasets\n",
    "from sklearn.utils import shuffle\n",
    "california_housing = datasets.fetch_california_housing()\n",
    "X = california_housing.data # Feature matrix\n",
    "y = california_housing.target # Target values (median house values"
   ]
  },
  {
   "cell_type": "code",
   "execution_count": 734,
   "metadata": {},
   "outputs": [
    {
     "data": {
      "text/plain": [
       "(20640, 8)"
      ]
     },
     "execution_count": 734,
     "metadata": {},
     "output_type": "execute_result"
    }
   ],
   "source": [
    "X.shape"
   ]
  },
  {
   "cell_type": "code",
   "execution_count": 735,
   "metadata": {},
   "outputs": [
    {
     "data": {
      "text/plain": [
       "(20640,)"
      ]
     },
     "execution_count": 735,
     "metadata": {},
     "output_type": "execute_result"
    }
   ],
   "source": [
    "y.shape"
   ]
  },
  {
   "cell_type": "code",
   "execution_count": 736,
   "metadata": {},
   "outputs": [],
   "source": [
    "X = shuffle(X)\n",
    "y = shuffle(y)"
   ]
  },
  {
   "cell_type": "code",
   "execution_count": 737,
   "metadata": {},
   "outputs": [
    {
     "data": {
      "text/plain": [
       "(20640, 8)"
      ]
     },
     "execution_count": 737,
     "metadata": {},
     "output_type": "execute_result"
    }
   ],
   "source": [
    "X.shape"
   ]
  },
  {
   "cell_type": "code",
   "execution_count": 738,
   "metadata": {},
   "outputs": [
    {
     "data": {
      "text/plain": [
       "(20640,)"
      ]
     },
     "execution_count": 738,
     "metadata": {},
     "output_type": "execute_result"
    }
   ],
   "source": [
    "y.shape"
   ]
  },
  {
   "cell_type": "code",
   "execution_count": 739,
   "metadata": {},
   "outputs": [],
   "source": [
    "xTrain = X[:14448]\n",
    "yTrain = y[:14448]\n",
    "xTest = X[14448:]\n",
    "yTest = y[14448:]"
   ]
  },
  {
   "cell_type": "code",
   "execution_count": 740,
   "metadata": {},
   "outputs": [],
   "source": [
    "def GradientDescentAlgorithm2 (weightVector, biasTerm, featureVector, outputVector, stoppingIteration, MSE):\n",
    "\n",
    "    while stoppingIteration > 0:\n",
    "\n",
    "        biasTerm = 1\n",
    "\n",
    "        learningRate = 0.00001\n",
    "\n",
    "        prevoisMeanSquaredError = 0\n",
    "\n",
    "        NoOfRowsOfFeatureMatrix, NoOfColumnsOfFeatureMatrix = featureVector.shape\n",
    "\n",
    "        hypothesisVector = []\n",
    "\n",
    "        for i in range(len(featureVector)):\n",
    "            \n",
    "            a = []\n",
    "            for j in range(len(weightVector)):\n",
    "\n",
    "                result = weightVector[j]*featureVector[i][j]\n",
    "                a.append(biasTerm+result)\n",
    "\n",
    "            a.append(sum(a))            \n",
    "\n",
    "            hypothesisVector.append(a)\n",
    "\n",
    "        predictedFeatureVector = []\n",
    "        squaredPredictedVector = []\n",
    "\n",
    "        for i in range(len(featureVector)):\n",
    "\n",
    "            result = (hypothesisVector[i][-1]-outputVector[i])\n",
    "            predictedFeatureVector.append(result)\n",
    "            squaredPredictedVector.append(result**2)\n",
    "        \n",
    "        meanSquaredError = sum(squaredPredictedVector)/(2*len(featureVector))\n",
    "\n",
    "        withoutSquaredError = sum(predictedFeatureVector)/(len(featureVector)) # theta0\n",
    "\n",
    "        newBiasTerm = biasTerm - withoutSquaredError\n",
    "        # print(newBiasTerm)\n",
    "\n",
    "        newWeightVectorGradient = []\n",
    "        # print(len(featureVector), len(predictedFeatureVector), len(outputVector))\n",
    "\n",
    "        for i in range(len(featureVector)): # Columns\n",
    "            # print(featureVector[i])\n",
    "\n",
    "            rowGradient = []\n",
    "            for j in range(len(featureVector[0])): # Rows\n",
    "            \n",
    "                gradient = (featureVector[i][j] - predictedFeatureVector[i])*outputVector[i]\n",
    "                rowGradient.append(gradient)\n",
    "            \n",
    "            newWeightVectorGradient.append(rowGradient)\n",
    "            # print(rowGradient)\n",
    "        \n",
    "        newWeightVectorGradient = np.array(newWeightVectorGradient)\n",
    "        \n",
    "        meanGradientVector = newWeightVectorGradient.sum(axis=0)/len(newWeightVectorGradient)\n",
    "        learningSteps = meanGradientVector*learningRate\n",
    "\n",
    "        # print(meanGradientVector.shape)\n",
    "\n",
    "        newWeightVector = weightVector - learningSteps\n",
    "\n",
    "        if MSE == None:\n",
    "            MSE = meanSquaredError\n",
    "            print(f\"Gradients = {newWeightVector}, MSE = {meanSquaredError}, Bias = {newBiasTerm}, Epochs = {stoppingIteration}\")\n",
    "        elif MSE != None:\n",
    "            difference = MSE - meanSquaredError\n",
    "            if difference in range(0.01, 0.09):\n",
    "                return print(f\"Gradients = {newWeightVector}, New MSE = {meanSquaredError}, Old MSE = {MSE}, Bias = {newBiasTerm}, Epochs = {stoppingIteration}\")\n",
    "            else:\n",
    "                print(f\"Gradients = {newWeightVector}, New MSE = {meanSquaredError}, Old MSE = {MSE}, Bias = {newBiasTerm}, Epochs = {stoppingIteration}\")\n",
    "\n",
    "        return GradientDescentAlgorithm2(newWeightVector, newBiasTerm, featureVector, outputVector, stoppingIteration-1, MSE=None)"
   ]
  },
  {
   "cell_type": "code",
   "execution_count": 759,
   "metadata": {},
   "outputs": [
    {
     "name": "stdout",
     "output_type": "stream",
     "text": [
      "Gradients = [0.24925232 2.24873701 6.24922003 3.24930981 9.21987751 1.24927109\n",
      " 6.24859401 9.25181017], MSE = 125136311.97654532, Bias = -12015.893969726783, Epochs = 102\n",
      "Gradients = [0.50475796 2.50372734 6.50469339 3.50487294 9.44600834 1.5047955\n",
      " 6.50344135 9.50987366], MSE = 131414807.01892143, Bias = -12317.2764468151, Epochs = 101\n",
      "Gradients = [0.7666957  2.76514977 6.76659883 3.76686817 9.67857127 1.766752\n",
      " 6.76472078 9.77436924], MSE = 138032791.48069823, Bias = -12627.274976841261, Epochs = 100\n",
      "Gradients = [ 1.03524941  3.03318817  7.03512026  4.03547937  9.91775017  2.03532448\n",
      "  7.03261619 10.0454808 ], MSE = 145009243.4328859, Bias = -12946.135877733721, Epochs = 99\n",
      "Gradients = [ 1.31060823  3.30803169  7.3104468   4.31089569 10.16373419  2.31070207\n",
      "  7.30731671 10.32339747], MSE = 152364220.99483025, Bias = -13274.112509221315, Epochs = 98\n",
      "Gradients = [ 1.59296672  3.58987487  7.592773    4.59331167 10.41671787  2.59307933\n",
      "  7.58901689 10.60831381], MSE = 160118924.37501827, Bias = -13611.465474145354, Epochs = 97\n",
      "Gradients = [ 1.88252498  3.87891782  7.88229897  4.88292742 10.67690132  2.88265635\n",
      "  7.87791684 10.90042992], MSE = 168295761.4926266, Bias = -13958.462825528266, Epochs = 96\n",
      "Gradients = [ 2.17948884  4.17536636  8.17923054  5.17994877 10.94449037  3.17963898\n",
      "  8.17422239 11.19995162], MSE = 176918417.38699216, Bias = -14315.380279560955, Epochs = 95\n",
      "Gradients = [ 2.48407     4.47943222  8.48377942  5.48458743 11.21969673  3.48423891\n",
      "  8.47814526 11.50709064], MSE = 186011927.6341533, Bias = -14682.501434679063, Epochs = 94\n",
      "Gradients = [ 2.79648625  4.79133316  8.79616338  5.79706117 11.50273817  3.79667393\n",
      "  8.7899032  11.82206473], MSE = 195602756.00231838, Bias = -15060.117996903167, Epochs = 93\n",
      "Gradients = [ 3.11696156  5.11129316  9.1166064   6.11759397 11.79383867  4.11716801\n",
      "  9.10972021 12.14509789], MSE = 205718876.5915578, Bias = -15448.530011620536, Epochs = 92\n",
      "Gradients = [ 3.44572634  5.43954263  9.44533889  6.44641624 12.09322864  4.44595155\n",
      "  9.43782668 12.47642052], MSE = 216389860.71722683, Bias = -15848.046101992459, Epochs = 91\n",
      "Gradients = [ 3.78301756  5.77631854  9.78259783  6.78376495 12.40114506  4.78326154\n",
      "  9.77445959 12.81626959], MSE = 227646968.8116143, Bias = -16258.983714178416, Epochs = 90\n",
      "Gradients = [ 4.12907899  6.12186466 10.12862696  7.12988387 12.71783167  5.12934173\n",
      " 10.11986271 13.16488886], MSE = 239523247.63429868, Bias = -16681.66936956983, Epochs = 89\n",
      "Gradients = [ 4.48416134  6.4764317  10.48367702  7.48502371 13.04353921  5.48444285\n",
      " 10.47428676 13.52252906], MSE = 252053633.09843147, Bias = -17116.43892423583, Epochs = 88\n",
      "Gradients = [ 4.8485225   6.84027755 10.8480059   7.84944237 13.37852557  5.84882278\n",
      " 10.83798962 13.88944807], MSE = 265275059.03805345, Bias = -17563.637835784117, Epochs = 87\n",
      "Gradients = [ 5.22242775  7.2136675  11.22187887  8.22340511 13.72305601  6.2227468\n",
      " 11.21123656 14.26591117], MSE = 279226572.26029533, Bias = -18023.621437853704, Epochs = 86\n",
      "Gradients = [ 5.60614994  7.59687437 11.60556876  8.60718478 14.07740339  6.60648775\n",
      " 11.59430044 14.6521912 ], MSE = 293949454.24632317, Bias = -18496.755222451928, Epochs = 85\n",
      "Gradients = [ 5.9999697   7.99017882 11.99935624  9.00106204 14.44184834  7.00032628\n",
      " 11.9874619  15.04856881], MSE = 309487349.8859166, Bias = -18983.415130366244, Epochs = 84\n",
      "Gradients = [ 6.40417571  8.39386953 12.40352996  9.40532554 14.81667955  7.40455106\n",
      " 12.39100961 15.45533268], MSE = 325886403.65287286, Bias = -19483.987849874764, Epochs = 83\n",
      "Gradients = [ 6.81906491  8.80824341 12.81838687  9.82027223 15.20219394  7.81945903\n",
      " 12.8052405  15.87277972], MSE = 343195403.65204996, Bias = -19998.871123999572, Epochs = 82\n",
      "Gradients = [ 7.24494269  9.23360589 13.24423237 10.24620751 15.59869691  8.24535558\n",
      " 13.23045998 16.30121535], MSE = 361465933.9938287, Bias = -20528.474066542112, Epochs = 81\n",
      "Gradients = [ 7.68212322  9.6702711  13.6813806  10.68344552 16.00650263  8.68255487\n",
      " 13.66698219 16.74095372], MSE = 380752535.9781201, Bias = -21073.217487154256, Epochs = 80\n",
      "Gradients = [ 8.1309296  10.11856218 14.1301547  11.1323094  16.4259342   9.13138002\n",
      " 14.11513027 17.19231795], MSE = 401112878.59807044, Bias = -21633.53422570124, Epochs = 79\n",
      "Gradients = [ 8.59169421 10.57881148 14.59088702 11.5931315  16.857324    9.5921634\n",
      " 14.57523657 17.65564041], MSE = 422607938.9031202, Bias = -22209.869496186006, Epochs = 78\n",
      "Gradients = [ 9.06475891 11.05136087 15.06391943 12.06625369 17.30101389 10.06524686\n",
      " 15.04764297 18.13126296], MSE = 445302192.79238987, Bias = -22802.68124050312, Epochs = 77\n",
      "Gradients = [ 9.55047533 11.53656198 15.54960357 12.5520276  17.75735551 10.55098205\n",
      " 15.53270109 18.61953723], MSE = 469263816.8423726, Bias = -23412.44049230734, Epochs = 76\n",
      "Gradients = [10.04920518 12.03477652 16.04830113 13.05081494 18.22671055 11.04973067\n",
      " 16.03077263 19.12082492], MSE = 494564901.80804664, Bias = -24039.631751284593, Epochs = 75\n",
      "Gradients = [10.56132047 12.5463765  16.56038413 13.56298772 18.70945103 11.56186473\n",
      " 16.54222961 19.63549806], MSE = 521281678.473428, Bias = -24684.75336812149, Epochs = 74\n",
      "Gradients = [11.08720388 13.0717446  17.08623526 14.08892863 19.20595964 12.08776691\n",
      " 17.06745472 20.16393932], MSE = 549494756.5668453, Bias = -25348.317940481687, Epochs = 73\n",
      "Gradients = [11.62724901 13.61127443 17.6262481  14.62903125 19.71662996 12.62783081\n",
      " 17.60684155 20.7065423 ], MSE = 579289377.4976463, Bias = -26030.852720302697, Epochs = 72\n",
      "Gradients = [12.18186073 14.16537083 18.18082753 15.18370046 20.24186687 13.18246129\n",
      " 18.16079496 21.26371187], MSE = 610755681.7148938, Bias = -26732.90003273506, Epochs = 71\n",
      "Gradients = [12.75145546 14.73445025 18.75038997 15.75335268 20.78208679 13.75207478\n",
      " 18.72973138 21.83586444], MSE = 643988991.5350562, Bias = -27455.017707059702, Epochs = 70\n",
      "Gradients = [13.33646154 15.31894102 19.33536376 16.33841625 21.33771806 14.33709963\n",
      " 19.31407916 22.42342837], MSE = 679090110.334659, Bias = -28197.779519923803, Epochs = 69\n",
      "Gradients = [13.93731956 15.91928373 19.9361895  16.93933176 21.90920127 14.93797642\n",
      " 19.91427887 23.02684424], MSE = 716165639.0560306, Bias = -28961.77565124906, Epochs = 68\n",
      "Gradients = [14.55448269 16.53593156 20.55332034 17.55655239 22.4969896  15.55515832\n",
      " 20.5307837  23.64656522], MSE = 755328311.0289336, Bias = -29747.613153170674, Epochs = 67\n",
      "Gradients = [15.18841708 17.16935064 21.18722244 18.19054426 23.10154918 16.18911147\n",
      " 21.16405978 24.28305746], MSE = 796697346.1692721, Bias = -30555.91643238755, Epochs = 66\n",
      "Gradients = [15.83960218 17.82002042 21.83837525 18.84178685 23.72335946 16.84031534\n",
      " 21.81458657 24.9368004 ], MSE = 840398825.6773382, Bias = -31387.327746295494, Epochs = 65\n",
      "Gradients = [16.50853115 18.48843409 22.50727194 19.51077332 24.36291363 17.50926308\n",
      " 22.48285724 25.60828722], MSE = 886566088.4233885, Bias = -32242.507713310075, Epochs = 64\n",
      "Gradients = [17.19571127 19.1750989  23.19441977 20.19801093 25.02071895 18.19646197\n",
      " 23.16937906 26.29802519], MSE = 935340150.2768366, Bias = -33122.13583777519, Epochs = 63\n",
      "Gradients = [17.90166431 19.88053663 23.90034052 20.90402146 25.69729717 18.90243378\n",
      " 23.87467379 27.00653608], MSE = 986870147.7085613, Bias = -34026.91104988, Epochs = 62\n",
      "Gradients = [18.62692695 20.60528396 24.62557087 21.62934159 26.393185   19.62771518\n",
      " 24.59927812 27.73435656], MSE = 1041313807.0726234, Bias = -34957.55226100714, Epochs = 61\n",
      "Gradients = [19.37205121 21.34989291 25.37066284 22.37452334 27.10893446 20.37285821\n",
      " 25.34374408 28.48203867], MSE = 1098837941.055225, Bias = -35914.79893496333, Epochs = 60\n",
      "Gradients = [20.13760491 22.1149313  26.13618426 23.14013453 27.84511335 21.13843067\n",
      " 26.10863947 29.25015022], MSE = 1159618973.8651729, Bias = -36899.411675535746, Epochs = 59\n",
      "Gradients = [20.92417208 22.90098317 26.92271915 23.9267592  28.60230572 21.92501662\n",
      " 26.89454834 30.03927525], MSE = 1223843496.8311584, Bias = -37912.172830847674, Epochs = 58\n",
      "Gradients = [21.73235348 23.70864925 27.73086825 24.73499809 29.3811123  22.73321678\n",
      " 27.70207143 30.85001449], MSE = 1291708856.167783, Bias = -38953.88711498999, Epochs = 57\n",
      "Gradients = [22.562767   24.53854747 28.56124949 25.5654691  30.18215102 23.56364907\n",
      " 28.53182665 31.68298586], MSE = 1363423774.7744842, Bias = -40025.38224742727, Epochs = 56\n",
      "Gradients = [23.41604823 25.39131339 29.41449843 26.41880782 31.00605744 24.41694907\n",
      " 29.38444957 32.53882494], MSE = 1439209010.0393996, Bias = -41127.509610679896, Epochs = 55\n",
      "Gradients = [24.29285092 26.26760077 30.29126883 27.295668   31.85348532 25.29377052\n",
      " 30.26059395 33.41818547], MSE = 1519298049.7346425, Bias = -42261.14492680977, Epochs = 54\n",
      "Gradients = [25.1938475  27.16808204 31.19223312 28.19672207 32.72510709 26.19478587\n",
      " 31.16093223 34.3217399 ], MSE = 1603937848.2104535, Bias = -43427.18895324473, Epochs = 53\n",
      "Gradients = [26.11972963 28.09344886 32.11808297 29.1226617  33.62161441 27.12068677\n",
      " 32.08615606 35.25017988], MSE = 1693389605.2236614, Bias = -44626.56819849861, Epochs = 52\n",
      "Gradients = [27.07120875 29.04441267 33.0695298  30.07419831 34.54371873 28.07218466\n",
      " 33.03697687 36.20421685], MSE = 1787929589.870932, Bias = -45860.235658345955, Epochs = 51\n",
      "Gradients = [28.04901664 30.02170525 34.0473054  31.05206368 35.4921518  29.05001131\n",
      " 34.01412645 37.18458258], MSE = 1887850012.2413445, Bias = -47129.17157304928, Epochs = 50\n",
      "Gradients = [29.05390598 31.02607928 35.05216245 32.05701052 36.46766633 30.05491942\n",
      " 35.01835748 38.19202977], MSE = 1993459945.5532072, Bias = -48434.38420623162, Epochs = 49\n",
      "Gradients = [30.08665098 32.05830897 36.08487517 33.08981301 37.47103653 31.08768319\n",
      " 36.05044418 39.22733262], MSE = 2105086301.7015822, Bias = -49776.91064601379, Epochs = 48\n",
      "Gradients = [31.148048   33.11919068 37.1462399  34.15126752 38.50305874 32.14909898\n",
      " 37.1111829  40.29128749], MSE = 2223074863.3116384, Bias = -51157.817629057776, Epochs = 47\n",
      "Gradients = [32.23891614 34.20954351 38.23707575 35.24219315 39.56455207 33.23998588\n",
      " 38.20139273 41.38471348], MSE = 2347791375.5730057, Bias = -52578.2023881672, Epochs = 46\n",
      "Gradients = [33.36009793 35.33020999 39.35822525 36.36343243 40.65635905 34.36118644\n",
      " 39.32191622 42.50845312], MSE = 2479622701.3199463, Bias = -54039.193524117, Epochs = 45\n",
      "Gradients = [34.51245999 36.48205674 40.51055502 37.51585198 41.7793463  35.51356726\n",
      " 40.47361997 43.66337302], MSE = 2618978043.0229297, Bias = -55541.95190241093, Epochs = 44\n",
      "Gradients = [35.6968937  37.66597514 41.69495644 38.70034318 42.93440521 36.69801974\n",
      " 41.65739537 44.85036458], MSE = 2766290235.570167, Bias = -57087.67157567376, Epochs = 43\n",
      "Gradients = [36.91431593 38.88288207 42.9123464  39.91782291 44.12245263 37.91546075\n",
      " 42.8741593  46.07034466], MSE = 2922017113.9418955, Bias = -58677.58073240988, Epochs = 42\n",
      "Gradients = [38.16566978 40.13372061 44.16366796 41.16923426 45.34443168 39.16683337\n",
      " 44.12485485 47.32425636], MSE = 3086642960.118584, Bias = -60312.94267289563, Epochs = 41\n",
      "Gradients = [39.45192529 41.41946081 45.44989118 42.45554725 46.60131238 40.45310764\n",
      " 45.41045205 48.61306972], MSE = 3260680033.815714, Bias = -61995.05681295467, Epochs = 40\n",
      "Gradients = [40.77408023 42.74110044 46.77201383 43.77775969 47.89409251 41.77528135\n",
      " 46.73194869 49.93778251], MSE = 3444670191.90404, Bias = -63725.25971644728, Epochs = 39\n",
      "Gradients = [42.13316091 44.09966581 48.13106222 45.13689786 49.22379838 43.1343808\n",
      " 48.09037106 51.29942103], MSE = 3639186601.656028, Bias = -65504.92615726069, Epochs = 38\n",
      "Gradients = [43.53022297 45.49621256 49.52809199 46.53401741 50.59148563 44.53146162\n",
      " 49.48677481 52.69904094], MSE = 3844835553.2573953, Bias = -67335.47021167121, Epochs = 37\n",
      "Gradients = [44.96635223 46.93182651 50.96418897 47.97020416 51.99824008 45.96760965\n",
      " 50.92224577 54.13772805], MSE = 4062258377.337333, Bias = -69218.34638193001, Epochs = 36\n",
      "Gradients = [46.44266555 48.40762452 52.44047    49.44657497 53.4451786  47.44394174\n",
      " 52.39790079 55.61659922], MSE = 4292133473.6056776, Bias = -71155.05075197249, Epochs = 35\n",
      "Gradients = [47.96031173 49.9247554  53.9580839  50.96427865 54.93344997 48.96160669\n",
      " 53.91488866 57.13680325], MSE = 4535178457.037192, Bias = -73147.12217616252, Epochs = 34\n",
      "Gradients = [49.52047241 51.48440076 55.51821228 52.52449681 56.46423583 50.52178613\n",
      " 55.47439103 58.69952177], MSE = 4792152428.417604, Bias = -75196.14350202854, Epochs = 33\n",
      "Gradients = [51.12436298 53.08777603 57.12207057 54.12844488 58.0387516  52.12569547\n",
      " 57.0776233  60.30597019], MSE = 5063858376.459718, Bias = -77303.74282794853, Epochs = 32\n",
      "Gradients = [52.77323363 54.73613136 58.77090893 55.77737301 59.65824744 53.77458488\n",
      " 58.72583564 61.95739869], MSE = 5351145719.118008, Bias = -79471.59479679525, Epochs = 31\n",
      "Gradients = [54.46837024 56.43075267 60.46601325 57.47256712 61.32400924 55.46974026\n",
      " 60.42031395 63.65509315], MSE = 5654912992.169681, Bias = -81701.42192655923, Epochs = 30\n",
      "Gradients = [56.21109549 58.1729626  62.20870621 59.21534986 63.03735968 57.21248428\n",
      " 62.16238089 65.40037624], MSE = 5976110693.600997, Bias = -83994.99597901858, Epochs = 29\n",
      "Gradients = [58.00276984 59.96412165 64.00034828 61.0070817  64.79965923 59.0041774\n",
      " 63.95339694 67.19460845], MSE = 6315744292.829933, Bias = -86354.139367528, Epochs = 28\n",
      "Gradients = [59.84479268 61.80562917 65.84233883 62.84916203 66.61230726 60.846219\n",
      " 65.79476147 69.03918913], MSE = 6674877414.321878, Bias = -88780.72660506594, Epochs = 27\n",
      "Gradients = [61.73860336 63.69892455 67.73611723 64.74303021 68.47674313 62.74004846\n",
      " 67.68791385 70.93555766], MSE = 7054635205.708434, Bias = -91276.68579366493, Epochs = 26\n",
      "Gradients = [63.68568243 65.64548831 69.683164   66.69016677 70.39444739 64.68714629\n",
      " 69.63433461 72.88519458], MSE = 7456207901.105705, Bias = -93844.00015643463, Epochs = 25\n",
      "Gradients = [65.68755272 67.64684329 71.68500201 68.69209455 72.36694288 66.68903535\n",
      " 71.6355466  74.88962272], MSE = 7880854590.948172, Bias = -96484.70961337307, Epochs = 24\n",
      "Gradients = [67.74578063 69.70455589 73.74319763 70.75037995 74.39579598 68.74728203\n",
      " 73.6931162  76.95040847], MSE = 8329907210.311801, Bias = -99200.91240223392, Epochs = 23\n",
      "Gradients = [69.86197732 71.82023727 75.85936203 72.86663413 76.48261785 70.86349748\n",
      " 75.80865458 79.06916301], MSE = 8804774758.392614, Bias = -101994.7667457306, Epochs = 22\n",
      "Gradients = [72.03780001 73.99554465 78.03515243 75.04251431 78.62906574 73.03933894\n",
      " 77.98381897 81.24754355], MSE = 9306947762.542076, Bias = -104868.49256640107, Epochs = 21\n",
      "Gradients = [74.27495331 76.23218264 80.27227345 77.27972511 80.83684423 75.27651101\n",
      " 80.22031396 83.4872547 ], MSE = 9838003001.039305, Bias = -107824.37325049337, Epochs = 20\n",
      "Gradients = [76.57519056 78.53190458 82.57247841 79.58001984 83.10770667 77.57676702\n",
      " 82.51989291 85.79004979], MSE = 10399608499.598747, Bias = -110864.75746229173, Epochs = 19\n",
      "Gradients = [78.94031521 80.89651392 84.93757077 81.94520199 85.44345652 79.94191044\n",
      " 84.88435925 88.15773229], MSE = 10993528817.485, Bias = -113992.06101029269, Epochs = 18\n",
      "Gradients = [81.37218229 83.32786569 87.36940556 84.37712655 87.84594878 82.37379629\n",
      " 87.31556802 90.59215722], MSE = 11621630640.02635, Bias = -117208.76876674836, Epochs = 17\n",
      "Gradients = [83.87269983 85.82786793 89.86989082 86.87770159 90.31709152 84.8743326\n",
      " 89.81542726 93.09523261], MSE = 12285888695.289139, Bias = -120517.43664207123, Epochs = 16\n",
      "Gradients = [86.44383045 88.39848323 92.44098914 89.4488897  92.85884733 87.44548198\n",
      " 92.38589957 95.66892107], MSE = 12988392013.710085, Bias = -123920.6936156991, Epochs = 15\n",
      "Gradients = [89.08759283 91.04173031 95.08471925 92.09270958 95.47323491 90.08926314\n",
      " 95.02900365 98.31524131], MSE = 13731350550.569115, Bias = -127421.24382500531, Epochs = 14\n",
      "Gradients = [ 91.80606341  93.75968558  97.80315754  94.81123765  98.16233068\n",
      "  92.80775248  97.74681593 101.03626974], MSE = 14517102192.340866, Bias = -131021.86871393675, Epochs = 13\n",
      "Gradients = [ 94.60137796  96.55448481 100.59843979  97.60660968 100.92827041\n",
      "  95.60308579 100.54147216 103.83414213], MSE = 15348120169.181602, Bias = -134725.4292430702, Epochs = 12\n",
      "Gradients = [ 97.4757333   99.42832485 103.47276285 100.48102252 103.77325095\n",
      "  98.47745991 103.4151692  106.71105532], MSE = 16227020897.10013, Bias = -138534.86816285897, Epochs = 11\n",
      "Gradients = [100.43138909 102.38346533 106.42838635 103.43673579 106.69953193\n",
      " 101.43313446 106.37016668 109.66926896], MSE = 17156572274.725363, Bias = -142453.21235185806, Epochs = 10\n",
      "Gradients = [103.47066955 105.42223048 109.46763452 106.47607375 109.70943758\n",
      " 104.47243369 109.40878884 112.71110727], MSE = 18139702461.028786, Bias = -146483.57522180324, Epochs = 9\n",
      "Gradients = [106.59596538 108.547011   112.59289806 109.60142707 112.8053586\n",
      " 107.59774828 112.53342636 115.83896094], MSE = 19179509161.888695, Bias = -150629.15919144236, Epochs = 8\n",
      "Gradients = [109.80973559 111.7602659  115.80663599 112.81525477 115.98975401\n",
      " 110.81153727 115.74653827 119.055289  ], MSE = 20279269454.998806, Bias = -154893.25823109056, Epochs = 7\n",
      "Gradients = [113.11450952 115.06452453 119.11137764 116.1200862  119.26515313\n",
      " 114.11632997 119.0506539  122.36262078], MSE = 21442450184.33651, Bias = -159279.26047992922, Epochs = 6\n",
      "Gradients = [116.51288882 118.46238851 122.50972464 119.51852298 122.63415761\n",
      " 117.51472803 122.44837489 125.76355792], MSE = 22672718957.214172, Bias = -163790.6509381326, Epochs = 5\n",
      "Gradients = [120.00754948 121.95653386 126.00435301 123.01324113 126.09944347\n",
      " 121.00940745 125.94237724 129.26077643], MSE = 23973955778.85511, Bias = -168431.01423595165, Epochs = 4\n",
      "Gradients = [123.60124403 125.5497131  129.59801527 126.60699317 129.66376321\n",
      " 124.60312077 129.53541349 132.85702883], MSE = 25350265361.45562, Bias = -173204.03748196652, Epochs = 3\n",
      "Gradients = [127.29680367 129.24475743 133.29354263 130.30261031 133.32994804\n",
      " 128.29869918 133.23031482 136.55514632], MSE = 26805990146.846687, Bias = -178113.5131927607, Epochs = 2\n",
      "Gradients = [131.09714055 133.04457901 137.09384722 134.10300468 137.10091012\n",
      " 132.09905483 137.0299934  140.35804105], MSE = 28345724084.130318, Bias = -183163.3423063497, Epochs = 1\n"
     ]
    }
   ],
   "source": [
    "\n",
    "weightVector = [0,2,6,3,9,1,6,9]\n",
    "# weightVector = [3.00457261, 2.95252637, 3.00131157, 3.01037924, 0.03771698, 3.00646812, 2.93808376, 3.26291526]\n",
    "# bias = 58.14278424722529\n",
    "\n",
    "bias = 1\n",
    "# meanSquaredError = None\n",
    "GradientDescentAlgorithm2 (weightVector, bias, xTrain, yTrain, 102, MSE=None)"
   ]
  },
  {
   "cell_type": "code",
   "execution_count": 749,
   "metadata": {},
   "outputs": [],
   "source": [
    "from sklearn.linear_model import LinearRegression\n",
    "from sklearn.metrics import mean_squared_error, r2_score, accuracy_score, confusion_matrix"
   ]
  },
  {
   "cell_type": "code",
   "execution_count": 754,
   "metadata": {},
   "outputs": [
    {
     "name": "stdout",
     "output_type": "stream",
     "text": [
      "Mean Squared Error: 1.33\n",
      "R-squared: -0.00\n",
      "Coefficients: [ 9.08088568e-04  1.08044086e-03  8.15735981e-05 -1.76691379e-02\n",
      "  7.72817071e-06 -1.21425485e-03  9.35981575e-03  4.28691935e-03]\n",
      "Intercept: 2.2283226938532197\n"
     ]
    },
    {
     "data": {
      "image/png": "[encoded data removed]",
      "text/plain": [
       "<Figure size 800x600 with 1 Axes>"
      ]
     },
     "metadata": {},
     "output_type": "display_data"
    }
   ],
   "source": [
    "# Create a linear regression model\n",
    "model = LinearRegression()\n",
    "\n",
    "# Fit the model to the training data\n",
    "model.fit(xTrain, yTrain)\n",
    "\n",
    "# Make predictions on the test data\n",
    "y_pred = model.predict(xTest)\n",
    "\n",
    "# Evaluate the model\n",
    "mse = mean_squared_error(yTest, y_pred)\n",
    "r2 = r2_score(yTest, y_pred)\n",
    "\n",
    "# Print the results\n",
    "print(f\"Mean Squared Error: {mse:.2f}\")\n",
    "print(f\"R-squared: {r2:.2f}\")\n",
    "\n",
    "# Coefficients and intercept\n",
    "print(\"Coefficients:\", model.coef_)\n",
    "print(\"Intercept:\", model.intercept_)\n",
    "\n",
    "# Evaluate the model with accuracy\n",
    "# accuracy = accuracy_score(yTest, y_pred)\n",
    "\n",
    "# Calculate the confusion matrix\n",
    "# conf_matrix = confusion_matrix(yTest, y_pred)\n",
    "\n",
    "# Print accuracy and confusion matrix\n",
    "# print(f\"Accuracy: {accuracy:.2f}\")\n",
    "# print(\"Confusion Matrix:\\n\", conf_matrix)\n",
    "\n",
    "# Scatter plot to visualize predictions\n",
    "plt.figure(figsize=(8, 6))\n",
    "plt.scatter(yTest, y_pred)\n",
    "plt.xlabel(\"True Values\")\n",
    "plt.ylabel(\"Predictions\")\n",
    "plt.title(\"True vs. Predicted Values\")\n",
    "plt.grid(True)\n",
    "plt.show()\n"
   ]
  },
  {
   "cell_type": "markdown",
   "metadata": {},
   "source": [
    "6: Application of linear classification (Optional):"
   ]
  },
  {
   "cell_type": "markdown",
   "metadata": {},
   "source": [
    "Apply linear classification on the Iris dataset. Code everything from scratch in this task. You can use\n",
    "any functions that you have developed in the previous parts here"
   ]
  },
  {
   "cell_type": "code",
   "execution_count": 756,
   "metadata": {},
   "outputs": [
    {
     "data": {
      "text/plain": [
       "dict_keys(['data', 'target', 'frame', 'target_names', 'DESCR', 'feature_names', 'filename', 'data_module'])"
      ]
     },
     "execution_count": 756,
     "metadata": {},
     "output_type": "execute_result"
    }
   ],
   "source": [
    "iris = datasets.load_iris()\n",
    "iris.keys()"
   ]
  },
  {
   "cell_type": "code",
   "execution_count": 760,
   "metadata": {},
   "outputs": [],
   "source": [
    "from sklearn.linear_model import LogisticRegression\n",
    "from sklearn.metrics import accuracy_score, classification_report, confusion_matrix\n"
   ]
  },
  {
   "cell_type": "code",
   "execution_count": 763,
   "metadata": {},
   "outputs": [
    {
     "data": {
      "text/plain": [
       "dict_keys(['data', 'target', 'frame', 'target_names', 'DESCR', 'feature_names', 'filename', 'data_module'])"
      ]
     },
     "execution_count": 763,
     "metadata": {},
     "output_type": "execute_result"
    }
   ],
   "source": [
    "iris.keys()"
   ]
  },
  {
   "cell_type": "code",
   "execution_count": 766,
   "metadata": {},
   "outputs": [
    {
     "name": "stdout",
     "output_type": "stream",
     "text": [
      "Accuracy: 1.00\n",
      "Confusion Matrix:\n",
      " [[10  0  0]\n",
      " [ 0  9  0]\n",
      " [ 0  0 11]]\n",
      "Classification Report:\n",
      "               precision    recall  f1-score   support\n",
      "\n",
      "           0       1.00      1.00      1.00        10\n",
      "           1       1.00      1.00      1.00         9\n",
      "           2       1.00      1.00      1.00        11\n",
      "\n",
      "    accuracy                           1.00        30\n",
      "   macro avg       1.00      1.00      1.00        30\n",
      "weighted avg       1.00      1.00      1.00        30\n",
      "\n"
     ]
    }
   ],
   "source": [
    "X = iris.data\n",
    "y = iris.target\n",
    "\n",
    "# Split the data into training and testing sets\n",
    "X_train, X_test, y_train, y_test = train_test_split(X, y, test_size=0.2, random_state=42)\n",
    "\n",
    "# Create a Logistic Regression model\n",
    "model = LogisticRegression(max_iter=1000, multi_class='multinomial', solver='lbfgs')\n",
    "\n",
    "# Fit the model to the training data\n",
    "model.fit(X_train, y_train)\n",
    "\n",
    "# Make predictions on the test data\n",
    "y_pred = model.predict(X_test)\n",
    "\n",
    "# Evaluate the model with accuracy and other metrics\n",
    "accuracy = accuracy_score(y_test, y_pred)\n",
    "conf_matrix = confusion_matrix(y_test, y_pred)\n",
    "classification_rep = classification_report(y_test, y_pred)\n",
    "\n",
    "# Print the results\n",
    "print(f\"Accuracy: {accuracy:.2f}\")\n",
    "print(\"Confusion Matrix:\\n\", conf_matrix)\n",
    "print(\"Classification Report:\\n\", classification_rep)"
   ]
  }
 ],
 "metadata": {
  "kernelspec": {
   "display_name": "Python 3",
   "language": "python",
   "name": "python3"
  },
  "language_info": {
   "codemirror_mode": {
    "name": "ipython",
    "version": 3
   },
   "file_extension": ".py",
   "mimetype": "text/x-python",
   "name": "python",
   "nbconvert_exporter": "python",
   "pygments_lexer": "ipython3",
   "version": "3.11.4"
  },
  "orig_nbformat": 4
 },
 "nbformat": 4,
 "nbformat_minor": 2
}
