{
 "cells": [
  {
   "cell_type": "code",
   "execution_count": 365,
   "metadata": {},
   "outputs": [],
   "source": [
    "import numpy as np\n",
    "import math\n",
    "import time\n",
    "import random\n",
    "import sympy #pip install sympy"
   ]
  },
  {
   "cell_type": "markdown",
   "metadata": {},
   "source": [
    "Reshaping arrays with NumPy\n",
    "\n",
    "a) Create a function that takes a NumPy array of shape (length,width,height) and converts it in to a\n",
    "vector of shape (length*width*height,1). Use the function array.reshape() for this"
   ]
  },
  {
   "cell_type": "code",
   "execution_count": 3,
   "metadata": {},
   "outputs": [
    {
     "data": {
      "text/plain": [
       "array([[[ 0,  1],\n",
       "        [ 2,  3],\n",
       "        [ 4,  5],\n",
       "        [ 6,  7]],\n",
       "\n",
       "       [[ 8,  9],\n",
       "        [10, 11],\n",
       "        [12, 13],\n",
       "        [14, 15]]])"
      ]
     },
     "execution_count": 3,
     "metadata": {},
     "output_type": "execute_result"
    }
   ],
   "source": [
    "a = np.arange(0, 16).reshape(2,4,2)\n",
    "a"
   ]
  },
  {
   "cell_type": "code",
   "execution_count": 6,
   "metadata": {},
   "outputs": [
    {
     "data": {
      "text/plain": [
       "array([[ 0],\n",
       "       [ 1],\n",
       "       [ 2],\n",
       "       [ 3],\n",
       "       [ 4],\n",
       "       [ 5],\n",
       "       [ 6],\n",
       "       [ 7],\n",
       "       [ 8],\n",
       "       [ 9],\n",
       "       [10],\n",
       "       [11],\n",
       "       [12],\n",
       "       [13],\n",
       "       [14],\n",
       "       [15]])"
      ]
     },
     "execution_count": 6,
     "metadata": {},
     "output_type": "execute_result"
    }
   ],
   "source": [
    "a.reshape(-1,1)"
   ]
  },
  {
   "cell_type": "markdown",
   "metadata": {},
   "source": [
    " Building a basic mathematical function with NumPy:"
   ]
  },
  {
   "cell_type": "markdown",
   "metadata": {},
   "source": [
    "a) Write a function that returns the sigmoid of a real number x. Use math.exp(x) for the exponential\n",
    "function. Sigmoid(x)=1/(1+exp(-x))"
   ]
  },
  {
   "cell_type": "code",
   "execution_count": 16,
   "metadata": {},
   "outputs": [
    {
     "name": "stdout",
     "output_type": "stream",
     "text": [
      "0.7310585786300049\n"
     ]
    }
   ],
   "source": [
    "def calculateSigmoid (number):\n",
    "    return 1/(1 + math.exp(-number))\n",
    "\n",
    "number = float(input(\"Enter the number: \"))\n",
    "print(calculateSigmoid(number))"
   ]
  },
  {
   "cell_type": "markdown",
   "metadata": {},
   "source": [
    "b) Now create a list of 5 values and call your sigmoid function with the list as input. You will get an\n",
    "error because math.exp() only works when input is a real number. It does not work with vectors\n",
    "and matrices. Now create a new function for sigmoid but this time use np.exp() instead of\n",
    "math.exp(). Np.exp() works with all types of inputs including real numbers, vectors and matrices.\n",
    "In deep learning we mostly use matrices and vectors. This is why NumPy is more useful. Call your\n",
    "new function with a vector created by np.array() function"
   ]
  },
  {
   "cell_type": "code",
   "execution_count": null,
   "metadata": {},
   "outputs": [],
   "source": [
    "a = np.array([2,3,4,8,1,7])\n",
    "calculateSigmoid(a)\n"
   ]
  },
  {
   "cell_type": "code",
   "execution_count": 21,
   "metadata": {},
   "outputs": [],
   "source": [
    "def calculateSigmoid (number):\n",
    "    return 1/(1 + np.exp(-number))"
   ]
  },
  {
   "cell_type": "code",
   "execution_count": 22,
   "metadata": {},
   "outputs": [
    {
     "name": "stdout",
     "output_type": "stream",
     "text": [
      "[0.88079708 0.95257413 0.98201379 0.99966465 0.73105858 0.99908895]\n"
     ]
    }
   ],
   "source": [
    "print(calculateSigmoid(a))"
   ]
  },
  {
   "cell_type": "markdown",
   "metadata": {},
   "source": [
    "Normalizing matrices with NumPy"
   ]
  },
  {
   "cell_type": "markdown",
   "metadata": {},
   "source": [
    "Create a function that takes a NumPy matrix as input and returns the normalized by row NumPy\n",
    "matrix. Check if your function is working correctly by using suitable inputs."
   ]
  },
  {
   "cell_type": "code",
   "execution_count": 76,
   "metadata": {},
   "outputs": [],
   "source": [
    "def normalized (matrix):\n",
    "\n",
    "    sum = np.sum(matrix, 1)\n",
    "    print(sum, '\\n')\n",
    "    normalizedMatrix = matrix/sum.reshape(-1,1)\n",
    "    return np.round(normalizedMatrix, 2)\n",
    "\n",
    "    # these two words same, newaxis create new axis at the given position \"arr[:, np.newaxis, :].shape\"\n",
    "    # print(sum.reshape(-1,1))\n",
    "    # print(sum[:, np.newaxis])\n",
    "    "
   ]
  },
  {
   "cell_type": "code",
   "execution_count": 77,
   "metadata": {},
   "outputs": [
    {
     "name": "stdout",
     "output_type": "stream",
     "text": [
      "[[ 0  1  2  3]\n",
      " [ 4  5  6  7]\n",
      " [ 8  9 10 11]\n",
      " [12 13 14 15]] \n",
      "\n",
      "[ 6 22 38 54] \n",
      "\n",
      "[[0.   0.17 0.33 0.5 ]\n",
      " [0.18 0.23 0.27 0.32]\n",
      " [0.21 0.24 0.26 0.29]\n",
      " [0.22 0.24 0.26 0.28]]\n"
     ]
    }
   ],
   "source": [
    "a = np.arange(0,16).reshape(4,4)\n",
    "print(a,'\\n')\n",
    "print(normalized(a))"
   ]
  },
  {
   "cell_type": "markdown",
   "metadata": {},
   "source": [
    "Implementing a function on a matrix:"
   ]
  },
  {
   "cell_type": "markdown",
   "metadata": {},
   "source": [
    "Create a function that takes a matrix as input and returns the softmax (by row) of matrix. The softmax\n",
    "function is defined like this:\n",
    "𝑠𝑜𝑓𝑡𝑚𝑎𝑥(𝒙) = 𝑠𝑜𝑓𝑡𝑚𝑎𝑥([𝑥1 𝑥2 … 𝑥𝑛]) = [\n",
    "𝑒𝑥1\n",
    "∑𝑗 𝑒𝑥𝑗\n",
    "𝑒𝑥2\n",
    "∑𝑗 𝑒𝑥𝑗 …\n",
    "𝑒𝑥𝑛\n",
    "∑𝑗 𝑒𝑥𝑗]\n",
    "Check if your function is working correctly by using suitable inputs"
   ]
  },
  {
   "cell_type": "code",
   "execution_count": 117,
   "metadata": {},
   "outputs": [],
   "source": [
    "def calculateSoftmax(matrix):\n",
    "\n",
    "    expo = np.exp(matrix)\n",
    "    sum = np.sum(expo, 1)\n",
    "    softmatrix = matrix/sum\n",
    "    return softmatrix\n"
   ]
  },
  {
   "cell_type": "code",
   "execution_count": 118,
   "metadata": {},
   "outputs": [
    {
     "name": "stdout",
     "output_type": "stream",
     "text": [
      "[[ 0  1  2  3]\n",
      " [ 4  5  6  7]\n",
      " [ 8  9 10 11]\n",
      " [12 13 14 15]] \n",
      "\n",
      "[[0.00000000e+00 5.87173801e-04 2.15089266e-05 5.90924599e-07]\n",
      " [1.28234413e-01 2.93586900e-03 6.45267798e-05 1.37882406e-06]\n",
      " [2.56468826e-01 5.28456421e-03 1.07544633e-04 2.16672353e-06]\n",
      " [3.84703239e-01 7.63325941e-03 1.50562486e-04 2.95462299e-06]]\n"
     ]
    }
   ],
   "source": [
    "a = np.arange(0,16).reshape(4,4)\n",
    "print(a,'\\n')\n",
    "print(calculateSoftmax(a))"
   ]
  },
  {
   "cell_type": "markdown",
   "metadata": {},
   "source": [
    "5: Finding dot product using NumPy:"
   ]
  },
  {
   "cell_type": "markdown",
   "metadata": {},
   "source": [
    "a) Create a function that implements dot product of two vectors. The input to the function should\n",
    "be two standard python lists. Identify the time taken to evaluate the dot product using a\n",
    "particular example of your choice"
   ]
  },
  {
   "cell_type": "code",
   "execution_count": 155,
   "metadata": {},
   "outputs": [
    {
     "name": "stdout",
     "output_type": "stream",
     "text": [
      "Dot product is: 1981674965319,\n",
      " and total time is: 0.0,\n",
      " strat time is: 1695139319.2673278,\n",
      " and end time is: 1695139319.2673278\n"
     ]
    }
   ],
   "source": [
    "def calculateDotProduct (vector1, vector2):\n",
    "    dotProductValue = 0\n",
    "    for i in range(10):\n",
    "        product = vector1[i] * vector2[i]\n",
    "        dotProductValue = dotProductValue + product\n",
    "    return dotProductValue\n",
    "\n",
    "\n",
    "vector1 = [random.randint(0, 1000000) for _ in range(100000)]\n",
    "vector2 = [random.randint(0, 1000000) for _ in range(100000)]\n",
    "\n",
    "# print(vector1)\n",
    "# print(vector2, '\\n')\n",
    "\n",
    "\n",
    "startTime = time.time()\n",
    "dotProductValue = calculateDotProduct(vector1, vector2)\n",
    "endTime = time.time()\n",
    "totalTime = endTime - startTime\n",
    "\n",
    "print(f'Dot product is: {dotProductValue},\\n and total time is: {totalTime},\\n strat time is: {startTime},\\n and end time is: {endTime}')"
   ]
  },
  {
   "cell_type": "markdown",
   "metadata": {},
   "source": [
    "b) Now create another function that implements dot product of two vectors using np.dot() function.\n",
    "Identify the time taken to evaluate this dot product and compare it with the time taken in part\n",
    "a"
   ]
  },
  {
   "cell_type": "code",
   "execution_count": 154,
   "metadata": {},
   "outputs": [
    {
     "name": "stdout",
     "output_type": "stream",
     "text": [
      "start time is: 1695139296.8215709,\n",
      " and end time is 1695139296.8215709,\n",
      " and total time is: 0.0,\n",
      " and dot product is: 28500\n"
     ]
    }
   ],
   "source": [
    "vector1 = np.arange(0, 100, 10)\n",
    "vector2 = np.arange(0, 100, 10)\n",
    "\n",
    "start = time.time()\n",
    "\n",
    "dotProductValue = vector1.dot(vector2)\n",
    "end = time.time()\n",
    "\n",
    "print(f'start time is: {start},\\n and end time is {end},\\n and total time is: {end-start},\\n and dot product is: {dotProductValue}')\n",
    "\n"
   ]
  },
  {
   "cell_type": "markdown",
   "metadata": {},
   "source": [
    "6:  Finding outer product using NumPy"
   ]
  },
  {
   "cell_type": "markdown",
   "metadata": {},
   "source": [
    "If u and v are column vectors with the same size, then uT v is the inner product of u and v; if u and v are column vectors of any size, then uvT is the outer product of u and v."
   ]
  },
  {
   "cell_type": "markdown",
   "metadata": {},
   "source": [
    "a) Create a function that implements outer product of two vectors. The input to the function should\n",
    "be two standard python lists. Identify the time taken to evaluate the outer product using a\n",
    "particular example of your choice."
   ]
  },
  {
   "cell_type": "code",
   "execution_count": 163,
   "metadata": {},
   "outputs": [
    {
     "name": "stdout",
     "output_type": "stream",
     "text": [
      "Dot product is: 2573344486199,\n",
      " and total time is: 0.0,\n",
      " strat time is: 1695140183.16291,\n",
      " and end time is: 1695140183.16291\n"
     ]
    }
   ],
   "source": [
    "def calculateDotProduct (vector1, vector2):\n",
    "    dotProductValue = 0\n",
    "    for i in range(10):\n",
    "        product = vector1[i] * vector2[i]\n",
    "        dotProductValue = dotProductValue + product\n",
    "    return dotProductValue\n",
    "\n",
    "\n",
    "vector1 = [random.randint(0, 1000000) for _ in range(100000)]\n",
    "vector2 = [random.randint(0, 1000000) for _ in range(100000)]\n",
    "\n",
    "# print(vector1)\n",
    "# print(vector2, '\\n')\n",
    "\n",
    "\n",
    "startTime = time.time()\n",
    "dotProductValue = calculateDotProduct(vector1, vector2)\n",
    "endTime = time.time()\n",
    "totalTime = endTime - startTime\n",
    "\n",
    "print(f'Dot product is: {dotProductValue},\\n and total time is: {totalTime},\\n strat time is: {startTime},\\n and end time is: {endTime}')"
   ]
  },
  {
   "cell_type": "markdown",
   "metadata": {},
   "source": [
    "b) Now create another function that implements outer product of two vectors using np.outer()\n",
    "function. Identify the time taken to evaluate this dot product and compare it with the time taken\n",
    "in part a"
   ]
  },
  {
   "cell_type": "code",
   "execution_count": 177,
   "metadata": {},
   "outputs": [
    {
     "name": "stdout",
     "output_type": "stream",
     "text": [
      "(10, 1)\n",
      "start time is: 1695140644.103041,\n",
      " and end time is 1695140644.103041,\n",
      " and total time is: 0.0,\n",
      " and dot product is: [[   0    0    0    0    0    0    0    0    0    0]\n",
      " [   0  100  200  300  400  500  600  700  800  900]\n",
      " [   0  200  400  600  800 1000 1200 1400 1600 1800]\n",
      " [   0  300  600  900 1200 1500 1800 2100 2400 2700]\n",
      " [   0  400  800 1200 1600 2000 2400 2800 3200 3600]\n",
      " [   0  500 1000 1500 2000 2500 3000 3500 4000 4500]\n",
      " [   0  600 1200 1800 2400 3000 3600 4200 4800 5400]\n",
      " [   0  700 1400 2100 2800 3500 4200 4900 5600 6300]\n",
      " [   0  800 1600 2400 3200 4000 4800 5600 6400 7200]\n",
      " [   0  900 1800 2700 3600 4500 5400 6300 7200 8100]]\n"
     ]
    }
   ],
   "source": [
    "vector1 = np.arange(0, 100, 10).reshape(-1,1)\n",
    "vector2 = np.arange(0, 100, 10).reshape(-1,1)\n",
    "\n",
    "print(vector1.shape)\n",
    "start = time.time()\n",
    "\n",
    "dotProductValue = np.outer(vector1, vector2)\n",
    "end = time.time()\n",
    "\n",
    "print(f'start time is: {start},\\n and end time is {end},\\n and total time is: {end-start},\\n and dot product is: {dotProductValue}')\n",
    "\n"
   ]
  },
  {
   "cell_type": "markdown",
   "metadata": {},
   "source": [
    "7: Defining Loss Functions:"
   ]
  },
  {
   "cell_type": "markdown",
   "metadata": {},
   "source": [
    "a) Create a function that takes two vectors in the form of standard python lists and returns the L1\n",
    "loss according to the above formula.:"
   ]
  },
  {
   "cell_type": "code",
   "execution_count": 179,
   "metadata": {},
   "outputs": [
    {
     "name": "stdout",
     "output_type": "stream",
     "text": [
      "[44, 18, 55, 99, 43, 77, 81, 57, 59, 55]\n",
      "[79, 60, 15, 18, 63, 1, 5, 65, 44, 5]\n",
      "Loss is: 23.3\n"
     ]
    }
   ],
   "source": [
    "def calculateL1Loss (vector1, vector2):\n",
    "    loss = 0\n",
    "    for i in range(len(vector1)):\n",
    "        ls = vector1[i] - vector2[i]\n",
    "        loss = loss + ls\n",
    "    return loss/len(vector1)\n",
    "\n",
    "vector1 = [random.randint(0, 100) for _ in range(10)]\n",
    "vector2 = [random.randint(0, 100) for _ in range(10)]\n",
    "\n",
    "print(vector1)\n",
    "print(vector2)\n",
    "\n",
    "print(f\"Loss is: {calculateL1Loss(vector1, vector2)}\")"
   ]
  },
  {
   "cell_type": "markdown",
   "metadata": {},
   "source": [
    "b)  Now create another function that returns L1 loss but uses NumPy arrays instead of standard\n",
    "python list. Compare the two approaches."
   ]
  },
  {
   "cell_type": "code",
   "execution_count": 182,
   "metadata": {},
   "outputs": [
    {
     "name": "stdout",
     "output_type": "stream",
     "text": [
      "[59 16 15 59 77 73 34 21 86 14]\n",
      "[74 76 78 11 64 67 99 16 11 45]\n",
      "Loss is: -8.7\n"
     ]
    }
   ],
   "source": [
    "def calculateL1Loss (vector1, vector2):\n",
    "    loss = 0\n",
    "    for i in range(len(vector1)):\n",
    "        ls = vector1[i] - vector2[i]\n",
    "        loss = loss + ls\n",
    "    return loss/len(vector1)\n",
    "\n",
    "vector1 = np.random.randint(0, 100, 10)\n",
    "vector2 = np.random.randint(0, 100, 10)\n",
    "\n",
    "print(vector1)\n",
    "print(vector2)\n",
    "\n",
    "print(f\"Loss is: {calculateL1Loss(vector1, vector2)}\")"
   ]
  },
  {
   "cell_type": "markdown",
   "metadata": {},
   "source": [
    "c) Create a function that takes two vectors in the form of standard python lists and returns the L2\n",
    "loss according to the above formula."
   ]
  },
  {
   "cell_type": "code",
   "execution_count": 213,
   "metadata": {},
   "outputs": [
    {
     "name": "stdout",
     "output_type": "stream",
     "text": [
      "[59, 77, 49, 66, 87, 89, 88, 21, 75, 32]\n",
      "[95, 10, 25, 85, 39, 63, 64, 51, 75, 62]\n",
      "Loss is: 1207.8\n"
     ]
    }
   ],
   "source": [
    "def calculateL1Loss (vector1, vector2):\n",
    "    loss = 0\n",
    "    for i in range(len(vector1)):\n",
    "        ls = vector1[i] - vector2[i]\n",
    "        loss = loss + (ls**2)\n",
    "    return loss/len(vector1)\n",
    "\n",
    "vector1 = [random.randint(0, 100) for _ in range(10)]\n",
    "vector2 = [random.randint(0, 100) for _ in range(10)]\n",
    "\n",
    "print(vector1)\n",
    "print(vector2)\n",
    "\n",
    "print(f\"Loss is: {calculateL1Loss(vector1, vector2)}\")"
   ]
  },
  {
   "cell_type": "markdown",
   "metadata": {},
   "source": [
    "d) Now create another function that returns L2 loss but uses NumPy arrays instead of standard\n",
    "python list. Compare the two approaches"
   ]
  },
  {
   "cell_type": "code",
   "execution_count": 218,
   "metadata": {},
   "outputs": [
    {
     "name": "stdout",
     "output_type": "stream",
     "text": [
      "[95 67 46  5 92 45  2 79 96 83]\n",
      "[12 48 29  0 40 94 89  6 45  8]\n",
      "Loss is: 3379.3\n"
     ]
    }
   ],
   "source": [
    "def calculateL1Loss (vector1, vector2):\n",
    "    loss = 0\n",
    "    for i in range(len(vector1)):\n",
    "        ls = vector1[i] - vector2[i]\n",
    "        loss = loss + (ls**2)\n",
    "    return loss/len(vector1)\n",
    "\n",
    "vector1 = np.random.randint(0, 100, 10)\n",
    "vector2 = np.random.randint(0, 100, 10)\n",
    "\n",
    "print(vector1)\n",
    "print(vector2)\n",
    "\n",
    "print(f\"Loss is: {calculateL1Loss(vector1, vector2)}\")"
   ]
  },
  {
   "cell_type": "markdown",
   "metadata": {},
   "source": [
    "8:  Perform Matrix and Matrix Addition:"
   ]
  },
  {
   "cell_type": "markdown",
   "metadata": {},
   "source": [
    "a) Create a function that performs matrix and matrix addition by using standard python data\n",
    "structures only"
   ]
  },
  {
   "cell_type": "code",
   "execution_count": 241,
   "metadata": {},
   "outputs": [],
   "source": [
    "def matrixAddition (matrix1, matrix2):\n",
    "    if len(matrix1) != len(matrix2) or len(matrix1[0]) != len(matrix2[0]):\n",
    "        return print(\"Invalde matrix for multiplication\")\n",
    "    \n",
    "    numberOfRows = len(matrix1)\n",
    "    numberOfColumns = len(matrix1[0])\n",
    "\n",
    "    # print(numberOfRows, numberOfColumns)\n",
    "\n",
    "    resultantMatrix = [[0 for _ in range(numberOfColumns)] for _ in range(numberOfRows)]\n",
    "\n",
    "    # print(resultantMatrix)\n",
    "\n",
    "    for i in range(numberOfRows):\n",
    "        for j in range(numberOfColumns):\n",
    "            resultantMatrix[i][j] = matrix1[i][j] + matrix2[i][j]\n",
    "\n",
    "    return resultantMatrix\n",
    "\n",
    "    # print(numberOfRows, numberOfColumns)"
   ]
  },
  {
   "cell_type": "code",
   "execution_count": 243,
   "metadata": {},
   "outputs": [
    {
     "name": "stdout",
     "output_type": "stream",
     "text": [
      "[3, 15, 4]\n",
      "[3, 6, 15]\n",
      "[8, 3, 17]\n"
     ]
    }
   ],
   "source": [
    "matrix1 = [[1,7,3], [2,5,11], [4,1,8]]\n",
    "matrix2 = [[2,8,1], [1,1,4], [4,2,9]]\n",
    "\n",
    "finalMatrix = matrixAddition(matrix1, matrix2)\n",
    "\n",
    "for row in finalMatrix:\n",
    "    print(row)"
   ]
  },
  {
   "cell_type": "markdown",
   "metadata": {},
   "source": [
    "b) Create a function that performs matrix and matrix addition by using NumPy arrays."
   ]
  },
  {
   "cell_type": "code",
   "execution_count": 248,
   "metadata": {},
   "outputs": [
    {
     "name": "stdout",
     "output_type": "stream",
     "text": [
      "[[4 8 1]\n",
      " [1 6 0]\n",
      " [5 1 5]] \n",
      "\n",
      "[[0 7 7]\n",
      " [8 7 2]\n",
      " [9 6 8]] \n",
      "\n",
      "[[ 4 15  8]\n",
      " [ 9 13  2]\n",
      " [14  7 13]]\n"
     ]
    }
   ],
   "source": [
    "matrix1 = np.random.randint(0, 10, 9).reshape(3,3)\n",
    "matrix2 = np.random.randint(0, 10, 9).reshape(3,3)\n",
    "\n",
    "print(matrix1, '\\n')\n",
    "print(matrix2,'\\n')\n",
    "\n",
    "result = matrix1 + matrix2\n",
    "\n",
    "print(result)\n"
   ]
  },
  {
   "cell_type": "markdown",
   "metadata": {},
   "source": [
    "9: Perform Matrix and Vector Multiplication"
   ]
  },
  {
   "cell_type": "markdown",
   "metadata": {},
   "source": [
    "c) Create a function that performs matrix and vector multiplication by using standard python data\n",
    "structures only"
   ]
  },
  {
   "cell_type": "code",
   "execution_count": 270,
   "metadata": {},
   "outputs": [],
   "source": [
    "def multiplication (matrix, vector):\n",
    "\n",
    "    if len(matrix) != len(vector):\n",
    "        raise \"Go back, not possible\"\n",
    "\n",
    "    numberOfRows = len(matrix)\n",
    "    numberOfColumns = len(vector)\n",
    "\n",
    "    nullMatrix = [[0 for _ in range(numberOfColumns)] for _ in range(numberOfRows)]\n",
    "\n",
    "    for i in range(numberOfColumns):\n",
    "        for j in range(numberOfRows):\n",
    "            nullMatrix[i][j] = matrix[i][j] * vector[j]\n",
    "\n",
    "    return nullMatrix\n"
   ]
  },
  {
   "cell_type": "code",
   "execution_count": 272,
   "metadata": {},
   "outputs": [
    {
     "name": "stdout",
     "output_type": "stream",
     "text": [
      "[2, 56, 3]\n",
      "[4, 40, 11]\n",
      "[8, 8, 8]\n"
     ]
    }
   ],
   "source": [
    "matrix = [[1,7,3], \n",
    "          [2,5,11],\n",
    "          [4,1,8]]\n",
    "vector = [2,8,1]\n",
    "\n",
    "\n",
    "result = multiplication (matrix, vector)\n",
    "for row in result:\n",
    "    print(row)"
   ]
  },
  {
   "cell_type": "markdown",
   "metadata": {},
   "source": [
    "d) Create a function that performs matrix and vector multiplication by using NumPy arrays."
   ]
  },
  {
   "cell_type": "code",
   "execution_count": 277,
   "metadata": {},
   "outputs": [
    {
     "name": "stdout",
     "output_type": "stream",
     "text": [
      "[[2 8 6]\n",
      " [2 0 5]\n",
      " [9 1 5]]\n",
      "[[5]\n",
      " [5]\n",
      " [9]]\n",
      "[[ 67]\n",
      " [134]\n",
      " [ 97]]\n"
     ]
    }
   ],
   "source": [
    "matrix1 = np.random.randint(0, 10, 9).reshape(3,3)\n",
    "vector = np.random.randint(0, 10, 3).reshape(3,1)\n",
    "\n",
    "print(matrix1)\n",
    "print(vector)\n",
    "\n",
    "result = np.dot(matrix, vector)\n",
    "\n",
    "print(result)\n"
   ]
  },
  {
   "cell_type": "markdown",
   "metadata": {},
   "source": [
    "10: Perform Matrix and Matrix Multiplication:"
   ]
  },
  {
   "cell_type": "markdown",
   "metadata": {},
   "source": [
    "e) Create a function that performs matrix and matrix multiplication by using standard python data\n",
    "structures only."
   ]
  },
  {
   "cell_type": "code",
   "execution_count": 278,
   "metadata": {},
   "outputs": [],
   "source": [
    "def multiplication (matrix1, matrix2):\n",
    "\n",
    "    if len(matrix1) != len(matrix2) or len(matrix1[0]) != len(matrix2[0]):\n",
    "        raise \"Go back, not possible\"\n",
    "\n",
    "    numberOfRows = len(matrix1)\n",
    "    numberOfColumns = len(matrix2)\n",
    "\n",
    "    nullMatrix = [[0 for _ in range(numberOfColumns)] for _ in range(numberOfRows)]\n",
    "\n",
    "    for i in range(numberOfColumns):\n",
    "        for j in range(numberOfRows):\n",
    "            nullMatrix[i][j] = matrix1[i][j] * matrix2[i][j]\n",
    "\n",
    "    return nullMatrix\n"
   ]
  },
  {
   "cell_type": "code",
   "execution_count": 280,
   "metadata": {},
   "outputs": [
    {
     "name": "stdout",
     "output_type": "stream",
     "text": [
      "[1, 7, 3]\n",
      "[2, 5, 11]\n",
      "[4, 1, 8]\n",
      "\n",
      "\n",
      "[2, 1, 4]\n",
      "[9, 3, 6]\n",
      "[2, 8, 1]\n",
      "\n",
      "\n",
      "[2, 7, 12]\n",
      "[18, 15, 66]\n",
      "[8, 8, 8]\n"
     ]
    }
   ],
   "source": [
    "matrix1 = [[1,7,3], [2,5,11], [4,1,8]]\n",
    "matrix2 = [[2,1,4], [9,3,6], [2,8,1]]\n",
    "\n",
    "for row in matrix1:\n",
    "    print(row)\n",
    "print('\\n')\n",
    "for row in matrix2:\n",
    "    print(row)\n",
    "print('\\n')\n",
    "\n",
    "\n",
    "result = multiplication (matrix1, matrix2)\n",
    "for row in result:\n",
    "    print(row)"
   ]
  },
  {
   "cell_type": "markdown",
   "metadata": {},
   "source": [
    "f) Create a function that performs matrix and matrix multiplication by using NumPy arrays."
   ]
  },
  {
   "cell_type": "code",
   "execution_count": 282,
   "metadata": {},
   "outputs": [
    {
     "name": "stdout",
     "output_type": "stream",
     "text": [
      "[[4 3 6]\n",
      " [2 1 4]\n",
      " [7 0 9]]\n",
      "\n",
      "\n",
      "[[0 7 8]\n",
      " [4 5 1]\n",
      " [7 1 1]]\n",
      "\n",
      "\n",
      "[[54 49 41]\n",
      " [32 23 21]\n",
      " [63 58 65]]\n"
     ]
    }
   ],
   "source": [
    "matrix1 = np.random.randint(0, 10, 9).reshape(3,3)\n",
    "matrix2 = np.random.randint(0, 10, 9).reshape(3,3)\n",
    "\n",
    "print(matrix1)\n",
    "print('\\n')\n",
    "print(matrix2)\n",
    "print('\\n')\n",
    "\n",
    "result = np.dot(matrix1, matrix2)\n",
    "\n",
    "print(result)\n"
   ]
  },
  {
   "cell_type": "markdown",
   "metadata": {},
   "source": [
    "11:  Finding RREF of a Matrix"
   ]
  },
  {
   "cell_type": "markdown",
   "metadata": {},
   "source": [
    "Create a function that takes a matrix as input and returns its RREF. Try both standard python and\n",
    "numpy approach."
   ]
  },
  {
   "cell_type": "code",
   "execution_count": 356,
   "metadata": {},
   "outputs": [
    {
     "name": "stdout",
     "output_type": "stream",
     "text": [
      "[0, 2, 3]\n",
      "[4, 5, 6]\n",
      "[7, 8, 9]\n",
      "\n",
      "\n",
      "[4, 5, 6]\n",
      "[0, 2, 3]\n",
      "[7, 8, 9]\n",
      "\n",
      "\n",
      "[1.0, 1.25, 1.5]\n",
      "[0, 2, 3]\n",
      "[7, 8, 9]\n",
      "\n",
      "\n",
      "[1.0, 1.25, 1.5]\n",
      "[0, 2, 3]\n",
      "[7, 8, 9]\n",
      "\n",
      "\n",
      "[1.0, 1.25, 1.5]\n",
      "[0, 2, 3]\n",
      "[0.0, -0.75, -1.5]\n",
      "\n",
      "\n",
      "[1.0, 1.25, 1.5]\n",
      "[0.0, 1.0, 1.5]\n",
      "[0.0, -0.75, -1.5]\n",
      "\n",
      "\n",
      "[1.0, 1.25, 1.5]\n",
      "[0.0, 1.0, 1.5]\n",
      "[0.0, 0.0, -0.375]\n",
      "\n",
      "\n",
      "[1.0, 1.25, 1.5]\n",
      "[0.0, 1.0, 1.5]\n",
      "[-0.0, -0.0, 1.0]\n"
     ]
    }
   ],
   "source": [
    "def rref (matrix):\n",
    "    if len(matrix) == 0:\n",
    "        raise \"Empty matrix\"\n",
    "\n",
    "    for row in matrix:\n",
    "        print(row)\n",
    "    print('\\n')\n",
    "    \n",
    "    steps = []\n",
    "\n",
    "    if matrix[0][0] == 0:\n",
    "\n",
    "        if matrix[1][0] != 0:\n",
    "            matrix[0], matrix[1] = matrix[1], matrix[0]\n",
    "            for row in matrix:\n",
    "                print(row)\n",
    "            print('\\n')\n",
    "            \n",
    "\n",
    "        elif matrix[2][0] != 0:\n",
    "            matrix[0], matrix[1] = matrix[1], matrix[0]\n",
    "            for row in matrix:\n",
    "                print(row)\n",
    "            print('\\n')\n",
    "            message = 'R1 is replaced with R3'\n",
    "            steps.append(message)\n",
    "        else:\n",
    "            for row in matrix:\n",
    "                print(row)\n",
    "            print('\\n')\n",
    "            return print(\"Matrix has 0 in its first column\")\n",
    "\n",
    "        \n",
    "    cofR1 = matrix[0][0]\n",
    "    noOfRows = len(matrix)\n",
    "    noOfColumns = len(matrix[0])\n",
    "    \n",
    "    for i in range(noOfRows):\n",
    "        matrix[0][i] = matrix[0][i]/cofR1\n",
    "\n",
    "    for row in matrix:\n",
    "        print(row)\n",
    "    print('\\n')\n",
    "    \n",
    "    if matrix[1][0] != 0:\n",
    "        cofR2 = matrix[1][0]\n",
    "        for i in range(noOfRows):\n",
    "            matrix[1][i] = matrix[1][i]-(cofR2*matrix[0][i])\n",
    "    \n",
    "    for row in matrix:\n",
    "        print(row)\n",
    "    print('\\n')\n",
    "\n",
    "    if matrix[2][0] != 0:\n",
    "        cofR3 = matrix[2][0]\n",
    "        for i in range(noOfRows):\n",
    "            matrix[2][i] = matrix[2][i]-(cofR3*matrix[0][i])\n",
    "\n",
    "    for row in matrix:\n",
    "        print(row)\n",
    "    print('\\n')\n",
    "\n",
    "    if matrix[1][1] != 1:\n",
    "        cofR11 = matrix[1][1]\n",
    "        for i in range(noOfRows):\n",
    "            matrix[1][i] = matrix[1][i]/cofR11\n",
    "\n",
    "        message = 'R1 is replaced with R2'\n",
    "        steps.append(message)\n",
    "\n",
    "    for row in matrix:\n",
    "        print(row)\n",
    "    print('\\n')\n",
    "    \n",
    "    if matrix[2][1] != 0:\n",
    "        cofR21 = matrix[2][1]\n",
    "        cofR11 = matrix[1][1]\n",
    "\n",
    "        for i in range(noOfRows):\n",
    "            matrix[2][i] = (cofR11*matrix[2][i])-(cofR21*matrix[1][i])\n",
    "\n",
    "    for row in matrix:\n",
    "        print(row)\n",
    "    print('\\n')\n",
    "\n",
    "    if matrix[2][2] != 1:\n",
    "        cofR22 = matrix[2][2]\n",
    "        for i in range(noOfRows):\n",
    "            matrix[2][i] = matrix[2][i]/(cofR22)\n",
    "\n",
    "\n",
    "    return (matrix)\n",
    "\n",
    "\n",
    "matrix = [[0,2,3], [4,5,6], [7,8,9]]\n",
    "for i in rref(matrix):\n",
    "    print(i)\n"
   ]
  },
  {
   "cell_type": "code",
   "execution_count": 380,
   "metadata": {},
   "outputs": [
    {
     "name": "stdout",
     "output_type": "stream",
     "text": [
      "(Matrix([\n",
      "[1, 0, 0],\n",
      "[0, 1, 0],\n",
      "[0, 0, 1]]), (0, 1, 2))\n",
      "Matrix([[1, 0, 0], [0, 1, 0], [0, 0, 1]])\n",
      "1\n",
      "0\n",
      "0\n",
      "0\n",
      "1\n",
      "0\n",
      "0\n",
      "0\n",
      "1\n"
     ]
    }
   ],
   "source": [
    "matrix = np.random.randint(1,10,9).reshape(3,3)\n",
    "result = sympy.Matrix(matrix).rref()\n",
    "\n",
    "# for row in result:\n",
    "#     print(row)\n",
    "\n",
    "print(result)\n",
    "print(result[0])\n",
    "for row in result[0]:\n",
    "    print(row)\n"
   ]
  },
  {
   "cell_type": "markdown",
   "metadata": {},
   "source": [
    "12: Solving a System of Linear Equations"
   ]
  },
  {
   "cell_type": "markdown",
   "metadata": {},
   "source": [
    "Create a function that takes a matrix A and a vector b as input and returns the exact solution of the\n",
    "following equation:\n",
    "𝑨𝒙 = 𝒃\n",
    "Try both standard python and numpy approach."
   ]
  },
  {
   "cell_type": "code",
   "execution_count": 382,
   "metadata": {},
   "outputs": [
    {
     "name": "stdout",
     "output_type": "stream",
     "text": [
      "(Matrix([\n",
      "[1, 0, 0,   4/7],\n",
      "[0, 1, 0,  25/7],\n",
      "[0, 0, 1, -27/7]]), (0, 1, 2))\n"
     ]
    }
   ],
   "source": [
    "matrix = np.random.randint(1,10,12).reshape(3,4)\n",
    "result = sympy.Matrix(matrix).rref()\n",
    "print(result)"
   ]
  },
  {
   "cell_type": "markdown",
   "metadata": {},
   "source": [
    "13:  Finding Eigenvalues and Eigenvectors:"
   ]
  },
  {
   "cell_type": "markdown",
   "metadata": {},
   "source": [
    "a) Create a function that takes a matrix as input and returns its eigenvalues. Try both standard\n",
    "python and numpy approach."
   ]
  },
  {
   "cell_type": "code",
   "execution_count": 391,
   "metadata": {},
   "outputs": [
    {
     "name": "stdout",
     "output_type": "stream",
     "text": [
      "[[8 9 7]\n",
      " [8 1 6]\n",
      " [3 6 7]] \n",
      "\n",
      "[18.38820904  2.74429598 -5.13250502]\n"
     ]
    }
   ],
   "source": [
    "matrix = np.random.randint(1,10,9).reshape(3,3)\n",
    "print(matrix, '\\n')\n",
    "\n",
    "eigenValues= np.linalg.eigvals(matrix)\n",
    "print(eigenValues)"
   ]
  },
  {
   "cell_type": "markdown",
   "metadata": {},
   "source": [
    "b) Create a function that takes a matrix as input and returns its eigenvectors. Try both standard\n",
    "python and numpy approach."
   ]
  },
  {
   "cell_type": "code",
   "execution_count": 407,
   "metadata": {},
   "outputs": [
    {
     "name": "stdout",
     "output_type": "stream",
     "text": [
      "[[9 9 9]\n",
      " [2 6 3]\n",
      " [3 1 6]] \n",
      "\n",
      "[[ 0.89762439  0.67942432 -0.61885275]\n",
      " [ 0.29920813  0.22647477 -0.30942637]\n",
      " [ 0.32364326 -0.69791961  0.72199487]]\n"
     ]
    }
   ],
   "source": [
    "matrix = np.random.randint(1,10,9).reshape(3,3)\n",
    "print(matrix, '\\n')\n",
    "\n",
    "eigenValues = np.linalg.eig(matrix)\n",
    "print(eigenValues[1])"
   ]
  },
  {
   "cell_type": "markdown",
   "metadata": {},
   "source": [
    "14:  Diagonalizing a Matrix:"
   ]
  },
  {
   "cell_type": "markdown",
   "metadata": {},
   "source": [
    "Create a function that takes a matrix A as input and returns the matrices D and P according to the\n",
    "following equation:\n",
    "𝐴 = 𝑃𝐷𝑃−1\n",
    "Where D is a diagonal matrix of eigenvalues of A and P is a matrix containing the corresponding\n",
    "eigenvectors in its columns. Try both standard python and numpy approach."
   ]
  },
  {
   "cell_type": "code",
   "execution_count": 414,
   "metadata": {},
   "outputs": [
    {
     "name": "stdout",
     "output_type": "stream",
     "text": [
      "[[5 4 1]\n",
      " [4 5 4]\n",
      " [6 5 8]] \n",
      "\n",
      "[13.71476601  2.744106    1.54112799] \n",
      "\n",
      " [[-0.3269393  -0.75296276  0.76279427]\n",
      " [-0.51404715  0.27521366 -0.598228  ]\n",
      " [-0.79301086  0.59774955 -0.24549575]]\n",
      "\n",
      " [5 5 8]\n",
      "\n",
      ",[[13.71476601  0.          0.        ]\n",
      " [ 0.          2.744106    0.        ]\n",
      " [ 0.          0.          1.54112799]]\n"
     ]
    }
   ],
   "source": [
    "matrix = np.random.randint(1,10,9).reshape(3,3)\n",
    "print(matrix, '\\n')\n",
    "\n",
    "eigenValues, eigenVectors = np.linalg.eig(matrix)\n",
    "diagonal = np.diag(matrix)\n",
    "diagonalMatrix = np.diag(eigenValues)\n",
    "print(f'{eigenValues} \\n\\n {eigenVectors}\\n\\n {diagonal}\\n\\n,{diagonalMatrix}' )"
   ]
  },
  {
   "cell_type": "markdown",
   "metadata": {},
   "source": [
    "15: Finding SVD of a Matrix:"
   ]
  },
  {
   "cell_type": "markdown",
   "metadata": {},
   "source": [
    "Create a function that takes a matrix A as input and returns its SVD. Try both standard python and\n",
    "numpy approach."
   ]
  },
  {
   "cell_type": "code",
   "execution_count": 422,
   "metadata": {},
   "outputs": [
    {
     "name": "stdout",
     "output_type": "stream",
     "text": [
      "[[5 7 7]\n",
      " [2 3 8]\n",
      " [7 5 3]] \n",
      "\n",
      "[[-0.69281453 -0.01372481 -0.7209852 ]\n",
      " [-0.49690565 -0.71546882  0.49111012]\n",
      " [-0.52258282  0.69850984  0.48886726]]\n",
      "\n",
      "[15.93860567  5.18894908  1.42676443]\n",
      "\n",
      "[[-0.50920161 -0.56173877 -0.65204545]\n",
      " [ 0.65331287  0.24090988 -0.71773583]\n",
      " [ 0.56026424 -0.79146193  0.24431947]]\n"
     ]
    }
   ],
   "source": [
    "matrix = np.random.randint(1,10,9).reshape(3,3)\n",
    "print(matrix, '\\n')\n",
    "\n",
    "s, v, d = np.linalg.svd(matrix)\n",
    "print(f'{s}\\n\\n{v}\\n\\n{d}')\n"
   ]
  }
 ],
 "metadata": {
  "kernelspec": {
   "display_name": "Python 3",
   "language": "python",
   "name": "python3"
  },
  "language_info": {
   "codemirror_mode": {
    "name": "ipython",
    "version": 3
   },
   "file_extension": ".py",
   "mimetype": "text/x-python",
   "name": "python",
   "nbconvert_exporter": "python",
   "pygments_lexer": "ipython3",
   "version": "3.11.4"
  },
  "orig_nbformat": 4
 },
 "nbformat": 4,
 "nbformat_minor": 2
}
