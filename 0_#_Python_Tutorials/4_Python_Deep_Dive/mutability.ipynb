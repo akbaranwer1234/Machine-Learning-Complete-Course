{
 "cells": [
  {
   "attachments": {},
   "cell_type": "markdown",
   "metadata": {},
   "source": [
    "Variable and Memory Refrences\n",
    "    Memory = Collection of registers\n",
    "    registers = table ['memoryAddress': 'Value'], value will be in binary format\n",
    "    python calls variable as name"
   ]
  },
  {
   "cell_type": "code",
   "execution_count": null,
   "metadata": {},
   "outputs": [],
   "source": []
  }
 ],
 "metadata": {
  "language_info": {
   "name": "python"
  },
  "orig_nbformat": 4
 },
 "nbformat": 4,
 "nbformat_minor": 2
}
