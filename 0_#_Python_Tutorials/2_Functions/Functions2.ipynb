{
 "cells": [
  {
   "cell_type": "code",
   "execution_count": 1,
   "metadata": {},
   "outputs": [],
   "source": [
    "def even_or_odd (i):\n",
    "\n",
    "    \"\"\"\n",
    "    This function tells that the given number is even or odd\n",
    "    input => Any valid integer\n",
    "    output => Odd or Even\n",
    "    created by => Muhammad Akbar\n",
    "    created date => 20 June, 2015\n",
    "    last modified by => Muhammad Akbar\n",
    "    last modified_date => 22 June, 2015\n",
    "    \"\"\"\n",
    "\n",
    "    if i % 2 == 0:\n",
    "        print(\"The number is Even\")\n",
    "    else:\n",
    "        print(\"The number is odd\")"
   ]
  }
 ],
 "metadata": {
  "kernelspec": {
   "display_name": "Python 3",
   "language": "python",
   "name": "python3"
  },
  "language_info": {
   "codemirror_mode": {
    "name": "ipython",
    "version": 3
   },
   "file_extension": ".py",
   "mimetype": "text/x-python",
   "name": "python",
   "nbconvert_exporter": "python",
   "pygments_lexer": "ipython3",
   "version": "3.11.4"
  },
  "orig_nbformat": 4
 },
 "nbformat": 4,
 "nbformat_minor": 2
}
