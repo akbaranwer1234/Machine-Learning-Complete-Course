{
 "cells": [
  {
   "attachments": {},
   "cell_type": "markdown",
   "metadata": {},
   "source": [
    "3 Categories of Python Datatypes\n",
    "\n",
    "Basic Types: (Integer, String, Boolean, Float, Complex)\n",
    "Container Types: (List, Tuples, Sets, Disctionaries)\n",
    "User-defined Types: (Classes, Functions)"
   ]
  },
  {
   "cell_type": "code",
   "execution_count": 29,
   "metadata": {},
   "outputs": [
    {
     "name": "stdout",
     "output_type": "stream",
     "text": [
      "5\n",
      "5000000000000000000000000000000000000000000000000000000000000000000000000000000000000000000000000000000000000000000000\n"
     ]
    }
   ],
   "source": [
    "#integer\n",
    "print(5)\n",
    "print(5000000000000000000000000000000000000000000000000000000000000000000000000000000000000000000000000000000000000000000000)"
   ]
  },
  {
   "cell_type": "code",
   "execution_count": 30,
   "metadata": {},
   "outputs": [
    {
     "name": "stdout",
     "output_type": "stream",
     "text": [
      "5.6\n",
      "9.864573230469587e+45\n"
     ]
    }
   ],
   "source": [
    "#float\n",
    "print(5.6)\n",
    "print(9864573230469587342698234798626239467298347824.9832465947329857349886592834759834659837420956278345693425)"
   ]
  },
  {
   "cell_type": "code",
   "execution_count": 19,
   "metadata": {},
   "outputs": [
    {
     "name": "stdout",
     "output_type": "stream",
     "text": [
      "Lahore\n",
      "Lahore\n",
      "Lahore\n",
      "Lahore\n"
     ]
    }
   ],
   "source": [
    "#String\n",
    "print('Lahore')\n",
    "print(\"Lahore\")\n",
    "print('''Lahore''')\n",
    "print(\"\"\"Lahore\"\"\"\"\")"
   ]
  },
  {
   "cell_type": "code",
   "execution_count": 16,
   "metadata": {},
   "outputs": [
    {
     "name": "stdout",
     "output_type": "stream",
     "text": [
      "True\n",
      "False\n"
     ]
    }
   ],
   "source": [
    "#boolean\n",
    "print(True)\n",
    "print(False)"
   ]
  },
  {
   "cell_type": "code",
   "execution_count": 17,
   "metadata": {},
   "outputs": [
    {
     "name": "stdout",
     "output_type": "stream",
     "text": [
      "(10+3j)\n"
     ]
    }
   ],
   "source": [
    "#complex\n",
    "print(10+3j)"
   ]
  },
  {
   "cell_type": "code",
   "execution_count": 23,
   "metadata": {},
   "outputs": [
    {
     "name": "stdout",
     "output_type": "stream",
     "text": [
      "[1, 2, 3, 4, 5]\n",
      "['a', 'b', 'c', 'd', 'e']\n",
      "[1, 'a', 2, 'b', 3, 'c', 4, 'd', 5, 'e']\n"
     ]
    }
   ],
   "source": [
    "#list\n",
    "print([1, 2, 3, 4, 5])\n",
    "print(['a', 'b', 'c', 'd', 'e'])\n",
    "print([1, 'a', 2, 'b', 3, 'c', 4, 'd', 5, 'e'])"
   ]
  },
  {
   "cell_type": "code",
   "execution_count": 24,
   "metadata": {},
   "outputs": [
    {
     "name": "stdout",
     "output_type": "stream",
     "text": [
      "(1, 2, 3, 4, 5)\n",
      "('a', 'b', 'c', 'd', 'e')\n",
      "(1, 'a', 2, 'b', 3, 'c', 4, 'd', 5, 'e')\n"
     ]
    }
   ],
   "source": [
    "#tuple\n",
    "print((1, 2, 3, 4, 5))\n",
    "print(('a', 'b', 'c', 'd', 'e'))\n",
    "print((1, 'a', 2, 'b', 3, 'c', 4, 'd', 5, 'e'))"
   ]
  },
  {
   "cell_type": "code",
   "execution_count": 1,
   "metadata": {},
   "outputs": [
    {
     "name": "stdout",
     "output_type": "stream",
     "text": [
      "{1, 2, 3, 4, 5}\n",
      "{'c', 'a', 'd', 'b', 'e'}\n",
      "{1, 2, 3, 4, 5, 'a', 'b', 'c', 'd', 'e'}\n"
     ]
    }
   ],
   "source": [
    "#sets\n",
    "print({1, 2, 3, 4, 5})\n",
    "print({'a', 'b', 'c', 'd', 'e'})\n",
    "print({1, 'a', 2, 'b', 3, 'c', 4, 'd', 5, 'e'})"
   ]
  },
  {
   "cell_type": "code",
   "execution_count": 28,
   "metadata": {},
   "outputs": [
    {
     "name": "stdout",
     "output_type": "stream",
     "text": [
      "{'Name': 'Akbar', 'Age': 14, 'Gender': 'Male', 'City': 'Lahore', 'School': 'XYZ'}\n"
     ]
    }
   ],
   "source": [
    "#dictionaries\n",
    "print({\n",
    "    \"Name\": \"Akbar\",\n",
    "    \"Age\": 14,\n",
    "    \"Gender\": \"Male\",\n",
    "    \"City\": \"Lahore\",\n",
    "    \"School\": \"XYZ\"\n",
    "})"
   ]
  }
 ],
 "metadata": {
  "kernelspec": {
   "display_name": "Python 3",
   "language": "python",
   "name": "python3"
  },
  "language_info": {
   "codemirror_mode": {
    "name": "ipython",
    "version": 3
   },
   "file_extension": ".py",
   "mimetype": "text/x-python",
   "name": "python",
   "nbconvert_exporter": "python",
   "pygments_lexer": "ipython3",
   "version": "3.11.4"
  },
  "orig_nbformat": 4
 },
 "nbformat": 4,
 "nbformat_minor": 2
}
