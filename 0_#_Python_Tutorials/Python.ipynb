{
 "cells": [
  {
   "cell_type": "code",
   "execution_count": 193,
   "metadata": {},
   "outputs": [
    {
     "data": {
      "text/plain": [
       "'\\n    list\\n    random\\n    time\\n    modules\\n    math\\n    os\\n'"
      ]
     },
     "execution_count": 193,
     "metadata": {},
     "output_type": "execute_result"
    }
   ],
   "source": [
    "\"\"\"\n",
    "    list\n",
    "    random\n",
    "    time\n",
    "    datetime\n",
    "    modules\n",
    "    math\n",
    "    os\n",
    "    sys\n",
    "\"\"\""
   ]
  },
  {
   "cell_type": "markdown",
   "metadata": {},
   "source": [
    "**Print**"
   ]
  },
  {
   "cell_type": "code",
   "execution_count": 233,
   "metadata": {},
   "outputs": [
    {
     "name": "stdout",
     "output_type": "stream",
     "text": [
      "Hello\n",
      "Hello World\n",
      "Hello--World\n",
      "Hello World&&\n",
      "Hello_World%\n",
      "Hello World\n",
      "HelloWorld\n",
      "Hello World\n",
      "Hello World\n",
      "Hello World\n",
      "Mr. Hello is my good friend and he lives in World\n",
      "Mr. World is my good friend and he lives in Hello\n",
      "Mr. Hello is my good friend and he lives in World\n"
     ]
    }
   ],
   "source": [
    "print('Hello')\n",
    "print('Hello', 'World')\n",
    "print('Hello', 'World', sep='--')\n",
    "print('Hello', 'World', end='&&\\n')\n",
    "print('Hello', 'World', sep='_', end='%\\n')\n",
    "alpha = 'Hello World'\n",
    "print(alpha)\n",
    "alpha = 'Hello'; beta = 'World'\n",
    "print(alpha + beta)\n",
    "print(alpha + \" \" + beta)\n",
    "print(\"{} {}\".format(alpha, beta))\n",
    "print(f\"{alpha} {beta}\")\n",
    "print(\"Mr. {} is my good friend and he lives in {}\".format(alpha, beta))\n",
    "print(\"Mr. {1} is my good friend and he lives in {0}\".format(alpha, beta))\n",
    "# print(\"Mr. %b is my good friend and he lives in %a\" % (beta, alpha))\n",
    "print(f\"Mr. {alpha} is my good friend and he lives in {beta}\")"
   ]
  },
  {
   "cell_type": "markdown",
   "metadata": {},
   "source": [
    "**Data Types**"
   ]
  },
  {
   "cell_type": "code",
   "execution_count": 86,
   "metadata": {},
   "outputs": [
    {
     "name": "stdout",
     "output_type": "stream",
     "text": [
      "5 <class 'int'>\n",
      "9.7 <class 'float'>\n",
      "(6+7j) <class 'complex'>\n",
      "Lahore <class 'str'>\n",
      "Lahore <class 'str'>\n",
      "Lahore <class 'str'>\n",
      "Lahore <class 'str'>\n",
      "True <class 'bool'>\n",
      "False <class 'bool'>\n",
      "\n",
      "[1, 6, 2, 'Lahore', '99'] <class 'list'>\n",
      "[1, 6, 2, 'Lahore', '99'] <class 'list'>\n",
      "[1, 6, 2, 'Lahore', '99'] <class 'list'>\n",
      "\n",
      "(1, 6, 2, 'Lahore', '99') <class 'tuple'>\n",
      "(1, 6, 2, 'Lahore', '99') <class 'tuple'>\n",
      "\n",
      "{1, 2, 97, 6, '96', 'Lahore', '98', '99', 88} <class 'set'>\n",
      "{1, 2, 97, 6, '96', 'Lahore', '98', '99', 88} <class 'set'>\n",
      "{1, 2, 97, 6, '96', 'Lahore', '98', '99', 88} <class 'set'>\n",
      "\n",
      "{'name': 'Ali', 'age': 23, 'city': 'Lahore'} <class 'dict'>\n",
      "{'name': 'Ali', 'age': 23, 'city': 'Lahore'} <class 'dict'>\n",
      "{'name': 'Ali', 'age': 23, 'city': 'Lahore'} <class 'dict'>\n",
      "\n"
     ]
    }
   ],
   "source": [
    "alpha = 5\n",
    "print(alpha, type(alpha))\n",
    "alpha = 9.7\n",
    "print(alpha, type(alpha))\n",
    "alpha = 6+7j\n",
    "print(alpha, type(alpha))\n",
    "alpha = 'Lahore'\n",
    "print(alpha, type(alpha))\n",
    "alpha = \"Lahore\"\n",
    "print(alpha, type(alpha))\n",
    "alpha = '''Lahore'''\n",
    "print(alpha, type(alpha))\n",
    "alpha = \"\"\"Lahore\"\"\"\n",
    "print(alpha, type(alpha))\n",
    "alpha = True\n",
    "print(alpha, type(alpha))\n",
    "alpha = False\n",
    "print(alpha, type(alpha), end='\\n\\n')\n",
    "\n",
    "\"\"\"\n",
    "    Four different Data Structures\n",
    "    1. Lists\n",
    "    2. Tuples\n",
    "    3. Sets\n",
    "    4. Dictionaries\n",
    "\"\"\"\n",
    "\n",
    "## Lists\n",
    "alpha = [1, 6, 2, 'Lahore', '99'] \n",
    "print(alpha, type(alpha))\n",
    "alpha = list((1, 6, 2, 'Lahore', '99'))\n",
    "print(alpha, type(alpha))\n",
    "alpha = list([1, 6, 2, 'Lahore', '99'])\n",
    "print(alpha, type(alpha), end='\\n\\n')\n",
    "\n",
    "## Tuple\n",
    "alpha = (1, 6, 2, 'Lahore', '99')\n",
    "print(alpha, type(alpha))\n",
    "alpha = tuple((1, 6, 2, 'Lahore', '99'))\n",
    "print(alpha, type(alpha), end='\\n\\n')\n",
    "\n",
    "## Sets\n",
    "alpha = {1, 6, 2, 'Lahore', '99', '98', 97, '96', 88}\n",
    "print(alpha, type(alpha))\n",
    "alpha = set((1, 6, 2, 'Lahore', '99', '98', 97, '96', 88))\n",
    "print(alpha, type(alpha))\n",
    "alpha = set({1, 6, 2, 'Lahore', '99', '98', 97, '96', 88})\n",
    "print(alpha, type(alpha), end='\\n\\n')\n",
    "\n",
    "## Dictionaries\n",
    "alpha = {'name': 'Ali', 'age': 23, 'city': 'Lahore'}\n",
    "print(alpha, type(alpha))\n",
    "alpha = dict({'name': 'Ali', 'age': 23, 'city': 'Lahore'})\n",
    "print(alpha, type(alpha))\n",
    "alpha = dict(name='Ali', age=23, city='Lahore')\n",
    "print(alpha, type(alpha), end='\\n\\n')"
   ]
  },
  {
   "cell_type": "markdown",
   "metadata": {},
   "source": [
    "**Special / Reserved Keywords**"
   ]
  },
  {
   "cell_type": "code",
   "execution_count": 60,
   "metadata": {},
   "outputs": [
    {
     "name": "stdout",
     "output_type": "stream",
     "text": [
      "['False', 'None', 'True', 'and', 'as', 'assert', 'async', 'await', 'break', 'class', 'continue', 'def', 'del', 'elif', 'else', 'except', 'finally', 'for', 'from', 'global', 'if', 'import', 'in', 'is', 'lambda', 'nonlocal', 'not', 'or', 'pass', 'raise', 'return', 'try', 'while', 'with', 'yield']\n",
      "<class 'list'>\n"
     ]
    }
   ],
   "source": [
    "import keyword\n",
    "print(keyword.kwlist)\n",
    "print(type(keyword.kwlist))"
   ]
  },
  {
   "cell_type": "markdown",
   "metadata": {},
   "source": [
    "**Taking inputs from User**"
   ]
  },
  {
   "cell_type": "code",
   "execution_count": 61,
   "metadata": {},
   "outputs": [
    {
     "data": {
      "text/plain": [
       "'4'"
      ]
     },
     "execution_count": 61,
     "metadata": {},
     "output_type": "execute_result"
    }
   ],
   "source": [
    "input()"
   ]
  },
  {
   "cell_type": "code",
   "execution_count": 62,
   "metadata": {},
   "outputs": [
    {
     "data": {
      "text/plain": [
       "'5'"
      ]
     },
     "execution_count": 62,
     "metadata": {},
     "output_type": "execute_result"
    }
   ],
   "source": [
    "input('Enter number: ')"
   ]
  },
  {
   "cell_type": "code",
   "execution_count": 63,
   "metadata": {},
   "outputs": [
    {
     "data": {
      "text/plain": [
       "'5'"
      ]
     },
     "execution_count": 63,
     "metadata": {},
     "output_type": "execute_result"
    }
   ],
   "source": [
    "input(prompt = 'Enter number:')"
   ]
  },
  {
   "cell_type": "code",
   "execution_count": 64,
   "metadata": {},
   "outputs": [
    {
     "name": "stdout",
     "output_type": "stream",
     "text": [
      "9 <class 'str'>\n"
     ]
    }
   ],
   "source": [
    "userInput = input(prompt = 'Enter number:')\n",
    "print(userInput, type(userInput))"
   ]
  },
  {
   "cell_type": "markdown",
   "metadata": {},
   "source": [
    "**Type Convention**"
   ]
  },
  {
   "cell_type": "code",
   "execution_count": 87,
   "metadata": {},
   "outputs": [
    {
     "name": "stdout",
     "output_type": "stream",
     "text": [
      "9 <class 'int'>\n",
      "9.0 <class 'float'>\n",
      "9.0 <class 'str'>\n",
      "True <class 'bool'>\n",
      "\n",
      "['H', 'e', 'l', 'l', 'o', ' ', 'W', 'o', 'r', 'l', 'd', ' ', '9', '9', '9']\n",
      "('H', 'e', 'l', 'l', 'o', ' ', 'W', 'o', 'r', 'l', 'd', ' ', '9', '9', '9')\n",
      "{'d', '9', 'e', 'H', 'W', 'l', 'o', ' ', 'r'}\n",
      "{'test': 'Hello World 999'}\n",
      "{'test': 'Hello World 999'}\n"
     ]
    }
   ],
   "source": [
    "alpha = 9\n",
    "print(alpha, type(alpha))\n",
    "alpha = float(alpha)\n",
    "print(alpha, type(alpha))\n",
    "alpha = str(alpha)\n",
    "print(alpha, type(alpha))\n",
    "alpha = bool(alpha)\n",
    "print(alpha, type(alpha), end='\\n\\n')\n",
    "\n",
    "## Strings / Lists / Tuples / Sets / Dictionaries\n",
    "alpha = 'Hello World 999'\n",
    "print(list(alpha))\n",
    "print(tuple(alpha))\n",
    "print(set(alpha))\n",
    "print(dict({'test': alpha}))\n",
    "print(dict(test = alpha))"
   ]
  },
  {
   "cell_type": "markdown",
   "metadata": {},
   "source": [
    "**Literals**"
   ]
  },
  {
   "cell_type": "code",
   "execution_count": 91,
   "metadata": {},
   "outputs": [
    {
     "name": "stdout",
     "output_type": "stream",
     "text": [
      "Hello World Hello World\n",
      "A\n",
      "Python is a programming language and everyone should learn Python\n",
      "😀😐😰😠\n",
      "\\ raw data \\ string\n",
      "This is a file stream string\n",
      "None\n"
     ]
    }
   ],
   "source": [
    "string_1 = \"Hello World\"\n",
    "string_2 = 'Hello World'\n",
    "char = \"A\"\n",
    "multiline_string = \"\"\"Python is a programming language and everyone should learn Python\"\"\"\n",
    "unicode_string = u\"\\U0001f600\\U0001f610\\U0001f630\\U0001f620\"\n",
    "raw_string = r\"\\ raw data \\ string\"\n",
    "fileStream_string = f\"This is a file stream string\"\n",
    "special_literal = None ## Very important\n",
    "\n",
    "print(string_1, string_2)\n",
    "print(char)\n",
    "print(multiline_string)\n",
    "print(unicode_string)\n",
    "print(raw_string)\n",
    "print(fileStream_string)\n",
    "print(special_literal)"
   ]
  },
  {
   "cell_type": "markdown",
   "metadata": {},
   "source": [
    "**List Functions**"
   ]
  },
  {
   "cell_type": "code",
   "execution_count": 108,
   "metadata": {},
   "outputs": [
    {
     "name": "stdout",
     "output_type": "stream",
     "text": [
      "[1, 2, 3, 4, 5, 6, 7, 8, 9, 10]\n",
      "[1, 3, 5, 7, 9]\n",
      "[10, 9, 8, 7, 6, 5, 4, 3, 2, 1]\n",
      "\n",
      "23\n",
      "34\n",
      "Lahore\n",
      "22\n",
      "33\n",
      "Akbar\n",
      "\n",
      "index = 0 value = 23\n",
      "index = 1 value = 34\n",
      "index = 2 value = Lahore\n",
      "index = 3 value = 22\n",
      "index = 4 value = 33\n",
      "index = 5 value = Akbar\n",
      "\n",
      "index = 1 value = 23\n",
      "index = 2 value = 34\n",
      "index = 3 value = Lahore\n",
      "index = 4 value = 22\n",
      "index = 5 value = 33\n",
      "index = 6 value = Akbar\n"
     ]
    }
   ],
   "source": [
    "alpha = list(range(1, 11))\n",
    "print(alpha)\n",
    "alpha = list(range(1, 11, 2))\n",
    "print(alpha)\n",
    "alpha = list(range(10, 0, -1))\n",
    "print(alpha, end='\\n\\n')\n",
    "\n",
    "alpha = list((23, '34', 'Lahore', 22, 33, 'Akbar'))\n",
    "for i in alpha:\n",
    "    print(i)\n",
    "print()\n",
    "\n",
    "for index, value in enumerate(alpha):\n",
    "    print('index =', index, 'value =', value)\n",
    "print()\n",
    "\n",
    "for index, value in enumerate(alpha, start = 1):\n",
    "    print('index =', index, 'value =', value)"
   ]
  },
  {
   "cell_type": "code",
   "execution_count": 115,
   "metadata": {},
   "outputs": [
    {
     "name": "stdout",
     "output_type": "stream",
     "text": [
      "list1 item = 23 , list2 item = Karachi\n",
      "list1 item = 34 , list2 item = 55\n",
      "list1 item = Lahore , list2 item = 83\n",
      "list1 item = 22 , list2 item = 82\n",
      "list1 item = 33 , list2 item = 88\n",
      "list1 item = Akbar , list2 item = Multan\n",
      "\n",
      "list1 item = 23 , list2 item = Karachi\n",
      "list1 item = 34 , list2 item = 55\n",
      "list1 item = Lahore , list2 item = 83\n",
      "list1 item = 22 , list2 item = 82\n",
      "list1 item = 33 , list2 item = 88\n",
      "list1 item = Akbar , list2 item = Multan\n"
     ]
    }
   ],
   "source": [
    "alpha = list((23, '34', 'Lahore', 22, 33, 'Akbar'))\n",
    "beta = list(('Karachi', 55, '83', '82', 88, 'Multan'))\n",
    "for list1, list2 in zip(alpha, beta):\n",
    "    print('list1 item =', list1, ', list2 item =', list2)\n",
    "print()\n",
    "\n",
    "alpha = list((23, '34', 'Lahore', 22, 33, 'Akbar'))\n",
    "beta = list(('Karachi', 55, '83', '82', 88, 'Multan', 33, 25, 75, 12))\n",
    "for list1, list2 in zip(alpha, beta):\n",
    "    print('list1 item =', list1, ', list2 item =', list2)"
   ]
  },
  {
   "cell_type": "code",
   "execution_count": 141,
   "metadata": {},
   "outputs": [
    {
     "name": "stdout",
     "output_type": "stream",
     "text": [
      "index = 0 list1 item = 23 , list2 item = Karachi\n",
      "index = 1 list1 item = 34 , list2 item = 55\n",
      "index = 2 list1 item = Lahore , list2 item = 83\n",
      "index = 3 list1 item = 22 , list2 item = 82\n",
      "index = 4 list1 item = 33 , list2 item = 88\n",
      "index = 5 list1 item = Akbar , list2 item = Multan\n",
      "\n",
      "index = 0 list1 item = (0, 23) , list2 item = (1, 'Karachi')\n",
      "index = 1 list1 item = (1, '34') , list2 item = (2, 55)\n",
      "index = 2 list1 item = (2, 'Lahore') , list2 item = (3, '83')\n",
      "index = 3 list1 item = (3, 22) , list2 item = (4, '82')\n",
      "index = 4 list1 item = (4, 33) , list2 item = (5, 88)\n",
      "index = 5 list1 item = (5, 'Akbar') , list2 item = (6, 'Multan')\n"
     ]
    }
   ],
   "source": [
    "alpha = list((23, '34', 'Lahore', 22, 33, 'Akbar'))\n",
    "beta = list(('Karachi', 55, '83', '82', 88, 'Multan'))\n",
    "for index, (list1, list2) in enumerate(zip(alpha, beta)):\n",
    "    print('index =', index, 'list1 item =', list1, ', list2 item =', list2)\n",
    "print()\n",
    "\n",
    "alpha = list((23, '34', 'Lahore', 22, 33, 'Akbar'))\n",
    "beta = list(('Karachi', 55, '83', '82', 88, 'Multan'))\n",
    "for index, (list1, list2) in enumerate(zip(enumerate(alpha), enumerate(beta, start=1))):\n",
    "    print('index =', index, 'list1 item =', list1, ', list2 item =', list2)"
   ]
  },
  {
   "cell_type": "markdown",
   "metadata": {},
   "source": [
    "**Tuple Functions**"
   ]
  },
  {
   "cell_type": "code",
   "execution_count": 132,
   "metadata": {},
   "outputs": [
    {
     "name": "stdout",
     "output_type": "stream",
     "text": [
      "(1, 2, 3, 4, 5, 6, 7, 8, 9, 10)\n",
      "(1, 3, 5, 7, 9)\n",
      "(10, 9, 8, 7, 6, 5, 4, 3, 2, 1)\n",
      "\n",
      "23\n",
      "34\n",
      "Lahore\n",
      "22\n",
      "33\n",
      "Akbar\n",
      "\n",
      "index = 0 value = 23\n",
      "index = 1 value = 34\n",
      "index = 2 value = Lahore\n",
      "index = 3 value = 22\n",
      "index = 4 value = 33\n",
      "index = 5 value = Akbar\n",
      "\n",
      "index = 1 value = 23\n",
      "index = 2 value = 34\n",
      "index = 3 value = Lahore\n",
      "index = 4 value = 22\n",
      "index = 5 value = 33\n",
      "index = 6 value = Akbar\n"
     ]
    }
   ],
   "source": [
    "alpha = tuple(range(1, 11))\n",
    "print(alpha)\n",
    "alpha = tuple(range(1, 11, 2))\n",
    "print(alpha)\n",
    "alpha = tuple(range(10, 0, -1))\n",
    "print(alpha, end='\\n\\n')\n",
    "\n",
    "alpha = tuple((23, '34', 'Lahore', 22, 33, 'Akbar'))\n",
    "for i in alpha:\n",
    "    print(i)\n",
    "print()\n",
    "\n",
    "for index, value in enumerate(alpha):\n",
    "    print('index =', index, 'value =', value)\n",
    "print()\n",
    "\n",
    "for index, value in enumerate(alpha, start = 1):\n",
    "    print('index =', index, 'value =', value)"
   ]
  },
  {
   "cell_type": "code",
   "execution_count": 134,
   "metadata": {},
   "outputs": [
    {
     "name": "stdout",
     "output_type": "stream",
     "text": [
      "tuple1 item = 23 , tuple2 item = Karachi\n",
      "tuple1 item = 34 , tuple2 item = 55\n",
      "tuple1 item = Lahore , tuple2 item = 83\n",
      "tuple1 item = 22 , tuple2 item = 82\n",
      "tuple1 item = 33 , tuple2 item = 88\n",
      "tuple1 item = Akbar , tuple2 item = Multan\n",
      "\n",
      "tuple1 item = 23 , tuple2 item = Karachi\n",
      "tuple1 item = 34 , tuple2 item = 55\n",
      "tuple1 item = Lahore , tuple2 item = 83\n",
      "tuple1 item = 22 , tuple2 item = 82\n",
      "tuple1 item = 33 , tuple2 item = 88\n",
      "tuple1 item = Akbar , tuple2 item = Multan\n"
     ]
    }
   ],
   "source": [
    "alpha = tuple((23, '34', 'Lahore', 22, 33, 'Akbar'))\n",
    "beta = tuple(('Karachi', 55, '83', '82', 88, 'Multan'))\n",
    "for tuple1, tuple2 in zip(alpha, beta):\n",
    "    print('tuple1 item =', tuple1, ', tuple2 item =', tuple2)\n",
    "print()\n",
    "\n",
    "alpha = tuple((23, '34', 'Lahore', 22, 33, 'Akbar'))\n",
    "beta = tuple(('Karachi', 55, '83', '82', 88, 'Multan', 33, 25, 75, 12))\n",
    "for tuple1, tuple2 in zip(alpha, beta):\n",
    "    print('tuple1 item =', tuple1, ', tuple2 item =', tuple2)"
   ]
  },
  {
   "cell_type": "code",
   "execution_count": 140,
   "metadata": {},
   "outputs": [
    {
     "name": "stdout",
     "output_type": "stream",
     "text": [
      "index = 0 tuple1 item = 23 , tuple2 item = Karachi\n",
      "index = 1 tuple1 item = 34 , tuple2 item = 55\n",
      "index = 2 tuple1 item = Lahore , tuple2 item = 83\n",
      "index = 3 tuple1 item = 22 , tuple2 item = 82\n",
      "index = 4 tuple1 item = 33 , tuple2 item = 88\n",
      "index = 5 tuple1 item = Akbar , tuple2 item = Multan\n",
      "\n",
      "index = 0 tuple1 item = (0, 23) , tuple2 item = (1, 'Karachi')\n",
      "index = 1 tuple1 item = (1, '34') , tuple2 item = (2, 55)\n",
      "index = 2 tuple1 item = (2, 'Lahore') , tuple2 item = (3, '83')\n",
      "index = 3 tuple1 item = (3, 22) , tuple2 item = (4, '82')\n",
      "index = 4 tuple1 item = (4, 33) , tuple2 item = (5, 88)\n",
      "index = 5 tuple1 item = (5, 'Akbar') , tuple2 item = (6, 'Multan')\n"
     ]
    }
   ],
   "source": [
    "alpha = tuple((23, '34', 'Lahore', 22, 33, 'Akbar'))\n",
    "beta = tuple(('Karachi', 55, '83', '82', 88, 'Multan'))\n",
    "for index, (tuple1, tuple2) in enumerate(zip(alpha, beta)):\n",
    "    print('index =', index, 'tuple1 item =', tuple1, ', tuple2 item =', tuple2)\n",
    "print()\n",
    "\n",
    "alpha = tuple((23, '34', 'Lahore', 22, 33, 'Akbar'))\n",
    "beta = tuple(('Karachi', 55, '83', '82', 88, 'Multan'))\n",
    "for index, (tuple1, tuple2) in enumerate(zip(enumerate(alpha), enumerate(beta, start=1))):\n",
    "    print('index =', index, 'tuple1 item =', tuple1, ', tuple2 item =', tuple2)"
   ]
  },
  {
   "cell_type": "markdown",
   "metadata": {},
   "source": [
    "**Set Functions**"
   ]
  },
  {
   "cell_type": "code",
   "execution_count": 136,
   "metadata": {},
   "outputs": [
    {
     "name": "stdout",
     "output_type": "stream",
     "text": [
      "{1, 2, 3, 4, 5, 6, 7, 8, 9, 10}\n",
      "{1, 3, 5, 7, 9}\n",
      "{1, 2, 3, 4, 5, 6, 7, 8, 9, 10}\n",
      "\n",
      "33\n",
      "Akbar\n",
      "Lahore\n",
      "22\n",
      "23\n",
      "34\n",
      "\n",
      "index = 0 value = 33\n",
      "index = 1 value = Akbar\n",
      "index = 2 value = Lahore\n",
      "index = 3 value = 22\n",
      "index = 4 value = 23\n",
      "index = 5 value = 34\n",
      "\n",
      "index = 1 value = 33\n",
      "index = 2 value = Akbar\n",
      "index = 3 value = Lahore\n",
      "index = 4 value = 22\n",
      "index = 5 value = 23\n",
      "index = 6 value = 34\n"
     ]
    }
   ],
   "source": [
    "alpha = set(range(1, 11))\n",
    "print(alpha)\n",
    "alpha = set(range(1, 11, 2))\n",
    "print(alpha)\n",
    "alpha = set(range(10, 0, -1))\n",
    "print(alpha, end='\\n\\n')\n",
    "\n",
    "alpha = set((23, '34', 'Lahore', 22, 33, 'Akbar'))\n",
    "for i in alpha:\n",
    "    print(i)\n",
    "print()\n",
    "\n",
    "for index, value in enumerate(alpha):\n",
    "    print('index =', index, 'value =', value)\n",
    "print()\n",
    "\n",
    "for index, value in enumerate(alpha, start = 1):\n",
    "    print('index =', index, 'value =', value)"
   ]
  },
  {
   "cell_type": "code",
   "execution_count": 137,
   "metadata": {},
   "outputs": [
    {
     "name": "stdout",
     "output_type": "stream",
     "text": [
      "set1 item = 33 , set2 item = Multan\n",
      "set1 item = Akbar , set2 item = Karachi\n",
      "set1 item = Lahore , set2 item = 83\n",
      "set1 item = 22 , set2 item = 82\n",
      "set1 item = 23 , set2 item = 55\n",
      "set1 item = 34 , set2 item = 88\n",
      "\n",
      "set1 item = 33 , set2 item = 33\n",
      "set1 item = Akbar , set2 item = Multan\n",
      "set1 item = Lahore , set2 item = Karachi\n",
      "set1 item = 22 , set2 item = 83\n",
      "set1 item = 23 , set2 item = 82\n",
      "set1 item = 34 , set2 item = 75\n"
     ]
    }
   ],
   "source": [
    "alpha = set((23, '34', 'Lahore', 22, 33, 'Akbar'))\n",
    "beta = set(('Karachi', 55, '83', '82', 88, 'Multan'))\n",
    "for set1, set2 in zip(alpha, beta):\n",
    "    print('set1 item =', set1, ', set2 item =', set2)\n",
    "print()\n",
    "\n",
    "alpha = set((23, '34', 'Lahore', 22, 33, 'Akbar'))\n",
    "beta = set(('Karachi', 55, '83', '82', 88, 'Multan', 33, 25, 75, 12))\n",
    "for set1, set2 in zip(alpha, beta):\n",
    "    print('set1 item =', set1, ', set2 item =', set2)"
   ]
  },
  {
   "cell_type": "code",
   "execution_count": 139,
   "metadata": {},
   "outputs": [
    {
     "name": "stdout",
     "output_type": "stream",
     "text": [
      "index = 0 set1 item = 33 , set2 item = Multan\n",
      "index = 1 set1 item = Akbar , set2 item = Karachi\n",
      "index = 2 set1 item = Lahore , set2 item = 83\n",
      "index = 3 set1 item = 22 , set2 item = 82\n",
      "index = 4 set1 item = 23 , set2 item = 55\n",
      "index = 5 set1 item = 34 , set2 item = 88\n",
      "\n",
      "index = 0 set1 item = (0, 33) , set2 item = (1, 'Multan')\n",
      "index = 1 set1 item = (1, 'Akbar') , set2 item = (2, 'Karachi')\n",
      "index = 2 set1 item = (2, 'Lahore') , set2 item = (3, '83')\n",
      "index = 3 set1 item = (3, 22) , set2 item = (4, '82')\n",
      "index = 4 set1 item = (4, 23) , set2 item = (5, 55)\n",
      "index = 5 set1 item = (5, '34') , set2 item = (6, 88)\n"
     ]
    }
   ],
   "source": [
    "alpha = set((23, '34', 'Lahore', 22, 33, 'Akbar'))\n",
    "beta = set(('Karachi', 55, '83', '82', 88, 'Multan'))\n",
    "for index, (set1, set2) in enumerate(zip(alpha, beta)):\n",
    "    print('index =', index, 'set1 item =', set1, ', set2 item =', set2)\n",
    "print()\n",
    "\n",
    "alpha = set((23, '34', 'Lahore', 22, 33, 'Akbar'))\n",
    "beta = set(('Karachi', 55, '83', '82', 88, 'Multan'))\n",
    "for index, (set1, set2) in enumerate(zip(enumerate(alpha), enumerate(beta, start=1))):\n",
    "    print('index =', index, 'set1 item =', set1, ', set2 item =', set2)"
   ]
  },
  {
   "cell_type": "markdown",
   "metadata": {},
   "source": [
    "**List Built-in Functions**"
   ]
  },
  {
   "cell_type": "code",
   "execution_count": null,
   "metadata": {},
   "outputs": [],
   "source": [
    "\"\"\"\n",
    "    len, append, extend, insert, remove, pop, \n",
    "    index, count, sort, reverse, copy, clear, \n",
    "    sorted, all, any, max, min, sum, slice, \n",
    "    enumerate, zip, filter, map, x for x in range, \n",
    "    abs, round, isinstance, ord, pow, divmod, bin, hex, oct, help\n",
    "\"\"\""
   ]
  },
  {
   "cell_type": "code",
   "execution_count": 187,
   "metadata": {},
   "outputs": [
    {
     "name": "stdout",
     "output_type": "stream",
     "text": [
      "6\n",
      "[4, 8, 2, 1, 0, 2, 5]\n",
      "[4, 8, 2, 1, 0, 2, 5, -3, -2, -5]\n",
      "[7, 4, 8, 2, 1, 0, 2, 5, -3, -2, -5]\n",
      "[7, 4, 8, 1, 0, 2, 5, -3, -2, -5]\n",
      "[7, 4, 8, 1, 2, 5, -3, -2, -5]\n",
      "4\n",
      "1\n",
      "[-5, -3, -2, 1, 2, 4, 5, 7, 8]\n",
      "[8, 7, 5, 4, 2, 1, -2, -3, -5]\n",
      "[8, 7, 5, 4, 2, 1, -2, -3, -5]\n",
      "[]\n",
      "[-5, -3, -2, 1, 2, 4, 5, 7, 8]\n",
      "45.9925243\n",
      "45.99\n",
      "False\n",
      "65\n",
      "2115.3122914860905\n",
      "22.0 1.9925242999999995\n",
      "0b110111\n",
      "0x37\n",
      "0o67\n",
      "False\n",
      "True\n",
      "8\n",
      "0\n",
      "17\n",
      "[8, 2, 1]\n",
      "[8, 1]\n"
     ]
    }
   ],
   "source": [
    "alpha = [4, 8, 2, 1, 0, 2]\n",
    "\n",
    "print(len(alpha))\n",
    "alpha.append(5)\n",
    "print(alpha)\n",
    "alpha.extend([-3, -2, -5])\n",
    "print(alpha)\n",
    "alpha.insert(0, 7)\n",
    "print(alpha)\n",
    "alpha.remove(2)\n",
    "print(alpha)\n",
    "alpha.pop(4)\n",
    "print(alpha)\n",
    "print(alpha.index(2))\n",
    "print(alpha.count(8))\n",
    "alpha.sort()\n",
    "print(alpha)\n",
    "alpha.reverse()\n",
    "print(alpha)\n",
    "beta = alpha.copy()\n",
    "print(beta)\n",
    "beta.clear()\n",
    "print(beta)\n",
    "beta = sorted(alpha) ## Temporary\n",
    "print(beta)\n",
    "alpha = -45.9925243\n",
    "print(abs(alpha))\n",
    "alpha = 45.9925243\n",
    "print(round(alpha, 2))\n",
    "print(isinstance(alpha, int))\n",
    "print(ord('A'))\n",
    "print(pow(alpha, 2))\n",
    "quotient, remainder = divmod(alpha, 2)\n",
    "print(quotient, remainder)\n",
    "print(bin(55))\n",
    "print(hex(55))\n",
    "print(oct(55))\n",
    "alpha = [4, 8, 2, 1, 0, 2]\n",
    "print(all(alpha))\n",
    "print(any(alpha))\n",
    "print(max(alpha))\n",
    "print(min(alpha))\n",
    "print(sum(alpha))\n",
    "print(alpha[1:4])\n",
    "print(alpha[1:4:2])\n"
   ]
  },
  {
   "cell_type": "code",
   "execution_count": 190,
   "metadata": {},
   "outputs": [
    {
     "name": "stdout",
     "output_type": "stream",
     "text": [
      "(0, 4)\n",
      "(1, 8)\n",
      "(2, 2)\n",
      "(3, 1)\n",
      "(4, 0)\n",
      "(5, 2)\n",
      "\n",
      "[4, 8, 2, 2]\n",
      "[16, 64, 4, 4]\n",
      "[1, 2, 3, 4, 5, 6, 7, 8, 9, 10]\n",
      "[2, 4, 6, 8, 10]\n"
     ]
    }
   ],
   "source": [
    "for i in enumerate(alpha):\n",
    "    print(i)\n",
    "print()\n",
    "def checkEven (x):\n",
    "    if x % 2 == 0:\n",
    "        return x\n",
    "beta = list(filter(checkEven, alpha))\n",
    "print(beta)\n",
    "\n",
    "def sqrt (x):\n",
    "    return x ** 2\n",
    "\n",
    "beta = list(map(sqrt, beta))\n",
    "print(beta)\n",
    "\n",
    "ceta = [x for x in range(1, 11)]\n",
    "print(ceta)\n",
    "\n",
    "delta = [x for x in range(1, 11) if x % 2 == 0]\n",
    "print(delta)"
   ]
  },
  {
   "cell_type": "markdown",
   "metadata": {},
   "source": [
    "**Strings**"
   ]
  },
  {
   "cell_type": "code",
   "execution_count": null,
   "metadata": {},
   "outputs": [],
   "source": [
    "\"\"\"\n",
    "Strings neither be updated nor deleted a particular instance\n",
    "it can only be deleted entirely and also accessed as an array\n",
    "\"\"\""
   ]
  },
  {
   "cell_type": "code",
   "execution_count": 194,
   "metadata": {},
   "outputs": [
    {
     "name": "stdout",
     "output_type": "stream",
     "text": [
      "l\n",
      "lo\n"
     ]
    }
   ],
   "source": [
    "alpha = 'Hello World'\n",
    "print(alpha[3])\n",
    "print(alpha[2:6:2])"
   ]
  },
  {
   "cell_type": "code",
   "execution_count": 195,
   "metadata": {},
   "outputs": [
    {
     "ename": "TypeError",
     "evalue": "'str' object does not support item assignment",
     "output_type": "error",
     "traceback": [
      "\u001b[1;31m---------------------------------------------------------------------------\u001b[0m",
      "\u001b[1;31mTypeError\u001b[0m                                 Traceback (most recent call last)",
      "Cell \u001b[1;32mIn[195], line 1\u001b[0m\n\u001b[1;32m----> 1\u001b[0m \u001b[43malpha\u001b[49m\u001b[43m[\u001b[49m\u001b[38;5;241;43m0\u001b[39;49m\u001b[43m]\u001b[49m \u001b[38;5;241m=\u001b[39m \u001b[38;5;124m'\u001b[39m\u001b[38;5;124mA\u001b[39m\u001b[38;5;124m'\u001b[39m\n",
      "\u001b[1;31mTypeError\u001b[0m: 'str' object does not support item assignment"
     ]
    }
   ],
   "source": [
    "alpha[0] = 'A'"
   ]
  },
  {
   "cell_type": "code",
   "execution_count": 196,
   "metadata": {},
   "outputs": [
    {
     "ename": "TypeError",
     "evalue": "'str' object doesn't support item deletion",
     "output_type": "error",
     "traceback": [
      "\u001b[1;31m---------------------------------------------------------------------------\u001b[0m",
      "\u001b[1;31mTypeError\u001b[0m                                 Traceback (most recent call last)",
      "Cell \u001b[1;32mIn[196], line 1\u001b[0m\n\u001b[1;32m----> 1\u001b[0m \u001b[38;5;28;01mdel\u001b[39;00m \u001b[43malpha\u001b[49m\u001b[43m[\u001b[49m\u001b[38;5;241;43m3\u001b[39;49m\u001b[43m]\u001b[49m\n",
      "\u001b[1;31mTypeError\u001b[0m: 'str' object doesn't support item deletion"
     ]
    }
   ],
   "source": [
    "del alpha[3]"
   ]
  },
  {
   "cell_type": "code",
   "execution_count": 197,
   "metadata": {},
   "outputs": [
    {
     "ename": "NameError",
     "evalue": "name 'alpha' is not defined",
     "output_type": "error",
     "traceback": [
      "\u001b[1;31m---------------------------------------------------------------------------\u001b[0m",
      "\u001b[1;31mNameError\u001b[0m                                 Traceback (most recent call last)",
      "Cell \u001b[1;32mIn[197], line 2\u001b[0m\n\u001b[0;32m      1\u001b[0m \u001b[38;5;28;01mdel\u001b[39;00m alpha\n\u001b[1;32m----> 2\u001b[0m \u001b[38;5;28mprint\u001b[39m(\u001b[43malpha\u001b[49m)\n",
      "\u001b[1;31mNameError\u001b[0m: name 'alpha' is not defined"
     ]
    }
   ],
   "source": [
    "del alpha\n",
    "print(alpha)"
   ]
  },
  {
   "cell_type": "markdown",
   "metadata": {},
   "source": [
    "**Operations on strings**"
   ]
  },
  {
   "cell_type": "code",
   "execution_count": null,
   "metadata": {},
   "outputs": [],
   "source": [
    "\"\"\"\n",
    "    Concatenation(+), Indexing[3], Slicing[::3], Length, Membership, \n",
    "    Repetition, Comparison, Formatting, Splitting, Stripping,\n",
    "    Case Conversion, Replacing, Joining, Find Substring, \n",
    "    Checking prefixes and suffixes, Checking for alphanumeric,\n",
    "    Checking for digits, Checking for alphabatic characters, \n",
    "    Checking for whitespace characters, Partitioning, Checking Case,\n",
    "     \n",
    "\"\"\""
   ]
  },
  {
   "cell_type": "code",
   "execution_count": 231,
   "metadata": {},
   "outputs": [
    {
     "name": "stdout",
     "output_type": "stream",
     "text": [
      "Hello WorldHello WorldHello World\n",
      "False\n",
      "First string is Hello World and second string is Hello Worls\n",
      "['Hello', 'World']\n",
      "Hello_World\n",
      "hello_world\n",
      "HELLO_WORLD\n",
      "Hello_world\n",
      "Hello_World\n",
      "Hello_Pakistan\n",
      "Hello--World--Pakistan\n",
      "12\n",
      "14\n",
      "True\n",
      "True\n",
      "False\n",
      "False\n",
      "False\n",
      "True False\n",
      "apple,orange,mango,orange,juice,fruit\n",
      "2\n"
     ]
    }
   ],
   "source": [
    "alpha = 'Hello World' ## Membership\n",
    "'lo' in alpha\n",
    "print(alpha*3) ## Repetition\n",
    "beta = 'Hello Worls'\n",
    "print(alpha == beta)  ## Comparison\n",
    "print('First string is {} and second string is {}'.format(alpha,beta)) ## Formatting\n",
    "print(alpha.split(' ')) ## Splitting\n",
    "alpha = '     Hello_World     '\n",
    "print(alpha.strip()) ## Stripping\n",
    "alpha = 'Hello_World'\n",
    "print(alpha.lower()) ## Case Conversion\n",
    "print(alpha.upper()) ## Case Conversion\n",
    "print(alpha.capitalize()) ## Case Conversion\n",
    "print(alpha.title()) ## Case Conversion\n",
    "print(alpha.replace('World', 'Pakistan')) ## Replacing\n",
    "alpha = ['Hello', 'World', 'Pakistan']\n",
    "print('--'.join(alpha)) ## Joining\n",
    "alpha = 'Hello World Pakistan'\n",
    "print(alpha.find('Pakistan')) ## Find Substring\n",
    "print(alpha.index('k')) ## Find Index\n",
    "print(alpha.startswith('Hello')) ## Checking prefixes\n",
    "print(alpha.endswith('Pakistan')) ## Checking Sufixes\n",
    "print(alpha.isalnum()) ## Checking for Alpha numeric\n",
    "print(alpha.isalpha()) ## Checking for Alphabatic\n",
    "print(alpha.isdigit()) ## Checking for digits\n",
    "alpha = ' '\n",
    "beta = 'Hello'\n",
    "print(alpha.isspace(), beta.isspace()) ## Checking for whitespace\n",
    "alpha = 'apple,banana,mango,banana,juice,fruit'\n",
    "print(alpha.replace('banana', 'orange', 2)) ## Replacing withCount\n",
    "print(alpha.count('banana')) ## Count"
   ]
  },
  {
   "cell_type": "markdown",
   "metadata": {},
   "source": [
    "**Operatins on Lists, Tuples, Sets, and Dictionaries**"
   ]
  },
  {
   "cell_type": "code",
   "execution_count": 235,
   "metadata": {},
   "outputs": [
    {
     "data": {
      "text/plain": [
       "'\"\\n1. **Lists**: (Use lists when you need an ordered collection of items that may need to be modified)\\n   - Lists are ordered collections of items.\\n   - They are mutable, meaning you can change, add, and remove elements after the list has been created.\\n   - Lists are defined using square brackets `[]`.\\n   - Lists can hold elements of any data type (e.g., integers, strings, other lists, etc.).\\n   - Common operations on lists include appending, removing, slicing, and iterating.\\n   \\n2. **Tuples**: (Use tuples when you have a collection of items that should remain constant throughout the program\\'s execution)\\n   - Tuples are similar to lists but are immutable, meaning once they are created, their elements cannot be changed.\\n   - They are defined using parentheses `()`.\\n   - Tuples can hold elements of any data type.\\n   - Common operations on tuples include accessing elements via indexing and slicing.\\n\\n3. **Sets**: (Use sets when you need to store unique elements and perform set operations like union, intersection, or difference)\\n   - Sets are unordered collections of unique elements.\\n   - They are defined using curly braces `{}` or the `set()` function.\\n   - Sets are mutable; you can add or remove elements, but you cannot change the elements themselves.\\n   - Sets can only hold immutable elements (e.g., integers, strings, tuples) since they use hash-based storage to ensure uniqueness.\\n   - Common operations on sets include adding elements, removing elements, set operations like union, intersection, difference, etc.\\n\\n4. **Dictionaries**: (Use dictionaries when you need to associate keys with values and quickly retrieve values based on keys)\\n   - Dictionaries are collections of key-value pairs.\\n   - They are unordered (in Python versions prior to 3.7, dictionaries have no inherent order; in Python 3.7 and above, dictionaries maintain insertion order).\\n   - Dictionaries are defined using curly braces `{}` with key-value pairs separated by a colon `:`.\\n   - Keys within a dictionary must be unique and immutable (e.g., strings, numbers, tuples).\\n   - Values within a dictionary can be of any data type.\\n   - Common operations on dictionaries include adding/removing key-value pairs, accessing values via keys, iterating over keys or values, etc.\\n\\nOperations you cannot perform directly between these data structures:\\n\\n- You cannot perform indexing and slicing operations on sets and dictionaries because they are unordered collections.\\n- You cannot perform certain set operations (e.g., union, intersection) directly on lists and dictionaries, as these operations are specific to sets.\\n- You cannot use sets or dictionaries as keys in other dictionaries because keys must be immutable, and sets/dictionaries are mutable.\\n\\n'"
      ]
     },
     "execution_count": 235,
     "metadata": {},
     "output_type": "execute_result"
    }
   ],
   "source": [
    "\"\"\"\"\n",
    "1. **Lists**: (Use lists when you need an ordered collection of items that may need to be modified)\n",
    "   - Lists are ordered collections of items.\n",
    "   - They are mutable, meaning you can change, add, and remove elements after the list has been created.\n",
    "   - Lists are defined using square brackets `[]`.\n",
    "   - Lists can hold elements of any data type (e.g., integers, strings, other lists, etc.).\n",
    "   - Common operations on lists include appending, removing, slicing, and iterating.\n",
    "   \n",
    "2. **Tuples**: (Use tuples when you have a collection of items that should remain constant throughout the program's execution)\n",
    "   - Tuples are similar to lists but are immutable, meaning once they are created, their elements cannot be changed.\n",
    "   - They are defined using parentheses `()`.\n",
    "   - Tuples can hold elements of any data type.\n",
    "   - Common operations on tuples include accessing elements via indexing and slicing.\n",
    "\n",
    "3. **Sets**: (Use sets when you need to store unique elements and perform set operations like union, intersection, or difference)\n",
    "   - Sets are unordered collections of unique elements.\n",
    "   - They are defined using curly braces `{}` or the `set()` function.\n",
    "   - Sets are mutable; you can add or remove elements, but you cannot change the elements themselves.\n",
    "   - Sets can only hold immutable elements (e.g., integers, strings, tuples) since they use hash-based storage to ensure uniqueness.\n",
    "   - Common operations on sets include adding elements, removing elements, set operations like union, intersection, difference, etc.\n",
    "\n",
    "4. **Dictionaries**: (Use dictionaries when you need to associate keys with values and quickly retrieve values based on keys)\n",
    "   - Dictionaries are collections of key-value pairs.\n",
    "   - They are unordered (in Python versions prior to 3.7, dictionaries have no inherent order; in Python 3.7 and above, dictionaries maintain insertion order).\n",
    "   - Dictionaries are defined using curly braces `{}` with key-value pairs separated by a colon `:`.\n",
    "   - Keys within a dictionary must be unique and immutable (e.g., strings, numbers, tuples).\n",
    "   - Values within a dictionary can be of any data type.\n",
    "   - Common operations on dictionaries include adding/removing key-value pairs, accessing values via keys, iterating over keys or values, etc.\n",
    "\n",
    "Operations you cannot perform directly between these data structures:\n",
    "\n",
    "- You cannot perform indexing and slicing operations on sets and dictionaries because they are unordered collections.\n",
    "- You cannot perform certain set operations (e.g., union, intersection) directly on lists and dictionaries, as these operations are specific to sets.\n",
    "- You cannot use sets or dictionaries as keys in other dictionaries because keys must be immutable, and sets/dictionaries are mutable.\n",
    "\n",
    "\"\"\""
   ]
  },
  {
   "cell_type": "markdown",
   "metadata": {},
   "source": [
    "**Functions**"
   ]
  },
  {
   "cell_type": "code",
   "execution_count": 239,
   "metadata": {},
   "outputs": [
    {
     "name": "stdout",
     "output_type": "stream",
     "text": [
      "Even\n",
      "\n",
      "        This function tells that the given number is even or odd \n",
      "        input => Any valid integer\n",
      "        output => Odd or Even\n",
      "        created by => Muhammad Akbar\n",
      "        created date => 20 June, 2015\n",
      "        last modified by => Muhammad Akbar\n",
      "        last modified_date => 22 June, 2015\n",
      "    \n"
     ]
    }
   ],
   "source": [
    "def isEven (x):\n",
    "    \n",
    "    \"\"\"\n",
    "        This function tells that the given number is even or odd \n",
    "        input => Any valid integer\n",
    "        output => Odd or Even\n",
    "        created by => Muhammad Akbar\n",
    "        created date => 20 June, 2015\n",
    "        last modified by => Muhammad Akbar\n",
    "        last modified_date => 22 June, 2015\n",
    "    \"\"\"\n",
    "    \n",
    "    if x % 2 == 0:\n",
    "        return 'Even'\n",
    "    else:\n",
    "        return 'Odd'\n",
    "    \n",
    "print(isEven(10))\n",
    "print(isEven.__doc__)"
   ]
  },
  {
   "cell_type": "code",
   "execution_count": 244,
   "metadata": {},
   "outputs": [
    {
     "name": "stdout",
     "output_type": "stream",
     "text": [
      "(1, 2, 3, 4, 5)\n",
      "120\n"
     ]
    }
   ],
   "source": [
    "def flexi (*number): \n",
    "    # (*number), the asterisk (*) before number indicates that \n",
    "    # the function can accept any number of arguments, and those arguments\n",
    "    # will be packed into a tuple named number\n",
    "    product = 1\n",
    "    print(number)\n",
    "    for i in number:\n",
    "        product = product * i\n",
    "    print(product)\n",
    "    \n",
    "flexi(1,2,3,4,5)"
   ]
  },
  {
   "cell_type": "code",
   "execution_count": 251,
   "metadata": {},
   "outputs": [
    {
     "data": {
      "text/plain": [
       "120"
      ]
     },
     "execution_count": 251,
     "metadata": {},
     "output_type": "execute_result"
    }
   ],
   "source": [
    "def findFactorial (x):\n",
    "    if x == 1:\n",
    "        return x\n",
    "    else:\n",
    "        return x * findFactorial(x-1)\n",
    "\n",
    "findFactorial(5)"
   ]
  },
  {
   "cell_type": "markdown",
   "metadata": {},
   "source": [
    "**Lambda Function**"
   ]
  },
  {
   "cell_type": "code",
   "execution_count": 243,
   "metadata": {},
   "outputs": [
    {
     "name": "stdout",
     "output_type": "stream",
     "text": [
      "[2, 4, 6, 8]\n",
      "[1, 3, 5, 7, 9]\n",
      "[3, 6, 9]\n",
      "[1, 2, 4, 5, 7, 8]\n",
      "[4, 16, 36, 64]\n",
      "[True, True, True]\n"
     ]
    }
   ],
   "source": [
    "alpha = [x for x in range(1, 10) if x % 2 == 0]\n",
    "beta = [x for x in range(1, 10) if x % 2 != 0]\n",
    "ceta = [x for x in range(1, 10) if x % 3 == 0]\n",
    "delta = [x for x in range(1, 10) if x % 3 != 0]\n",
    "print(alpha)\n",
    "print(beta)\n",
    "print(ceta)\n",
    "print(delta)\n",
    "print(list(map(lambda x: x**2, alpha)))\n",
    "print(list(map(lambda w, x, y, z: w % 2 == 0 and x % 2 != 0 and y % 3 == 0 and z % 3 != 0, alpha, beta, ceta, delta)))"
   ]
  },
  {
   "cell_type": "markdown",
   "metadata": {},
   "source": [
    "**Class**"
   ]
  },
  {
   "cell_type": "code",
   "execution_count": 298,
   "metadata": {},
   "outputs": [
    {
     "data": {
      "text/plain": [
       "'\\n    1. -- Use def for regular instance methods that need access to instance attributes.\\n    2. -- Use @classmethod when you want to define methods that operate on the class itself.\\n    3. -- Use @staticmethod when you want to define methods that don\\'t need access to instance or class attributes.\"\\n'"
      ]
     },
     "execution_count": 298,
     "metadata": {},
     "output_type": "execute_result"
    }
   ],
   "source": [
    "class Employee:\n",
    "    \n",
    "    noOfEmployees = 0\n",
    "    incrementRatio = 1.02\n",
    "    \n",
    "    def __init__(self, fname, lname, gender, email, salary, department):\n",
    "        self.fname = fname\n",
    "        self.lname = lname\n",
    "        self.gender = gender\n",
    "        self.email = email\n",
    "        self.salary = salary\n",
    "        self.department = department\n",
    "        \n",
    "        Employee.noOfEmployees += 1\n",
    "    \n",
    "    def full_name(self):\n",
    "        return '{} {}'.format(self.fname, self.lname)\n",
    "    \n",
    "    def apply_increment (self):\n",
    "        self.salary = self.incrementRatio * float(self.salary)\n",
    "        return self.salary\n",
    "    \n",
    "    @classmethod\n",
    "    def set_increment_per_year (cls, value):\n",
    "        cls.incrementRatio = value\n",
    "    \n",
    "    @classmethod\n",
    "    def split_employee_data (cls, string):\n",
    "        fname, lname, gender, email, salary, department = string.split('-')\n",
    "        return cls(fname, lname, gender, email, salary, department)\n",
    "    \n",
    "    @staticmethod\n",
    "    def check_email (email):\n",
    "        if '@' in email and not '@@' in email:\n",
    "            print('Email is valid')\n",
    "        else:\n",
    "            print('Invalid Email')\n",
    "\n",
    "\"\"\"\n",
    "    1. -- Use def for regular instance methods that need access to instance attributes.\n",
    "    2. -- Use @classmethod when you want to define methods that operate on the class itself.\n",
    "    3. -- Use @staticmethod when you want to define methods that don't need access to instance or class attributes.\"\n",
    "    4. -- These methods are called special methods / dunder methods there are alot of different dunder methods which\n",
    "          we can use base on our need such as \n",
    "          __init__, __str__, __repr__, __len__, __len__,\n",
    "          __getitem__, __setitem__, __getattr__, __setattr__, etc...\n",
    "\"\"\""
   ]
  },
  {
   "cell_type": "code",
   "execution_count": 308,
   "metadata": {},
   "outputs": [
    {
     "name": "stdout",
     "output_type": "stream",
     "text": [
      "John Wick\n",
      "90000\n",
      "MIT\n",
      "135000.0\n",
      "john.wick@gmail.com\n",
      "Email is valid\n",
      "None\n",
      "Email is valid\n",
      "None\n",
      "135000.0\n",
      "202500.0\n",
      "Invalid Email\n",
      "Invalid Email\n",
      "16\n",
      "16\n"
     ]
    }
   ],
   "source": [
    "emp1 = Employee('John', 'Wick', 'M', 'john@wick.com', 90000, 'MIT')\n",
    "print(emp1.full_name())\n",
    "print(emp1.salary)\n",
    "print(emp1.department)\n",
    "print(emp1.apply_increment()) # Just updated the instance employee\n",
    "emp2 = Employee.split_employee_data(('John-Wick-M-john.wick@gmail.com-90000-MIA'))\n",
    "print(emp2.email)\n",
    "print(emp2.check_email(emp2.email))\n",
    "print(Employee.check_email(emp2.email))\n",
    "print(emp2.apply_increment())\n",
    "Employee.set_increment_per_year(1.5)\n",
    "print(emp2.apply_increment())\n",
    "alpha = 'alpha@@gmail.com'\n",
    "Employee.check_email(alpha)\n",
    "emp1.check_email(alpha)\n",
    "print(emp1.noOfEmployees)\n",
    "print(Employee.noOfEmployees)"
   ]
  },
  {
   "cell_type": "markdown",
   "metadata": {},
   "source": [
    "**Inheritance**"
   ]
  },
  {
   "cell_type": "code",
   "execution_count": 326,
   "metadata": {},
   "outputs": [
    {
     "name": "stdout",
     "output_type": "stream",
     "text": [
      "('Employee1', 'Wick1', 'Employee1@wick1.com', 90000)\n",
      "('Employee2', 'Wick2', 'Employee2@wick2.com', 90000)\n",
      "('Developer1', 'Wick1', 'Developer1@wick1.com', 90000)\n",
      "('Developer2', 'Wick2', 'Developer2@wick2.com', 90000)\n",
      "('Manager1', 'Wick1', 'manager1@wick1.com', 50000)\n",
      "('Manager2', 'Wick2', 'manager2@wick2.com', 60000)\n",
      "--> Manager1 Wick1\n",
      "--> Manager1 Wick1\n",
      "removed emp1\n",
      "--> Manager1 Wick1\n"
     ]
    }
   ],
   "source": [
    "class Employee:\n",
    "    \n",
    "    raise_amount = 1.02\n",
    "    \n",
    "    def __init__(self, fname, lname, email, salary):\n",
    "        self.fname = fname\n",
    "        self.lname = lname\n",
    "        self.email = email\n",
    "        self.salary = salary\n",
    "    \n",
    "    def __str__(self):\n",
    "        return f\"('{self.fname}', '{self.lname}', '{self.email}', {self.salary})\"\n",
    "\n",
    "    \n",
    "    def full_name (self):\n",
    "        return self.fname + ' ' + self.lname\n",
    "    \n",
    "    def apply_increment (self):\n",
    "        self.salary = self.raise_amount * self.salary\n",
    "    \n",
    "class Developer (Employee):\n",
    "    \n",
    "    raise_amount = 1.04\n",
    "    \n",
    "    def __init__(self, fname, lname, email, salary, prog_lang):\n",
    "        super().__init__(fname, lname, email, salary)\n",
    "        self.prog_lang = prog_lang\n",
    "    \n",
    "class Manager (Employee):\n",
    "    \n",
    "    raise_amount = 1.06\n",
    "    \n",
    "    def __init__(self, fname, lname, email, salary, employees = None):\n",
    "        super().__init__(fname, lname, email, salary)\n",
    "        if employees is None:\n",
    "            self.employees = []\n",
    "        else:\n",
    "            self.employees = employees\n",
    "\n",
    "    def add_emp(self, emp):\n",
    "        if emp not in self.employees:\n",
    "            self.employees.append(emp)\n",
    "\n",
    "    def remove_emp(self, emp):\n",
    "        if emp in self.employees:\n",
    "            self.employees.remove(emp)\n",
    "\n",
    "    def print_emps(self):\n",
    "        for emp in self.employees:\n",
    "            print('-->', super().full_name())\n",
    "\n",
    "emp1 = Employee('Employee1', 'Wick1', 'Employee1@wick1.com', 90000)\n",
    "emp2 = Employee('Employee2', 'Wick2', 'Employee2@wick2.com', 90000)\n",
    "\n",
    "dev1 = Developer('Developer1', 'Wick1', 'Developer1@wick1.com', 90000, 'JavaScript')\n",
    "dev2 = Developer('Developer2', 'Wick2', 'Developer2@wick2.com', 90000, 'Python')\n",
    "\n",
    "mngr1 = Manager('Manager1', 'Wick1', 'manager1@wick1.com', 50000, [emp1])\n",
    "mngr2 = Manager('Manager2', 'Wick2', 'manager2@wick2.com', 60000, [emp2])\n",
    "\n",
    "print(emp1)\n",
    "print(emp2)\n",
    "print(dev1)\n",
    "print(dev2)\n",
    "print(mngr1)\n",
    "print(mngr2)\n",
    "\n",
    "mngr1.add_emp(emp2)\n",
    "mngr1.add_emp(emp1)\n",
    "\n",
    "mngr1.print_emps()\n",
    "\n",
    "mngr1.remove_emp(emp1)\n",
    "print('removed emp1')\n",
    "\n",
    "mngr1.print_emps()"
   ]
  },
  {
   "cell_type": "markdown",
   "metadata": {},
   "source": [
    "**File Systems & Exception Handling**"
   ]
  },
  {
   "cell_type": "code",
   "execution_count": 330,
   "metadata": {},
   "outputs": [
    {
     "name": "stdout",
     "output_type": "stream",
     "text": [
      "1 => Hello\n",
      "2 => This\n",
      "3 => is\n",
      "4 => a\n",
      "5 => Complete\n",
      "6 => Machine\n",
      "7 => Learning\n",
      "8 => Course\n",
      "9 => from\n",
      "10 => Scratch"
     ]
    }
   ],
   "source": [
    "with open('test.txt', 'r') as f:\n",
    "\n",
    "    for line in f:\n",
    "        print(line, end='')"
   ]
  },
  {
   "cell_type": "code",
   "execution_count": 334,
   "metadata": {},
   "outputs": [
    {
     "name": "stdout",
     "output_type": "stream",
     "text": [
      "Sorry, Something went wrong!\n",
      "Everything is done\n"
     ]
    }
   ],
   "source": [
    "try:\n",
    "    f = open('test.txt', 'r')\n",
    "    var = var2\n",
    "\n",
    "except FileNotFoundError: # When will fon found\n",
    "    print('Sorry, This file does not exist')\n",
    "\n",
    "except Exception: # When other error occurs\n",
    "    print('Sorry, Something went wrong!')\n",
    "\n",
    "else:\n",
    "    print(f.read())\n",
    "    f.close()\n",
    "\n",
    "finally:\n",
    "    print('Everything is done')"
   ]
  },
  {
   "cell_type": "code",
   "execution_count": 338,
   "metadata": {},
   "outputs": [
    {
     "name": "stdout",
     "output_type": "stream",
     "text": [
      "[Errno 2] No such file or directory: 'testc.txt'\n",
      "Everything is done\n"
     ]
    }
   ],
   "source": [
    "try:\n",
    "    f = open('testc.txt', 'r')\n",
    "    if f.name != 'test.txt':\n",
    "        raise Exception('This is an error')\n",
    "\n",
    "except FileNotFoundError as e:\n",
    "    print(e)\n",
    "\n",
    "except Exception as e:\n",
    "    print(e)\n",
    "\n",
    "else:\n",
    "    print(f.read())\n",
    "    f.close()\n",
    "\n",
    "finally:\n",
    "    print('Everything is done')"
   ]
  },
  {
   "cell_type": "markdown",
   "metadata": {},
   "source": [
    "**Modules Import**"
   ]
  },
  {
   "cell_type": "code",
   "execution_count": 341,
   "metadata": {},
   "outputs": [
    {
     "name": "stdout",
     "output_type": "stream",
     "text": [
      "15\n",
      "2.0\n",
      "50\n",
      "5\n"
     ]
    }
   ],
   "source": [
    "import test\n",
    "a = 10; b = 5\n",
    "print(test.add(a, b))\n",
    "print(test.div(a, b))\n",
    "print(test.mult(a, b))\n",
    "print(test.sub(a, b))"
   ]
  },
  {
   "cell_type": "markdown",
   "metadata": {},
   "source": [
    "**Data Structures**"
   ]
  },
  {
   "cell_type": "code",
   "execution_count": null,
   "metadata": {},
   "outputs": [],
   "source": []
  },
  {
   "cell_type": "code",
   "execution_count": null,
   "metadata": {},
   "outputs": [],
   "source": []
  },
  {
   "cell_type": "code",
   "execution_count": null,
   "metadata": {},
   "outputs": [],
   "source": []
  },
  {
   "cell_type": "code",
   "execution_count": null,
   "metadata": {},
   "outputs": [],
   "source": []
  },
  {
   "cell_type": "code",
   "execution_count": null,
   "metadata": {},
   "outputs": [],
   "source": []
  },
  {
   "cell_type": "code",
   "execution_count": 302,
   "metadata": {},
   "outputs": [
    {
     "name": "stdout",
     "output_type": "stream",
     "text": [
      "1 2 3 \n"
     ]
    }
   ],
   "source": [
    "class Node:\n",
    "    def __init__(self, data):\n",
    "        self.data = data\n",
    "        self.next = None\n",
    "\n",
    "class LinkedList:\n",
    "    def __init__(self):\n",
    "        self.head = None\n",
    "\n",
    "    def append(self, data):\n",
    "        new_node = Node(data)\n",
    "        if self.head is None:\n",
    "            self.head = new_node\n",
    "        else:\n",
    "            current = self.head\n",
    "            while current.next:\n",
    "                current = current.next\n",
    "            current.next = new_node\n",
    "\n",
    "    def display(self):\n",
    "        current = self.head\n",
    "        while current:\n",
    "            print(current.data, end=\" \")\n",
    "            current = current.next\n",
    "        print()\n",
    "\n",
    "# Example usage:\n",
    "linked_list = LinkedList()\n",
    "linked_list.append(1)\n",
    "linked_list.append(2)\n",
    "linked_list.append(3)\n",
    "linked_list.display()\n"
   ]
  },
  {
   "cell_type": "code",
   "execution_count": 301,
   "metadata": {},
   "outputs": [
    {
     "name": "stdout",
     "output_type": "stream",
     "text": [
      "1 2 3 \n"
     ]
    }
   ],
   "source": []
  },
  {
   "cell_type": "code",
   "execution_count": null,
   "metadata": {},
   "outputs": [],
   "source": []
  }
 ],
 "metadata": {
  "kernelspec": {
   "display_name": "Python 3",
   "language": "python",
   "name": "python3"
  },
  "language_info": {
   "codemirror_mode": {
    "name": "ipython",
    "version": 3
   },
   "file_extension": ".py",
   "mimetype": "text/x-python",
   "name": "python",
   "nbconvert_exporter": "python",
   "pygments_lexer": "ipython3",
   "version": "3.11.8"
  }
 },
 "nbformat": 4,
 "nbformat_minor": 2
}
