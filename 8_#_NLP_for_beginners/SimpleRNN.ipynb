{
 "cells": [
  {
   "cell_type": "code",
   "execution_count": 3,
   "metadata": {},
   "outputs": [
    {
     "name": "stdout",
     "output_type": "stream",
     "text": [
      "WARNING:tensorflow:From C:\\Users\\akber\\AppData\\Local\\Packages\\PythonSoftwareFoundation.Python.3.11_qbz5n2kfra8p0\\LocalCache\\local-packages\\Python311\\site-packages\\keras\\src\\losses.py:2976: The name tf.losses.sparse_softmax_cross_entropy is deprecated. Please use tf.compat.v1.losses.sparse_softmax_cross_entropy instead.\n",
      "\n"
     ]
    }
   ],
   "source": [
    "from keras import Sequential\n",
    "from keras.layers import Dense, SimpleRNN"
   ]
  },
  {
   "cell_type": "code",
   "execution_count": 4,
   "metadata": {},
   "outputs": [
    {
     "name": "stdout",
     "output_type": "stream",
     "text": [
      "WARNING:tensorflow:From C:\\Users\\akber\\AppData\\Local\\Packages\\PythonSoftwareFoundation.Python.3.11_qbz5n2kfra8p0\\LocalCache\\local-packages\\Python311\\site-packages\\keras\\src\\backend.py:873: The name tf.get_default_graph is deprecated. Please use tf.compat.v1.get_default_graph instead.\n",
      "\n",
      "Model: \"sequential\"\n",
      "_________________________________________________________________\n",
      " Layer (type)                Output Shape              Param #   \n",
      "=================================================================\n",
      " simple_rnn (SimpleRNN)      (None, 3)                 27        \n",
      "                                                                 \n",
      " dense (Dense)               (None, 1)                 4         \n",
      "                                                                 \n",
      "=================================================================\n",
      "Total params: 31 (124.00 Byte)\n",
      "Trainable params: 31 (124.00 Byte)\n",
      "Non-trainable params: 0 (0.00 Byte)\n",
      "_________________________________________________________________\n"
     ]
    }
   ],
   "source": [
    "model = Sequential()\n",
    "model.add(SimpleRNN(3, input_shape=(4,5))) # 3 Neurons, max timestamps = 4, and input_features = 5\n",
    "model.add(Dense(1, activation='sigmoid')) # 1 Neuron, \n",
    "model.summary()"
   ]
  },
  {
   "cell_type": "code",
   "execution_count": 5,
   "metadata": {},
   "outputs": [
    {
     "name": "stdout",
     "output_type": "stream",
     "text": [
      "(5, 3)\n",
      "[[-0.32522345  0.6686043  -0.80752623]\n",
      " [-0.7242861  -0.01266134 -0.30286866]\n",
      " [-0.803253   -0.3517964  -0.3300916 ]\n",
      " [-0.13721216 -0.21620631 -0.5987021 ]\n",
      " [ 0.13036746  0.52350646 -0.10331446]]\n"
     ]
    }
   ],
   "source": [
    "print(model.get_weights()[0].shape) # input_features = 5 * 3 Neurons = 15\n",
    "# model.get_weights()[0].shape\n",
    "print(model.get_weights()[0])\n",
    "# model.get_weights()[0]"
   ]
  },
  {
   "cell_type": "code",
   "execution_count": 6,
   "metadata": {},
   "outputs": [
    {
     "name": "stdout",
     "output_type": "stream",
     "text": [
      "(3, 3)\n"
     ]
    },
    {
     "data": {
      "text/plain": [
       "array([[ 0.5920876 ,  0.4892791 ,  0.64034235],\n",
       "       [ 0.3958864 ,  0.5155104 , -0.75994945],\n",
       "       [-0.7019304 ,  0.7034595 ,  0.11152825]], dtype=float32)"
      ]
     },
     "execution_count": 6,
     "metadata": {},
     "output_type": "execute_result"
    }
   ],
   "source": [
    "print(model.get_weights()[1].shape)\n",
    "model.get_weights()[1]"
   ]
  },
  {
   "cell_type": "code",
   "execution_count": 7,
   "metadata": {},
   "outputs": [
    {
     "name": "stdout",
     "output_type": "stream",
     "text": [
      "(3,)\n"
     ]
    },
    {
     "data": {
      "text/plain": [
       "array([0., 0., 0.], dtype=float32)"
      ]
     },
     "execution_count": 7,
     "metadata": {},
     "output_type": "execute_result"
    }
   ],
   "source": [
    "print(model.get_weights()[2].shape) # Biases for first 3 Neurons\n",
    "model.get_weights()[2]"
   ]
  },
  {
   "cell_type": "code",
   "execution_count": 8,
   "metadata": {},
   "outputs": [
    {
     "name": "stdout",
     "output_type": "stream",
     "text": [
      "(3, 1)\n"
     ]
    },
    {
     "data": {
      "text/plain": [
       "array([[-0.43944597],\n",
       "       [ 0.78731024],\n",
       "       [ 0.6463095 ]], dtype=float32)"
      ]
     },
     "execution_count": 8,
     "metadata": {},
     "output_type": "execute_result"
    }
   ],
   "source": [
    "print(model.get_weights()[3].shape) # Weights for first 3 Neurons connected with last / next neuron\n",
    "model.get_weights()[3]"
   ]
  },
  {
   "cell_type": "code",
   "execution_count": 9,
   "metadata": {},
   "outputs": [
    {
     "name": "stdout",
     "output_type": "stream",
     "text": [
      "(1,)\n"
     ]
    },
    {
     "data": {
      "text/plain": [
       "array([0.], dtype=float32)"
      ]
     },
     "execution_count": 9,
     "metadata": {},
     "output_type": "execute_result"
    }
   ],
   "source": [
    "print(model.get_weights()[4].shape) # 1 Bias for last neuron\n",
    "model.get_weights()[4]"
   ]
  },
  {
   "cell_type": "markdown",
   "metadata": {},
   "source": [
    "**Integer Encoding Simple RNN**"
   ]
  },
  {
   "cell_type": "code",
   "execution_count": 10,
   "metadata": {},
   "outputs": [],
   "source": [
    "doc = [\n",
    "    'Jiye Bhutto',\n",
    "    'Pakistan Zindabad',\n",
    "    'Prime Minister of Pakistan Imran Khan',\n",
    "    'Pakistan Cricket Board',\n",
    "    'Imran Khan a great Cricket player',\n",
    "    'Bhutto met with Imran Khan',\n",
    "    'Cricket lovers',\n",
    "    'Cricket as a national sports of Pakistan',\n",
    "    'Imran Khan raise a voice to change the chairman of Pakistan Cricket Board',\n",
    "    'Imran Khan historical speech at Pakistan Cricket Academy',\n",
    "]\n",
    "\n",
    "# First step to do is tokenize, means removing special character, changing cases lower to upper or upper to lower\n",
    "# removing stopwords, etc..."
   ]
  },
  {
   "cell_type": "code",
   "execution_count": 11,
   "metadata": {},
   "outputs": [],
   "source": [
    "from keras.preprocessing.text import Tokenizer\n",
    "tokenizer = Tokenizer(oov_token=(',')) # Out of Vocabulary Token"
   ]
  },
  {
   "cell_type": "code",
   "execution_count": 12,
   "metadata": {},
   "outputs": [],
   "source": [
    "tokenizer.fit_on_texts(doc)"
   ]
  },
  {
   "cell_type": "code",
   "execution_count": 13,
   "metadata": {},
   "outputs": [
    {
     "data": {
      "text/plain": [
       "{',': 1,\n",
       " 'pakistan': 2,\n",
       " 'cricket': 3,\n",
       " 'imran': 4,\n",
       " 'khan': 5,\n",
       " 'of': 6,\n",
       " 'a': 7,\n",
       " 'bhutto': 8,\n",
       " 'board': 9,\n",
       " 'jiye': 10,\n",
       " 'zindabad': 11,\n",
       " 'prime': 12,\n",
       " 'minister': 13,\n",
       " 'great': 14,\n",
       " 'player': 15,\n",
       " 'met': 16,\n",
       " 'with': 17,\n",
       " 'lovers': 18,\n",
       " 'as': 19,\n",
       " 'national': 20,\n",
       " 'sports': 21,\n",
       " 'raise': 22,\n",
       " 'voice': 23,\n",
       " 'to': 24,\n",
       " 'change': 25,\n",
       " 'the': 26,\n",
       " 'chairman': 27,\n",
       " 'historical': 28,\n",
       " 'speech': 29,\n",
       " 'at': 30,\n",
       " 'academy': 31}"
      ]
     },
     "execution_count": 13,
     "metadata": {},
     "output_type": "execute_result"
    }
   ],
   "source": [
    "tokenizer.word_index"
   ]
  },
  {
   "cell_type": "code",
   "execution_count": 14,
   "metadata": {},
   "outputs": [
    {
     "data": {
      "text/plain": [
       "OrderedDict([('jiye', 1),\n",
       "             ('bhutto', 2),\n",
       "             ('pakistan', 6),\n",
       "             ('zindabad', 1),\n",
       "             ('prime', 1),\n",
       "             ('minister', 1),\n",
       "             ('of', 3),\n",
       "             ('imran', 5),\n",
       "             ('khan', 5),\n",
       "             ('cricket', 6),\n",
       "             ('board', 2),\n",
       "             ('a', 3),\n",
       "             ('great', 1),\n",
       "             ('player', 1),\n",
       "             ('met', 1),\n",
       "             ('with', 1),\n",
       "             ('lovers', 1),\n",
       "             ('as', 1),\n",
       "             ('national', 1),\n",
       "             ('sports', 1),\n",
       "             ('raise', 1),\n",
       "             ('voice', 1),\n",
       "             ('to', 1),\n",
       "             ('change', 1),\n",
       "             ('the', 1),\n",
       "             ('chairman', 1),\n",
       "             ('historical', 1),\n",
       "             ('speech', 1),\n",
       "             ('at', 1),\n",
       "             ('academy', 1)])"
      ]
     },
     "execution_count": 14,
     "metadata": {},
     "output_type": "execute_result"
    }
   ],
   "source": [
    "tokenizer.word_counts # Frequency Count"
   ]
  },
  {
   "cell_type": "code",
   "execution_count": 15,
   "metadata": {},
   "outputs": [
    {
     "data": {
      "text/plain": [
       "10"
      ]
     },
     "execution_count": 15,
     "metadata": {},
     "output_type": "execute_result"
    }
   ],
   "source": [
    "tokenizer.document_count # How many sentences in my document"
   ]
  },
  {
   "cell_type": "code",
   "execution_count": 16,
   "metadata": {},
   "outputs": [
    {
     "data": {
      "text/plain": [
       "[[10, 8],\n",
       " [2, 11],\n",
       " [12, 13, 6, 2, 4, 5],\n",
       " [2, 3, 9],\n",
       " [4, 5, 7, 14, 3, 15],\n",
       " [8, 16, 17, 4, 5],\n",
       " [3, 18],\n",
       " [3, 19, 7, 20, 21, 6, 2],\n",
       " [4, 5, 22, 7, 23, 24, 25, 26, 27, 6, 2, 3, 9],\n",
       " [4, 5, 28, 29, 30, 2, 3, 31]]"
      ]
     },
     "execution_count": 16,
     "metadata": {},
     "output_type": "execute_result"
    }
   ],
   "source": [
    "sequences = tokenizer.texts_to_sequences(doc) # Sentence to sequence\n",
    "sequences"
   ]
  },
  {
   "cell_type": "code",
   "execution_count": 17,
   "metadata": {},
   "outputs": [],
   "source": [
    "from keras.utils import pad_sequences"
   ]
  },
  {
   "cell_type": "code",
   "execution_count": 18,
   "metadata": {},
   "outputs": [
    {
     "data": {
      "text/plain": [
       "array([[10,  8,  0,  0,  0,  0,  0,  0,  0,  0,  0,  0,  0],\n",
       "       [ 2, 11,  0,  0,  0,  0,  0,  0,  0,  0,  0,  0,  0],\n",
       "       [12, 13,  6,  2,  4,  5,  0,  0,  0,  0,  0,  0,  0],\n",
       "       [ 2,  3,  9,  0,  0,  0,  0,  0,  0,  0,  0,  0,  0],\n",
       "       [ 4,  5,  7, 14,  3, 15,  0,  0,  0,  0,  0,  0,  0],\n",
       "       [ 8, 16, 17,  4,  5,  0,  0,  0,  0,  0,  0,  0,  0],\n",
       "       [ 3, 18,  0,  0,  0,  0,  0,  0,  0,  0,  0,  0,  0],\n",
       "       [ 3, 19,  7, 20, 21,  6,  2,  0,  0,  0,  0,  0,  0],\n",
       "       [ 4,  5, 22,  7, 23, 24, 25, 26, 27,  6,  2,  3,  9],\n",
       "       [ 4,  5, 28, 29, 30,  2,  3, 31,  0,  0,  0,  0,  0]])"
      ]
     },
     "execution_count": 18,
     "metadata": {},
     "output_type": "execute_result"
    }
   ],
   "source": [
    "padded_sequences = pad_sequences(sequences, padding='post') # Text converted to vectors or numbers\n",
    "padded_sequences "
   ]
  },
  {
   "cell_type": "code",
   "execution_count": 19,
   "metadata": {},
   "outputs": [],
   "source": [
    "from keras.datasets import imdb\n",
    "from keras import Sequential\n",
    "from keras.layers import Dense, Flatten, Embedding, SimpleRNN"
   ]
  },
  {
   "cell_type": "code",
   "execution_count": 20,
   "metadata": {},
   "outputs": [],
   "source": [
    "(X_train, y_train), (X_test, y_test) = imdb.load_data()"
   ]
  },
  {
   "cell_type": "code",
   "execution_count": 21,
   "metadata": {},
   "outputs": [
    {
     "name": "stdout",
     "output_type": "stream",
     "text": [
      "(25000,) (25000,) (25000,) (25000,)\n"
     ]
    }
   ],
   "source": [
    "print(X_train.shape, y_train.shape, X_test.shape, y_test.shape)"
   ]
  },
  {
   "cell_type": "code",
   "execution_count": 22,
   "metadata": {},
   "outputs": [
    {
     "name": "stdout",
     "output_type": "stream",
     "text": [
      "218 189 141 550\n"
     ]
    }
   ],
   "source": [
    "print(len(X_train[0]), len(X_train[1]), len(X_train[2]), len(X_train[3]))"
   ]
  },
  {
   "cell_type": "code",
   "execution_count": 23,
   "metadata": {},
   "outputs": [
    {
     "data": {
      "text/plain": [
       "array([2071,   56,   26,  141,    6,  194, 7486,   18,    4,  226,   22,\n",
       "         21,  134,  476,   26,  480,    5,  144,   30, 5535,   18,   51,\n",
       "         36,   28,  224,   92,   25,  104,    4,  226,   65,   16,   38,\n",
       "       1334,   88,   12,   16,  283,    5,   16, 4472,  113,  103,   32,\n",
       "         15,   16, 5345,   19,  178,   32])"
      ]
     },
     "execution_count": 23,
     "metadata": {},
     "output_type": "execute_result"
    }
   ],
   "source": [
    "X_train = pad_sequences(X_train, padding='post', maxlen=50)\n",
    "X_test = pad_sequences(X_test, padding='post', maxlen=50)\n",
    "X_train[0]"
   ]
  },
  {
   "cell_type": "code",
   "execution_count": 24,
   "metadata": {},
   "outputs": [
    {
     "name": "stdout",
     "output_type": "stream",
     "text": [
      "Model: \"sequential_1\"\n",
      "_________________________________________________________________\n",
      " Layer (type)                Output Shape              Param #   \n",
      "=================================================================\n",
      " simple_rnn_1 (SimpleRNN)    (None, 32)                1088      \n",
      "                                                                 \n",
      " dense_1 (Dense)             (None, 1)                 33        \n",
      "                                                                 \n",
      "=================================================================\n",
      "Total params: 1121 (4.38 KB)\n",
      "Trainable params: 1121 (4.38 KB)\n",
      "Non-trainable params: 0 (0.00 Byte)\n",
      "_________________________________________________________________\n"
     ]
    }
   ],
   "source": [
    "model = Sequential()\n",
    "model.add(SimpleRNN(32, input_shape=(50, 1))) # 50 = timestamps/maxlength, 1 input feature\n",
    "model.add(Dense(1, activation='sigmoid'))\n",
    "model.summary()"
   ]
  },
  {
   "cell_type": "code",
   "execution_count": 25,
   "metadata": {},
   "outputs": [
    {
     "name": "stdout",
     "output_type": "stream",
     "text": [
      "WARNING:tensorflow:From C:\\Users\\akber\\AppData\\Local\\Packages\\PythonSoftwareFoundation.Python.3.11_qbz5n2kfra8p0\\LocalCache\\local-packages\\Python311\\site-packages\\keras\\src\\optimizers\\__init__.py:309: The name tf.train.Optimizer is deprecated. Please use tf.compat.v1.train.Optimizer instead.\n",
      "\n",
      "Epoch 1/5\n",
      "WARNING:tensorflow:From C:\\Users\\akber\\AppData\\Local\\Packages\\PythonSoftwareFoundation.Python.3.11_qbz5n2kfra8p0\\LocalCache\\local-packages\\Python311\\site-packages\\keras\\src\\utils\\tf_utils.py:492: The name tf.ragged.RaggedTensorValue is deprecated. Please use tf.compat.v1.ragged.RaggedTensorValue instead.\n",
      "\n",
      "WARNING:tensorflow:From C:\\Users\\akber\\AppData\\Local\\Packages\\PythonSoftwareFoundation.Python.3.11_qbz5n2kfra8p0\\LocalCache\\local-packages\\Python311\\site-packages\\keras\\src\\engine\\base_layer_utils.py:384: The name tf.executing_eagerly_outside_functions is deprecated. Please use tf.compat.v1.executing_eagerly_outside_functions instead.\n",
      "\n",
      "1563/1563 [==============================] - 14s 8ms/step - loss: 0.6947 - accuracy: 0.5042 - val_loss: 0.6938 - val_accuracy: 0.5050\n",
      "Epoch 2/5\n",
      "1563/1563 [==============================] - 13s 8ms/step - loss: 0.6937 - accuracy: 0.5081 - val_loss: 0.6940 - val_accuracy: 0.5067\n",
      "Epoch 3/5\n",
      "1563/1563 [==============================] - 12s 8ms/step - loss: 0.6939 - accuracy: 0.5045 - val_loss: 0.6936 - val_accuracy: 0.5081\n",
      "Epoch 4/5\n",
      "1563/1563 [==============================] - 20s 13ms/step - loss: 0.6931 - accuracy: 0.5096 - val_loss: 0.6947 - val_accuracy: 0.5019\n",
      "Epoch 5/5\n",
      "1563/1563 [==============================] - 20s 12ms/step - loss: 0.6933 - accuracy: 0.5064 - val_loss: 0.6961 - val_accuracy: 0.5008\n"
     ]
    }
   ],
   "source": [
    "model.compile(loss='binary_crossentropy', optimizer='adam', metrics=['accuracy'])\n",
    "history = model.fit(X_train, y_train, epochs=5, validation_data=(X_test, y_test), batch_size=16)"
   ]
  },
  {
   "cell_type": "code",
   "execution_count": 26,
   "metadata": {},
   "outputs": [],
   "source": [
    "import matplotlib.pyplot as plt"
   ]
  },
  {
   "cell_type": "code",
   "execution_count": 27,
   "metadata": {},
   "outputs": [
    {
     "data": {
      "image/png": "[encoded data removed]",
      "text/plain": [
       "<Figure size 640x480 with 1 Axes>"
      ]
     },
     "metadata": {},
     "output_type": "display_data"
    }
   ],
   "source": [
    "# plot training & validation accuracy values\n",
    "plt.plot(history.history['accuracy'])\n",
    "plt.plot(history.history['val_accuracy'])\n",
    "plt.title('Model Accuracy')\n",
    "plt.xlabel('Epochs')\n",
    "plt.ylabel('Accuracy')\n",
    "plt.legend(['Train', 'Validation'], loc='upper left')\n",
    "plt.show()"
   ]
  },
  {
   "cell_type": "code",
   "execution_count": 28,
   "metadata": {},
   "outputs": [
    {
     "data": {
      "image/png": "[encoded data removed]",
      "text/plain": [
       "<Figure size 640x480 with 1 Axes>"
      ]
     },
     "metadata": {},
     "output_type": "display_data"
    }
   ],
   "source": [
    "# Plot training & validation loss values\n",
    "plt.plot(history.history['loss'])\n",
    "plt.plot(history.history['val_loss'])\n",
    "plt.title('Model Loss')\n",
    "plt.xlabel('Epoch')\n",
    "plt.ylabel('Loss')\n",
    "plt.legend(['Train', 'Validation'], loc='upper left')\n",
    "plt.show()"
   ]
  },
  {
   "cell_type": "markdown",
   "metadata": {},
   "source": [
    "**Embeddings**"
   ]
  },
  {
   "cell_type": "code",
   "execution_count": null,
   "metadata": {},
   "outputs": [],
   "source": [
    "# In natural language processing, word embedding is a term used for the representation of words for text analysis, \n",
    "# typically in the form of a real-valued vector that encodes the meaning of the word such that the words that are\n",
    "# closer in the vector space are expected to be similar in meaning. There are different types of embeddings techniques\n",
    "# such as Word2Vec, Glove, FastText, etc... and we also can train our own embeddings using Keras Embedding Layer"
   ]
  },
  {
   "cell_type": "code",
   "execution_count": 29,
   "metadata": {},
   "outputs": [],
   "source": [
    "doc = [\n",
    "    'Jiye Bhutto',\n",
    "    'Pakistan Zindabad',\n",
    "    'Prime Minister of Pakistan Imran Khan',\n",
    "    'Pakistan Cricket Board',\n",
    "    'Imran Khan a great Cricket player',\n",
    "    'Bhutto met with Imran Khan',\n",
    "    'Cricket lovers',\n",
    "    'Cricket as a national sports of Pakistan',\n",
    "    'Imran Khan raise a voice to change the chairman of Pakistan Cricket Board',\n",
    "    'Imran Khan historical speech at Pakistan Cricket Academy',\n",
    "]"
   ]
  },
  {
   "cell_type": "code",
   "execution_count": 30,
   "metadata": {},
   "outputs": [],
   "source": [
    "from keras.preprocessing.text import Tokenizer"
   ]
  },
  {
   "cell_type": "code",
   "execution_count": 62,
   "metadata": {},
   "outputs": [
    {
     "name": "stdout",
     "output_type": "stream",
     "text": [
      "30\n"
     ]
    },
    {
     "data": {
      "text/plain": [
       "{'pakistan': 1,\n",
       " 'cricket': 2,\n",
       " 'imran': 3,\n",
       " 'khan': 4,\n",
       " 'of': 5,\n",
       " 'a': 6,\n",
       " 'bhutto': 7,\n",
       " 'board': 8,\n",
       " 'jiye': 9,\n",
       " 'zindabad': 10,\n",
       " 'prime': 11,\n",
       " 'minister': 12,\n",
       " 'great': 13,\n",
       " 'player': 14,\n",
       " 'met': 15,\n",
       " 'with': 16,\n",
       " 'lovers': 17,\n",
       " 'as': 18,\n",
       " 'national': 19,\n",
       " 'sports': 20,\n",
       " 'raise': 21,\n",
       " 'voice': 22,\n",
       " 'to': 23,\n",
       " 'change': 24,\n",
       " 'the': 25,\n",
       " 'chairman': 26,\n",
       " 'historical': 27,\n",
       " 'speech': 28,\n",
       " 'at': 29,\n",
       " 'academy': 30}"
      ]
     },
     "execution_count": 62,
     "metadata": {},
     "output_type": "execute_result"
    }
   ],
   "source": [
    "tokenizer = Tokenizer()\n",
    "tokenizer.fit_on_texts(doc)\n",
    "print(len(tokenizer.word_index))\n",
    "tokenizer.word_index"
   ]
  },
  {
   "cell_type": "code",
   "execution_count": 47,
   "metadata": {},
   "outputs": [
    {
     "data": {
      "text/plain": [
       "[[9, 7],\n",
       " [1, 10],\n",
       " [11, 12, 5, 1, 3, 4],\n",
       " [1, 2, 8],\n",
       " [3, 4, 6, 13, 2, 14],\n",
       " [7, 15, 16, 3, 4],\n",
       " [2, 17],\n",
       " [2, 18, 6, 19, 20, 5, 1],\n",
       " [3, 4, 21, 6, 22, 23, 24, 25, 26, 5, 1, 2, 8],\n",
       " [3, 4, 27, 28, 29, 1, 2, 30]]"
      ]
     },
     "execution_count": 47,
     "metadata": {},
     "output_type": "execute_result"
    }
   ],
   "source": [
    "sequences = tokenizer.texts_to_sequences(doc)\n",
    "sequences"
   ]
  },
  {
   "cell_type": "code",
   "execution_count": 48,
   "metadata": {},
   "outputs": [
    {
     "data": {
      "text/plain": [
       "array([[ 9,  7,  0,  0,  0,  0,  0,  0,  0,  0,  0,  0,  0],\n",
       "       [ 1, 10,  0,  0,  0,  0,  0,  0,  0,  0,  0,  0,  0],\n",
       "       [11, 12,  5,  1,  3,  4,  0,  0,  0,  0,  0,  0,  0],\n",
       "       [ 1,  2,  8,  0,  0,  0,  0,  0,  0,  0,  0,  0,  0],\n",
       "       [ 3,  4,  6, 13,  2, 14,  0,  0,  0,  0,  0,  0,  0],\n",
       "       [ 7, 15, 16,  3,  4,  0,  0,  0,  0,  0,  0,  0,  0],\n",
       "       [ 2, 17,  0,  0,  0,  0,  0,  0,  0,  0,  0,  0,  0],\n",
       "       [ 2, 18,  6, 19, 20,  5,  1,  0,  0,  0,  0,  0,  0],\n",
       "       [ 3,  4, 21,  6, 22, 23, 24, 25, 26,  5,  1,  2,  8],\n",
       "       [ 3,  4, 27, 28, 29,  1,  2, 30,  0,  0,  0,  0,  0]])"
      ]
     },
     "execution_count": 48,
     "metadata": {},
     "output_type": "execute_result"
    }
   ],
   "source": [
    "from keras.utils import pad_sequences\n",
    "padded_sequences = pad_sequences(sequences, padding='post')\n",
    "padded_sequences"
   ]
  },
  {
   "cell_type": "code",
   "execution_count": 54,
   "metadata": {},
   "outputs": [
    {
     "data": {
      "text/plain": [
       "13"
      ]
     },
     "execution_count": 54,
     "metadata": {},
     "output_type": "execute_result"
    }
   ],
   "source": [
    "len(padded_sequences[0])"
   ]
  },
  {
   "cell_type": "code",
   "execution_count": 72,
   "metadata": {},
   "outputs": [],
   "source": [
    "# vocab_size = max([max(sequence) for sequence in padded_sequences])\n",
    "# vocab_size"
   ]
  },
  {
   "cell_type": "code",
   "execution_count": 79,
   "metadata": {},
   "outputs": [
    {
     "name": "stdout",
     "output_type": "stream",
     "text": [
      "Model: \"sequential_11\"\n",
      "_________________________________________________________________\n",
      " Layer (type)                Output Shape              Param #   \n",
      "=================================================================\n",
      " embedding_9 (Embedding)     (None, 13, 2)             62        \n",
      "                                                                 \n",
      "=================================================================\n",
      "Total params: 62 (248.00 Byte)\n",
      "Trainable params: 62 (248.00 Byte)\n",
      "Non-trainable params: 0 (0.00 Byte)\n",
      "_________________________________________________________________\n"
     ]
    }
   ],
   "source": [
    "model = Sequential()\n",
    "model.add(Embedding(input_dim=31, output_dim=2, input_length=13)) \n",
    "# input_dim = total vocab size, \n",
    "# output_dim = with how much max length i want to represent the word, for example\n",
    "# [ 9,  7,  0,  0,  0,  0,  0,  0,  0,  0,  0,  0,  0], to get rid of sparcity, i want to represent 9 as 2 words as embeddings\n",
    "# input_length = max length of a sentence after padded sequences\n",
    "model.summary()"
   ]
  },
  {
   "cell_type": "code",
   "execution_count": 80,
   "metadata": {},
   "outputs": [],
   "source": [
    "model.compile('adam', 'accuracy')"
   ]
  },
  {
   "cell_type": "code",
   "execution_count": 81,
   "metadata": {},
   "outputs": [
    {
     "name": "stdout",
     "output_type": "stream",
     "text": [
      "1/1 [==============================] - 0s 43ms/step\n"
     ]
    },
    {
     "data": {
      "text/plain": [
       "array([[[-0.04779046,  0.01608511],\n",
       "        [ 0.00221974,  0.03534919],\n",
       "        [ 0.04715792,  0.04832998],\n",
       "        [ 0.04715792,  0.04832998],\n",
       "        [ 0.04715792,  0.04832998],\n",
       "        [ 0.04715792,  0.04832998],\n",
       "        [ 0.04715792,  0.04832998],\n",
       "        [ 0.04715792,  0.04832998],\n",
       "        [ 0.04715792,  0.04832998],\n",
       "        [ 0.04715792,  0.04832998],\n",
       "        [ 0.04715792,  0.04832998],\n",
       "        [ 0.04715792,  0.04832998],\n",
       "        [ 0.04715792,  0.04832998]],\n",
       "\n",
       "       [[-0.00329908, -0.03863255],\n",
       "        [ 0.00071446, -0.03600176],\n",
       "        [ 0.04715792,  0.04832998],\n",
       "        [ 0.04715792,  0.04832998],\n",
       "        [ 0.04715792,  0.04832998],\n",
       "        [ 0.04715792,  0.04832998],\n",
       "        [ 0.04715792,  0.04832998],\n",
       "        [ 0.04715792,  0.04832998],\n",
       "        [ 0.04715792,  0.04832998],\n",
       "        [ 0.04715792,  0.04832998],\n",
       "        [ 0.04715792,  0.04832998],\n",
       "        [ 0.04715792,  0.04832998],\n",
       "        [ 0.04715792,  0.04832998]],\n",
       "\n",
       "       [[-0.04884648, -0.04841029],\n",
       "        [ 0.02753017, -0.01562025],\n",
       "        [-0.03084606, -0.04851055],\n",
       "        [-0.00329908, -0.03863255],\n",
       "        [ 0.01527384, -0.03477088],\n",
       "        [ 0.02600685, -0.04862981],\n",
       "        [ 0.04715792,  0.04832998],\n",
       "        [ 0.04715792,  0.04832998],\n",
       "        [ 0.04715792,  0.04832998],\n",
       "        [ 0.04715792,  0.04832998],\n",
       "        [ 0.04715792,  0.04832998],\n",
       "        [ 0.04715792,  0.04832998],\n",
       "        [ 0.04715792,  0.04832998]],\n",
       "\n",
       "       [[-0.00329908, -0.03863255],\n",
       "        [-0.02840383, -0.02425969],\n",
       "        [ 0.02780742, -0.00744279],\n",
       "        [ 0.04715792,  0.04832998],\n",
       "        [ 0.04715792,  0.04832998],\n",
       "        [ 0.04715792,  0.04832998],\n",
       "        [ 0.04715792,  0.04832998],\n",
       "        [ 0.04715792,  0.04832998],\n",
       "        [ 0.04715792,  0.04832998],\n",
       "        [ 0.04715792,  0.04832998],\n",
       "        [ 0.04715792,  0.04832998],\n",
       "        [ 0.04715792,  0.04832998],\n",
       "        [ 0.04715792,  0.04832998]],\n",
       "\n",
       "       [[ 0.01527384, -0.03477088],\n",
       "        [ 0.02600685, -0.04862981],\n",
       "        [-0.03539596, -0.02147464],\n",
       "        [ 0.01230379,  0.0417524 ],\n",
       "        [-0.02840383, -0.02425969],\n",
       "        [-0.0042066 ,  0.02132637],\n",
       "        [ 0.04715792,  0.04832998],\n",
       "        [ 0.04715792,  0.04832998],\n",
       "        [ 0.04715792,  0.04832998],\n",
       "        [ 0.04715792,  0.04832998],\n",
       "        [ 0.04715792,  0.04832998],\n",
       "        [ 0.04715792,  0.04832998],\n",
       "        [ 0.04715792,  0.04832998]],\n",
       "\n",
       "       [[ 0.00221974,  0.03534919],\n",
       "        [ 0.0104445 ,  0.00062485],\n",
       "        [-0.01357368,  0.01070888],\n",
       "        [ 0.01527384, -0.03477088],\n",
       "        [ 0.02600685, -0.04862981],\n",
       "        [ 0.04715792,  0.04832998],\n",
       "        [ 0.04715792,  0.04832998],\n",
       "        [ 0.04715792,  0.04832998],\n",
       "        [ 0.04715792,  0.04832998],\n",
       "        [ 0.04715792,  0.04832998],\n",
       "        [ 0.04715792,  0.04832998],\n",
       "        [ 0.04715792,  0.04832998],\n",
       "        [ 0.04715792,  0.04832998]],\n",
       "\n",
       "       [[-0.02840383, -0.02425969],\n",
       "        [ 0.03004176, -0.00591805],\n",
       "        [ 0.04715792,  0.04832998],\n",
       "        [ 0.04715792,  0.04832998],\n",
       "        [ 0.04715792,  0.04832998],\n",
       "        [ 0.04715792,  0.04832998],\n",
       "        [ 0.04715792,  0.04832998],\n",
       "        [ 0.04715792,  0.04832998],\n",
       "        [ 0.04715792,  0.04832998],\n",
       "        [ 0.04715792,  0.04832998],\n",
       "        [ 0.04715792,  0.04832998],\n",
       "        [ 0.04715792,  0.04832998],\n",
       "        [ 0.04715792,  0.04832998]],\n",
       "\n",
       "       [[-0.02840383, -0.02425969],\n",
       "        [-0.01968231,  0.04730655],\n",
       "        [-0.03539596, -0.02147464],\n",
       "        [-0.01049197,  0.04834784],\n",
       "        [ 0.03182104,  0.03839631],\n",
       "        [-0.03084606, -0.04851055],\n",
       "        [-0.00329908, -0.03863255],\n",
       "        [ 0.04715792,  0.04832998],\n",
       "        [ 0.04715792,  0.04832998],\n",
       "        [ 0.04715792,  0.04832998],\n",
       "        [ 0.04715792,  0.04832998],\n",
       "        [ 0.04715792,  0.04832998],\n",
       "        [ 0.04715792,  0.04832998]],\n",
       "\n",
       "       [[ 0.01527384, -0.03477088],\n",
       "        [ 0.02600685, -0.04862981],\n",
       "        [-0.00284042, -0.0109799 ],\n",
       "        [-0.03539596, -0.02147464],\n",
       "        [-0.03025916, -0.01504629],\n",
       "        [-0.01766308,  0.03532932],\n",
       "        [-0.01733657,  0.01321783],\n",
       "        [-0.00518287,  0.01092692],\n",
       "        [ 0.01993114, -0.02827062],\n",
       "        [-0.03084606, -0.04851055],\n",
       "        [-0.00329908, -0.03863255],\n",
       "        [-0.02840383, -0.02425969],\n",
       "        [ 0.02780742, -0.00744279]],\n",
       "\n",
       "       [[ 0.01527384, -0.03477088],\n",
       "        [ 0.02600685, -0.04862981],\n",
       "        [-0.03968705, -0.02477598],\n",
       "        [-0.02958347, -0.01646437],\n",
       "        [-0.04991723,  0.00089195],\n",
       "        [-0.00329908, -0.03863255],\n",
       "        [-0.02840383, -0.02425969],\n",
       "        [-0.04184265, -0.01818572],\n",
       "        [ 0.04715792,  0.04832998],\n",
       "        [ 0.04715792,  0.04832998],\n",
       "        [ 0.04715792,  0.04832998],\n",
       "        [ 0.04715792,  0.04832998],\n",
       "        [ 0.04715792,  0.04832998]]], dtype=float32)"
      ]
     },
     "execution_count": 81,
     "metadata": {},
     "output_type": "execute_result"
    }
   ],
   "source": [
    "prediction = model.predict(padded_sequences)\n",
    "prediction"
   ]
  },
  {
   "cell_type": "code",
   "execution_count": 82,
   "metadata": {},
   "outputs": [],
   "source": [
    "from keras.datasets import imdb\n",
    "from keras.preprocessing.text import Tokenizer\n",
    "from keras.utils import pad_sequences\n",
    "from keras import Sequential\n",
    "from keras.layers import Dense, Flatten, Embedding, SimpleRNN"
   ]
  },
  {
   "cell_type": "code",
   "execution_count": null,
   "metadata": {},
   "outputs": [],
   "source": [
    "# from sklearn.model_selection import train_test_split\n",
    "\n",
    "# # Split the data into training and test sets\n",
    "# X_train, X_test, y_train, y_test = train_test_split(X_train, y_train, test_size=0.2, random_state=42)\n",
    "\n",
    "# # Further split the training set into training and validation sets\n",
    "# X_train, X_val, y_train, y_val = train_test_split(X_train, y_train, test_size=0.2, random_state=42)\n"
   ]
  },
  {
   "cell_type": "code",
   "execution_count": 120,
   "metadata": {},
   "outputs": [],
   "source": [
    "# (X_train,y_train),(X_test,y_test) = imdb.load_data(num_words=10000) # if i want to bound my vocab size\n",
    "(X_train,y_train),(X_test,y_test) = imdb.load_data()"
   ]
  },
  {
   "cell_type": "code",
   "execution_count": 121,
   "metadata": {},
   "outputs": [],
   "source": [
    "X_train = pad_sequences(X_train,padding='post',maxlen=50)\n",
    "X_test = pad_sequences(X_test,padding='post',maxlen=50)"
   ]
  },
  {
   "cell_type": "code",
   "execution_count": 122,
   "metadata": {},
   "outputs": [
    {
     "data": {
      "text/plain": [
       "(25000, 50)"
      ]
     },
     "execution_count": 122,
     "metadata": {},
     "output_type": "execute_result"
    }
   ],
   "source": [
    "X_train.shape"
   ]
  },
  {
   "cell_type": "code",
   "execution_count": 123,
   "metadata": {},
   "outputs": [
    {
     "data": {
      "text/plain": [
       "array([2071,   56,   26,  141,    6,  194, 7486,   18,    4,  226,   22,\n",
       "         21,  134,  476,   26,  480,    5,  144,   30, 5535,   18,   51,\n",
       "         36,   28,  224,   92,   25,  104,    4,  226,   65,   16,   38,\n",
       "       1334,   88,   12,   16,  283,    5,   16, 4472,  113,  103,   32,\n",
       "         15,   16, 5345,   19,  178,   32])"
      ]
     },
     "execution_count": 123,
     "metadata": {},
     "output_type": "execute_result"
    }
   ],
   "source": [
    "X_train[0]"
   ]
  },
  {
   "cell_type": "code",
   "execution_count": 130,
   "metadata": {},
   "outputs": [
    {
     "data": {
      "text/plain": [
       "88585"
      ]
     },
     "execution_count": 130,
     "metadata": {},
     "output_type": "execute_result"
    }
   ],
   "source": [
    "# X_train.shape\n",
    "max_index_value = max([max(sequence) for sequence in X_train])\n",
    "max_index_value"
   ]
  },
  {
   "cell_type": "code",
   "execution_count": 131,
   "metadata": {},
   "outputs": [
    {
     "name": "stdout",
     "output_type": "stream",
     "text": [
      "Model: \"sequential_27\"\n",
      "_________________________________________________________________\n",
      " Layer (type)                Output Shape              Param #   \n",
      "=================================================================\n",
      " embedding_25 (Embedding)    (None, 50, 2)             177172    \n",
      "                                                                 \n",
      " simple_rnn_16 (SimpleRNN)   (None, 32)                1120      \n",
      "                                                                 \n",
      " dense_16 (Dense)            (None, 1)                 33        \n",
      "                                                                 \n",
      "=================================================================\n",
      "Total params: 178325 (696.58 KB)\n",
      "Trainable params: 178325 (696.58 KB)\n",
      "Non-trainable params: 0 (0.00 Byte)\n",
      "_________________________________________________________________\n"
     ]
    }
   ],
   "source": [
    "model = Sequential()\n",
    "model.add(Embedding(input_dim=max_index_value+1, output_dim=2, input_length=50))\n",
    "model.add(SimpleRNN(32,return_sequences=False))\n",
    "model.add(Dense(1, activation='sigmoid'))\n",
    "\n",
    "model.summary()"
   ]
  },
  {
   "cell_type": "code",
   "execution_count": 132,
   "metadata": {},
   "outputs": [
    {
     "name": "stdout",
     "output_type": "stream",
     "text": [
      "Epoch 1/5\n",
      "782/782 [==============================] - 9s 10ms/step - loss: 0.6706 - accuracy: 0.5603 - val_loss: 0.5216 - val_accuracy: 0.7413\n",
      "Epoch 2/5\n",
      "782/782 [==============================] - 10s 12ms/step - loss: 0.4083 - accuracy: 0.8138 - val_loss: 0.4174 - val_accuracy: 0.8110\n",
      "Epoch 3/5\n",
      "782/782 [==============================] - 11s 15ms/step - loss: 0.2465 - accuracy: 0.9027 - val_loss: 0.4794 - val_accuracy: 0.7940\n",
      "Epoch 4/5\n",
      "782/782 [==============================] - 13s 17ms/step - loss: 0.1600 - accuracy: 0.9428 - val_loss: 0.5616 - val_accuracy: 0.7954\n",
      "Epoch 5/5\n",
      "782/782 [==============================] - 11s 14ms/step - loss: 0.1051 - accuracy: 0.9644 - val_loss: 0.6477 - val_accuracy: 0.7828\n"
     ]
    }
   ],
   "source": [
    "model.compile(optimizer='adam', loss='binary_crossentropy', metrics=['accuracy'])\n",
    "history = model.fit(X_train, y_train,epochs=5,validation_data=(X_test,y_test))"
   ]
  },
  {
   "cell_type": "code",
   "execution_count": 133,
   "metadata": {},
   "outputs": [],
   "source": [
    "import matplotlib.pyplot as plt"
   ]
  },
  {
   "cell_type": "code",
   "execution_count": 134,
   "metadata": {},
   "outputs": [
    {
     "data": {
      "image/png": "[encoded data removed]",
      "text/plain": [
       "<Figure size 640x480 with 1 Axes>"
      ]
     },
     "metadata": {},
     "output_type": "display_data"
    }
   ],
   "source": [
    "# Plot training and validation accuracy values\n",
    "plt.plot(history.history['accuracy'])\n",
    "plt.plot(history.history['val_accuracy'])\n",
    "plt.title('Model Accuracy')\n",
    "plt.xlabel('Epochs')\n",
    "plt.ylabel('Accuracy')\n",
    "plt.legend(['Train', 'Validation'], loc='upper left')\n",
    "plt.show()"
   ]
  },
  {
   "cell_type": "code",
   "execution_count": 135,
   "metadata": {},
   "outputs": [
    {
     "data": {
      "image/png": "[encoded data removed]",
      "text/plain": [
       "<Figure size 640x480 with 1 Axes>"
      ]
     },
     "metadata": {},
     "output_type": "display_data"
    }
   ],
   "source": [
    "# Plot training and validation loss\n",
    "plt.plot(history.history['loss'])\n",
    "plt.plot(history.history['val_loss'])\n",
    "plt.title('Model Loss')\n",
    "plt.xlabel('Epochs')\n",
    "plt.ylabel('Loss')\n",
    "plt.legend(['Train', 'Validation'], loc='upper left')\n",
    "plt.show()"
   ]
  },
  {
   "cell_type": "code",
   "execution_count": null,
   "metadata": {},
   "outputs": [],
   "source": []
  }
 ],
 "metadata": {
  "kernelspec": {
   "display_name": "Python 3",
   "language": "python",
   "name": "python3"
  },
  "language_info": {
   "codemirror_mode": {
    "name": "ipython",
    "version": 3
   },
   "file_extension": ".py",
   "mimetype": "text/x-python",
   "name": "python",
   "nbconvert_exporter": "python",
   "pygments_lexer": "ipython3",
   "version": "3.11.8"
  }
 },
 "nbformat": 4,
 "nbformat_minor": 2
}
