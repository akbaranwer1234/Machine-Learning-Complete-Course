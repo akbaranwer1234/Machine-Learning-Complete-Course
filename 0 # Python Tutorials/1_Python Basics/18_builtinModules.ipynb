{
 "cells": [
  {
   "attachments": {},
   "cell_type": "markdown",
   "metadata": {},
   "source": [
    "Modules\n",
    "\n",
    "A module in Python is a file that contains reusable code, including functions, classes, and variables, which can be imported and used in other Python programs.\n",
    "\n",
    "Here is a list of some commonly used modules in Python along with their import statements:\n",
    "    Math\n",
    "    Random\n",
    "    Time\n",
    "    Os"
   ]
  },
  {
   "cell_type": "code",
   "execution_count": 1,
   "metadata": {},
   "outputs": [
    {
     "name": "stdout",
     "output_type": "stream",
     "text": [
      "\n",
      "Please wait a moment while I gather a list of all available modules...\n",
      "\n",
      "test_sqlite3: testing with version '2.6.0', sqlite_version '3.42.0'\n"
     ]
    },
    {
     "name": "stderr",
     "output_type": "stream",
     "text": [
      "c:\\Users\\Jonathan\\AppData\\Local\\Programs\\Python\\Python311\\Lib\\site-packages\\_distutils_hack\\__init__.py:33: UserWarning: Setuptools is replacing distutils.\n",
      "  warnings.warn(\"Setuptools is replacing distutils.\")\n"
     ]
    },
    {
     "name": "stdout",
     "output_type": "stream",
     "text": [
      "IPython             asyncore            matplotlib_inline   sysconfig\n",
      "__future__          atexit              mimetypes           tabnanny\n",
      "__hello__           audioop             mmap                tarfile\n",
      "__phello__          backcall            mmapfile            telnetlib\n",
      "_abc                base64              mmsystem            tempfile\n",
      "_aix_support        bdb                 modulefinder        test\n",
      "_ast                binascii            msilib              textwrap\n",
      "_asyncio            bisect              msvcrt              this\n",
      "_bisect             builtins            multiprocessing     threading\n",
      "_blake2             bz2                 nest_asyncio        time\n",
      "_bootsubprocess     cProfile            netbios             timeit\n",
      "_bz2                calendar            netrc               timer\n",
      "_codecs             cgi                 nntplib             tkinter\n",
      "_codecs_cn          cgitb               nt                  token\n",
      "_codecs_hk          chunk               ntpath              tokenize\n",
      "_codecs_iso2022     cmath               ntsecuritycon       tomllib\n",
      "_codecs_jp          cmd                 nturl2path          tornado\n",
      "_codecs_kr          code                numbers             trace\n",
      "_codecs_tw          codecs              odbc                traceback\n",
      "_collections        codeop              opcode              tracemalloc\n",
      "_collections_abc    collections         operator            traitlets\n",
      "_compat_pickle      colorama            optparse            tty\n",
      "_compression        colorsys            os                  turtle\n",
      "_contextvars        comm                packaging           turtledemo\n",
      "_csv                commctrl            parso               types\n",
      "_ctypes             compileall          pathlib             typing\n",
      "_ctypes_test        concurrent          pdb                 unicodedata\n",
      "_datetime           configparser        perfmon             unittest\n",
      "_decimal            contextlib          pickle              urllib\n",
      "_distutils_hack     contextvars         pickleshare         uu\n",
      "_elementtree        copy                pickletools         uuid\n",
      "_functools          copyreg             pip                 venv\n",
      "_hashlib            crypt               pipes               warnings\n",
      "_heapq              csv                 pkg_resources       wave\n",
      "_imp                ctypes              pkgutil             wcwidth\n",
      "_io                 curses              platform            weakref\n",
      "_json               dataclasses         platformdirs        webbrowser\n",
      "_locale             datetime            plistlib            wheel\n",
      "_lsprof             dateutil            poplib              win2kras\n",
      "_lzma               dbi                 posixpath           win32api\n",
      "_markupbase         dbm                 pprint              win32clipboard\n",
      "_md5                dde                 profile             win32com\n",
      "_msi                debugpy             prompt_toolkit      win32con\n",
      "_multibytecodec     decimal             pstats              win32console\n",
      "_multiprocessing    decorator           psutil              win32cred\n",
      "_opcode             difflib             pty                 win32crypt\n",
      "_operator           dis                 pure_eval           win32cryptcon\n",
      "_osx_support        distutils           py_compile          win32event\n",
      "_overlapped         doctest             pyclbr              win32evtlog\n",
      "_pickle             email               pydoc               win32evtlogutil\n",
      "_py_abc             encodings           pydoc_data          win32file\n",
      "_pydecimal          ensurepip           pyexpat             win32gui\n",
      "_pyio               enum                pygments            win32gui_struct\n",
      "_queue              errno               pythoncom           win32help\n",
      "_random             executing           pywin               win32inet\n",
      "_sha1               faulthandler        pywin32_bootstrap   win32inetcon\n",
      "_sha256             filecmp             pywin32_testutil    win32job\n",
      "_sha3               fileinput           pywintypes          win32lz\n",
      "_sha512             fnmatch             queue               win32net\n",
      "_signal             fractions           quopri              win32netcon\n",
      "_sitebuiltins       ftplib              random              win32pdh\n",
      "_socket             functools           rasutil             win32pdhquery\n",
      "_sqlite3            gc                  re                  win32pdhutil\n",
      "_sre                genericpath         regcheck            win32pipe\n",
      "_ssl                getopt              regutil             win32print\n",
      "_stat               getpass             reprlib             win32process\n",
      "_statistics         gettext             rlcompleter         win32profile\n",
      "_string             glob                runpy               win32ras\n",
      "_strptime           graphlib            sched               win32rcparser\n",
      "_struct             gzip                secrets             win32security\n",
      "_symtable           hashlib             select              win32service\n",
      "_testbuffer         heapq               selectors           win32serviceutil\n",
      "_testcapi           hello               servicemanager      win32timezone\n",
      "_testconsole        hmac                setuptools          win32trace\n",
      "_testimportmultiple html                shelve              win32traceutil\n",
      "_testinternalcapi   http                shlex               win32transaction\n",
      "_testmultiphase     idlelib             shutil              win32ts\n",
      "_thread             imaplib             signal              win32ui\n",
      "_threading_local    imghdr              site                win32uiole\n",
      "_tkinter            imp                 six                 win32verstamp\n",
      "_tokenize           importlib           smtpd               win32wnet\n",
      "_tracemalloc        inspect             smtplib             winerror\n",
      "_typing             io                  sndhdr              winioctlcon\n",
      "_uuid               ipaddress           socket              winnt\n",
      "_warnings           ipykernel           socketserver        winperf\n",
      "_weakref            ipykernel_launcher  sqlite3             winreg\n",
      "_weakrefset         isapi               sre_compile         winsound\n",
      "_win32sysloader     itertools           sre_constants       winxpgui\n",
      "_winapi             jedi                sre_parse           winxptheme\n",
      "_winxptheme         json                ssl                 wsgiref\n",
      "_xxsubinterpreters  jupyter             sspi                xdrlib\n",
      "_zoneinfo           jupyter_client      sspicon             xml\n",
      "abc                 jupyter_core        stack_data          xmlrpc\n",
      "adodbapi            keyword             start_pythonwin     xxsubtype\n",
      "afxres              lib2to3             stat                zipapp\n",
      "aifc                linecache           statistics          zipfile\n",
      "antigravity         locale              string              zipimport\n",
      "argparse            logging             stringprep          zlib\n",
      "array               lzma                struct              zmq\n",
      "ast                 mailbox             subprocess          zoneinfo\n",
      "asttokens           mailcap             sunau               \n",
      "asynchat            marshal             symtable            \n",
      "asyncio             math                sys                 \n",
      "\n",
      "Enter any module name to get more help.  Or, type \"modules spam\" to search\n",
      "for modules whose name or summary contain the string \"spam\".\n",
      "\n"
     ]
    }
   ],
   "source": [
    "help('modules')"
   ]
  },
  {
   "cell_type": "code",
   "execution_count": 4,
   "metadata": {},
   "outputs": [
    {
     "name": "stdout",
     "output_type": "stream",
     "text": [
      "Help on built-in module math:\n",
      "\n",
      "NAME\n",
      "    math\n",
      "\n",
      "DESCRIPTION\n",
      "    This module provides access to the mathematical functions\n",
      "    defined by the C standard.\n",
      "\n",
      "FUNCTIONS\n",
      "    acos(x, /)\n",
      "        Return the arc cosine (measured in radians) of x.\n",
      "        \n",
      "        The result is between 0 and pi.\n",
      "    \n",
      "    acosh(x, /)\n",
      "        Return the inverse hyperbolic cosine of x.\n",
      "    \n",
      "    asin(x, /)\n",
      "        Return the arc sine (measured in radians) of x.\n",
      "        \n",
      "        The result is between -pi/2 and pi/2.\n",
      "    \n",
      "    asinh(x, /)\n",
      "        Return the inverse hyperbolic sine of x.\n",
      "    \n",
      "    atan(x, /)\n",
      "        Return the arc tangent (measured in radians) of x.\n",
      "        \n",
      "        The result is between -pi/2 and pi/2.\n",
      "    \n",
      "    atan2(y, x, /)\n",
      "        Return the arc tangent (measured in radians) of y/x.\n",
      "        \n",
      "        Unlike atan(y/x), the signs of both x and y are considered.\n",
      "    \n",
      "    atanh(x, /)\n",
      "        Return the inverse hyperbolic tangent of x.\n",
      "    \n",
      "    cbrt(x, /)\n",
      "        Return the cube root of x.\n",
      "    \n",
      "    ceil(x, /)\n",
      "        Return the ceiling of x as an Integral.\n",
      "        \n",
      "        This is the smallest integer >= x.\n",
      "    \n",
      "    comb(n, k, /)\n",
      "        Number of ways to choose k items from n items without repetition and without order.\n",
      "        \n",
      "        Evaluates to n! / (k! * (n - k)!) when k <= n and evaluates\n",
      "        to zero when k > n.\n",
      "        \n",
      "        Also called the binomial coefficient because it is equivalent\n",
      "        to the coefficient of k-th term in polynomial expansion of the\n",
      "        expression (1 + x)**n.\n",
      "        \n",
      "        Raises TypeError if either of the arguments are not integers.\n",
      "        Raises ValueError if either of the arguments are negative.\n",
      "    \n",
      "    copysign(x, y, /)\n",
      "        Return a float with the magnitude (absolute value) of x but the sign of y.\n",
      "        \n",
      "        On platforms that support signed zeros, copysign(1.0, -0.0)\n",
      "        returns -1.0.\n",
      "    \n",
      "    cos(x, /)\n",
      "        Return the cosine of x (measured in radians).\n",
      "    \n",
      "    cosh(x, /)\n",
      "        Return the hyperbolic cosine of x.\n",
      "    \n",
      "    degrees(x, /)\n",
      "        Convert angle x from radians to degrees.\n",
      "    \n",
      "    dist(p, q, /)\n",
      "        Return the Euclidean distance between two points p and q.\n",
      "        \n",
      "        The points should be specified as sequences (or iterables) of\n",
      "        coordinates.  Both inputs must have the same dimension.\n",
      "        \n",
      "        Roughly equivalent to:\n",
      "            sqrt(sum((px - qx) ** 2.0 for px, qx in zip(p, q)))\n",
      "    \n",
      "    erf(x, /)\n",
      "        Error function at x.\n",
      "    \n",
      "    erfc(x, /)\n",
      "        Complementary error function at x.\n",
      "    \n",
      "    exp(x, /)\n",
      "        Return e raised to the power of x.\n",
      "    \n",
      "    exp2(x, /)\n",
      "        Return 2 raised to the power of x.\n",
      "    \n",
      "    expm1(x, /)\n",
      "        Return exp(x)-1.\n",
      "        \n",
      "        This function avoids the loss of precision involved in the direct evaluation of exp(x)-1 for small x.\n",
      "    \n",
      "    fabs(x, /)\n",
      "        Return the absolute value of the float x.\n",
      "    \n",
      "    factorial(n, /)\n",
      "        Find n!.\n",
      "        \n",
      "        Raise a ValueError if x is negative or non-integral.\n",
      "    \n",
      "    floor(x, /)\n",
      "        Return the floor of x as an Integral.\n",
      "        \n",
      "        This is the largest integer <= x.\n",
      "    \n",
      "    fmod(x, y, /)\n",
      "        Return fmod(x, y), according to platform C.\n",
      "        \n",
      "        x % y may differ.\n",
      "    \n",
      "    frexp(x, /)\n",
      "        Return the mantissa and exponent of x, as pair (m, e).\n",
      "        \n",
      "        m is a float and e is an int, such that x = m * 2.**e.\n",
      "        If x is 0, m and e are both 0.  Else 0.5 <= abs(m) < 1.0.\n",
      "    \n",
      "    fsum(seq, /)\n",
      "        Return an accurate floating point sum of values in the iterable seq.\n",
      "        \n",
      "        Assumes IEEE-754 floating point arithmetic.\n",
      "    \n",
      "    gamma(x, /)\n",
      "        Gamma function at x.\n",
      "    \n",
      "    gcd(*integers)\n",
      "        Greatest Common Divisor.\n",
      "    \n",
      "    hypot(...)\n",
      "        hypot(*coordinates) -> value\n",
      "        \n",
      "        Multidimensional Euclidean distance from the origin to a point.\n",
      "        \n",
      "        Roughly equivalent to:\n",
      "            sqrt(sum(x**2 for x in coordinates))\n",
      "        \n",
      "        For a two dimensional point (x, y), gives the hypotenuse\n",
      "        using the Pythagorean theorem:  sqrt(x*x + y*y).\n",
      "        \n",
      "        For example, the hypotenuse of a 3/4/5 right triangle is:\n",
      "        \n",
      "            >>> hypot(3.0, 4.0)\n",
      "            5.0\n",
      "    \n",
      "    isclose(a, b, *, rel_tol=1e-09, abs_tol=0.0)\n",
      "        Determine whether two floating point numbers are close in value.\n",
      "        \n",
      "          rel_tol\n",
      "            maximum difference for being considered \"close\", relative to the\n",
      "            magnitude of the input values\n",
      "          abs_tol\n",
      "            maximum difference for being considered \"close\", regardless of the\n",
      "            magnitude of the input values\n",
      "        \n",
      "        Return True if a is close in value to b, and False otherwise.\n",
      "        \n",
      "        For the values to be considered close, the difference between them\n",
      "        must be smaller than at least one of the tolerances.\n",
      "        \n",
      "        -inf, inf and NaN behave similarly to the IEEE 754 Standard.  That\n",
      "        is, NaN is not close to anything, even itself.  inf and -inf are\n",
      "        only close to themselves.\n",
      "    \n",
      "    isfinite(x, /)\n",
      "        Return True if x is neither an infinity nor a NaN, and False otherwise.\n",
      "    \n",
      "    isinf(x, /)\n",
      "        Return True if x is a positive or negative infinity, and False otherwise.\n",
      "    \n",
      "    isnan(x, /)\n",
      "        Return True if x is a NaN (not a number), and False otherwise.\n",
      "    \n",
      "    isqrt(n, /)\n",
      "        Return the integer part of the square root of the input.\n",
      "    \n",
      "    lcm(*integers)\n",
      "        Least Common Multiple.\n",
      "    \n",
      "    ldexp(x, i, /)\n",
      "        Return x * (2**i).\n",
      "        \n",
      "        This is essentially the inverse of frexp().\n",
      "    \n",
      "    lgamma(x, /)\n",
      "        Natural logarithm of absolute value of Gamma function at x.\n",
      "    \n",
      "    log(...)\n",
      "        log(x, [base=math.e])\n",
      "        Return the logarithm of x to the given base.\n",
      "        \n",
      "        If the base not specified, returns the natural logarithm (base e) of x.\n",
      "    \n",
      "    log10(x, /)\n",
      "        Return the base 10 logarithm of x.\n",
      "    \n",
      "    log1p(x, /)\n",
      "        Return the natural logarithm of 1+x (base e).\n",
      "        \n",
      "        The result is computed in a way which is accurate for x near zero.\n",
      "    \n",
      "    log2(x, /)\n",
      "        Return the base 2 logarithm of x.\n",
      "    \n",
      "    modf(x, /)\n",
      "        Return the fractional and integer parts of x.\n",
      "        \n",
      "        Both results carry the sign of x and are floats.\n",
      "    \n",
      "    nextafter(x, y, /)\n",
      "        Return the next floating-point value after x towards y.\n",
      "    \n",
      "    perm(n, k=None, /)\n",
      "        Number of ways to choose k items from n items without repetition and with order.\n",
      "        \n",
      "        Evaluates to n! / (n - k)! when k <= n and evaluates\n",
      "        to zero when k > n.\n",
      "        \n",
      "        If k is not specified or is None, then k defaults to n\n",
      "        and the function returns n!.\n",
      "        \n",
      "        Raises TypeError if either of the arguments are not integers.\n",
      "        Raises ValueError if either of the arguments are negative.\n",
      "    \n",
      "    pow(x, y, /)\n",
      "        Return x**y (x to the power of y).\n",
      "    \n",
      "    prod(iterable, /, *, start=1)\n",
      "        Calculate the product of all the elements in the input iterable.\n",
      "        \n",
      "        The default start value for the product is 1.\n",
      "        \n",
      "        When the iterable is empty, return the start value.  This function is\n",
      "        intended specifically for use with numeric values and may reject\n",
      "        non-numeric types.\n",
      "    \n",
      "    radians(x, /)\n",
      "        Convert angle x from degrees to radians.\n",
      "    \n",
      "    remainder(x, y, /)\n",
      "        Difference between x and the closest integer multiple of y.\n",
      "        \n",
      "        Return x - n*y where n*y is the closest integer multiple of y.\n",
      "        In the case where x is exactly halfway between two multiples of\n",
      "        y, the nearest even value of n is used. The result is always exact.\n",
      "    \n",
      "    sin(x, /)\n",
      "        Return the sine of x (measured in radians).\n",
      "    \n",
      "    sinh(x, /)\n",
      "        Return the hyperbolic sine of x.\n",
      "    \n",
      "    sqrt(x, /)\n",
      "        Return the square root of x.\n",
      "    \n",
      "    tan(x, /)\n",
      "        Return the tangent of x (measured in radians).\n",
      "    \n",
      "    tanh(x, /)\n",
      "        Return the hyperbolic tangent of x.\n",
      "    \n",
      "    trunc(x, /)\n",
      "        Truncates the Real x to the nearest Integral toward 0.\n",
      "        \n",
      "        Uses the __trunc__ magic method.\n",
      "    \n",
      "    ulp(x, /)\n",
      "        Return the value of the least significant bit of the float x.\n",
      "\n",
      "DATA\n",
      "    e = 2.718281828459045\n",
      "    inf = inf\n",
      "    nan = nan\n",
      "    pi = 3.141592653589793\n",
      "    tau = 6.283185307179586\n",
      "\n",
      "FILE\n",
      "    (built-in)\n",
      "\n",
      "\n"
     ]
    }
   ],
   "source": [
    "import math\n",
    "help(\"math\")"
   ]
  },
  {
   "cell_type": "code",
   "execution_count": 5,
   "metadata": {},
   "outputs": [
    {
     "data": {
      "text/plain": [
       "3.141592653589793"
      ]
     },
     "execution_count": 5,
     "metadata": {},
     "output_type": "execute_result"
    }
   ],
   "source": [
    "math.pi"
   ]
  },
  {
   "cell_type": "code",
   "execution_count": 6,
   "metadata": {},
   "outputs": [
    {
     "data": {
      "text/plain": [
       "2.718281828459045"
      ]
     },
     "execution_count": 6,
     "metadata": {},
     "output_type": "execute_result"
    }
   ],
   "source": [
    "math.e"
   ]
  },
  {
   "cell_type": "code",
   "execution_count": 8,
   "metadata": {},
   "outputs": [
    {
     "data": {
      "text/plain": [
       "4"
      ]
     },
     "execution_count": 8,
     "metadata": {},
     "output_type": "execute_result"
    }
   ],
   "source": [
    "math.floor(4.9)"
   ]
  },
  {
   "cell_type": "code",
   "execution_count": 9,
   "metadata": {},
   "outputs": [
    {
     "data": {
      "text/plain": [
       "5"
      ]
     },
     "execution_count": 9,
     "metadata": {},
     "output_type": "execute_result"
    }
   ],
   "source": [
    "math.ceil(4.3)"
   ]
  },
  {
   "cell_type": "code",
   "execution_count": 10,
   "metadata": {},
   "outputs": [
    {
     "data": {
      "text/plain": [
       "120"
      ]
     },
     "execution_count": 10,
     "metadata": {},
     "output_type": "execute_result"
    }
   ],
   "source": [
    "math.factorial(5)"
   ]
  },
  {
   "cell_type": "code",
   "execution_count": 11,
   "metadata": {},
   "outputs": [
    {
     "data": {
      "text/plain": [
       "2.23606797749979"
      ]
     },
     "execution_count": 11,
     "metadata": {},
     "output_type": "execute_result"
    }
   ],
   "source": [
    "math.sqrt(5)"
   ]
  },
  {
   "cell_type": "code",
   "execution_count": 12,
   "metadata": {},
   "outputs": [],
   "source": [
    "import random"
   ]
  },
  {
   "cell_type": "code",
   "execution_count": 14,
   "metadata": {},
   "outputs": [
    {
     "data": {
      "text/plain": [
       "86"
      ]
     },
     "execution_count": 14,
     "metadata": {},
     "output_type": "execute_result"
    }
   ],
   "source": [
    "random.randint(0, 100)"
   ]
  },
  {
   "cell_type": "code",
   "execution_count": 17,
   "metadata": {},
   "outputs": [
    {
     "name": "stdout",
     "output_type": "stream",
     "text": [
      "[1, 8, 2, 4, 7, 3, 5, 6]\n"
     ]
    }
   ],
   "source": [
    "a = [1,2,3,4,5,6,7,8,]\n",
    "b = random.shuffle(a)\n",
    "print(a)"
   ]
  },
  {
   "cell_type": "code",
   "execution_count": 18,
   "metadata": {},
   "outputs": [],
   "source": [
    "import time"
   ]
  },
  {
   "cell_type": "code",
   "execution_count": 19,
   "metadata": {},
   "outputs": [
    {
     "data": {
      "text/plain": [
       "1687162016.5895016"
      ]
     },
     "execution_count": 19,
     "metadata": {},
     "output_type": "execute_result"
    }
   ],
   "source": [
    "time.time()"
   ]
  },
  {
   "cell_type": "code",
   "execution_count": 20,
   "metadata": {},
   "outputs": [
    {
     "data": {
      "text/plain": [
       "'Mon Jun 19 13:07:03 2023'"
      ]
     },
     "execution_count": 20,
     "metadata": {},
     "output_type": "execute_result"
    }
   ],
   "source": [
    "time.ctime()"
   ]
  },
  {
   "cell_type": "code",
   "execution_count": 22,
   "metadata": {},
   "outputs": [
    {
     "name": "stdout",
     "output_type": "stream",
     "text": [
      "Hello\n",
      "World\n"
     ]
    }
   ],
   "source": [
    "print('Hello')\n",
    "time.sleep(2)\n",
    "print('World')"
   ]
  },
  {
   "cell_type": "code",
   "execution_count": 23,
   "metadata": {},
   "outputs": [],
   "source": [
    "import os"
   ]
  },
  {
   "cell_type": "code",
   "execution_count": 24,
   "metadata": {},
   "outputs": [
    {
     "data": {
      "text/plain": [
       "'e:\\\\Machine-Learning-Complete-Course\\\\Python Tutorials'"
      ]
     },
     "execution_count": 24,
     "metadata": {},
     "output_type": "execute_result"
    }
   ],
   "source": [
    "os.getcwd()"
   ]
  },
  {
   "cell_type": "code",
   "execution_count": 25,
   "metadata": {},
   "outputs": [
    {
     "data": {
      "text/plain": [
       "['breakContinuePassStatement.ipynb',\n",
       " 'builtinFunctions.ipynb',\n",
       " 'builtinModules.ipynb',\n",
       " 'comments.ipynb',\n",
       " 'forLoop.ipynb',\n",
       " 'guessGame.ipynb',\n",
       " 'hello.py',\n",
       " 'ifelse.ipynb',\n",
       " 'indentation.ipynb',\n",
       " 'keywordsAndIdentifiers.ipynb',\n",
       " 'lilterals.ipynb',\n",
       " 'nestedForLoop.ipynb',\n",
       " 'operators.ipynb',\n",
       " 'printFunction.ipynb',\n",
       " 'pythonDatatypes.ipynb',\n",
       " 'takingInputFromUser.ipynb',\n",
       " 'typeConversion.ipynb',\n",
       " 'variables.ipynb',\n",
       " 'whileLoop.ipynb']"
      ]
     },
     "execution_count": 25,
     "metadata": {},
     "output_type": "execute_result"
    }
   ],
   "source": [
    "os.listdir()"
   ]
  },
  {
   "attachments": {},
   "cell_type": "markdown",
   "metadata": {},
   "source": [
    "Question:   Can i make my own modules ?"
   ]
  }
 ],
 "metadata": {
  "kernelspec": {
   "display_name": "Python 3",
   "language": "python",
   "name": "python3"
  },
  "language_info": {
   "codemirror_mode": {
    "name": "ipython",
    "version": 3
   },
   "file_extension": ".py",
   "mimetype": "text/x-python",
   "name": "python",
   "nbconvert_exporter": "python",
   "pygments_lexer": "ipython3",
   "version": "3.11.4"
  },
  "orig_nbformat": 4
 },
 "nbformat": 4,
 "nbformat_minor": 2
}
