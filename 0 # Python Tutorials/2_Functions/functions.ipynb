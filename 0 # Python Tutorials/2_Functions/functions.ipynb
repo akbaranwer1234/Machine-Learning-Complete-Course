{
 "cells": [
  {
   "cell_type": "code",
   "execution_count": null,
   "metadata": {},
   "outputs": [],
   "source": [
    "Properties\n",
    "    Abstraction\n",
    "    Decompisition"
   ]
  },
  {
   "attachments": {},
   "cell_type": "markdown",
   "metadata": {},
   "source": [
    "Components of a Function\n",
    "    def is_even (i):\n",
    "    \"\"\"\n",
    "    Documentation strings for function\"\"\"\n",
    "\n",
    "    //body\n",
    "    //body\n",
    "    //...\n",
    "\n",
    "    return something"
   ]
  },
  {
   "cell_type": "code",
   "execution_count": 7,
   "metadata": {},
   "outputs": [],
   "source": [
    "def is_even (i):\n",
    "\n",
    "    \"\"\"\n",
    "        This function tells that the given number is even or odd\n",
    "        input => Any valid integer\n",
    "        output => Odd or Even\n",
    "        created by => Muhammad Akbar\n",
    "        created date => 20 June, 2015\n",
    "        last modified by => Muhammad Akbar\n",
    "        last modified_date => 22 June, 2015\n",
    "    \"\"\"\n",
    "\n",
    "    if i % 2 == 0:\n",
    "        print(\"The number is Even\")\n",
    "    else:\n",
    "        print(\"The number is odd\")"
   ]
  },
  {
   "cell_type": "code",
   "execution_count": 8,
   "metadata": {},
   "outputs": [
    {
     "name": "stdout",
     "output_type": "stream",
     "text": [
      "The number is odd\n"
     ]
    }
   ],
   "source": [
    "is_even(5)"
   ]
  },
  {
   "cell_type": "code",
   "execution_count": 10,
   "metadata": {},
   "outputs": [
    {
     "name": "stdout",
     "output_type": "stream",
     "text": [
      "\n",
      "    This function tells that the given number is even or odd\n",
      "    input => Any valid integer\n",
      "    output => Odd or Even\n",
      "    created by => Muhammad Akbar\n",
      "    created date => 20 June, 2015\n",
      "    last modified by => Muhammad Akbar\n",
      "    last modified_date => 22 June, 2015\n",
      "    \n"
     ]
    }
   ],
   "source": [
    "docString = is_even.__doc__\n",
    "print(docString)"
   ]
  },
  {
   "cell_type": "code",
   "execution_count": 18,
   "metadata": {},
   "outputs": [
    {
     "name": "stdout",
     "output_type": "stream",
     "text": [
      "Hello, World!\n",
      "None\n"
     ]
    }
   ],
   "source": [
    "def my_function():\n",
    "    print(\"Hello, World!\")\n",
    "\n",
    "result = my_function()\n",
    "print(result)\n"
   ]
  },
  {
   "attachments": {},
   "cell_type": "markdown",
   "metadata": {},
   "source": [
    "How to import one notebook into another notebook"
   ]
  },
  {
   "cell_type": "code",
   "execution_count": null,
   "metadata": {},
   "outputs": [],
   "source": [
    "pip install import_ipynb\n",
    "%run notebook_to_import.ipynb"
   ]
  }
 ],
 "metadata": {
  "kernelspec": {
   "display_name": "Python 3",
   "language": "python",
   "name": "python3"
  },
  "language_info": {
   "codemirror_mode": {
    "name": "ipython",
    "version": 3
   },
   "file_extension": ".py",
   "mimetype": "text/x-python",
   "name": "python",
   "nbconvert_exporter": "python",
   "pygments_lexer": "ipython3",
   "version": "3.11.4"
  },
  "orig_nbformat": 4
 },
 "nbformat": 4,
 "nbformat_minor": 2
}
