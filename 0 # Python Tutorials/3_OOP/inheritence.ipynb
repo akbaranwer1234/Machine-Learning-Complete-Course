{
 "cells": [
  {
   "cell_type": "code",
   "execution_count": 6,
   "metadata": {},
   "outputs": [],
   "source": [
    "class Manager:\n",
    "\n",
    "    noOfManagers = 0\n",
    "    incrementPerYear = 1.02\n",
    "    # print(type(incrementPerYear))\n",
    "\n",
    "    def __init__(self, fname, lname, email, salary, department):\n",
    "        self.fname = fname\n",
    "        self.lname = lname\n",
    "        self.email = email\n",
    "        self.salary = salary\n",
    "        self.department = department\n",
    "\n",
    "        Manager.noOfManagers += 1\n",
    "\n",
    "    def full_name (self):\n",
    "        return self.fname + \" \" + self.lname\n",
    "        # return '{} {}'.format(self.fname, self.lname)\n",
    "\n",
    "    def apply_increment (self):\n",
    "        self.salary = self.incrementPerYear * self.salary\n",
    "\n",
    "    @classmethod \n",
    "    # This works as an alternative constructor for the class\n",
    "    def set_increment_per_year (cls, value):\n",
    "        cls.incrementPerYear = value\n",
    "    \n",
    "    @classmethod\n",
    "    def split_manager_data (cls, string):\n",
    "        fname, lname, email, salary, department = string.split('-')\n",
    "        return cls(fname, lname, email, salary, department)\n",
    "\n",
    "    @staticmethod\n",
    "    def check_email (email):\n",
    "        if '@' in email and not '@@' in email:\n",
    "            print('Email is valid')\n",
    "        else:\n",
    "            print('Incalid Email')\n",
    "\n",
    "    @staticmethod\n",
    "    def is_workday(day):\n",
    "        if day.weekday() == 5 or day.weekday() == 6:\n",
    "            return False\n",
    "        return True\n",
    "            "
   ]
  },
  {
   "cell_type": "code",
   "execution_count": 7,
   "metadata": {},
   "outputs": [],
   "source": [
    "mgr_1 = Manager('James', 'bond', 'james.bond@gmail.com', 50000, 'CIA')\n",
    "mgr_2 = Manager('John', 'Wick', 'john.wick@gmail.com', 90000, 'MIA')"
   ]
  },
  {
   "cell_type": "code",
   "execution_count": 8,
   "metadata": {},
   "outputs": [],
   "source": [
    "mgr_3 = Manager.split_manager_data(('John-Wick-john.wick@gmail.com-90000-MIA'))"
   ]
  },
  {
   "cell_type": "code",
   "execution_count": 9,
   "metadata": {},
   "outputs": [],
   "source": [
    "class TeamLead (Manager):\n",
    "\n",
    "    noOfTeamLeads = 0\n",
    "    incrementPerYear = 1.02\n",
    "\n",
    "    def __init__(self, fname, lname, email, salary, department, managerName):\n",
    "        super.__init__(fname, lname, email, salary, department)\n",
    "        self.managerName = managerName"
   ]
  },
  {
   "cell_type": "code",
   "execution_count": 10,
   "metadata": {},
   "outputs": [],
   "source": [
    "class SeniorDeveloper (TeamLead):\n",
    "\n",
    "    noOfSeniorDevelopers = 0\n",
    "    incrementPerYear = 1.02  \n",
    "\n",
    "    def __init__(self, fname, lname, email, salary, department, teamLeadName):\n",
    "        super.__init__(fname, lname, email, salary, department)\n",
    "        self.teamLeadName = teamLeadName"
   ]
  },
  {
   "cell_type": "code",
   "execution_count": 11,
   "metadata": {},
   "outputs": [],
   "source": [
    "class Developer (SeniorDeveloper):\n",
    "\n",
    "    noOfDeveloper = 0\n",
    "    incrementPerYear = 1.02  \n",
    "\n",
    "    def __init__(self, fname, lname, email, salary, department, seniorDeveloperName):\n",
    "        super.__init__(fname, lname, email, salary, department)\n",
    "        self.seniorDeveloperName = seniorDeveloperName"
   ]
  },
  {
   "cell_type": "code",
   "execution_count": 12,
   "metadata": {},
   "outputs": [],
   "source": [
    "class Internee (Developer):\n",
    "\n",
    "    noOfInternees = 0\n",
    "    incrementPerYear = 1.02  \n",
    "\n",
    "    def __init__(self, fname, lname, email, salary, department, developerName):\n",
    "        super.__init__(fname, lname, email, salary, department)\n",
    "        self.developerName = developerName"
   ]
  },
  {
   "cell_type": "code",
   "execution_count": 13,
   "metadata": {},
   "outputs": [],
   "source": [
    "internee = Manager.split_manager_data(('John-Wick-john.wick@gmail.com-90000-MIA'))"
   ]
  },
  {
   "cell_type": "code",
   "execution_count": 14,
   "metadata": {},
   "outputs": [
    {
     "data": {
      "text/plain": [
       "'John'"
      ]
     },
     "execution_count": 14,
     "metadata": {},
     "output_type": "execute_result"
    }
   ],
   "source": [
    "internee.fname"
   ]
  },
  {
   "cell_type": "code",
   "execution_count": 15,
   "metadata": {},
   "outputs": [
    {
     "name": "stdout",
     "output_type": "stream",
     "text": [
      "Sue.Smith@email.com\n",
      "--> Corey Schafer\n"
     ]
    }
   ],
   "source": [
    "class Employee:\n",
    "\n",
    "    raise_amt = 1.04\n",
    "\n",
    "    def __init__(self, first, last, pay):\n",
    "        self.first = first\n",
    "        self.last = last\n",
    "        self.email = first + '.' + last + '@email.com'\n",
    "        self.pay = pay\n",
    "\n",
    "    def fullname(self):\n",
    "        return '{} {}'.format(self.first, self.last)\n",
    "\n",
    "    def apply_raise(self):\n",
    "        self.pay = int(self.pay * self.raise_amt)\n",
    "\n",
    "\n",
    "class Developer(Employee):\n",
    "    raise_amt = 1.10\n",
    "\n",
    "    def __init__(self, first, last, pay, prog_lang):\n",
    "        super().__init__(first, last, pay)\n",
    "        self.prog_lang = prog_lang\n",
    "\n",
    "\n",
    "class Manager(Employee):\n",
    "\n",
    "    def __init__(self, first, last, pay, employees=None):\n",
    "        super().__init__(first, last, pay)\n",
    "        if employees is None:\n",
    "            self.employees = []\n",
    "        else:\n",
    "            self.employees = employees\n",
    "\n",
    "    def add_emp(self, emp):\n",
    "        if emp not in self.employees:\n",
    "            self.employees.append(emp)\n",
    "\n",
    "    def remove_emp(self, emp):\n",
    "        if emp in self.employees:\n",
    "            self.employees.remove(emp)\n",
    "\n",
    "    def print_emps(self):\n",
    "        for emp in self.employees:\n",
    "            print('-->', emp.fullname())\n",
    "\n",
    "\n",
    "dev_1 = Developer('Corey', 'Schafer', 50000, 'Python')\n",
    "dev_2 = Developer('Test', 'Employee', 60000, 'Java')\n",
    "\n",
    "mgr_1 = Manager('Sue', 'Smith', 90000, [dev_1])\n",
    "\n",
    "print(mgr_1.email)\n",
    "\n",
    "mgr_1.add_emp(dev_2)\n",
    "mgr_1.remove_emp(dev_2)\n",
    "\n",
    "mgr_1.print_emps()"
   ]
  }
 ],
 "metadata": {
  "kernelspec": {
   "display_name": "Python 3",
   "language": "python",
   "name": "python3"
  },
  "language_info": {
   "codemirror_mode": {
    "name": "ipython",
    "version": 3
   },
   "file_extension": ".py",
   "mimetype": "text/x-python",
   "name": "python",
   "nbconvert_exporter": "python",
   "pygments_lexer": "ipython3",
   "version": "3.11.4"
  },
  "orig_nbformat": 4
 },
 "nbformat": 4,
 "nbformat_minor": 2
}
