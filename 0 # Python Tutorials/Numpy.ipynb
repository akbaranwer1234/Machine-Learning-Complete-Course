{
 "cells": [
  {
   "cell_type": "code",
   "execution_count": 1,
   "metadata": {},
   "outputs": [],
   "source": [
    "import numpy as np"
   ]
  },
  {
   "cell_type": "markdown",
   "metadata": {},
   "source": [
    "**Creating Arrays**"
   ]
  },
  {
   "cell_type": "code",
   "execution_count": 113,
   "metadata": {},
   "outputs": [
    {
     "name": "stdout",
     "output_type": "stream",
     "text": [
      "[1 2 3]\n",
      "\n",
      "[[1 2 3]\n",
      " [4 5 6]]\n",
      "\n",
      "[[0. 0. 0. 0.]\n",
      " [0. 0. 0. 0.]\n",
      " [0. 0. 0. 0.]]\n",
      "\n",
      "[[[1. 1. 1. 1.]\n",
      "  [1. 1. 1. 1.]\n",
      "  [1. 1. 1. 1.]]\n",
      "\n",
      " [[1. 1. 1. 1.]\n",
      "  [1. 1. 1. 1.]\n",
      "  [1. 1. 1. 1.]]]\n",
      "\n"
     ]
    }
   ],
   "source": [
    "alpha = np.array([1,2,3], dtype=int)\n",
    "beta = np.array([[1,2,3], [4,5,6]], dtype=np.int16)\n",
    "ceta = np.zeros((3,4))\n",
    "delta = np.ones((2,3,4))\n",
    "\n",
    "print(alpha, end='\\n\\n')\n",
    "print(beta, end='\\n\\n')\n",
    "print(ceta, end='\\n\\n')\n",
    "print(delta, end='\\n\\n')"
   ]
  },
  {
   "cell_type": "code",
   "execution_count": 114,
   "metadata": {},
   "outputs": [
    {
     "name": "stdout",
     "output_type": "stream",
     "text": [
      "[10 13 16 19 22]\n",
      "\n",
      "[0.   0.25 0.5  0.75 1.   1.25 1.5  1.75 2.  ]\n",
      "\n",
      "[[7 7]\n",
      " [7 7]]\n",
      "\n",
      "[[1. 0. 0.]\n",
      " [0. 1. 0.]\n",
      " [0. 0. 1.]]\n",
      "\n",
      "[[1. 0. 0.]\n",
      " [0. 1. 0.]\n",
      " [0. 0. 1.]]\n",
      "\n",
      "[[[ 0  1]\n",
      "  [ 2  3]\n",
      "  [ 4  5]\n",
      "  [ 6  7]]\n",
      "\n",
      " [[ 8  9]\n",
      "  [10 11]\n",
      "  [12 13]\n",
      "  [14 15]]]\n"
     ]
    }
   ],
   "source": [
    "alpha = np.arange(10, 25, 3)\n",
    "beta = np.linspace(0,2,9)\n",
    "ceta = np.full((2,2),7)\n",
    "delta = np.eye(3)\n",
    "\n",
    "print(alpha, end='\\n\\n')\n",
    "print(beta, end='\\n\\n')\n",
    "print(ceta, end='\\n\\n')\n",
    "print(delta, end='\\n\\n')\n",
    "print(np.identity(3), end='\\n\\n')\n",
    "print(np.arange(16).reshape(2,4,2))"
   ]
  },
  {
   "cell_type": "code",
   "execution_count": 115,
   "metadata": {},
   "outputs": [
    {
     "name": "stdout",
     "output_type": "stream",
     "text": [
      "[[0.15383525 0.88963383]\n",
      " [0.58954176 0.80741018]]\n",
      "\n",
      "0.42353532556963513\n",
      "\n",
      "[0.15459381 0.22905443 0.24562887 0.02299168 0.09345264]\n",
      "\n",
      "[[0.44128333 0.77562746]\n",
      " [0.41823939 0.09322452]]\n",
      "\n",
      "[[3 3]\n",
      " [1 5]]\n",
      "\n",
      "[[6.23042070e-307 1.33512376e-306]\n",
      " [1.11261230e-306 7.56577399e-307]\n",
      " [9.34600963e-307 5.56268465e-309]]\n",
      "\n",
      "[9.19585487 6.53686543 3.85117403 2.25642368 3.49587618]\n",
      "\n",
      "[[15. 89.]\n",
      " [59. 81.]]\n"
     ]
    }
   ],
   "source": [
    "alpha = np.random.random((2,2))\n",
    "beta = np.random.rand(2,2)\n",
    "ceta = np.random.randint(0, 10, (2,2))\n",
    "delta = np.empty((3,2))\n",
    "\n",
    "print(alpha, end='\\n\\n')\n",
    "print(np.random.rand(), end='\\n\\n')\n",
    "print(np.random.rand(5), end='\\n\\n')\n",
    "print(beta, end='\\n\\n')\n",
    "print(ceta, end='\\n\\n')\n",
    "print(delta, end='\\n\\n')\n",
    "print(np.random.uniform(0, 10, 5), end='\\n\\n')\n",
    "print(np.round(alpha*100))"
   ]
  },
  {
   "cell_type": "markdown",
   "metadata": {},
   "source": [
    "**Random, linspace, Randint, Uniform, Arange**"
   ]
  },
  {
   "cell_type": "code",
   "execution_count": 136,
   "metadata": {},
   "outputs": [
    {
     "name": "stdout",
     "output_type": "stream",
     "text": [
      "0.8567890719752604\n",
      "\n",
      "[0.44285002 0.2725018  0.8019581  0.94387948 0.602848  ]\n",
      "\n",
      "[[0.21726727 0.84123462 0.95425116]\n",
      " [0.16406641 0.29253393 0.65822284]\n",
      " [0.40695503 0.66725438 0.87692383]]\n",
      "\n",
      "[[2 5 7]\n",
      " [2 3 3]\n",
      " [7 1 2]]\n",
      "\n",
      "[[0.536403   0.00995111 0.71196155]\n",
      " [0.57871692 0.73696846 0.20749627]\n",
      " [0.99704583 0.71104489 0.63363545]]\n",
      "\n",
      "[0 1 2 3 4]\n",
      "\n",
      "[2 3 4 5 6 7 8 9]\n",
      "\n",
      "[2 5 8]\n",
      "\n"
     ]
    },
    {
     "data": {
      "text/plain": [
       "'\\n    1. -- np.random.random() and np.random.uniform() both generate random floats, \\n        but np.random.random() only generates floats in the range [0.0, 1.0) \\n        while np.random.uniform() allows specifying a custom range.\\n    2. -- np.random.randint() generates random integers within a specified range.\\n    3. -- \\n'"
      ]
     },
     "execution_count": 136,
     "metadata": {},
     "output_type": "execute_result"
    }
   ],
   "source": [
    "random_float = np.random.random()\n",
    "print(random_float, end='\\n\\n')\n",
    "random_float = np.random.random(5)\n",
    "print(random_float, end='\\n\\n')\n",
    "random_float = np.random.random((3,3))\n",
    "print(random_float, end='\\n\\n')\n",
    "random_int = np.random.randint(1, 10, size=(3, 3))\n",
    "print(random_int, end='\\n\\n')\n",
    "random_uniform = np.random.uniform(0.0, 1.0, size=(3, 3))\n",
    "print(random_uniform, end='\\n\\n')\n",
    "array = np.arange(5)\n",
    "print(array, end='\\n\\n')\n",
    "array = np.arange(2, 10)\n",
    "print(array, end='\\n\\n')\n",
    "array = np.arange(2, 10, 3)\n",
    "print(array, end='\\n\\n')\n",
    "\n",
    "\"\"\"\n",
    "    1. -- np.random.random() and np.random.uniform() both generate random floats, \n",
    "          but np.random.random() only generates floats in the range [0.0, 1.0) \n",
    "          while np.random.uniform() allows specifying a custom range.\n",
    "    2. -- np.random.randint() generates random integers within a specified range.\n",
    "    3. -- \n",
    "\"\"\"\n"
   ]
  },
  {
   "cell_type": "markdown",
   "metadata": {},
   "source": [
    "**Inspecting the Array**"
   ]
  },
  {
   "cell_type": "code",
   "execution_count": 116,
   "metadata": {},
   "outputs": [
    {
     "name": "stdout",
     "output_type": "stream",
     "text": [
      "(2, 2)\n",
      "2\n",
      "2\n",
      "4\n",
      "float64\n",
      "float64\n",
      "[[0.15383525 0.88963383]\n",
      " [0.58954176 0.80741018]]\n"
     ]
    }
   ],
   "source": [
    "print(alpha.shape)\n",
    "print(len(alpha))\n",
    "print(alpha.ndim)\n",
    "print(alpha.size)\n",
    "print(alpha.dtype)\n",
    "print(alpha.dtype.name)\n",
    "print(alpha.astype(float))"
   ]
  },
  {
   "cell_type": "markdown",
   "metadata": {},
   "source": [
    "**Asking for Help**"
   ]
  },
  {
   "cell_type": "code",
   "execution_count": 117,
   "metadata": {},
   "outputs": [
    {
     "name": "stdout",
     "output_type": "stream",
     "text": [
      "Data-type of the array's elements.\n",
      "\n",
      ".. warning::\n",
      "\n",
      "    Setting ``arr.dtype`` is discouraged and may be deprecated in the\n",
      "    future.  Setting will replace the ``dtype`` without modifying the\n",
      "    memory (see also `ndarray.view` and `ndarray.astype`).\n",
      "\n",
      "Parameters\n",
      "----------\n",
      "None\n",
      "\n",
      "Returns\n",
      "-------\n",
      "d : numpy dtype object\n",
      "\n",
      "See Also\n",
      "--------\n",
      "ndarray.astype : Cast the values contained in the array to a new data-type.\n",
      "ndarray.view : Create a view of the same data but a different data-type.\n",
      "numpy.dtype\n",
      "\n",
      "Examples\n",
      "--------\n",
      ">>> x\n",
      "array([[0, 1],\n",
      "       [2, 3]])\n",
      ">>> x.dtype\n",
      "dtype('int32')\n",
      ">>> type(x.dtype)\n",
      "<type 'numpy.dtype'>\n"
     ]
    }
   ],
   "source": [
    "np.info(np.ndarray.dtype)"
   ]
  },
  {
   "cell_type": "markdown",
   "metadata": {},
   "source": [
    "**Array Mathematics**"
   ]
  },
  {
   "cell_type": "code",
   "execution_count": 118,
   "metadata": {},
   "outputs": [
    {
     "name": "stdout",
     "output_type": "stream",
     "text": [
      "(2, 2) (2, 2)\n",
      "[[-0.28744808  0.11400637]\n",
      " [ 0.17130238  0.71418566]]\n",
      "[[-0.28744808  0.11400637]\n",
      " [ 0.17130238  0.71418566]]\n",
      "[[0.59511859 1.66526129]\n",
      " [1.00778115 0.9006347 ]]\n",
      "[[0.59511859 1.66526129]\n",
      " [1.00778115 0.9006347 ]]\n",
      "[[0.3486088  1.14698599]\n",
      " [1.40957973 8.66092056]]\n",
      "[[0.3486088  1.14698599]\n",
      " [1.40957973 8.66092056]]\n",
      "[[0.06788493 0.69002443]\n",
      " [0.24656959 0.07527043]]\n",
      "[[0.06788493 0.69002443]\n",
      " [0.24656959 0.07527043]]\n",
      "[[1.16629873 2.43423814]\n",
      " [1.80316195 2.24209384]]\n",
      "[[0.39221837 0.94320402]\n",
      " [0.76781623 0.89856006]]\n",
      "[[0.15322921 0.77684122]\n",
      " [0.5559802  0.72249907]]\n",
      "[[0.98819067 0.62969652]\n",
      " [0.83119554 0.69137189]]\n",
      "[[-1.87187304 -0.11694533]\n",
      " [-0.52840972 -0.21392346]]\n",
      "[[0.43996484 0.20225453]\n",
      " [0.59784569 0.53253521]]\n"
     ]
    }
   ],
   "source": [
    "print(np.shape(alpha), beta.shape)\n",
    "print(alpha - beta)\n",
    "print(np.subtract(alpha, beta))\n",
    "print(alpha + beta)\n",
    "print(np.add(beta, alpha))\n",
    "print(alpha / beta)\n",
    "print(np.divide(alpha, beta))\n",
    "print(alpha * beta)\n",
    "print(np.multiply(alpha, beta))\n",
    "print(np.exp(alpha))\n",
    "print(np.sqrt(alpha))\n",
    "print(np.sin(alpha))\n",
    "print(np.cos(alpha))\n",
    "print(np.log(alpha))\n",
    "print(alpha.dot(beta))"
   ]
  },
  {
   "cell_type": "markdown",
   "metadata": {},
   "source": [
    "**Comparison**"
   ]
  },
  {
   "cell_type": "code",
   "execution_count": 119,
   "metadata": {},
   "outputs": [
    {
     "name": "stdout",
     "output_type": "stream",
     "text": [
      "[[False False]\n",
      " [False False]]\n",
      "[[ True  True]\n",
      " [ True  True]]\n",
      "False\n"
     ]
    }
   ],
   "source": [
    "print(alpha == beta)\n",
    "print(alpha < 3)\n",
    "print(np.array_equal(alpha, beta))"
   ]
  },
  {
   "cell_type": "markdown",
   "metadata": {},
   "source": [
    "**Aggregate Functions**"
   ]
  },
  {
   "cell_type": "code",
   "execution_count": 120,
   "metadata": {},
   "outputs": [
    {
     "name": "stdout",
     "output_type": "stream",
     "text": [
      "2.4404210274006424\n",
      "0.1538352523274943\n",
      "[0.88963383 0.80741018]\n",
      "[[0.15383525 0.88963383]\n",
      " [0.74337702 1.69704401]]\n",
      "0.6101052568501606\n",
      "0.6984759721771145\n",
      "[[1. 1.]\n",
      " [1. 1.]]\n",
      "0.2853377958932627\n"
     ]
    }
   ],
   "source": [
    "# axis = 0 => Row\n",
    "# axis = 1 => Column\n",
    "print(alpha.sum())\n",
    "print(alpha.min())\n",
    "print(alpha.max(axis=1))\n",
    "print(alpha.cumsum(axis=0))\n",
    "print(alpha.mean())\n",
    "print(np.median(alpha))\n",
    "print(np.corrcoef(alpha))\n",
    "print(np.std(alpha))"
   ]
  },
  {
   "cell_type": "markdown",
   "metadata": {},
   "source": [
    "**Copying Arrays**"
   ]
  },
  {
   "cell_type": "code",
   "execution_count": 121,
   "metadata": {},
   "outputs": [
    {
     "name": "stdout",
     "output_type": "stream",
     "text": [
      "[[0.15383525 0.88963383]\n",
      " [0.58954176 0.80741018]]\n",
      "[[0.15383525 0.88963383]\n",
      " [0.58954176 0.80741018]]\n",
      "[[0.15383525 0.88963383]\n",
      " [0.58954176 0.80741018]]\n"
     ]
    }
   ],
   "source": [
    "test = alpha.view()\n",
    "print(test)\n",
    "test = np.copy(alpha)\n",
    "print(test)\n",
    "test = alpha.copy()\n",
    "print(test)"
   ]
  },
  {
   "cell_type": "markdown",
   "metadata": {},
   "source": [
    "**Sorting Arrays**"
   ]
  },
  {
   "cell_type": "code",
   "execution_count": 122,
   "metadata": {},
   "outputs": [
    {
     "name": "stdout",
     "output_type": "stream",
     "text": [
      "None\n",
      "None\n"
     ]
    }
   ],
   "source": [
    "print(alpha.sort())\n",
    "print(alpha.sort(axis=0))"
   ]
  },
  {
   "cell_type": "markdown",
   "metadata": {},
   "source": [
    "**Subsetting**"
   ]
  },
  {
   "cell_type": "code",
   "execution_count": 100,
   "metadata": {},
   "outputs": [
    {
     "name": "stdout",
     "output_type": "stream",
     "text": [
      "[[0.30149922 0.76616933]\n",
      " [0.59015872 0.90981225]]\n",
      "[0.59015872 0.90981225]\n",
      "0.9098122458961421\n"
     ]
    }
   ],
   "source": [
    "print(alpha)\n",
    "print(alpha[1])\n",
    "print(alpha[1,1])"
   ]
  },
  {
   "cell_type": "markdown",
   "metadata": {},
   "source": [
    "**Slicing**"
   ]
  },
  {
   "cell_type": "code",
   "execution_count": 124,
   "metadata": {},
   "outputs": [
    {
     "name": "stdout",
     "output_type": "stream",
     "text": [
      "[[0.15383525 0.80741018]\n",
      " [0.58954176 0.88963383]]\n",
      "\n",
      "[[0.15383525 0.80741018]]\n",
      "\n",
      "[0.80741018]\n",
      "\n",
      "[0.80741018 0.88963383]\n",
      "\n",
      "[[0.15383525 0.80741018]]\n",
      "\n",
      "[0.58954176 0.88963383]\n",
      "\n",
      "[[0.58954176 0.88963383]\n",
      " [0.15383525 0.80741018]]\n",
      "\n",
      "[[4 3 5 6]\n",
      " [6 6 5 0]\n",
      " [7 2 7 1]\n",
      " [1 9 9 7]]\n",
      "\n",
      "[[4 3 6]\n",
      " [7 2 1]]\n"
     ]
    }
   ],
   "source": [
    "alpha.reshape(2,2)\n",
    "print(alpha, end='\\n\\n')\n",
    "print(alpha[0:1], end='\\n\\n')\n",
    "print(alpha[0:1, 1], end='\\n\\n')\n",
    "print(alpha[:, 1], end='\\n\\n')\n",
    "print(alpha[:1], end='\\n\\n')\n",
    "print(alpha[1,...], end='\\n\\n')\n",
    "print(alpha[::-1], end='\\n\\n')\n",
    "test = np.random.randint(0, 10, (4,4))\n",
    "print(test, end='\\n\\n')\n",
    "# before first \",\" means row and after it means columns\n",
    "print(test[::2,[0,1,3]])"
   ]
  },
  {
   "cell_type": "markdown",
   "metadata": {},
   "source": [
    "**Boolean Indexing**"
   ]
  },
  {
   "cell_type": "code",
   "execution_count": 102,
   "metadata": {},
   "outputs": [
    {
     "name": "stdout",
     "output_type": "stream",
     "text": [
      "[]\n",
      "[0.30149922 0.76616933 0.59015872 0.90981225]\n"
     ]
    }
   ],
   "source": [
    "print(alpha[alpha<0.1])\n",
    "print(alpha[alpha<1])"
   ]
  },
  {
   "cell_type": "markdown",
   "metadata": {},
   "source": [
    "**Transpoing Array**"
   ]
  },
  {
   "cell_type": "code",
   "execution_count": 103,
   "metadata": {},
   "outputs": [
    {
     "name": "stdout",
     "output_type": "stream",
     "text": [
      "[[0.30149922 0.59015872]\n",
      " [0.76616933 0.90981225]]\n",
      "[[0.30149922 0.59015872]\n",
      " [0.76616933 0.90981225]]\n"
     ]
    }
   ],
   "source": [
    "test = np.transpose(alpha)\n",
    "print(test)\n",
    "print(alpha.T)"
   ]
  },
  {
   "cell_type": "markdown",
   "metadata": {},
   "source": [
    "**Chaning Array Shape**"
   ]
  },
  {
   "cell_type": "code",
   "execution_count": 104,
   "metadata": {},
   "outputs": [
    {
     "name": "stdout",
     "output_type": "stream",
     "text": [
      "[0.30149922 0.76616933 0.59015872 0.90981225]\n",
      "[[0.30149922 0.76616933]\n",
      " [0.59015872 0.90981225]]\n",
      "[0.30149922 0.76616933 0.59015872 0.90981225]\n"
     ]
    }
   ],
   "source": [
    "print(alpha.ravel()) # 1D\n",
    "print(alpha.reshape(2,2))\n",
    "print(alpha.reshape(-1)) # 1D"
   ]
  },
  {
   "cell_type": "markdown",
   "metadata": {},
   "source": [
    "**Adding / Removing Elements**"
   ]
  },
  {
   "cell_type": "code",
   "execution_count": 105,
   "metadata": {},
   "outputs": [
    {
     "name": "stdout",
     "output_type": "stream",
     "text": [
      "[[0.30149922 0.76616933]\n",
      " [0.59015872 0.90981225]]\n",
      "[0.30149922 0.76616933 0.59015872 0.90981225 0.99862569 0.8444832\n",
      " 0.70173981 0.33042652]\n",
      "[0.30149922 5.         0.76616933 0.59015872 0.90981225]\n",
      "[0.30149922 0.59015872 0.90981225]\n"
     ]
    }
   ],
   "source": [
    "print(alpha.reshape(2,2))\n",
    "# print(alpha.resize((4,1)))\n",
    "print(np.append(alpha, beta))\n",
    "print(np.insert(alpha, 1,5))\n",
    "print(np.delete(alpha, [1]))"
   ]
  },
  {
   "cell_type": "markdown",
   "metadata": {},
   "source": [
    "**Combining Arrays**"
   ]
  },
  {
   "cell_type": "code",
   "execution_count": 106,
   "metadata": {},
   "outputs": [
    {
     "name": "stdout",
     "output_type": "stream",
     "text": [
      "[[0.30149922 0.76616933]\n",
      " [0.59015872 0.90981225]] [[0.99862569 0.8444832 ]\n",
      " [0.70173981 0.33042652]]\n"
     ]
    }
   ],
   "source": [
    "print(alpha.reshape(2,2), beta.reshape(2,2))\n",
    "# print(np.concatenate((alpha, beta), axis=0))\n",
    "# print(np.vstack((alpha,beta)))\n",
    "# print(np.r_[alpha, beta])\n",
    "# print(np.hstack((alpha, beta)))\n",
    "# print(np.column_stack((alpha, beta)))\n",
    "# print(np.c_[alpha, beta])"
   ]
  },
  {
   "cell_type": "markdown",
   "metadata": {},
   "source": [
    "**Splitting Arrays**"
   ]
  },
  {
   "cell_type": "code",
   "execution_count": 107,
   "metadata": {},
   "outputs": [],
   "source": [
    "# print(np.hsplit(alpha, 4))\n",
    "# print(np.vsplit(alpha, 4))"
   ]
  },
  {
   "cell_type": "code",
   "execution_count": null,
   "metadata": {},
   "outputs": [],
   "source": []
  },
  {
   "cell_type": "code",
   "execution_count": null,
   "metadata": {},
   "outputs": [],
   "source": []
  }
 ],
 "metadata": {
  "kernelspec": {
   "display_name": "Python 3",
   "language": "python",
   "name": "python3"
  },
  "language_info": {
   "codemirror_mode": {
    "name": "ipython",
    "version": 3
   },
   "file_extension": ".py",
   "mimetype": "text/x-python",
   "name": "python",
   "nbconvert_exporter": "python",
   "pygments_lexer": "ipython3",
   "version": "3.11.8"
  }
 },
 "nbformat": 4,
 "nbformat_minor": 2
}
