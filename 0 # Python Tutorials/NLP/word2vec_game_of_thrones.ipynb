{
 "cells": [
  {
   "cell_type": "code",
   "execution_count": 1,
   "metadata": {},
   "outputs": [],
   "source": [
    "import numpy as np\n",
    "import pandas as pd\n",
    "import gensim\n",
    "import os"
   ]
  },
  {
   "cell_type": "code",
   "execution_count": 2,
   "metadata": {},
   "outputs": [],
   "source": [
    "from nltk import sent_tokenize, word_tokenize\n",
    "from gensim.utils import simple_preprocess\n",
    "\n",
    "complete_story = []\n",
    "\n",
    "for filename in os.listdir('Datasets/GOT'):\n",
    "    # file = open(os.path.join('Datasets/GOT', filename), 'r')\n",
    "    file = open('Datasets/GOT/' + filename, 'r')\n",
    "    corpus = file.read()\n",
    "    # print(corpus)\n",
    "    raw_sentences = sent_tokenize(corpus)\n",
    "    for sentence in raw_sentences:\n",
    "        complete_story.append(simple_preprocess(sentence))"
   ]
  },
  {
   "cell_type": "code",
   "execution_count": 3,
   "metadata": {},
   "outputs": [
    {
     "name": "stdout",
     "output_type": "stream",
     "text": [
      "['game', 'of', 'thrones', 'book', 'one', 'of', 'song', 'of', 'ice', 'and', 'fire', 'by', 'george', 'martin', 'prologue', 'we', 'should', 'start', 'back', 'gared', 'urged', 'as', 'the', 'woods', 'began', 'to', 'grow', 'dark', 'around', 'them']\n",
      "145020\n"
     ]
    }
   ],
   "source": [
    "print(complete_story[0])\n",
    "print(len(complete_story))"
   ]
  },
  {
   "cell_type": "code",
   "execution_count": 4,
   "metadata": {},
   "outputs": [
    {
     "data": {
      "text/plain": [
       "[['game',\n",
       "  'of',\n",
       "  'thrones',\n",
       "  'book',\n",
       "  'one',\n",
       "  'of',\n",
       "  'song',\n",
       "  'of',\n",
       "  'ice',\n",
       "  'and',\n",
       "  'fire',\n",
       "  'by',\n",
       "  'george',\n",
       "  'martin',\n",
       "  'prologue',\n",
       "  'we',\n",
       "  'should',\n",
       "  'start',\n",
       "  'back',\n",
       "  'gared',\n",
       "  'urged',\n",
       "  'as',\n",
       "  'the',\n",
       "  'woods',\n",
       "  'began',\n",
       "  'to',\n",
       "  'grow',\n",
       "  'dark',\n",
       "  'around',\n",
       "  'them'],\n",
       " ['the', 'wildlings', 'are', 'dead'],\n",
       " ['do', 'the', 'dead', 'frighten', 'you'],\n",
       " ['ser',\n",
       "  'waymar',\n",
       "  'royce',\n",
       "  'asked',\n",
       "  'with',\n",
       "  'just',\n",
       "  'the',\n",
       "  'hint',\n",
       "  'of',\n",
       "  'smile'],\n",
       " ['gared', 'did', 'not', 'rise', 'to', 'the', 'bait'],\n",
       " ['he',\n",
       "  'was',\n",
       "  'an',\n",
       "  'old',\n",
       "  'man',\n",
       "  'past',\n",
       "  'fifty',\n",
       "  'and',\n",
       "  'he',\n",
       "  'had',\n",
       "  'seen',\n",
       "  'the',\n",
       "  'lordlings',\n",
       "  'come',\n",
       "  'and',\n",
       "  'go'],\n",
       " ['dead', 'is', 'dead', 'he', 'said'],\n",
       " ['we', 'have', 'no', 'business', 'with', 'the', 'dead'],\n",
       " ['are', 'they', 'dead'],\n",
       " ['royce', 'asked', 'softly'],\n",
       " ['what', 'proof', 'have', 'we'],\n",
       " ['will', 'saw', 'them', 'gared', 'said'],\n",
       " ['if',\n",
       "  'he',\n",
       "  'says',\n",
       "  'they',\n",
       "  'are',\n",
       "  'dead',\n",
       "  'that',\n",
       "  'proof',\n",
       "  'enough',\n",
       "  'for',\n",
       "  'me'],\n",
       " ['will',\n",
       "  'had',\n",
       "  'known',\n",
       "  'they',\n",
       "  'would',\n",
       "  'drag',\n",
       "  'him',\n",
       "  'into',\n",
       "  'the',\n",
       "  'quarrel',\n",
       "  'sooner',\n",
       "  'or',\n",
       "  'later'],\n",
       " ['he', 'wished', 'it', 'had', 'been', 'later', 'rather', 'than', 'sooner'],\n",
       " ['my',\n",
       "  'mother',\n",
       "  'told',\n",
       "  'me',\n",
       "  'that',\n",
       "  'dead',\n",
       "  'men',\n",
       "  'sing',\n",
       "  'no',\n",
       "  'songs',\n",
       "  'he',\n",
       "  'put',\n",
       "  'in'],\n",
       " ['my',\n",
       "  'wet',\n",
       "  'nurse',\n",
       "  'said',\n",
       "  'the',\n",
       "  'same',\n",
       "  'thing',\n",
       "  'will',\n",
       "  'royce',\n",
       "  'replied'],\n",
       " ['never', 'believe', 'anything', 'you', 'hear', 'at', 'woman', 'tit'],\n",
       " ['there',\n",
       "  'are',\n",
       "  'things',\n",
       "  'to',\n",
       "  'be',\n",
       "  'learned',\n",
       "  'even',\n",
       "  'from',\n",
       "  'the',\n",
       "  'dead'],\n",
       " ['his', 'voice', 'echoed', 'too', 'loud', 'in', 'the', 'twilit', 'forest'],\n",
       " ['page',\n",
       "  'we',\n",
       "  'have',\n",
       "  'long',\n",
       "  'ride',\n",
       "  'before',\n",
       "  'us',\n",
       "  'gared',\n",
       "  'pointed',\n",
       "  'out'],\n",
       " ['eight', 'days', 'maybe', 'nine'],\n",
       " ['and', 'night', 'is', 'falling'],\n",
       " ['ser',\n",
       "  'waymar',\n",
       "  'royce',\n",
       "  'glanced',\n",
       "  'at',\n",
       "  'the',\n",
       "  'sky',\n",
       "  'with',\n",
       "  'disinterest'],\n",
       " ['it', 'does', 'that', 'every', 'day', 'about', 'this', 'time'],\n",
       " ['are', 'you', 'unmanned', 'by', 'the', 'dark', 'gared'],\n",
       " ['will',\n",
       "  'could',\n",
       "  'see',\n",
       "  'the',\n",
       "  'tightness',\n",
       "  'around',\n",
       "  'gared',\n",
       "  'mouth',\n",
       "  'the',\n",
       "  'barely',\n",
       "  'sup',\n",
       "  'pressed',\n",
       "  'anger',\n",
       "  'in',\n",
       "  'his',\n",
       "  'eyes',\n",
       "  'under',\n",
       "  'the',\n",
       "  'thick',\n",
       "  'black',\n",
       "  'hood',\n",
       "  'of',\n",
       "  'his',\n",
       "  'cloak'],\n",
       " ['gared',\n",
       "  'had',\n",
       "  'spent',\n",
       "  'forty',\n",
       "  'years',\n",
       "  'in',\n",
       "  'the',\n",
       "  'night',\n",
       "  'watch',\n",
       "  'man',\n",
       "  'and',\n",
       "  'boy',\n",
       "  'and',\n",
       "  'he',\n",
       "  'was',\n",
       "  'not',\n",
       "  'accustomed',\n",
       "  'to',\n",
       "  'being',\n",
       "  'made',\n",
       "  'light',\n",
       "  'of'],\n",
       " ['yet', 'it', 'was', 'more', 'than', 'that'],\n",
       " ['under',\n",
       "  'the',\n",
       "  'wounded',\n",
       "  'pride',\n",
       "  'will',\n",
       "  'could',\n",
       "  'sense',\n",
       "  'something',\n",
       "  'else',\n",
       "  'in',\n",
       "  'the',\n",
       "  'older',\n",
       "  'man'],\n",
       " ['you',\n",
       "  'could',\n",
       "  'taste',\n",
       "  'it',\n",
       "  'nervous',\n",
       "  'tension',\n",
       "  'that',\n",
       "  'came',\n",
       "  'perilous',\n",
       "  'close',\n",
       "  'to',\n",
       "  'fear'],\n",
       " ['will', 'shared', 'his', 'unease'],\n",
       " ['he', 'had', 'been', 'four', 'years', 'on', 'the', 'wall'],\n",
       " ['the',\n",
       "  'first',\n",
       "  'time',\n",
       "  'he',\n",
       "  'had',\n",
       "  'been',\n",
       "  'sent',\n",
       "  'beyond',\n",
       "  'all',\n",
       "  'the',\n",
       "  'old',\n",
       "  'stories',\n",
       "  'had',\n",
       "  'come',\n",
       "  'rushing',\n",
       "  'back',\n",
       "  'and',\n",
       "  'his',\n",
       "  'bowels',\n",
       "  'had',\n",
       "  'turned',\n",
       "  'to',\n",
       "  'water'],\n",
       " ['he', 'had', 'laughed', 'about', 'it', 'afterward'],\n",
       " ['he',\n",
       "  'was',\n",
       "  'veteran',\n",
       "  'of',\n",
       "  'hundred',\n",
       "  'rangings',\n",
       "  'by',\n",
       "  'now',\n",
       "  'and',\n",
       "  'the',\n",
       "  'endless',\n",
       "  'dark',\n",
       "  'wilderness',\n",
       "  'that',\n",
       "  'the',\n",
       "  'southron',\n",
       "  'called',\n",
       "  'the',\n",
       "  'haunted',\n",
       "  'forest',\n",
       "  'had',\n",
       "  'no',\n",
       "  'more',\n",
       "  'terrors',\n",
       "  'for',\n",
       "  'him'],\n",
       " ['until', 'tonight'],\n",
       " ['something', 'was', 'different', 'tonight'],\n",
       " ['there',\n",
       "  'was',\n",
       "  'an',\n",
       "  'edge',\n",
       "  'to',\n",
       "  'this',\n",
       "  'darkness',\n",
       "  'that',\n",
       "  'made',\n",
       "  'his',\n",
       "  'hackles',\n",
       "  'rise'],\n",
       " ['nine',\n",
       "  'days',\n",
       "  'they',\n",
       "  'had',\n",
       "  'been',\n",
       "  'riding',\n",
       "  'north',\n",
       "  'and',\n",
       "  'northwest',\n",
       "  'and',\n",
       "  'then',\n",
       "  'north',\n",
       "  'again',\n",
       "  'farther',\n",
       "  'and',\n",
       "  'farther',\n",
       "  'from',\n",
       "  'the',\n",
       "  'wall',\n",
       "  'hard',\n",
       "  'on',\n",
       "  'the',\n",
       "  'track',\n",
       "  'of',\n",
       "  'band',\n",
       "  'of',\n",
       "  'wildling',\n",
       "  'raiders'],\n",
       " ['each',\n",
       "  'day',\n",
       "  'had',\n",
       "  'been',\n",
       "  'worse',\n",
       "  'than',\n",
       "  'the',\n",
       "  'day',\n",
       "  'that',\n",
       "  'had',\n",
       "  'come',\n",
       "  'before',\n",
       "  'it'],\n",
       " ['today', 'was', 'the', 'worst', 'of', 'all'],\n",
       " ['cold',\n",
       "  'wind',\n",
       "  'was',\n",
       "  'blowing',\n",
       "  'out',\n",
       "  'of',\n",
       "  'the',\n",
       "  'north',\n",
       "  'and',\n",
       "  'it',\n",
       "  'made',\n",
       "  'the',\n",
       "  'trees',\n",
       "  'rustle',\n",
       "  'like',\n",
       "  'living',\n",
       "  'things'],\n",
       " ['all',\n",
       "  'day',\n",
       "  'will',\n",
       "  'had',\n",
       "  'felt',\n",
       "  'as',\n",
       "  'though',\n",
       "  'something',\n",
       "  'were',\n",
       "  'watching',\n",
       "  'him',\n",
       "  'something',\n",
       "  'cold',\n",
       "  'and',\n",
       "  'implacable',\n",
       "  'that',\n",
       "  'loved',\n",
       "  'him',\n",
       "  'not'],\n",
       " ['gared', 'had', 'felt', 'it', 'too'],\n",
       " ['will',\n",
       "  'wanted',\n",
       "  'nothing',\n",
       "  'so',\n",
       "  'much',\n",
       "  'as',\n",
       "  'to',\n",
       "  'ride',\n",
       "  'hellbent',\n",
       "  'for',\n",
       "  'the',\n",
       "  'safety',\n",
       "  'of',\n",
       "  'the',\n",
       "  'wall',\n",
       "  'but',\n",
       "  'that',\n",
       "  'was',\n",
       "  'not',\n",
       "  'feeling',\n",
       "  'to',\n",
       "  'share',\n",
       "  'with',\n",
       "  'your',\n",
       "  'commander'],\n",
       " ['especially', 'not', 'commander', 'like', 'this', 'one'],\n",
       " ['ser',\n",
       "  'waymar',\n",
       "  'royce',\n",
       "  'was',\n",
       "  'the',\n",
       "  'youngest',\n",
       "  'son',\n",
       "  'of',\n",
       "  'an',\n",
       "  'ancient',\n",
       "  'house',\n",
       "  'with',\n",
       "  'too',\n",
       "  'many',\n",
       "  'heirs'],\n",
       " ['he',\n",
       "  'was',\n",
       "  'handsome',\n",
       "  'youth',\n",
       "  'of',\n",
       "  'eighteen',\n",
       "  'grey',\n",
       "  'eyed',\n",
       "  'and',\n",
       "  'graceful',\n",
       "  'and',\n",
       "  'slender',\n",
       "  'as',\n",
       "  'knife'],\n",
       " ['mounted',\n",
       "  'on',\n",
       "  'his',\n",
       "  'huge',\n",
       "  'black',\n",
       "  'destrier',\n",
       "  'the',\n",
       "  'knight',\n",
       "  'towered',\n",
       "  'above',\n",
       "  'will',\n",
       "  'and',\n",
       "  'gared',\n",
       "  'on',\n",
       "  'their',\n",
       "  'smaller',\n",
       "  'garrons'],\n",
       " ['he',\n",
       "  'wore',\n",
       "  'black',\n",
       "  'leather',\n",
       "  'boots',\n",
       "  'black',\n",
       "  'woolen',\n",
       "  'pants',\n",
       "  'black',\n",
       "  'moleskin',\n",
       "  'gloves',\n",
       "  'and',\n",
       "  'fine',\n",
       "  'supple',\n",
       "  'coat',\n",
       "  'of',\n",
       "  'gleaming',\n",
       "  'black',\n",
       "  'ringmail',\n",
       "  'over',\n",
       "  'layers',\n",
       "  'of',\n",
       "  'black',\n",
       "  'wool',\n",
       "  'and',\n",
       "  'boiled',\n",
       "  'leather'],\n",
       " ['ser',\n",
       "  'waymar',\n",
       "  'had',\n",
       "  'been',\n",
       "  'sworn',\n",
       "  'brother',\n",
       "  'of',\n",
       "  'the',\n",
       "  'night',\n",
       "  'watch',\n",
       "  'for',\n",
       "  'less',\n",
       "  'than',\n",
       "  'half',\n",
       "  'year',\n",
       "  'but',\n",
       "  'no',\n",
       "  'one',\n",
       "  'could',\n",
       "  'say',\n",
       "  'he',\n",
       "  'had',\n",
       "  'not',\n",
       "  'prepared',\n",
       "  'for',\n",
       "  'his',\n",
       "  'vocation'],\n",
       " ['at', 'least', 'insofar', 'as', 'his', 'wardrobe', 'was', 'concerned'],\n",
       " ['his',\n",
       "  'cloak',\n",
       "  'was',\n",
       "  'his',\n",
       "  'crowning',\n",
       "  'glory',\n",
       "  'sable',\n",
       "  'thick',\n",
       "  'and',\n",
       "  'black',\n",
       "  'and',\n",
       "  'soft',\n",
       "  'as',\n",
       "  'sin'],\n",
       " ['bet',\n",
       "  'he',\n",
       "  'killed',\n",
       "  'them',\n",
       "  'all',\n",
       "  'himself',\n",
       "  'he',\n",
       "  'did',\n",
       "  'gared',\n",
       "  'told',\n",
       "  'the',\n",
       "  'barracks',\n",
       "  'over',\n",
       "  'wine',\n",
       "  'twisted',\n",
       "  'their',\n",
       "  'little',\n",
       "  'heads',\n",
       "  'off',\n",
       "  'our',\n",
       "  'mighty',\n",
       "  'warrior'],\n",
       " ['they', 'had', 'all', 'shared', 'the', 'laugh'],\n",
       " ['it',\n",
       "  'is',\n",
       "  'hard',\n",
       "  'to',\n",
       "  'take',\n",
       "  'orders',\n",
       "  'from',\n",
       "  'man',\n",
       "  'you',\n",
       "  'laughed',\n",
       "  'at',\n",
       "  'in',\n",
       "  'your',\n",
       "  'cups',\n",
       "  'will',\n",
       "  'reflected',\n",
       "  'as',\n",
       "  'he',\n",
       "  'sat',\n",
       "  'shivering',\n",
       "  'atop',\n",
       "  'his',\n",
       "  'garron'],\n",
       " ['gared', 'must', 'have', 'felt', 'the', 'same'],\n",
       " ['mormont',\n",
       "  'said',\n",
       "  'as',\n",
       "  'we',\n",
       "  'should',\n",
       "  'track',\n",
       "  'them',\n",
       "  'and',\n",
       "  'we',\n",
       "  'did',\n",
       "  'gared',\n",
       "  'said'],\n",
       " ['they', 're', 'dead'],\n",
       " ['they', 'shan', 'trouble', 'us', 'no', 'more'],\n",
       " ['there', 'hard', 'riding', 'before', 'us'],\n",
       " ['don', 'like', 'this', 'weather'],\n",
       " ['if',\n",
       "  'it',\n",
       "  'snows',\n",
       "  'we',\n",
       "  'could',\n",
       "  'be',\n",
       "  'fortnight',\n",
       "  'getting',\n",
       "  'back',\n",
       "  'and',\n",
       "  'snow',\n",
       "  'the',\n",
       "  'best',\n",
       "  'we',\n",
       "  'can',\n",
       "  'hope',\n",
       "  'for'],\n",
       " ['ever', 'seen', 'an', 'ice', 'storm', 'my', 'lord'],\n",
       " ['the', 'lordling', 'seemed', 'not', 'to', 'hear', 'him'],\n",
       " ['he',\n",
       "  'studied',\n",
       "  'the',\n",
       "  'deepening',\n",
       "  'twilight',\n",
       "  'in',\n",
       "  'that',\n",
       "  'half',\n",
       "  'bored',\n",
       "  'half',\n",
       "  'distracted',\n",
       "  'page',\n",
       "  'way',\n",
       "  'he',\n",
       "  'had'],\n",
       " ['will',\n",
       "  'had',\n",
       "  'ridden',\n",
       "  'with',\n",
       "  'the',\n",
       "  'knight',\n",
       "  'long',\n",
       "  'enough',\n",
       "  'to',\n",
       "  'understand',\n",
       "  'that',\n",
       "  'it',\n",
       "  'was',\n",
       "  'best',\n",
       "  'not',\n",
       "  'to',\n",
       "  'interrupt',\n",
       "  'him',\n",
       "  'when',\n",
       "  'he',\n",
       "  'looked',\n",
       "  'like',\n",
       "  'that'],\n",
       " ['tell', 'me', 'again', 'what', 'you', 'saw', 'will'],\n",
       " ['all', 'the', 'details'],\n",
       " ['leave', 'nothing', 'out'],\n",
       " ['will',\n",
       "  'had',\n",
       "  'been',\n",
       "  'hunter',\n",
       "  'before',\n",
       "  'he',\n",
       "  'joined',\n",
       "  'the',\n",
       "  'night',\n",
       "  'watch'],\n",
       " ['well', 'poacher', 'in', 'truth'],\n",
       " ['mallister',\n",
       "  'freeriders',\n",
       "  'had',\n",
       "  'caught',\n",
       "  'him',\n",
       "  'red',\n",
       "  'handed',\n",
       "  'in',\n",
       "  'the',\n",
       "  'mallisters',\n",
       "  'own',\n",
       "  'woods',\n",
       "  'skinning',\n",
       "  'one',\n",
       "  'of',\n",
       "  'the',\n",
       "  'mallisters',\n",
       "  'own',\n",
       "  'bucks',\n",
       "  'and',\n",
       "  'it',\n",
       "  'had',\n",
       "  'been',\n",
       "  'choice',\n",
       "  'of',\n",
       "  'putting',\n",
       "  'on',\n",
       "  'the',\n",
       "  'black',\n",
       "  'or',\n",
       "  'losing',\n",
       "  'hand'],\n",
       " ['no',\n",
       "  'one',\n",
       "  'could',\n",
       "  'move',\n",
       "  'through',\n",
       "  'the',\n",
       "  'woods',\n",
       "  'as',\n",
       "  'silent',\n",
       "  'as',\n",
       "  'will',\n",
       "  'and',\n",
       "  'it',\n",
       "  'had',\n",
       "  'not',\n",
       "  'taken',\n",
       "  'the',\n",
       "  'black',\n",
       "  'brothers',\n",
       "  'long',\n",
       "  'to',\n",
       "  'discover',\n",
       "  'his',\n",
       "  'talent'],\n",
       " ['the',\n",
       "  'camp',\n",
       "  'is',\n",
       "  'two',\n",
       "  'miles',\n",
       "  'farther',\n",
       "  'on',\n",
       "  'over',\n",
       "  'that',\n",
       "  'ridge',\n",
       "  'hard',\n",
       "  'beside',\n",
       "  'stream',\n",
       "  'will',\n",
       "  'said'],\n",
       " ['got', 'close', 'as', 'dared'],\n",
       " ['there', 'eight', 'of', 'them', 'men', 'and', 'women', 'both'],\n",
       " ['no', 'children', 'could', 'see'],\n",
       " ['they', 'put', 'up', 'lean', 'to', 'against', 'the', 'rock'],\n",
       " ['the',\n",
       "  'snow',\n",
       "  'pretty',\n",
       "  'well',\n",
       "  'covered',\n",
       "  'it',\n",
       "  'now',\n",
       "  'but',\n",
       "  'could',\n",
       "  'still',\n",
       "  'make',\n",
       "  'it',\n",
       "  'out'],\n",
       " ['no',\n",
       "  'fire',\n",
       "  'burning',\n",
       "  'but',\n",
       "  'the',\n",
       "  'firepit',\n",
       "  'was',\n",
       "  'still',\n",
       "  'plain',\n",
       "  'as',\n",
       "  'day'],\n",
       " ['no', 'one', 'moving'],\n",
       " ['watched', 'long', 'time'],\n",
       " ['no', 'living', 'man', 'ever', 'lay', 'so', 'still'],\n",
       " ['did', 'you', 'see', 'any', 'blood'],\n",
       " ['well', 'no', 'will', 'admitted'],\n",
       " ['did', 'you', 'see', 'any', 'weapons'],\n",
       " ['some', 'swords', 'few', 'bows'],\n",
       " ['one', 'man', 'had', 'an', 'axe'],\n",
       " ['heavy', 'looking', 'double', 'bladed', 'cruel', 'piece', 'of', 'iron'],\n",
       " ['it',\n",
       "  'was',\n",
       "  'on',\n",
       "  'the',\n",
       "  'ground',\n",
       "  'beside',\n",
       "  'him',\n",
       "  'right',\n",
       "  'by',\n",
       "  'his',\n",
       "  'hand'],\n",
       " ['did',\n",
       "  'you',\n",
       "  'make',\n",
       "  'note',\n",
       "  'of',\n",
       "  'the',\n",
       "  'position',\n",
       "  'of',\n",
       "  'the',\n",
       "  'bodies'],\n",
       " ['will', 'shrugged'],\n",
       " ['couple', 'are', 'sitting', 'up', 'against', 'the', 'rock'],\n",
       " ['most', 'of', 'them', 'on', 'the', 'ground'],\n",
       " ['fallen', 'like'],\n",
       " ['or', 'sleeping', 'royce', 'suggested'],\n",
       " ['fallen', 'will', 'insisted'],\n",
       " ['there',\n",
       "  'one',\n",
       "  'woman',\n",
       "  'up',\n",
       "  'an',\n",
       "  'ironwood',\n",
       "  'halfhid',\n",
       "  'in',\n",
       "  'the',\n",
       "  'branches'],\n",
       " ['far', 'eyes'],\n",
       " ['he', 'smiled', 'thinly'],\n",
       " ['took', 'care', 'she', 'never', 'saw', 'me'],\n",
       " ['when', 'got', 'closer', 'saw', 'that', 'she', 'wasn', 'moving', 'neither'],\n",
       " ['despite', 'himself', 'he', 'shivered'],\n",
       " ['you', 'have', 'chill'],\n",
       " ['royce', 'asked'],\n",
       " ['some', 'will', 'muttered'],\n",
       " ['the', 'wind', 'lord'],\n",
       " ['the',\n",
       "  'young',\n",
       "  'knight',\n",
       "  'turned',\n",
       "  'back',\n",
       "  'to',\n",
       "  'his',\n",
       "  'grizzled',\n",
       "  'man',\n",
       "  'at',\n",
       "  'arms'],\n",
       " ['frostfallen',\n",
       "  'leaves',\n",
       "  'whispered',\n",
       "  'past',\n",
       "  'them',\n",
       "  'and',\n",
       "  'royce',\n",
       "  'destrier',\n",
       "  'moved',\n",
       "  'restlessly'],\n",
       " ['what',\n",
       "  'do',\n",
       "  'you',\n",
       "  'think',\n",
       "  'might',\n",
       "  'have',\n",
       "  'killed',\n",
       "  'these',\n",
       "  'men',\n",
       "  'gared'],\n",
       " ['ser', 'waymar', 'asked', 'casually'],\n",
       " ['he', 'adjusted', 'the', 'drape', 'of', 'his', 'long', 'sable', 'cloak'],\n",
       " ['it', 'was', 'the', 'cold', 'gared', 'said', 'with', 'iron', 'certainty'],\n",
       " ['saw',\n",
       "  'men',\n",
       "  'freeze',\n",
       "  'last',\n",
       "  'winter',\n",
       "  'and',\n",
       "  'the',\n",
       "  'one',\n",
       "  'before',\n",
       "  'when',\n",
       "  'was',\n",
       "  'half',\n",
       "  'boy'],\n",
       " ['everyone',\n",
       "  'talks',\n",
       "  'about',\n",
       "  'snows',\n",
       "  'forty',\n",
       "  'foot',\n",
       "  'deep',\n",
       "  'and',\n",
       "  'how',\n",
       "  'the',\n",
       "  'ice',\n",
       "  'wind',\n",
       "  'comes',\n",
       "  'howling',\n",
       "  'out',\n",
       "  'of',\n",
       "  'the',\n",
       "  'north',\n",
       "  'but',\n",
       "  'the',\n",
       "  'real',\n",
       "  'enemy',\n",
       "  'is',\n",
       "  'the',\n",
       "  'cold'],\n",
       " ['it',\n",
       "  'steals',\n",
       "  'up',\n",
       "  'on',\n",
       "  'you',\n",
       "  'quieter',\n",
       "  'than',\n",
       "  'will',\n",
       "  'and',\n",
       "  'at',\n",
       "  'first',\n",
       "  'you',\n",
       "  'shiver',\n",
       "  'and',\n",
       "  'your',\n",
       "  'teeth',\n",
       "  'chatter',\n",
       "  'and',\n",
       "  'you',\n",
       "  'stamp',\n",
       "  'your',\n",
       "  'feet',\n",
       "  'and',\n",
       "  'dream',\n",
       "  'of',\n",
       "  'mulled',\n",
       "  'wine',\n",
       "  'and',\n",
       "  'nice',\n",
       "  'hot',\n",
       "  'fires'],\n",
       " ['it', 'burns', 'it', 'does'],\n",
       " ['nothing', 'burns', 'like', 'the', 'cold'],\n",
       " ['but', 'only', 'for', 'while'],\n",
       " ['then',\n",
       "  'it',\n",
       "  'gets',\n",
       "  'inside',\n",
       "  'you',\n",
       "  'and',\n",
       "  'starts',\n",
       "  'to',\n",
       "  'fill',\n",
       "  'you',\n",
       "  'up',\n",
       "  'and',\n",
       "  'after',\n",
       "  'while',\n",
       "  'you',\n",
       "  'don',\n",
       "  'have',\n",
       "  'the',\n",
       "  'strength',\n",
       "  'to',\n",
       "  'fight',\n",
       "  'it'],\n",
       " ['it', 'easier', 'just', 'to', 'sit', 'down', 'or', 'go', 'to', 'sleep'],\n",
       " ['they', 'say', 'you', 'don', 'feel', 'any', 'pain', 'toward', 'the', 'end'],\n",
       " ['first',\n",
       "  'you',\n",
       "  'go',\n",
       "  'weak',\n",
       "  'and',\n",
       "  'drowsy',\n",
       "  'and',\n",
       "  'everything',\n",
       "  'starts',\n",
       "  'to',\n",
       "  'fade',\n",
       "  'and',\n",
       "  'then',\n",
       "  'it',\n",
       "  'like',\n",
       "  'sinking',\n",
       "  'into',\n",
       "  'sea',\n",
       "  'of',\n",
       "  'warm',\n",
       "  'milk'],\n",
       " ['peaceful', 'like'],\n",
       " ['such', 'eloquence', 'gared', 'ser', 'waymar', 'observed'],\n",
       " ['never', 'suspected', 'you', 'had', 'it', 'in', 'you'],\n",
       " ['page', 've', 'had', 'the', 'cold', 'in', 'me', 'too', 'lordling'],\n",
       " ['gared',\n",
       "  'pulled',\n",
       "  'back',\n",
       "  'his',\n",
       "  'hood',\n",
       "  'giving',\n",
       "  'ser',\n",
       "  'waymar',\n",
       "  'good',\n",
       "  'long',\n",
       "  'look',\n",
       "  'at',\n",
       "  'the',\n",
       "  'stumps',\n",
       "  'where',\n",
       "  'his',\n",
       "  'ears',\n",
       "  'had',\n",
       "  'been'],\n",
       " ['two',\n",
       "  'ears',\n",
       "  'three',\n",
       "  'toes',\n",
       "  'and',\n",
       "  'the',\n",
       "  'little',\n",
       "  'finger',\n",
       "  'off',\n",
       "  'my',\n",
       "  'left',\n",
       "  'hand'],\n",
       " ['got', 'off', 'light'],\n",
       " ['we',\n",
       "  'found',\n",
       "  'my',\n",
       "  'brother',\n",
       "  'frozen',\n",
       "  'at',\n",
       "  'his',\n",
       "  'watch',\n",
       "  'with',\n",
       "  'smile',\n",
       "  'on',\n",
       "  'his',\n",
       "  'face'],\n",
       " ['ser', 'waymar', 'shrugged'],\n",
       " ['you', 'ought', 'dress', 'more', 'warmly', 'gared'],\n",
       " ['gared',\n",
       "  'glared',\n",
       "  'at',\n",
       "  'the',\n",
       "  'lordling',\n",
       "  'the',\n",
       "  'scars',\n",
       "  'around',\n",
       "  'his',\n",
       "  'ear',\n",
       "  'holes',\n",
       "  'flushed',\n",
       "  'red',\n",
       "  'with',\n",
       "  'anger',\n",
       "  'where',\n",
       "  'maester',\n",
       "  'aemon',\n",
       "  'had',\n",
       "  'cut',\n",
       "  'the',\n",
       "  'ears',\n",
       "  'away'],\n",
       " ['we',\n",
       "  'll',\n",
       "  'see',\n",
       "  'how',\n",
       "  'warm',\n",
       "  'you',\n",
       "  'can',\n",
       "  'dress',\n",
       "  'when',\n",
       "  'the',\n",
       "  'winter',\n",
       "  'comes'],\n",
       " ['he',\n",
       "  'pulled',\n",
       "  'up',\n",
       "  'his',\n",
       "  'hood',\n",
       "  'and',\n",
       "  'hunched',\n",
       "  'over',\n",
       "  'his',\n",
       "  'garron',\n",
       "  'silent',\n",
       "  'and',\n",
       "  'sullen'],\n",
       " ['if', 'gared', 'said', 'it', 'was', 'the', 'cold'],\n",
       " [],\n",
       " [],\n",
       " ['will', 'began'],\n",
       " ['have', 'you', 'drawn', 'any', 'watches', 'this', 'past', 'week', 'will'],\n",
       " ['yes', 'lord'],\n",
       " ['there',\n",
       "  'never',\n",
       "  'was',\n",
       "  'week',\n",
       "  'when',\n",
       "  'he',\n",
       "  'did',\n",
       "  'not',\n",
       "  'draw',\n",
       "  'dozen',\n",
       "  'bloody',\n",
       "  'watches'],\n",
       " ['what', 'was', 'the', 'man', 'driving', 'at'],\n",
       " ['and', 'how', 'did', 'you', 'find', 'the', 'wall'],\n",
       " ['weeping', 'will', 'said', 'frowning'],\n",
       " ['he',\n",
       "  'saw',\n",
       "  'it',\n",
       "  'clear',\n",
       "  'enough',\n",
       "  'now',\n",
       "  'that',\n",
       "  'the',\n",
       "  'lordling',\n",
       "  'had',\n",
       "  'pointed',\n",
       "  'it',\n",
       "  'out'],\n",
       " ['they', 'couldn', 'have', 'froze'],\n",
       " ['not', 'if', 'the', 'wall', 'was', 'weeping'],\n",
       " ['it', 'wasn', 'cold', 'enough'],\n",
       " ['royce', 'nodded'],\n",
       " ['bright', 'lad'],\n",
       " ['we',\n",
       "  've',\n",
       "  'had',\n",
       "  'few',\n",
       "  'light',\n",
       "  'frosts',\n",
       "  'this',\n",
       "  'past',\n",
       "  'week',\n",
       "  'and',\n",
       "  'quick',\n",
       "  'flurry',\n",
       "  'of',\n",
       "  'snow',\n",
       "  'now',\n",
       "  'and',\n",
       "  'then',\n",
       "  'but',\n",
       "  'surely',\n",
       "  'no',\n",
       "  'cold',\n",
       "  'fierce',\n",
       "  'enough',\n",
       "  'to',\n",
       "  'kill',\n",
       "  'eight',\n",
       "  'grown',\n",
       "  'men'],\n",
       " ['men',\n",
       "  'clad',\n",
       "  'in',\n",
       "  'fur',\n",
       "  'and',\n",
       "  'leather',\n",
       "  'let',\n",
       "  'me',\n",
       "  'remind',\n",
       "  'you',\n",
       "  'with',\n",
       "  'shelter',\n",
       "  'near',\n",
       "  'at',\n",
       "  'hand',\n",
       "  'and',\n",
       "  'the',\n",
       "  'means',\n",
       "  'of',\n",
       "  'making',\n",
       "  'fire'],\n",
       " ['the', 'knight', 'smile', 'was', 'cocksure'],\n",
       " ['will', 'lead', 'us', 'there'],\n",
       " ['would', 'see', 'these', 'dead', 'men', 'for', 'myself'],\n",
       " ['and', 'then', 'there', 'was', 'nothing', 'to', 'be', 'done', 'for', 'it'],\n",
       " ['the',\n",
       "  'order',\n",
       "  'had',\n",
       "  'been',\n",
       "  'given',\n",
       "  'and',\n",
       "  'honor',\n",
       "  'bound',\n",
       "  'them',\n",
       "  'to',\n",
       "  'obey'],\n",
       " ['will',\n",
       "  'went',\n",
       "  'in',\n",
       "  'front',\n",
       "  'his',\n",
       "  'shaggy',\n",
       "  'little',\n",
       "  'garron',\n",
       "  'picking',\n",
       "  'the',\n",
       "  'way',\n",
       "  'carefully',\n",
       "  'through',\n",
       "  'the',\n",
       "  'undergrowth'],\n",
       " ['light',\n",
       "  'snow',\n",
       "  'had',\n",
       "  'fallen',\n",
       "  'the',\n",
       "  'night',\n",
       "  'before',\n",
       "  'and',\n",
       "  'there',\n",
       "  'were',\n",
       "  'stones',\n",
       "  'and',\n",
       "  'roots',\n",
       "  'and',\n",
       "  'hidden',\n",
       "  'sinks',\n",
       "  'lying',\n",
       "  'just',\n",
       "  'under',\n",
       "  'its',\n",
       "  'crust',\n",
       "  'waiting',\n",
       "  'for',\n",
       "  'the',\n",
       "  'careless',\n",
       "  'and',\n",
       "  'the',\n",
       "  'unwary'],\n",
       " ['ser',\n",
       "  'waymar',\n",
       "  'royce',\n",
       "  'came',\n",
       "  'next',\n",
       "  'his',\n",
       "  'great',\n",
       "  'black',\n",
       "  'destrier',\n",
       "  'snorting',\n",
       "  'impatiently'],\n",
       " ['the',\n",
       "  'warhorse',\n",
       "  'was',\n",
       "  'the',\n",
       "  'wrong',\n",
       "  'mount',\n",
       "  'for',\n",
       "  'ranging',\n",
       "  'but',\n",
       "  'try',\n",
       "  'and',\n",
       "  'tell',\n",
       "  'that',\n",
       "  'to',\n",
       "  'the',\n",
       "  'lordling'],\n",
       " ['gared', 'brought', 'up', 'the', 'rear'],\n",
       " ['the',\n",
       "  'old',\n",
       "  'man',\n",
       "  'at',\n",
       "  'arms',\n",
       "  'muttered',\n",
       "  'to',\n",
       "  'himself',\n",
       "  'as',\n",
       "  'he',\n",
       "  'rode'],\n",
       " ['twilight', 'deepened'],\n",
       " ['the',\n",
       "  'cloudless',\n",
       "  'sky',\n",
       "  'turned',\n",
       "  'deep',\n",
       "  'purple',\n",
       "  'the',\n",
       "  'color',\n",
       "  'of',\n",
       "  'an',\n",
       "  'old',\n",
       "  'bruise',\n",
       "  'then',\n",
       "  'faded',\n",
       "  'to',\n",
       "  'black'],\n",
       " ['the', 'stars', 'began', 'to', 'come', 'out'],\n",
       " ['half', 'moon', 'rose'],\n",
       " ['will', 'was', 'grateful', 'for', 'the', 'light'],\n",
       " ['we',\n",
       "  'can',\n",
       "  'make',\n",
       "  'better',\n",
       "  'pace',\n",
       "  'than',\n",
       "  'this',\n",
       "  'surely',\n",
       "  'royce',\n",
       "  'said',\n",
       "  'when',\n",
       "  'the',\n",
       "  'moon',\n",
       "  'was',\n",
       "  'full',\n",
       "  'risen'],\n",
       " ['not', 'with', 'this', 'horse', 'will', 'said'],\n",
       " ['fear', 'had', 'made', 'him', 'insolent'],\n",
       " ['perhaps', 'my', 'lord', 'would', 'care', 'to', 'take', 'the', 'lead'],\n",
       " ['ser', 'waymar', 'royce', 'did', 'not', 'deign', 'to', 'reply'],\n",
       " ['somewhere', 'off', 'in', 'the', 'wood', 'wolf', 'howled'],\n",
       " ['will',\n",
       "  'pulled',\n",
       "  'his',\n",
       "  'garron',\n",
       "  'over',\n",
       "  'beneath',\n",
       "  'an',\n",
       "  'ancient',\n",
       "  'gnarled',\n",
       "  'ironwood',\n",
       "  'and',\n",
       "  'dismounted'],\n",
       " ['page', 'why', 'are', 'you', 'stopping'],\n",
       " ['ser', 'waymar', 'asked'],\n",
       " ['best', 'go', 'the', 'rest', 'of', 'the', 'way', 'on', 'foot', 'lord'],\n",
       " ['it', 'just', 'over', 'that', 'ridge'],\n",
       " ['royce',\n",
       "  'paused',\n",
       "  'moment',\n",
       "  'staring',\n",
       "  'off',\n",
       "  'into',\n",
       "  'the',\n",
       "  'distance',\n",
       "  'his',\n",
       "  'face',\n",
       "  'reflective'],\n",
       " ['cold', 'wind', 'whispered', 'through', 'the', 'trees'],\n",
       " ['his',\n",
       "  'great',\n",
       "  'sable',\n",
       "  'cloak',\n",
       "  'stirred',\n",
       "  'behind',\n",
       "  'like',\n",
       "  'something',\n",
       "  'half',\n",
       "  'alive'],\n",
       " ['there', 'something', 'wrong', 'here', 'gared', 'muttered'],\n",
       " ['the', 'young', 'knight', 'gave', 'him', 'disdainful', 'smile'],\n",
       " ['is', 'there'],\n",
       " ['can', 'you', 'feel', 'it'],\n",
       " ['gared', 'asked'],\n",
       " ['listen', 'to', 'the', 'darkness'],\n",
       " ['will', 'could', 'feel', 'it'],\n",
       " ['four',\n",
       "  'years',\n",
       "  'in',\n",
       "  'the',\n",
       "  'night',\n",
       "  'watch',\n",
       "  'and',\n",
       "  'he',\n",
       "  'had',\n",
       "  'never',\n",
       "  'been',\n",
       "  'so',\n",
       "  'afraid'],\n",
       " ['what', 'was', 'it'],\n",
       " ['wind'],\n",
       " ['trees', 'rustling'],\n",
       " ['wolf'],\n",
       " ['which', 'sound', 'is', 'it', 'that', 'unmans', 'you', 'so', 'gared'],\n",
       " ['when',\n",
       "  'gared',\n",
       "  'did',\n",
       "  'not',\n",
       "  'answer',\n",
       "  'royce',\n",
       "  'slid',\n",
       "  'gracefully',\n",
       "  'from',\n",
       "  'his',\n",
       "  'saddle'],\n",
       " ['he',\n",
       "  'tied',\n",
       "  'the',\n",
       "  'destrier',\n",
       "  'securely',\n",
       "  'to',\n",
       "  'low',\n",
       "  'hanging',\n",
       "  'limb',\n",
       "  'well',\n",
       "  'away',\n",
       "  'from',\n",
       "  'the',\n",
       "  'other',\n",
       "  'horses',\n",
       "  'and',\n",
       "  'drew',\n",
       "  'his',\n",
       "  'longsword',\n",
       "  'from',\n",
       "  'its',\n",
       "  'sheath'],\n",
       " ['jewels',\n",
       "  'glittered',\n",
       "  'in',\n",
       "  'its',\n",
       "  'hilt',\n",
       "  'and',\n",
       "  'the',\n",
       "  'moonlight',\n",
       "  'ran',\n",
       "  'down',\n",
       "  'the',\n",
       "  'shining',\n",
       "  'steel'],\n",
       " ['it',\n",
       "  'was',\n",
       "  'splendid',\n",
       "  'weapon',\n",
       "  'castle',\n",
       "  'forged',\n",
       "  'and',\n",
       "  'new',\n",
       "  'made',\n",
       "  'from',\n",
       "  'the',\n",
       "  'look',\n",
       "  'of',\n",
       "  'it'],\n",
       " ['will', 'doubted', 'it', 'had', 'ever', 'been', 'swung', 'in', 'anger'],\n",
       " ['the', 'trees', 'press', 'close', 'here', 'will', 'warned'],\n",
       " ['that', 'sword', 'will', 'tangle', 'you', 'up', 'ord'],\n",
       " ['better', 'knife'],\n",
       " ['if',\n",
       "  'need',\n",
       "  'instruction',\n",
       "  'will',\n",
       "  'ask',\n",
       "  'for',\n",
       "  'it',\n",
       "  'the',\n",
       "  'young',\n",
       "  'lord',\n",
       "  'said'],\n",
       " ['gared', 'stay', 'here'],\n",
       " ['guard', 'the', 'horses'],\n",
       " ['gared', 'dismounted'],\n",
       " ['we', 'need', 'fire'],\n",
       " ['ll', 'see', 'to', 'it'],\n",
       " ['how', 'big', 'fool', 'are', 'you', 'old', 'man'],\n",
       " ['if',\n",
       "  'there',\n",
       "  'are',\n",
       "  'enemies',\n",
       "  'in',\n",
       "  'this',\n",
       "  'wood',\n",
       "  'fire',\n",
       "  'is',\n",
       "  'the',\n",
       "  'last',\n",
       "  'thing',\n",
       "  'we',\n",
       "  'want'],\n",
       " ['there', 'some', 'enemies', 'fire', 'will', 'keep', 'away', 'gared', 'said'],\n",
       " ['bears', 'and', 'direwolves', 'and', 'and', 'other', 'things'],\n",
       " [],\n",
       " [],\n",
       " ['ser', 'waymar', 'mouth', 'became', 'hard', 'line'],\n",
       " ['no', 'fire'],\n",
       " ['gared',\n",
       "  'hood',\n",
       "  'shadowed',\n",
       "  'his',\n",
       "  'face',\n",
       "  'but',\n",
       "  'will',\n",
       "  'could',\n",
       "  'see',\n",
       "  'the',\n",
       "  'hard',\n",
       "  'glitter',\n",
       "  'in',\n",
       "  'his',\n",
       "  'eyes',\n",
       "  'as',\n",
       "  'he',\n",
       "  'stared',\n",
       "  'at',\n",
       "  'the',\n",
       "  'knight'],\n",
       " ['for',\n",
       "  'moment',\n",
       "  'he',\n",
       "  'was',\n",
       "  'afraid',\n",
       "  'the',\n",
       "  'older',\n",
       "  'man',\n",
       "  'would',\n",
       "  'go',\n",
       "  'for',\n",
       "  'his',\n",
       "  'sword'],\n",
       " ['it',\n",
       "  'was',\n",
       "  'short',\n",
       "  'ugly',\n",
       "  'thing',\n",
       "  'its',\n",
       "  'grip',\n",
       "  'discolored',\n",
       "  'by',\n",
       "  'sweat',\n",
       "  'its',\n",
       "  'edge',\n",
       "  'nicked',\n",
       "  'from',\n",
       "  'hard',\n",
       "  'use',\n",
       "  'but',\n",
       "  'will',\n",
       "  'would',\n",
       "  'not',\n",
       "  'have',\n",
       "  'given',\n",
       "  'an',\n",
       "  'iron',\n",
       "  'bob',\n",
       "  'for',\n",
       "  'the',\n",
       "  'lordling',\n",
       "  'life',\n",
       "  'if',\n",
       "  'gared',\n",
       "  'pulled',\n",
       "  'it',\n",
       "  'from',\n",
       "  'its',\n",
       "  'scabbard'],\n",
       " ['finally', 'gared', 'looked', 'down'],\n",
       " ['no', 'fire', 'he', 'muttered', 'low', 'under', 'his', 'breath'],\n",
       " ['royce', 'took', 'it', 'for', 'acquiescence', 'and', 'turned', 'away'],\n",
       " ['lead', 'on', 'he', 'said', 'to', 'will'],\n",
       " ['will',\n",
       "  'threaded',\n",
       "  'their',\n",
       "  'way',\n",
       "  'through',\n",
       "  'thicket',\n",
       "  'then',\n",
       "  'started',\n",
       "  'up',\n",
       "  'the',\n",
       "  'slope',\n",
       "  'to',\n",
       "  'the',\n",
       "  'low',\n",
       "  'ridge',\n",
       "  'where',\n",
       "  'he',\n",
       "  'had',\n",
       "  'found',\n",
       "  'his',\n",
       "  'vantage',\n",
       "  'point',\n",
       "  'under',\n",
       "  'sentinel',\n",
       "  'tree'],\n",
       " ['under',\n",
       "  'the',\n",
       "  'thin',\n",
       "  'crust',\n",
       "  'of',\n",
       "  'snow',\n",
       "  'the',\n",
       "  'ground',\n",
       "  'was',\n",
       "  'damp',\n",
       "  'and',\n",
       "  'muddy',\n",
       "  'slick',\n",
       "  'footing',\n",
       "  'with',\n",
       "  'rocks',\n",
       "  'and',\n",
       "  'hidden',\n",
       "  'roots',\n",
       "  'to',\n",
       "  'trip',\n",
       "  'you',\n",
       "  'up'],\n",
       " ['will', 'made', 'no', 'sound', 'as', 'he', 'climbed'],\n",
       " ['behind',\n",
       "  'him',\n",
       "  'he',\n",
       "  'heard',\n",
       "  'the',\n",
       "  'soft',\n",
       "  'metallic',\n",
       "  'slither',\n",
       "  'of',\n",
       "  'the',\n",
       "  'lordling',\n",
       "  'ringmail',\n",
       "  'the',\n",
       "  'rustle',\n",
       "  'of',\n",
       "  'leaves',\n",
       "  'and',\n",
       "  'muttered',\n",
       "  'curses',\n",
       "  'as',\n",
       "  'reaching',\n",
       "  'branches',\n",
       "  'grabbed',\n",
       "  'at',\n",
       "  'his',\n",
       "  'longsword',\n",
       "  'and',\n",
       "  'tugged',\n",
       "  'on',\n",
       "  'his',\n",
       "  'splendid',\n",
       "  'sable',\n",
       "  'cloak'],\n",
       " ['the',\n",
       "  'great',\n",
       "  'sentinel',\n",
       "  'was',\n",
       "  'right',\n",
       "  'there',\n",
       "  'at',\n",
       "  'the',\n",
       "  'top',\n",
       "  'of',\n",
       "  'the',\n",
       "  'ridge',\n",
       "  'where',\n",
       "  'will',\n",
       "  'had',\n",
       "  'known',\n",
       "  'it',\n",
       "  'would',\n",
       "  'be',\n",
       "  'its',\n",
       "  'lowest',\n",
       "  'branches',\n",
       "  'bare',\n",
       "  'foot',\n",
       "  'off',\n",
       "  'the',\n",
       "  'ground'],\n",
       " ['will',\n",
       "  'slid',\n",
       "  'in',\n",
       "  'underneath',\n",
       "  'flat',\n",
       "  'on',\n",
       "  'his',\n",
       "  'belly',\n",
       "  'in',\n",
       "  'the',\n",
       "  'snow',\n",
       "  'and',\n",
       "  'the',\n",
       "  'mud',\n",
       "  'and',\n",
       "  'page',\n",
       "  'looked',\n",
       "  'down',\n",
       "  'on',\n",
       "  'the',\n",
       "  'empty',\n",
       "  'clearing',\n",
       "  'below'],\n",
       " ['his', 'heart', 'stopped', 'in', 'his', 'chest'],\n",
       " ['for', 'moment', 'he', 'dared', 'not', 'breathe'],\n",
       " ['moonlight',\n",
       "  'shone',\n",
       "  'down',\n",
       "  'on',\n",
       "  'the',\n",
       "  'clearing',\n",
       "  'the',\n",
       "  'ashes',\n",
       "  'of',\n",
       "  'the',\n",
       "  'firepit',\n",
       "  'the',\n",
       "  'snow',\n",
       "  'covered',\n",
       "  'lean',\n",
       "  'to',\n",
       "  'the',\n",
       "  'great',\n",
       "  'rock',\n",
       "  'the',\n",
       "  'little',\n",
       "  'half',\n",
       "  'frozen',\n",
       "  'stream'],\n",
       " ['everything',\n",
       "  'was',\n",
       "  'just',\n",
       "  'as',\n",
       "  'it',\n",
       "  'had',\n",
       "  'been',\n",
       "  'few',\n",
       "  'hours',\n",
       "  'ago'],\n",
       " ['they', 'were', 'gone'],\n",
       " ['all', 'the', 'bodies', 'were', 'gone'],\n",
       " ['gods'],\n",
       " ['he', 'heard', 'behind', 'him'],\n",
       " ['sword',\n",
       "  'slashed',\n",
       "  'at',\n",
       "  'branch',\n",
       "  'as',\n",
       "  'ser',\n",
       "  'waymar',\n",
       "  'royce',\n",
       "  'gained',\n",
       "  'the',\n",
       "  'ridge'],\n",
       " ['he',\n",
       "  'stood',\n",
       "  'there',\n",
       "  'beside',\n",
       "  'the',\n",
       "  'sentinel',\n",
       "  'longsword',\n",
       "  'in',\n",
       "  'hand',\n",
       "  'his',\n",
       "  'cloak',\n",
       "  'billowing',\n",
       "  'behind',\n",
       "  'him',\n",
       "  'as',\n",
       "  'the',\n",
       "  'wind',\n",
       "  'came',\n",
       "  'up',\n",
       "  'outlined',\n",
       "  'nobly',\n",
       "  'against',\n",
       "  'the',\n",
       "  'stars',\n",
       "  'for',\n",
       "  'all',\n",
       "  'to',\n",
       "  'see'],\n",
       " ['get', 'down'],\n",
       " ['will', 'whispered', 'urgently'],\n",
       " ['something', 'wrong'],\n",
       " ['royce', 'did', 'not', 'move'],\n",
       " ['he', 'looked', 'down', 'at', 'the', 'empty', 'clearing', 'and', 'laughed'],\n",
       " ['your', 'dead', 'men', 'seem', 'to', 'have', 'moved', 'camp', 'will'],\n",
       " ['will', 'voice', 'abandoned', 'him'],\n",
       " ['he', 'groped', 'for', 'words', 'that', 'did', 'not', 'come'],\n",
       " ['it', 'was', 'not', 'possible'],\n",
       " ['his',\n",
       "  'eyes',\n",
       "  'swept',\n",
       "  'back',\n",
       "  'and',\n",
       "  'forth',\n",
       "  'over',\n",
       "  'the',\n",
       "  'abandoned',\n",
       "  'campsite',\n",
       "  'stopped',\n",
       "  'on',\n",
       "  'the',\n",
       "  'axe'],\n",
       " ['huge',\n",
       "  'double',\n",
       "  'bladed',\n",
       "  'battle',\n",
       "  'axe',\n",
       "  'still',\n",
       "  'lying',\n",
       "  'where',\n",
       "  'he',\n",
       "  'had',\n",
       "  'seen',\n",
       "  'it',\n",
       "  'last',\n",
       "  'untouched'],\n",
       " ['valuable', 'weapon'],\n",
       " [],\n",
       " [],\n",
       " ['on', 'your', 'feet', 'will', 'ser', 'waymar', 'commanded'],\n",
       " ['there', 'no', 'one', 'here'],\n",
       " ['won', 'have', 'you', 'hiding', 'under', 'bush'],\n",
       " ['reluctantly', 'will', 'obeyed'],\n",
       " ['ser', 'waymar', 'looked', 'him', 'over', 'with', 'open', 'disapproval'],\n",
       " ['am',\n",
       "  'not',\n",
       "  'going',\n",
       "  'back',\n",
       "  'to',\n",
       "  'castle',\n",
       "  'black',\n",
       "  'failure',\n",
       "  'on',\n",
       "  'my',\n",
       "  'first',\n",
       "  'ranging'],\n",
       " ['we', 'will', 'find', 'these', 'men'],\n",
       " ['he', 'glanced', 'around'],\n",
       " ['up', 'the', 'tree'],\n",
       " ['be', 'quick', 'about', 'it'],\n",
       " ['look', 'for', 'fire'],\n",
       " ['will', 'turned', 'away', 'wordless'],\n",
       " ['there', 'was', 'no', 'use', 'to', 'argue'],\n",
       " ['the', 'wind', 'was', 'moving'],\n",
       " ['it', 'cut', 'right', 'through', 'him'],\n",
       " ['he',\n",
       "  'went',\n",
       "  'to',\n",
       "  'the',\n",
       "  'tree',\n",
       "  'vaulting',\n",
       "  'grey',\n",
       "  'green',\n",
       "  'sentinel',\n",
       "  'and',\n",
       "  'began',\n",
       "  'to',\n",
       "  'climb'],\n",
       " ['soon',\n",
       "  'his',\n",
       "  'hands',\n",
       "  'were',\n",
       "  'sticky',\n",
       "  'with',\n",
       "  'sap',\n",
       "  'and',\n",
       "  'he',\n",
       "  'was',\n",
       "  'lost',\n",
       "  'among',\n",
       "  'the',\n",
       "  'needles'],\n",
       " ['fear',\n",
       "  'filled',\n",
       "  'his',\n",
       "  'gut',\n",
       "  'like',\n",
       "  'meal',\n",
       "  'he',\n",
       "  'could',\n",
       "  'not',\n",
       "  'digest'],\n",
       " ['he',\n",
       "  'whispered',\n",
       "  'prayer',\n",
       "  'to',\n",
       "  'the',\n",
       "  'nameless',\n",
       "  'gods',\n",
       "  'of',\n",
       "  'the',\n",
       "  'wood',\n",
       "  'and',\n",
       "  'slipped',\n",
       "  'his',\n",
       "  'dirk',\n",
       "  'free',\n",
       "  'of',\n",
       "  'its',\n",
       "  'sheath'],\n",
       " ['he',\n",
       "  'put',\n",
       "  'it',\n",
       "  'between',\n",
       "  'his',\n",
       "  'teeth',\n",
       "  'to',\n",
       "  'keep',\n",
       "  'both',\n",
       "  'hands',\n",
       "  'free',\n",
       "  'for',\n",
       "  'climbing'],\n",
       " ['the',\n",
       "  'taste',\n",
       "  'of',\n",
       "  'cold',\n",
       "  'iron',\n",
       "  'in',\n",
       "  'his',\n",
       "  'mouth',\n",
       "  'gave',\n",
       "  'him',\n",
       "  'comfort'],\n",
       " ['down',\n",
       "  'below',\n",
       "  'the',\n",
       "  'lordling',\n",
       "  'called',\n",
       "  'out',\n",
       "  'suddenly',\n",
       "  'who',\n",
       "  'goes',\n",
       "  'there'],\n",
       " ['will', 'heard', 'uncertainty', 'in', 'the', 'challenge'],\n",
       " ['he', 'stopped', 'climbing', 'he', 'listened', 'he', 'watched'],\n",
       " ['the',\n",
       "  'woods',\n",
       "  'gave',\n",
       "  'answer',\n",
       "  'the',\n",
       "  'rustle',\n",
       "  'of',\n",
       "  'leaves',\n",
       "  'the',\n",
       "  'icy',\n",
       "  'rush',\n",
       "  'of',\n",
       "  'the',\n",
       "  'stream',\n",
       "  'distant',\n",
       "  'hoot',\n",
       "  'of',\n",
       "  'snow',\n",
       "  'owl'],\n",
       " ['the', 'others', 'made', 'no', 'sound'],\n",
       " ['will', 'saw', 'movement', 'from', 'the', 'corner', 'of', 'his', 'eye'],\n",
       " ['pale', 'shapes', 'gliding', 'through', 'the', 'wood'],\n",
       " ['he',\n",
       "  'turned',\n",
       "  'his',\n",
       "  'head',\n",
       "  'glimpsed',\n",
       "  'white',\n",
       "  'shadow',\n",
       "  'in',\n",
       "  'the',\n",
       "  'darkness'],\n",
       " ['then', 'it', 'was', 'gone'],\n",
       " ['branches',\n",
       "  'stirred',\n",
       "  'gently',\n",
       "  'in',\n",
       "  'the',\n",
       "  'wind',\n",
       "  'scratching',\n",
       "  'at',\n",
       "  'one',\n",
       "  'another',\n",
       "  'with',\n",
       "  'wooden',\n",
       "  'fingers'],\n",
       " ['will',\n",
       "  'opened',\n",
       "  'his',\n",
       "  'mouth',\n",
       "  'to',\n",
       "  'call',\n",
       "  'down',\n",
       "  'warning',\n",
       "  'and',\n",
       "  'the',\n",
       "  'words',\n",
       "  'seemed',\n",
       "  'to',\n",
       "  'freeze',\n",
       "  'in',\n",
       "  'his',\n",
       "  'throat'],\n",
       " ['perhaps', 'he', 'was', 'wrong'],\n",
       " ['perhaps',\n",
       "  'it',\n",
       "  'had',\n",
       "  'only',\n",
       "  'been',\n",
       "  'bird',\n",
       "  'reflection',\n",
       "  'on',\n",
       "  'the',\n",
       "  'snow',\n",
       "  'some',\n",
       "  'trick',\n",
       "  'of',\n",
       "  'the',\n",
       "  'moonlight'],\n",
       " ['what', 'had', 'he', 'seen', 'after', 'all'],\n",
       " ['will', 'where', 'are', 'you'],\n",
       " ['ser', 'waymar', 'called', 'up'],\n",
       " ['can', 'you', 'see', 'anything'],\n",
       " ['he',\n",
       "  'was',\n",
       "  'turning',\n",
       "  'in',\n",
       "  'slow',\n",
       "  'circle',\n",
       "  'suddenly',\n",
       "  'wary',\n",
       "  'his',\n",
       "  'sword',\n",
       "  'in',\n",
       "  'hand'],\n",
       " ['he', 'must', 'have', 'felt', 'them', 'as', 'will', 'felt', 'them'],\n",
       " ['there', 'was', 'nothing', 'to', 'see'],\n",
       " ['page', 'answer', 'me'],\n",
       " ['why', 'is', 'it', 'so', 'cold'],\n",
       " ['it', 'was', 'cold'],\n",
       " ['shivering', 'will', 'clung', 'more', 'tightly', 'to', 'his', 'perch'],\n",
       " ['his',\n",
       "  'face',\n",
       "  'pressed',\n",
       "  'hard',\n",
       "  'against',\n",
       "  'the',\n",
       "  'trunk',\n",
       "  'of',\n",
       "  'the',\n",
       "  'sentinel'],\n",
       " ['he',\n",
       "  'could',\n",
       "  'feel',\n",
       "  'the',\n",
       "  'sweet',\n",
       "  'sticky',\n",
       "  'sap',\n",
       "  'on',\n",
       "  'his',\n",
       "  'cheek'],\n",
       " ['shadow', 'emerged', 'from', 'the', 'dark', 'of', 'the', 'wood'],\n",
       " ['it', 'stood', 'in', 'front', 'of', 'royce'],\n",
       " ['tall',\n",
       "  'it',\n",
       "  'was',\n",
       "  'and',\n",
       "  'gaunt',\n",
       "  'and',\n",
       "  'hard',\n",
       "  'as',\n",
       "  'old',\n",
       "  'bones',\n",
       "  'with',\n",
       "  'flesh',\n",
       "  'pale',\n",
       "  'as',\n",
       "  'milk'],\n",
       " ['its',\n",
       "  'armor',\n",
       "  'seemed',\n",
       "  'to',\n",
       "  'change',\n",
       "  'color',\n",
       "  'as',\n",
       "  'it',\n",
       "  'moved',\n",
       "  'here',\n",
       "  'it',\n",
       "  'was',\n",
       "  'white',\n",
       "  'as',\n",
       "  'new',\n",
       "  'fallen',\n",
       "  'snow',\n",
       "  'there',\n",
       "  'black',\n",
       "  'as',\n",
       "  'shadow',\n",
       "  'everywhere',\n",
       "  'dappled',\n",
       "  'with',\n",
       "  'the',\n",
       "  'deep',\n",
       "  'grey',\n",
       "  'green',\n",
       "  'of',\n",
       "  'the',\n",
       "  'trees'],\n",
       " ['the',\n",
       "  'patterns',\n",
       "  'ran',\n",
       "  'like',\n",
       "  'moonlight',\n",
       "  'on',\n",
       "  'water',\n",
       "  'with',\n",
       "  'every',\n",
       "  'step',\n",
       "  'it',\n",
       "  'took'],\n",
       " ['will',\n",
       "  'heard',\n",
       "  'the',\n",
       "  'breath',\n",
       "  'go',\n",
       "  'out',\n",
       "  'of',\n",
       "  'ser',\n",
       "  'waymar',\n",
       "  'royce',\n",
       "  'in',\n",
       "  'long',\n",
       "  'hiss'],\n",
       " ['come', 'no', 'farther', 'the', 'lordling', 'warned'],\n",
       " ['his', 'voice', 'cracked', 'like', 'boy'],\n",
       " ['he',\n",
       "  'threw',\n",
       "  'the',\n",
       "  'long',\n",
       "  'sable',\n",
       "  'cloak',\n",
       "  'back',\n",
       "  'over',\n",
       "  'his',\n",
       "  'shoulders',\n",
       "  'to',\n",
       "  'free',\n",
       "  'his',\n",
       "  'arms',\n",
       "  'for',\n",
       "  'battle',\n",
       "  'and',\n",
       "  'took',\n",
       "  'his',\n",
       "  'sword',\n",
       "  'in',\n",
       "  'both',\n",
       "  'hands'],\n",
       " ['the', 'wind', 'had', 'stopped'],\n",
       " ['it', 'was', 'very', 'cold'],\n",
       " ['the', 'other', 'slid', 'forward', 'on', 'silent', 'feet'],\n",
       " ['in',\n",
       "  'its',\n",
       "  'hand',\n",
       "  'was',\n",
       "  'longsword',\n",
       "  'like',\n",
       "  'none',\n",
       "  'that',\n",
       "  'will',\n",
       "  'had',\n",
       "  'ever',\n",
       "  'seen'],\n",
       " ['no',\n",
       "  'human',\n",
       "  'metal',\n",
       "  'had',\n",
       "  'gone',\n",
       "  'into',\n",
       "  'the',\n",
       "  'forging',\n",
       "  'of',\n",
       "  'that',\n",
       "  'blade'],\n",
       " ['it',\n",
       "  'was',\n",
       "  'alive',\n",
       "  'with',\n",
       "  'moonlight',\n",
       "  'translucent',\n",
       "  'shard',\n",
       "  'of',\n",
       "  'crystal',\n",
       "  'so',\n",
       "  'thin',\n",
       "  'that',\n",
       "  'it',\n",
       "  'seemed',\n",
       "  'almost',\n",
       "  'to',\n",
       "  'vanish',\n",
       "  'when',\n",
       "  'seen',\n",
       "  'edge',\n",
       "  'on'],\n",
       " ['there',\n",
       "  'was',\n",
       "  'faint',\n",
       "  'blue',\n",
       "  'shimmer',\n",
       "  'to',\n",
       "  'the',\n",
       "  'thing',\n",
       "  'ghost',\n",
       "  'light',\n",
       "  'that',\n",
       "  'played',\n",
       "  'around',\n",
       "  'its',\n",
       "  'edges',\n",
       "  'and',\n",
       "  'somehow',\n",
       "  'will',\n",
       "  'knew',\n",
       "  'it',\n",
       "  'was',\n",
       "  'sharper',\n",
       "  'than',\n",
       "  'any',\n",
       "  'razor'],\n",
       " ['ser', 'waymar', 'met', 'him', 'bravely'],\n",
       " ['dance', 'with', 'me', 'then'],\n",
       " ['he', 'lifted', 'his', 'sword', 'high', 'over', 'his', 'head', 'defiant'],\n",
       " ['his',\n",
       "  'hands',\n",
       "  'trembled',\n",
       "  'from',\n",
       "  'the',\n",
       "  'weight',\n",
       "  'of',\n",
       "  'it',\n",
       "  'or',\n",
       "  'perhaps',\n",
       "  'from',\n",
       "  'the',\n",
       "  'cold'],\n",
       " ['yet',\n",
       "  'in',\n",
       "  'that',\n",
       "  'moment',\n",
       "  'will',\n",
       "  'thought',\n",
       "  'he',\n",
       "  'was',\n",
       "  'boy',\n",
       "  'no',\n",
       "  'longer',\n",
       "  'but',\n",
       "  'man',\n",
       "  'of',\n",
       "  'the',\n",
       "  'night',\n",
       "  'watch'],\n",
       " ['the', 'other', 'halted'],\n",
       " ['will',\n",
       "  'saw',\n",
       "  'its',\n",
       "  'eyes',\n",
       "  'blue',\n",
       "  'deeper',\n",
       "  'and',\n",
       "  'bluer',\n",
       "  'than',\n",
       "  'any',\n",
       "  'human',\n",
       "  'eyes',\n",
       "  'blue',\n",
       "  'that',\n",
       "  'burned',\n",
       "  'like',\n",
       "  'ice'],\n",
       " ['they',\n",
       "  'fixed',\n",
       "  'on',\n",
       "  'the',\n",
       "  'longsword',\n",
       "  'trembling',\n",
       "  'on',\n",
       "  'high',\n",
       "  'watched',\n",
       "  'the',\n",
       "  'moonlight',\n",
       "  'running',\n",
       "  'cold',\n",
       "  'along',\n",
       "  'the',\n",
       "  'metal'],\n",
       " ['for', 'heartbeat', 'he', 'dared', 'to', 'hope'],\n",
       " ['they',\n",
       "  'emerged',\n",
       "  'silently',\n",
       "  'from',\n",
       "  'the',\n",
       "  'shadows',\n",
       "  'twins',\n",
       "  'to',\n",
       "  'the',\n",
       "  'first'],\n",
       " ['three', 'of', 'them'],\n",
       " [],\n",
       " [],\n",
       " ['four'],\n",
       " [],\n",
       " [],\n",
       " ['five'],\n",
       " [],\n",
       " [],\n",
       " ['ser',\n",
       "  'waymar',\n",
       "  'may',\n",
       "  'have',\n",
       "  'felt',\n",
       "  'the',\n",
       "  'cold',\n",
       "  'that',\n",
       "  'came',\n",
       "  'with',\n",
       "  'them',\n",
       "  'but',\n",
       "  'he',\n",
       "  'never',\n",
       "  'saw',\n",
       "  'them',\n",
       "  'never',\n",
       "  'heard',\n",
       "  'them'],\n",
       " ['will', 'had', 'to', 'call', 'out'],\n",
       " ['it', 'was', 'his', 'duty'],\n",
       " ['and', 'his', 'death', 'if', 'he', 'did'],\n",
       " ['he',\n",
       "  'shivered',\n",
       "  'and',\n",
       "  'hugged',\n",
       "  'the',\n",
       "  'tree',\n",
       "  'and',\n",
       "  'kept',\n",
       "  'the',\n",
       "  'silence'],\n",
       " ['the', 'pale', 'sword', 'came', 'shivering', 'through', 'the', 'air'],\n",
       " ['ser', 'waymar', 'met', 'it', 'with', 'steel'],\n",
       " ['when',\n",
       "  'the',\n",
       "  'blades',\n",
       "  'met',\n",
       "  'there',\n",
       "  'was',\n",
       "  'no',\n",
       "  'ring',\n",
       "  'of',\n",
       "  'metal',\n",
       "  'on',\n",
       "  'metal',\n",
       "  'only',\n",
       "  'high',\n",
       "  'thin',\n",
       "  'sound',\n",
       "  'at',\n",
       "  'the',\n",
       "  'edge',\n",
       "  'of',\n",
       "  'hearing',\n",
       "  'like',\n",
       "  'an',\n",
       "  'animal',\n",
       "  'screaming',\n",
       "  'in',\n",
       "  'pain'],\n",
       " ['royce',\n",
       "  'checked',\n",
       "  'second',\n",
       "  'blow',\n",
       "  'and',\n",
       "  'third',\n",
       "  'then',\n",
       "  'fell',\n",
       "  'back',\n",
       "  'step'],\n",
       " ['another', 'flurry', 'of', 'blows', 'and', 'he', 'fell', 'back', 'again'],\n",
       " ['behind',\n",
       "  'him',\n",
       "  'to',\n",
       "  'right',\n",
       "  'to',\n",
       "  'left',\n",
       "  'all',\n",
       "  'around',\n",
       "  'him',\n",
       "  'the',\n",
       "  'watchers',\n",
       "  'stood',\n",
       "  'patient',\n",
       "  'faceless',\n",
       "  'silent',\n",
       "  'the',\n",
       "  'shifting',\n",
       "  'patterns',\n",
       "  'of',\n",
       "  'their',\n",
       "  'delicate',\n",
       "  'armor',\n",
       "  'making',\n",
       "  'them',\n",
       "  'all',\n",
       "  'but',\n",
       "  'invisible',\n",
       "  'in',\n",
       "  'the',\n",
       "  'wood'],\n",
       " ['yet', 'they', 'made', 'no', 'move', 'to', 'interfere'],\n",
       " ['again',\n",
       "  'and',\n",
       "  'again',\n",
       "  'the',\n",
       "  'swords',\n",
       "  'met',\n",
       "  'until',\n",
       "  'will',\n",
       "  'wanted',\n",
       "  'to',\n",
       "  'cover',\n",
       "  'his',\n",
       "  'ears',\n",
       "  'against',\n",
       "  'the',\n",
       "  'strange',\n",
       "  'anguished',\n",
       "  'keening',\n",
       "  'of',\n",
       "  'their',\n",
       "  'clash'],\n",
       " ['ser',\n",
       "  'waymar',\n",
       "  'was',\n",
       "  'panting',\n",
       "  'from',\n",
       "  'the',\n",
       "  'effort',\n",
       "  'now',\n",
       "  'his',\n",
       "  'breath',\n",
       "  'steaming',\n",
       "  'in',\n",
       "  'the',\n",
       "  'moonlight'],\n",
       " ['his',\n",
       "  'blade',\n",
       "  'was',\n",
       "  'white',\n",
       "  'with',\n",
       "  'frost',\n",
       "  'the',\n",
       "  'other',\n",
       "  'danced',\n",
       "  'with',\n",
       "  'pale',\n",
       "  'blue',\n",
       "  'light'],\n",
       " ['then', 'royce', 'parry', 'came', 'beat', 'too', 'late'],\n",
       " ['the',\n",
       "  'pale',\n",
       "  'sword',\n",
       "  'bit',\n",
       "  'through',\n",
       "  'the',\n",
       "  'ringmail',\n",
       "  'beneath',\n",
       "  'his',\n",
       "  'arm'],\n",
       " ['the', 'young', 'lord', 'cried', 'out', 'in', 'pain'],\n",
       " ['blood', 'welled', 'between', 'the', 'rings'],\n",
       " ['it',\n",
       "  'steamed',\n",
       "  'in',\n",
       "  'the',\n",
       "  'cold',\n",
       "  'and',\n",
       "  'the',\n",
       "  'droplets',\n",
       "  'seemed',\n",
       "  'red',\n",
       "  'as',\n",
       "  'fire',\n",
       "  'where',\n",
       "  'they',\n",
       "  'touched',\n",
       "  'the',\n",
       "  'snow'],\n",
       " ['ser', 'page', 'waymar', 'fingers', 'brushed', 'his', 'side'],\n",
       " ['his', 'moleskin', 'glove', 'came', 'away', 'soaked', 'with', 'red'],\n",
       " ['the',\n",
       "  'other',\n",
       "  'said',\n",
       "  'something',\n",
       "  'in',\n",
       "  'language',\n",
       "  'that',\n",
       "  'will',\n",
       "  'did',\n",
       "  'not',\n",
       "  'know',\n",
       "  'his',\n",
       "  'voice',\n",
       "  'was',\n",
       "  'like',\n",
       "  'the',\n",
       "  'cracking',\n",
       "  'of',\n",
       "  'ice',\n",
       "  'on',\n",
       "  'winter',\n",
       "  'lake',\n",
       "  'and',\n",
       "  'the',\n",
       "  'words',\n",
       "  'were',\n",
       "  'mocking'],\n",
       " ['ser', 'waymar', 'royce', 'found', 'his', 'fury'],\n",
       " ['for', 'robert'],\n",
       " ['he',\n",
       "  'shouted',\n",
       "  'and',\n",
       "  'he',\n",
       "  'came',\n",
       "  'up',\n",
       "  'snarling',\n",
       "  'lifting',\n",
       "  'the',\n",
       "  'frost',\n",
       "  'covered',\n",
       "  'longsword',\n",
       "  'with',\n",
       "  'both',\n",
       "  'hands',\n",
       "  'and',\n",
       "  'swinging',\n",
       "  'it',\n",
       "  'around',\n",
       "  'in',\n",
       "  'flat',\n",
       "  'sidearm',\n",
       "  'slash',\n",
       "  'with',\n",
       "  'all',\n",
       "  'his',\n",
       "  'weight',\n",
       "  'behind',\n",
       "  'it'],\n",
       " ['the', 'other', 'parry', 'was', 'almost', 'lazy'],\n",
       " ['when', 'the', 'blades', 'touched', 'the', 'steel', 'shattered'],\n",
       " ['scream',\n",
       "  'echoed',\n",
       "  'through',\n",
       "  'the',\n",
       "  'forest',\n",
       "  'night',\n",
       "  'and',\n",
       "  'the',\n",
       "  'longsword',\n",
       "  'shivered',\n",
       "  'into',\n",
       "  'hundred',\n",
       "  'brittle',\n",
       "  'pieces',\n",
       "  'the',\n",
       "  'shards',\n",
       "  'scattering',\n",
       "  'like',\n",
       "  'rain',\n",
       "  'of',\n",
       "  'needles'],\n",
       " ['royce',\n",
       "  'went',\n",
       "  'to',\n",
       "  'his',\n",
       "  'knees',\n",
       "  'shrieking',\n",
       "  'and',\n",
       "  'covered',\n",
       "  'his',\n",
       "  'eyes'],\n",
       " ['blood', 'welled', 'between', 'his', 'fingers'],\n",
       " ['the',\n",
       "  'watchers',\n",
       "  'moved',\n",
       "  'forward',\n",
       "  'together',\n",
       "  'as',\n",
       "  'if',\n",
       "  'some',\n",
       "  'signal',\n",
       "  'had',\n",
       "  'been',\n",
       "  'given'],\n",
       " ['swords', 'rose', 'and', 'fell', 'all', 'in', 'deathly', 'silence'],\n",
       " ['it', 'was', 'cold', 'butchery'],\n",
       " ['the',\n",
       "  'pale',\n",
       "  'blades',\n",
       "  'sliced',\n",
       "  'through',\n",
       "  'ringmail',\n",
       "  'as',\n",
       "  'if',\n",
       "  'it',\n",
       "  'were',\n",
       "  'silk'],\n",
       " ['will', 'closed', 'his', 'eyes'],\n",
       " ['far',\n",
       "  'beneath',\n",
       "  'him',\n",
       "  'he',\n",
       "  'heard',\n",
       "  'their',\n",
       "  'voices',\n",
       "  'and',\n",
       "  'laughter',\n",
       "  'sharp',\n",
       "  'as',\n",
       "  'icicles'],\n",
       " ['when',\n",
       "  'he',\n",
       "  'found',\n",
       "  'the',\n",
       "  'courage',\n",
       "  'to',\n",
       "  'look',\n",
       "  'again',\n",
       "  'long',\n",
       "  'time',\n",
       "  'had',\n",
       "  'passed',\n",
       "  'and',\n",
       "  'the',\n",
       "  'ridge',\n",
       "  'below',\n",
       "  'was',\n",
       "  'empty'],\n",
       " ['he',\n",
       "  'stayed',\n",
       "  'in',\n",
       "  'the',\n",
       "  'tree',\n",
       "  'scarce',\n",
       "  'daring',\n",
       "  'to',\n",
       "  'breathe',\n",
       "  'while',\n",
       "  'the',\n",
       "  'moon',\n",
       "  'crept',\n",
       "  'slowly',\n",
       "  'across',\n",
       "  'the',\n",
       "  'black',\n",
       "  'sky'],\n",
       " ['finally',\n",
       "  'his',\n",
       "  'muscles',\n",
       "  'cramping',\n",
       "  'and',\n",
       "  'his',\n",
       "  'fingers',\n",
       "  'numb',\n",
       "  'with',\n",
       "  'cold',\n",
       "  'he',\n",
       "  'climbed',\n",
       "  'down'],\n",
       " ['royce',\n",
       "  'body',\n",
       "  'lay',\n",
       "  'facedown',\n",
       "  'in',\n",
       "  'the',\n",
       "  'snow',\n",
       "  'one',\n",
       "  'arm',\n",
       "  'outflung'],\n",
       " ['the',\n",
       "  'thick',\n",
       "  'sable',\n",
       "  'cloak',\n",
       "  'had',\n",
       "  'been',\n",
       "  'slashed',\n",
       "  'in',\n",
       "  'dozen',\n",
       "  'places'],\n",
       " ['lying', 'dead', 'like', 'that', 'you', 'saw', 'how', 'young', 'he', 'was'],\n",
       " ['boy'],\n",
       " ['he',\n",
       "  'found',\n",
       "  'what',\n",
       "  'was',\n",
       "  'left',\n",
       "  'of',\n",
       "  'the',\n",
       "  'sword',\n",
       "  'few',\n",
       "  'feet',\n",
       "  'away',\n",
       "  'the',\n",
       "  'end',\n",
       "  'splintered',\n",
       "  'and',\n",
       "  'twisted',\n",
       "  'like',\n",
       "  'tree',\n",
       "  'struck',\n",
       "  'by',\n",
       "  'lightning'],\n",
       " ['will',\n",
       "  'knelt',\n",
       "  'looked',\n",
       "  'around',\n",
       "  'warily',\n",
       "  'and',\n",
       "  'snatched',\n",
       "  'it',\n",
       "  'up'],\n",
       " ['the', 'broken', 'sword', 'would', 'be', 'his', 'proof'],\n",
       " ['gared',\n",
       "  'would',\n",
       "  'know',\n",
       "  'what',\n",
       "  'to',\n",
       "  'make',\n",
       "  'of',\n",
       "  'it',\n",
       "  'and',\n",
       "  'if',\n",
       "  'not',\n",
       "  'him',\n",
       "  'then',\n",
       "  'surely',\n",
       "  'that',\n",
       "  'old',\n",
       "  'bear',\n",
       "  'mormont',\n",
       "  'or',\n",
       "  'maester',\n",
       "  'aemon'],\n",
       " ['would', 'gared', 'still', 'be', 'waiting', 'with', 'the', 'horses'],\n",
       " ['he', 'had', 'to', 'hurry'],\n",
       " ['will', 'rose'],\n",
       " ['ser', 'waymar', 'royce', 'stood', 'over', 'him'],\n",
       " ['his', 'fine', 'clothes', 'were', 'tatter', 'his', 'face', 'ruin'],\n",
       " ['shard',\n",
       "  'from',\n",
       "  'his',\n",
       "  'sword',\n",
       "  'transfixed',\n",
       "  'the',\n",
       "  'blind',\n",
       "  'white',\n",
       "  'pupil',\n",
       "  'of',\n",
       "  'his',\n",
       "  'left',\n",
       "  'eye'],\n",
       " ['the', 'right', 'eye', 'was', 'open'],\n",
       " ['the', 'pupil', 'burned', 'blue'],\n",
       " ['it', 'saw'],\n",
       " ['the', 'broken', 'sword', 'fell', 'from', 'nerveless', 'fingers'],\n",
       " ['will', 'closed', 'his', 'eyes', 'to', 'pray'],\n",
       " ['long',\n",
       "  'elegant',\n",
       "  'hands',\n",
       "  'brushed',\n",
       "  'his',\n",
       "  'cheek',\n",
       "  'then',\n",
       "  'tightened',\n",
       "  'around',\n",
       "  'his',\n",
       "  'throat'],\n",
       " ['they',\n",
       "  'were',\n",
       "  'gloved',\n",
       "  'in',\n",
       "  'the',\n",
       "  'finest',\n",
       "  'moleskin',\n",
       "  'and',\n",
       "  'sticky',\n",
       "  'with',\n",
       "  'blood',\n",
       "  'yet',\n",
       "  'the',\n",
       "  'touch',\n",
       "  'was',\n",
       "  'icy',\n",
       "  'cold'],\n",
       " ['bran',\n",
       "  'the',\n",
       "  'morning',\n",
       "  'had',\n",
       "  'dawned',\n",
       "  'clear',\n",
       "  'and',\n",
       "  'cold',\n",
       "  'with',\n",
       "  'crispness',\n",
       "  'that',\n",
       "  'hinted',\n",
       "  'at',\n",
       "  'the',\n",
       "  'end',\n",
       "  'of',\n",
       "  'summer'],\n",
       " ['they',\n",
       "  'set',\n",
       "  'forth',\n",
       "  'at',\n",
       "  'daybreak',\n",
       "  'to',\n",
       "  'see',\n",
       "  'man',\n",
       "  'beheaded',\n",
       "  'twenty',\n",
       "  'in',\n",
       "  'all',\n",
       "  'and',\n",
       "  'bran',\n",
       "  'rode',\n",
       "  'among',\n",
       "  'them',\n",
       "  'nervous',\n",
       "  'with',\n",
       "  'excitement'],\n",
       " ['this',\n",
       "  'was',\n",
       "  'the',\n",
       "  'first',\n",
       "  'time',\n",
       "  'he',\n",
       "  'had',\n",
       "  'been',\n",
       "  'deemed',\n",
       "  'old',\n",
       "  'enough',\n",
       "  'to',\n",
       "  'go',\n",
       "  'with',\n",
       "  'his',\n",
       "  'lord',\n",
       "  'father',\n",
       "  'and',\n",
       "  'his',\n",
       "  'page',\n",
       "  'brothers',\n",
       "  'to',\n",
       "  'see',\n",
       "  'the',\n",
       "  'king',\n",
       "  'justice',\n",
       "  'done'],\n",
       " ['it',\n",
       "  'was',\n",
       "  'the',\n",
       "  'ninth',\n",
       "  'year',\n",
       "  'of',\n",
       "  'summer',\n",
       "  'and',\n",
       "  'the',\n",
       "  'seventh',\n",
       "  'of',\n",
       "  'bran',\n",
       "  'life'],\n",
       " ['the',\n",
       "  'man',\n",
       "  'had',\n",
       "  'been',\n",
       "  'taken',\n",
       "  'outside',\n",
       "  'small',\n",
       "  'holdfast',\n",
       "  'in',\n",
       "  'the',\n",
       "  'hills'],\n",
       " ['robb',\n",
       "  'thought',\n",
       "  'he',\n",
       "  'was',\n",
       "  'wildling',\n",
       "  'his',\n",
       "  'sword',\n",
       "  'sworn',\n",
       "  'to',\n",
       "  'mance',\n",
       "  'rayder',\n",
       "  'the',\n",
       "  'kingbeyond',\n",
       "  'the',\n",
       "  'wall'],\n",
       " ['it', 'made', 'bran', 'skin', 'prickle', 'to', 'think', 'of', 'it'],\n",
       " ['he', 'remembered', 'the', 'hearth', 'tales', 'old', 'nan', 'told', 'them'],\n",
       " ['the',\n",
       "  'wildlings',\n",
       "  'were',\n",
       "  'cruel',\n",
       "  'men',\n",
       "  'she',\n",
       "  'said',\n",
       "  'slavers',\n",
       "  'and',\n",
       "  'slayers',\n",
       "  'and',\n",
       "  'thieves'],\n",
       " ['they',\n",
       "  'consorted',\n",
       "  'with',\n",
       "  'giants',\n",
       "  'and',\n",
       "  'ghouls',\n",
       "  'stole',\n",
       "  'girl',\n",
       "  'children',\n",
       "  'in',\n",
       "  'the',\n",
       "  'dead',\n",
       "  'of',\n",
       "  'night',\n",
       "  'and',\n",
       "  'drank',\n",
       "  'blood',\n",
       "  'from',\n",
       "  'polished',\n",
       "  'horns'],\n",
       " ['and',\n",
       "  'their',\n",
       "  'women',\n",
       "  'lay',\n",
       "  'with',\n",
       "  'the',\n",
       "  'others',\n",
       "  'in',\n",
       "  'the',\n",
       "  'long',\n",
       "  'night',\n",
       "  'to',\n",
       "  'sire',\n",
       "  'terrible',\n",
       "  'half',\n",
       "  'human',\n",
       "  'children'],\n",
       " ['but',\n",
       "  'the',\n",
       "  'man',\n",
       "  'they',\n",
       "  'found',\n",
       "  'bound',\n",
       "  'hand',\n",
       "  'and',\n",
       "  'foot',\n",
       "  'to',\n",
       "  'the',\n",
       "  'holdfast',\n",
       "  'wall',\n",
       "  'awaiting',\n",
       "  'the',\n",
       "  'king',\n",
       "  'justice',\n",
       "  'was',\n",
       "  'old',\n",
       "  'and',\n",
       "  'scrawny',\n",
       "  'not',\n",
       "  'much',\n",
       "  'taller',\n",
       "  'than',\n",
       "  'robb'],\n",
       " ['he',\n",
       "  'had',\n",
       "  'lost',\n",
       "  'both',\n",
       "  'ears',\n",
       "  'and',\n",
       "  'finger',\n",
       "  'to',\n",
       "  'frostbite',\n",
       "  'and',\n",
       "  'he',\n",
       "  'dressed',\n",
       "  'all',\n",
       "  'in',\n",
       "  'black',\n",
       "  'the',\n",
       "  'same',\n",
       "  'as',\n",
       "  'brother',\n",
       "  'of',\n",
       "  'the',\n",
       "  'night',\n",
       "  'watch',\n",
       "  'except',\n",
       "  'that',\n",
       "  'his',\n",
       "  'furs',\n",
       "  'were',\n",
       "  'ragged',\n",
       "  'and',\n",
       "  'greasy'],\n",
       " ['the',\n",
       "  'breath',\n",
       "  'of',\n",
       "  'man',\n",
       "  'and',\n",
       "  'horse',\n",
       "  'mingled',\n",
       "  'steaming',\n",
       "  'in',\n",
       "  'the',\n",
       "  'cold',\n",
       "  'morning',\n",
       "  'air',\n",
       "  'as',\n",
       "  'his',\n",
       "  'lord',\n",
       "  'father',\n",
       "  'had',\n",
       "  'the',\n",
       "  'man',\n",
       "  'cut',\n",
       "  'down',\n",
       "  'from',\n",
       "  'the',\n",
       "  'wall',\n",
       "  'and',\n",
       "  'dragged',\n",
       "  'before',\n",
       "  'them'],\n",
       " ['robb',\n",
       "  'and',\n",
       "  'jon',\n",
       "  'sat',\n",
       "  'tall',\n",
       "  'and',\n",
       "  'still',\n",
       "  'on',\n",
       "  'their',\n",
       "  'horses',\n",
       "  'with',\n",
       "  'bran',\n",
       "  'between',\n",
       "  'them',\n",
       "  'on',\n",
       "  'his',\n",
       "  'pony',\n",
       "  'trying',\n",
       "  'to',\n",
       "  'seem',\n",
       "  'older',\n",
       "  'than',\n",
       "  'seven',\n",
       "  'trying',\n",
       "  'to',\n",
       "  'pretend',\n",
       "  'that',\n",
       "  'he',\n",
       "  'seen',\n",
       "  'all',\n",
       "  'this',\n",
       "  'before'],\n",
       " ['faint', 'wind', 'blew', 'through', 'the', 'holdfast', 'gate'],\n",
       " ['over',\n",
       "  'their',\n",
       "  'heads',\n",
       "  'flapped',\n",
       "  'the',\n",
       "  'banner',\n",
       "  'of',\n",
       "  'the',\n",
       "  'starks',\n",
       "  'of',\n",
       "  'winterfell',\n",
       "  'grey',\n",
       "  'direwolf',\n",
       "  'racing',\n",
       "  'across',\n",
       "  'an',\n",
       "  'ice',\n",
       "  'white',\n",
       "  'field'],\n",
       " ['bran',\n",
       "  'father',\n",
       "  'sat',\n",
       "  'solemnly',\n",
       "  'on',\n",
       "  'his',\n",
       "  'horse',\n",
       "  'long',\n",
       "  'brown',\n",
       "  'hair',\n",
       "  'stirring',\n",
       "  'in',\n",
       "  'the',\n",
       "  'wind'],\n",
       " ['his',\n",
       "  'closely',\n",
       "  'trimmed',\n",
       "  'beard',\n",
       "  'was',\n",
       "  'shot',\n",
       "  'with',\n",
       "  'white',\n",
       "  'making',\n",
       "  'him',\n",
       "  'look',\n",
       "  'older',\n",
       "  'than',\n",
       "  'his',\n",
       "  'thirty',\n",
       "  'five',\n",
       "  'years'],\n",
       " ['he',\n",
       "  'had',\n",
       "  'grim',\n",
       "  'cast',\n",
       "  'to',\n",
       "  'his',\n",
       "  'grey',\n",
       "  'eyes',\n",
       "  'this',\n",
       "  'day',\n",
       "  'and',\n",
       "  'he',\n",
       "  'seemed',\n",
       "  'not',\n",
       "  'at',\n",
       "  'all',\n",
       "  'the',\n",
       "  'man',\n",
       "  'who',\n",
       "  'would',\n",
       "  'sit',\n",
       "  'before',\n",
       "  'the',\n",
       "  'fire',\n",
       "  'in',\n",
       "  'the',\n",
       "  'evening',\n",
       "  'and',\n",
       "  'talk',\n",
       "  'softly',\n",
       "  'of',\n",
       "  'the',\n",
       "  'age',\n",
       "  'of',\n",
       "  'heroes',\n",
       "  'and',\n",
       "  'the',\n",
       "  'children',\n",
       "  'of',\n",
       "  'the',\n",
       "  'forest'],\n",
       " ['he',\n",
       "  'had',\n",
       "  'taken',\n",
       "  'off',\n",
       "  'father',\n",
       "  'face',\n",
       "  'bran',\n",
       "  'thought',\n",
       "  'and',\n",
       "  'donned',\n",
       "  'the',\n",
       "  'face',\n",
       "  'of',\n",
       "  'lord',\n",
       "  'stark',\n",
       "  'of',\n",
       "  'winterfell'],\n",
       " ['there',\n",
       "  'were',\n",
       "  'questions',\n",
       "  'asked',\n",
       "  'and',\n",
       "  'answers',\n",
       "  'given',\n",
       "  'there',\n",
       "  'in',\n",
       "  'the',\n",
       "  'chill',\n",
       "  'of',\n",
       "  'morning',\n",
       "  'but',\n",
       "  'afterward',\n",
       "  'bran',\n",
       "  'could',\n",
       "  'not',\n",
       "  'recall',\n",
       "  'much',\n",
       "  'of',\n",
       "  'what',\n",
       "  'had',\n",
       "  'been',\n",
       "  'said'],\n",
       " ['finally',\n",
       "  'his',\n",
       "  'lord',\n",
       "  'father',\n",
       "  'gave',\n",
       "  'command',\n",
       "  'and',\n",
       "  'two',\n",
       "  'of',\n",
       "  'his',\n",
       "  'guardsmen',\n",
       "  'dragged',\n",
       "  'the',\n",
       "  'ragged',\n",
       "  'man',\n",
       "  'to',\n",
       "  'the',\n",
       "  'ironwood',\n",
       "  'stump',\n",
       "  'in',\n",
       "  'the',\n",
       "  'center',\n",
       "  'of',\n",
       "  'the',\n",
       "  'square'],\n",
       " ['they',\n",
       "  'forced',\n",
       "  'his',\n",
       "  'head',\n",
       "  'down',\n",
       "  'onto',\n",
       "  'the',\n",
       "  'hard',\n",
       "  'black',\n",
       "  'wood'],\n",
       " ['lord',\n",
       "  'eddard',\n",
       "  'stark',\n",
       "  'dismounted',\n",
       "  'and',\n",
       "  'his',\n",
       "  'ward',\n",
       "  'theon',\n",
       "  'greyjoy',\n",
       "  'brought',\n",
       "  'forth',\n",
       "  'the',\n",
       "  'sword'],\n",
       " ['ice', 'that', 'sword', 'was', 'called'],\n",
       " ['it',\n",
       "  'was',\n",
       "  'as',\n",
       "  'wide',\n",
       "  'across',\n",
       "  'as',\n",
       "  'man',\n",
       "  'hand',\n",
       "  'and',\n",
       "  'taller',\n",
       "  'even',\n",
       "  'than',\n",
       "  'robb'],\n",
       " ['the',\n",
       "  'blade',\n",
       "  'was',\n",
       "  'valyrian',\n",
       "  'steel',\n",
       "  'spell',\n",
       "  'forged',\n",
       "  'and',\n",
       "  'dark',\n",
       "  'as',\n",
       "  'smoke'],\n",
       " ['nothing', 'held', 'an', 'edge', 'like', 'valyrian', 'steel'],\n",
       " ['his',\n",
       "  'father',\n",
       "  'peeled',\n",
       "  'off',\n",
       "  'his',\n",
       "  'gloves',\n",
       "  'and',\n",
       "  'handed',\n",
       "  'them',\n",
       "  'to',\n",
       "  'jory',\n",
       "  'cassel',\n",
       "  'the',\n",
       "  'captain',\n",
       "  'of',\n",
       "  'his',\n",
       "  'household',\n",
       "  'guard'],\n",
       " ['he',\n",
       "  'took',\n",
       "  'hold',\n",
       "  'of',\n",
       "  'ice',\n",
       "  'with',\n",
       "  'both',\n",
       "  'hands',\n",
       "  'and',\n",
       "  'said',\n",
       "  'in',\n",
       "  'the',\n",
       "  'name',\n",
       "  'of',\n",
       "  'robert',\n",
       "  'of',\n",
       "  'the',\n",
       "  'house',\n",
       "  'baratheon',\n",
       "  'the',\n",
       "  'first',\n",
       "  'of',\n",
       "  'his',\n",
       "  'name',\n",
       "  'king',\n",
       "  'of',\n",
       "  'the',\n",
       "  'andals',\n",
       "  'and',\n",
       "  'the',\n",
       "  'rhoynar',\n",
       "  'and',\n",
       "  'the',\n",
       "  'first',\n",
       "  'men',\n",
       "  'lord',\n",
       "  'of',\n",
       "  'the',\n",
       "  'seven',\n",
       "  'kingdoms',\n",
       "  'and',\n",
       "  'protector',\n",
       "  'of',\n",
       "  'the',\n",
       "  'realm',\n",
       "  'by',\n",
       "  'the',\n",
       "  'word',\n",
       "  'of',\n",
       "  'eddard',\n",
       "  'of',\n",
       "  'the',\n",
       "  'house',\n",
       "  'stark',\n",
       "  'lord',\n",
       "  'of',\n",
       "  'winterfell',\n",
       "  'and',\n",
       "  'warden',\n",
       "  'of',\n",
       "  'the',\n",
       "  'north',\n",
       "  'do',\n",
       "  'sentence',\n",
       "  'you',\n",
       "  'to',\n",
       "  'die'],\n",
       " ['he', 'lifted', 'the', 'greatsword', 'high', 'above', 'his', 'head'],\n",
       " ['bran', 'bastard', 'brother', 'jon', 'snow', 'moved', 'closer'],\n",
       " ['keep', 'the', 'pony', 'well', 'in', 'hand', 'he', 'whispered'],\n",
       " ['and', 'don', 'look', 'away'],\n",
       " ['father', 'will', 'know', 'if', 'you', 'do'],\n",
       " ['bran',\n",
       "  'kept',\n",
       "  'his',\n",
       "  'pony',\n",
       "  'well',\n",
       "  'in',\n",
       "  'hand',\n",
       "  'and',\n",
       "  'did',\n",
       "  'not',\n",
       "  'look',\n",
       "  'away'],\n",
       " ['his',\n",
       "  'father',\n",
       "  'took',\n",
       "  'off',\n",
       "  'the',\n",
       "  'man',\n",
       "  'head',\n",
       "  'with',\n",
       "  'single',\n",
       "  'sure',\n",
       "  'stroke'],\n",
       " ['blood',\n",
       "  'sprayed',\n",
       "  'out',\n",
       "  'across',\n",
       "  'the',\n",
       "  'snow',\n",
       "  'as',\n",
       "  'red',\n",
       "  'as',\n",
       "  'surnmerwine'],\n",
       " ['one',\n",
       "  'of',\n",
       "  'the',\n",
       "  'horses',\n",
       "  'reared',\n",
       "  'and',\n",
       "  'had',\n",
       "  'to',\n",
       "  'be',\n",
       "  'restrained',\n",
       "  'to',\n",
       "  'keep',\n",
       "  'from',\n",
       "  'bolting'],\n",
       " ['bran', 'could', 'not', 'take', 'his', 'eyes', 'off', 'the', 'blood'],\n",
       " ['the',\n",
       "  'snows',\n",
       "  'around',\n",
       "  'the',\n",
       "  'stump',\n",
       "  'drank',\n",
       "  'it',\n",
       "  'eagerly',\n",
       "  'reddening',\n",
       "  'as',\n",
       "  'he',\n",
       "  'watched'],\n",
       " ['the', 'head', 'bounced', 'off', 'thick', 'root', 'and', 'rolled'],\n",
       " ['it', 'came', 'up', 'near', 'greyjoy', 'feet'],\n",
       " ['theon',\n",
       "  'was',\n",
       "  'lean',\n",
       "  'dark',\n",
       "  'page',\n",
       "  'youth',\n",
       "  'of',\n",
       "  'nineteen',\n",
       "  'who',\n",
       "  'found',\n",
       "  'everything',\n",
       "  'amusing'],\n",
       " ['he',\n",
       "  'laughed',\n",
       "  'put',\n",
       "  'his',\n",
       "  'boot',\n",
       "  'on',\n",
       "  'the',\n",
       "  'head',\n",
       "  'and',\n",
       "  'kicked',\n",
       "  'it',\n",
       "  'away'],\n",
       " ['ass',\n",
       "  'jon',\n",
       "  'muttered',\n",
       "  'low',\n",
       "  'enough',\n",
       "  'so',\n",
       "  'greyjoy',\n",
       "  'did',\n",
       "  'not',\n",
       "  'hear'],\n",
       " ['he',\n",
       "  'put',\n",
       "  'hand',\n",
       "  'on',\n",
       "  'bran',\n",
       "  'shoulder',\n",
       "  'and',\n",
       "  'bran',\n",
       "  'looked',\n",
       "  'over',\n",
       "  'at',\n",
       "  'his',\n",
       "  'bastard',\n",
       "  'brother'],\n",
       " ['you', 'did', 'well', 'jon', 'told', 'him', 'solemnly'],\n",
       " ['jon', 'was', 'fourteen', 'an', 'old', 'hand', 'at', 'justice'],\n",
       " ['it',\n",
       "  'seemed',\n",
       "  'colder',\n",
       "  'on',\n",
       "  'the',\n",
       "  'long',\n",
       "  'ride',\n",
       "  'back',\n",
       "  'to',\n",
       "  'winterfell',\n",
       "  'though',\n",
       "  'the',\n",
       "  'wind',\n",
       "  'had',\n",
       "  'died',\n",
       "  'by',\n",
       "  'then',\n",
       "  'and',\n",
       "  'the',\n",
       "  'sun',\n",
       "  'was',\n",
       "  'higher',\n",
       "  'in',\n",
       "  'the',\n",
       "  'sky'],\n",
       " ['bran',\n",
       "  'rode',\n",
       "  'with',\n",
       "  'his',\n",
       "  'brothers',\n",
       "  'well',\n",
       "  'ahead',\n",
       "  'of',\n",
       "  'the',\n",
       "  'main',\n",
       "  'party',\n",
       "  'his',\n",
       "  'pony',\n",
       "  'struggling',\n",
       "  'hard',\n",
       "  'to',\n",
       "  'keep',\n",
       "  'up',\n",
       "  'with',\n",
       "  'their',\n",
       "  'horses'],\n",
       " ['the', 'deserter', 'died', 'bravely', 'robb', 'said'],\n",
       " ['he',\n",
       "  'was',\n",
       "  'big',\n",
       "  'and',\n",
       "  'broad',\n",
       "  'and',\n",
       "  'growing',\n",
       "  'every',\n",
       "  'day',\n",
       "  'with',\n",
       "  'his',\n",
       "  'mother',\n",
       "  'coloring',\n",
       "  'the',\n",
       "  'fair',\n",
       "  'skin',\n",
       "  'red',\n",
       "  'brown',\n",
       "  'hair',\n",
       "  'and',\n",
       "  'blue',\n",
       "  'eyes',\n",
       "  'of',\n",
       "  'the',\n",
       "  'tullys',\n",
       "  'of',\n",
       "  'riverrun'],\n",
       " ['he', 'had', 'courage', 'at', 'the', 'least'],\n",
       " ['no', 'jon', 'snow', 'said', 'quietly'],\n",
       " ['it', 'was', 'not', 'courage'],\n",
       " ['this', 'one', 'was', 'dead', 'of', 'fear'],\n",
       " ['you', 'could', 'see', 'it', 'in', 'his', 'eyes', 'stark'],\n",
       " ['jon',\n",
       "  'eyes',\n",
       "  'were',\n",
       "  'grey',\n",
       "  'so',\n",
       "  'dark',\n",
       "  'they',\n",
       "  'seemed',\n",
       "  'almost',\n",
       "  'black',\n",
       "  'but',\n",
       "  'there',\n",
       "  'was',\n",
       "  'little',\n",
       "  'they',\n",
       "  'did',\n",
       "  'not',\n",
       "  'see'],\n",
       " ['he',\n",
       "  'was',\n",
       "  'of',\n",
       "  'an',\n",
       "  'age',\n",
       "  'with',\n",
       "  'robb',\n",
       "  'but',\n",
       "  'they',\n",
       "  'did',\n",
       "  'not',\n",
       "  'look',\n",
       "  'alike'],\n",
       " ['jon',\n",
       "  'was',\n",
       "  'slender',\n",
       "  'where',\n",
       "  'robb',\n",
       "  'was',\n",
       "  'muscular',\n",
       "  'dark',\n",
       "  'where',\n",
       "  'robb',\n",
       "  'was',\n",
       "  'fair',\n",
       "  'graceful',\n",
       "  'and',\n",
       "  'quick',\n",
       "  'where',\n",
       "  'his',\n",
       "  'half',\n",
       "  'brother',\n",
       "  'was',\n",
       "  'strong',\n",
       "  'and',\n",
       "  'fast'],\n",
       " ['robb', 'was', 'not', 'impressed'],\n",
       " ['the', 'others', 'take', 'his', 'eyes', 'he', 'swore'],\n",
       " ['he', 'died', 'well'],\n",
       " ['race', 'you', 'to', 'the', 'bridge'],\n",
       " ['done', 'jon', 'said', 'kicking', 'his', 'horse', 'forward'],\n",
       " ['robb',\n",
       "  'cursed',\n",
       "  'and',\n",
       "  'followed',\n",
       "  'and',\n",
       "  'they',\n",
       "  'galloped',\n",
       "  'off',\n",
       "  'down',\n",
       "  'the',\n",
       "  'trail',\n",
       "  'robb',\n",
       "  'laughing',\n",
       "  'and',\n",
       "  'hooting',\n",
       "  'jon',\n",
       "  'silent',\n",
       "  'and',\n",
       "  'intent'],\n",
       " ['the',\n",
       "  'hooves',\n",
       "  'of',\n",
       "  'their',\n",
       "  'horses',\n",
       "  'kicked',\n",
       "  'up',\n",
       "  'showers',\n",
       "  'of',\n",
       "  'snow',\n",
       "  'as',\n",
       "  'they',\n",
       "  'went'],\n",
       " ['bran', 'did', 'not', 'try', 'to', 'follow'],\n",
       " ['his', 'pony', 'could', 'not', 'keep', 'up'],\n",
       " ['he',\n",
       "  'had',\n",
       "  'seen',\n",
       "  'the',\n",
       "  'ragged',\n",
       "  'man',\n",
       "  'eyes',\n",
       "  'and',\n",
       "  'he',\n",
       "  'was',\n",
       "  'thinking',\n",
       "  'of',\n",
       "  'them',\n",
       "  'now'],\n",
       " ['after',\n",
       "  'while',\n",
       "  'the',\n",
       "  'sound',\n",
       "  'of',\n",
       "  'robb',\n",
       "  'laughter',\n",
       "  'receded',\n",
       "  'and',\n",
       "  'the',\n",
       "  'woods',\n",
       "  'grew',\n",
       "  'silent',\n",
       "  'again'],\n",
       " ['so',\n",
       "  'deep',\n",
       "  'in',\n",
       "  'thought',\n",
       "  'was',\n",
       "  'he',\n",
       "  'that',\n",
       "  'he',\n",
       "  'never',\n",
       "  'heard',\n",
       "  'the',\n",
       "  'rest',\n",
       "  'of',\n",
       "  'the',\n",
       "  'party',\n",
       "  'until',\n",
       "  'his',\n",
       "  'father',\n",
       "  'moved',\n",
       "  'up',\n",
       "  'to',\n",
       "  'ride',\n",
       "  'beside',\n",
       "  'him'],\n",
       " ['are', 'you', 'well', 'bran'],\n",
       " ['he', 'asked', 'not', 'unkindly'],\n",
       " ['yes', 'father', 'bran', 'told', 'him'],\n",
       " ['he', 'looked', 'up'],\n",
       " ['wrapped',\n",
       "  'in',\n",
       "  'his',\n",
       "  'furs',\n",
       "  'and',\n",
       "  'leathers',\n",
       "  'mounted',\n",
       "  'on',\n",
       "  'his',\n",
       "  'great',\n",
       "  'warhorse',\n",
       "  'his',\n",
       "  'lord',\n",
       "  'father',\n",
       "  'loomed',\n",
       "  'over',\n",
       "  'him',\n",
       "  'like',\n",
       "  'giant'],\n",
       " ['robb',\n",
       "  'says',\n",
       "  'the',\n",
       "  'man',\n",
       "  'died',\n",
       "  'bravely',\n",
       "  'but',\n",
       "  'jon',\n",
       "  'says',\n",
       "  'he',\n",
       "  'was',\n",
       "  'afraid'],\n",
       " ['what', 'do', 'you', 'think'],\n",
       " ['his', 'father', 'asked'],\n",
       " ['bran', 'thought', 'about', 'it'],\n",
       " ['can', 'man', 'still', 'be', 'brave', 'if', 'he', 'afraid'],\n",
       " ['that',\n",
       "  'is',\n",
       "  'the',\n",
       "  'only',\n",
       "  'time',\n",
       "  'man',\n",
       "  'can',\n",
       "  'be',\n",
       "  'brave',\n",
       "  'his',\n",
       "  'father',\n",
       "  'told',\n",
       "  'him'],\n",
       " ['do', 'you', 'understand', 'why', 'did', 'it'],\n",
       " ['he', 'was', 'wildling', 'bran', 'said'],\n",
       " ['they',\n",
       "  'carry',\n",
       "  'off',\n",
       "  'women',\n",
       "  'and',\n",
       "  'sell',\n",
       "  'them',\n",
       "  'to',\n",
       "  'the',\n",
       "  'others'],\n",
       " ['his', 'lord', 'father', 'smiled'],\n",
       " ['old', 'nan', 'has', 'been', 'telling', 'you', 'stories', 'again'],\n",
       " ['in',\n",
       "  'truth',\n",
       "  'the',\n",
       "  'man',\n",
       "  'was',\n",
       "  'an',\n",
       "  'oathbreaker',\n",
       "  'deserter',\n",
       "  'from',\n",
       "  'the',\n",
       "  'night',\n",
       "  'watch'],\n",
       " ['no', 'man', 'is', 'more', 'dangerous'],\n",
       " ['the',\n",
       "  'deserter',\n",
       "  'knows',\n",
       "  'his',\n",
       "  'life',\n",
       "  'is',\n",
       "  'forfeit',\n",
       "  'if',\n",
       "  'he',\n",
       "  'is',\n",
       "  'taken',\n",
       "  'so',\n",
       "  'he',\n",
       "  'will',\n",
       "  'not',\n",
       "  'flinch',\n",
       "  'from',\n",
       "  'any',\n",
       "  'crime',\n",
       "  'no',\n",
       "  'matter',\n",
       "  'how',\n",
       "  'vile'],\n",
       " ['but', 'you', 'mistake', 'me'],\n",
       " ['the',\n",
       "  'question',\n",
       "  'was',\n",
       "  'not',\n",
       "  'why',\n",
       "  'the',\n",
       "  'man',\n",
       "  'had',\n",
       "  'to',\n",
       "  'die',\n",
       "  'but',\n",
       "  'why',\n",
       "  'must',\n",
       "  'do',\n",
       "  'it'],\n",
       " ['page', 'bran', 'had', 'no', 'answer', 'for', 'that'],\n",
       " ['king', 'robert', 'has', 'headsman', 'he', 'said', 'uncertainly'],\n",
       " ['he', 'does', 'his', 'father', 'admitted'],\n",
       " ['as', 'did', 'the', 'targaryen', 'kings', 'before', 'him'],\n",
       " ['yet', 'our', 'way', 'is', 'the', 'older', 'way'],\n",
       " ['the',\n",
       "  'blood',\n",
       "  'of',\n",
       "  'the',\n",
       "  'first',\n",
       "  'men',\n",
       "  'still',\n",
       "  'flows',\n",
       "  'in',\n",
       "  'the',\n",
       "  'veins',\n",
       "  'of',\n",
       "  'the',\n",
       "  'starks',\n",
       "  'and',\n",
       "  'we',\n",
       "  'hold',\n",
       "  'to',\n",
       "  'the',\n",
       "  'belief',\n",
       "  'that',\n",
       "  'the',\n",
       "  'man',\n",
       "  'who',\n",
       "  'passes',\n",
       "  'the',\n",
       "  'sentence',\n",
       "  'should',\n",
       "  'swing',\n",
       "  'the',\n",
       "  'sword'],\n",
       " ['if',\n",
       "  'you',\n",
       "  'would',\n",
       "  'take',\n",
       "  'man',\n",
       "  'life',\n",
       "  'you',\n",
       "  'owe',\n",
       "  'it',\n",
       "  'to',\n",
       "  'him',\n",
       "  'to',\n",
       "  'look',\n",
       "  'into',\n",
       "  'his',\n",
       "  'eyes',\n",
       "  'and',\n",
       "  'hear',\n",
       "  'his',\n",
       "  'final',\n",
       "  'words'],\n",
       " ['and',\n",
       "  'if',\n",
       "  'you',\n",
       "  'cannot',\n",
       "  'bear',\n",
       "  'to',\n",
       "  'do',\n",
       "  'that',\n",
       "  'then',\n",
       "  'perhaps',\n",
       "  'the',\n",
       "  'man',\n",
       "  'does',\n",
       "  'not',\n",
       "  'deserve',\n",
       "  'to',\n",
       "  'die'],\n",
       " ['one',\n",
       "  'day',\n",
       "  'bran',\n",
       "  'you',\n",
       "  'will',\n",
       "  'be',\n",
       "  'robb',\n",
       "  'bannerman',\n",
       "  'holding',\n",
       "  'keep',\n",
       "  'of',\n",
       "  'your',\n",
       "  'own',\n",
       "  'for',\n",
       "  'your',\n",
       "  'brother',\n",
       "  'and',\n",
       "  'your',\n",
       "  'king',\n",
       "  'and',\n",
       "  'justice',\n",
       "  'will',\n",
       "  'fall',\n",
       "  'to',\n",
       "  'you'],\n",
       " ['when',\n",
       "  'that',\n",
       "  'day',\n",
       "  'comes',\n",
       "  'you',\n",
       "  'must',\n",
       "  'take',\n",
       "  'no',\n",
       "  'pleasure',\n",
       "  'in',\n",
       "  'the',\n",
       "  'task',\n",
       "  'but',\n",
       "  'neither',\n",
       "  'must',\n",
       "  'you',\n",
       "  'look',\n",
       "  'away'],\n",
       " ['ruler',\n",
       "  'who',\n",
       "  'hides',\n",
       "  'behind',\n",
       "  'paid',\n",
       "  'executioners',\n",
       "  'soon',\n",
       "  'forgets',\n",
       "  'what',\n",
       "  'death',\n",
       "  'is'],\n",
       " ['that',\n",
       "  'was',\n",
       "  'when',\n",
       "  'jon',\n",
       "  'reappeared',\n",
       "  'on',\n",
       "  'the',\n",
       "  'crest',\n",
       "  'of',\n",
       "  'the',\n",
       "  'hill',\n",
       "  'before',\n",
       "  'them'],\n",
       " ['he', 'waved', 'and', 'shouted', 'down', 'at', 'them'],\n",
       " ['father', 'bran', 'come', 'quickly', 'see', 'what', 'robb', 'has', 'found'],\n",
       " ['then', 'he', 'was', 'gone', 'again'],\n",
       " ['jory', 'rode', 'up', 'beside', 'them'],\n",
       " ['trouble', 'my', 'lord'],\n",
       " ['beyond', 'doubt', 'his', 'lord', 'father', 'said'],\n",
       " ['come',\n",
       "  'let',\n",
       "  'us',\n",
       "  'see',\n",
       "  'what',\n",
       "  'mischief',\n",
       "  'my',\n",
       "  'sons',\n",
       "  'have',\n",
       "  'rooted',\n",
       "  'out',\n",
       "  'now'],\n",
       " ['he', 'sent', 'his', 'horse', 'into', 'trot'],\n",
       " ['jory', 'and', 'bran', 'and', 'the', 'rest', 'came', 'after'],\n",
       " ['they',\n",
       "  'found',\n",
       "  'robb',\n",
       "  'on',\n",
       "  'the',\n",
       "  'riverbank',\n",
       "  'north',\n",
       "  'of',\n",
       "  'the',\n",
       "  'bridge',\n",
       "  'with',\n",
       "  'jon',\n",
       "  'still',\n",
       "  'mounted',\n",
       "  'beside',\n",
       "  'him'],\n",
       " ['the',\n",
       "  'late',\n",
       "  'summer',\n",
       "  'snows',\n",
       "  'had',\n",
       "  'been',\n",
       "  'heavy',\n",
       "  'this',\n",
       "  'moonturn'],\n",
       " ['robb',\n",
       "  'stood',\n",
       "  'knee',\n",
       "  'deep',\n",
       "  'in',\n",
       "  'white',\n",
       "  'his',\n",
       "  'hood',\n",
       "  'pulled',\n",
       "  'back',\n",
       "  'so',\n",
       "  'the',\n",
       "  'sun',\n",
       "  'shone',\n",
       "  'in',\n",
       "  'his',\n",
       "  'hair'],\n",
       " ['he',\n",
       "  'was',\n",
       "  'cradling',\n",
       "  'something',\n",
       "  'in',\n",
       "  'his',\n",
       "  'arm',\n",
       "  'while',\n",
       "  'the',\n",
       "  'boys',\n",
       "  'talked',\n",
       "  'in',\n",
       "  'hushed',\n",
       "  'excited',\n",
       "  'voices'],\n",
       " ['the',\n",
       "  'riders',\n",
       "  'picked',\n",
       "  'their',\n",
       "  'way',\n",
       "  'carefully',\n",
       "  'through',\n",
       "  'the',\n",
       "  'drifts',\n",
       "  'groping',\n",
       "  'for',\n",
       "  'solid',\n",
       "  'footing',\n",
       "  'on',\n",
       "  'the',\n",
       "  'hidden',\n",
       "  'uneven',\n",
       "  'ground'],\n",
       " ['jory',\n",
       "  'cassel',\n",
       "  'and',\n",
       "  'theon',\n",
       "  'greyjoy',\n",
       "  'were',\n",
       "  'the',\n",
       "  'first',\n",
       "  'to',\n",
       "  'reach',\n",
       "  'the',\n",
       "  'boys'],\n",
       " ['greyjoy', 'was', 'laughing', 'and', 'joking', 'as', 'he', 'rode'],\n",
       " ['bran', 'heard', 'the', 'breath', 'go', 'out', 'of', 'him'],\n",
       " ['gods'],\n",
       " ['he',\n",
       "  'exclaimed',\n",
       "  'struggling',\n",
       "  'to',\n",
       "  'keep',\n",
       "  'control',\n",
       "  'of',\n",
       "  'his',\n",
       "  'horse',\n",
       "  'as',\n",
       "  'he',\n",
       "  'reached',\n",
       "  'for',\n",
       "  'his',\n",
       "  'sword'],\n",
       " ['jory', 'sword', 'was', 'already', 'out'],\n",
       " ['robb', 'get', 'away', 'from', 'it'],\n",
       " ['he', 'called', 'as', 'his', 'horse', 'reared', 'under', 'him'],\n",
       " ['robb',\n",
       "  'grinned',\n",
       "  'and',\n",
       "  'looked',\n",
       "  'up',\n",
       "  'from',\n",
       "  'the',\n",
       "  'bundle',\n",
       "  'in',\n",
       "  'his',\n",
       "  'arms'],\n",
       " ['she', 'can', 'hurt', 'you', 'he', 'said'],\n",
       " ['she', 'dead', 'jory'],\n",
       " ['bran', 'was', 'afire', 'with', 'curiosity', 'by', 'then'],\n",
       " ['he',\n",
       "  'would',\n",
       "  'have',\n",
       "  'spurred',\n",
       "  'the',\n",
       "  'pony',\n",
       "  'faster',\n",
       "  'but',\n",
       "  'his',\n",
       "  'father',\n",
       "  'made',\n",
       "  'them',\n",
       "  'dismount',\n",
       "  'beside',\n",
       "  'the',\n",
       "  'bridge',\n",
       "  'and',\n",
       "  'approach',\n",
       "  'on',\n",
       "  'foot'],\n",
       " ['bran', 'jumped', 'off', 'and', 'ran'],\n",
       " ['by',\n",
       "  'then',\n",
       "  'jon',\n",
       "  'jory',\n",
       "  'and',\n",
       "  'theon',\n",
       "  'greyjoy',\n",
       "  'had',\n",
       "  'all',\n",
       "  'dismounted',\n",
       "  'as',\n",
       "  'well'],\n",
       " ['what', 'in', 'the', 'seven', 'hells', 'is', 'it'],\n",
       " ['greyjoy', 'was', 'saying'],\n",
       " ['wolf', 'robb', 'told', 'him'],\n",
       " ['freak', 'greyjoy', 'said'],\n",
       " ['look', 'at', 'the', 'size', 'of', 'it'],\n",
       " ['bran',\n",
       "  'heart',\n",
       "  'was',\n",
       "  'thumping',\n",
       "  'in',\n",
       "  'his',\n",
       "  'chest',\n",
       "  'as',\n",
       "  'he',\n",
       "  'pushed',\n",
       "  'through',\n",
       "  'waist',\n",
       "  'high',\n",
       "  'drift',\n",
       "  'to',\n",
       "  'his',\n",
       "  'brothers',\n",
       "  'side'],\n",
       " ['half',\n",
       "  'buried',\n",
       "  'in',\n",
       "  'bloodstained',\n",
       "  'snow',\n",
       "  'huge',\n",
       "  'dark',\n",
       "  'shape',\n",
       "  'slumped',\n",
       "  'in',\n",
       "  'death'],\n",
       " ['ice',\n",
       "  'had',\n",
       "  'formed',\n",
       "  'in',\n",
       "  'its',\n",
       "  'shaggy',\n",
       "  'grey',\n",
       "  'fur',\n",
       "  'and',\n",
       "  'the',\n",
       "  'faint',\n",
       "  'smell',\n",
       "  'of',\n",
       "  'corruption',\n",
       "  'clung',\n",
       "  'to',\n",
       "  'it',\n",
       "  'like',\n",
       "  'woman',\n",
       "  'perfume'],\n",
       " ['bran',\n",
       "  'glimpsed',\n",
       "  'blind',\n",
       "  'eyes',\n",
       "  'crawling',\n",
       "  'with',\n",
       "  'maggots',\n",
       "  'wide',\n",
       "  'mouth',\n",
       "  'full',\n",
       "  'of',\n",
       "  'yellowed',\n",
       "  'teeth'],\n",
       " ['but',\n",
       "  'it',\n",
       "  'was',\n",
       "  'the',\n",
       "  'size',\n",
       "  'of',\n",
       "  'it',\n",
       "  'that',\n",
       "  'made',\n",
       "  'him',\n",
       "  'gasp'],\n",
       " ['it',\n",
       "  'was',\n",
       "  'bigger',\n",
       "  'than',\n",
       "  'his',\n",
       "  'pony',\n",
       "  'twice',\n",
       "  'the',\n",
       "  'size',\n",
       "  'of',\n",
       "  'the',\n",
       "  'largest',\n",
       "  'hound',\n",
       "  'in',\n",
       "  'his',\n",
       "  'father',\n",
       "  'kennel'],\n",
       " ['page', 'it', 'no', 'freak', 'jon', 'said', 'calmly'],\n",
       " ['that', 'direwolf'],\n",
       " ['they', 'grow', 'larger', 'than', 'the', 'other', 'kind'],\n",
       " ['theon',\n",
       "  'greyjoy',\n",
       "  'said',\n",
       "  'there',\n",
       "  'not',\n",
       "  'been',\n",
       "  'direwolf',\n",
       "  'sighted',\n",
       "  'south',\n",
       "  'of',\n",
       "  'the',\n",
       "  'wall',\n",
       "  'in',\n",
       "  'two',\n",
       "  'hundred',\n",
       "  'years'],\n",
       " ['see', 'one', 'now', 'jon', 'replied'],\n",
       " ['bran', 'tore', 'his', 'eyes', 'away', 'from', 'the', 'monster'],\n",
       " ['that',\n",
       "  'was',\n",
       "  'when',\n",
       "  'he',\n",
       "  'noticed',\n",
       "  'the',\n",
       "  'bundle',\n",
       "  'in',\n",
       "  'robb',\n",
       "  'arms'],\n",
       " ['he', 'gave', 'cry', 'of', 'delight', 'and', 'moved', 'closer'],\n",
       " ['the',\n",
       "  'pup',\n",
       "  'was',\n",
       "  'tiny',\n",
       "  'ball',\n",
       "  'of',\n",
       "  'grey',\n",
       "  'black',\n",
       "  'fur',\n",
       "  'its',\n",
       "  'eyes',\n",
       "  'still',\n",
       "  'closed'],\n",
       " ['it',\n",
       "  'nuzzled',\n",
       "  'blindly',\n",
       "  'against',\n",
       "  'robb',\n",
       "  'chest',\n",
       "  'as',\n",
       "  'he',\n",
       "  'cradled',\n",
       "  'it',\n",
       "  'searching',\n",
       "  'for',\n",
       "  'milk',\n",
       "  'among',\n",
       "  'his',\n",
       "  'leathers',\n",
       "  'making',\n",
       "  'sad',\n",
       "  'little',\n",
       "  'whimpery',\n",
       "  'sound'],\n",
       " ['bran', 'reached', 'out', 'hesitantly'],\n",
       " ['go', 'on', 'robb', 'told', 'him'],\n",
       " ['you', 'can', 'touch', 'him'],\n",
       " ['bran',\n",
       "  'gave',\n",
       "  'the',\n",
       "  'pup',\n",
       "  'quick',\n",
       "  'nervous',\n",
       "  'stroke',\n",
       "  'then',\n",
       "  'turned',\n",
       "  'as',\n",
       "  'jon',\n",
       "  'said',\n",
       "  'here',\n",
       "  'you',\n",
       "  'go'],\n",
       " ['his', 'half', 'brother', 'put', 'second', 'pup', 'into', 'his', 'arms'],\n",
       " ['there', 'are', 'five', 'of', 'them'],\n",
       " ['bran',\n",
       "  'sat',\n",
       "  'down',\n",
       "  'in',\n",
       "  'the',\n",
       "  'snow',\n",
       "  'and',\n",
       "  'hugged',\n",
       "  'the',\n",
       "  'wolf',\n",
       "  'pup',\n",
       "  'to',\n",
       "  'his',\n",
       "  'face'],\n",
       " ['its', 'fur', 'was', 'soft', 'and', 'warm', 'against', 'his', 'cheek'],\n",
       " ['direwolves',\n",
       "  'loose',\n",
       "  'in',\n",
       "  'the',\n",
       "  'realm',\n",
       "  'after',\n",
       "  'so',\n",
       "  'many',\n",
       "  'years',\n",
       "  'muttered',\n",
       "  'hullen',\n",
       "  'the',\n",
       "  'master',\n",
       "  'of',\n",
       "  'horse'],\n",
       " ['like', 'it', 'not'],\n",
       " ['it', 'is', 'sign', 'jory', 'said'],\n",
       " ['father', 'frowned'],\n",
       " ['this', 'is', 'only', 'dead', 'animal', 'jory', 'he', 'said'],\n",
       " ['yet', 'he', 'seemed', 'troubled'],\n",
       " ['snow',\n",
       "  'crunched',\n",
       "  'under',\n",
       "  'his',\n",
       "  'boots',\n",
       "  'as',\n",
       "  'he',\n",
       "  'moved',\n",
       "  'around',\n",
       "  'the',\n",
       "  'body'],\n",
       " ['do', 'we', 'know', 'what', 'killed', 'her'],\n",
       " ['there',\n",
       "  'something',\n",
       "  'in',\n",
       "  'the',\n",
       "  'throat',\n",
       "  'robb',\n",
       "  'told',\n",
       "  'him',\n",
       "  'proud',\n",
       "  'to',\n",
       "  'have',\n",
       "  'found',\n",
       "  'the',\n",
       "  'answer',\n",
       "  'before',\n",
       "  'his',\n",
       "  'father',\n",
       "  'even',\n",
       "  'asked'],\n",
       " ['there',\n",
       "  'just',\n",
       "  'under',\n",
       "  'the',\n",
       "  'jaw',\n",
       "  'his',\n",
       "  'father',\n",
       "  'knelt',\n",
       "  'and',\n",
       "  'groped',\n",
       "  'under',\n",
       "  'the',\n",
       "  'beast',\n",
       "  'head',\n",
       "  'with',\n",
       "  'his',\n",
       "  'hand'],\n",
       " ['he', 'gave', 'yank', 'and', 'held', 'it', 'up', 'for', 'all', 'to', 'see'],\n",
       " ['foot',\n",
       "  'of',\n",
       "  'shattered',\n",
       "  'antler',\n",
       "  'tines',\n",
       "  'snapped',\n",
       "  'off',\n",
       "  'all',\n",
       "  'wet',\n",
       "  'with',\n",
       "  'blood'],\n",
       " ['sudden', 'silence', 'descended', 'over', 'the', 'party'],\n",
       " ['the',\n",
       "  'men',\n",
       "  'looked',\n",
       "  'at',\n",
       "  'the',\n",
       "  'antler',\n",
       "  'uneasily',\n",
       "  'and',\n",
       "  'no',\n",
       "  'one',\n",
       "  'dared',\n",
       "  'to',\n",
       "  'speak'],\n",
       " ['even',\n",
       "  'bran',\n",
       "  'could',\n",
       "  'sense',\n",
       "  'their',\n",
       "  'fear',\n",
       "  'though',\n",
       "  'he',\n",
       "  'did',\n",
       "  'not',\n",
       "  'understand'],\n",
       " ['his',\n",
       "  'father',\n",
       "  'tossed',\n",
       "  'the',\n",
       "  'antler',\n",
       "  'to',\n",
       "  'the',\n",
       "  'side',\n",
       "  'and',\n",
       "  'cleansed',\n",
       "  'his',\n",
       "  'hands',\n",
       "  'in',\n",
       "  'the',\n",
       "  'snow'],\n",
       " ['surprised', 'she', 'lived', 'long', 'enough', 'to', 'whelp', 'he', 'said'],\n",
       " ['his', 'voice', 'broke', 'the', 'spell'],\n",
       " ['maybe', 'she', 'didn', 'jory', 'said'],\n",
       " ['ve', 'heard', 'tales'],\n",
       " [],\n",
       " [],\n",
       " ['maybe',\n",
       "  'the',\n",
       "  'bitch',\n",
       "  'was',\n",
       "  'already',\n",
       "  'dead',\n",
       "  'when',\n",
       "  'the',\n",
       "  'pups',\n",
       "  'came'],\n",
       " ['born', 'with', 'the', 'dead', 'another', 'man', 'put', 'in'],\n",
       " ['worse', 'luck'],\n",
       " ['no', 'matter', 'said', 'hullen'],\n",
       " ['they', 'be', 'dead', 'soon', 'enough', 'too'],\n",
       " ['bran', 'gave', 'wordless', 'cry', 'of', 'dismay'],\n",
       " ['the', 'sooner', 'the', 'better', 'theon', 'greyjoy', 'agreed'],\n",
       " ['he', 'drew', 'his', 'sword'],\n",
       " ['give', 'the', 'beast', 'here', 'bran'],\n",
       " ['the',\n",
       "  'little',\n",
       "  'thing',\n",
       "  'squirmed',\n",
       "  'against',\n",
       "  'him',\n",
       "  'as',\n",
       "  'if',\n",
       "  'it',\n",
       "  'heard',\n",
       "  'and',\n",
       "  'understood'],\n",
       " ['no'],\n",
       " ['bran', 'cried', 'out', 'fiercely'],\n",
       " ['it', 'mine'],\n",
       " ['page', 'put', 'away', 'your', 'sword', 'greyjoy', 'robb', 'said'],\n",
       " ['for',\n",
       "  'moment',\n",
       "  'he',\n",
       "  'sounded',\n",
       "  'as',\n",
       "  'commanding',\n",
       "  'as',\n",
       "  'their',\n",
       "  'father',\n",
       "  'like',\n",
       "  'the',\n",
       "  'lord',\n",
       "  'he',\n",
       "  'would',\n",
       "  'someday',\n",
       "  'be'],\n",
       " ['we', 'will', 'keep', 'these', 'pups'],\n",
       " ['you',\n",
       "  'cannot',\n",
       "  'do',\n",
       "  'that',\n",
       "  'boy',\n",
       "  'said',\n",
       "  'harwin',\n",
       "  'who',\n",
       "  'was',\n",
       "  'hullen',\n",
       "  'son'],\n",
       " ['it', 'be', 'mercy', 'to', 'kill', 'them', 'hullen', 'said'],\n",
       " ['bran',\n",
       "  'looked',\n",
       "  'to',\n",
       "  'his',\n",
       "  'lord',\n",
       "  'father',\n",
       "  'for',\n",
       "  'rescue',\n",
       "  'but',\n",
       "  'got',\n",
       "  'only',\n",
       "  'frown',\n",
       "  'furrowed',\n",
       "  'brow'],\n",
       " ['hullen', 'speaks', 'truly', 'son'],\n",
       " ['better',\n",
       "  'swift',\n",
       "  'death',\n",
       "  'than',\n",
       "  'hard',\n",
       "  'one',\n",
       "  'from',\n",
       "  'cold',\n",
       "  'and',\n",
       "  'starvation'],\n",
       " ['no'],\n",
       " ['he',\n",
       "  'could',\n",
       "  'feel',\n",
       "  'tears',\n",
       "  'welling',\n",
       "  'in',\n",
       "  'his',\n",
       "  'eyes',\n",
       "  'and',\n",
       "  'he',\n",
       "  'looked',\n",
       "  'away'],\n",
       " ['he',\n",
       "  'did',\n",
       "  'not',\n",
       "  'want',\n",
       "  'to',\n",
       "  'cry',\n",
       "  'in',\n",
       "  'front',\n",
       "  'of',\n",
       "  'his',\n",
       "  'father'],\n",
       " ['robb', 'resisted', 'stubbornly'],\n",
       " ['ser',\n",
       "  'rodrik',\n",
       "  'red',\n",
       "  'bitch',\n",
       "  'whelped',\n",
       "  'again',\n",
       "  'last',\n",
       "  'week',\n",
       "  'he',\n",
       "  'said'],\n",
       " ['it', 'was', 'small', 'litter', 'only', 'two', 'live', 'pups'],\n",
       " ['she', 'll', 'have', 'milk', 'enough'],\n",
       " ['she', 'll', 'rip', 'them', 'apart', 'when', 'they', 'try', 'to', 'nurse'],\n",
       " ['lord', 'stark', 'jon', 'said'],\n",
       " ['it',\n",
       "  'was',\n",
       "  'strange',\n",
       "  'to',\n",
       "  'hear',\n",
       "  'him',\n",
       "  'call',\n",
       "  'father',\n",
       "  'that',\n",
       "  'so',\n",
       "  'formal'],\n",
       " ['bran', 'looked', 'at', 'him', 'with', 'desperate', 'hope'],\n",
       " ['there', 'are', 'five', 'pups', 'he', 'told', 'father'],\n",
       " ['three', 'male', 'two', 'female'],\n",
       " ['what', 'of', 'it', 'jon'],\n",
       " ['you', 'have', 'five', 'trueborn', 'children', 'jon', 'said'],\n",
       " ['three', 'sons', 'two', 'daughters'],\n",
       " ['the', 'direwolf', 'is', 'the', 'sigil', 'of', 'your', 'house'],\n",
       " ['your',\n",
       "  'children',\n",
       "  'were',\n",
       "  'meant',\n",
       "  'to',\n",
       "  'have',\n",
       "  'these',\n",
       "  'pups',\n",
       "  'my',\n",
       "  'lord'],\n",
       " ['bran',\n",
       "  'saw',\n",
       "  'his',\n",
       "  'father',\n",
       "  'face',\n",
       "  'change',\n",
       "  'saw',\n",
       "  'the',\n",
       "  'other',\n",
       "  'men',\n",
       "  'exchange',\n",
       "  'glances'],\n",
       " ['he', 'loved', 'jon', 'with', 'all', 'his', 'heart', 'at', 'that', 'moment'],\n",
       " ['even',\n",
       "  'at',\n",
       "  'seven',\n",
       "  'bran',\n",
       "  'understood',\n",
       "  'what',\n",
       "  'his',\n",
       "  'brother',\n",
       "  'had',\n",
       "  'done'],\n",
       " ['the',\n",
       "  'count',\n",
       "  'had',\n",
       "  'come',\n",
       "  'right',\n",
       "  'only',\n",
       "  'because',\n",
       "  'jon',\n",
       "  'had',\n",
       "  'omitted',\n",
       "  'himself'],\n",
       " ['he',\n",
       "  'had',\n",
       "  'included',\n",
       "  'the',\n",
       "  'girls',\n",
       "  'included',\n",
       "  'even',\n",
       "  'rickon',\n",
       "  'the',\n",
       "  'baby',\n",
       "  'but',\n",
       "  'not',\n",
       "  'the',\n",
       "  'bastard',\n",
       "  'who',\n",
       "  'bore',\n",
       "  'the',\n",
       "  'surname',\n",
       "  'snow',\n",
       "  'the',\n",
       "  'name',\n",
       "  'that',\n",
       "  'custom',\n",
       "  'decreed',\n",
       "  'be',\n",
       "  'given',\n",
       "  'to',\n",
       "  'all',\n",
       "  'those',\n",
       "  'in',\n",
       "  'the',\n",
       "  'north',\n",
       "  'unlucky',\n",
       "  'enough',\n",
       "  'to',\n",
       "  'be',\n",
       "  'born',\n",
       "  'with',\n",
       "  'no',\n",
       "  'name',\n",
       "  'of',\n",
       "  'their',\n",
       "  'own'],\n",
       " ['their', 'father', 'understood', 'as', 'well'],\n",
       " ['you', 'want', 'no', 'pup', 'for', 'yourself', 'jon'],\n",
       " ['he', 'asked', 'softly'],\n",
       " ['the',\n",
       "  'direwolf',\n",
       "  'graces',\n",
       "  'the',\n",
       "  'banners',\n",
       "  'of',\n",
       "  'house',\n",
       "  'stark',\n",
       "  'jon',\n",
       "  'pointed',\n",
       "  'out'],\n",
       " ['am', 'no', 'stark', 'father'],\n",
       " ['their', 'lord', 'father', 'regarded', 'jon', 'thoughtfully'],\n",
       " ['robb', 'rushed', 'into', 'the', 'silence', 'he', 'left'],\n",
       " ['will', 'nurse', 'him', 'myself', 'father', 'he', 'promised'],\n",
       " ['will',\n",
       "  'soak',\n",
       "  'towel',\n",
       "  'with',\n",
       "  'warm',\n",
       "  'milk',\n",
       "  'and',\n",
       "  'give',\n",
       "  'him',\n",
       "  'suck',\n",
       "  'from',\n",
       "  'that'],\n",
       " ['me', 'too'],\n",
       " ['bran', 'echoed'],\n",
       " ['the',\n",
       "  'lord',\n",
       "  'weighed',\n",
       "  'his',\n",
       "  'sons',\n",
       "  'long',\n",
       "  'and',\n",
       "  'carefully',\n",
       "  'with',\n",
       "  'his',\n",
       "  'eyes'],\n",
       " ['easy', 'to', 'say', 'and', 'harder', 'to', 'do'],\n",
       " ['will',\n",
       "  'not',\n",
       "  'have',\n",
       "  'you',\n",
       "  'wasting',\n",
       "  'the',\n",
       "  'servants',\n",
       "  'time',\n",
       "  'with',\n",
       "  'this'],\n",
       " ['if',\n",
       "  'you',\n",
       "  'want',\n",
       "  'these',\n",
       "  'pups',\n",
       "  'you',\n",
       "  'will',\n",
       "  'feed',\n",
       "  'them',\n",
       "  'yourselves'],\n",
       " ['is', 'that', 'understood'],\n",
       " ['bran', 'nodded', 'eagerly'],\n",
       " ['the',\n",
       "  'pup',\n",
       "  'squirmed',\n",
       "  'in',\n",
       "  'his',\n",
       "  'grasp',\n",
       "  'licked',\n",
       "  'at',\n",
       "  'his',\n",
       "  'face',\n",
       "  'with',\n",
       "  'warm',\n",
       "  'tongue'],\n",
       " ['you', 'must', 'train', 'them', 'as', 'well', 'their', 'father', 'said'],\n",
       " ['you', 'must', 'train', 'them'],\n",
       " ['the',\n",
       "  'kennelmaster',\n",
       "  'will',\n",
       "  'have',\n",
       "  'nothing',\n",
       "  'to',\n",
       "  'do',\n",
       "  'with',\n",
       "  'these',\n",
       "  'monsters',\n",
       "  'promise',\n",
       "  'you',\n",
       "  'that'],\n",
       " ['and',\n",
       "  'the',\n",
       "  'gods',\n",
       "  'help',\n",
       "  'you',\n",
       "  'if',\n",
       "  'you',\n",
       "  'neglect',\n",
       "  'them',\n",
       "  'or',\n",
       "  'brutalize',\n",
       "  'them',\n",
       "  'or',\n",
       "  'train',\n",
       "  'them',\n",
       "  'badly'],\n",
       " ['these',\n",
       "  'are',\n",
       "  'not',\n",
       "  'dogs',\n",
       "  'to',\n",
       "  'beg',\n",
       "  'for',\n",
       "  'treats',\n",
       "  'and',\n",
       "  'slink',\n",
       "  'off',\n",
       "  'at',\n",
       "  'kick'],\n",
       " ['direwolf',\n",
       "  'will',\n",
       "  'rip',\n",
       "  'page',\n",
       "  'man',\n",
       "  'arm',\n",
       "  'off',\n",
       "  'his',\n",
       "  'shoulder',\n",
       "  'as',\n",
       "  'easily',\n",
       "  'as',\n",
       "  'dog',\n",
       "  'will',\n",
       "  'kill',\n",
       "  'rat'],\n",
       " ['are', 'you', 'sure', 'you', 'want', 'this'],\n",
       " ['yes', 'father', 'bran', 'said'],\n",
       " ['yes', 'robb', 'agreed'],\n",
       " ['the', 'pups', 'may', 'die', 'anyway', 'despite', 'all', 'you', 'do'],\n",
       " ['they', 'won', 'die', 'robb', 'said'],\n",
       " ['we', 'won', 'let', 'them', 'die'],\n",
       " ['keep', 'them', 'then'],\n",
       " ['jory', 'desmond', 'gather', 'up', 'the', 'other', 'pups'],\n",
       " ['it', 'time', 'we', 'were', 'back', 'to', 'winterfell'],\n",
       " ['it',\n",
       "  'was',\n",
       "  'not',\n",
       "  'until',\n",
       "  'they',\n",
       "  'were',\n",
       "  'mounted',\n",
       "  'and',\n",
       "  'on',\n",
       "  'their',\n",
       "  'way',\n",
       "  'that',\n",
       "  'bran',\n",
       "  'allowed',\n",
       "  'himself',\n",
       "  'to',\n",
       "  'taste',\n",
       "  'the',\n",
       "  'sweet',\n",
       "  'air',\n",
       "  'of',\n",
       "  'victory'],\n",
       " ['by',\n",
       "  'then',\n",
       "  'his',\n",
       "  'pup',\n",
       "  'was',\n",
       "  'snuggled',\n",
       "  'inside',\n",
       "  'his',\n",
       "  'leathers',\n",
       "  'warm',\n",
       "  'against',\n",
       "  'him',\n",
       "  'safe',\n",
       "  'for',\n",
       "  'the',\n",
       "  'long',\n",
       "  'ride',\n",
       "  'home'],\n",
       " ['bran', 'was', 'wondering', 'what', 'to', 'name', 'him'],\n",
       " ['halfway', 'across', 'the', 'bridge', 'jon', 'pulled', 'up', 'suddenly'],\n",
       " ['what', 'is', 'it', 'jon'],\n",
       " ['their', 'lord', 'father', 'asked'],\n",
       " ['can', 'you', 'hear', 'it'],\n",
       " ['bran',\n",
       "  'could',\n",
       "  'hear',\n",
       "  'the',\n",
       "  'wind',\n",
       "  'in',\n",
       "  'the',\n",
       "  'trees',\n",
       "  'the',\n",
       "  'clatter',\n",
       "  'of',\n",
       "  'their',\n",
       "  'hooves',\n",
       "  'on',\n",
       "  'the',\n",
       "  'ironwood',\n",
       "  'planks',\n",
       "  'the',\n",
       "  'whimpering',\n",
       "  'of',\n",
       "  'his',\n",
       "  'hungry',\n",
       "  'pup',\n",
       "  'but',\n",
       "  'jon',\n",
       "  'was',\n",
       "  'listening',\n",
       "  'to',\n",
       "  'something',\n",
       "  'else'],\n",
       " ['there', 'jon', 'said'],\n",
       " ['he',\n",
       "  'swung',\n",
       "  'his',\n",
       "  'horse',\n",
       "  'around',\n",
       "  'and',\n",
       "  'galloped',\n",
       "  'back',\n",
       "  'across',\n",
       "  'the',\n",
       "  'bridge'],\n",
       " ['they',\n",
       "  'watched',\n",
       "  'him',\n",
       "  'dismount',\n",
       "  'where',\n",
       "  'the',\n",
       "  'direwolf',\n",
       "  'lay',\n",
       "  'dead',\n",
       "  'in',\n",
       "  'the',\n",
       "  'snow',\n",
       "  'watched',\n",
       "  'him',\n",
       "  'kneel'],\n",
       " ['moment', 'later', 'he', 'was', 'riding', 'back', 'to', 'them', 'smiling'],\n",
       " ['he',\n",
       "  'must',\n",
       "  'have',\n",
       "  'crawled',\n",
       "  'away',\n",
       "  'from',\n",
       "  'the',\n",
       "  'others',\n",
       "  'jon',\n",
       "  'said'],\n",
       " ['or',\n",
       "  'been',\n",
       "  'driven',\n",
       "  'away',\n",
       "  'their',\n",
       "  'father',\n",
       "  'said',\n",
       "  'looking',\n",
       "  'at',\n",
       "  'the',\n",
       "  'sixth',\n",
       "  'pup'],\n",
       " ['his',\n",
       "  'fur',\n",
       "  'was',\n",
       "  'white',\n",
       "  'where',\n",
       "  'the',\n",
       "  'rest',\n",
       "  'of',\n",
       "  'the',\n",
       "  'litter',\n",
       "  'was',\n",
       "  'grey'],\n",
       " ['his',\n",
       "  'eyes',\n",
       "  'were',\n",
       "  'as',\n",
       "  'red',\n",
       "  'as',\n",
       "  'the',\n",
       "  'blood',\n",
       "  'of',\n",
       "  'the',\n",
       "  'ragged',\n",
       "  'man',\n",
       "  'who',\n",
       "  'had',\n",
       "  'died',\n",
       "  'that',\n",
       "  'morning'],\n",
       " ['bran',\n",
       "  'thought',\n",
       "  'it',\n",
       "  'curious',\n",
       "  'that',\n",
       "  'this',\n",
       "  'pup',\n",
       "  'alone',\n",
       "  'would',\n",
       "  'have',\n",
       "  'opened',\n",
       "  'his',\n",
       "  'eyes',\n",
       "  'while',\n",
       "  'the',\n",
       "  'others',\n",
       "  'were',\n",
       "  'still',\n",
       "  'blind'],\n",
       " ['an', 'albino', 'theon', 'greyjoy', 'said', 'with', 'wry', 'amusement'],\n",
       " ['this', 'one', 'will', 'die', 'even', 'faster', 'than', 'the', 'others'],\n",
       " ['jon', 'snow', 'gave', 'his', 'father', 'ward', 'long', 'chilling', 'look'],\n",
       " ['think', 'not', 'greyjoy', 'he', 'said'],\n",
       " ['this', 'one', 'belongs', 'to', 'me'],\n",
       " ['catelyn', 'catelyn', 'had', 'never', 'liked', 'this', 'godswood'],\n",
       " ['she',\n",
       "  'had',\n",
       "  'been',\n",
       "  'born',\n",
       "  'tully',\n",
       "  'at',\n",
       "  'riverrun',\n",
       "  'far',\n",
       "  'to',\n",
       "  'the',\n",
       "  'south',\n",
       "  'on',\n",
       "  'the',\n",
       "  'red',\n",
       "  'fork',\n",
       "  'of',\n",
       "  'the',\n",
       "  'trident'],\n",
       " ['the',\n",
       "  'godswood',\n",
       "  'there',\n",
       "  'was',\n",
       "  'garden',\n",
       "  'bright',\n",
       "  'and',\n",
       "  'airy',\n",
       "  'where',\n",
       "  'tall',\n",
       "  'redwoods',\n",
       "  'spread',\n",
       "  'dappled',\n",
       "  'shadows',\n",
       "  'across',\n",
       "  'tinkling',\n",
       "  'streams',\n",
       "  'birds',\n",
       "  'sang',\n",
       "  'from',\n",
       "  'hidden',\n",
       "  'nests',\n",
       "  'and',\n",
       "  'the',\n",
       "  'air',\n",
       "  'was',\n",
       "  'spicy',\n",
       "  'with',\n",
       "  'the',\n",
       "  'scent',\n",
       "  'of',\n",
       "  'flowers'],\n",
       " ['page',\n",
       "  'the',\n",
       "  'gods',\n",
       "  'of',\n",
       "  'winterfell',\n",
       "  'kept',\n",
       "  'different',\n",
       "  'sort',\n",
       "  'of',\n",
       "  'wood'],\n",
       " ['it',\n",
       "  'was',\n",
       "  'dark',\n",
       "  'primal',\n",
       "  'place',\n",
       "  'three',\n",
       "  'acres',\n",
       "  'of',\n",
       "  'old',\n",
       "  'forest',\n",
       "  'untouched',\n",
       "  'for',\n",
       "  'ten',\n",
       "  'thousand',\n",
       "  'years',\n",
       "  'as',\n",
       "  'the',\n",
       "  'gloomy',\n",
       "  'castle',\n",
       "  'rose',\n",
       "  'around',\n",
       "  'it'],\n",
       " ['it', 'smelled', 'of', 'moist', 'earth', 'and', 'decay'],\n",
       " ['no', 'redwoods', 'grew', 'here'],\n",
       " ['this',\n",
       "  'was',\n",
       "  'wood',\n",
       "  'of',\n",
       "  'stubborn',\n",
       "  'sentinel',\n",
       "  'trees',\n",
       "  'armored',\n",
       "  'in',\n",
       "  'grey',\n",
       "  'green',\n",
       "  'needles',\n",
       "  'of',\n",
       "  'mighty',\n",
       "  'oaks',\n",
       "  'of',\n",
       "  'ironwoods',\n",
       "  'as',\n",
       "  'old',\n",
       "  'as',\n",
       "  'the',\n",
       "  'realm',\n",
       "  'itself'],\n",
       " ['here',\n",
       "  'thick',\n",
       "  'black',\n",
       "  'trunks',\n",
       "  'crowded',\n",
       "  'close',\n",
       "  'together',\n",
       "  'while',\n",
       "  'twisted',\n",
       "  'branches',\n",
       "  'wove',\n",
       "  'dense',\n",
       "  'canopy',\n",
       "  'overhead',\n",
       "  'and',\n",
       "  'misshappen',\n",
       "  'roots',\n",
       "  'wrestled',\n",
       "  'beneath',\n",
       "  'the',\n",
       "  'soil'],\n",
       " ['this',\n",
       "  'was',\n",
       "  'place',\n",
       "  'of',\n",
       "  'deep',\n",
       "  'silence',\n",
       "  'and',\n",
       "  'brooding',\n",
       "  'shadows',\n",
       "  'and',\n",
       "  'the',\n",
       "  'gods',\n",
       "  'who',\n",
       "  'lived',\n",
       "  'here',\n",
       "  'had',\n",
       "  'no',\n",
       "  'names'],\n",
       " ['but',\n",
       "  'she',\n",
       "  'knew',\n",
       "  'she',\n",
       "  'would',\n",
       "  'find',\n",
       "  'her',\n",
       "  'husband',\n",
       "  'here',\n",
       "  'tonight'],\n",
       " ['whenever',\n",
       "  'he',\n",
       "  'took',\n",
       "  'man',\n",
       "  'life',\n",
       "  'afterward',\n",
       "  'he',\n",
       "  'would',\n",
       "  'seek',\n",
       "  'the',\n",
       "  'quiet',\n",
       "  'of',\n",
       "  'the',\n",
       "  'godswood'],\n",
       " ['catelyn',\n",
       "  'had',\n",
       "  'been',\n",
       "  'anointed',\n",
       "  'with',\n",
       "  'the',\n",
       "  'seven',\n",
       "  'oils',\n",
       "  'and',\n",
       "  'named',\n",
       "  'in',\n",
       "  'the',\n",
       "  'rainbow',\n",
       "  'of',\n",
       "  'light',\n",
       "  'that',\n",
       "  'filled',\n",
       "  'the',\n",
       "  'sept',\n",
       "  'of',\n",
       "  'riverrun'],\n",
       " ['she',\n",
       "  'was',\n",
       "  'of',\n",
       "  'the',\n",
       "  'faith',\n",
       "  'like',\n",
       "  'her',\n",
       "  'father',\n",
       "  'and',\n",
       "  'grandfather',\n",
       "  'and',\n",
       "  'his',\n",
       "  'father',\n",
       "  'before',\n",
       "  'him'],\n",
       " ['her',\n",
       "  'gods',\n",
       "  'had',\n",
       "  'names',\n",
       "  'and',\n",
       "  'their',\n",
       "  'faces',\n",
       "  'were',\n",
       "  'as',\n",
       "  'familiar',\n",
       "  'as',\n",
       "  'the',\n",
       "  'faces',\n",
       "  'of',\n",
       "  'her',\n",
       "  'parents'],\n",
       " ['worship',\n",
       "  'was',\n",
       "  'septon',\n",
       "  'with',\n",
       "  'censer',\n",
       "  'the',\n",
       "  'smell',\n",
       "  'of',\n",
       "  'incense',\n",
       "  'seven',\n",
       "  'sided',\n",
       "  'crystal',\n",
       "  'alive',\n",
       "  'with',\n",
       "  'light',\n",
       "  'voices',\n",
       "  'raised',\n",
       "  'in',\n",
       "  'song'],\n",
       " ['the',\n",
       "  'tullys',\n",
       "  'kept',\n",
       "  'godswood',\n",
       "  'as',\n",
       "  'all',\n",
       "  'the',\n",
       "  'great',\n",
       "  'houses',\n",
       "  'did',\n",
       "  'but',\n",
       "  'it',\n",
       "  'was',\n",
       "  'only',\n",
       "  'place',\n",
       "  'to',\n",
       "  'walk',\n",
       "  'or',\n",
       "  'read',\n",
       "  'or',\n",
       "  'lie',\n",
       "  'in',\n",
       "  'the',\n",
       "  'sun'],\n",
       " ['worship',\n",
       "  'was',\n",
       "  'for',\n",
       "  'the',\n",
       "  'sept',\n",
       "  'for',\n",
       "  'her',\n",
       "  'sake',\n",
       "  'ned',\n",
       "  'had',\n",
       "  'built',\n",
       "  'small',\n",
       "  'sept',\n",
       "  'where',\n",
       "  'she',\n",
       "  'might',\n",
       "  'sing',\n",
       "  'to',\n",
       "  'the',\n",
       "  'seven',\n",
       "  'faces',\n",
       "  'of',\n",
       "  'god',\n",
       "  'but',\n",
       "  'the',\n",
       "  'blood',\n",
       "  'of',\n",
       "  'the',\n",
       "  'first',\n",
       "  'men',\n",
       "  'still',\n",
       "  'flowed',\n",
       "  'in',\n",
       "  'the',\n",
       "  'veins',\n",
       "  'of',\n",
       "  'the',\n",
       "  'starks',\n",
       "  'and',\n",
       "  'his',\n",
       "  'own',\n",
       "  'gods',\n",
       "  'were',\n",
       "  'the',\n",
       "  'old',\n",
       "  'ones',\n",
       "  'the',\n",
       "  'nameless',\n",
       "  'faceless',\n",
       "  'gods',\n",
       "  'of',\n",
       "  'the',\n",
       "  'greenwood',\n",
       "  'they',\n",
       "  'shared',\n",
       "  'with',\n",
       "  'the',\n",
       "  'vanished',\n",
       "  'children',\n",
       "  'of',\n",
       "  'the',\n",
       "  'forest'],\n",
       " ['at',\n",
       "  'the',\n",
       "  'center',\n",
       "  'of',\n",
       "  'the',\n",
       "  'grove',\n",
       "  'an',\n",
       "  'ancient',\n",
       "  'weirwood',\n",
       "  'brooded',\n",
       "  'over',\n",
       "  'small',\n",
       "  'pool',\n",
       "  'where',\n",
       "  'the',\n",
       "  'waters',\n",
       "  'were',\n",
       "  'black',\n",
       "  'and',\n",
       "  'cold'],\n",
       " ['the', 'heart', 'tree', 'ned', 'called', 'it'],\n",
       " ['the',\n",
       "  'weirwood',\n",
       "  'bark',\n",
       "  'was',\n",
       "  'white',\n",
       "  'as',\n",
       "  'bone',\n",
       "  'its',\n",
       "  'leaves',\n",
       "  'dark',\n",
       "  'red',\n",
       "  'like',\n",
       "  'thousand',\n",
       "  'bloodstained',\n",
       "  'hands'],\n",
       " ['face',\n",
       "  'had',\n",
       "  'been',\n",
       "  'carved',\n",
       "  'in',\n",
       "  'the',\n",
       "  'trunk',\n",
       "  'of',\n",
       "  'the',\n",
       "  'great',\n",
       "  'tree',\n",
       "  'its',\n",
       "  'features',\n",
       "  'long',\n",
       "  'and',\n",
       "  'melancholy',\n",
       "  'the',\n",
       "  'deep',\n",
       "  'cut',\n",
       "  'eyes',\n",
       "  'red',\n",
       "  'with',\n",
       "  'dried',\n",
       "  'sap',\n",
       "  'and',\n",
       "  'strangely',\n",
       "  'watchful'],\n",
       " ['they',\n",
       "  'were',\n",
       "  'old',\n",
       "  'those',\n",
       "  'eyes',\n",
       "  'older',\n",
       "  'than',\n",
       "  'winterfell',\n",
       "  'itself'],\n",
       " ['they',\n",
       "  'had',\n",
       "  'seen',\n",
       "  'brandon',\n",
       "  'the',\n",
       "  'builder',\n",
       "  'set',\n",
       "  'the',\n",
       "  'first',\n",
       "  'stone',\n",
       "  'if',\n",
       "  'the',\n",
       "  'tales',\n",
       "  'were',\n",
       "  'true',\n",
       "  'they',\n",
       "  'had',\n",
       "  'watched',\n",
       "  'the',\n",
       "  'castle',\n",
       "  'granite',\n",
       "  'walls',\n",
       "  'rise',\n",
       "  'around',\n",
       "  'them'],\n",
       " ['it',\n",
       "  'was',\n",
       "  'said',\n",
       "  'that',\n",
       "  'the',\n",
       "  'children',\n",
       "  'of',\n",
       "  'the',\n",
       "  'forest',\n",
       "  'had',\n",
       "  'carved',\n",
       "  'the',\n",
       "  'faces',\n",
       "  'in',\n",
       "  'the',\n",
       "  'trees',\n",
       "  'during',\n",
       "  'the',\n",
       "  'dawn',\n",
       "  'centuries',\n",
       "  'before',\n",
       "  'the',\n",
       "  'coming',\n",
       "  'of',\n",
       "  'the',\n",
       "  'first',\n",
       "  'men',\n",
       "  'across',\n",
       "  'the',\n",
       "  'narrow',\n",
       "  'sea'],\n",
       " ['in',\n",
       "  'the',\n",
       "  'south',\n",
       "  'the',\n",
       "  'last',\n",
       "  'weirwoods',\n",
       "  'had',\n",
       "  'been',\n",
       "  'cut',\n",
       "  'down',\n",
       "  'or',\n",
       "  'burned',\n",
       "  'out',\n",
       "  'thousand',\n",
       "  'years',\n",
       "  'ago',\n",
       "  'except',\n",
       "  'on',\n",
       "  'the',\n",
       "  'isle',\n",
       "  'of',\n",
       "  'faces',\n",
       "  'where',\n",
       "  'the',\n",
       "  'green',\n",
       "  'men',\n",
       "  'kept',\n",
       "  'their',\n",
       "  'silent',\n",
       "  'watch'],\n",
       " ['up', 'here', 'it', 'was', 'different'],\n",
       " ['here',\n",
       "  'every',\n",
       "  'castle',\n",
       "  'had',\n",
       "  'its',\n",
       "  'godswood',\n",
       "  'and',\n",
       "  'every',\n",
       "  'godswood',\n",
       "  'had',\n",
       "  'its',\n",
       "  'heart',\n",
       "  'tree',\n",
       "  'and',\n",
       "  'every',\n",
       "  'heart',\n",
       "  'tree',\n",
       "  'its',\n",
       "  'face'],\n",
       " ['catelyn',\n",
       "  'found',\n",
       "  'her',\n",
       "  'husband',\n",
       "  'beneath',\n",
       "  'the',\n",
       "  'weirwood',\n",
       "  'seated',\n",
       "  'on',\n",
       "  'moss',\n",
       "  'covered',\n",
       "  'stone'],\n",
       " ['the',\n",
       "  'greatsword',\n",
       "  'ice',\n",
       "  'was',\n",
       "  'across',\n",
       "  'his',\n",
       "  'lap',\n",
       "  'and',\n",
       "  'he',\n",
       "  'was',\n",
       "  'cleaning',\n",
       "  'the',\n",
       "  'blade',\n",
       "  'in',\n",
       "  'those',\n",
       "  'waters',\n",
       "  'black',\n",
       "  'as',\n",
       "  'night'],\n",
       " ['thousand',\n",
       "  'years',\n",
       "  'of',\n",
       "  'humus',\n",
       "  'lay',\n",
       "  'thick',\n",
       "  'upon',\n",
       "  'the',\n",
       "  'godswood',\n",
       "  'floor',\n",
       "  'swallowing',\n",
       "  'the',\n",
       "  'sound',\n",
       "  'of',\n",
       "  'her',\n",
       "  'feet',\n",
       "  'but',\n",
       "  'the',\n",
       "  'red',\n",
       "  'eyes',\n",
       "  'of',\n",
       "  'the',\n",
       "  'weirwood',\n",
       "  'seemed',\n",
       "  'to',\n",
       "  'follow',\n",
       "  'her',\n",
       "  'as',\n",
       "  'she',\n",
       "  'came'],\n",
       " ['ned', 'she', 'called', 'softly'],\n",
       " ['he', 'lifted', 'his', 'head', 'to', 'look', 'at', 'her'],\n",
       " ['catelyn', 'he', 'said'],\n",
       " ['his', 'voice', 'was', 'distant', 'and', 'formal'],\n",
       " ['where', 'are', 'the', 'children'],\n",
       " ['he', 'would', 'always', 'ask', 'her', 'that'],\n",
       " ['in',\n",
       "  'the',\n",
       "  'kitchen',\n",
       "  'arguing',\n",
       "  'about',\n",
       "  'names',\n",
       "  'for',\n",
       "  'the',\n",
       "  'wolf',\n",
       "  'pups'],\n",
       " ['she',\n",
       "  'spread',\n",
       "  'her',\n",
       "  'cloak',\n",
       "  'on',\n",
       "  'the',\n",
       "  'forest',\n",
       "  'floor',\n",
       "  'and',\n",
       "  'sat',\n",
       "  'beside',\n",
       "  'the',\n",
       "  'pool',\n",
       "  'her',\n",
       "  'back',\n",
       "  'to',\n",
       "  'the',\n",
       "  'weirwood'],\n",
       " ['she',\n",
       "  'could',\n",
       "  'feel',\n",
       "  'the',\n",
       "  'eyes',\n",
       "  'watching',\n",
       "  'her',\n",
       "  'but',\n",
       "  'she',\n",
       "  'did',\n",
       "  'her',\n",
       "  'best',\n",
       "  'to',\n",
       "  'ignore',\n",
       "  'them'],\n",
       " ['arya',\n",
       "  'is',\n",
       "  'already',\n",
       "  'in',\n",
       "  'love',\n",
       "  'and',\n",
       "  'sansa',\n",
       "  'is',\n",
       "  'charmed',\n",
       "  'and',\n",
       "  'gracious',\n",
       "  'but',\n",
       "  'rickon',\n",
       "  'is',\n",
       "  'not',\n",
       "  'quite',\n",
       "  'sure'],\n",
       " ['is', 'he', 'afraid'],\n",
       " ['ned', 'asked'],\n",
       " ['page', 'little', 'she', 'admitted'],\n",
       " ['he', 'is', 'only', 'three'],\n",
       " ['ned', 'frowned'],\n",
       " ['he', 'must', 'learn', 'to', 'face', 'his', 'fears'],\n",
       " ['he', 'will', 'not', 'be', 'three', 'forever'],\n",
       " ['and', 'winter', 'is', 'coming'],\n",
       " ['yes', 'catelyn', 'agreed'],\n",
       " ['the', 'words', 'gave', 'her', 'chill', 'as', 'they', 'always', 'did'],\n",
       " ['the', 'stark', 'words'],\n",
       " ['every', 'noble', 'house', 'had', 'its', 'words'],\n",
       " ['family',\n",
       "  'mottoes',\n",
       "  'touchstones',\n",
       "  'prayers',\n",
       "  'of',\n",
       "  'sorts',\n",
       "  'they',\n",
       "  'boasted',\n",
       "  'of',\n",
       "  'honor',\n",
       "  'and',\n",
       "  'glory',\n",
       "  'promised',\n",
       "  'loyalty',\n",
       "  'and',\n",
       "  'truth',\n",
       "  'swore',\n",
       "  'faith',\n",
       "  'and',\n",
       "  'courage'],\n",
       " ['all', 'but', 'the', 'starks'],\n",
       " ['winter', 'is', 'coming', 'said', 'the', 'stark', 'words'],\n",
       " ['not',\n",
       "  'for',\n",
       "  'the',\n",
       "  'first',\n",
       "  'time',\n",
       "  'she',\n",
       "  'reflected',\n",
       "  'on',\n",
       "  'what',\n",
       "  'strange',\n",
       "  'people',\n",
       "  'these',\n",
       "  'northerners',\n",
       "  'were'],\n",
       " ['the', 'man', 'died', 'well', 'll', 'give', 'him', 'that', 'ned', 'said'],\n",
       " ['he', 'had', 'swatch', 'of', 'oiled', 'leather', 'in', 'one', 'hand'],\n",
       " ['he',\n",
       "  'ran',\n",
       "  'it',\n",
       "  'lightly',\n",
       "  'up',\n",
       "  'the',\n",
       "  'greatsword',\n",
       "  'as',\n",
       "  'he',\n",
       "  'spoke',\n",
       "  'polishing',\n",
       "  'the',\n",
       "  'metal',\n",
       "  'to',\n",
       "  'dark',\n",
       "  'glow'],\n",
       " ['was', 'glad', 'for', 'bran', 'sake'],\n",
       " ['you', 'would', 'have', 'been', 'proud', 'of', 'bran'],\n",
       " ['am',\n",
       "  'always',\n",
       "  'proud',\n",
       "  'of',\n",
       "  'bran',\n",
       "  'catelyn',\n",
       "  'replied',\n",
       "  'watching',\n",
       "  'the',\n",
       "  'sword',\n",
       "  'as',\n",
       "  'he',\n",
       "  'stroked',\n",
       "  'it'],\n",
       " ['she',\n",
       "  'could',\n",
       "  'see',\n",
       "  'the',\n",
       "  'rippling',\n",
       "  'deep',\n",
       "  'within',\n",
       "  'the',\n",
       "  'steel',\n",
       "  'where',\n",
       "  'the',\n",
       "  'metal',\n",
       "  'had',\n",
       "  'been',\n",
       "  'folded',\n",
       "  'back',\n",
       "  'on',\n",
       "  'itself',\n",
       "  'hundred',\n",
       "  'times',\n",
       "  'in',\n",
       "  'the',\n",
       "  'forging'],\n",
       " ['catelyn',\n",
       "  'had',\n",
       "  'no',\n",
       "  'love',\n",
       "  'for',\n",
       "  'swords',\n",
       "  'but',\n",
       "  'she',\n",
       "  'could',\n",
       "  'not',\n",
       "  'deny',\n",
       "  'that',\n",
       "  'ice',\n",
       "  'had',\n",
       "  'its',\n",
       "  'own',\n",
       "  'beauty'],\n",
       " ['it',\n",
       "  'had',\n",
       "  'been',\n",
       "  'forged',\n",
       "  'in',\n",
       "  'valyria',\n",
       "  'before',\n",
       "  'the',\n",
       "  'doom',\n",
       "  'had',\n",
       "  'come',\n",
       "  'to',\n",
       "  'the',\n",
       "  'old',\n",
       "  'freehold',\n",
       "  'when',\n",
       "  'the',\n",
       "  'ironsmiths',\n",
       "  'had',\n",
       "  'worked',\n",
       "  'their',\n",
       "  'metal',\n",
       "  'with',\n",
       "  'spells',\n",
       "  'as',\n",
       "  'well',\n",
       "  'as',\n",
       "  'hammers'],\n",
       " ['four',\n",
       "  'hundred',\n",
       "  'years',\n",
       "  'old',\n",
       "  'it',\n",
       "  'was',\n",
       "  'and',\n",
       "  'as',\n",
       "  'sharp',\n",
       "  'as',\n",
       "  'the',\n",
       "  'day',\n",
       "  'it',\n",
       "  'was',\n",
       "  'forged'],\n",
       " ['the',\n",
       "  'name',\n",
       "  'it',\n",
       "  'bore',\n",
       "  'was',\n",
       "  'older',\n",
       "  'still',\n",
       "  'legacy',\n",
       "  'from',\n",
       "  'the',\n",
       "  'age',\n",
       "  'of',\n",
       "  'heroes',\n",
       "  'when',\n",
       "  'the',\n",
       "  'starks',\n",
       "  'were',\n",
       "  'kings',\n",
       "  'in',\n",
       "  'the',\n",
       "  'north'],\n",
       " ['he', 'was', 'the', 'fourth', 'this', 'year', 'ned', 'said', 'grimly'],\n",
       " ['the', 'poor', 'man', 'was', 'half', 'mad'],\n",
       " ['something',\n",
       "  'had',\n",
       "  'put',\n",
       "  'fear',\n",
       "  'in',\n",
       "  'him',\n",
       "  'so',\n",
       "  'deep',\n",
       "  'that',\n",
       "  'my',\n",
       "  'words',\n",
       "  'could',\n",
       "  'not',\n",
       "  'reach',\n",
       "  'him'],\n",
       " ['he', 'sighed'],\n",
       " ['ben',\n",
       "  'writes',\n",
       "  'that',\n",
       "  'the',\n",
       "  'strength',\n",
       "  'of',\n",
       "  'the',\n",
       "  'night',\n",
       "  'watch',\n",
       "  'is',\n",
       "  'down',\n",
       "  'below',\n",
       "  'thousand'],\n",
       " ['it', 'not', 'only', 'desertions'],\n",
       " ['they', 'are', 'losing', 'men', 'on', 'rangings', 'as', 'well'],\n",
       " ['is', 'it', 'the', 'wildlings'],\n",
       " ['she', 'asked'],\n",
       " ['who', 'else'],\n",
       " ['ned',\n",
       "  'lifted',\n",
       "  'ice',\n",
       "  'looked',\n",
       "  'down',\n",
       "  'the',\n",
       "  'cool',\n",
       "  'steel',\n",
       "  'length',\n",
       "  'of',\n",
       "  'it'],\n",
       " ['and', 'it', 'will', 'only', 'grow', 'worse'],\n",
       " ['the',\n",
       "  'day',\n",
       "  'may',\n",
       "  'come',\n",
       "  'when',\n",
       "  'will',\n",
       "  'have',\n",
       "  'no',\n",
       "  'choice',\n",
       "  'but',\n",
       "  'to',\n",
       "  'call',\n",
       "  'the',\n",
       "  'banners',\n",
       "  'and',\n",
       "  'ride',\n",
       "  'north',\n",
       "  'to',\n",
       "  'deal',\n",
       "  'with',\n",
       "  'this',\n",
       "  'kingbeyond',\n",
       "  'the',\n",
       "  'wall',\n",
       "  'for',\n",
       "  'good',\n",
       "  'and',\n",
       "  'all'],\n",
       " ['beyond', 'the', 'wall'],\n",
       " ['the', 'thought', 'made', 'catelyn', 'shudder'],\n",
       " ['ned', 'saw', 'the', 'dread', 'on', 'her', 'face'],\n",
       " ['mance', 'rayder', 'is', 'nothing', 'for', 'us', 'to', 'fear'],\n",
       " ['there', 'are', 'darker', 'things', 'beyond', 'the', 'wall'],\n",
       " ['she',\n",
       "  'glanced',\n",
       "  'behind',\n",
       "  'her',\n",
       "  'at',\n",
       "  'the',\n",
       "  'heart',\n",
       "  'tree',\n",
       "  'the',\n",
       "  'pale',\n",
       "  'bark',\n",
       "  'and',\n",
       "  'red',\n",
       "  'eyes',\n",
       "  'watching',\n",
       "  'listening',\n",
       "  'thinking',\n",
       "  'its',\n",
       "  'long',\n",
       "  'slow',\n",
       "  'thoughts'],\n",
       " ['his', 'smile', 'was', 'gentle'],\n",
       " ['you', 'listen', 'to', 'too', 'many', 'of', 'old', 'nan', 'stories'],\n",
       " ['the',\n",
       "  'others',\n",
       "  'are',\n",
       "  'as',\n",
       "  'dead',\n",
       "  'as',\n",
       "  'the',\n",
       "  'children',\n",
       "  'of',\n",
       "  'the',\n",
       "  'forest',\n",
       "  'gone',\n",
       "  'eight',\n",
       "  'thousand',\n",
       "  'years'],\n",
       " ['maester',\n",
       "  'luwin',\n",
       "  'will',\n",
       "  'tell',\n",
       "  'you',\n",
       "  'they',\n",
       "  'never',\n",
       "  'lived',\n",
       "  'at',\n",
       "  'all'],\n",
       " ['no', 'living', 'man', 'has', 'ever', 'seen', 'one'],\n",
       " ['until',\n",
       "  'this',\n",
       "  'morning',\n",
       "  'no',\n",
       "  'living',\n",
       "  'man',\n",
       "  'had',\n",
       "  'ever',\n",
       "  'seen',\n",
       "  'direwolf',\n",
       "  'either',\n",
       "  'catelyn',\n",
       "  'reminded',\n",
       "  'him'],\n",
       " ['ought',\n",
       "  'to',\n",
       "  'know',\n",
       "  'better',\n",
       "  'than',\n",
       "  'to',\n",
       "  'argue',\n",
       "  'with',\n",
       "  'tully',\n",
       "  'he',\n",
       "  'said',\n",
       "  'with',\n",
       "  'rueful',\n",
       "  'smile'],\n",
       " ['he', 'slid', 'ice', 'back', 'into', 'its', 'sheath'],\n",
       " ['you', 'did', 'not', 'come', 'here', 'to', 'tell', 'me', 'crib', 'tales'],\n",
       " ['know', 'how', 'little', 'you', 'like', 'this', 'place'],\n",
       " ['what', 'is', 'it', 'my', 'lady'],\n",
       " ['catelyn', 'took', 'her', 'husband', 'hand'],\n",
       " ['there', 'was', 'grievous', 'news', 'today', 'my', 'lord'],\n",
       " ['did',\n",
       "  'not',\n",
       "  'wish',\n",
       "  'to',\n",
       "  'trouble',\n",
       "  'you',\n",
       "  'until',\n",
       "  'you',\n",
       "  'had',\n",
       "  'cleansed',\n",
       "  'yourself'],\n",
       " ['there',\n",
       "  'was',\n",
       "  'no',\n",
       "  'way',\n",
       "  'to',\n",
       "  'soften',\n",
       "  'the',\n",
       "  'blow',\n",
       "  'so',\n",
       "  'she',\n",
       "  'told',\n",
       "  'him',\n",
       "  'straight'],\n",
       " ['am', 'page', 'so', 'sorry', 'my', 'love'],\n",
       " ['jon', 'arryn', 'is', 'dead'],\n",
       " ['his',\n",
       "  'eyes',\n",
       "  'found',\n",
       "  'hers',\n",
       "  'and',\n",
       "  'she',\n",
       "  'could',\n",
       "  'see',\n",
       "  'how',\n",
       "  'hard',\n",
       "  'it',\n",
       "  'took',\n",
       "  'him',\n",
       "  'as',\n",
       "  'she',\n",
       "  'had',\n",
       "  'known',\n",
       "  'it',\n",
       "  'would'],\n",
       " ['in',\n",
       "  'his',\n",
       "  'youth',\n",
       "  'ned',\n",
       "  'had',\n",
       "  'fostered',\n",
       "  'at',\n",
       "  'the',\n",
       "  'eyrie',\n",
       "  'and',\n",
       "  'the',\n",
       "  'childless',\n",
       "  'lord',\n",
       "  'arryn',\n",
       "  'had',\n",
       "  'become',\n",
       "  'second',\n",
       "  'father',\n",
       "  'to',\n",
       "  'him',\n",
       "  'and',\n",
       "  'his',\n",
       "  'fellow',\n",
       "  'ward',\n",
       "  'robert',\n",
       "  'baratheon'],\n",
       " ['when',\n",
       "  'the',\n",
       "  'mad',\n",
       "  'king',\n",
       "  'aerys',\n",
       "  'targaryen',\n",
       "  'had',\n",
       "  'demanded',\n",
       "  'their',\n",
       "  'heads',\n",
       "  'the',\n",
       "  'lord',\n",
       "  'of',\n",
       "  'the',\n",
       "  'eyrie',\n",
       "  'had',\n",
       "  'raised',\n",
       "  'his',\n",
       "  'moon',\n",
       "  'and',\n",
       "  'falcon',\n",
       "  'banners',\n",
       "  'in',\n",
       "  'revolt',\n",
       "  'rather',\n",
       "  'than',\n",
       "  'give',\n",
       "  'up',\n",
       "  'those',\n",
       "  'he',\n",
       "  'had',\n",
       "  'pledged',\n",
       "  'to',\n",
       "  'protect'],\n",
       " ['and',\n",
       "  'one',\n",
       "  'day',\n",
       "  'fifteen',\n",
       "  'years',\n",
       "  'ago',\n",
       "  'this',\n",
       "  'second',\n",
       "  'father',\n",
       "  'had',\n",
       "  'become',\n",
       "  'brother',\n",
       "  'as',\n",
       "  'well',\n",
       "  'as',\n",
       "  'he',\n",
       "  'and',\n",
       "  'ned',\n",
       "  'stood',\n",
       "  'together',\n",
       "  'in',\n",
       "  'the',\n",
       "  'sept',\n",
       "  'at',\n",
       "  'riverrun',\n",
       "  'to',\n",
       "  'wed',\n",
       "  'two',\n",
       "  'sisters',\n",
       "  'the',\n",
       "  'daughters',\n",
       "  'of',\n",
       "  'lord',\n",
       "  'hoster',\n",
       "  'tully'],\n",
       " ['jon'],\n",
       " [],\n",
       " [],\n",
       " ['he', 'said'],\n",
       " ['is', 'this', 'news', 'certain'],\n",
       " ['it',\n",
       "  'was',\n",
       "  'the',\n",
       "  'king',\n",
       "  'seal',\n",
       "  'and',\n",
       "  'the',\n",
       "  'letter',\n",
       "  'is',\n",
       "  'in',\n",
       "  'robert',\n",
       "  'own',\n",
       "  'hand'],\n",
       " ['saved', 'it', 'for', 'you'],\n",
       " ['he', 'said', 'lord', 'arryn', 'was', 'taken', 'quickly'],\n",
       " ['even',\n",
       "  'maester',\n",
       "  'pycelle',\n",
       "  'was',\n",
       "  'helpless',\n",
       "  'but',\n",
       "  'he',\n",
       "  'brought',\n",
       "  'the',\n",
       "  'milk',\n",
       "  'of',\n",
       "  'the',\n",
       "  'poppy',\n",
       "  'so',\n",
       "  'jon',\n",
       "  'did',\n",
       "  'not',\n",
       "  'linger',\n",
       "  'long',\n",
       "  'in',\n",
       "  'pain'],\n",
       " ['that', 'is', 'some', 'small', 'mercy', 'suppose', 'he', 'said'],\n",
       " ['she',\n",
       "  'could',\n",
       "  'see',\n",
       "  'the',\n",
       "  'grief',\n",
       "  'on',\n",
       "  'his',\n",
       "  'face',\n",
       "  'but',\n",
       "  'even',\n",
       "  'then',\n",
       "  'he',\n",
       "  'thought',\n",
       "  'first',\n",
       "  'of',\n",
       "  'her'],\n",
       " ['your', 'sister', 'he', 'said'],\n",
       " ['and', 'jon', 'boy'],\n",
       " ['what', 'word', 'of', 'them'],\n",
       " ['the',\n",
       "  'message',\n",
       "  'said',\n",
       "  'only',\n",
       "  'that',\n",
       "  'they',\n",
       "  'were',\n",
       "  'well',\n",
       "  'and',\n",
       "  'had',\n",
       "  'returned',\n",
       "  'to',\n",
       "  'the',\n",
       "  'eyrie',\n",
       "  'catelyn',\n",
       "  'said'],\n",
       " ['wish', 'they', 'had', 'gone', 'to', 'riverrun', 'instead'],\n",
       " ['the',\n",
       "  'eyrie',\n",
       "  'is',\n",
       "  'high',\n",
       "  'and',\n",
       "  'lonely',\n",
       "  'and',\n",
       "  'it',\n",
       "  'was',\n",
       "  'ever',\n",
       "  'her',\n",
       "  'husband',\n",
       "  'place',\n",
       "  'not',\n",
       "  'hers'],\n",
       " ['lord', 'jon', 'memory', 'will', 'haunt', 'each', 'stone'],\n",
       " ['know', 'my', 'sister'],\n",
       " ['she',\n",
       "  'needs',\n",
       "  'the',\n",
       "  'comfort',\n",
       "  'of',\n",
       "  'family',\n",
       "  'and',\n",
       "  'friends',\n",
       "  'around',\n",
       "  'her'],\n",
       " ['your', 'uncle', 'waits', 'in', 'the', 'vale', 'does', 'he', 'not'],\n",
       " ['jon', 'named', 'him', 'knight', 'of', 'the', 'gate', 'heard'],\n",
       " ['catelyn', 'nodded'],\n",
       " ['brynden',\n",
       "  'will',\n",
       "  'do',\n",
       "  'what',\n",
       "  'he',\n",
       "  'can',\n",
       "  'for',\n",
       "  'her',\n",
       "  'and',\n",
       "  'for',\n",
       "  'the',\n",
       "  'boy'],\n",
       " ['that', 'is', 'some', 'comfort', 'but', 'still'],\n",
       " [],\n",
       " [],\n",
       " ['go', 'to', 'her', 'ned', 'urged'],\n",
       " ['take', 'the', 'children'],\n",
       " ['fill', 'her', 'halls', 'with', 'noise', 'and', 'shouts', 'and', 'laughter'],\n",
       " ['that',\n",
       "  'boy',\n",
       "  'of',\n",
       "  'hers',\n",
       "  'needs',\n",
       "  'other',\n",
       "  'children',\n",
       "  'about',\n",
       "  'him',\n",
       "  'and',\n",
       "  'lysa',\n",
       "  'should',\n",
       "  'not',\n",
       "  'be',\n",
       "  'alone',\n",
       "  'in',\n",
       "  'her',\n",
       "  'grief'],\n",
       " ['would', 'that', 'could', 'catelyn', 'said'],\n",
       " ['the', 'letter', 'had', 'other', 'tidings'],\n",
       " ['the',\n",
       "  'king',\n",
       "  'is',\n",
       "  'riding',\n",
       "  'to',\n",
       "  'winterfell',\n",
       "  'to',\n",
       "  'seek',\n",
       "  'you',\n",
       "  'out'],\n",
       " ['it',\n",
       "  'took',\n",
       "  'ned',\n",
       "  'moment',\n",
       "  'to',\n",
       "  'comprehend',\n",
       "  'her',\n",
       "  'words',\n",
       "  'but',\n",
       "  'when',\n",
       "  'the',\n",
       "  'understanding',\n",
       "  'came',\n",
       "  'the',\n",
       "  'darkness',\n",
       "  'left',\n",
       "  'his',\n",
       "  'eyes'],\n",
       " ['robert', 'is', 'coming', 'here'],\n",
       " ['when', 'she', 'nodded', 'smile', 'broke', 'across', 'his', 'face'],\n",
       " ['catelyn', 'wished', 'she', 'could', 'share', 'his', 'joy'],\n",
       " ['but',\n",
       "  'she',\n",
       "  'had',\n",
       "  'heard',\n",
       "  'the',\n",
       "  'talk',\n",
       "  'in',\n",
       "  'the',\n",
       "  'yards',\n",
       "  'direwolf',\n",
       "  'dead',\n",
       "  'in',\n",
       "  'the',\n",
       "  'snow',\n",
       "  'broken',\n",
       "  'antler',\n",
       "  'in',\n",
       "  'its',\n",
       "  'throat'],\n",
       " ['dread',\n",
       "  'coiled',\n",
       "  'within',\n",
       "  'her',\n",
       "  'like',\n",
       "  'snake',\n",
       "  'but',\n",
       "  'she',\n",
       "  'forced',\n",
       "  'herself',\n",
       "  'to',\n",
       "  'smile',\n",
       "  'at',\n",
       "  'this',\n",
       "  'man',\n",
       "  'she',\n",
       "  'loved',\n",
       "  'this',\n",
       "  'man',\n",
       "  'who',\n",
       "  'put',\n",
       "  'no',\n",
       "  'faith',\n",
       "  'in',\n",
       "  'signs'],\n",
       " ['knew', 'that', 'would', 'please', 'you', 'she', 'said'],\n",
       " ['we',\n",
       "  'should',\n",
       "  'send',\n",
       "  'word',\n",
       "  'to',\n",
       "  'your',\n",
       "  'brother',\n",
       "  'on',\n",
       "  'the',\n",
       "  'wall'],\n",
       " ['yes', 'of', 'course', 'he', 'agreed'],\n",
       " ['ben', 'will', 'want', 'to', 'be', 'here'],\n",
       " ['shall',\n",
       "  'tell',\n",
       "  'maester',\n",
       "  'luwin',\n",
       "  'to',\n",
       "  'send',\n",
       "  'his',\n",
       "  'swiftest',\n",
       "  'bird'],\n",
       " ['ned', 'rose', 'and', 'pulled', 'her', 'to', 'her', 'feet'],\n",
       " ['damnation', 'how', 'many', 'years', 'has', 'it', 'been'],\n",
       " ['and', 'he', 'gives', 'us', 'no', 'more', 'notice', 'than', 'this'],\n",
       " ['how', 'many', 'in', 'his', 'party', 'did', 'the', 'message', 'say'],\n",
       " ['should',\n",
       "  'think',\n",
       "  'hundred',\n",
       "  'knights',\n",
       "  'at',\n",
       "  'the',\n",
       "  'least',\n",
       "  'with',\n",
       "  'all',\n",
       "  'their',\n",
       "  'retainers',\n",
       "  'and',\n",
       "  'half',\n",
       "  'again',\n",
       "  'as',\n",
       "  'many',\n",
       "  'freeriders'],\n",
       " ['page', 'cersei', 'and', 'the', 'children', 'travel', 'with', 'them'],\n",
       " ['robert',\n",
       "  'will',\n",
       "  'keep',\n",
       "  'an',\n",
       "  'easy',\n",
       "  'pace',\n",
       "  'for',\n",
       "  'their',\n",
       "  'sakes',\n",
       "  'he',\n",
       "  'said'],\n",
       " ['it', 'is', 'just', 'as', 'well'],\n",
       " ['that', 'will', 'give', 'us', 'more', 'time', 'to', 'prepare'],\n",
       " ['the',\n",
       "  'queen',\n",
       "  'brothers',\n",
       "  'are',\n",
       "  'also',\n",
       "  'in',\n",
       "  'the',\n",
       "  'party',\n",
       "  'she',\n",
       "  'told',\n",
       "  'him'],\n",
       " ['ned', 'grimaced', 'at', 'that'],\n",
       " ['there',\n",
       "  'was',\n",
       "  'small',\n",
       "  'love',\n",
       "  'between',\n",
       "  'him',\n",
       "  'and',\n",
       "  'the',\n",
       "  'queen',\n",
       "  'family',\n",
       "  'catelyn',\n",
       "  'knew'],\n",
       " ['the',\n",
       "  'lannisters',\n",
       "  'of',\n",
       "  'casterly',\n",
       "  'rock',\n",
       "  'had',\n",
       "  'come',\n",
       "  'late',\n",
       "  'to',\n",
       "  'robert',\n",
       "  'cause',\n",
       "  'when',\n",
       "  'victory',\n",
       "  'was',\n",
       "  'all',\n",
       "  'but',\n",
       "  'certain',\n",
       "  'and',\n",
       "  'he',\n",
       "  'had',\n",
       "  'never',\n",
       "  'forgiven',\n",
       "  'them'],\n",
       " ['well',\n",
       "  'if',\n",
       "  'the',\n",
       "  'price',\n",
       "  'for',\n",
       "  'robert',\n",
       "  'company',\n",
       "  'is',\n",
       "  'an',\n",
       "  'infestation',\n",
       "  'of',\n",
       "  'lannisters',\n",
       "  'so',\n",
       "  'be',\n",
       "  'it'],\n",
       " ['it',\n",
       "  'sounds',\n",
       "  'as',\n",
       "  'though',\n",
       "  'robert',\n",
       "  'is',\n",
       "  'bringing',\n",
       "  'half',\n",
       "  'his',\n",
       "  'court'],\n",
       " ['where', 'the', 'king', 'goes', 'the', 'realm', 'follows', 'she', 'said'],\n",
       " ['it', 'will', 'be', 'good', 'to', 'see', 'the', 'children'],\n",
       " ['the',\n",
       "  'youngest',\n",
       "  'was',\n",
       "  'still',\n",
       "  'sucking',\n",
       "  'at',\n",
       "  'the',\n",
       "  'lannister',\n",
       "  'woman',\n",
       "  'teat',\n",
       "  'the',\n",
       "  'last',\n",
       "  'time',\n",
       "  'saw',\n",
       "  'him'],\n",
       " ['he', 'must', 'be', 'what', 'five', 'by', 'now'],\n",
       " ['prince', 'tornmen', 'is', 'seven', 'she', 'told', 'him'],\n",
       " ['the', 'same', 'age', 'as', 'bran'],\n",
       " ['please', 'ned', 'guard', 'your', 'tongue'],\n",
       " ['the',\n",
       "  'lannister',\n",
       "  'woman',\n",
       "  'is',\n",
       "  'our',\n",
       "  'queen',\n",
       "  'and',\n",
       "  'her',\n",
       "  'pride',\n",
       "  'is',\n",
       "  'said',\n",
       "  'to',\n",
       "  'grow',\n",
       "  'with',\n",
       "  'every',\n",
       "  'passing',\n",
       "  'year'],\n",
       " ['ned', 'squeezed', 'her', 'hand'],\n",
       " ['there',\n",
       "  'must',\n",
       "  'be',\n",
       "  'feast',\n",
       "  'of',\n",
       "  'course',\n",
       "  'with',\n",
       "  'singers',\n",
       "  'and',\n",
       "  'robert',\n",
       "  'will',\n",
       "  'want',\n",
       "  'to',\n",
       "  'hunt'],\n",
       " ['shall',\n",
       "  'send',\n",
       "  'jory',\n",
       "  'south',\n",
       "  'with',\n",
       "  'an',\n",
       "  'honor',\n",
       "  'guard',\n",
       "  'to',\n",
       "  'meet',\n",
       "  'them',\n",
       "  'on',\n",
       "  'the',\n",
       "  'kingsroad',\n",
       "  'and',\n",
       "  'escort',\n",
       "  'them',\n",
       "  'back'],\n",
       " ['gods', 'how', 'are', 'we', 'going', 'to', 'feed', 'them', 'all'],\n",
       " ['on', 'his', 'way', 'already', 'you', 'said'],\n",
       " ['damn', 'the', 'man'],\n",
       " ['damn', 'his', 'royal', 'hide'],\n",
       " ['daenerys',\n",
       "  'her',\n",
       "  'brother',\n",
       "  'held',\n",
       "  'the',\n",
       "  'gown',\n",
       "  'up',\n",
       "  'for',\n",
       "  'her',\n",
       "  'inspection'],\n",
       " ['this', 'is', 'beauty'],\n",
       " ['touch', 'it'],\n",
       " ['go', 'on'],\n",
       " ['caress', 'the', 'fabric'],\n",
       " ['dany', 'touched', 'it'],\n",
       " ['the',\n",
       "  'cloth',\n",
       "  'was',\n",
       "  'so',\n",
       "  'smooth',\n",
       "  'that',\n",
       "  'it',\n",
       "  'seemed',\n",
       "  'to',\n",
       "  'run',\n",
       "  'through',\n",
       "  'her',\n",
       "  'fingers',\n",
       "  'like',\n",
       "  'water'],\n",
       " ['she',\n",
       "  'could',\n",
       "  'not',\n",
       "  'remember',\n",
       "  'ever',\n",
       "  'wearing',\n",
       "  'anything',\n",
       "  'so',\n",
       "  'soft'],\n",
       " ['it', 'frightened', 'her'],\n",
       " ['she', 'pulled', 'her', 'hand', 'away'],\n",
       " ['is', 'it', 'really', 'mine'],\n",
       " ['gift', 'from', 'the', 'magister', 'illyrio', 'viserys', 'said', 'smiling'],\n",
       " ['her', 'brother', 'was', 'in', 'high', 'mood', 'tonight'],\n",
       " ['the',\n",
       "  'color',\n",
       "  'will',\n",
       "  'bring',\n",
       "  'out',\n",
       "  'the',\n",
       "  'violet',\n",
       "  'in',\n",
       "  'your',\n",
       "  'eyes'],\n",
       " ['and',\n",
       "  'you',\n",
       "  'shall',\n",
       "  'have',\n",
       "  'gold',\n",
       "  'as',\n",
       "  'well',\n",
       "  'and',\n",
       "  'jewels',\n",
       "  'of',\n",
       "  'all',\n",
       "  'sorts'],\n",
       " ['illyrio', 'has', 'promised'],\n",
       " ['tonight', 'you', 'must', 'look', 'like', 'princess'],\n",
       " ['princess', 'dany', 'thought'],\n",
       " ['she', 'had', 'forgotten', 'what', 'that', 'was', 'like'],\n",
       " ['perhaps', 'she', 'had', 'never', 'really', 'known'],\n",
       " ['why', 'does', 'he', 'give', 'us', 'so', 'much'],\n",
       " ['she', 'asked'],\n",
       " ['what', 'does', 'he', 'want', 'from', 'us'],\n",
       " ['for',\n",
       "  'nigh',\n",
       "  'on',\n",
       "  'half',\n",
       "  'year',\n",
       "  'they',\n",
       "  'had',\n",
       "  'lived',\n",
       "  'in',\n",
       "  'the',\n",
       "  'magister',\n",
       "  'house',\n",
       "  'eating',\n",
       "  'his',\n",
       "  'food',\n",
       "  'pampered',\n",
       "  'by',\n",
       "  'his',\n",
       "  'servants'],\n",
       " ['dany',\n",
       "  'was',\n",
       "  'thirteen',\n",
       "  'old',\n",
       "  'enough',\n",
       "  'to',\n",
       "  'know',\n",
       "  'that',\n",
       "  'such',\n",
       "  'gifts',\n",
       "  'seldom',\n",
       "  'come',\n",
       "  'without',\n",
       "  'their',\n",
       "  'price',\n",
       "  'here',\n",
       "  'in',\n",
       "  'the',\n",
       "  'free',\n",
       "  'city',\n",
       "  'of',\n",
       "  'pentos'],\n",
       " ['illyrio', 'is', 'no', 'fool', 'viserys', 'said'],\n",
       " ['he',\n",
       "  'was',\n",
       "  'gaunt',\n",
       "  'young',\n",
       "  'man',\n",
       "  'with',\n",
       "  'nervous',\n",
       "  'hands',\n",
       "  'and',\n",
       "  'feverish',\n",
       "  'look',\n",
       "  'in',\n",
       "  'his',\n",
       "  'pale',\n",
       "  'lilac',\n",
       "  'eyes'],\n",
       " ['the',\n",
       "  'magister',\n",
       "  'knows',\n",
       "  'that',\n",
       "  'will',\n",
       "  'not',\n",
       "  'forget',\n",
       "  'my',\n",
       "  'friends',\n",
       "  'when',\n",
       "  'come',\n",
       "  'into',\n",
       "  'my',\n",
       "  'throne'],\n",
       " ['dany', 'said', 'nothing'],\n",
       " ['magister',\n",
       "  'illyrio',\n",
       "  'was',\n",
       "  'dealer',\n",
       "  'in',\n",
       "  'spices',\n",
       "  'gemstones',\n",
       "  'dragonbone',\n",
       "  'and',\n",
       "  'other',\n",
       "  'less',\n",
       "  'savory',\n",
       "  'things'],\n",
       " ['he',\n",
       "  'had',\n",
       "  'friends',\n",
       "  'in',\n",
       "  'all',\n",
       "  'of',\n",
       "  'the',\n",
       "  'nine',\n",
       "  'free',\n",
       "  'cities',\n",
       "  'it',\n",
       "  'was',\n",
       "  'said',\n",
       "  'and',\n",
       "  'even',\n",
       "  'beyond',\n",
       "  'in',\n",
       "  'vaes',\n",
       "  'dothrak',\n",
       "  'and',\n",
       "  'the',\n",
       "  'fabled',\n",
       "  'lands',\n",
       "  'beside',\n",
       "  'the',\n",
       "  'jade',\n",
       "  'sea'],\n",
       " ['it',\n",
       "  'was',\n",
       "  'also',\n",
       "  'said',\n",
       "  'that',\n",
       "  'he',\n",
       "  'never',\n",
       "  'had',\n",
       "  'friend',\n",
       "  'he',\n",
       "  'wouldn',\n",
       "  'page',\n",
       "  'cheerfully',\n",
       "  'sell',\n",
       "  'for',\n",
       "  'the',\n",
       "  'right',\n",
       "  'price'],\n",
       " ['dany',\n",
       "  'listened',\n",
       "  'to',\n",
       "  'the',\n",
       "  'talk',\n",
       "  'in',\n",
       "  'the',\n",
       "  'streets',\n",
       "  'and',\n",
       "  'she',\n",
       "  'heard',\n",
       "  'these',\n",
       "  'things',\n",
       "  'but',\n",
       "  'she',\n",
       "  'knew',\n",
       "  'better',\n",
       "  'than',\n",
       "  'to',\n",
       "  'question',\n",
       "  'her',\n",
       "  'brother',\n",
       "  'when',\n",
       "  'he',\n",
       "  'wove',\n",
       "  'his',\n",
       "  'webs',\n",
       "  'of',\n",
       "  'dream'],\n",
       " ['his', 'anger', 'was', 'terrible', 'thing', 'when', 'roused'],\n",
       " ['viserys', 'called', 'it', 'waking', 'the', 'dragon'],\n",
       " ['her', 'brother', 'hung', 'the', 'gown', 'beside', 'the', 'door'],\n",
       " ['illyrio', 'will', 'send', 'the', 'slaves', 'to', 'bathe', 'you'],\n",
       " ['be', 'sure', 'you', 'wash', 'off', 'the', 'stink', 'of', 'the', 'stables'],\n",
       " ['khal',\n",
       "  'drogo',\n",
       "  'has',\n",
       "  'thousand',\n",
       "  'horses',\n",
       "  'tonight',\n",
       "  'he',\n",
       "  'looks',\n",
       "  'for',\n",
       "  'different',\n",
       "  'sort',\n",
       "  'of',\n",
       "  'mount'],\n",
       " ['he', 'studied', 'her', 'critically'],\n",
       " ['you', 'still', 'slouch'],\n",
       " ['straighten',\n",
       "  'yourself',\n",
       "  'he',\n",
       "  'pushed',\n",
       "  'back',\n",
       "  'her',\n",
       "  'shoulders',\n",
       "  'with',\n",
       "  'his',\n",
       "  'hands'],\n",
       " ['let', 'them', 'see', 'that', 'you', 'have', 'woman', 'shape', 'now'],\n",
       " ['his',\n",
       "  'fingers',\n",
       "  'brushed',\n",
       "  'lightly',\n",
       "  'over',\n",
       "  'her',\n",
       "  'budding',\n",
       "  'breasts',\n",
       "  'and',\n",
       "  'tightened',\n",
       "  'on',\n",
       "  'nipple'],\n",
       " ['you', 'will', 'not', 'fail', 'me', 'tonight'],\n",
       " ['if', 'you', 'do', 'it', 'will', 'go', 'hard', 'for', 'you'],\n",
       " ['you', 'don', 'want', 'to', 'wake', 'the', 'dragon', 'do', 'you'],\n",
       " ['his',\n",
       "  'fingers',\n",
       "  'twisted',\n",
       "  'her',\n",
       "  'the',\n",
       "  'pinch',\n",
       "  'cruelly',\n",
       "  'hard',\n",
       "  'through',\n",
       "  'the',\n",
       "  'rough',\n",
       "  'fabric',\n",
       "  'of',\n",
       "  'her',\n",
       "  'tunic'],\n",
       " ['do', 'you'],\n",
       " ['he', 'repeated'],\n",
       " ['no', 'dany', 'said', 'meekly'],\n",
       " ['her', 'brother', 'smiled'],\n",
       " ['good'],\n",
       " ['he', 'touched', 'her', 'hair', 'almost', 'with', 'affection'],\n",
       " ['when',\n",
       "  'they',\n",
       "  'write',\n",
       "  'the',\n",
       "  'history',\n",
       "  'of',\n",
       "  'my',\n",
       "  'reign',\n",
       "  'sweet',\n",
       "  'sister',\n",
       "  'they',\n",
       "  'will',\n",
       "  'say',\n",
       "  'that',\n",
       "  'it',\n",
       "  'began',\n",
       "  'tonight'],\n",
       " ['when',\n",
       "  'he',\n",
       "  'was',\n",
       "  'gone',\n",
       "  'dany',\n",
       "  'went',\n",
       "  'to',\n",
       "  'her',\n",
       "  'window',\n",
       "  'and',\n",
       "  'looked',\n",
       "  'out',\n",
       "  'wistfully',\n",
       "  'on',\n",
       "  'the',\n",
       "  'waters',\n",
       "  'of',\n",
       "  'the',\n",
       "  'bay'],\n",
       " ['the',\n",
       "  'square',\n",
       "  'brick',\n",
       "  'towers',\n",
       "  'of',\n",
       "  'pentos',\n",
       "  'were',\n",
       "  'black',\n",
       "  'silhouettes',\n",
       "  'outlined',\n",
       "  'against',\n",
       "  'the',\n",
       "  'setting',\n",
       "  'sun'],\n",
       " ['dany',\n",
       "  'could',\n",
       "  'hear',\n",
       "  'the',\n",
       "  'singing',\n",
       "  'of',\n",
       "  'the',\n",
       "  'red',\n",
       "  'priests',\n",
       "  'as',\n",
       "  'they',\n",
       "  'lit',\n",
       "  'their',\n",
       "  'night',\n",
       "  'fires',\n",
       "  'and',\n",
       "  'the',\n",
       "  'shouts',\n",
       "  'of',\n",
       "  'ragged',\n",
       "  'children',\n",
       "  'playing',\n",
       "  'games',\n",
       "  'beyond',\n",
       "  'the',\n",
       "  'walls',\n",
       "  'of',\n",
       "  'the',\n",
       "  'estate'],\n",
       " ['for',\n",
       "  'moment',\n",
       "  'she',\n",
       "  'wished',\n",
       "  'she',\n",
       "  'could',\n",
       "  'be',\n",
       "  'out',\n",
       "  'there',\n",
       "  'with',\n",
       "  'them',\n",
       "  'barefoot',\n",
       "  'and',\n",
       "  'breathless',\n",
       "  'and',\n",
       "  'dressed',\n",
       "  'in',\n",
       "  'tatters',\n",
       "  'with',\n",
       "  'no',\n",
       "  'past',\n",
       "  'and',\n",
       "  'no',\n",
       "  'future',\n",
       "  'and',\n",
       "  'no',\n",
       "  'feast',\n",
       "  'to',\n",
       "  'attend',\n",
       "  'at',\n",
       "  'khal',\n",
       "  'drogo',\n",
       "  'manse'],\n",
       " ['somewhere',\n",
       "  'beyond',\n",
       "  'the',\n",
       "  'sunset',\n",
       "  'across',\n",
       "  'the',\n",
       "  'narrow',\n",
       "  'sea',\n",
       "  'lay',\n",
       "  'land',\n",
       "  'of',\n",
       "  'green',\n",
       "  'hills',\n",
       "  'and',\n",
       "  'flowered',\n",
       "  'plains',\n",
       "  'and',\n",
       "  'great',\n",
       "  'rushing',\n",
       "  'rivers',\n",
       "  'where',\n",
       "  'towers',\n",
       "  'of',\n",
       "  'dark',\n",
       "  'stone',\n",
       "  'rose',\n",
       "  'amidst',\n",
       "  'magnificent',\n",
       "  'blue',\n",
       "  'grey',\n",
       "  'mountains',\n",
       "  'and',\n",
       "  'armored',\n",
       "  'knights',\n",
       "  'rode',\n",
       "  'to',\n",
       "  'battle',\n",
       "  'beneath',\n",
       "  'the',\n",
       "  'banners',\n",
       "  'of',\n",
       "  'their',\n",
       "  'lords'],\n",
       " ['the',\n",
       "  'dothraki',\n",
       "  'called',\n",
       "  'that',\n",
       "  'land',\n",
       "  'rhaesh',\n",
       "  'andahli',\n",
       "  'the',\n",
       "  'land',\n",
       "  'of',\n",
       "  'the',\n",
       "  'andals'],\n",
       " ['in',\n",
       "  'the',\n",
       "  'free',\n",
       "  'cities',\n",
       "  'they',\n",
       "  'talked',\n",
       "  'of',\n",
       "  'westeros',\n",
       "  'and',\n",
       "  'the',\n",
       "  'sunset',\n",
       "  'kingdoms'],\n",
       " ['her', 'brother', 'had', 'simpler', 'name'],\n",
       " ['our', 'land', 'he', 'called', 'it'],\n",
       " ['the', 'words', 'were', 'like', 'prayer', 'with', 'him'],\n",
       " ['if',\n",
       "  'he',\n",
       "  'said',\n",
       "  'them',\n",
       "  'enough',\n",
       "  'the',\n",
       "  'gods',\n",
       "  'were',\n",
       "  'sure',\n",
       "  'to',\n",
       "  'hear'],\n",
       " ['ours',\n",
       "  'by',\n",
       "  'blood',\n",
       "  'right',\n",
       "  'taken',\n",
       "  'from',\n",
       "  'us',\n",
       "  'by',\n",
       "  'treachery',\n",
       "  'but',\n",
       "  'ours',\n",
       "  'still',\n",
       "  'ours',\n",
       "  'forever'],\n",
       " ['you', 'do', 'not', 'steal', 'from', 'the', 'dragon', 'oh', 'no'],\n",
       " ['the', 'dragon', 'remembers'],\n",
       " ['and',\n",
       "  'perhaps',\n",
       "  'the',\n",
       "  'dragon',\n",
       "  'did',\n",
       "  'remember',\n",
       "  'but',\n",
       "  'dany',\n",
       "  'could',\n",
       "  'not'],\n",
       " ['she',\n",
       "  'had',\n",
       "  'never',\n",
       "  'seen',\n",
       "  'this',\n",
       "  'land',\n",
       "  'her',\n",
       "  'brother',\n",
       "  'said',\n",
       "  'was',\n",
       "  'theirs',\n",
       "  'this',\n",
       "  'realm',\n",
       "  'beyond',\n",
       "  'the',\n",
       "  'narrow',\n",
       "  'sea'],\n",
       " ['these',\n",
       "  'places',\n",
       "  'he',\n",
       "  'talked',\n",
       "  'of',\n",
       "  'casterly',\n",
       "  'rock',\n",
       "  'and',\n",
       "  'the',\n",
       "  'eyrie',\n",
       "  'highgarden',\n",
       "  'and',\n",
       "  'the',\n",
       "  'vale',\n",
       "  'of',\n",
       "  'arryn',\n",
       "  'dorne',\n",
       "  'and',\n",
       "  'the',\n",
       "  'isle',\n",
       "  'of',\n",
       "  'faces',\n",
       "  'they',\n",
       "  'were',\n",
       "  'just',\n",
       "  'words',\n",
       "  'to',\n",
       "  'her'],\n",
       " ['viserys',\n",
       "  'had',\n",
       "  'been',\n",
       "  'boy',\n",
       "  'of',\n",
       "  'eight',\n",
       "  'when',\n",
       "  'they',\n",
       "  'fled',\n",
       "  'king',\n",
       "  'landing',\n",
       "  'to',\n",
       "  'escape',\n",
       "  'the',\n",
       "  'advancing',\n",
       "  'armies',\n",
       "  'of',\n",
       "  'the',\n",
       "  'usurper',\n",
       "  'but',\n",
       "  'daenerys',\n",
       "  'had',\n",
       "  'been',\n",
       "  'only',\n",
       "  'quickening',\n",
       "  'in',\n",
       "  'their',\n",
       "  'mother',\n",
       "  'womb'],\n",
       " ['yet',\n",
       "  'sometimes',\n",
       "  'dany',\n",
       "  'would',\n",
       "  'picture',\n",
       "  'the',\n",
       "  'way',\n",
       "  'it',\n",
       "  'had',\n",
       "  'been',\n",
       "  'so',\n",
       "  'often',\n",
       "  'had',\n",
       "  'her',\n",
       "  'brother',\n",
       "  'told',\n",
       "  'her',\n",
       "  'the',\n",
       "  'stories'],\n",
       " ['the',\n",
       "  'midnight',\n",
       "  'flight',\n",
       "  'to',\n",
       "  'dragonstone',\n",
       "  'moonlight',\n",
       "  'shimmering',\n",
       "  'on',\n",
       "  'the',\n",
       "  'ship',\n",
       "  'black',\n",
       "  'sails'],\n",
       " ['her',\n",
       "  'brother',\n",
       "  'rhaegar',\n",
       "  'battling',\n",
       "  'the',\n",
       "  'usurper',\n",
       "  'in',\n",
       "  'the',\n",
       "  'bloody',\n",
       "  'waters',\n",
       "  'of',\n",
       "  'the',\n",
       "  'trident',\n",
       "  'and',\n",
       "  'dying',\n",
       "  'for',\n",
       "  'the',\n",
       "  'woman',\n",
       "  'he',\n",
       "  'loved'],\n",
       " ['the',\n",
       "  'sack',\n",
       "  'of',\n",
       "  'king',\n",
       "  'landing',\n",
       "  'by',\n",
       "  'the',\n",
       "  'ones',\n",
       "  'viserys',\n",
       "  'called',\n",
       "  'the',\n",
       "  'usurper',\n",
       "  'dogs',\n",
       "  'the',\n",
       "  'lords',\n",
       "  'lannister',\n",
       "  'and',\n",
       "  'stark'],\n",
       " ['princess',\n",
       "  'elia',\n",
       "  'of',\n",
       "  'dorne',\n",
       "  'pleading',\n",
       "  'for',\n",
       "  'mercy',\n",
       "  'as',\n",
       "  'rhaegar',\n",
       "  'heir',\n",
       "  'was',\n",
       "  'ripped',\n",
       "  'from',\n",
       "  'her',\n",
       "  'breast',\n",
       "  'and',\n",
       "  'murdered',\n",
       "  'before',\n",
       "  'her',\n",
       "  'eyes'],\n",
       " ['the',\n",
       "  'polished',\n",
       "  'skulls',\n",
       "  'of',\n",
       "  'the',\n",
       "  'last',\n",
       "  'dragons',\n",
       "  'staring',\n",
       "  'down',\n",
       "  'sightlessly',\n",
       "  'from',\n",
       "  'the',\n",
       "  'walls',\n",
       "  'of',\n",
       "  'the',\n",
       "  'throne',\n",
       "  'room',\n",
       "  'while',\n",
       "  'the',\n",
       "  'kingslayer',\n",
       "  'opened',\n",
       "  'father',\n",
       "  'throat',\n",
       "  'with',\n",
       "  'golden',\n",
       "  'sword'],\n",
       " ['she',\n",
       "  'had',\n",
       "  'been',\n",
       "  'born',\n",
       "  'on',\n",
       "  'dragonstone',\n",
       "  'nine',\n",
       "  'moons',\n",
       "  'after',\n",
       "  'their',\n",
       "  'flight',\n",
       "  'while',\n",
       "  'raging',\n",
       "  'summer',\n",
       "  'storm',\n",
       "  'threatened',\n",
       "  'to',\n",
       "  'rip',\n",
       "  'the',\n",
       "  'island',\n",
       "  'fastness',\n",
       "  'apart'],\n",
       " ['they', 'said', 'that', 'storm', 'was', 'terrible'],\n",
       " ['the',\n",
       "  'targaryen',\n",
       "  'fleet',\n",
       "  'was',\n",
       "  'smashed',\n",
       "  'while',\n",
       "  'it',\n",
       "  'lay',\n",
       "  'at',\n",
       "  'anchor',\n",
       "  'and',\n",
       "  'huge',\n",
       "  'stone',\n",
       "  'blocks',\n",
       "  'were',\n",
       "  'ripped',\n",
       "  'from',\n",
       "  'the',\n",
       "  'parapets',\n",
       "  'and',\n",
       "  'sent',\n",
       "  'hurtling',\n",
       "  'into',\n",
       "  'the',\n",
       "  'wild',\n",
       "  'waters',\n",
       "  'of',\n",
       "  'the',\n",
       "  'narrow',\n",
       "  'sea'],\n",
       " ['her',\n",
       "  'mother',\n",
       "  'had',\n",
       "  'died',\n",
       "  'birthing',\n",
       "  'her',\n",
       "  'and',\n",
       "  'for',\n",
       "  'that',\n",
       "  'her',\n",
       "  'brother',\n",
       "  'viserys',\n",
       "  'had',\n",
       "  'never',\n",
       "  'page',\n",
       "  'forgiven',\n",
       "  'her'],\n",
       " ['she', 'did', 'not', 'remember', 'dragonstone', 'either'],\n",
       " ['they',\n",
       "  'had',\n",
       "  'run',\n",
       "  'again',\n",
       "  'just',\n",
       "  'before',\n",
       "  'the',\n",
       "  'usurper',\n",
       "  'brother',\n",
       "  'set',\n",
       "  'sail',\n",
       "  'with',\n",
       "  'his',\n",
       "  'new',\n",
       "  'built',\n",
       "  'fleet'],\n",
       " ['by',\n",
       "  'then',\n",
       "  'only',\n",
       "  'dragonstone',\n",
       "  'itself',\n",
       "  'the',\n",
       "  'ancient',\n",
       "  'seat',\n",
       "  'of',\n",
       "  'their',\n",
       "  'house',\n",
       "  'had',\n",
       "  'remained',\n",
       "  'of',\n",
       "  'the',\n",
       "  'seven',\n",
       "  'kingdoms',\n",
       "  'that',\n",
       "  'had',\n",
       "  'once',\n",
       "  'been',\n",
       "  'theirs'],\n",
       " ['it', 'would', 'not', 'remain', 'for', 'long'],\n",
       " ['the',\n",
       "  'garrison',\n",
       "  'had',\n",
       "  'been',\n",
       "  'prepared',\n",
       "  'to',\n",
       "  'sell',\n",
       "  'them',\n",
       "  'to',\n",
       "  'the',\n",
       "  'usurper',\n",
       "  'but',\n",
       "  'one',\n",
       "  'night',\n",
       "  'ser',\n",
       "  'willem',\n",
       "  'darry',\n",
       "  'and',\n",
       "  'four',\n",
       "  'loyal',\n",
       "  'men',\n",
       "  'had',\n",
       "  'broken',\n",
       "  'into',\n",
       "  'the',\n",
       "  'nursery',\n",
       "  'and',\n",
       "  'stolen',\n",
       "  'them',\n",
       "  'both',\n",
       "  'along',\n",
       "  'with',\n",
       "  'her',\n",
       "  'wet',\n",
       "  'nurse',\n",
       "  'and',\n",
       "  'set',\n",
       "  'sail',\n",
       "  'under',\n",
       "  'cover',\n",
       "  'of',\n",
       "  'darkness',\n",
       "  'for',\n",
       "  'the',\n",
       "  'safety',\n",
       "  'of',\n",
       "  'the',\n",
       "  'braavosian',\n",
       "  'coast'],\n",
       " ['she',\n",
       "  'remembered',\n",
       "  'ser',\n",
       "  'willem',\n",
       "  'dimly',\n",
       "  'great',\n",
       "  'grey',\n",
       "  'bear',\n",
       "  'of',\n",
       "  'man',\n",
       "  'halfblind',\n",
       "  'roaring',\n",
       "  'and',\n",
       "  'bellowing',\n",
       "  'orders',\n",
       "  'from',\n",
       "  'his',\n",
       "  'sickbed'],\n",
       " ['the',\n",
       "  'servants',\n",
       "  'had',\n",
       "  'lived',\n",
       "  'in',\n",
       "  'terror',\n",
       "  'of',\n",
       "  'him',\n",
       "  'but',\n",
       "  'he',\n",
       "  'had',\n",
       "  'always',\n",
       "  'been',\n",
       "  'kind',\n",
       "  'to',\n",
       "  'dany'],\n",
       " ['he',\n",
       "  'called',\n",
       "  'her',\n",
       "  'little',\n",
       "  'princess',\n",
       "  'and',\n",
       "  'sometimes',\n",
       "  'my',\n",
       "  'lady',\n",
       "  'and',\n",
       "  'his',\n",
       "  'hands',\n",
       "  'were',\n",
       "  'soft',\n",
       "  'as',\n",
       "  'old',\n",
       "  'leather'],\n",
       " ['he',\n",
       "  'never',\n",
       "  'left',\n",
       "  'his',\n",
       "  'bed',\n",
       "  'though',\n",
       "  'and',\n",
       "  'the',\n",
       "  'smell',\n",
       "  'of',\n",
       "  'sickness',\n",
       "  'clung',\n",
       "  'to',\n",
       "  'him',\n",
       "  'day',\n",
       "  'and',\n",
       "  'night',\n",
       "  'hot',\n",
       "  'moist',\n",
       "  'sickly',\n",
       "  'sweet',\n",
       "  'odor'],\n",
       " ['that',\n",
       "  'was',\n",
       "  'when',\n",
       "  'they',\n",
       "  'lived',\n",
       "  'in',\n",
       "  'braavos',\n",
       "  'in',\n",
       "  'the',\n",
       "  'big',\n",
       "  'house',\n",
       "  'with',\n",
       "  'the',\n",
       "  'red',\n",
       "  'door'],\n",
       " ['dany',\n",
       "  'had',\n",
       "  'her',\n",
       "  'own',\n",
       "  'room',\n",
       "  'there',\n",
       "  'with',\n",
       "  'lemon',\n",
       "  'tree',\n",
       "  'outside',\n",
       "  'her',\n",
       "  'window'],\n",
       " ['after',\n",
       "  'ser',\n",
       "  'willem',\n",
       "  'had',\n",
       "  'died',\n",
       "  'the',\n",
       "  'servants',\n",
       "  'had',\n",
       "  'stolen',\n",
       "  'what',\n",
       "  'little',\n",
       "  'money',\n",
       "  'they',\n",
       "  'had',\n",
       "  'left',\n",
       "  'and',\n",
       "  'soon',\n",
       "  'after',\n",
       "  'they',\n",
       "  'had',\n",
       "  'been',\n",
       "  'put',\n",
       "  'out',\n",
       "  'of',\n",
       "  'the',\n",
       "  'big',\n",
       "  'house'],\n",
       " ['dany',\n",
       "  'had',\n",
       "  'cried',\n",
       "  'when',\n",
       "  'the',\n",
       "  'red',\n",
       "  'door',\n",
       "  'closed',\n",
       "  'behind',\n",
       "  'them',\n",
       "  'forever'],\n",
       " ['they',\n",
       "  'had',\n",
       "  'wandered',\n",
       "  'since',\n",
       "  'then',\n",
       "  'from',\n",
       "  'braavos',\n",
       "  'to',\n",
       "  'myr',\n",
       "  'from',\n",
       "  'myr',\n",
       "  'to',\n",
       "  'tyrosh',\n",
       "  'and',\n",
       "  'on',\n",
       "  'to',\n",
       "  'qohor',\n",
       "  'and',\n",
       "  'volantis',\n",
       "  'and',\n",
       "  'lys',\n",
       "  'never',\n",
       "  'staying',\n",
       "  'long',\n",
       "  'in',\n",
       "  'any',\n",
       "  'one',\n",
       "  'place'],\n",
       " ['her', 'brother', 'would', 'not', 'allow', 'it'],\n",
       " ['the',\n",
       "  'usurper',\n",
       "  'hired',\n",
       "  'knives',\n",
       "  'were',\n",
       "  'close',\n",
       "  'behind',\n",
       "  'them',\n",
       "  'he',\n",
       "  'insisted',\n",
       "  'though',\n",
       "  'dany',\n",
       "  'had',\n",
       "  'never',\n",
       "  'seen',\n",
       "  'one'],\n",
       " ['at',\n",
       "  'first',\n",
       "  'the',\n",
       "  'magisters',\n",
       "  'and',\n",
       "  'archons',\n",
       "  'and',\n",
       "  'merchant',\n",
       "  'princes',\n",
       "  'were',\n",
       "  'pleased',\n",
       "  'to',\n",
       "  'welcome',\n",
       "  'the',\n",
       "  'last',\n",
       "  'targaryens',\n",
       "  'to',\n",
       "  'their',\n",
       "  'homes',\n",
       "  'and',\n",
       "  'tables',\n",
       "  'but',\n",
       "  'as',\n",
       "  'the',\n",
       "  'years',\n",
       "  'passed',\n",
       "  'and',\n",
       "  'the',\n",
       "  'usurper',\n",
       "  'continued',\n",
       "  'to',\n",
       "  'sit',\n",
       "  'upon',\n",
       "  'the',\n",
       "  'iron',\n",
       "  'throne',\n",
       "  'doors',\n",
       "  'closed',\n",
       "  'and',\n",
       "  'their',\n",
       "  'lives',\n",
       "  'grew',\n",
       "  'meaner'],\n",
       " ['years',\n",
       "  'past',\n",
       "  'they',\n",
       "  'had',\n",
       "  'been',\n",
       "  'forced',\n",
       "  'to',\n",
       "  'sell',\n",
       "  'their',\n",
       "  'last',\n",
       "  'few',\n",
       "  'treasures',\n",
       "  'and',\n",
       "  'now',\n",
       "  'even',\n",
       "  'the',\n",
       "  'coin',\n",
       "  'they',\n",
       "  'had',\n",
       "  'gotten',\n",
       "  'from',\n",
       "  'mother',\n",
       "  'crown',\n",
       "  'had',\n",
       "  'gone'],\n",
       " ['in',\n",
       "  'the',\n",
       "  'alleys',\n",
       "  'and',\n",
       "  'wine',\n",
       "  'sinks',\n",
       "  'of',\n",
       "  'pentos',\n",
       "  'they',\n",
       "  'called',\n",
       "  'her',\n",
       "  'brother',\n",
       "  'the',\n",
       "  'beggar',\n",
       "  'king'],\n",
       " ['dany', 'did', 'not', 'want', 'to', 'know', 'what', 'they', 'called', 'her'],\n",
       " ['we',\n",
       "  'will',\n",
       "  'have',\n",
       "  'it',\n",
       "  'all',\n",
       "  'back',\n",
       "  'someday',\n",
       "  'sweet',\n",
       "  'sister',\n",
       "  'he',\n",
       "  'would',\n",
       "  'promise',\n",
       "  'her'],\n",
       " ['sometimes', 'his', 'hands', 'shook', 'when', 'he', 'talked', 'about', 'it'],\n",
       " ['the',\n",
       "  'jewels',\n",
       "  'and',\n",
       "  'the',\n",
       "  'silks',\n",
       "  'dragonstone',\n",
       "  'and',\n",
       "  'king',\n",
       "  'landing',\n",
       "  'the',\n",
       "  'iron',\n",
       "  'throne',\n",
       "  'and',\n",
       "  'the',\n",
       "  'seven',\n",
       "  'kingdoms',\n",
       "  'all',\n",
       "  'they',\n",
       "  'have',\n",
       "  'taken',\n",
       "  'from',\n",
       "  'us',\n",
       "  'we',\n",
       "  'will',\n",
       "  'have',\n",
       "  'it',\n",
       "  'back'],\n",
       " ['viserys', 'lived', 'for', 'that', 'day'],\n",
       " ['all',\n",
       "  'that',\n",
       "  'daenerys',\n",
       "  'wanted',\n",
       "  'back',\n",
       "  'was',\n",
       "  'the',\n",
       "  'big',\n",
       "  'house',\n",
       "  'with',\n",
       "  'the',\n",
       "  'red',\n",
       "  'door',\n",
       "  'the',\n",
       "  'lemon',\n",
       "  'tree',\n",
       "  'outside',\n",
       "  'her',\n",
       "  'window',\n",
       "  'the',\n",
       "  'childhood',\n",
       "  'she',\n",
       "  'had',\n",
       "  'never',\n",
       "  'known'],\n",
       " ['there', 'came', 'soft', 'knock', 'on', 'her', 'door'],\n",
       " ['come', 'dany', 'said', 'turning', 'away', 'from', 'the', 'window'],\n",
       " ['illyrio',\n",
       "  'servants',\n",
       "  'entered',\n",
       "  'bowed',\n",
       "  'and',\n",
       "  'set',\n",
       "  'about',\n",
       "  'their',\n",
       "  'business'],\n",
       " ['they',\n",
       "  'were',\n",
       "  'slaves',\n",
       "  'gift',\n",
       "  'from',\n",
       "  'one',\n",
       "  'of',\n",
       "  'the',\n",
       "  'magister',\n",
       "  'many',\n",
       "  'dothraki',\n",
       "  'friends'],\n",
       " ['there',\n",
       "  'was',\n",
       "  'no',\n",
       "  'slavery',\n",
       "  'in',\n",
       "  'the',\n",
       "  'free',\n",
       "  'city',\n",
       "  'of',\n",
       "  'pentos'],\n",
       " ['nonetheless', 'they', 'were', 'slaves'],\n",
       " ['the',\n",
       "  'old',\n",
       "  'woman',\n",
       "  'small',\n",
       "  'and',\n",
       "  'grey',\n",
       "  'as',\n",
       "  'mouse',\n",
       "  'never',\n",
       "  'said',\n",
       "  'word',\n",
       "  'but',\n",
       "  'the',\n",
       "  'girl',\n",
       "  'made',\n",
       "  'up',\n",
       "  'for',\n",
       "  'it'],\n",
       " ['she',\n",
       "  'was',\n",
       "  'illyrio',\n",
       "  'favorite',\n",
       "  'fair',\n",
       "  'haired',\n",
       "  'blue',\n",
       "  'eyed',\n",
       "  'wench',\n",
       "  'of',\n",
       "  'sixteen',\n",
       "  'who',\n",
       "  'chattered',\n",
       "  'constantly',\n",
       "  'as',\n",
       "  'she',\n",
       "  'worked'],\n",
       " ['they',\n",
       "  'filled',\n",
       "  'her',\n",
       "  'bath',\n",
       "  'with',\n",
       "  'hot',\n",
       "  'water',\n",
       "  'brought',\n",
       "  'up',\n",
       "  'from',\n",
       "  'the',\n",
       "  'kitchen',\n",
       "  'and',\n",
       "  'scented',\n",
       "  'it',\n",
       "  'with',\n",
       "  'fragrant',\n",
       "  'oils'],\n",
       " ['the',\n",
       "  'girl',\n",
       "  'pulled',\n",
       "  'the',\n",
       "  'rough',\n",
       "  'cotton',\n",
       "  'tunic',\n",
       "  'over',\n",
       "  'dany',\n",
       "  'head',\n",
       "  'and',\n",
       "  'helped',\n",
       "  'her',\n",
       "  'into',\n",
       "  'the',\n",
       "  'tub'],\n",
       " ['the',\n",
       "  'water',\n",
       "  'was',\n",
       "  'scalding',\n",
       "  'hot',\n",
       "  'but',\n",
       "  'daenerys',\n",
       "  'did',\n",
       "  'not',\n",
       "  'flinch',\n",
       "  'or',\n",
       "  'cry',\n",
       "  'out'],\n",
       " ['she', 'liked', 'the', 'heat'],\n",
       " ['it', 'made', 'her', 'feel', 'clean'],\n",
       " ['besides',\n",
       "  'her',\n",
       "  'brother',\n",
       "  'had',\n",
       "  'often',\n",
       "  'told',\n",
       "  'her',\n",
       "  'that',\n",
       "  'it',\n",
       "  'was',\n",
       "  'never',\n",
       "  'too',\n",
       "  'hot',\n",
       "  'for',\n",
       "  'targaryen'],\n",
       " ['ours', 'is', 'the', 'house', 'of', 'the', 'dragon', 'he', 'would', 'say'],\n",
       " ['the', 'fire', 'is', 'in', 'our', 'blood'],\n",
       " ['the',\n",
       "  'old',\n",
       "  'woman',\n",
       "  'washed',\n",
       "  'her',\n",
       "  'long',\n",
       "  'silver',\n",
       "  'pale',\n",
       "  'hair',\n",
       "  'and',\n",
       "  'gently',\n",
       "  'combed',\n",
       "  'out',\n",
       "  'the',\n",
       "  'snags',\n",
       "  'all',\n",
       "  'in',\n",
       "  'silence'],\n",
       " ['the',\n",
       "  'girl',\n",
       "  'scrubbed',\n",
       "  'her',\n",
       "  'back',\n",
       "  'and',\n",
       "  'her',\n",
       "  'feet',\n",
       "  'and',\n",
       "  'told',\n",
       "  'her',\n",
       "  'how',\n",
       "  'lucky',\n",
       "  'she',\n",
       "  'was'],\n",
       " ['drogo',\n",
       "  'is',\n",
       "  'so',\n",
       "  'rich',\n",
       "  'that',\n",
       "  'even',\n",
       "  'his',\n",
       "  'slaves',\n",
       "  'page',\n",
       "  'wear',\n",
       "  'golden',\n",
       "  'collars'],\n",
       " ['hundred',\n",
       "  'thousand',\n",
       "  'men',\n",
       "  'ride',\n",
       "  'in',\n",
       "  'his',\n",
       "  'khalasar',\n",
       "  'and',\n",
       "  'his',\n",
       "  'palace',\n",
       "  'in',\n",
       "  'vaes',\n",
       "  'dothrak',\n",
       "  'has',\n",
       "  'two',\n",
       "  'hundred',\n",
       "  'rooms',\n",
       "  'and',\n",
       "  'doors',\n",
       "  'of',\n",
       "  'solid',\n",
       "  'silver'],\n",
       " ['there',\n",
       "  'was',\n",
       "  'more',\n",
       "  'like',\n",
       "  'that',\n",
       "  'so',\n",
       "  'much',\n",
       "  'more',\n",
       "  'what',\n",
       "  'handsome',\n",
       "  'man',\n",
       "  'the',\n",
       "  'khal',\n",
       "  'was',\n",
       "  'so',\n",
       "  'tall',\n",
       "  'and',\n",
       "  'fierce',\n",
       "  'fearless',\n",
       "  'in',\n",
       "  'battle',\n",
       "  'the',\n",
       "  'best',\n",
       "  'rider',\n",
       "  'ever',\n",
       "  'to',\n",
       "  'mount',\n",
       "  'horse',\n",
       "  'demon',\n",
       "  'archer'],\n",
       " ['daenerys', 'said', 'nothing'],\n",
       " ...]"
      ]
     },
     "execution_count": 4,
     "metadata": {},
     "output_type": "execute_result"
    }
   ],
   "source": [
    "complete_story"
   ]
  },
  {
   "cell_type": "code",
   "execution_count": 5,
   "metadata": {},
   "outputs": [],
   "source": [
    "model = gensim.models.Word2Vec(\n",
    "    window = 10, # 2 side 10, 10 words \n",
    "    min_count = 2, # minimum number of sentece to be taken\n",
    "    workers = 10, # Number of CPUs\n",
    "    vector_size = 100 # Number of features\n",
    ")"
   ]
  },
  {
   "cell_type": "code",
   "execution_count": 6,
   "metadata": {},
   "outputs": [],
   "source": [
    "model.build_vocab(complete_story)"
   ]
  },
  {
   "cell_type": "code",
   "execution_count": 7,
   "metadata": {},
   "outputs": [
    {
     "data": {
      "text/plain": [
       "(13141041, 17256380)"
      ]
     },
     "execution_count": 7,
     "metadata": {},
     "output_type": "execute_result"
    }
   ],
   "source": [
    "model.train(complete_story, total_examples = model.corpus_count, epochs = 10)"
   ]
  },
  {
   "cell_type": "code",
   "execution_count": 8,
   "metadata": {},
   "outputs": [
    {
     "data": {
      "text/plain": [
       "[('stormborn', 0.7430004477500916),\n",
       " ('targaryen', 0.6740061640739441),\n",
       " ('viserys', 0.6332933902740479),\n",
       " ('dragons', 0.6037667393684387),\n",
       " ('unburnt', 0.5754110813140869),\n",
       " ('aegon', 0.5657469630241394),\n",
       " ('dragon', 0.5656591653823853),\n",
       " ('elia', 0.5618458390235901),\n",
       " ('myrcella', 0.5444357395172119),\n",
       " ('queen', 0.5438950061798096)]"
      ]
     },
     "execution_count": 8,
     "metadata": {},
     "output_type": "execute_result"
    }
   ],
   "source": [
    "model.wv.most_similar('daenerys')"
   ]
  },
  {
   "cell_type": "code",
   "execution_count": 9,
   "metadata": {},
   "outputs": [
    {
     "data": {
      "text/plain": [
       "'john'"
      ]
     },
     "execution_count": 9,
     "metadata": {},
     "output_type": "execute_result"
    }
   ],
   "source": [
    "model.wv.doesnt_match(['daener', 'john', 'robb', 'arya'])"
   ]
  },
  {
   "cell_type": "code",
   "execution_count": 10,
   "metadata": {},
   "outputs": [
    {
     "name": "stdout",
     "output_type": "stream",
     "text": [
      "(100,)\n"
     ]
    },
    {
     "data": {
      "text/plain": [
       "array([ 0.07284582,  0.03695839,  0.08356304, -0.08147812, -0.09598588,\n",
       "       -0.20106153,  0.02468834,  0.2333385 , -0.12708104,  0.02833782,\n",
       "       -0.01401475, -0.14313127, -0.06714913,  0.00800303,  0.06703705,\n",
       "       -0.07089881,  0.13700101, -0.11801047, -0.16686618, -0.14276686,\n",
       "        0.03875004, -0.01785251,  0.10632333, -0.04945896, -0.12860028,\n",
       "        0.03926179, -0.10697932, -0.02055888, -0.12028715,  0.02155583,\n",
       "       -0.0934751 ,  0.00787016,  0.09618429, -0.10731526, -0.04748499,\n",
       "        0.17230925,  0.04352207, -0.04597435, -0.0994973 , -0.19866621,\n",
       "       -0.01513372,  0.02276882, -0.00751465,  0.00197751,  0.20676279,\n",
       "       -0.05990925,  0.06884968, -0.03118551,  0.04225772,  0.12910865,\n",
       "       -0.01088502,  0.02881214,  0.02935446,  0.05427846, -0.00990791,\n",
       "        0.03422395,  0.16133527, -0.05811173, -0.20039162,  0.18611497,\n",
       "       -0.03299946,  0.12124228,  0.05615389,  0.04247983, -0.03143842,\n",
       "        0.01555304, -0.07402476,  0.04621349, -0.12373647,  0.07731789,\n",
       "       -0.07858853,  0.09681875,  0.02095954,  0.09497034,  0.04567078,\n",
       "        0.08378093,  0.10996386,  0.01158158,  0.06222003, -0.12475595,\n",
       "       -0.11942212,  0.02597393, -0.09262305,  0.19821823, -0.13227707,\n",
       "       -0.09162979,  0.02675257,  0.14903212, -0.0146408 ,  0.15517235,\n",
       "        0.11377476,  0.05784528, -0.06568069,  0.10114046,  0.3033089 ,\n",
       "        0.17107084,  0.03870038, -0.05002103,  0.02303019, -0.01884895],\n",
       "      dtype=float32)"
      ]
     },
     "execution_count": 10,
     "metadata": {},
     "output_type": "execute_result"
    }
   ],
   "source": [
    "print(model.wv['john'].shape)\n",
    "model.wv['john']"
   ]
  },
  {
   "cell_type": "code",
   "execution_count": 11,
   "metadata": {},
   "outputs": [
    {
     "data": {
      "text/plain": [
       "0.79545677"
      ]
     },
     "execution_count": 11,
     "metadata": {},
     "output_type": "execute_result"
    }
   ],
   "source": [
    "model.wv.similarity('arya', 'sansa')"
   ]
  },
  {
   "cell_type": "code",
   "execution_count": 12,
   "metadata": {},
   "outputs": [
    {
     "data": {
      "text/plain": [
       "0.23479165"
      ]
     },
     "execution_count": 12,
     "metadata": {},
     "output_type": "execute_result"
    }
   ],
   "source": [
    "model.wv.similarity('tywin', 'sansa')"
   ]
  },
  {
   "cell_type": "code",
   "execution_count": 13,
   "metadata": {},
   "outputs": [
    {
     "name": "stdout",
     "output_type": "stream",
     "text": [
      "(17453, 100)\n"
     ]
    },
    {
     "data": {
      "text/plain": [
       "array([[-0.1724635 , -0.12374561,  0.12398213, ..., -0.00616753,\n",
       "        -0.09255906,  0.20335485],\n",
       "       [-0.19262342, -0.15315329,  0.13814068, ..., -0.08975472,\n",
       "         0.03858978, -0.01327871],\n",
       "       [ 0.14544171, -0.06291664, -0.00530583, ..., -0.03260806,\n",
       "         0.01831827, -0.06220768],\n",
       "       ...,\n",
       "       [ 0.0785265 ,  0.06303919, -0.08843918, ..., -0.08188722,\n",
       "         0.08299837, -0.15624501],\n",
       "       [-0.0953998 ,  0.07588639,  0.08699083, ..., -0.12087574,\n",
       "         0.13173696, -0.13466156],\n",
       "       [-0.08836133,  0.08531455,  0.06830281, ..., -0.02184378,\n",
       "         0.04483509,  0.00102878]], dtype=float32)"
      ]
     },
     "execution_count": 13,
     "metadata": {},
     "output_type": "execute_result"
    }
   ],
   "source": [
    "print(model.wv.get_normed_vectors().shape)\n",
    "model.wv.get_normed_vectors()"
   ]
  },
  {
   "cell_type": "code",
   "execution_count": 14,
   "metadata": {},
   "outputs": [
    {
     "name": "stdout",
     "output_type": "stream",
     "text": [
      "17453\n"
     ]
    },
    {
     "data": {
      "text/plain": [
       "['the',\n",
       " 'and',\n",
       " 'to',\n",
       " 'of',\n",
       " 'he',\n",
       " 'his',\n",
       " 'was',\n",
       " 'you',\n",
       " 'her',\n",
       " 'in',\n",
       " 'it',\n",
       " 'had',\n",
       " 'that',\n",
       " 'she',\n",
       " 'as',\n",
       " 'with',\n",
       " 'him',\n",
       " 'not',\n",
       " 'but',\n",
       " 'for',\n",
       " 'they',\n",
       " 'is',\n",
       " 'at',\n",
       " 'on',\n",
       " 'said',\n",
       " 'my',\n",
       " 'have',\n",
       " 'be',\n",
       " 'lord',\n",
       " 'them',\n",
       " 'no',\n",
       " 'from',\n",
       " 'would',\n",
       " 'were',\n",
       " 'me',\n",
       " 'your',\n",
       " 'one',\n",
       " 'all',\n",
       " 'when',\n",
       " 'will',\n",
       " 'ser',\n",
       " 'if',\n",
       " 'so',\n",
       " 'their',\n",
       " 'we',\n",
       " 'could',\n",
       " 'are',\n",
       " 'man',\n",
       " 'there',\n",
       " 'this',\n",
       " 'up',\n",
       " 'been',\n",
       " 'what',\n",
       " 'did',\n",
       " 'by',\n",
       " 'king',\n",
       " 'do',\n",
       " 'men',\n",
       " 'back',\n",
       " 'out',\n",
       " 'more',\n",
       " 'or',\n",
       " 'who',\n",
       " 'down',\n",
       " 'well',\n",
       " 'than',\n",
       " 'only',\n",
       " 'like',\n",
       " 'jon',\n",
       " 'some',\n",
       " 'father',\n",
       " 'old',\n",
       " 'hand',\n",
       " 'even',\n",
       " 'too',\n",
       " 'tyrion',\n",
       " 'before',\n",
       " 'never',\n",
       " 'an',\n",
       " 'off',\n",
       " 'see',\n",
       " 'know',\n",
       " 'into',\n",
       " 'made',\n",
       " 'now',\n",
       " 'eyes',\n",
       " 'black',\n",
       " 'told',\n",
       " 'lady',\n",
       " 'thought',\n",
       " 'time',\n",
       " 'then',\n",
       " 'how',\n",
       " 'long',\n",
       " 'has',\n",
       " 'can',\n",
       " 'might',\n",
       " 'us',\n",
       " 'come',\n",
       " 'where',\n",
       " 'here',\n",
       " 'through',\n",
       " 'still',\n",
       " 'face',\n",
       " 'head',\n",
       " 'red',\n",
       " 'll',\n",
       " 'way',\n",
       " 'boy',\n",
       " 'page',\n",
       " 'must',\n",
       " 'once',\n",
       " 'queen',\n",
       " 'good',\n",
       " 'two',\n",
       " 'brother',\n",
       " 'night',\n",
       " 'over',\n",
       " 'little',\n",
       " 'about',\n",
       " 'took',\n",
       " 'other',\n",
       " 'came',\n",
       " 'though',\n",
       " 'again',\n",
       " 'say',\n",
       " 'three',\n",
       " 'should',\n",
       " 'away',\n",
       " 'dead',\n",
       " 'son',\n",
       " 'own',\n",
       " 'blood',\n",
       " 'am',\n",
       " 'take',\n",
       " 'go',\n",
       " 'half',\n",
       " 'make',\n",
       " 'arya',\n",
       " 'saw',\n",
       " 'day',\n",
       " 'white',\n",
       " 'jaime',\n",
       " 'first',\n",
       " 'himself',\n",
       " 'our',\n",
       " 'look',\n",
       " 'want',\n",
       " 'after',\n",
       " 'much',\n",
       " 'enough',\n",
       " 'sword',\n",
       " 'tell',\n",
       " 'girl',\n",
       " 'bran',\n",
       " 'great',\n",
       " 'its',\n",
       " 'looked',\n",
       " 'left',\n",
       " 'knew',\n",
       " 'asked',\n",
       " 'gave',\n",
       " 'maester',\n",
       " 'called',\n",
       " 'wall',\n",
       " 'every',\n",
       " 'heard',\n",
       " 'sansa',\n",
       " 'let',\n",
       " 'yet',\n",
       " 'went',\n",
       " 'turned',\n",
       " 'dany',\n",
       " 'why',\n",
       " 'need',\n",
       " 'behind',\n",
       " 'around',\n",
       " 'just',\n",
       " 'woman',\n",
       " 'another',\n",
       " 'snow',\n",
       " 'beneath',\n",
       " 'across',\n",
       " 'knight',\n",
       " 'keep',\n",
       " 'grace',\n",
       " 'found',\n",
       " 'gold',\n",
       " 'any',\n",
       " 'last',\n",
       " 'cersei',\n",
       " 'castle',\n",
       " 'those',\n",
       " 'stark',\n",
       " 'gods',\n",
       " 'think',\n",
       " 'hair',\n",
       " 'many',\n",
       " 'feet',\n",
       " 'against',\n",
       " 'hands',\n",
       " 'stannis',\n",
       " 'mother',\n",
       " 'catelyn',\n",
       " 'robert',\n",
       " 'seemed',\n",
       " 'prince',\n",
       " 'may',\n",
       " 'ever',\n",
       " 'robb',\n",
       " 'done',\n",
       " 'don',\n",
       " 'find',\n",
       " 'lannister',\n",
       " 're',\n",
       " 'hear',\n",
       " 'grey',\n",
       " 'name',\n",
       " 'horse',\n",
       " 'high',\n",
       " 'put',\n",
       " 'stone',\n",
       " 'wine',\n",
       " 'hard',\n",
       " 'water',\n",
       " 'upon',\n",
       " 'fire',\n",
       " 'iron',\n",
       " 'until',\n",
       " 'these',\n",
       " 'voice',\n",
       " 'gone',\n",
       " 'give',\n",
       " 'sam',\n",
       " 'seen',\n",
       " 'better',\n",
       " 'shall',\n",
       " 'ned',\n",
       " 'always',\n",
       " 'years',\n",
       " 'between',\n",
       " 'dark',\n",
       " 'place',\n",
       " 'small',\n",
       " 'cold',\n",
       " 'winterfell',\n",
       " 'most',\n",
       " 'hundred',\n",
       " 'stood',\n",
       " 'end',\n",
       " 'sister',\n",
       " 'words',\n",
       " 'sea',\n",
       " 'right',\n",
       " 'nothing',\n",
       " 'walls',\n",
       " 'fingers',\n",
       " 'same',\n",
       " 'cloak',\n",
       " 'house',\n",
       " 'young',\n",
       " 'does',\n",
       " 'beside',\n",
       " 'get',\n",
       " 'mouth',\n",
       " 'seven',\n",
       " 'watch',\n",
       " 'door',\n",
       " 'joffrey',\n",
       " 'green',\n",
       " 'big',\n",
       " 'under',\n",
       " 'few',\n",
       " 'sent',\n",
       " 'perhaps',\n",
       " 'almost',\n",
       " 'such',\n",
       " 'wanted',\n",
       " 'daughter',\n",
       " 'true',\n",
       " 'while',\n",
       " 'leave',\n",
       " 'city',\n",
       " 'wind',\n",
       " 'light',\n",
       " 'arms',\n",
       " 'children',\n",
       " 'herself',\n",
       " 'sweet',\n",
       " 'others',\n",
       " 'lost',\n",
       " 'theon',\n",
       " 'each',\n",
       " 'felt',\n",
       " 'side',\n",
       " 'yes',\n",
       " 'brothers',\n",
       " 'best',\n",
       " 'very',\n",
       " 'die',\n",
       " 'brought',\n",
       " 'soon',\n",
       " 'far',\n",
       " 'died',\n",
       " 'north',\n",
       " 'child',\n",
       " 'fear',\n",
       " 'along',\n",
       " 'word',\n",
       " 'brienne',\n",
       " 'both',\n",
       " 'taken',\n",
       " 'battle',\n",
       " 'help',\n",
       " 'new',\n",
       " 'tywin',\n",
       " 'davos',\n",
       " 'lords',\n",
       " 'something',\n",
       " 've',\n",
       " 'wife',\n",
       " 'mean',\n",
       " 'rest',\n",
       " 'hall',\n",
       " 'kill',\n",
       " 'strong',\n",
       " 'steel',\n",
       " 'began',\n",
       " 'sound',\n",
       " 'won',\n",
       " 'dragon',\n",
       " 'past',\n",
       " 'life',\n",
       " 'tower',\n",
       " 'killed',\n",
       " 'arm',\n",
       " 'sons',\n",
       " 'tried',\n",
       " 'free',\n",
       " 'thing',\n",
       " 'days',\n",
       " 'bear',\n",
       " 'bloody',\n",
       " 'heart',\n",
       " 'pale',\n",
       " 'love',\n",
       " 'moment',\n",
       " 'sat',\n",
       " 'bring',\n",
       " 'bed',\n",
       " 'close',\n",
       " 'knights',\n",
       " 'cut',\n",
       " 'wolf',\n",
       " 'horses',\n",
       " 'smile',\n",
       " 'death',\n",
       " 'inside',\n",
       " 'four',\n",
       " 'brown',\n",
       " 'dragons',\n",
       " 'hot',\n",
       " 'silver',\n",
       " 'part',\n",
       " 'bastard',\n",
       " 'open',\n",
       " 'nor',\n",
       " 'thousand',\n",
       " 'landing',\n",
       " 'uncle',\n",
       " 'above',\n",
       " 'going',\n",
       " 'blue',\n",
       " 'air',\n",
       " 'captain',\n",
       " 'please',\n",
       " 'laughed',\n",
       " 'river',\n",
       " 'sun',\n",
       " 'rose',\n",
       " 'fell',\n",
       " 'war',\n",
       " 'golden',\n",
       " 'sleep',\n",
       " 'without',\n",
       " 'swords',\n",
       " 'speak',\n",
       " 'renly',\n",
       " 'full',\n",
       " 'fool',\n",
       " 'certain',\n",
       " 'beyond',\n",
       " 'feel',\n",
       " 'send',\n",
       " 'tongue',\n",
       " 'got',\n",
       " 'fight',\n",
       " 'rode',\n",
       " 'set',\n",
       " 'thick',\n",
       " 'throat',\n",
       " 'world',\n",
       " 'deep',\n",
       " 'legs',\n",
       " 'call',\n",
       " 'honor',\n",
       " 'rock',\n",
       " 'trees',\n",
       " 'tall',\n",
       " 'table',\n",
       " 'pulled',\n",
       " 'broken',\n",
       " 'mormont',\n",
       " 'women',\n",
       " 'steps',\n",
       " 'things',\n",
       " 'next',\n",
       " 'hodor',\n",
       " 'heavy',\n",
       " 'burned',\n",
       " 'oh',\n",
       " 'toward',\n",
       " 'together',\n",
       " 'skin',\n",
       " 'given',\n",
       " 'since',\n",
       " 'smiled',\n",
       " 'dwarf',\n",
       " 'alone',\n",
       " 'moved',\n",
       " 'storm',\n",
       " 'raised',\n",
       " 'ride',\n",
       " 'ask',\n",
       " 'hope',\n",
       " 'eye',\n",
       " 'soft',\n",
       " 'reached',\n",
       " 'frey',\n",
       " 'second',\n",
       " 'remember',\n",
       " 'someone',\n",
       " 'remembered',\n",
       " 'coming',\n",
       " 'meant',\n",
       " 'cannot',\n",
       " 'hold',\n",
       " 'morning',\n",
       " 'ten',\n",
       " 'teeth',\n",
       " 'else',\n",
       " 'throne',\n",
       " 'command',\n",
       " 'which',\n",
       " 'fat',\n",
       " 'truth',\n",
       " 'commander',\n",
       " 'walder',\n",
       " 'doubt',\n",
       " 'ground',\n",
       " 'jorah',\n",
       " 'cup',\n",
       " 'outside',\n",
       " 'known',\n",
       " 'wore',\n",
       " 'ran',\n",
       " 'gate',\n",
       " 'room',\n",
       " 'held',\n",
       " 'closed',\n",
       " 'home',\n",
       " 'matter',\n",
       " 'sky',\n",
       " 'south',\n",
       " 'wood',\n",
       " 'dozen',\n",
       " 'wed',\n",
       " 'people',\n",
       " 'neck',\n",
       " 'riverrun',\n",
       " 'food',\n",
       " 'instead',\n",
       " 'near',\n",
       " 'talk',\n",
       " 'turn',\n",
       " 'none',\n",
       " 'ships',\n",
       " 'tyrell',\n",
       " 'below',\n",
       " 'moon',\n",
       " 'summer',\n",
       " 'bolton',\n",
       " 'shadow',\n",
       " 'lips',\n",
       " 'watched',\n",
       " 'times',\n",
       " 'leather',\n",
       " 'varys',\n",
       " 'shoulder',\n",
       " 'septon',\n",
       " 'warm',\n",
       " 'caught',\n",
       " 'believe',\n",
       " 'least',\n",
       " 'guards',\n",
       " 'answer',\n",
       " 'god',\n",
       " 'blade',\n",
       " 'wondered',\n",
       " 'ice',\n",
       " 'opened',\n",
       " 'shield',\n",
       " 'barristan',\n",
       " 'mine',\n",
       " 'armor',\n",
       " 'safe',\n",
       " 'six',\n",
       " 'kept',\n",
       " 'wish',\n",
       " 'return',\n",
       " 'tommen',\n",
       " 'used',\n",
       " 'smell',\n",
       " 'less',\n",
       " 'being',\n",
       " 'foot',\n",
       " 'floor',\n",
       " 'squire',\n",
       " 'eddard',\n",
       " 'empty',\n",
       " 'run',\n",
       " 'followed',\n",
       " 'friends',\n",
       " 'serve',\n",
       " 'beard',\n",
       " 'boys',\n",
       " 'baratheon',\n",
       " 'cloaks',\n",
       " 'wedding',\n",
       " 'eat',\n",
       " 'wrong',\n",
       " 'daenerys',\n",
       " 'ghost',\n",
       " 'sight',\n",
       " 'flesh',\n",
       " 'five',\n",
       " 'hound',\n",
       " 'ship',\n",
       " 'strength',\n",
       " 'returned',\n",
       " 'bones',\n",
       " 'nose',\n",
       " 'crown',\n",
       " 'yellow',\n",
       " 'chest',\n",
       " 'covered',\n",
       " 'says',\n",
       " 'commanded',\n",
       " 'petyr',\n",
       " 'sometimes',\n",
       " 'filled',\n",
       " 'aemon',\n",
       " 'friend',\n",
       " 'led',\n",
       " 'aye',\n",
       " 'common',\n",
       " 'yours',\n",
       " 'flames',\n",
       " 'spoke',\n",
       " 'show',\n",
       " 'fighting',\n",
       " 'asha',\n",
       " 'huge',\n",
       " 'aside',\n",
       " 'lysa',\n",
       " 'crow',\n",
       " 'belly',\n",
       " 'master',\n",
       " 'breath',\n",
       " 'seem',\n",
       " 'yard',\n",
       " 'gates',\n",
       " 'waiting',\n",
       " 'within',\n",
       " 'looking',\n",
       " 'wet',\n",
       " 'wooden',\n",
       " 'realm',\n",
       " 'thin',\n",
       " 'work',\n",
       " 'bad',\n",
       " 'use',\n",
       " 'promised',\n",
       " 'later',\n",
       " 'tree',\n",
       " 'husband',\n",
       " 'grew',\n",
       " 'onto',\n",
       " 'wildlings',\n",
       " 'loved',\n",
       " 'afraid',\n",
       " 'girls',\n",
       " 'greyjoy',\n",
       " 'shoulders',\n",
       " 'rain',\n",
       " 'shouted',\n",
       " 'walked',\n",
       " 'maid',\n",
       " 'mance',\n",
       " 'remained',\n",
       " 'late',\n",
       " 'guard',\n",
       " 'littlefinger',\n",
       " 'meereen',\n",
       " 'liked',\n",
       " 'fall',\n",
       " 'year',\n",
       " 'margaery',\n",
       " 'dog',\n",
       " 'passed',\n",
       " 'hurt',\n",
       " 'balon',\n",
       " 'taste',\n",
       " 'dothraki',\n",
       " 'lay',\n",
       " 'drew',\n",
       " 'spear',\n",
       " 'song',\n",
       " 'realized',\n",
       " 'pushed',\n",
       " 'sure',\n",
       " 'named',\n",
       " 'reach',\n",
       " 'brave',\n",
       " 'stand',\n",
       " 'different',\n",
       " 'finally',\n",
       " 'whispered',\n",
       " 'wolves',\n",
       " 'suddenly',\n",
       " 'poor',\n",
       " 'kingsguard',\n",
       " 'drogo',\n",
       " 'stay',\n",
       " 'arryn',\n",
       " 'stop',\n",
       " 'kingdoms',\n",
       " 'broke',\n",
       " 'ears',\n",
       " 'edmure',\n",
       " 'princess',\n",
       " 'burning',\n",
       " 'faces',\n",
       " 'lannisters',\n",
       " 'dream',\n",
       " 'axe',\n",
       " 'direwolf',\n",
       " 'west',\n",
       " 'tears',\n",
       " 'heir',\n",
       " 'drink',\n",
       " 'clegane',\n",
       " 'darkness',\n",
       " 'either',\n",
       " 'pointed',\n",
       " 'raven',\n",
       " 'hill',\n",
       " 'try',\n",
       " 'forward',\n",
       " 'sworn',\n",
       " 'pain',\n",
       " 'khal',\n",
       " 'lie',\n",
       " 'dagger',\n",
       " 'truly',\n",
       " 'kings',\n",
       " 'seat',\n",
       " 'grown',\n",
       " 'born',\n",
       " 'road',\n",
       " 'harrenhal',\n",
       " 'care',\n",
       " 'bronn',\n",
       " 'round',\n",
       " 'helm',\n",
       " 'feast',\n",
       " 'understand',\n",
       " 'quick',\n",
       " 'pycelle',\n",
       " 'meat',\n",
       " 'amongst',\n",
       " 'lifted',\n",
       " 'longer',\n",
       " 'reminded',\n",
       " 'whilst',\n",
       " 'maybe',\n",
       " 'mountain',\n",
       " 'short',\n",
       " 'step',\n",
       " 'rodrik',\n",
       " 'pretty',\n",
       " 'melisandre',\n",
       " 'ones',\n",
       " 'third',\n",
       " 'bit',\n",
       " 'worse',\n",
       " 'stopped',\n",
       " 'lands',\n",
       " 'aegon',\n",
       " 'sit',\n",
       " 'victarion',\n",
       " 'save',\n",
       " 'sharp',\n",
       " 'knows',\n",
       " 'live',\n",
       " 'smoke',\n",
       " 'whose',\n",
       " 'pray',\n",
       " 'leg',\n",
       " 'window',\n",
       " 'horn',\n",
       " 'younger',\n",
       " 'westeros',\n",
       " 'didn',\n",
       " 'twenty',\n",
       " 'silk',\n",
       " 'heads',\n",
       " 'slaves',\n",
       " 'ago',\n",
       " 'septa',\n",
       " 'pie',\n",
       " 'peace',\n",
       " 'laugh',\n",
       " 'hizdahr',\n",
       " 'mind',\n",
       " 'low',\n",
       " 'bread',\n",
       " 'wants',\n",
       " 'east',\n",
       " 'blind',\n",
       " 'reek',\n",
       " 'mad',\n",
       " 'sooner',\n",
       " 'towers',\n",
       " 'bright',\n",
       " 'myself',\n",
       " 'coin',\n",
       " 'older',\n",
       " 'slain',\n",
       " 'camp',\n",
       " 'making',\n",
       " 'walk',\n",
       " 'drowned',\n",
       " 'served',\n",
       " 'narrow',\n",
       " 'salt',\n",
       " 'point',\n",
       " 'wait',\n",
       " 'glanced',\n",
       " 'cheeks',\n",
       " 'cousin',\n",
       " 'luwin',\n",
       " 'knife',\n",
       " 'targaryen',\n",
       " 'shook',\n",
       " 'touched',\n",
       " 'quiet',\n",
       " 'stepped',\n",
       " 'sort',\n",
       " 'often',\n",
       " 'riding',\n",
       " 'naked',\n",
       " 'twisted',\n",
       " 'loras',\n",
       " 'choice',\n",
       " 'during',\n",
       " 'lion',\n",
       " 'forgotten',\n",
       " 'silence',\n",
       " 'fish',\n",
       " 'kevan',\n",
       " 'ramsay',\n",
       " 'hung',\n",
       " 'read',\n",
       " 'gift',\n",
       " 'running',\n",
       " 'replied',\n",
       " 'fallen',\n",
       " 'large',\n",
       " 'knees',\n",
       " 'silent',\n",
       " 'fought',\n",
       " 'company',\n",
       " 'cat',\n",
       " 'ahead',\n",
       " 'sept',\n",
       " 'needs',\n",
       " 'beautiful',\n",
       " 'rhaegar',\n",
       " 'dogs',\n",
       " 'dawn',\n",
       " 'knee',\n",
       " 'pass',\n",
       " 'dorne',\n",
       " 'casterly',\n",
       " 'mud',\n",
       " 'themselves',\n",
       " 'tully',\n",
       " 'body',\n",
       " 'singer',\n",
       " 'gregor',\n",
       " 'court',\n",
       " 'stupid',\n",
       " 'age',\n",
       " 'meera',\n",
       " 'trying',\n",
       " 'top',\n",
       " 'swear',\n",
       " 'kind',\n",
       " 'offered',\n",
       " 'gendry',\n",
       " 'leaves',\n",
       " 'whole',\n",
       " 'clothes',\n",
       " 'closer',\n",
       " 'anything',\n",
       " 'kiss',\n",
       " 'whatever',\n",
       " 'threw',\n",
       " 'wonder',\n",
       " 'agreed',\n",
       " 'pay',\n",
       " 'answered',\n",
       " 'climbed',\n",
       " 'saying',\n",
       " 'saddle',\n",
       " 'wide',\n",
       " 'stars',\n",
       " 'comes',\n",
       " 'stones',\n",
       " 'chain',\n",
       " 'trust',\n",
       " 'host',\n",
       " 'fair',\n",
       " 'pleased',\n",
       " 'trident',\n",
       " 'yourself',\n",
       " 'yunkai',\n",
       " 'dry',\n",
       " 'hour',\n",
       " 'insisted',\n",
       " 'eight',\n",
       " 'spears',\n",
       " 'dying',\n",
       " 'ear',\n",
       " 'fast',\n",
       " 'carried',\n",
       " 'service',\n",
       " 'doors',\n",
       " 'ought',\n",
       " 'fist',\n",
       " 'woods',\n",
       " 'mail',\n",
       " 'council',\n",
       " 'wasn',\n",
       " 'fine',\n",
       " 'crossed',\n",
       " 'needed',\n",
       " 'join',\n",
       " 'thank',\n",
       " 'milk',\n",
       " 'wildling',\n",
       " 'quentyn',\n",
       " 'finger',\n",
       " 'gilly',\n",
       " 'shadows',\n",
       " 'doing',\n",
       " 'tent',\n",
       " 'win',\n",
       " 'bird',\n",
       " 'land',\n",
       " 'helped',\n",
       " 'boots',\n",
       " 'imp',\n",
       " 'crows',\n",
       " 'names',\n",
       " 'somehow',\n",
       " 'folk',\n",
       " 'kissed',\n",
       " 'winter',\n",
       " 'letter',\n",
       " 'banners',\n",
       " 'screamed',\n",
       " 'angry',\n",
       " 'pink',\n",
       " 'frightened',\n",
       " 'learn',\n",
       " 'alive',\n",
       " 'torch',\n",
       " 'chair',\n",
       " 'eunuch',\n",
       " 'watching',\n",
       " 'daughters',\n",
       " 'tarly',\n",
       " 'dragonstone',\n",
       " 'harm',\n",
       " 'fires',\n",
       " 'learned',\n",
       " 'standing',\n",
       " 'serving',\n",
       " 'easy',\n",
       " 'neither',\n",
       " 'nine',\n",
       " 'wings',\n",
       " 'question',\n",
       " 'drunk',\n",
       " 'sail',\n",
       " 'priest',\n",
       " 'sisters',\n",
       " 'myrcella',\n",
       " 'nodded',\n",
       " 'harbor',\n",
       " 'bone',\n",
       " 'forth',\n",
       " 'warned',\n",
       " 'giant',\n",
       " 'slow',\n",
       " 'field',\n",
       " 'slipped',\n",
       " 'slid',\n",
       " 'slowly',\n",
       " 'bronze',\n",
       " 'dreams',\n",
       " 'falling',\n",
       " 'atop',\n",
       " 'promise',\n",
       " 'rise',\n",
       " 'slave',\n",
       " 'illyrio',\n",
       " 'whore',\n",
       " 'line',\n",
       " 'move',\n",
       " 'flowers',\n",
       " 'pyke',\n",
       " 'makes',\n",
       " 'laughter',\n",
       " 'loose',\n",
       " 'earth',\n",
       " 'grass',\n",
       " 'faced',\n",
       " 'bay',\n",
       " 'declared',\n",
       " 'twice',\n",
       " 'front',\n",
       " 'lived',\n",
       " 'power',\n",
       " 'viserys',\n",
       " 'cell',\n",
       " 'happened',\n",
       " 'because',\n",
       " 'play',\n",
       " 'chains',\n",
       " 'break',\n",
       " 'dance',\n",
       " 'oldtown',\n",
       " 'surely',\n",
       " 'aerys',\n",
       " 'clean',\n",
       " 'claim',\n",
       " 'unless',\n",
       " 'jeyne',\n",
       " 'eyrie',\n",
       " 'cried',\n",
       " 'fresh',\n",
       " 'pair',\n",
       " 'tormund',\n",
       " 'craster',\n",
       " 'laid',\n",
       " 'quite',\n",
       " 'morrow',\n",
       " 'shouting',\n",
       " 'sad',\n",
       " 'game',\n",
       " 'met',\n",
       " 'already',\n",
       " 'rule',\n",
       " 'touch',\n",
       " 'softly',\n",
       " 'woke',\n",
       " 'steward',\n",
       " 'sense',\n",
       " 'afterward',\n",
       " 'count',\n",
       " 'started',\n",
       " 'mounted',\n",
       " 'waters',\n",
       " 'sudden',\n",
       " 'captive',\n",
       " 'hide',\n",
       " 'jojen',\n",
       " ...]"
      ]
     },
     "execution_count": 14,
     "metadata": {},
     "output_type": "execute_result"
    }
   ],
   "source": [
    "print(len(model.wv.index_to_key))\n",
    "model.wv.index_to_key"
   ]
  },
  {
   "cell_type": "code",
   "execution_count": 15,
   "metadata": {},
   "outputs": [],
   "source": [
    "from sklearn.decomposition import PCA\n",
    "pca = PCA(n_components=3)"
   ]
  },
  {
   "cell_type": "code",
   "execution_count": 16,
   "metadata": {},
   "outputs": [],
   "source": [
    "X = pca.fit_transform(model.wv.get_normed_vectors())"
   ]
  },
  {
   "cell_type": "code",
   "execution_count": 17,
   "metadata": {},
   "outputs": [
    {
     "name": "stdout",
     "output_type": "stream",
     "text": [
      "(17453, 3)\n"
     ]
    },
    {
     "data": {
      "text/plain": [
       "array([[ 0.28142518,  0.38566905, -0.07380264],\n",
       "       [ 0.23866393,  0.19694348,  0.00206349],\n",
       "       [-0.09325641,  0.57455117,  0.09557956],\n",
       "       [ 0.04948222,  0.21671467, -0.06280389],\n",
       "       [ 0.07722534,  0.47011128,  0.15459691]], dtype=float32)"
      ]
     },
     "execution_count": 17,
     "metadata": {},
     "output_type": "execute_result"
    }
   ],
   "source": [
    "print(X.shape)\n",
    "X[:5]"
   ]
  },
  {
   "cell_type": "code",
   "execution_count": 20,
   "metadata": {},
   "outputs": [],
   "source": [
    "import plotly.express as plt\n",
    "fig = plt.scatter_3d(X[:500], x = 0, y = 1, z = 2, color = model.wv.index_to_key[:500])"
   ]
  },
  {
   "cell_type": "code",
   "execution_count": 21,
   "metadata": {},
   "outputs": [
    {
     "data": {
      "application/vnd.plotly.v1+json": {
       "config": {
        "plotlyServerURL": "https://plot.ly"
       },
       "data": [
        {
         "hovertemplate": "color=the<br>0=%{x}<br>1=%{y}<br>2=%{z}<extra></extra>",
         "legendgroup": "the",
         "marker": {
          "color": "#636efa",
          "symbol": "circle"
         },
         "mode": "markers",
         "name": "the",
         "scene": "scene",
         "showlegend": true,
         "type": "scatter3d",
         "x": [
          0.2814251780509949
         ],
         "y": [
          0.3856690526008606
         ],
         "z": [
          -0.0738026350736618
         ]
        },
        {
         "hovertemplate": "color=and<br>0=%{x}<br>1=%{y}<br>2=%{z}<extra></extra>",
         "legendgroup": "and",
         "marker": {
          "color": "#EF553B",
          "symbol": "circle"
         },
         "mode": "markers",
         "name": "and",
         "scene": "scene",
         "showlegend": true,
         "type": "scatter3d",
         "x": [
          0.2386639267206192
         ],
         "y": [
          0.1969434767961502
         ],
         "z": [
          0.002063488122075796
         ]
        },
        {
         "hovertemplate": "color=to<br>0=%{x}<br>1=%{y}<br>2=%{z}<extra></extra>",
         "legendgroup": "to",
         "marker": {
          "color": "#00cc96",
          "symbol": "circle"
         },
         "mode": "markers",
         "name": "to",
         "scene": "scene",
         "showlegend": true,
         "type": "scatter3d",
         "x": [
          -0.09325641393661499
         ],
         "y": [
          0.5745511651039124
         ],
         "z": [
          0.09557955712080002
         ]
        },
        {
         "hovertemplate": "color=of<br>0=%{x}<br>1=%{y}<br>2=%{z}<extra></extra>",
         "legendgroup": "of",
         "marker": {
          "color": "#ab63fa",
          "symbol": "circle"
         },
         "mode": "markers",
         "name": "of",
         "scene": "scene",
         "showlegend": true,
         "type": "scatter3d",
         "x": [
          0.04948222264647484
         ],
         "y": [
          0.21671466529369354
         ],
         "z": [
          -0.06280389428138733
         ]
        },
        {
         "hovertemplate": "color=he<br>0=%{x}<br>1=%{y}<br>2=%{z}<extra></extra>",
         "legendgroup": "he",
         "marker": {
          "color": "#FFA15A",
          "symbol": "circle"
         },
         "mode": "markers",
         "name": "he",
         "scene": "scene",
         "showlegend": true,
         "type": "scatter3d",
         "x": [
          0.07722534239292145
         ],
         "y": [
          0.47011128067970276
         ],
         "z": [
          0.15459690988063812
         ]
        },
        {
         "hovertemplate": "color=his<br>0=%{x}<br>1=%{y}<br>2=%{z}<extra></extra>",
         "legendgroup": "his",
         "marker": {
          "color": "#19d3f3",
          "symbol": "circle"
         },
         "mode": "markers",
         "name": "his",
         "scene": "scene",
         "showlegend": true,
         "type": "scatter3d",
         "x": [
          0.09588804841041565
         ],
         "y": [
          0.20721882581710815
         ],
         "z": [
          0.30964240431785583
         ]
        },
        {
         "hovertemplate": "color=was<br>0=%{x}<br>1=%{y}<br>2=%{z}<extra></extra>",
         "legendgroup": "was",
         "marker": {
          "color": "#FF6692",
          "symbol": "circle"
         },
         "mode": "markers",
         "name": "was",
         "scene": "scene",
         "showlegend": true,
         "type": "scatter3d",
         "x": [
          0.036142464727163315
         ],
         "y": [
          0.32546982169151306
         ],
         "z": [
          0.26855918765068054
         ]
        },
        {
         "hovertemplate": "color=you<br>0=%{x}<br>1=%{y}<br>2=%{z}<extra></extra>",
         "legendgroup": "you",
         "marker": {
          "color": "#B6E880",
          "symbol": "circle"
         },
         "mode": "markers",
         "name": "you",
         "scene": "scene",
         "showlegend": true,
         "type": "scatter3d",
         "x": [
          -0.2991458773612976
         ],
         "y": [
          0.682909369468689
         ],
         "z": [
          0.052593257278203964
         ]
        },
        {
         "hovertemplate": "color=her<br>0=%{x}<br>1=%{y}<br>2=%{z}<extra></extra>",
         "legendgroup": "her",
         "marker": {
          "color": "#FF97FF",
          "symbol": "circle"
         },
         "mode": "markers",
         "name": "her",
         "scene": "scene",
         "showlegend": true,
         "type": "scatter3d",
         "x": [
          0.1286742091178894
         ],
         "y": [
          0.3330379128456116
         ],
         "z": [
          0.2634729743003845
         ]
        },
        {
         "hovertemplate": "color=in<br>0=%{x}<br>1=%{y}<br>2=%{z}<extra></extra>",
         "legendgroup": "in",
         "marker": {
          "color": "#FECB52",
          "symbol": "circle"
         },
         "mode": "markers",
         "name": "in",
         "scene": "scene",
         "showlegend": true,
         "type": "scatter3d",
         "x": [
          0.09640249609947205
         ],
         "y": [
          0.27317672967910767
         ],
         "z": [
          0.05750112235546112
         ]
        },
        {
         "hovertemplate": "color=it<br>0=%{x}<br>1=%{y}<br>2=%{z}<extra></extra>",
         "legendgroup": "it",
         "marker": {
          "color": "#636efa",
          "symbol": "circle"
         },
         "mode": "markers",
         "name": "it",
         "scene": "scene",
         "showlegend": true,
         "type": "scatter3d",
         "x": [
          0.11302580684423447
         ],
         "y": [
          0.5592872500419617
         ],
         "z": [
          0.08882875740528107
         ]
        },
        {
         "hovertemplate": "color=had<br>0=%{x}<br>1=%{y}<br>2=%{z}<extra></extra>",
         "legendgroup": "had",
         "marker": {
          "color": "#EF553B",
          "symbol": "circle"
         },
         "mode": "markers",
         "name": "had",
         "scene": "scene",
         "showlegend": true,
         "type": "scatter3d",
         "x": [
          0.0205402672290802
         ],
         "y": [
          0.3997558355331421
         ],
         "z": [
          0.10885506123304367
         ]
        },
        {
         "hovertemplate": "color=that<br>0=%{x}<br>1=%{y}<br>2=%{z}<extra></extra>",
         "legendgroup": "that",
         "marker": {
          "color": "#00cc96",
          "symbol": "circle"
         },
         "mode": "markers",
         "name": "that",
         "scene": "scene",
         "showlegend": true,
         "type": "scatter3d",
         "x": [
          -0.09551019966602325
         ],
         "y": [
          0.576387882232666
         ],
         "z": [
          -0.02273290976881981
         ]
        },
        {
         "hovertemplate": "color=she<br>0=%{x}<br>1=%{y}<br>2=%{z}<extra></extra>",
         "legendgroup": "she",
         "marker": {
          "color": "#ab63fa",
          "symbol": "circle"
         },
         "mode": "markers",
         "name": "she",
         "scene": "scene",
         "showlegend": true,
         "type": "scatter3d",
         "x": [
          0.09631635993719101
         ],
         "y": [
          0.4458284378051758
         ],
         "z": [
          0.14736922085285187
         ]
        },
        {
         "hovertemplate": "color=as<br>0=%{x}<br>1=%{y}<br>2=%{z}<extra></extra>",
         "legendgroup": "as",
         "marker": {
          "color": "#FFA15A",
          "symbol": "circle"
         },
         "mode": "markers",
         "name": "as",
         "scene": "scene",
         "showlegend": true,
         "type": "scatter3d",
         "x": [
          0.10521303862333298
         ],
         "y": [
          0.3622165024280548
         ],
         "z": [
          0.16636115312576294
         ]
        },
        {
         "hovertemplate": "color=with<br>0=%{x}<br>1=%{y}<br>2=%{z}<extra></extra>",
         "legendgroup": "with",
         "marker": {
          "color": "#19d3f3",
          "symbol": "circle"
         },
         "mode": "markers",
         "name": "with",
         "scene": "scene",
         "showlegend": true,
         "type": "scatter3d",
         "x": [
          0.07926810532808304
         ],
         "y": [
          0.1651679128408432
         ],
         "z": [
          0.19633902609348297
         ]
        },
        {
         "hovertemplate": "color=him<br>0=%{x}<br>1=%{y}<br>2=%{z}<extra></extra>",
         "legendgroup": "him",
         "marker": {
          "color": "#FF6692",
          "symbol": "circle"
         },
         "mode": "markers",
         "name": "him",
         "scene": "scene",
         "showlegend": true,
         "type": "scatter3d",
         "x": [
          0.06775236129760742
         ],
         "y": [
          0.4645219147205353
         ],
         "z": [
          0.18455183506011963
         ]
        },
        {
         "hovertemplate": "color=not<br>0=%{x}<br>1=%{y}<br>2=%{z}<extra></extra>",
         "legendgroup": "not",
         "marker": {
          "color": "#B6E880",
          "symbol": "circle"
         },
         "mode": "markers",
         "name": "not",
         "scene": "scene",
         "showlegend": true,
         "type": "scatter3d",
         "x": [
          -0.25978195667266846
         ],
         "y": [
          0.6165235638618469
         ],
         "z": [
          0.12190473824739456
         ]
        },
        {
         "hovertemplate": "color=but<br>0=%{x}<br>1=%{y}<br>2=%{z}<extra></extra>",
         "legendgroup": "but",
         "marker": {
          "color": "#FF97FF",
          "symbol": "circle"
         },
         "mode": "markers",
         "name": "but",
         "scene": "scene",
         "showlegend": true,
         "type": "scatter3d",
         "x": [
          -0.05134604871273041
         ],
         "y": [
          0.5317693948745728
         ],
         "z": [
          0.11090803891420364
         ]
        },
        {
         "hovertemplate": "color=for<br>0=%{x}<br>1=%{y}<br>2=%{z}<extra></extra>",
         "legendgroup": "for",
         "marker": {
          "color": "#FECB52",
          "symbol": "circle"
         },
         "mode": "markers",
         "name": "for",
         "scene": "scene",
         "showlegend": true,
         "type": "scatter3d",
         "x": [
          -0.23330733180046082
         ],
         "y": [
          0.4948517382144928
         ],
         "z": [
          0.1323576420545578
         ]
        },
        {
         "hovertemplate": "color=they<br>0=%{x}<br>1=%{y}<br>2=%{z}<extra></extra>",
         "legendgroup": "they",
         "marker": {
          "color": "#636efa",
          "symbol": "circle"
         },
         "mode": "markers",
         "name": "they",
         "scene": "scene",
         "showlegend": true,
         "type": "scatter3d",
         "x": [
          0.1908130794763565
         ],
         "y": [
          0.5673349499702454
         ],
         "z": [
          -0.16655147075653076
         ]
        },
        {
         "hovertemplate": "color=is<br>0=%{x}<br>1=%{y}<br>2=%{z}<extra></extra>",
         "legendgroup": "is",
         "marker": {
          "color": "#EF553B",
          "symbol": "circle"
         },
         "mode": "markers",
         "name": "is",
         "scene": "scene",
         "showlegend": true,
         "type": "scatter3d",
         "x": [
          -0.4270227253437042
         ],
         "y": [
          0.5488143563270569
         ],
         "z": [
          0.12659840285778046
         ]
        },
        {
         "hovertemplate": "color=at<br>0=%{x}<br>1=%{y}<br>2=%{z}<extra></extra>",
         "legendgroup": "at",
         "marker": {
          "color": "#00cc96",
          "symbol": "circle"
         },
         "mode": "markers",
         "name": "at",
         "scene": "scene",
         "showlegend": true,
         "type": "scatter3d",
         "x": [
          0.039161566644907
         ],
         "y": [
          0.2867211103439331
         ],
         "z": [
          0.23281480371952057
         ]
        },
        {
         "hovertemplate": "color=on<br>0=%{x}<br>1=%{y}<br>2=%{z}<extra></extra>",
         "legendgroup": "on",
         "marker": {
          "color": "#ab63fa",
          "symbol": "circle"
         },
         "mode": "markers",
         "name": "on",
         "scene": "scene",
         "showlegend": true,
         "type": "scatter3d",
         "x": [
          0.187723770737648
         ],
         "y": [
          0.30287206172943115
         ],
         "z": [
          0.18121325969696045
         ]
        },
        {
         "hovertemplate": "color=said<br>0=%{x}<br>1=%{y}<br>2=%{z}<extra></extra>",
         "legendgroup": "said",
         "marker": {
          "color": "#FFA15A",
          "symbol": "circle"
         },
         "mode": "markers",
         "name": "said",
         "scene": "scene",
         "showlegend": true,
         "type": "scatter3d",
         "x": [
          -0.3724154531955719
         ],
         "y": [
          0.5371691584587097
         ],
         "z": [
          0.4254971742630005
         ]
        },
        {
         "hovertemplate": "color=my<br>0=%{x}<br>1=%{y}<br>2=%{z}<extra></extra>",
         "legendgroup": "my",
         "marker": {
          "color": "#19d3f3",
          "symbol": "circle"
         },
         "mode": "markers",
         "name": "my",
         "scene": "scene",
         "showlegend": true,
         "type": "scatter3d",
         "x": [
          -0.3313867151737213
         ],
         "y": [
          0.5555810332298279
         ],
         "z": [
          0.14813637733459473
         ]
        },
        {
         "hovertemplate": "color=have<br>0=%{x}<br>1=%{y}<br>2=%{z}<extra></extra>",
         "legendgroup": "have",
         "marker": {
          "color": "#FF6692",
          "symbol": "circle"
         },
         "mode": "markers",
         "name": "have",
         "scene": "scene",
         "showlegend": true,
         "type": "scatter3d",
         "x": [
          -0.21457058191299438
         ],
         "y": [
          0.6155082583427429
         ],
         "z": [
          0.04261910170316696
         ]
        },
        {
         "hovertemplate": "color=be<br>0=%{x}<br>1=%{y}<br>2=%{z}<extra></extra>",
         "legendgroup": "be",
         "marker": {
          "color": "#B6E880",
          "symbol": "circle"
         },
         "mode": "markers",
         "name": "be",
         "scene": "scene",
         "showlegend": true,
         "type": "scatter3d",
         "x": [
          -0.16461968421936035
         ],
         "y": [
          0.6400549411773682
         ],
         "z": [
          0.050823960453271866
         ]
        },
        {
         "hovertemplate": "color=lord<br>0=%{x}<br>1=%{y}<br>2=%{z}<extra></extra>",
         "legendgroup": "lord",
         "marker": {
          "color": "#FF97FF",
          "symbol": "circle"
         },
         "mode": "markers",
         "name": "lord",
         "scene": "scene",
         "showlegend": true,
         "type": "scatter3d",
         "x": [
          -0.3314574658870697
         ],
         "y": [
          0.5080627799034119
         ],
         "z": [
          0.08775217086076736
         ]
        },
        {
         "hovertemplate": "color=them<br>0=%{x}<br>1=%{y}<br>2=%{z}<extra></extra>",
         "legendgroup": "them",
         "marker": {
          "color": "#FECB52",
          "symbol": "circle"
         },
         "mode": "markers",
         "name": "them",
         "scene": "scene",
         "showlegend": true,
         "type": "scatter3d",
         "x": [
          0.21735472977161407
         ],
         "y": [
          0.565231204032898
         ],
         "z": [
          -0.1037985309958458
         ]
        },
        {
         "hovertemplate": "color=no<br>0=%{x}<br>1=%{y}<br>2=%{z}<extra></extra>",
         "legendgroup": "no",
         "marker": {
          "color": "#636efa",
          "symbol": "circle"
         },
         "mode": "markers",
         "name": "no",
         "scene": "scene",
         "showlegend": true,
         "type": "scatter3d",
         "x": [
          -0.19228380918502808
         ],
         "y": [
          0.5392637848854065
         ],
         "z": [
          0.031048405915498734
         ]
        },
        {
         "hovertemplate": "color=from<br>0=%{x}<br>1=%{y}<br>2=%{z}<extra></extra>",
         "legendgroup": "from",
         "marker": {
          "color": "#EF553B",
          "symbol": "circle"
         },
         "mode": "markers",
         "name": "from",
         "scene": "scene",
         "showlegend": true,
         "type": "scatter3d",
         "x": [
          0.1994655728340149
         ],
         "y": [
          0.23381000757217407
         ],
         "z": [
          0.11525517702102661
         ]
        },
        {
         "hovertemplate": "color=would<br>0=%{x}<br>1=%{y}<br>2=%{z}<extra></extra>",
         "legendgroup": "would",
         "marker": {
          "color": "#00cc96",
          "symbol": "circle"
         },
         "mode": "markers",
         "name": "would",
         "scene": "scene",
         "showlegend": true,
         "type": "scatter3d",
         "x": [
          -0.18812152743339539
         ],
         "y": [
          0.5420218706130981
         ],
         "z": [
          0.17273858189582825
         ]
        },
        {
         "hovertemplate": "color=were<br>0=%{x}<br>1=%{y}<br>2=%{z}<extra></extra>",
         "legendgroup": "were",
         "marker": {
          "color": "#ab63fa",
          "symbol": "circle"
         },
         "mode": "markers",
         "name": "were",
         "scene": "scene",
         "showlegend": true,
         "type": "scatter3d",
         "x": [
          0.15726083517074585
         ],
         "y": [
          0.35198545455932617
         ],
         "z": [
          0.020061783492565155
         ]
        },
        {
         "hovertemplate": "color=me<br>0=%{x}<br>1=%{y}<br>2=%{z}<extra></extra>",
         "legendgroup": "me",
         "marker": {
          "color": "#FFA15A",
          "symbol": "circle"
         },
         "mode": "markers",
         "name": "me",
         "scene": "scene",
         "showlegend": true,
         "type": "scatter3d",
         "x": [
          -0.28394201397895813
         ],
         "y": [
          0.6245056390762329
         ],
         "z": [
          0.09519476443529129
         ]
        },
        {
         "hovertemplate": "color=your<br>0=%{x}<br>1=%{y}<br>2=%{z}<extra></extra>",
         "legendgroup": "your",
         "marker": {
          "color": "#19d3f3",
          "symbol": "circle"
         },
         "mode": "markers",
         "name": "your",
         "scene": "scene",
         "showlegend": true,
         "type": "scatter3d",
         "x": [
          -0.3139215111732483
         ],
         "y": [
          0.5314344763755798
         ],
         "z": [
          0.15024219453334808
         ]
        },
        {
         "hovertemplate": "color=one<br>0=%{x}<br>1=%{y}<br>2=%{z}<extra></extra>",
         "legendgroup": "one",
         "marker": {
          "color": "#FF6692",
          "symbol": "circle"
         },
         "mode": "markers",
         "name": "one",
         "scene": "scene",
         "showlegend": true,
         "type": "scatter3d",
         "x": [
          0.11752746254205704
         ],
         "y": [
          0.515076220035553
         ],
         "z": [
          0.06114477291703224
         ]
        },
        {
         "hovertemplate": "color=all<br>0=%{x}<br>1=%{y}<br>2=%{z}<extra></extra>",
         "legendgroup": "all",
         "marker": {
          "color": "#B6E880",
          "symbol": "circle"
         },
         "mode": "markers",
         "name": "all",
         "scene": "scene",
         "showlegend": true,
         "type": "scatter3d",
         "x": [
          -0.0228877030313015
         ],
         "y": [
          0.5695770382881165
         ],
         "z": [
          -0.02422155998647213
         ]
        },
        {
         "hovertemplate": "color=when<br>0=%{x}<br>1=%{y}<br>2=%{z}<extra></extra>",
         "legendgroup": "when",
         "marker": {
          "color": "#FF97FF",
          "symbol": "circle"
         },
         "mode": "markers",
         "name": "when",
         "scene": "scene",
         "showlegend": true,
         "type": "scatter3d",
         "x": [
          0.035334501415491104
         ],
         "y": [
          0.4769149720668793
         ],
         "z": [
          0.17932377755641937
         ]
        },
        {
         "hovertemplate": "color=will<br>0=%{x}<br>1=%{y}<br>2=%{z}<extra></extra>",
         "legendgroup": "will",
         "marker": {
          "color": "#FECB52",
          "symbol": "circle"
         },
         "mode": "markers",
         "name": "will",
         "scene": "scene",
         "showlegend": true,
         "type": "scatter3d",
         "x": [
          -0.3084581196308136
         ],
         "y": [
          0.5506304502487183
         ],
         "z": [
          0.13977168500423431
         ]
        },
        {
         "hovertemplate": "color=ser<br>0=%{x}<br>1=%{y}<br>2=%{z}<extra></extra>",
         "legendgroup": "ser",
         "marker": {
          "color": "#636efa",
          "symbol": "circle"
         },
         "mode": "markers",
         "name": "ser",
         "scene": "scene",
         "showlegend": true,
         "type": "scatter3d",
         "x": [
          -0.2981874942779541
         ],
         "y": [
          0.4001424312591553
         ],
         "z": [
          0.1680554896593094
         ]
        },
        {
         "hovertemplate": "color=if<br>0=%{x}<br>1=%{y}<br>2=%{z}<extra></extra>",
         "legendgroup": "if",
         "marker": {
          "color": "#EF553B",
          "symbol": "circle"
         },
         "mode": "markers",
         "name": "if",
         "scene": "scene",
         "showlegend": true,
         "type": "scatter3d",
         "x": [
          -0.18237894773483276
         ],
         "y": [
          0.63080233335495
         ],
         "z": [
          0.1721525341272354
         ]
        },
        {
         "hovertemplate": "color=so<br>0=%{x}<br>1=%{y}<br>2=%{z}<extra></extra>",
         "legendgroup": "so",
         "marker": {
          "color": "#00cc96",
          "symbol": "circle"
         },
         "mode": "markers",
         "name": "so",
         "scene": "scene",
         "showlegend": true,
         "type": "scatter3d",
         "x": [
          -0.015240110456943512
         ],
         "y": [
          0.5102943181991577
         ],
         "z": [
          0.14766904711723328
         ]
        },
        {
         "hovertemplate": "color=their<br>0=%{x}<br>1=%{y}<br>2=%{z}<extra></extra>",
         "legendgroup": "their",
         "marker": {
          "color": "#ab63fa",
          "symbol": "circle"
         },
         "mode": "markers",
         "name": "their",
         "scene": "scene",
         "showlegend": true,
         "type": "scatter3d",
         "x": [
          0.17958082258701324
         ],
         "y": [
          0.40166956186294556
         ],
         "z": [
          -0.16221506893634796
         ]
        },
        {
         "hovertemplate": "color=we<br>0=%{x}<br>1=%{y}<br>2=%{z}<extra></extra>",
         "legendgroup": "we",
         "marker": {
          "color": "#FFA15A",
          "symbol": "circle"
         },
         "mode": "markers",
         "name": "we",
         "scene": "scene",
         "showlegend": true,
         "type": "scatter3d",
         "x": [
          -0.09681229293346405
         ],
         "y": [
          0.7009590864181519
         ],
         "z": [
          -0.1026257798075676
         ]
        },
        {
         "hovertemplate": "color=could<br>0=%{x}<br>1=%{y}<br>2=%{z}<extra></extra>",
         "legendgroup": "could",
         "marker": {
          "color": "#19d3f3",
          "symbol": "circle"
         },
         "mode": "markers",
         "name": "could",
         "scene": "scene",
         "showlegend": true,
         "type": "scatter3d",
         "x": [
          0.04647182673215866
         ],
         "y": [
          0.415253221988678
         ],
         "z": [
          0.21022336184978485
         ]
        },
        {
         "hovertemplate": "color=are<br>0=%{x}<br>1=%{y}<br>2=%{z}<extra></extra>",
         "legendgroup": "are",
         "marker": {
          "color": "#FF6692",
          "symbol": "circle"
         },
         "mode": "markers",
         "name": "are",
         "scene": "scene",
         "showlegend": true,
         "type": "scatter3d",
         "x": [
          -0.2579488754272461
         ],
         "y": [
          0.4918808341026306
         ],
         "z": [
          -0.013374476693570614
         ]
        },
        {
         "hovertemplate": "color=man<br>0=%{x}<br>1=%{y}<br>2=%{z}<extra></extra>",
         "legendgroup": "man",
         "marker": {
          "color": "#B6E880",
          "symbol": "circle"
         },
         "mode": "markers",
         "name": "man",
         "scene": "scene",
         "showlegend": true,
         "type": "scatter3d",
         "x": [
          -0.014223534613847733
         ],
         "y": [
          0.42119845747947693
         ],
         "z": [
          0.06692417711019516
         ]
        },
        {
         "hovertemplate": "color=there<br>0=%{x}<br>1=%{y}<br>2=%{z}<extra></extra>",
         "legendgroup": "there",
         "marker": {
          "color": "#FF97FF",
          "symbol": "circle"
         },
         "mode": "markers",
         "name": "there",
         "scene": "scene",
         "showlegend": true,
         "type": "scatter3d",
         "x": [
          0.09176668524742126
         ],
         "y": [
          0.5196000933647156
         ],
         "z": [
          -0.010493367910385132
         ]
        },
        {
         "hovertemplate": "color=this<br>0=%{x}<br>1=%{y}<br>2=%{z}<extra></extra>",
         "legendgroup": "this",
         "marker": {
          "color": "#FECB52",
          "symbol": "circle"
         },
         "mode": "markers",
         "name": "this",
         "scene": "scene",
         "showlegend": true,
         "type": "scatter3d",
         "x": [
          -0.20887401700019836
         ],
         "y": [
          0.5905783176422119
         ],
         "z": [
          0.04681863263249397
         ]
        },
        {
         "hovertemplate": "color=up<br>0=%{x}<br>1=%{y}<br>2=%{z}<extra></extra>",
         "legendgroup": "up",
         "marker": {
          "color": "#636efa",
          "symbol": "circle"
         },
         "mode": "markers",
         "name": "up",
         "scene": "scene",
         "showlegend": true,
         "type": "scatter3d",
         "x": [
          0.3639881908893585
         ],
         "y": [
          0.3121431767940521
         ],
         "z": [
          0.15595601499080658
         ]
        },
        {
         "hovertemplate": "color=been<br>0=%{x}<br>1=%{y}<br>2=%{z}<extra></extra>",
         "legendgroup": "been",
         "marker": {
          "color": "#EF553B",
          "symbol": "circle"
         },
         "mode": "markers",
         "name": "been",
         "scene": "scene",
         "showlegend": true,
         "type": "scatter3d",
         "x": [
          -0.021559949964284897
         ],
         "y": [
          0.44706717133522034
         ],
         "z": [
          0.11326153576374054
         ]
        },
        {
         "hovertemplate": "color=what<br>0=%{x}<br>1=%{y}<br>2=%{z}<extra></extra>",
         "legendgroup": "what",
         "marker": {
          "color": "#00cc96",
          "symbol": "circle"
         },
         "mode": "markers",
         "name": "what",
         "scene": "scene",
         "showlegend": true,
         "type": "scatter3d",
         "x": [
          -0.17043134570121765
         ],
         "y": [
          0.5776320099830627
         ],
         "z": [
          0.031048709526658058
         ]
        },
        {
         "hovertemplate": "color=did<br>0=%{x}<br>1=%{y}<br>2=%{z}<extra></extra>",
         "legendgroup": "did",
         "marker": {
          "color": "#ab63fa",
          "symbol": "circle"
         },
         "mode": "markers",
         "name": "did",
         "scene": "scene",
         "showlegend": true,
         "type": "scatter3d",
         "x": [
          -0.18053214251995087
         ],
         "y": [
          0.4684845209121704
         ],
         "z": [
          0.2817254662513733
         ]
        },
        {
         "hovertemplate": "color=by<br>0=%{x}<br>1=%{y}<br>2=%{z}<extra></extra>",
         "legendgroup": "by",
         "marker": {
          "color": "#FFA15A",
          "symbol": "circle"
         },
         "mode": "markers",
         "name": "by",
         "scene": "scene",
         "showlegend": true,
         "type": "scatter3d",
         "x": [
          0.05750511214137077
         ],
         "y": [
          0.3352034389972687
         ],
         "z": [
          0.028882237151265144
         ]
        },
        {
         "hovertemplate": "color=king<br>0=%{x}<br>1=%{y}<br>2=%{z}<extra></extra>",
         "legendgroup": "king",
         "marker": {
          "color": "#19d3f3",
          "symbol": "circle"
         },
         "mode": "markers",
         "name": "king",
         "scene": "scene",
         "showlegend": true,
         "type": "scatter3d",
         "x": [
          -0.18291832506656647
         ],
         "y": [
          0.6376837491989136
         ],
         "z": [
          0.025318577885627747
         ]
        },
        {
         "hovertemplate": "color=do<br>0=%{x}<br>1=%{y}<br>2=%{z}<extra></extra>",
         "legendgroup": "do",
         "marker": {
          "color": "#FF6692",
          "symbol": "circle"
         },
         "mode": "markers",
         "name": "do",
         "scene": "scene",
         "showlegend": true,
         "type": "scatter3d",
         "x": [
          -0.3218258321285248
         ],
         "y": [
          0.5895270705223083
         ],
         "z": [
          0.2036207765340805
         ]
        },
        {
         "hovertemplate": "color=men<br>0=%{x}<br>1=%{y}<br>2=%{z}<extra></extra>",
         "legendgroup": "men",
         "marker": {
          "color": "#B6E880",
          "symbol": "circle"
         },
         "mode": "markers",
         "name": "men",
         "scene": "scene",
         "showlegend": true,
         "type": "scatter3d",
         "x": [
          0.08430412411689758
         ],
         "y": [
          0.5748408436775208
         ],
         "z": [
          -0.24777528643608093
         ]
        },
        {
         "hovertemplate": "color=back<br>0=%{x}<br>1=%{y}<br>2=%{z}<extra></extra>",
         "legendgroup": "back",
         "marker": {
          "color": "#FF97FF",
          "symbol": "circle"
         },
         "mode": "markers",
         "name": "back",
         "scene": "scene",
         "showlegend": true,
         "type": "scatter3d",
         "x": [
          0.27948474884033203
         ],
         "y": [
          0.4231473207473755
         ],
         "z": [
          0.29525700211524963
         ]
        },
        {
         "hovertemplate": "color=out<br>0=%{x}<br>1=%{y}<br>2=%{z}<extra></extra>",
         "legendgroup": "out",
         "marker": {
          "color": "#FECB52",
          "symbol": "circle"
         },
         "mode": "markers",
         "name": "out",
         "scene": "scene",
         "showlegend": true,
         "type": "scatter3d",
         "x": [
          0.2602722942829132
         ],
         "y": [
          0.3537357449531555
         ],
         "z": [
          0.17678101360797882
         ]
        },
        {
         "hovertemplate": "color=more<br>0=%{x}<br>1=%{y}<br>2=%{z}<extra></extra>",
         "legendgroup": "more",
         "marker": {
          "color": "#636efa",
          "symbol": "circle"
         },
         "mode": "markers",
         "name": "more",
         "scene": "scene",
         "showlegend": true,
         "type": "scatter3d",
         "x": [
          -0.06073141470551491
         ],
         "y": [
          0.5072287917137146
         ],
         "z": [
          -0.005315207410603762
         ]
        },
        {
         "hovertemplate": "color=or<br>0=%{x}<br>1=%{y}<br>2=%{z}<extra></extra>",
         "legendgroup": "or",
         "marker": {
          "color": "#EF553B",
          "symbol": "circle"
         },
         "mode": "markers",
         "name": "or",
         "scene": "scene",
         "showlegend": true,
         "type": "scatter3d",
         "x": [
          -0.1319597363471985
         ],
         "y": [
          0.5598796010017395
         ],
         "z": [
          0.05737762898206711
         ]
        },
        {
         "hovertemplate": "color=who<br>0=%{x}<br>1=%{y}<br>2=%{z}<extra></extra>",
         "legendgroup": "who",
         "marker": {
          "color": "#00cc96",
          "symbol": "circle"
         },
         "mode": "markers",
         "name": "who",
         "scene": "scene",
         "showlegend": true,
         "type": "scatter3d",
         "x": [
          -0.1922338455915451
         ],
         "y": [
          0.5727184414863586
         ],
         "z": [
          -0.09683969616889954
         ]
        },
        {
         "hovertemplate": "color=down<br>0=%{x}<br>1=%{y}<br>2=%{z}<extra></extra>",
         "legendgroup": "down",
         "marker": {
          "color": "#ab63fa",
          "symbol": "circle"
         },
         "mode": "markers",
         "name": "down",
         "scene": "scene",
         "showlegend": true,
         "type": "scatter3d",
         "x": [
          0.433865487575531
         ],
         "y": [
          0.3264569044113159
         ],
         "z": [
          0.21727967262268066
         ]
        },
        {
         "hovertemplate": "color=well<br>0=%{x}<br>1=%{y}<br>2=%{z}<extra></extra>",
         "legendgroup": "well",
         "marker": {
          "color": "#FFA15A",
          "symbol": "circle"
         },
         "mode": "markers",
         "name": "well",
         "scene": "scene",
         "showlegend": true,
         "type": "scatter3d",
         "x": [
          -0.11494104564189911
         ],
         "y": [
          0.5424385070800781
         ],
         "z": [
          0.05520528927445412
         ]
        },
        {
         "hovertemplate": "color=than<br>0=%{x}<br>1=%{y}<br>2=%{z}<extra></extra>",
         "legendgroup": "than",
         "marker": {
          "color": "#19d3f3",
          "symbol": "circle"
         },
         "mode": "markers",
         "name": "than",
         "scene": "scene",
         "showlegend": true,
         "type": "scatter3d",
         "x": [
          -0.05865815654397011
         ],
         "y": [
          0.4138600528240204
         ],
         "z": [
          0.1176728904247284
         ]
        },
        {
         "hovertemplate": "color=only<br>0=%{x}<br>1=%{y}<br>2=%{z}<extra></extra>",
         "legendgroup": "only",
         "marker": {
          "color": "#FF6692",
          "symbol": "circle"
         },
         "mode": "markers",
         "name": "only",
         "scene": "scene",
         "showlegend": true,
         "type": "scatter3d",
         "x": [
          -0.0941668227314949
         ],
         "y": [
          0.5158618688583374
         ],
         "z": [
          0.015833711251616478
         ]
        },
        {
         "hovertemplate": "color=like<br>0=%{x}<br>1=%{y}<br>2=%{z}<extra></extra>",
         "legendgroup": "like",
         "marker": {
          "color": "#B6E880",
          "symbol": "circle"
         },
         "mode": "markers",
         "name": "like",
         "scene": "scene",
         "showlegend": true,
         "type": "scatter3d",
         "x": [
          0.11107635498046875
         ],
         "y": [
          0.2600138783454895
         ],
         "z": [
          0.18091176450252533
         ]
        },
        {
         "hovertemplate": "color=jon<br>0=%{x}<br>1=%{y}<br>2=%{z}<extra></extra>",
         "legendgroup": "jon",
         "marker": {
          "color": "#FF97FF",
          "symbol": "circle"
         },
         "mode": "markers",
         "name": "jon",
         "scene": "scene",
         "showlegend": true,
         "type": "scatter3d",
         "x": [
          0.04046719893813133
         ],
         "y": [
          0.34386539459228516
         ],
         "z": [
          0.140787273645401
         ]
        },
        {
         "hovertemplate": "color=some<br>0=%{x}<br>1=%{y}<br>2=%{z}<extra></extra>",
         "legendgroup": "some",
         "marker": {
          "color": "#FECB52",
          "symbol": "circle"
         },
         "mode": "markers",
         "name": "some",
         "scene": "scene",
         "showlegend": true,
         "type": "scatter3d",
         "x": [
          0.03789369761943817
         ],
         "y": [
          0.4449167251586914
         ],
         "z": [
          -0.11444739997386932
         ]
        },
        {
         "hovertemplate": "color=father<br>0=%{x}<br>1=%{y}<br>2=%{z}<extra></extra>",
         "legendgroup": "father",
         "marker": {
          "color": "#636efa",
          "symbol": "circle"
         },
         "mode": "markers",
         "name": "father",
         "scene": "scene",
         "showlegend": true,
         "type": "scatter3d",
         "x": [
          -0.23989377915859222
         ],
         "y": [
          0.6717390418052673
         ],
         "z": [
          0.14424870908260345
         ]
        },
        {
         "hovertemplate": "color=old<br>0=%{x}<br>1=%{y}<br>2=%{z}<extra></extra>",
         "legendgroup": "old",
         "marker": {
          "color": "#EF553B",
          "symbol": "circle"
         },
         "mode": "markers",
         "name": "old",
         "scene": "scene",
         "showlegend": true,
         "type": "scatter3d",
         "x": [
          -0.032800186425447464
         ],
         "y": [
          0.4032124876976013
         ],
         "z": [
          0.022020353004336357
         ]
        },
        {
         "hovertemplate": "color=hand<br>0=%{x}<br>1=%{y}<br>2=%{z}<extra></extra>",
         "legendgroup": "hand",
         "marker": {
          "color": "#00cc96",
          "symbol": "circle"
         },
         "mode": "markers",
         "name": "hand",
         "scene": "scene",
         "showlegend": true,
         "type": "scatter3d",
         "x": [
          0.17758525907993317
         ],
         "y": [
          0.4440845847129822
         ],
         "z": [
          0.3384004831314087
         ]
        },
        {
         "hovertemplate": "color=even<br>0=%{x}<br>1=%{y}<br>2=%{z}<extra></extra>",
         "legendgroup": "even",
         "marker": {
          "color": "#ab63fa",
          "symbol": "circle"
         },
         "mode": "markers",
         "name": "even",
         "scene": "scene",
         "showlegend": true,
         "type": "scatter3d",
         "x": [
          -0.021473456174135208
         ],
         "y": [
          0.4571755528450012
         ],
         "z": [
          0.016423480585217476
         ]
        },
        {
         "hovertemplate": "color=too<br>0=%{x}<br>1=%{y}<br>2=%{z}<extra></extra>",
         "legendgroup": "too",
         "marker": {
          "color": "#FFA15A",
          "symbol": "circle"
         },
         "mode": "markers",
         "name": "too",
         "scene": "scene",
         "showlegend": true,
         "type": "scatter3d",
         "x": [
          -0.09468769282102585
         ],
         "y": [
          0.4295097291469574
         ],
         "z": [
          0.11849453300237656
         ]
        },
        {
         "hovertemplate": "color=tyrion<br>0=%{x}<br>1=%{y}<br>2=%{z}<extra></extra>",
         "legendgroup": "tyrion",
         "marker": {
          "color": "#19d3f3",
          "symbol": "circle"
         },
         "mode": "markers",
         "name": "tyrion",
         "scene": "scene",
         "showlegend": true,
         "type": "scatter3d",
         "x": [
          -0.04493232071399689
         ],
         "y": [
          0.2876340448856354
         ],
         "z": [
          0.18479745090007782
         ]
        },
        {
         "hovertemplate": "color=before<br>0=%{x}<br>1=%{y}<br>2=%{z}<extra></extra>",
         "legendgroup": "before",
         "marker": {
          "color": "#FF6692",
          "symbol": "circle"
         },
         "mode": "markers",
         "name": "before",
         "scene": "scene",
         "showlegend": true,
         "type": "scatter3d",
         "x": [
          0.020222371444106102
         ],
         "y": [
          0.5077998638153076
         ],
         "z": [
          0.18062540888786316
         ]
        },
        {
         "hovertemplate": "color=never<br>0=%{x}<br>1=%{y}<br>2=%{z}<extra></extra>",
         "legendgroup": "never",
         "marker": {
          "color": "#B6E880",
          "symbol": "circle"
         },
         "mode": "markers",
         "name": "never",
         "scene": "scene",
         "showlegend": true,
         "type": "scatter3d",
         "x": [
          -0.21058452129364014
         ],
         "y": [
          0.5746226906776428
         ],
         "z": [
          0.10687390714883804
         ]
        },
        {
         "hovertemplate": "color=an<br>0=%{x}<br>1=%{y}<br>2=%{z}<extra></extra>",
         "legendgroup": "an",
         "marker": {
          "color": "#FF97FF",
          "symbol": "circle"
         },
         "mode": "markers",
         "name": "an",
         "scene": "scene",
         "showlegend": true,
         "type": "scatter3d",
         "x": [
          -0.0018945428309962153
         ],
         "y": [
          0.30025577545166016
         ],
         "z": [
          0.10301066935062408
         ]
        },
        {
         "hovertemplate": "color=off<br>0=%{x}<br>1=%{y}<br>2=%{z}<extra></extra>",
         "legendgroup": "off",
         "marker": {
          "color": "#FECB52",
          "symbol": "circle"
         },
         "mode": "markers",
         "name": "off",
         "scene": "scene",
         "showlegend": true,
         "type": "scatter3d",
         "x": [
          0.251926451921463
         ],
         "y": [
          0.28455451130867004
         ],
         "z": [
          0.24924688041210175
         ]
        },
        {
         "hovertemplate": "color=see<br>0=%{x}<br>1=%{y}<br>2=%{z}<extra></extra>",
         "legendgroup": "see",
         "marker": {
          "color": "#636efa",
          "symbol": "circle"
         },
         "mode": "markers",
         "name": "see",
         "scene": "scene",
         "showlegend": true,
         "type": "scatter3d",
         "x": [
          0.0034762772265821695
         ],
         "y": [
          0.5812755227088928
         ],
         "z": [
          0.27143555879592896
         ]
        },
        {
         "hovertemplate": "color=know<br>0=%{x}<br>1=%{y}<br>2=%{z}<extra></extra>",
         "legendgroup": "know",
         "marker": {
          "color": "#EF553B",
          "symbol": "circle"
         },
         "mode": "markers",
         "name": "know",
         "scene": "scene",
         "showlegend": true,
         "type": "scatter3d",
         "x": [
          -0.3115919232368469
         ],
         "y": [
          0.6425729393959045
         ],
         "z": [
          0.1563948392868042
         ]
        },
        {
         "hovertemplate": "color=into<br>0=%{x}<br>1=%{y}<br>2=%{z}<extra></extra>",
         "legendgroup": "into",
         "marker": {
          "color": "#00cc96",
          "symbol": "circle"
         },
         "mode": "markers",
         "name": "into",
         "scene": "scene",
         "showlegend": true,
         "type": "scatter3d",
         "x": [
          0.3076995015144348
         ],
         "y": [
          0.213404580950737
         ],
         "z": [
          0.24198943376541138
         ]
        },
        {
         "hovertemplate": "color=made<br>0=%{x}<br>1=%{y}<br>2=%{z}<extra></extra>",
         "legendgroup": "made",
         "marker": {
          "color": "#ab63fa",
          "symbol": "circle"
         },
         "mode": "markers",
         "name": "made",
         "scene": "scene",
         "showlegend": true,
         "type": "scatter3d",
         "x": [
          0.036596354097127914
         ],
         "y": [
          0.2912326157093048
         ],
         "z": [
          0.32298949360847473
         ]
        },
        {
         "hovertemplate": "color=now<br>0=%{x}<br>1=%{y}<br>2=%{z}<extra></extra>",
         "legendgroup": "now",
         "marker": {
          "color": "#FFA15A",
          "symbol": "circle"
         },
         "mode": "markers",
         "name": "now",
         "scene": "scene",
         "showlegend": true,
         "type": "scatter3d",
         "x": [
          -0.09766634553670883
         ],
         "y": [
          0.6380031704902649
         ],
         "z": [
          0.10913081467151642
         ]
        },
        {
         "hovertemplate": "color=eyes<br>0=%{x}<br>1=%{y}<br>2=%{z}<extra></extra>",
         "legendgroup": "eyes",
         "marker": {
          "color": "#19d3f3",
          "symbol": "circle"
         },
         "mode": "markers",
         "name": "eyes",
         "scene": "scene",
         "showlegend": true,
         "type": "scatter3d",
         "x": [
          0.21001103520393372
         ],
         "y": [
          0.36142998933792114
         ],
         "z": [
          0.25760263204574585
         ]
        },
        {
         "hovertemplate": "color=black<br>0=%{x}<br>1=%{y}<br>2=%{z}<extra></extra>",
         "legendgroup": "black",
         "marker": {
          "color": "#FF6692",
          "symbol": "circle"
         },
         "mode": "markers",
         "name": "black",
         "scene": "scene",
         "showlegend": true,
         "type": "scatter3d",
         "x": [
          0.3770141005516052
         ],
         "y": [
          0.24162238836288452
         ],
         "z": [
          0.02428194135427475
         ]
        },
        {
         "hovertemplate": "color=told<br>0=%{x}<br>1=%{y}<br>2=%{z}<extra></extra>",
         "legendgroup": "told",
         "marker": {
          "color": "#B6E880",
          "symbol": "circle"
         },
         "mode": "markers",
         "name": "told",
         "scene": "scene",
         "showlegend": true,
         "type": "scatter3d",
         "x": [
          -0.26688408851623535
         ],
         "y": [
          0.5584999918937683
         ],
         "z": [
          0.4076371490955353
         ]
        },
        {
         "hovertemplate": "color=lady<br>0=%{x}<br>1=%{y}<br>2=%{z}<extra></extra>",
         "legendgroup": "lady",
         "marker": {
          "color": "#FF97FF",
          "symbol": "circle"
         },
         "mode": "markers",
         "name": "lady",
         "scene": "scene",
         "showlegend": true,
         "type": "scatter3d",
         "x": [
          -0.30833858251571655
         ],
         "y": [
          0.4862702786922455
         ],
         "z": [
          0.15841162204742432
         ]
        },
        {
         "hovertemplate": "color=thought<br>0=%{x}<br>1=%{y}<br>2=%{z}<extra></extra>",
         "legendgroup": "thought",
         "marker": {
          "color": "#FECB52",
          "symbol": "circle"
         },
         "mode": "markers",
         "name": "thought",
         "scene": "scene",
         "showlegend": true,
         "type": "scatter3d",
         "x": [
          -0.1483142226934433
         ],
         "y": [
          0.5686548948287964
         ],
         "z": [
          0.40386536717414856
         ]
        },
        {
         "hovertemplate": "color=time<br>0=%{x}<br>1=%{y}<br>2=%{z}<extra></extra>",
         "legendgroup": "time",
         "marker": {
          "color": "#636efa",
          "symbol": "circle"
         },
         "mode": "markers",
         "name": "time",
         "scene": "scene",
         "showlegend": true,
         "type": "scatter3d",
         "x": [
          0.11577992141246796
         ],
         "y": [
          0.5800946354866028
         ],
         "z": [
          0.1884896457195282
         ]
        },
        {
         "hovertemplate": "color=then<br>0=%{x}<br>1=%{y}<br>2=%{z}<extra></extra>",
         "legendgroup": "then",
         "marker": {
          "color": "#EF553B",
          "symbol": "circle"
         },
         "mode": "markers",
         "name": "then",
         "scene": "scene",
         "showlegend": true,
         "type": "scatter3d",
         "x": [
          0.2240660935640335
         ],
         "y": [
          0.40923425555229187
         ],
         "z": [
          0.3307499289512634
         ]
        },
        {
         "hovertemplate": "color=how<br>0=%{x}<br>1=%{y}<br>2=%{z}<extra></extra>",
         "legendgroup": "how",
         "marker": {
          "color": "#00cc96",
          "symbol": "circle"
         },
         "mode": "markers",
         "name": "how",
         "scene": "scene",
         "showlegend": true,
         "type": "scatter3d",
         "x": [
          -0.17486442625522614
         ],
         "y": [
          0.5215857625007629
         ],
         "z": [
          0.08703231066465378
         ]
        },
        {
         "hovertemplate": "color=long<br>0=%{x}<br>1=%{y}<br>2=%{z}<extra></extra>",
         "legendgroup": "long",
         "marker": {
          "color": "#ab63fa",
          "symbol": "circle"
         },
         "mode": "markers",
         "name": "long",
         "scene": "scene",
         "showlegend": true,
         "type": "scatter3d",
         "x": [
          0.20967359840869904
         ],
         "y": [
          0.39188817143440247
         ],
         "z": [
          0.08375949412584305
         ]
        },
        {
         "hovertemplate": "color=has<br>0=%{x}<br>1=%{y}<br>2=%{z}<extra></extra>",
         "legendgroup": "has",
         "marker": {
          "color": "#FFA15A",
          "symbol": "circle"
         },
         "mode": "markers",
         "name": "has",
         "scene": "scene",
         "showlegend": true,
         "type": "scatter3d",
         "x": [
          -0.3577197194099426
         ],
         "y": [
          0.4977741837501526
         ],
         "z": [
          0.056785956025123596
         ]
        },
        {
         "hovertemplate": "color=can<br>0=%{x}<br>1=%{y}<br>2=%{z}<extra></extra>",
         "legendgroup": "can",
         "marker": {
          "color": "#19d3f3",
          "symbol": "circle"
         },
         "mode": "markers",
         "name": "can",
         "scene": "scene",
         "showlegend": true,
         "type": "scatter3d",
         "x": [
          -0.22305966913700104
         ],
         "y": [
          0.4802670478820801
         ],
         "z": [
          0.14130181074142456
         ]
        },
        {
         "hovertemplate": "color=might<br>0=%{x}<br>1=%{y}<br>2=%{z}<extra></extra>",
         "legendgroup": "might",
         "marker": {
          "color": "#FF6692",
          "symbol": "circle"
         },
         "mode": "markers",
         "name": "might",
         "scene": "scene",
         "showlegend": true,
         "type": "scatter3d",
         "x": [
          -0.21196886897087097
         ],
         "y": [
          0.47297340631484985
         ],
         "z": [
          0.15162113308906555
         ]
        },
        {
         "hovertemplate": "color=us<br>0=%{x}<br>1=%{y}<br>2=%{z}<extra></extra>",
         "legendgroup": "us",
         "marker": {
          "color": "#B6E880",
          "symbol": "circle"
         },
         "mode": "markers",
         "name": "us",
         "scene": "scene",
         "showlegend": true,
         "type": "scatter3d",
         "x": [
          -0.1645154505968094
         ],
         "y": [
          0.690585196018219
         ],
         "z": [
          -0.09292189031839371
         ]
        },
        {
         "hovertemplate": "color=come<br>0=%{x}<br>1=%{y}<br>2=%{z}<extra></extra>",
         "legendgroup": "come",
         "marker": {
          "color": "#FF97FF",
          "symbol": "circle"
         },
         "mode": "markers",
         "name": "come",
         "scene": "scene",
         "showlegend": true,
         "type": "scatter3d",
         "x": [
          -0.06749629229307175
         ],
         "y": [
          0.7186283469200134
         ],
         "z": [
          0.18295107781887054
         ]
        },
        {
         "hovertemplate": "color=where<br>0=%{x}<br>1=%{y}<br>2=%{z}<extra></extra>",
         "legendgroup": "where",
         "marker": {
          "color": "#FECB52",
          "symbol": "circle"
         },
         "mode": "markers",
         "name": "where",
         "scene": "scene",
         "showlegend": true,
         "type": "scatter3d",
         "x": [
          0.21412082016468048
         ],
         "y": [
          0.45150309801101685
         ],
         "z": [
          0.007587813772261143
         ]
        },
        {
         "hovertemplate": "color=here<br>0=%{x}<br>1=%{y}<br>2=%{z}<extra></extra>",
         "legendgroup": "here",
         "marker": {
          "color": "#636efa",
          "symbol": "circle"
         },
         "mode": "markers",
         "name": "here",
         "scene": "scene",
         "showlegend": true,
         "type": "scatter3d",
         "x": [
          -0.05058415234088898
         ],
         "y": [
          0.6926970481872559
         ],
         "z": [
          -0.04759771749377251
         ]
        },
        {
         "hovertemplate": "color=through<br>0=%{x}<br>1=%{y}<br>2=%{z}<extra></extra>",
         "legendgroup": "through",
         "marker": {
          "color": "#EF553B",
          "symbol": "circle"
         },
         "mode": "markers",
         "name": "through",
         "scene": "scene",
         "showlegend": true,
         "type": "scatter3d",
         "x": [
          0.3900100886821747
         ],
         "y": [
          0.1495564877986908
         ],
         "z": [
          0.16456952691078186
         ]
        },
        {
         "hovertemplate": "color=still<br>0=%{x}<br>1=%{y}<br>2=%{z}<extra></extra>",
         "legendgroup": "still",
         "marker": {
          "color": "#00cc96",
          "symbol": "circle"
         },
         "mode": "markers",
         "name": "still",
         "scene": "scene",
         "showlegend": true,
         "type": "scatter3d",
         "x": [
          0.09666972607374191
         ],
         "y": [
          0.4275107979774475
         ],
         "z": [
          0.06112421676516533
         ]
        },
        {
         "hovertemplate": "color=face<br>0=%{x}<br>1=%{y}<br>2=%{z}<extra></extra>",
         "legendgroup": "face",
         "marker": {
          "color": "#ab63fa",
          "symbol": "circle"
         },
         "mode": "markers",
         "name": "face",
         "scene": "scene",
         "showlegend": true,
         "type": "scatter3d",
         "x": [
          0.2686687111854553
         ],
         "y": [
          0.3255239427089691
         ],
         "z": [
          0.3553539216518402
         ]
        },
        {
         "hovertemplate": "color=head<br>0=%{x}<br>1=%{y}<br>2=%{z}<extra></extra>",
         "legendgroup": "head",
         "marker": {
          "color": "#FFA15A",
          "symbol": "circle"
         },
         "mode": "markers",
         "name": "head",
         "scene": "scene",
         "showlegend": true,
         "type": "scatter3d",
         "x": [
          0.29329460859298706
         ],
         "y": [
          0.37960392236709595
         ],
         "z": [
          0.3666064441204071
         ]
        },
        {
         "hovertemplate": "color=red<br>0=%{x}<br>1=%{y}<br>2=%{z}<extra></extra>",
         "legendgroup": "red",
         "marker": {
          "color": "#19d3f3",
          "symbol": "circle"
         },
         "mode": "markers",
         "name": "red",
         "scene": "scene",
         "showlegend": true,
         "type": "scatter3d",
         "x": [
          0.2409975826740265
         ],
         "y": [
          0.21216589212417603
         ],
         "z": [
          0.022703781723976135
         ]
        },
        {
         "hovertemplate": "color=ll<br>0=%{x}<br>1=%{y}<br>2=%{z}<extra></extra>",
         "legendgroup": "ll",
         "marker": {
          "color": "#FF6692",
          "symbol": "circle"
         },
         "mode": "markers",
         "name": "ll",
         "scene": "scene",
         "showlegend": true,
         "type": "scatter3d",
         "x": [
          -0.15465308725833893
         ],
         "y": [
          0.4367485046386719
         ],
         "z": [
          0.23481963574886322
         ]
        },
        {
         "hovertemplate": "color=way<br>0=%{x}<br>1=%{y}<br>2=%{z}<extra></extra>",
         "legendgroup": "way",
         "marker": {
          "color": "#B6E880",
          "symbol": "circle"
         },
         "mode": "markers",
         "name": "way",
         "scene": "scene",
         "showlegend": true,
         "type": "scatter3d",
         "x": [
          0.22819817066192627
         ],
         "y": [
          0.5583082437515259
         ],
         "z": [
          0.11557396501302719
         ]
        },
        {
         "hovertemplate": "color=boy<br>0=%{x}<br>1=%{y}<br>2=%{z}<extra></extra>",
         "legendgroup": "boy",
         "marker": {
          "color": "#FF97FF",
          "symbol": "circle"
         },
         "mode": "markers",
         "name": "boy",
         "scene": "scene",
         "showlegend": true,
         "type": "scatter3d",
         "x": [
          -0.14636825025081635
         ],
         "y": [
          0.3997276723384857
         ],
         "z": [
          0.186770960688591
         ]
        },
        {
         "hovertemplate": "color=page<br>0=%{x}<br>1=%{y}<br>2=%{z}<extra></extra>",
         "legendgroup": "page",
         "marker": {
          "color": "#FECB52",
          "symbol": "circle"
         },
         "mode": "markers",
         "name": "page",
         "scene": "scene",
         "showlegend": true,
         "type": "scatter3d",
         "x": [
          -0.12428335845470428
         ],
         "y": [
          0.39196187257766724
         ],
         "z": [
          0.2239680141210556
         ]
        },
        {
         "hovertemplate": "color=must<br>0=%{x}<br>1=%{y}<br>2=%{z}<extra></extra>",
         "legendgroup": "must",
         "marker": {
          "color": "#636efa",
          "symbol": "circle"
         },
         "mode": "markers",
         "name": "must",
         "scene": "scene",
         "showlegend": true,
         "type": "scatter3d",
         "x": [
          -0.31724998354911804
         ],
         "y": [
          0.5342403650283813
         ],
         "z": [
          0.12584753334522247
         ]
        },
        {
         "hovertemplate": "color=once<br>0=%{x}<br>1=%{y}<br>2=%{z}<extra></extra>",
         "legendgroup": "once",
         "marker": {
          "color": "#EF553B",
          "symbol": "circle"
         },
         "mode": "markers",
         "name": "once",
         "scene": "scene",
         "showlegend": true,
         "type": "scatter3d",
         "x": [
          0.014594883657991886
         ],
         "y": [
          0.5257458686828613
         ],
         "z": [
          0.11063745617866516
         ]
        },
        {
         "hovertemplate": "color=queen<br>0=%{x}<br>1=%{y}<br>2=%{z}<extra></extra>",
         "legendgroup": "queen",
         "marker": {
          "color": "#00cc96",
          "symbol": "circle"
         },
         "mode": "markers",
         "name": "queen",
         "scene": "scene",
         "showlegend": true,
         "type": "scatter3d",
         "x": [
          -0.235700324177742
         ],
         "y": [
          0.5865128636360168
         ],
         "z": [
          0.05579710006713867
         ]
        },
        {
         "hovertemplate": "color=good<br>0=%{x}<br>1=%{y}<br>2=%{z}<extra></extra>",
         "legendgroup": "good",
         "marker": {
          "color": "#ab63fa",
          "symbol": "circle"
         },
         "mode": "markers",
         "name": "good",
         "scene": "scene",
         "showlegend": true,
         "type": "scatter3d",
         "x": [
          -0.2995029389858246
         ],
         "y": [
          0.5697903037071228
         ],
         "z": [
          0.1080208495259285
         ]
        },
        {
         "hovertemplate": "color=two<br>0=%{x}<br>1=%{y}<br>2=%{z}<extra></extra>",
         "legendgroup": "two",
         "marker": {
          "color": "#FFA15A",
          "symbol": "circle"
         },
         "mode": "markers",
         "name": "two",
         "scene": "scene",
         "showlegend": true,
         "type": "scatter3d",
         "x": [
          0.2559717297554016
         ],
         "y": [
          0.4218555986881256
         ],
         "z": [
          -0.09958461672067642
         ]
        },
        {
         "hovertemplate": "color=brother<br>0=%{x}<br>1=%{y}<br>2=%{z}<extra></extra>",
         "legendgroup": "brother",
         "marker": {
          "color": "#19d3f3",
          "symbol": "circle"
         },
         "mode": "markers",
         "name": "brother",
         "scene": "scene",
         "showlegend": true,
         "type": "scatter3d",
         "x": [
          -0.2890172004699707
         ],
         "y": [
          0.630500853061676
         ],
         "z": [
          0.18520605564117432
         ]
        },
        {
         "hovertemplate": "color=night<br>0=%{x}<br>1=%{y}<br>2=%{z}<extra></extra>",
         "legendgroup": "night",
         "marker": {
          "color": "#FF6692",
          "symbol": "circle"
         },
         "mode": "markers",
         "name": "night",
         "scene": "scene",
         "showlegend": true,
         "type": "scatter3d",
         "x": [
          0.14541764557361603
         ],
         "y": [
          0.5923211574554443
         ],
         "z": [
          0.05041663721203804
         ]
        },
        {
         "hovertemplate": "color=over<br>0=%{x}<br>1=%{y}<br>2=%{z}<extra></extra>",
         "legendgroup": "over",
         "marker": {
          "color": "#B6E880",
          "symbol": "circle"
         },
         "mode": "markers",
         "name": "over",
         "scene": "scene",
         "showlegend": true,
         "type": "scatter3d",
         "x": [
          0.3856089115142822
         ],
         "y": [
          0.14119404554367065
         ],
         "z": [
          0.2666385769844055
         ]
        },
        {
         "hovertemplate": "color=little<br>0=%{x}<br>1=%{y}<br>2=%{z}<extra></extra>",
         "legendgroup": "little",
         "marker": {
          "color": "#FF97FF",
          "symbol": "circle"
         },
         "mode": "markers",
         "name": "little",
         "scene": "scene",
         "showlegend": true,
         "type": "scatter3d",
         "x": [
          -0.05190040171146393
         ],
         "y": [
          0.35767027735710144
         ],
         "z": [
          0.17742377519607544
         ]
        },
        {
         "hovertemplate": "color=about<br>0=%{x}<br>1=%{y}<br>2=%{z}<extra></extra>",
         "legendgroup": "about",
         "marker": {
          "color": "#FECB52",
          "symbol": "circle"
         },
         "mode": "markers",
         "name": "about",
         "scene": "scene",
         "showlegend": true,
         "type": "scatter3d",
         "x": [
          -0.12556664645671844
         ],
         "y": [
          0.2557655870914459
         ],
         "z": [
          0.2053852528333664
         ]
        },
        {
         "hovertemplate": "color=took<br>0=%{x}<br>1=%{y}<br>2=%{z}<extra></extra>",
         "legendgroup": "took",
         "marker": {
          "color": "#636efa",
          "symbol": "circle"
         },
         "mode": "markers",
         "name": "took",
         "scene": "scene",
         "showlegend": true,
         "type": "scatter3d",
         "x": [
          0.03688138723373413
         ],
         "y": [
          0.37282663583755493
         ],
         "z": [
          0.48885831236839294
         ]
        },
        {
         "hovertemplate": "color=other<br>0=%{x}<br>1=%{y}<br>2=%{z}<extra></extra>",
         "legendgroup": "other",
         "marker": {
          "color": "#EF553B",
          "symbol": "circle"
         },
         "mode": "markers",
         "name": "other",
         "scene": "scene",
         "showlegend": true,
         "type": "scatter3d",
         "x": [
          0.10909184068441391
         ],
         "y": [
          0.45006513595581055
         ],
         "z": [
          -0.04267744719982147
         ]
        },
        {
         "hovertemplate": "color=came<br>0=%{x}<br>1=%{y}<br>2=%{z}<extra></extra>",
         "legendgroup": "came",
         "marker": {
          "color": "#00cc96",
          "symbol": "circle"
         },
         "mode": "markers",
         "name": "came",
         "scene": "scene",
         "showlegend": true,
         "type": "scatter3d",
         "x": [
          0.20383363962173462
         ],
         "y": [
          0.39071932435035706
         ],
         "z": [
          0.3105682134628296
         ]
        },
        {
         "hovertemplate": "color=though<br>0=%{x}<br>1=%{y}<br>2=%{z}<extra></extra>",
         "legendgroup": "though",
         "marker": {
          "color": "#ab63fa",
          "symbol": "circle"
         },
         "mode": "markers",
         "name": "though",
         "scene": "scene",
         "showlegend": true,
         "type": "scatter3d",
         "x": [
          -0.05740705505013466
         ],
         "y": [
          0.471815288066864
         ],
         "z": [
          0.07890378683805466
         ]
        },
        {
         "hovertemplate": "color=again<br>0=%{x}<br>1=%{y}<br>2=%{z}<extra></extra>",
         "legendgroup": "again",
         "marker": {
          "color": "#FFA15A",
          "symbol": "circle"
         },
         "mode": "markers",
         "name": "again",
         "scene": "scene",
         "showlegend": true,
         "type": "scatter3d",
         "x": [
          0.18735364079475403
         ],
         "y": [
          0.3926796019077301
         ],
         "z": [
          0.3428765833377838
         ]
        },
        {
         "hovertemplate": "color=say<br>0=%{x}<br>1=%{y}<br>2=%{z}<extra></extra>",
         "legendgroup": "say",
         "marker": {
          "color": "#19d3f3",
          "symbol": "circle"
         },
         "mode": "markers",
         "name": "say",
         "scene": "scene",
         "showlegend": true,
         "type": "scatter3d",
         "x": [
          -0.3119700253009796
         ],
         "y": [
          0.6238589286804199
         ],
         "z": [
          0.27409160137176514
         ]
        },
        {
         "hovertemplate": "color=three<br>0=%{x}<br>1=%{y}<br>2=%{z}<extra></extra>",
         "legendgroup": "three",
         "marker": {
          "color": "#FF6692",
          "symbol": "circle"
         },
         "mode": "markers",
         "name": "three",
         "scene": "scene",
         "showlegend": true,
         "type": "scatter3d",
         "x": [
          0.13393272459506989
         ],
         "y": [
          0.4434288442134857
         ],
         "z": [
          -0.15659359097480774
         ]
        },
        {
         "hovertemplate": "color=should<br>0=%{x}<br>1=%{y}<br>2=%{z}<extra></extra>",
         "legendgroup": "should",
         "marker": {
          "color": "#B6E880",
          "symbol": "circle"
         },
         "mode": "markers",
         "name": "should",
         "scene": "scene",
         "showlegend": true,
         "type": "scatter3d",
         "x": [
          -0.3157036006450653
         ],
         "y": [
          0.530039370059967
         ],
         "z": [
          0.15302631258964539
         ]
        },
        {
         "hovertemplate": "color=away<br>0=%{x}<br>1=%{y}<br>2=%{z}<extra></extra>",
         "legendgroup": "away",
         "marker": {
          "color": "#FF97FF",
          "symbol": "circle"
         },
         "mode": "markers",
         "name": "away",
         "scene": "scene",
         "showlegend": true,
         "type": "scatter3d",
         "x": [
          0.2353319376707077
         ],
         "y": [
          0.40120893716812134
         ],
         "z": [
          0.2525297701358795
         ]
        },
        {
         "hovertemplate": "color=dead<br>0=%{x}<br>1=%{y}<br>2=%{z}<extra></extra>",
         "legendgroup": "dead",
         "marker": {
          "color": "#FECB52",
          "symbol": "circle"
         },
         "mode": "markers",
         "name": "dead",
         "scene": "scene",
         "showlegend": true,
         "type": "scatter3d",
         "x": [
          0.10582470148801804
         ],
         "y": [
          0.5422067046165466
         ],
         "z": [
          0.12063881754875183
         ]
        },
        {
         "hovertemplate": "color=son<br>0=%{x}<br>1=%{y}<br>2=%{z}<extra></extra>",
         "legendgroup": "son",
         "marker": {
          "color": "#636efa",
          "symbol": "circle"
         },
         "mode": "markers",
         "name": "son",
         "scene": "scene",
         "showlegend": true,
         "type": "scatter3d",
         "x": [
          -0.3316395580768585
         ],
         "y": [
          0.5122151970863342
         ],
         "z": [
          0.15612688660621643
         ]
        },
        {
         "hovertemplate": "color=own<br>0=%{x}<br>1=%{y}<br>2=%{z}<extra></extra>",
         "legendgroup": "own",
         "marker": {
          "color": "#EF553B",
          "symbol": "circle"
         },
         "mode": "markers",
         "name": "own",
         "scene": "scene",
         "showlegend": true,
         "type": "scatter3d",
         "x": [
          -0.11643391847610474
         ],
         "y": [
          0.5692628026008606
         ],
         "z": [
          0.12217716872692108
         ]
        },
        {
         "hovertemplate": "color=blood<br>0=%{x}<br>1=%{y}<br>2=%{z}<extra></extra>",
         "legendgroup": "blood",
         "marker": {
          "color": "#00cc96",
          "symbol": "circle"
         },
         "mode": "markers",
         "name": "blood",
         "scene": "scene",
         "showlegend": true,
         "type": "scatter3d",
         "x": [
          0.23017218708992004
         ],
         "y": [
          0.41381245851516724
         ],
         "z": [
          0.15622323751449585
         ]
        },
        {
         "hovertemplate": "color=am<br>0=%{x}<br>1=%{y}<br>2=%{z}<extra></extra>",
         "legendgroup": "am",
         "marker": {
          "color": "#ab63fa",
          "symbol": "circle"
         },
         "mode": "markers",
         "name": "am",
         "scene": "scene",
         "showlegend": true,
         "type": "scatter3d",
         "x": [
          -0.40570393204689026
         ],
         "y": [
          0.5120332837104797
         ],
         "z": [
          0.14328168332576752
         ]
        },
        {
         "hovertemplate": "color=take<br>0=%{x}<br>1=%{y}<br>2=%{z}<extra></extra>",
         "legendgroup": "take",
         "marker": {
          "color": "#FFA15A",
          "symbol": "circle"
         },
         "mode": "markers",
         "name": "take",
         "scene": "scene",
         "showlegend": true,
         "type": "scatter3d",
         "x": [
          -0.1949397772550583
         ],
         "y": [
          0.6752000451087952
         ],
         "z": [
          0.31257203221321106
         ]
        },
        {
         "hovertemplate": "color=go<br>0=%{x}<br>1=%{y}<br>2=%{z}<extra></extra>",
         "legendgroup": "go",
         "marker": {
          "color": "#19d3f3",
          "symbol": "circle"
         },
         "mode": "markers",
         "name": "go",
         "scene": "scene",
         "showlegend": true,
         "type": "scatter3d",
         "x": [
          -0.009092000313103199
         ],
         "y": [
          0.6408566236495972
         ],
         "z": [
          0.28968381881713867
         ]
        },
        {
         "hovertemplate": "color=half<br>0=%{x}<br>1=%{y}<br>2=%{z}<extra></extra>",
         "legendgroup": "half",
         "marker": {
          "color": "#FF6692",
          "symbol": "circle"
         },
         "mode": "markers",
         "name": "half",
         "scene": "scene",
         "showlegend": true,
         "type": "scatter3d",
         "x": [
          0.2249269187450409
         ],
         "y": [
          0.3975263833999634
         ],
         "z": [
          0.06955887377262115
         ]
        },
        {
         "hovertemplate": "color=make<br>0=%{x}<br>1=%{y}<br>2=%{z}<extra></extra>",
         "legendgroup": "make",
         "marker": {
          "color": "#B6E880",
          "symbol": "circle"
         },
         "mode": "markers",
         "name": "make",
         "scene": "scene",
         "showlegend": true,
         "type": "scatter3d",
         "x": [
          -0.2439320832490921
         ],
         "y": [
          0.5666266083717346
         ],
         "z": [
          0.264262318611145
         ]
        },
        {
         "hovertemplate": "color=arya<br>0=%{x}<br>1=%{y}<br>2=%{z}<extra></extra>",
         "legendgroup": "arya",
         "marker": {
          "color": "#FF97FF",
          "symbol": "circle"
         },
         "mode": "markers",
         "name": "arya",
         "scene": "scene",
         "showlegend": true,
         "type": "scatter3d",
         "x": [
          0.22263862192630768
         ],
         "y": [
          0.3162257671356201
         ],
         "z": [
          0.20495441555976868
         ]
        },
        {
         "hovertemplate": "color=saw<br>0=%{x}<br>1=%{y}<br>2=%{z}<extra></extra>",
         "legendgroup": "saw",
         "marker": {
          "color": "#FECB52",
          "symbol": "circle"
         },
         "mode": "markers",
         "name": "saw",
         "scene": "scene",
         "showlegend": true,
         "type": "scatter3d",
         "x": [
          0.18937157094478607
         ],
         "y": [
          0.3314436376094818
         ],
         "z": [
          0.3921051621437073
         ]
        },
        {
         "hovertemplate": "color=day<br>0=%{x}<br>1=%{y}<br>2=%{z}<extra></extra>",
         "legendgroup": "day",
         "marker": {
          "color": "#636efa",
          "symbol": "circle"
         },
         "mode": "markers",
         "name": "day",
         "scene": "scene",
         "showlegend": true,
         "type": "scatter3d",
         "x": [
          0.07337189465761185
         ],
         "y": [
          0.6418699622154236
         ],
         "z": [
          0.005979272536933422
         ]
        },
        {
         "hovertemplate": "color=white<br>0=%{x}<br>1=%{y}<br>2=%{z}<extra></extra>",
         "legendgroup": "white",
         "marker": {
          "color": "#EF553B",
          "symbol": "circle"
         },
         "mode": "markers",
         "name": "white",
         "scene": "scene",
         "showlegend": true,
         "type": "scatter3d",
         "x": [
          0.28714054822921753
         ],
         "y": [
          0.18700525164604187
         ],
         "z": [
          0.04731275886297226
         ]
        },
        {
         "hovertemplate": "color=jaime<br>0=%{x}<br>1=%{y}<br>2=%{z}<extra></extra>",
         "legendgroup": "jaime",
         "marker": {
          "color": "#00cc96",
          "symbol": "circle"
         },
         "mode": "markers",
         "name": "jaime",
         "scene": "scene",
         "showlegend": true,
         "type": "scatter3d",
         "x": [
          -0.07867861539125443
         ],
         "y": [
          0.4110112190246582
         ],
         "z": [
          0.17324236035346985
         ]
        },
        {
         "hovertemplate": "color=first<br>0=%{x}<br>1=%{y}<br>2=%{z}<extra></extra>",
         "legendgroup": "first",
         "marker": {
          "color": "#ab63fa",
          "symbol": "circle"
         },
         "mode": "markers",
         "name": "first",
         "scene": "scene",
         "showlegend": true,
         "type": "scatter3d",
         "x": [
          -0.013432621955871582
         ],
         "y": [
          0.5747061371803284
         ],
         "z": [
          0.08490835130214691
         ]
        },
        {
         "hovertemplate": "color=himself<br>0=%{x}<br>1=%{y}<br>2=%{z}<extra></extra>",
         "legendgroup": "himself",
         "marker": {
          "color": "#FFA15A",
          "symbol": "circle"
         },
         "mode": "markers",
         "name": "himself",
         "scene": "scene",
         "showlegend": true,
         "type": "scatter3d",
         "x": [
          0.01804979145526886
         ],
         "y": [
          0.41924744844436646
         ],
         "z": [
          0.17541863024234772
         ]
        },
        {
         "hovertemplate": "color=our<br>0=%{x}<br>1=%{y}<br>2=%{z}<extra></extra>",
         "legendgroup": "our",
         "marker": {
          "color": "#19d3f3",
          "symbol": "circle"
         },
         "mode": "markers",
         "name": "our",
         "scene": "scene",
         "showlegend": true,
         "type": "scatter3d",
         "x": [
          -0.2667118310928345
         ],
         "y": [
          0.576188862323761
         ],
         "z": [
          -0.0944611206650734
         ]
        },
        {
         "hovertemplate": "color=look<br>0=%{x}<br>1=%{y}<br>2=%{z}<extra></extra>",
         "legendgroup": "look",
         "marker": {
          "color": "#FF6692",
          "symbol": "circle"
         },
         "mode": "markers",
         "name": "look",
         "scene": "scene",
         "showlegend": true,
         "type": "scatter3d",
         "x": [
          0.045034993439912796
         ],
         "y": [
          0.4959551990032196
         ],
         "z": [
          0.29339197278022766
         ]
        },
        {
         "hovertemplate": "color=want<br>0=%{x}<br>1=%{y}<br>2=%{z}<extra></extra>",
         "legendgroup": "want",
         "marker": {
          "color": "#B6E880",
          "symbol": "circle"
         },
         "mode": "markers",
         "name": "want",
         "scene": "scene",
         "showlegend": true,
         "type": "scatter3d",
         "x": [
          -0.23366011679172516
         ],
         "y": [
          0.5704731345176697
         ],
         "z": [
          0.28767022490501404
         ]
        },
        {
         "hovertemplate": "color=after<br>0=%{x}<br>1=%{y}<br>2=%{z}<extra></extra>",
         "legendgroup": "after",
         "marker": {
          "color": "#FF97FF",
          "symbol": "circle"
         },
         "mode": "markers",
         "name": "after",
         "scene": "scene",
         "showlegend": true,
         "type": "scatter3d",
         "x": [
          -0.038013357669115067
         ],
         "y": [
          0.42699629068374634
         ],
         "z": [
          0.21266905963420868
         ]
        },
        {
         "hovertemplate": "color=much<br>0=%{x}<br>1=%{y}<br>2=%{z}<extra></extra>",
         "legendgroup": "much",
         "marker": {
          "color": "#FECB52",
          "symbol": "circle"
         },
         "mode": "markers",
         "name": "much",
         "scene": "scene",
         "showlegend": true,
         "type": "scatter3d",
         "x": [
          -0.11968576908111572
         ],
         "y": [
          0.5174662470817566
         ],
         "z": [
          0.12314163148403168
         ]
        },
        {
         "hovertemplate": "color=enough<br>0=%{x}<br>1=%{y}<br>2=%{z}<extra></extra>",
         "legendgroup": "enough",
         "marker": {
          "color": "#636efa",
          "symbol": "circle"
         },
         "mode": "markers",
         "name": "enough",
         "scene": "scene",
         "showlegend": true,
         "type": "scatter3d",
         "x": [
          -0.03643566742539406
         ],
         "y": [
          0.4970542788505554
         ],
         "z": [
          0.09123306721448898
         ]
        },
        {
         "hovertemplate": "color=sword<br>0=%{x}<br>1=%{y}<br>2=%{z}<extra></extra>",
         "legendgroup": "sword",
         "marker": {
          "color": "#EF553B",
          "symbol": "circle"
         },
         "mode": "markers",
         "name": "sword",
         "scene": "scene",
         "showlegend": true,
         "type": "scatter3d",
         "x": [
          0.17262619733810425
         ],
         "y": [
          0.5017440319061279
         ],
         "z": [
          0.23336410522460938
         ]
        },
        {
         "hovertemplate": "color=tell<br>0=%{x}<br>1=%{y}<br>2=%{z}<extra></extra>",
         "legendgroup": "tell",
         "marker": {
          "color": "#00cc96",
          "symbol": "circle"
         },
         "mode": "markers",
         "name": "tell",
         "scene": "scene",
         "showlegend": true,
         "type": "scatter3d",
         "x": [
          -0.3037213683128357
         ],
         "y": [
          0.6208258867263794
         ],
         "z": [
          0.30212441086769104
         ]
        },
        {
         "hovertemplate": "color=girl<br>0=%{x}<br>1=%{y}<br>2=%{z}<extra></extra>",
         "legendgroup": "girl",
         "marker": {
          "color": "#ab63fa",
          "symbol": "circle"
         },
         "mode": "markers",
         "name": "girl",
         "scene": "scene",
         "showlegend": true,
         "type": "scatter3d",
         "x": [
          -0.10863567888736725
         ],
         "y": [
          0.41885438561439514
         ],
         "z": [
          0.1494760513305664
         ]
        },
        {
         "hovertemplate": "color=bran<br>0=%{x}<br>1=%{y}<br>2=%{z}<extra></extra>",
         "legendgroup": "bran",
         "marker": {
          "color": "#FFA15A",
          "symbol": "circle"
         },
         "mode": "markers",
         "name": "bran",
         "scene": "scene",
         "showlegend": true,
         "type": "scatter3d",
         "x": [
          0.16992928087711334
         ],
         "y": [
          0.35863956809043884
         ],
         "z": [
          0.2241312861442566
         ]
        },
        {
         "hovertemplate": "color=great<br>0=%{x}<br>1=%{y}<br>2=%{z}<extra></extra>",
         "legendgroup": "great",
         "marker": {
          "color": "#19d3f3",
          "symbol": "circle"
         },
         "mode": "markers",
         "name": "great",
         "scene": "scene",
         "showlegend": true,
         "type": "scatter3d",
         "x": [
          0.12861646711826324
         ],
         "y": [
          0.3548368513584137
         ],
         "z": [
          -0.24337436258792877
         ]
        },
        {
         "hovertemplate": "color=its<br>0=%{x}<br>1=%{y}<br>2=%{z}<extra></extra>",
         "legendgroup": "its",
         "marker": {
          "color": "#FF6692",
          "symbol": "circle"
         },
         "mode": "markers",
         "name": "its",
         "scene": "scene",
         "showlegend": true,
         "type": "scatter3d",
         "x": [
          0.4644157290458679
         ],
         "y": [
          0.19177749752998352
         ],
         "z": [
          -0.0859222486615181
         ]
        },
        {
         "hovertemplate": "color=looked<br>0=%{x}<br>1=%{y}<br>2=%{z}<extra></extra>",
         "legendgroup": "looked",
         "marker": {
          "color": "#B6E880",
          "symbol": "circle"
         },
         "mode": "markers",
         "name": "looked",
         "scene": "scene",
         "showlegend": true,
         "type": "scatter3d",
         "x": [
          0.11866244673728943
         ],
         "y": [
          0.28229156136512756
         ],
         "z": [
          0.43395963311195374
         ]
        },
        {
         "hovertemplate": "color=left<br>0=%{x}<br>1=%{y}<br>2=%{z}<extra></extra>",
         "legendgroup": "left",
         "marker": {
          "color": "#FF97FF",
          "symbol": "circle"
         },
         "mode": "markers",
         "name": "left",
         "scene": "scene",
         "showlegend": true,
         "type": "scatter3d",
         "x": [
          0.2095802277326584
         ],
         "y": [
          0.41694357991218567
         ],
         "z": [
          0.30263566970825195
         ]
        },
        {
         "hovertemplate": "color=knew<br>0=%{x}<br>1=%{y}<br>2=%{z}<extra></extra>",
         "legendgroup": "knew",
         "marker": {
          "color": "#FECB52",
          "symbol": "circle"
         },
         "mode": "markers",
         "name": "knew",
         "scene": "scene",
         "showlegend": true,
         "type": "scatter3d",
         "x": [
          -0.11258475482463837
         ],
         "y": [
          0.5397022366523743
         ],
         "z": [
          0.26373133063316345
         ]
        },
        {
         "hovertemplate": "color=asked<br>0=%{x}<br>1=%{y}<br>2=%{z}<extra></extra>",
         "legendgroup": "asked",
         "marker": {
          "color": "#636efa",
          "symbol": "circle"
         },
         "mode": "markers",
         "name": "asked",
         "scene": "scene",
         "showlegend": true,
         "type": "scatter3d",
         "x": [
          -0.33380356431007385
         ],
         "y": [
          0.4878653883934021
         ],
         "z": [
          0.5207574367523193
         ]
        },
        {
         "hovertemplate": "color=gave<br>0=%{x}<br>1=%{y}<br>2=%{z}<extra></extra>",
         "legendgroup": "gave",
         "marker": {
          "color": "#EF553B",
          "symbol": "circle"
         },
         "mode": "markers",
         "name": "gave",
         "scene": "scene",
         "showlegend": true,
         "type": "scatter3d",
         "x": [
          -0.15134774148464203
         ],
         "y": [
          0.16381299495697021
         ],
         "z": [
          0.5733374357223511
         ]
        },
        {
         "hovertemplate": "color=maester<br>0=%{x}<br>1=%{y}<br>2=%{z}<extra></extra>",
         "legendgroup": "maester",
         "marker": {
          "color": "#00cc96",
          "symbol": "circle"
         },
         "mode": "markers",
         "name": "maester",
         "scene": "scene",
         "showlegend": true,
         "type": "scatter3d",
         "x": [
          -0.1500438004732132
         ],
         "y": [
          0.3948895037174225
         ],
         "z": [
          0.17239011824131012
         ]
        },
        {
         "hovertemplate": "color=called<br>0=%{x}<br>1=%{y}<br>2=%{z}<extra></extra>",
         "legendgroup": "called",
         "marker": {
          "color": "#ab63fa",
          "symbol": "circle"
         },
         "mode": "markers",
         "name": "called",
         "scene": "scene",
         "showlegend": true,
         "type": "scatter3d",
         "x": [
          -0.2600095570087433
         ],
         "y": [
          0.31514108180999756
         ],
         "z": [
          0.25636664032936096
         ]
        },
        {
         "hovertemplate": "color=wall<br>0=%{x}<br>1=%{y}<br>2=%{z}<extra></extra>",
         "legendgroup": "wall",
         "marker": {
          "color": "#FFA15A",
          "symbol": "circle"
         },
         "mode": "markers",
         "name": "wall",
         "scene": "scene",
         "showlegend": true,
         "type": "scatter3d",
         "x": [
          0.40549707412719727
         ],
         "y": [
          0.6299532651901245
         ],
         "z": [
          -0.059381674975156784
         ]
        },
        {
         "hovertemplate": "color=every<br>0=%{x}<br>1=%{y}<br>2=%{z}<extra></extra>",
         "legendgroup": "every",
         "marker": {
          "color": "#19d3f3",
          "symbol": "circle"
         },
         "mode": "markers",
         "name": "every",
         "scene": "scene",
         "showlegend": true,
         "type": "scatter3d",
         "x": [
          0.10862317681312561
         ],
         "y": [
          0.4073173999786377
         ],
         "z": [
          0.02214597351849079
         ]
        },
        {
         "hovertemplate": "color=heard<br>0=%{x}<br>1=%{y}<br>2=%{z}<extra></extra>",
         "legendgroup": "heard",
         "marker": {
          "color": "#FF6692",
          "symbol": "circle"
         },
         "mode": "markers",
         "name": "heard",
         "scene": "scene",
         "showlegend": true,
         "type": "scatter3d",
         "x": [
          -0.014873421750962734
         ],
         "y": [
          0.39899641275405884
         ],
         "z": [
          0.3382166624069214
         ]
        },
        {
         "hovertemplate": "color=sansa<br>0=%{x}<br>1=%{y}<br>2=%{z}<extra></extra>",
         "legendgroup": "sansa",
         "marker": {
          "color": "#B6E880",
          "symbol": "circle"
         },
         "mode": "markers",
         "name": "sansa",
         "scene": "scene",
         "showlegend": true,
         "type": "scatter3d",
         "x": [
          -0.061455465853214264
         ],
         "y": [
          0.34687909483909607
         ],
         "z": [
          0.26703381538391113
         ]
        },
        {
         "hovertemplate": "color=let<br>0=%{x}<br>1=%{y}<br>2=%{z}<extra></extra>",
         "legendgroup": "let",
         "marker": {
          "color": "#FF97FF",
          "symbol": "circle"
         },
         "mode": "markers",
         "name": "let",
         "scene": "scene",
         "showlegend": true,
         "type": "scatter3d",
         "x": [
          -0.13035167753696442
         ],
         "y": [
          0.4196327328681946
         ],
         "z": [
          0.39796820282936096
         ]
        },
        {
         "hovertemplate": "color=yet<br>0=%{x}<br>1=%{y}<br>2=%{z}<extra></extra>",
         "legendgroup": "yet",
         "marker": {
          "color": "#FECB52",
          "symbol": "circle"
         },
         "mode": "markers",
         "name": "yet",
         "scene": "scene",
         "showlegend": true,
         "type": "scatter3d",
         "x": [
          -0.08084166049957275
         ],
         "y": [
          0.5505285859107971
         ],
         "z": [
          0.036712102591991425
         ]
        },
        {
         "hovertemplate": "color=went<br>0=%{x}<br>1=%{y}<br>2=%{z}<extra></extra>",
         "legendgroup": "went",
         "marker": {
          "color": "#636efa",
          "symbol": "circle"
         },
         "mode": "markers",
         "name": "went",
         "scene": "scene",
         "showlegend": true,
         "type": "scatter3d",
         "x": [
          0.26944708824157715
         ],
         "y": [
          0.3513680398464203
         ],
         "z": [
          0.4729708433151245
         ]
        },
        {
         "hovertemplate": "color=turned<br>0=%{x}<br>1=%{y}<br>2=%{z}<extra></extra>",
         "legendgroup": "turned",
         "marker": {
          "color": "#EF553B",
          "symbol": "circle"
         },
         "mode": "markers",
         "name": "turned",
         "scene": "scene",
         "showlegend": true,
         "type": "scatter3d",
         "x": [
          0.1961415559053421
         ],
         "y": [
          0.25933459401130676
         ],
         "z": [
          0.5394243597984314
         ]
        },
        {
         "hovertemplate": "color=dany<br>0=%{x}<br>1=%{y}<br>2=%{z}<extra></extra>",
         "legendgroup": "dany",
         "marker": {
          "color": "#00cc96",
          "symbol": "circle"
         },
         "mode": "markers",
         "name": "dany",
         "scene": "scene",
         "showlegend": true,
         "type": "scatter3d",
         "x": [
          0.14300113916397095
         ],
         "y": [
          0.33402201533317566
         ],
         "z": [
          -0.007369250524789095
         ]
        },
        {
         "hovertemplate": "color=why<br>0=%{x}<br>1=%{y}<br>2=%{z}<extra></extra>",
         "legendgroup": "why",
         "marker": {
          "color": "#ab63fa",
          "symbol": "circle"
         },
         "mode": "markers",
         "name": "why",
         "scene": "scene",
         "showlegend": true,
         "type": "scatter3d",
         "x": [
          -0.3622036874294281
         ],
         "y": [
          0.6065201163291931
         ],
         "z": [
          0.11758358776569366
         ]
        },
        {
         "hovertemplate": "color=need<br>0=%{x}<br>1=%{y}<br>2=%{z}<extra></extra>",
         "legendgroup": "need",
         "marker": {
          "color": "#FFA15A",
          "symbol": "circle"
         },
         "mode": "markers",
         "name": "need",
         "scene": "scene",
         "showlegend": true,
         "type": "scatter3d",
         "x": [
          -0.19275715947151184
         ],
         "y": [
          0.589959979057312
         ],
         "z": [
          0.16519658267498016
         ]
        },
        {
         "hovertemplate": "color=behind<br>0=%{x}<br>1=%{y}<br>2=%{z}<extra></extra>",
         "legendgroup": "behind",
         "marker": {
          "color": "#19d3f3",
          "symbol": "circle"
         },
         "mode": "markers",
         "name": "behind",
         "scene": "scene",
         "showlegend": true,
         "type": "scatter3d",
         "x": [
          0.354589581489563
         ],
         "y": [
          0.2234017252922058
         ],
         "z": [
          0.1953854262828827
         ]
        },
        {
         "hovertemplate": "color=around<br>0=%{x}<br>1=%{y}<br>2=%{z}<extra></extra>",
         "legendgroup": "around",
         "marker": {
          "color": "#FF6692",
          "symbol": "circle"
         },
         "mode": "markers",
         "name": "around",
         "scene": "scene",
         "showlegend": true,
         "type": "scatter3d",
         "x": [
          0.45939064025878906
         ],
         "y": [
          0.14667373895645142
         ],
         "z": [
          0.2505958676338196
         ]
        },
        {
         "hovertemplate": "color=just<br>0=%{x}<br>1=%{y}<br>2=%{z}<extra></extra>",
         "legendgroup": "just",
         "marker": {
          "color": "#B6E880",
          "symbol": "circle"
         },
         "mode": "markers",
         "name": "just",
         "scene": "scene",
         "showlegend": true,
         "type": "scatter3d",
         "x": [
          -0.03331225737929344
         ],
         "y": [
          0.5290758013725281
         ],
         "z": [
          0.2288721799850464
         ]
        },
        {
         "hovertemplate": "color=woman<br>0=%{x}<br>1=%{y}<br>2=%{z}<extra></extra>",
         "legendgroup": "woman",
         "marker": {
          "color": "#FF97FF",
          "symbol": "circle"
         },
         "mode": "markers",
         "name": "woman",
         "scene": "scene",
         "showlegend": true,
         "type": "scatter3d",
         "x": [
          0.007635602727532387
         ],
         "y": [
          0.38628676533699036
         ],
         "z": [
          0.10185889899730682
         ]
        },
        {
         "hovertemplate": "color=another<br>0=%{x}<br>1=%{y}<br>2=%{z}<extra></extra>",
         "legendgroup": "another",
         "marker": {
          "color": "#FECB52",
          "symbol": "circle"
         },
         "mode": "markers",
         "name": "another",
         "scene": "scene",
         "showlegend": true,
         "type": "scatter3d",
         "x": [
          0.10499095916748047
         ],
         "y": [
          0.40929439663887024
         ],
         "z": [
          0.1103445366024971
         ]
        },
        {
         "hovertemplate": "color=snow<br>0=%{x}<br>1=%{y}<br>2=%{z}<extra></extra>",
         "legendgroup": "snow",
         "marker": {
          "color": "#636efa",
          "symbol": "circle"
         },
         "mode": "markers",
         "name": "snow",
         "scene": "scene",
         "showlegend": true,
         "type": "scatter3d",
         "x": [
          0.3173008859157562
         ],
         "y": [
          0.38117891550064087
         ],
         "z": [
          0.10589165985584259
         ]
        },
        {
         "hovertemplate": "color=beneath<br>0=%{x}<br>1=%{y}<br>2=%{z}<extra></extra>",
         "legendgroup": "beneath",
         "marker": {
          "color": "#EF553B",
          "symbol": "circle"
         },
         "mode": "markers",
         "name": "beneath",
         "scene": "scene",
         "showlegend": true,
         "type": "scatter3d",
         "x": [
          0.42596760392189026
         ],
         "y": [
          0.14499054849147797
         ],
         "z": [
          0.154798224568367
         ]
        },
        {
         "hovertemplate": "color=across<br>0=%{x}<br>1=%{y}<br>2=%{z}<extra></extra>",
         "legendgroup": "across",
         "marker": {
          "color": "#00cc96",
          "symbol": "circle"
         },
         "mode": "markers",
         "name": "across",
         "scene": "scene",
         "showlegend": true,
         "type": "scatter3d",
         "x": [
          0.377191424369812
         ],
         "y": [
          0.12683828175067902
         ],
         "z": [
          0.1899358481168747
         ]
        },
        {
         "hovertemplate": "color=knight<br>0=%{x}<br>1=%{y}<br>2=%{z}<extra></extra>",
         "legendgroup": "knight",
         "marker": {
          "color": "#ab63fa",
          "symbol": "circle"
         },
         "mode": "markers",
         "name": "knight",
         "scene": "scene",
         "showlegend": true,
         "type": "scatter3d",
         "x": [
          -0.16107729077339172
         ],
         "y": [
          0.435693621635437
         ],
         "z": [
          0.06431065499782562
         ]
        },
        {
         "hovertemplate": "color=keep<br>0=%{x}<br>1=%{y}<br>2=%{z}<extra></extra>",
         "legendgroup": "keep",
         "marker": {
          "color": "#FFA15A",
          "symbol": "circle"
         },
         "mode": "markers",
         "name": "keep",
         "scene": "scene",
         "showlegend": true,
         "type": "scatter3d",
         "x": [
          0.06537441909313202
         ],
         "y": [
          0.5843303203582764
         ],
         "z": [
          0.20234356820583344
         ]
        },
        {
         "hovertemplate": "color=grace<br>0=%{x}<br>1=%{y}<br>2=%{z}<extra></extra>",
         "legendgroup": "grace",
         "marker": {
          "color": "#19d3f3",
          "symbol": "circle"
         },
         "mode": "markers",
         "name": "grace",
         "scene": "scene",
         "showlegend": true,
         "type": "scatter3d",
         "x": [
          -0.31190407276153564
         ],
         "y": [
          0.6280888319015503
         ],
         "z": [
          0.025717323645949364
         ]
        },
        {
         "hovertemplate": "color=found<br>0=%{x}<br>1=%{y}<br>2=%{z}<extra></extra>",
         "legendgroup": "found",
         "marker": {
          "color": "#FF6692",
          "symbol": "circle"
         },
         "mode": "markers",
         "name": "found",
         "scene": "scene",
         "showlegend": true,
         "type": "scatter3d",
         "x": [
          0.1456764191389084
         ],
         "y": [
          0.3348049223423004
         ],
         "z": [
          0.36928513646125793
         ]
        },
        {
         "hovertemplate": "color=gold<br>0=%{x}<br>1=%{y}<br>2=%{z}<extra></extra>",
         "legendgroup": "gold",
         "marker": {
          "color": "#B6E880",
          "symbol": "circle"
         },
         "mode": "markers",
         "name": "gold",
         "scene": "scene",
         "showlegend": true,
         "type": "scatter3d",
         "x": [
          0.08416474610567093
         ],
         "y": [
          0.43112868070602417
         ],
         "z": [
          -0.1496458202600479
         ]
        },
        {
         "hovertemplate": "color=any<br>0=%{x}<br>1=%{y}<br>2=%{z}<extra></extra>",
         "legendgroup": "any",
         "marker": {
          "color": "#FF97FF",
          "symbol": "circle"
         },
         "mode": "markers",
         "name": "any",
         "scene": "scene",
         "showlegend": true,
         "type": "scatter3d",
         "x": [
          -0.19518370926380157
         ],
         "y": [
          0.5811157822608948
         ],
         "z": [
          -0.026308387517929077
         ]
        },
        {
         "hovertemplate": "color=last<br>0=%{x}<br>1=%{y}<br>2=%{z}<extra></extra>",
         "legendgroup": "last",
         "marker": {
          "color": "#FECB52",
          "symbol": "circle"
         },
         "mode": "markers",
         "name": "last",
         "scene": "scene",
         "showlegend": true,
         "type": "scatter3d",
         "x": [
          0.0010075888130813837
         ],
         "y": [
          0.48382773995399475
         ],
         "z": [
          0.1351911872625351
         ]
        },
        {
         "hovertemplate": "color=cersei<br>0=%{x}<br>1=%{y}<br>2=%{z}<extra></extra>",
         "legendgroup": "cersei",
         "marker": {
          "color": "#636efa",
          "symbol": "circle"
         },
         "mode": "markers",
         "name": "cersei",
         "scene": "scene",
         "showlegend": true,
         "type": "scatter3d",
         "x": [
          -0.19916220009326935
         ],
         "y": [
          0.4334769546985626
         ],
         "z": [
          0.1434389054775238
         ]
        },
        {
         "hovertemplate": "color=castle<br>0=%{x}<br>1=%{y}<br>2=%{z}<extra></extra>",
         "legendgroup": "castle",
         "marker": {
          "color": "#EF553B",
          "symbol": "circle"
         },
         "mode": "markers",
         "name": "castle",
         "scene": "scene",
         "showlegend": true,
         "type": "scatter3d",
         "x": [
          0.10664980113506317
         ],
         "y": [
          0.6877081394195557
         ],
         "z": [
          -0.16714070737361908
         ]
        },
        {
         "hovertemplate": "color=those<br>0=%{x}<br>1=%{y}<br>2=%{z}<extra></extra>",
         "legendgroup": "those",
         "marker": {
          "color": "#00cc96",
          "symbol": "circle"
         },
         "mode": "markers",
         "name": "those",
         "scene": "scene",
         "showlegend": true,
         "type": "scatter3d",
         "x": [
          0.052860137075185776
         ],
         "y": [
          0.5159761309623718
         ],
         "z": [
          -0.256188303232193
         ]
        },
        {
         "hovertemplate": "color=stark<br>0=%{x}<br>1=%{y}<br>2=%{z}<extra></extra>",
         "legendgroup": "stark",
         "marker": {
          "color": "#ab63fa",
          "symbol": "circle"
         },
         "mode": "markers",
         "name": "stark",
         "scene": "scene",
         "showlegend": true,
         "type": "scatter3d",
         "x": [
          -0.18001343309879303
         ],
         "y": [
          0.5585020184516907
         ],
         "z": [
          0.19994106888771057
         ]
        },
        {
         "hovertemplate": "color=gods<br>0=%{x}<br>1=%{y}<br>2=%{z}<extra></extra>",
         "legendgroup": "gods",
         "marker": {
          "color": "#FFA15A",
          "symbol": "circle"
         },
         "mode": "markers",
         "name": "gods",
         "scene": "scene",
         "showlegend": true,
         "type": "scatter3d",
         "x": [
          -0.1556585282087326
         ],
         "y": [
          0.6284091472625732
         ],
         "z": [
          -0.1189802959561348
         ]
        },
        {
         "hovertemplate": "color=think<br>0=%{x}<br>1=%{y}<br>2=%{z}<extra></extra>",
         "legendgroup": "think",
         "marker": {
          "color": "#19d3f3",
          "symbol": "circle"
         },
         "mode": "markers",
         "name": "think",
         "scene": "scene",
         "showlegend": true,
         "type": "scatter3d",
         "x": [
          -0.2070913016796112
         ],
         "y": [
          0.6374220252037048
         ],
         "z": [
          0.24138516187667847
         ]
        },
        {
         "hovertemplate": "color=hair<br>0=%{x}<br>1=%{y}<br>2=%{z}<extra></extra>",
         "legendgroup": "hair",
         "marker": {
          "color": "#FF6692",
          "symbol": "circle"
         },
         "mode": "markers",
         "name": "hair",
         "scene": "scene",
         "showlegend": true,
         "type": "scatter3d",
         "x": [
          0.2652113735675812
         ],
         "y": [
          0.20594438910484314
         ],
         "z": [
          0.25471770763397217
         ]
        },
        {
         "hovertemplate": "color=many<br>0=%{x}<br>1=%{y}<br>2=%{z}<extra></extra>",
         "legendgroup": "many",
         "marker": {
          "color": "#B6E880",
          "symbol": "circle"
         },
         "mode": "markers",
         "name": "many",
         "scene": "scene",
         "showlegend": true,
         "type": "scatter3d",
         "x": [
          -0.060809265822172165
         ],
         "y": [
          0.5213037133216858
         ],
         "z": [
          -0.1571424901485443
         ]
        },
        {
         "hovertemplate": "color=feet<br>0=%{x}<br>1=%{y}<br>2=%{z}<extra></extra>",
         "legendgroup": "feet",
         "marker": {
          "color": "#FF97FF",
          "symbol": "circle"
         },
         "mode": "markers",
         "name": "feet",
         "scene": "scene",
         "showlegend": true,
         "type": "scatter3d",
         "x": [
          0.49186986684799194
         ],
         "y": [
          0.3494531810283661
         ],
         "z": [
          0.28357672691345215
         ]
        },
        {
         "hovertemplate": "color=against<br>0=%{x}<br>1=%{y}<br>2=%{z}<extra></extra>",
         "legendgroup": "against",
         "marker": {
          "color": "#FECB52",
          "symbol": "circle"
         },
         "mode": "markers",
         "name": "against",
         "scene": "scene",
         "showlegend": true,
         "type": "scatter3d",
         "x": [
          0.16225256025791168
         ],
         "y": [
          0.2615794837474823
         ],
         "z": [
          0.24225303530693054
         ]
        },
        {
         "hovertemplate": "color=hands<br>0=%{x}<br>1=%{y}<br>2=%{z}<extra></extra>",
         "legendgroup": "hands",
         "marker": {
          "color": "#636efa",
          "symbol": "circle"
         },
         "mode": "markers",
         "name": "hands",
         "scene": "scene",
         "showlegend": true,
         "type": "scatter3d",
         "x": [
          0.3375742733478546
         ],
         "y": [
          0.3849332630634308
         ],
         "z": [
          0.29300349950790405
         ]
        },
        {
         "hovertemplate": "color=stannis<br>0=%{x}<br>1=%{y}<br>2=%{z}<extra></extra>",
         "legendgroup": "stannis",
         "marker": {
          "color": "#EF553B",
          "symbol": "circle"
         },
         "mode": "markers",
         "name": "stannis",
         "scene": "scene",
         "showlegend": true,
         "type": "scatter3d",
         "x": [
          -0.13384757936000824
         ],
         "y": [
          0.6417837738990784
         ],
         "z": [
          -0.04820767045021057
         ]
        },
        {
         "hovertemplate": "color=mother<br>0=%{x}<br>1=%{y}<br>2=%{z}<extra></extra>",
         "legendgroup": "mother",
         "marker": {
          "color": "#00cc96",
          "symbol": "circle"
         },
         "mode": "markers",
         "name": "mother",
         "scene": "scene",
         "showlegend": true,
         "type": "scatter3d",
         "x": [
          -0.19293846189975739
         ],
         "y": [
          0.5778737664222717
         ],
         "z": [
          0.10106824338436127
         ]
        },
        {
         "hovertemplate": "color=catelyn<br>0=%{x}<br>1=%{y}<br>2=%{z}<extra></extra>",
         "legendgroup": "catelyn",
         "marker": {
          "color": "#ab63fa",
          "symbol": "circle"
         },
         "mode": "markers",
         "name": "catelyn",
         "scene": "scene",
         "showlegend": true,
         "type": "scatter3d",
         "x": [
          -0.0650181844830513
         ],
         "y": [
          0.3714364171028137
         ],
         "z": [
          0.1286831945180893
         ]
        },
        {
         "hovertemplate": "color=robert<br>0=%{x}<br>1=%{y}<br>2=%{z}<extra></extra>",
         "legendgroup": "robert",
         "marker": {
          "color": "#FFA15A",
          "symbol": "circle"
         },
         "mode": "markers",
         "name": "robert",
         "scene": "scene",
         "showlegend": true,
         "type": "scatter3d",
         "x": [
          -0.26511579751968384
         ],
         "y": [
          0.5542556047439575
         ],
         "z": [
          0.09579838812351227
         ]
        },
        {
         "hovertemplate": "color=seemed<br>0=%{x}<br>1=%{y}<br>2=%{z}<extra></extra>",
         "legendgroup": "seemed",
         "marker": {
          "color": "#19d3f3",
          "symbol": "circle"
         },
         "mode": "markers",
         "name": "seemed",
         "scene": "scene",
         "showlegend": true,
         "type": "scatter3d",
         "x": [
          0.06543663144111633
         ],
         "y": [
          0.31271156668663025
         ],
         "z": [
          0.2306102216243744
         ]
        },
        {
         "hovertemplate": "color=prince<br>0=%{x}<br>1=%{y}<br>2=%{z}<extra></extra>",
         "legendgroup": "prince",
         "marker": {
          "color": "#FF6692",
          "symbol": "circle"
         },
         "mode": "markers",
         "name": "prince",
         "scene": "scene",
         "showlegend": true,
         "type": "scatter3d",
         "x": [
          -0.2543867826461792
         ],
         "y": [
          0.4956788122653961
         ],
         "z": [
          0.14372506737709045
         ]
        },
        {
         "hovertemplate": "color=may<br>0=%{x}<br>1=%{y}<br>2=%{z}<extra></extra>",
         "legendgroup": "may",
         "marker": {
          "color": "#B6E880",
          "symbol": "circle"
         },
         "mode": "markers",
         "name": "may",
         "scene": "scene",
         "showlegend": true,
         "type": "scatter3d",
         "x": [
          -0.3470706343650818
         ],
         "y": [
          0.4994002878665924
         ],
         "z": [
          0.09250883013010025
         ]
        },
        {
         "hovertemplate": "color=ever<br>0=%{x}<br>1=%{y}<br>2=%{z}<extra></extra>",
         "legendgroup": "ever",
         "marker": {
          "color": "#FF97FF",
          "symbol": "circle"
         },
         "mode": "markers",
         "name": "ever",
         "scene": "scene",
         "showlegend": true,
         "type": "scatter3d",
         "x": [
          -0.19798822700977325
         ],
         "y": [
          0.5119509696960449
         ],
         "z": [
          0.014125870540738106
         ]
        },
        {
         "hovertemplate": "color=robb<br>0=%{x}<br>1=%{y}<br>2=%{z}<extra></extra>",
         "legendgroup": "robb",
         "marker": {
          "color": "#FECB52",
          "symbol": "circle"
         },
         "mode": "markers",
         "name": "robb",
         "scene": "scene",
         "showlegend": true,
         "type": "scatter3d",
         "x": [
          -0.13401691615581512
         ],
         "y": [
          0.5212548971176147
         ],
         "z": [
          0.16263368725776672
         ]
        },
        {
         "hovertemplate": "color=done<br>0=%{x}<br>1=%{y}<br>2=%{z}<extra></extra>",
         "legendgroup": "done",
         "marker": {
          "color": "#636efa",
          "symbol": "circle"
         },
         "mode": "markers",
         "name": "done",
         "scene": "scene",
         "showlegend": true,
         "type": "scatter3d",
         "x": [
          -0.205157071352005
         ],
         "y": [
          0.6136255264282227
         ],
         "z": [
          0.24514082074165344
         ]
        },
        {
         "hovertemplate": "color=don<br>0=%{x}<br>1=%{y}<br>2=%{z}<extra></extra>",
         "legendgroup": "don",
         "marker": {
          "color": "#EF553B",
          "symbol": "circle"
         },
         "mode": "markers",
         "name": "don",
         "scene": "scene",
         "showlegend": true,
         "type": "scatter3d",
         "x": [
          -0.2524068355560303
         ],
         "y": [
          0.3599081039428711
         ],
         "z": [
          0.23698051273822784
         ]
        },
        {
         "hovertemplate": "color=find<br>0=%{x}<br>1=%{y}<br>2=%{z}<extra></extra>",
         "legendgroup": "find",
         "marker": {
          "color": "#00cc96",
          "symbol": "circle"
         },
         "mode": "markers",
         "name": "find",
         "scene": "scene",
         "showlegend": true,
         "type": "scatter3d",
         "x": [
          -0.13488885760307312
         ],
         "y": [
          0.6212045550346375
         ],
         "z": [
          0.2619699537754059
         ]
        },
        {
         "hovertemplate": "color=lannister<br>0=%{x}<br>1=%{y}<br>2=%{z}<extra></extra>",
         "legendgroup": "lannister",
         "marker": {
          "color": "#ab63fa",
          "symbol": "circle"
         },
         "mode": "markers",
         "name": "lannister",
         "scene": "scene",
         "showlegend": true,
         "type": "scatter3d",
         "x": [
          -0.19811438024044037
         ],
         "y": [
          0.4949623644351959
         ],
         "z": [
          0.10175621509552002
         ]
        },
        {
         "hovertemplate": "color=re<br>0=%{x}<br>1=%{y}<br>2=%{z}<extra></extra>",
         "legendgroup": "re",
         "marker": {
          "color": "#FFA15A",
          "symbol": "circle"
         },
         "mode": "markers",
         "name": "re",
         "scene": "scene",
         "showlegend": true,
         "type": "scatter3d",
         "x": [
          -0.15181754529476166
         ],
         "y": [
          0.4094564914703369
         ],
         "z": [
          0.20506997406482697
         ]
        },
        {
         "hovertemplate": "color=hear<br>0=%{x}<br>1=%{y}<br>2=%{z}<extra></extra>",
         "legendgroup": "hear",
         "marker": {
          "color": "#19d3f3",
          "symbol": "circle"
         },
         "mode": "markers",
         "name": "hear",
         "scene": "scene",
         "showlegend": true,
         "type": "scatter3d",
         "x": [
          -0.0554911270737648
         ],
         "y": [
          0.4873737394809723
         ],
         "z": [
          0.33042922616004944
         ]
        },
        {
         "hovertemplate": "color=grey<br>0=%{x}<br>1=%{y}<br>2=%{z}<extra></extra>",
         "legendgroup": "grey",
         "marker": {
          "color": "#FF6692",
          "symbol": "circle"
         },
         "mode": "markers",
         "name": "grey",
         "scene": "scene",
         "showlegend": true,
         "type": "scatter3d",
         "x": [
          0.3362497389316559
         ],
         "y": [
          0.14535872638225555
         ],
         "z": [
          0.01682988740503788
         ]
        },
        {
         "hovertemplate": "color=name<br>0=%{x}<br>1=%{y}<br>2=%{z}<extra></extra>",
         "legendgroup": "name",
         "marker": {
          "color": "#B6E880",
          "symbol": "circle"
         },
         "mode": "markers",
         "name": "name",
         "scene": "scene",
         "showlegend": true,
         "type": "scatter3d",
         "x": [
          -0.27292492985725403
         ],
         "y": [
          0.637852668762207
         ],
         "z": [
          0.17599445581436157
         ]
        },
        {
         "hovertemplate": "color=horse<br>0=%{x}<br>1=%{y}<br>2=%{z}<extra></extra>",
         "legendgroup": "horse",
         "marker": {
          "color": "#FF97FF",
          "symbol": "circle"
         },
         "mode": "markers",
         "name": "horse",
         "scene": "scene",
         "showlegend": true,
         "type": "scatter3d",
         "x": [
          0.35152778029441833
         ],
         "y": [
          0.37133893370628357
         ],
         "z": [
          0.21928156912326813
         ]
        },
        {
         "hovertemplate": "color=high<br>0=%{x}<br>1=%{y}<br>2=%{z}<extra></extra>",
         "legendgroup": "high",
         "marker": {
          "color": "#FECB52",
          "symbol": "circle"
         },
         "mode": "markers",
         "name": "high",
         "scene": "scene",
         "showlegend": true,
         "type": "scatter3d",
         "x": [
          0.14159949123859406
         ],
         "y": [
          0.3454940617084503
         ],
         "z": [
          -0.06648755073547363
         ]
        },
        {
         "hovertemplate": "color=put<br>0=%{x}<br>1=%{y}<br>2=%{z}<extra></extra>",
         "legendgroup": "put",
         "marker": {
          "color": "#636efa",
          "symbol": "circle"
         },
         "mode": "markers",
         "name": "put",
         "scene": "scene",
         "showlegend": true,
         "type": "scatter3d",
         "x": [
          -0.08027602732181549
         ],
         "y": [
          0.5178490877151489
         ],
         "z": [
          0.48519518971443176
         ]
        },
        {
         "hovertemplate": "color=stone<br>0=%{x}<br>1=%{y}<br>2=%{z}<extra></extra>",
         "legendgroup": "stone",
         "marker": {
          "color": "#EF553B",
          "symbol": "circle"
         },
         "mode": "markers",
         "name": "stone",
         "scene": "scene",
         "showlegend": true,
         "type": "scatter3d",
         "x": [
          0.5832156538963318
         ],
         "y": [
          0.2891300320625305
         ],
         "z": [
          -0.09138274937868118
         ]
        },
        {
         "hovertemplate": "color=wine<br>0=%{x}<br>1=%{y}<br>2=%{z}<extra></extra>",
         "legendgroup": "wine",
         "marker": {
          "color": "#00cc96",
          "symbol": "circle"
         },
         "mode": "markers",
         "name": "wine",
         "scene": "scene",
         "showlegend": true,
         "type": "scatter3d",
         "x": [
          0.11985915154218674
         ],
         "y": [
          0.34765273332595825
         ],
         "z": [
          0.20163685083389282
         ]
        },
        {
         "hovertemplate": "color=hard<br>0=%{x}<br>1=%{y}<br>2=%{z}<extra></extra>",
         "legendgroup": "hard",
         "marker": {
          "color": "#ab63fa",
          "symbol": "circle"
         },
         "mode": "markers",
         "name": "hard",
         "scene": "scene",
         "showlegend": true,
         "type": "scatter3d",
         "x": [
          0.3338279128074646
         ],
         "y": [
          0.25747135281562805
         ],
         "z": [
          0.24814122915267944
         ]
        },
        {
         "hovertemplate": "color=water<br>0=%{x}<br>1=%{y}<br>2=%{z}<extra></extra>",
         "legendgroup": "water",
         "marker": {
          "color": "#FFA15A",
          "symbol": "circle"
         },
         "mode": "markers",
         "name": "water",
         "scene": "scene",
         "showlegend": true,
         "type": "scatter3d",
         "x": [
          0.5964904427528381
         ],
         "y": [
          0.36592766642570496
         ],
         "z": [
          0.07763205468654633
         ]
        },
        {
         "hovertemplate": "color=upon<br>0=%{x}<br>1=%{y}<br>2=%{z}<extra></extra>",
         "legendgroup": "upon",
         "marker": {
          "color": "#19d3f3",
          "symbol": "circle"
         },
         "mode": "markers",
         "name": "upon",
         "scene": "scene",
         "showlegend": true,
         "type": "scatter3d",
         "x": [
          0.0664573535323143
         ],
         "y": [
          0.31177037954330444
         ],
         "z": [
          0.08679892122745514
         ]
        },
        {
         "hovertemplate": "color=fire<br>0=%{x}<br>1=%{y}<br>2=%{z}<extra></extra>",
         "legendgroup": "fire",
         "marker": {
          "color": "#FF6692",
          "symbol": "circle"
         },
         "mode": "markers",
         "name": "fire",
         "scene": "scene",
         "showlegend": true,
         "type": "scatter3d",
         "x": [
          0.5217475891113281
         ],
         "y": [
          0.44368481636047363
         ],
         "z": [
          -0.03639990836381912
         ]
        },
        {
         "hovertemplate": "color=iron<br>0=%{x}<br>1=%{y}<br>2=%{z}<extra></extra>",
         "legendgroup": "iron",
         "marker": {
          "color": "#B6E880",
          "symbol": "circle"
         },
         "mode": "markers",
         "name": "iron",
         "scene": "scene",
         "showlegend": true,
         "type": "scatter3d",
         "x": [
          0.2533072829246521
         ],
         "y": [
          0.4024830162525177
         ],
         "z": [
          -0.0629199668765068
         ]
        },
        {
         "hovertemplate": "color=until<br>0=%{x}<br>1=%{y}<br>2=%{z}<extra></extra>",
         "legendgroup": "until",
         "marker": {
          "color": "#FF97FF",
          "symbol": "circle"
         },
         "mode": "markers",
         "name": "until",
         "scene": "scene",
         "showlegend": true,
         "type": "scatter3d",
         "x": [
          0.21854370832443237
         ],
         "y": [
          0.4141589403152466
         ],
         "z": [
          0.2292299121618271
         ]
        },
        {
         "hovertemplate": "color=these<br>0=%{x}<br>1=%{y}<br>2=%{z}<extra></extra>",
         "legendgroup": "these",
         "marker": {
          "color": "#FECB52",
          "symbol": "circle"
         },
         "mode": "markers",
         "name": "these",
         "scene": "scene",
         "showlegend": true,
         "type": "scatter3d",
         "x": [
          -0.20882509648799896
         ],
         "y": [
          0.5952062606811523
         ],
         "z": [
          -0.29493558406829834
         ]
        },
        {
         "hovertemplate": "color=voice<br>0=%{x}<br>1=%{y}<br>2=%{z}<extra></extra>",
         "legendgroup": "voice",
         "marker": {
          "color": "#636efa",
          "symbol": "circle"
         },
         "mode": "markers",
         "name": "voice",
         "scene": "scene",
         "showlegend": true,
         "type": "scatter3d",
         "x": [
          0.010690032504498959
         ],
         "y": [
          0.30007532238960266
         ],
         "z": [
          0.2571394741535187
         ]
        },
        {
         "hovertemplate": "color=gone<br>0=%{x}<br>1=%{y}<br>2=%{z}<extra></extra>",
         "legendgroup": "gone",
         "marker": {
          "color": "#EF553B",
          "symbol": "circle"
         },
         "mode": "markers",
         "name": "gone",
         "scene": "scene",
         "showlegend": true,
         "type": "scatter3d",
         "x": [
          0.11244989186525345
         ],
         "y": [
          0.49710333347320557
         ],
         "z": [
          0.29928550124168396
         ]
        },
        {
         "hovertemplate": "color=give<br>0=%{x}<br>1=%{y}<br>2=%{z}<extra></extra>",
         "legendgroup": "give",
         "marker": {
          "color": "#00cc96",
          "symbol": "circle"
         },
         "mode": "markers",
         "name": "give",
         "scene": "scene",
         "showlegend": true,
         "type": "scatter3d",
         "x": [
          -0.3357848823070526
         ],
         "y": [
          0.5324147939682007
         ],
         "z": [
          0.3646707832813263
         ]
        },
        {
         "hovertemplate": "color=sam<br>0=%{x}<br>1=%{y}<br>2=%{z}<extra></extra>",
         "legendgroup": "sam",
         "marker": {
          "color": "#ab63fa",
          "symbol": "circle"
         },
         "mode": "markers",
         "name": "sam",
         "scene": "scene",
         "showlegend": true,
         "type": "scatter3d",
         "x": [
          0.12610425055027008
         ],
         "y": [
          0.27331891655921936
         ],
         "z": [
          0.17945916950702667
         ]
        },
        {
         "hovertemplate": "color=seen<br>0=%{x}<br>1=%{y}<br>2=%{z}<extra></extra>",
         "legendgroup": "seen",
         "marker": {
          "color": "#FFA15A",
          "symbol": "circle"
         },
         "mode": "markers",
         "name": "seen",
         "scene": "scene",
         "showlegend": true,
         "type": "scatter3d",
         "x": [
          0.04896872118115425
         ],
         "y": [
          0.5111587047576904
         ],
         "z": [
          0.1720987856388092
         ]
        },
        {
         "hovertemplate": "color=better<br>0=%{x}<br>1=%{y}<br>2=%{z}<extra></extra>",
         "legendgroup": "better",
         "marker": {
          "color": "#19d3f3",
          "symbol": "circle"
         },
         "mode": "markers",
         "name": "better",
         "scene": "scene",
         "showlegend": true,
         "type": "scatter3d",
         "x": [
          -0.22174933552742004
         ],
         "y": [
          0.5275297164916992
         ],
         "z": [
          0.05577559769153595
         ]
        },
        {
         "hovertemplate": "color=shall<br>0=%{x}<br>1=%{y}<br>2=%{z}<extra></extra>",
         "legendgroup": "shall",
         "marker": {
          "color": "#FF6692",
          "symbol": "circle"
         },
         "mode": "markers",
         "name": "shall",
         "scene": "scene",
         "showlegend": true,
         "type": "scatter3d",
         "x": [
          -0.31211382150650024
         ],
         "y": [
          0.5269061326980591
         ],
         "z": [
          0.07348719239234924
         ]
        },
        {
         "hovertemplate": "color=ned<br>0=%{x}<br>1=%{y}<br>2=%{z}<extra></extra>",
         "legendgroup": "ned",
         "marker": {
          "color": "#B6E880",
          "symbol": "circle"
         },
         "mode": "markers",
         "name": "ned",
         "scene": "scene",
         "showlegend": true,
         "type": "scatter3d",
         "x": [
          -0.09309429675340652
         ],
         "y": [
          0.389631062746048
         ],
         "z": [
          0.17948009073734283
         ]
        },
        {
         "hovertemplate": "color=always<br>0=%{x}<br>1=%{y}<br>2=%{z}<extra></extra>",
         "legendgroup": "always",
         "marker": {
          "color": "#FF97FF",
          "symbol": "circle"
         },
         "mode": "markers",
         "name": "always",
         "scene": "scene",
         "showlegend": true,
         "type": "scatter3d",
         "x": [
          -0.22245138883590698
         ],
         "y": [
          0.5006194710731506
         ],
         "z": [
          0.09408750385046005
         ]
        },
        {
         "hovertemplate": "color=years<br>0=%{x}<br>1=%{y}<br>2=%{z}<extra></extra>",
         "legendgroup": "years",
         "marker": {
          "color": "#FECB52",
          "symbol": "circle"
         },
         "mode": "markers",
         "name": "years",
         "scene": "scene",
         "showlegend": true,
         "type": "scatter3d",
         "x": [
          -0.09871560335159302
         ],
         "y": [
          0.6038870811462402
         ],
         "z": [
          -0.0495104044675827
         ]
        },
        {
         "hovertemplate": "color=between<br>0=%{x}<br>1=%{y}<br>2=%{z}<extra></extra>",
         "legendgroup": "between",
         "marker": {
          "color": "#636efa",
          "symbol": "circle"
         },
         "mode": "markers",
         "name": "between",
         "scene": "scene",
         "showlegend": true,
         "type": "scatter3d",
         "x": [
          0.2687186896800995
         ],
         "y": [
          0.15467609465122223
         ],
         "z": [
          0.20453126728534698
         ]
        },
        {
         "hovertemplate": "color=dark<br>0=%{x}<br>1=%{y}<br>2=%{z}<extra></extra>",
         "legendgroup": "dark",
         "marker": {
          "color": "#EF553B",
          "symbol": "circle"
         },
         "mode": "markers",
         "name": "dark",
         "scene": "scene",
         "showlegend": true,
         "type": "scatter3d",
         "x": [
          0.5097797513008118
         ],
         "y": [
          0.21992002427577972
         ],
         "z": [
          -0.0024155303835868835
         ]
        },
        {
         "hovertemplate": "color=place<br>0=%{x}<br>1=%{y}<br>2=%{z}<extra></extra>",
         "legendgroup": "place",
         "marker": {
          "color": "#00cc96",
          "symbol": "circle"
         },
         "mode": "markers",
         "name": "place",
         "scene": "scene",
         "showlegend": true,
         "type": "scatter3d",
         "x": [
          0.05476198345422745
         ],
         "y": [
          0.7376208305358887
         ],
         "z": [
          -0.06162704899907112
         ]
        },
        {
         "hovertemplate": "color=small<br>0=%{x}<br>1=%{y}<br>2=%{z}<extra></extra>",
         "legendgroup": "small",
         "marker": {
          "color": "#ab63fa",
          "symbol": "circle"
         },
         "mode": "markers",
         "name": "small",
         "scene": "scene",
         "showlegend": true,
         "type": "scatter3d",
         "x": [
          0.20120102167129517
         ],
         "y": [
          0.29058727622032166
         ],
         "z": [
          -0.048509348183870316
         ]
        },
        {
         "hovertemplate": "color=cold<br>0=%{x}<br>1=%{y}<br>2=%{z}<extra></extra>",
         "legendgroup": "cold",
         "marker": {
          "color": "#FFA15A",
          "symbol": "circle"
         },
         "mode": "markers",
         "name": "cold",
         "scene": "scene",
         "showlegend": true,
         "type": "scatter3d",
         "x": [
          0.3834395408630371
         ],
         "y": [
          0.2888391315937042
         ],
         "z": [
          0.16163259744644165
         ]
        },
        {
         "hovertemplate": "color=winterfell<br>0=%{x}<br>1=%{y}<br>2=%{z}<extra></extra>",
         "legendgroup": "winterfell",
         "marker": {
          "color": "#19d3f3",
          "symbol": "circle"
         },
         "mode": "markers",
         "name": "winterfell",
         "scene": "scene",
         "showlegend": true,
         "type": "scatter3d",
         "x": [
          -0.012514973059296608
         ],
         "y": [
          0.6940616369247437
         ],
         "z": [
          -0.0034303972497582436
         ]
        },
        {
         "hovertemplate": "color=most<br>0=%{x}<br>1=%{y}<br>2=%{z}<extra></extra>",
         "legendgroup": "most",
         "marker": {
          "color": "#FF6692",
          "symbol": "circle"
         },
         "mode": "markers",
         "name": "most",
         "scene": "scene",
         "showlegend": true,
         "type": "scatter3d",
         "x": [
          -0.1927599310874939
         ],
         "y": [
          0.5409570336341858
         ],
         "z": [
          -0.19805380702018738
         ]
        },
        {
         "hovertemplate": "color=hundred<br>0=%{x}<br>1=%{y}<br>2=%{z}<extra></extra>",
         "legendgroup": "hundred",
         "marker": {
          "color": "#B6E880",
          "symbol": "circle"
         },
         "mode": "markers",
         "name": "hundred",
         "scene": "scene",
         "showlegend": true,
         "type": "scatter3d",
         "x": [
          0.12388783693313599
         ],
         "y": [
          0.4901127219200134
         ],
         "z": [
          -0.29319122433662415
         ]
        },
        {
         "hovertemplate": "color=stood<br>0=%{x}<br>1=%{y}<br>2=%{z}<extra></extra>",
         "legendgroup": "stood",
         "marker": {
          "color": "#FF97FF",
          "symbol": "circle"
         },
         "mode": "markers",
         "name": "stood",
         "scene": "scene",
         "showlegend": true,
         "type": "scatter3d",
         "x": [
          0.2761518359184265
         ],
         "y": [
          0.2983531355857849
         ],
         "z": [
          0.25663959980010986
         ]
        },
        {
         "hovertemplate": "color=end<br>0=%{x}<br>1=%{y}<br>2=%{z}<extra></extra>",
         "legendgroup": "end",
         "marker": {
          "color": "#FECB52",
          "symbol": "circle"
         },
         "mode": "markers",
         "name": "end",
         "scene": "scene",
         "showlegend": true,
         "type": "scatter3d",
         "x": [
          0.10577283799648285
         ],
         "y": [
          0.6254799962043762
         ],
         "z": [
          0.05812999978661537
         ]
        },
        {
         "hovertemplate": "color=sister<br>0=%{x}<br>1=%{y}<br>2=%{z}<extra></extra>",
         "legendgroup": "sister",
         "marker": {
          "color": "#636efa",
          "symbol": "circle"
         },
         "mode": "markers",
         "name": "sister",
         "scene": "scene",
         "showlegend": true,
         "type": "scatter3d",
         "x": [
          -0.35752788186073303
         ],
         "y": [
          0.5870773792266846
         ],
         "z": [
          0.18443581461906433
         ]
        },
        {
         "hovertemplate": "color=words<br>0=%{x}<br>1=%{y}<br>2=%{z}<extra></extra>",
         "legendgroup": "words",
         "marker": {
          "color": "#EF553B",
          "symbol": "circle"
         },
         "mode": "markers",
         "name": "words",
         "scene": "scene",
         "showlegend": true,
         "type": "scatter3d",
         "x": [
          -0.08551781624555588
         ],
         "y": [
          0.4693351089954376
         ],
         "z": [
          0.14613626897335052
         ]
        },
        {
         "hovertemplate": "color=sea<br>0=%{x}<br>1=%{y}<br>2=%{z}<extra></extra>",
         "legendgroup": "sea",
         "marker": {
          "color": "#00cc96",
          "symbol": "circle"
         },
         "mode": "markers",
         "name": "sea",
         "scene": "scene",
         "showlegend": true,
         "type": "scatter3d",
         "x": [
          0.23727722465991974
         ],
         "y": [
          0.5983332395553589
         ],
         "z": [
          -0.21824310719966888
         ]
        },
        {
         "hovertemplate": "color=right<br>0=%{x}<br>1=%{y}<br>2=%{z}<extra></extra>",
         "legendgroup": "right",
         "marker": {
          "color": "#ab63fa",
          "symbol": "circle"
         },
         "mode": "markers",
         "name": "right",
         "scene": "scene",
         "showlegend": true,
         "type": "scatter3d",
         "x": [
          0.21801896393299103
         ],
         "y": [
          0.4735792577266693
         ],
         "z": [
          0.27787601947784424
         ]
        },
        {
         "hovertemplate": "color=nothing<br>0=%{x}<br>1=%{y}<br>2=%{z}<extra></extra>",
         "legendgroup": "nothing",
         "marker": {
          "color": "#FFA15A",
          "symbol": "circle"
         },
         "mode": "markers",
         "name": "nothing",
         "scene": "scene",
         "showlegend": true,
         "type": "scatter3d",
         "x": [
          -0.03220364451408386
         ],
         "y": [
          0.4854201674461365
         ],
         "z": [
          0.03938475251197815
         ]
        },
        {
         "hovertemplate": "color=walls<br>0=%{x}<br>1=%{y}<br>2=%{z}<extra></extra>",
         "legendgroup": "walls",
         "marker": {
          "color": "#19d3f3",
          "symbol": "circle"
         },
         "mode": "markers",
         "name": "walls",
         "scene": "scene",
         "showlegend": true,
         "type": "scatter3d",
         "x": [
          0.4908166527748108
         ],
         "y": [
          0.5158738493919373
         ],
         "z": [
          -0.29956555366516113
         ]
        },
        {
         "hovertemplate": "color=fingers<br>0=%{x}<br>1=%{y}<br>2=%{z}<extra></extra>",
         "legendgroup": "fingers",
         "marker": {
          "color": "#FF6692",
          "symbol": "circle"
         },
         "mode": "markers",
         "name": "fingers",
         "scene": "scene",
         "showlegend": true,
         "type": "scatter3d",
         "x": [
          0.4389704465866089
         ],
         "y": [
          0.26761800050735474
         ],
         "z": [
          0.3659173846244812
         ]
        },
        {
         "hovertemplate": "color=same<br>0=%{x}<br>1=%{y}<br>2=%{z}<extra></extra>",
         "legendgroup": "same",
         "marker": {
          "color": "#B6E880",
          "symbol": "circle"
         },
         "mode": "markers",
         "name": "same",
         "scene": "scene",
         "showlegend": true,
         "type": "scatter3d",
         "x": [
          -0.0788390263915062
         ],
         "y": [
          0.45675256848335266
         ],
         "z": [
          0.08784788846969604
         ]
        },
        {
         "hovertemplate": "color=cloak<br>0=%{x}<br>1=%{y}<br>2=%{z}<extra></extra>",
         "legendgroup": "cloak",
         "marker": {
          "color": "#FF97FF",
          "symbol": "circle"
         },
         "mode": "markers",
         "name": "cloak",
         "scene": "scene",
         "showlegend": true,
         "type": "scatter3d",
         "x": [
          0.32169774174690247
         ],
         "y": [
          0.3068535327911377
         ],
         "z": [
          0.27186116576194763
         ]
        },
        {
         "hovertemplate": "color=house<br>0=%{x}<br>1=%{y}<br>2=%{z}<extra></extra>",
         "legendgroup": "house",
         "marker": {
          "color": "#FECB52",
          "symbol": "circle"
         },
         "mode": "markers",
         "name": "house",
         "scene": "scene",
         "showlegend": true,
         "type": "scatter3d",
         "x": [
          -0.15561069548130035
         ],
         "y": [
          0.4927813410758972
         ],
         "z": [
          -0.112238310277462
         ]
        },
        {
         "hovertemplate": "color=young<br>0=%{x}<br>1=%{y}<br>2=%{z}<extra></extra>",
         "legendgroup": "young",
         "marker": {
          "color": "#636efa",
          "symbol": "circle"
         },
         "mode": "markers",
         "name": "young",
         "scene": "scene",
         "showlegend": true,
         "type": "scatter3d",
         "x": [
          -0.29151907563209534
         ],
         "y": [
          0.43912237882614136
         ],
         "z": [
          0.10763754695653915
         ]
        },
        {
         "hovertemplate": "color=does<br>0=%{x}<br>1=%{y}<br>2=%{z}<extra></extra>",
         "legendgroup": "does",
         "marker": {
          "color": "#EF553B",
          "symbol": "circle"
         },
         "mode": "markers",
         "name": "does",
         "scene": "scene",
         "showlegend": true,
         "type": "scatter3d",
         "x": [
          -0.385259747505188
         ],
         "y": [
          0.4699026048183441
         ],
         "z": [
          0.23734544217586517
         ]
        },
        {
         "hovertemplate": "color=beside<br>0=%{x}<br>1=%{y}<br>2=%{z}<extra></extra>",
         "legendgroup": "beside",
         "marker": {
          "color": "#00cc96",
          "symbol": "circle"
         },
         "mode": "markers",
         "name": "beside",
         "scene": "scene",
         "showlegend": true,
         "type": "scatter3d",
         "x": [
          0.19439981877803802
         ],
         "y": [
          0.2298901081085205
         ],
         "z": [
          0.3396148085594177
         ]
        },
        {
         "hovertemplate": "color=get<br>0=%{x}<br>1=%{y}<br>2=%{z}<extra></extra>",
         "legendgroup": "get",
         "marker": {
          "color": "#ab63fa",
          "symbol": "circle"
         },
         "mode": "markers",
         "name": "get",
         "scene": "scene",
         "showlegend": true,
         "type": "scatter3d",
         "x": [
          0.039735060185194016
         ],
         "y": [
          0.6145456433296204
         ],
         "z": [
          0.36733585596084595
         ]
        },
        {
         "hovertemplate": "color=mouth<br>0=%{x}<br>1=%{y}<br>2=%{z}<extra></extra>",
         "legendgroup": "mouth",
         "marker": {
          "color": "#FFA15A",
          "symbol": "circle"
         },
         "mode": "markers",
         "name": "mouth",
         "scene": "scene",
         "showlegend": true,
         "type": "scatter3d",
         "x": [
          0.32960882782936096
         ],
         "y": [
          0.25369882583618164
         ],
         "z": [
          0.3860229551792145
         ]
        },
        {
         "hovertemplate": "color=seven<br>0=%{x}<br>1=%{y}<br>2=%{z}<extra></extra>",
         "legendgroup": "seven",
         "marker": {
          "color": "#19d3f3",
          "symbol": "circle"
         },
         "mode": "markers",
         "name": "seven",
         "scene": "scene",
         "showlegend": true,
         "type": "scatter3d",
         "x": [
          -0.09580733627080917
         ],
         "y": [
          0.6230102181434631
         ],
         "z": [
          -0.27100133895874023
         ]
        },
        {
         "hovertemplate": "color=watch<br>0=%{x}<br>1=%{y}<br>2=%{z}<extra></extra>",
         "legendgroup": "watch",
         "marker": {
          "color": "#FF6692",
          "symbol": "circle"
         },
         "mode": "markers",
         "name": "watch",
         "scene": "scene",
         "showlegend": true,
         "type": "scatter3d",
         "x": [
          -0.12033164501190186
         ],
         "y": [
          0.5658965110778809
         ],
         "z": [
          0.0060974713414907455
         ]
        },
        {
         "hovertemplate": "color=door<br>0=%{x}<br>1=%{y}<br>2=%{z}<extra></extra>",
         "legendgroup": "door",
         "marker": {
          "color": "#B6E880",
          "symbol": "circle"
         },
         "mode": "markers",
         "name": "door",
         "scene": "scene",
         "showlegend": true,
         "type": "scatter3d",
         "x": [
          0.4287639856338501
         ],
         "y": [
          0.36812710762023926
         ],
         "z": [
          0.28594568371772766
         ]
        },
        {
         "hovertemplate": "color=joffrey<br>0=%{x}<br>1=%{y}<br>2=%{z}<extra></extra>",
         "legendgroup": "joffrey",
         "marker": {
          "color": "#FF97FF",
          "symbol": "circle"
         },
         "mode": "markers",
         "name": "joffrey",
         "scene": "scene",
         "showlegend": true,
         "type": "scatter3d",
         "x": [
          -0.2211996167898178
         ],
         "y": [
          0.5071358680725098
         ],
         "z": [
          0.18407069146633148
         ]
        },
        {
         "hovertemplate": "color=green<br>0=%{x}<br>1=%{y}<br>2=%{z}<extra></extra>",
         "legendgroup": "green",
         "marker": {
          "color": "#FECB52",
          "symbol": "circle"
         },
         "mode": "markers",
         "name": "green",
         "scene": "scene",
         "showlegend": true,
         "type": "scatter3d",
         "x": [
          0.31386542320251465
         ],
         "y": [
          0.1485901027917862
         ],
         "z": [
          -0.12073400616645813
         ]
        },
        {
         "hovertemplate": "color=big<br>0=%{x}<br>1=%{y}<br>2=%{z}<extra></extra>",
         "legendgroup": "big",
         "marker": {
          "color": "#636efa",
          "symbol": "circle"
         },
         "mode": "markers",
         "name": "big",
         "scene": "scene",
         "showlegend": true,
         "type": "scatter3d",
         "x": [
          0.2440986931324005
         ],
         "y": [
          0.13476040959358215
         ],
         "z": [
          0.17201700806617737
         ]
        },
        {
         "hovertemplate": "color=under<br>0=%{x}<br>1=%{y}<br>2=%{z}<extra></extra>",
         "legendgroup": "under",
         "marker": {
          "color": "#EF553B",
          "symbol": "circle"
         },
         "mode": "markers",
         "name": "under",
         "scene": "scene",
         "showlegend": true,
         "type": "scatter3d",
         "x": [
          0.3642422556877136
         ],
         "y": [
          0.0942087322473526
         ],
         "z": [
          0.24461670219898224
         ]
        },
        {
         "hovertemplate": "color=few<br>0=%{x}<br>1=%{y}<br>2=%{z}<extra></extra>",
         "legendgroup": "few",
         "marker": {
          "color": "#00cc96",
          "symbol": "circle"
         },
         "mode": "markers",
         "name": "few",
         "scene": "scene",
         "showlegend": true,
         "type": "scatter3d",
         "x": [
          0.1368536800146103
         ],
         "y": [
          0.41778478026390076
         ],
         "z": [
          -0.13058872520923615
         ]
        },
        {
         "hovertemplate": "color=sent<br>0=%{x}<br>1=%{y}<br>2=%{z}<extra></extra>",
         "legendgroup": "sent",
         "marker": {
          "color": "#ab63fa",
          "symbol": "circle"
         },
         "mode": "markers",
         "name": "sent",
         "scene": "scene",
         "showlegend": true,
         "type": "scatter3d",
         "x": [
          -0.09685803949832916
         ],
         "y": [
          0.513669490814209
         ],
         "z": [
          0.4285767078399658
         ]
        },
        {
         "hovertemplate": "color=perhaps<br>0=%{x}<br>1=%{y}<br>2=%{z}<extra></extra>",
         "legendgroup": "perhaps",
         "marker": {
          "color": "#FFA15A",
          "symbol": "circle"
         },
         "mode": "markers",
         "name": "perhaps",
         "scene": "scene",
         "showlegend": true,
         "type": "scatter3d",
         "x": [
          -0.3952084481716156
         ],
         "y": [
          0.6589641571044922
         ],
         "z": [
          0.09902837872505188
         ]
        },
        {
         "hovertemplate": "color=almost<br>0=%{x}<br>1=%{y}<br>2=%{z}<extra></extra>",
         "legendgroup": "almost",
         "marker": {
          "color": "#19d3f3",
          "symbol": "circle"
         },
         "mode": "markers",
         "name": "almost",
         "scene": "scene",
         "showlegend": true,
         "type": "scatter3d",
         "x": [
          0.2687821090221405
         ],
         "y": [
          0.22004999220371246
         ],
         "z": [
          0.3268592357635498
         ]
        },
        {
         "hovertemplate": "color=such<br>0=%{x}<br>1=%{y}<br>2=%{z}<extra></extra>",
         "legendgroup": "such",
         "marker": {
          "color": "#FF6692",
          "symbol": "circle"
         },
         "mode": "markers",
         "name": "such",
         "scene": "scene",
         "showlegend": true,
         "type": "scatter3d",
         "x": [
          -0.37239307165145874
         ],
         "y": [
          0.5392010807991028
         ],
         "z": [
          -0.0786282867193222
         ]
        },
        {
         "hovertemplate": "color=wanted<br>0=%{x}<br>1=%{y}<br>2=%{z}<extra></extra>",
         "legendgroup": "wanted",
         "marker": {
          "color": "#B6E880",
          "symbol": "circle"
         },
         "mode": "markers",
         "name": "wanted",
         "scene": "scene",
         "showlegend": true,
         "type": "scatter3d",
         "x": [
          -0.20094196498394012
         ],
         "y": [
          0.5055132508277893
         ],
         "z": [
          0.4166213572025299
         ]
        },
        {
         "hovertemplate": "color=daughter<br>0=%{x}<br>1=%{y}<br>2=%{z}<extra></extra>",
         "legendgroup": "daughter",
         "marker": {
          "color": "#FF97FF",
          "symbol": "circle"
         },
         "mode": "markers",
         "name": "daughter",
         "scene": "scene",
         "showlegend": true,
         "type": "scatter3d",
         "x": [
          -0.3592419922351837
         ],
         "y": [
          0.4658434987068176
         ],
         "z": [
          0.14875513315200806
         ]
        },
        {
         "hovertemplate": "color=true<br>0=%{x}<br>1=%{y}<br>2=%{z}<extra></extra>",
         "legendgroup": "true",
         "marker": {
          "color": "#FECB52",
          "symbol": "circle"
         },
         "mode": "markers",
         "name": "true",
         "scene": "scene",
         "showlegend": true,
         "type": "scatter3d",
         "x": [
          -0.43331319093704224
         ],
         "y": [
          0.6271633505821228
         ],
         "z": [
          -0.02687886543571949
         ]
        },
        {
         "hovertemplate": "color=while<br>0=%{x}<br>1=%{y}<br>2=%{z}<extra></extra>",
         "legendgroup": "while",
         "marker": {
          "color": "#636efa",
          "symbol": "circle"
         },
         "mode": "markers",
         "name": "while",
         "scene": "scene",
         "showlegend": true,
         "type": "scatter3d",
         "x": [
          0.2928602993488312
         ],
         "y": [
          0.2741128206253052
         ],
         "z": [
          0.20297367870807648
         ]
        },
        {
         "hovertemplate": "color=leave<br>0=%{x}<br>1=%{y}<br>2=%{z}<extra></extra>",
         "legendgroup": "leave",
         "marker": {
          "color": "#EF553B",
          "symbol": "circle"
         },
         "mode": "markers",
         "name": "leave",
         "scene": "scene",
         "showlegend": true,
         "type": "scatter3d",
         "x": [
          -0.18162207305431366
         ],
         "y": [
          0.6789937615394592
         ],
         "z": [
          0.24355754256248474
         ]
        },
        {
         "hovertemplate": "color=city<br>0=%{x}<br>1=%{y}<br>2=%{z}<extra></extra>",
         "legendgroup": "city",
         "marker": {
          "color": "#00cc96",
          "symbol": "circle"
         },
         "mode": "markers",
         "name": "city",
         "scene": "scene",
         "showlegend": true,
         "type": "scatter3d",
         "x": [
          0.04790414124727249
         ],
         "y": [
          0.70997154712677
         ],
         "z": [
          -0.3296005427837372
         ]
        },
        {
         "hovertemplate": "color=wind<br>0=%{x}<br>1=%{y}<br>2=%{z}<extra></extra>",
         "legendgroup": "wind",
         "marker": {
          "color": "#ab63fa",
          "symbol": "circle"
         },
         "mode": "markers",
         "name": "wind",
         "scene": "scene",
         "showlegend": true,
         "type": "scatter3d",
         "x": [
          0.5421152114868164
         ],
         "y": [
          0.3314312994480133
         ],
         "z": [
          0.048693351447582245
         ]
        },
        {
         "hovertemplate": "color=light<br>0=%{x}<br>1=%{y}<br>2=%{z}<extra></extra>",
         "legendgroup": "light",
         "marker": {
          "color": "#FFA15A",
          "symbol": "circle"
         },
         "mode": "markers",
         "name": "light",
         "scene": "scene",
         "showlegend": true,
         "type": "scatter3d",
         "x": [
          0.37537050247192383
         ],
         "y": [
          0.41987600922584534
         ],
         "z": [
          0.04008058086037636
         ]
        },
        {
         "hovertemplate": "color=arms<br>0=%{x}<br>1=%{y}<br>2=%{z}<extra></extra>",
         "legendgroup": "arms",
         "marker": {
          "color": "#19d3f3",
          "symbol": "circle"
         },
         "mode": "markers",
         "name": "arms",
         "scene": "scene",
         "showlegend": true,
         "type": "scatter3d",
         "x": [
          0.222913920879364
         ],
         "y": [
          0.37574461102485657
         ],
         "z": [
          0.2595020532608032
         ]
        },
        {
         "hovertemplate": "color=children<br>0=%{x}<br>1=%{y}<br>2=%{z}<extra></extra>",
         "legendgroup": "children",
         "marker": {
          "color": "#FF6692",
          "symbol": "circle"
         },
         "mode": "markers",
         "name": "children",
         "scene": "scene",
         "showlegend": true,
         "type": "scatter3d",
         "x": [
          -0.08807886391878128
         ],
         "y": [
          0.6413947343826294
         ],
         "z": [
          -0.21919697523117065
         ]
        },
        {
         "hovertemplate": "color=herself<br>0=%{x}<br>1=%{y}<br>2=%{z}<extra></extra>",
         "legendgroup": "herself",
         "marker": {
          "color": "#B6E880",
          "symbol": "circle"
         },
         "mode": "markers",
         "name": "herself",
         "scene": "scene",
         "showlegend": true,
         "type": "scatter3d",
         "x": [
          0.06977465003728867
         ],
         "y": [
          0.37401771545410156
         ],
         "z": [
          0.19013343751430511
         ]
        },
        {
         "hovertemplate": "color=sweet<br>0=%{x}<br>1=%{y}<br>2=%{z}<extra></extra>",
         "legendgroup": "sweet",
         "marker": {
          "color": "#FF97FF",
          "symbol": "circle"
         },
         "mode": "markers",
         "name": "sweet",
         "scene": "scene",
         "showlegend": true,
         "type": "scatter3d",
         "x": [
          -0.2934949994087219
         ],
         "y": [
          0.32211437821388245
         ],
         "z": [
          0.199757918715477
         ]
        },
        {
         "hovertemplate": "color=others<br>0=%{x}<br>1=%{y}<br>2=%{z}<extra></extra>",
         "legendgroup": "others",
         "marker": {
          "color": "#FECB52",
          "symbol": "circle"
         },
         "mode": "markers",
         "name": "others",
         "scene": "scene",
         "showlegend": true,
         "type": "scatter3d",
         "x": [
          0.1281062662601471
         ],
         "y": [
          0.5272060632705688
         ],
         "z": [
          -0.1555113047361374
         ]
        },
        {
         "hovertemplate": "color=lost<br>0=%{x}<br>1=%{y}<br>2=%{z}<extra></extra>",
         "legendgroup": "lost",
         "marker": {
          "color": "#636efa",
          "symbol": "circle"
         },
         "mode": "markers",
         "name": "lost",
         "scene": "scene",
         "showlegend": true,
         "type": "scatter3d",
         "x": [
          -0.10006775707006454
         ],
         "y": [
          0.47664156556129456
         ],
         "z": [
          0.27070510387420654
         ]
        },
        {
         "hovertemplate": "color=theon<br>0=%{x}<br>1=%{y}<br>2=%{z}<extra></extra>",
         "legendgroup": "theon",
         "marker": {
          "color": "#EF553B",
          "symbol": "circle"
         },
         "mode": "markers",
         "name": "theon",
         "scene": "scene",
         "showlegend": true,
         "type": "scatter3d",
         "x": [
          -0.03566623106598854
         ],
         "y": [
          0.34181490540504456
         ],
         "z": [
          0.20868392288684845
         ]
        },
        {
         "hovertemplate": "color=each<br>0=%{x}<br>1=%{y}<br>2=%{z}<extra></extra>",
         "legendgroup": "each",
         "marker": {
          "color": "#00cc96",
          "symbol": "circle"
         },
         "mode": "markers",
         "name": "each",
         "scene": "scene",
         "showlegend": true,
         "type": "scatter3d",
         "x": [
          0.2847993075847626
         ],
         "y": [
          0.3511401116847992
         ],
         "z": [
          -0.014071280136704445
         ]
        },
        {
         "hovertemplate": "color=felt<br>0=%{x}<br>1=%{y}<br>2=%{z}<extra></extra>",
         "legendgroup": "felt",
         "marker": {
          "color": "#ab63fa",
          "symbol": "circle"
         },
         "mode": "markers",
         "name": "felt",
         "scene": "scene",
         "showlegend": true,
         "type": "scatter3d",
         "x": [
          0.20705682039260864
         ],
         "y": [
          0.2528940737247467
         ],
         "z": [
          0.4878983497619629
         ]
        },
        {
         "hovertemplate": "color=side<br>0=%{x}<br>1=%{y}<br>2=%{z}<extra></extra>",
         "legendgroup": "side",
         "marker": {
          "color": "#FFA15A",
          "symbol": "circle"
         },
         "mode": "markers",
         "name": "side",
         "scene": "scene",
         "showlegend": true,
         "type": "scatter3d",
         "x": [
          0.37391573190689087
         ],
         "y": [
          0.4678754508495331
         ],
         "z": [
          0.1409997045993805
         ]
        },
        {
         "hovertemplate": "color=yes<br>0=%{x}<br>1=%{y}<br>2=%{z}<extra></extra>",
         "legendgroup": "yes",
         "marker": {
          "color": "#19d3f3",
          "symbol": "circle"
         },
         "mode": "markers",
         "name": "yes",
         "scene": "scene",
         "showlegend": true,
         "type": "scatter3d",
         "x": [
          -0.4818713963031769
         ],
         "y": [
          0.47795841097831726
         ],
         "z": [
          0.18346907198429108
         ]
        },
        {
         "hovertemplate": "color=brothers<br>0=%{x}<br>1=%{y}<br>2=%{z}<extra></extra>",
         "legendgroup": "brothers",
         "marker": {
          "color": "#FF6692",
          "symbol": "circle"
         },
         "mode": "markers",
         "name": "brothers",
         "scene": "scene",
         "showlegend": true,
         "type": "scatter3d",
         "x": [
          -0.05815883353352547
         ],
         "y": [
          0.6178808808326721
         ],
         "z": [
          -0.1099608987569809
         ]
        },
        {
         "hovertemplate": "color=best<br>0=%{x}<br>1=%{y}<br>2=%{z}<extra></extra>",
         "legendgroup": "best",
         "marker": {
          "color": "#B6E880",
          "symbol": "circle"
         },
         "mode": "markers",
         "name": "best",
         "scene": "scene",
         "showlegend": true,
         "type": "scatter3d",
         "x": [
          -0.1890649050474167
         ],
         "y": [
          0.6476591229438782
         ],
         "z": [
          0.10962158441543579
         ]
        },
        {
         "hovertemplate": "color=very<br>0=%{x}<br>1=%{y}<br>2=%{z}<extra></extra>",
         "legendgroup": "very",
         "marker": {
          "color": "#FF97FF",
          "symbol": "circle"
         },
         "mode": "markers",
         "name": "very",
         "scene": "scene",
         "showlegend": true,
         "type": "scatter3d",
         "x": [
          -0.20074227452278137
         ],
         "y": [
          0.37207984924316406
         ],
         "z": [
          0.041383154690265656
         ]
        },
        {
         "hovertemplate": "color=die<br>0=%{x}<br>1=%{y}<br>2=%{z}<extra></extra>",
         "legendgroup": "die",
         "marker": {
          "color": "#FECB52",
          "symbol": "circle"
         },
         "mode": "markers",
         "name": "die",
         "scene": "scene",
         "showlegend": true,
         "type": "scatter3d",
         "x": [
          -0.12805496156215668
         ],
         "y": [
          0.7283055782318115
         ],
         "z": [
          0.17193038761615753
         ]
        },
        {
         "hovertemplate": "color=brought<br>0=%{x}<br>1=%{y}<br>2=%{z}<extra></extra>",
         "legendgroup": "brought",
         "marker": {
          "color": "#636efa",
          "symbol": "circle"
         },
         "mode": "markers",
         "name": "brought",
         "scene": "scene",
         "showlegend": true,
         "type": "scatter3d",
         "x": [
          -0.06835652887821198
         ],
         "y": [
          0.35065320134162903
         ],
         "z": [
          0.3797000050544739
         ]
        },
        {
         "hovertemplate": "color=soon<br>0=%{x}<br>1=%{y}<br>2=%{z}<extra></extra>",
         "legendgroup": "soon",
         "marker": {
          "color": "#EF553B",
          "symbol": "circle"
         },
         "mode": "markers",
         "name": "soon",
         "scene": "scene",
         "showlegend": true,
         "type": "scatter3d",
         "x": [
          0.010991432704031467
         ],
         "y": [
          0.5386993885040283
         ],
         "z": [
          0.08516926318407059
         ]
        },
        {
         "hovertemplate": "color=far<br>0=%{x}<br>1=%{y}<br>2=%{z}<extra></extra>",
         "legendgroup": "far",
         "marker": {
          "color": "#00cc96",
          "symbol": "circle"
         },
         "mode": "markers",
         "name": "far",
         "scene": "scene",
         "showlegend": true,
         "type": "scatter3d",
         "x": [
          0.12090568244457245
         ],
         "y": [
          0.5406221747398376
         ],
         "z": [
          -0.0026298430748283863
         ]
        },
        {
         "hovertemplate": "color=died<br>0=%{x}<br>1=%{y}<br>2=%{z}<extra></extra>",
         "legendgroup": "died",
         "marker": {
          "color": "#ab63fa",
          "symbol": "circle"
         },
         "mode": "markers",
         "name": "died",
         "scene": "scene",
         "showlegend": true,
         "type": "scatter3d",
         "x": [
          -0.10464953631162643
         ],
         "y": [
          0.49432194232940674
         ],
         "z": [
          0.2563296854496002
         ]
        },
        {
         "hovertemplate": "color=north<br>0=%{x}<br>1=%{y}<br>2=%{z}<extra></extra>",
         "legendgroup": "north",
         "marker": {
          "color": "#FFA15A",
          "symbol": "circle"
         },
         "mode": "markers",
         "name": "north",
         "scene": "scene",
         "showlegend": true,
         "type": "scatter3d",
         "x": [
          0.08172078430652618
         ],
         "y": [
          0.7012559175491333
         ],
         "z": [
          -0.18016885221004486
         ]
        },
        {
         "hovertemplate": "color=child<br>0=%{x}<br>1=%{y}<br>2=%{z}<extra></extra>",
         "legendgroup": "child",
         "marker": {
          "color": "#19d3f3",
          "symbol": "circle"
         },
         "mode": "markers",
         "name": "child",
         "scene": "scene",
         "showlegend": true,
         "type": "scatter3d",
         "x": [
          -0.22556307911872864
         ],
         "y": [
          0.5612176060676575
         ],
         "z": [
          0.13878276944160461
         ]
        },
        {
         "hovertemplate": "color=fear<br>0=%{x}<br>1=%{y}<br>2=%{z}<extra></extra>",
         "legendgroup": "fear",
         "marker": {
          "color": "#FF6692",
          "symbol": "circle"
         },
         "mode": "markers",
         "name": "fear",
         "scene": "scene",
         "showlegend": true,
         "type": "scatter3d",
         "x": [
          -0.12233118712902069
         ],
         "y": [
          0.5762884020805359
         ],
         "z": [
          0.18053720891475677
         ]
        },
        {
         "hovertemplate": "color=along<br>0=%{x}<br>1=%{y}<br>2=%{z}<extra></extra>",
         "legendgroup": "along",
         "marker": {
          "color": "#B6E880",
          "symbol": "circle"
         },
         "mode": "markers",
         "name": "along",
         "scene": "scene",
         "showlegend": true,
         "type": "scatter3d",
         "x": [
          0.4128018021583557
         ],
         "y": [
          0.2979101240634918
         ],
         "z": [
          -0.1329185515642166
         ]
        },
        {
         "hovertemplate": "color=word<br>0=%{x}<br>1=%{y}<br>2=%{z}<extra></extra>",
         "legendgroup": "word",
         "marker": {
          "color": "#FF97FF",
          "symbol": "circle"
         },
         "mode": "markers",
         "name": "word",
         "scene": "scene",
         "showlegend": true,
         "type": "scatter3d",
         "x": [
          -0.109556183218956
         ],
         "y": [
          0.6863507628440857
         ],
         "z": [
          0.12508618831634521
         ]
        },
        {
         "hovertemplate": "color=brienne<br>0=%{x}<br>1=%{y}<br>2=%{z}<extra></extra>",
         "legendgroup": "brienne",
         "marker": {
          "color": "#FECB52",
          "symbol": "circle"
         },
         "mode": "markers",
         "name": "brienne",
         "scene": "scene",
         "showlegend": true,
         "type": "scatter3d",
         "x": [
          0.07173233479261398
         ],
         "y": [
          0.27719584107398987
         ],
         "z": [
          0.17316243052482605
         ]
        },
        {
         "hovertemplate": "color=both<br>0=%{x}<br>1=%{y}<br>2=%{z}<extra></extra>",
         "legendgroup": "both",
         "marker": {
          "color": "#636efa",
          "symbol": "circle"
         },
         "mode": "markers",
         "name": "both",
         "scene": "scene",
         "showlegend": true,
         "type": "scatter3d",
         "x": [
          0.07254189252853394
         ],
         "y": [
          0.41247645020484924
         ],
         "z": [
          0.08124995231628418
         ]
        },
        {
         "hovertemplate": "color=taken<br>0=%{x}<br>1=%{y}<br>2=%{z}<extra></extra>",
         "legendgroup": "taken",
         "marker": {
          "color": "#EF553B",
          "symbol": "circle"
         },
         "mode": "markers",
         "name": "taken",
         "scene": "scene",
         "showlegend": true,
         "type": "scatter3d",
         "x": [
          -0.12863361835479736
         ],
         "y": [
          0.622089684009552
         ],
         "z": [
          0.25528058409690857
         ]
        },
        {
         "hovertemplate": "color=battle<br>0=%{x}<br>1=%{y}<br>2=%{z}<extra></extra>",
         "legendgroup": "battle",
         "marker": {
          "color": "#00cc96",
          "symbol": "circle"
         },
         "mode": "markers",
         "name": "battle",
         "scene": "scene",
         "showlegend": true,
         "type": "scatter3d",
         "x": [
          0.0035094800405204296
         ],
         "y": [
          0.6884015202522278
         ],
         "z": [
          -0.11397702991962433
         ]
        },
        {
         "hovertemplate": "color=help<br>0=%{x}<br>1=%{y}<br>2=%{z}<extra></extra>",
         "legendgroup": "help",
         "marker": {
          "color": "#ab63fa",
          "symbol": "circle"
         },
         "mode": "markers",
         "name": "help",
         "scene": "scene",
         "showlegend": true,
         "type": "scatter3d",
         "x": [
          -0.24863670766353607
         ],
         "y": [
          0.5765469670295715
         ],
         "z": [
          0.3202299475669861
         ]
        },
        {
         "hovertemplate": "color=new<br>0=%{x}<br>1=%{y}<br>2=%{z}<extra></extra>",
         "legendgroup": "new",
         "marker": {
          "color": "#FFA15A",
          "symbol": "circle"
         },
         "mode": "markers",
         "name": "new",
         "scene": "scene",
         "showlegend": true,
         "type": "scatter3d",
         "x": [
          -0.20982123911380768
         ],
         "y": [
          0.5659517049789429
         ],
         "z": [
          -0.22250966727733612
         ]
        },
        {
         "hovertemplate": "color=tywin<br>0=%{x}<br>1=%{y}<br>2=%{z}<extra></extra>",
         "legendgroup": "tywin",
         "marker": {
          "color": "#19d3f3",
          "symbol": "circle"
         },
         "mode": "markers",
         "name": "tywin",
         "scene": "scene",
         "showlegend": true,
         "type": "scatter3d",
         "x": [
          -0.19434203207492828
         ],
         "y": [
          0.431093692779541
         ],
         "z": [
          0.05240360274910927
         ]
        },
        {
         "hovertemplate": "color=davos<br>0=%{x}<br>1=%{y}<br>2=%{z}<extra></extra>",
         "legendgroup": "davos",
         "marker": {
          "color": "#FF6692",
          "symbol": "circle"
         },
         "mode": "markers",
         "name": "davos",
         "scene": "scene",
         "showlegend": true,
         "type": "scatter3d",
         "x": [
          -0.011229719035327435
         ],
         "y": [
          0.3100861608982086
         ],
         "z": [
          -0.059039417654275894
         ]
        },
        {
         "hovertemplate": "color=lords<br>0=%{x}<br>1=%{y}<br>2=%{z}<extra></extra>",
         "legendgroup": "lords",
         "marker": {
          "color": "#B6E880",
          "symbol": "circle"
         },
         "mode": "markers",
         "name": "lords",
         "scene": "scene",
         "showlegend": true,
         "type": "scatter3d",
         "x": [
          -0.21951182186603546
         ],
         "y": [
          0.6321704983711243
         ],
         "z": [
          -0.2915208339691162
         ]
        },
        {
         "hovertemplate": "color=something<br>0=%{x}<br>1=%{y}<br>2=%{z}<extra></extra>",
         "legendgroup": "something",
         "marker": {
          "color": "#FF97FF",
          "symbol": "circle"
         },
         "mode": "markers",
         "name": "something",
         "scene": "scene",
         "showlegend": true,
         "type": "scatter3d",
         "x": [
          0.06500324606895447
         ],
         "y": [
          0.35323864221572876
         ],
         "z": [
          0.24329514801502228
         ]
        },
        {
         "hovertemplate": "color=ve<br>0=%{x}<br>1=%{y}<br>2=%{z}<extra></extra>",
         "legendgroup": "ve",
         "marker": {
          "color": "#FECB52",
          "symbol": "circle"
         },
         "mode": "markers",
         "name": "ve",
         "scene": "scene",
         "showlegend": true,
         "type": "scatter3d",
         "x": [
          -0.18693861365318298
         ],
         "y": [
          0.4882790446281433
         ],
         "z": [
          -0.06221507117152214
         ]
        },
        {
         "hovertemplate": "color=wife<br>0=%{x}<br>1=%{y}<br>2=%{z}<extra></extra>",
         "legendgroup": "wife",
         "marker": {
          "color": "#636efa",
          "symbol": "circle"
         },
         "mode": "markers",
         "name": "wife",
         "scene": "scene",
         "showlegend": true,
         "type": "scatter3d",
         "x": [
          -0.3372257947921753
         ],
         "y": [
          0.5577487349510193
         ],
         "z": [
          0.08075343072414398
         ]
        },
        {
         "hovertemplate": "color=mean<br>0=%{x}<br>1=%{y}<br>2=%{z}<extra></extra>",
         "legendgroup": "mean",
         "marker": {
          "color": "#EF553B",
          "symbol": "circle"
         },
         "mode": "markers",
         "name": "mean",
         "scene": "scene",
         "showlegend": true,
         "type": "scatter3d",
         "x": [
          -0.38568931818008423
         ],
         "y": [
          0.5945913195610046
         ],
         "z": [
          0.20114712417125702
         ]
        },
        {
         "hovertemplate": "color=rest<br>0=%{x}<br>1=%{y}<br>2=%{z}<extra></extra>",
         "legendgroup": "rest",
         "marker": {
          "color": "#00cc96",
          "symbol": "circle"
         },
         "mode": "markers",
         "name": "rest",
         "scene": "scene",
         "showlegend": true,
         "type": "scatter3d",
         "x": [
          0.08371433615684509
         ],
         "y": [
          0.64601731300354
         ],
         "z": [
          -0.04768411070108414
         ]
        },
        {
         "hovertemplate": "color=hall<br>0=%{x}<br>1=%{y}<br>2=%{z}<extra></extra>",
         "legendgroup": "hall",
         "marker": {
          "color": "#ab63fa",
          "symbol": "circle"
         },
         "mode": "markers",
         "name": "hall",
         "scene": "scene",
         "showlegend": true,
         "type": "scatter3d",
         "x": [
          0.3208874464035034
         ],
         "y": [
          0.5098295211791992
         ],
         "z": [
          -0.007203117944300175
         ]
        },
        {
         "hovertemplate": "color=kill<br>0=%{x}<br>1=%{y}<br>2=%{z}<extra></extra>",
         "legendgroup": "kill",
         "marker": {
          "color": "#FFA15A",
          "symbol": "circle"
         },
         "mode": "markers",
         "name": "kill",
         "scene": "scene",
         "showlegend": true,
         "type": "scatter3d",
         "x": [
          -0.2985791862010956
         ],
         "y": [
          0.6037949323654175
         ],
         "z": [
          0.3677355945110321
         ]
        },
        {
         "hovertemplate": "color=strong<br>0=%{x}<br>1=%{y}<br>2=%{z}<extra></extra>",
         "legendgroup": "strong",
         "marker": {
          "color": "#19d3f3",
          "symbol": "circle"
         },
         "mode": "markers",
         "name": "strong",
         "scene": "scene",
         "showlegend": true,
         "type": "scatter3d",
         "x": [
          -0.12808504700660706
         ],
         "y": [
          0.3459411859512329
         ],
         "z": [
          0.07794471830129623
         ]
        },
        {
         "hovertemplate": "color=steel<br>0=%{x}<br>1=%{y}<br>2=%{z}<extra></extra>",
         "legendgroup": "steel",
         "marker": {
          "color": "#FF6692",
          "symbol": "circle"
         },
         "mode": "markers",
         "name": "steel",
         "scene": "scene",
         "showlegend": true,
         "type": "scatter3d",
         "x": [
          0.46490320563316345
         ],
         "y": [
          0.2112383395433426
         ],
         "z": [
          0.023423168808221817
         ]
        },
        {
         "hovertemplate": "color=began<br>0=%{x}<br>1=%{y}<br>2=%{z}<extra></extra>",
         "legendgroup": "began",
         "marker": {
          "color": "#B6E880",
          "symbol": "circle"
         },
         "mode": "markers",
         "name": "began",
         "scene": "scene",
         "showlegend": true,
         "type": "scatter3d",
         "x": [
          0.26410868763923645
         ],
         "y": [
          0.2207358032464981
         ],
         "z": [
          0.4287167489528656
         ]
        },
        {
         "hovertemplate": "color=sound<br>0=%{x}<br>1=%{y}<br>2=%{z}<extra></extra>",
         "legendgroup": "sound",
         "marker": {
          "color": "#FF97FF",
          "symbol": "circle"
         },
         "mode": "markers",
         "name": "sound",
         "scene": "scene",
         "showlegend": true,
         "type": "scatter3d",
         "x": [
          0.3741082549095154
         ],
         "y": [
          0.2541157305240631
         ],
         "z": [
          0.18213096261024475
         ]
        },
        {
         "hovertemplate": "color=won<br>0=%{x}<br>1=%{y}<br>2=%{z}<extra></extra>",
         "legendgroup": "won",
         "marker": {
          "color": "#FECB52",
          "symbol": "circle"
         },
         "mode": "markers",
         "name": "won",
         "scene": "scene",
         "showlegend": true,
         "type": "scatter3d",
         "x": [
          -0.3416140079498291
         ],
         "y": [
          0.5351811647415161
         ],
         "z": [
          0.1825273483991623
         ]
        },
        {
         "hovertemplate": "color=dragon<br>0=%{x}<br>1=%{y}<br>2=%{z}<extra></extra>",
         "legendgroup": "dragon",
         "marker": {
          "color": "#636efa",
          "symbol": "circle"
         },
         "mode": "markers",
         "name": "dragon",
         "scene": "scene",
         "showlegend": true,
         "type": "scatter3d",
         "x": [
          0.16648100316524506
         ],
         "y": [
          0.49499085545539856
         ],
         "z": [
          -0.11167371273040771
         ]
        },
        {
         "hovertemplate": "color=past<br>0=%{x}<br>1=%{y}<br>2=%{z}<extra></extra>",
         "legendgroup": "past",
         "marker": {
          "color": "#EF553B",
          "symbol": "circle"
         },
         "mode": "markers",
         "name": "past",
         "scene": "scene",
         "showlegend": true,
         "type": "scatter3d",
         "x": [
          0.27010077238082886
         ],
         "y": [
          0.2773604691028595
         ],
         "z": [
          0.0768018290400505
         ]
        },
        {
         "hovertemplate": "color=life<br>0=%{x}<br>1=%{y}<br>2=%{z}<extra></extra>",
         "legendgroup": "life",
         "marker": {
          "color": "#00cc96",
          "symbol": "circle"
         },
         "mode": "markers",
         "name": "life",
         "scene": "scene",
         "showlegend": true,
         "type": "scatter3d",
         "x": [
          -0.08830689638853073
         ],
         "y": [
          0.755200982093811
         ],
         "z": [
          -0.03415580093860626
         ]
        },
        {
         "hovertemplate": "color=tower<br>0=%{x}<br>1=%{y}<br>2=%{z}<extra></extra>",
         "legendgroup": "tower",
         "marker": {
          "color": "#ab63fa",
          "symbol": "circle"
         },
         "mode": "markers",
         "name": "tower",
         "scene": "scene",
         "showlegend": true,
         "type": "scatter3d",
         "x": [
          0.34653374552726746
         ],
         "y": [
          0.44642022252082825
         ],
         "z": [
          0.005129462573677301
         ]
        },
        {
         "hovertemplate": "color=killed<br>0=%{x}<br>1=%{y}<br>2=%{z}<extra></extra>",
         "legendgroup": "killed",
         "marker": {
          "color": "#FFA15A",
          "symbol": "circle"
         },
         "mode": "markers",
         "name": "killed",
         "scene": "scene",
         "showlegend": true,
         "type": "scatter3d",
         "x": [
          -0.27145034074783325
         ],
         "y": [
          0.5039538145065308
         ],
         "z": [
          0.41948050260543823
         ]
        },
        {
         "hovertemplate": "color=arm<br>0=%{x}<br>1=%{y}<br>2=%{z}<extra></extra>",
         "legendgroup": "arm",
         "marker": {
          "color": "#19d3f3",
          "symbol": "circle"
         },
         "mode": "markers",
         "name": "arm",
         "scene": "scene",
         "showlegend": true,
         "type": "scatter3d",
         "x": [
          0.3746713697910309
         ],
         "y": [
          0.3196525275707245
         ],
         "z": [
          0.45837655663490295
         ]
        },
        {
         "hovertemplate": "color=sons<br>0=%{x}<br>1=%{y}<br>2=%{z}<extra></extra>",
         "legendgroup": "sons",
         "marker": {
          "color": "#FF6692",
          "symbol": "circle"
         },
         "mode": "markers",
         "name": "sons",
         "scene": "scene",
         "showlegend": true,
         "type": "scatter3d",
         "x": [
          -0.28096479177474976
         ],
         "y": [
          0.6405764818191528
         ],
         "z": [
          -0.14170508086681366
         ]
        },
        {
         "hovertemplate": "color=tried<br>0=%{x}<br>1=%{y}<br>2=%{z}<extra></extra>",
         "legendgroup": "tried",
         "marker": {
          "color": "#B6E880",
          "symbol": "circle"
         },
         "mode": "markers",
         "name": "tried",
         "scene": "scene",
         "showlegend": true,
         "type": "scatter3d",
         "x": [
          0.01933847740292549
         ],
         "y": [
          0.36657506227493286
         ],
         "z": [
          0.5058439373970032
         ]
        },
        {
         "hovertemplate": "color=free<br>0=%{x}<br>1=%{y}<br>2=%{z}<extra></extra>",
         "legendgroup": "free",
         "marker": {
          "color": "#FF97FF",
          "symbol": "circle"
         },
         "mode": "markers",
         "name": "free",
         "scene": "scene",
         "showlegend": true,
         "type": "scatter3d",
         "x": [
          -0.040016911923885345
         ],
         "y": [
          0.5078548789024353
         ],
         "z": [
          -0.0636642724275589
         ]
        },
        {
         "hovertemplate": "color=thing<br>0=%{x}<br>1=%{y}<br>2=%{z}<extra></extra>",
         "legendgroup": "thing",
         "marker": {
          "color": "#FECB52",
          "symbol": "circle"
         },
         "mode": "markers",
         "name": "thing",
         "scene": "scene",
         "showlegend": true,
         "type": "scatter3d",
         "x": [
          0.01372582744807005
         ],
         "y": [
          0.5163193941116333
         ],
         "z": [
          0.07609163969755173
         ]
        },
        {
         "hovertemplate": "color=days<br>0=%{x}<br>1=%{y}<br>2=%{z}<extra></extra>",
         "legendgroup": "days",
         "marker": {
          "color": "#636efa",
          "symbol": "circle"
         },
         "mode": "markers",
         "name": "days",
         "scene": "scene",
         "showlegend": true,
         "type": "scatter3d",
         "x": [
          0.06091379374265671
         ],
         "y": [
          0.6538437008857727
         ],
         "z": [
          -0.13863849639892578
         ]
        },
        {
         "hovertemplate": "color=bear<br>0=%{x}<br>1=%{y}<br>2=%{z}<extra></extra>",
         "legendgroup": "bear",
         "marker": {
          "color": "#EF553B",
          "symbol": "circle"
         },
         "mode": "markers",
         "name": "bear",
         "scene": "scene",
         "showlegend": true,
         "type": "scatter3d",
         "x": [
          -0.037726063281297684
         ],
         "y": [
          0.3875342905521393
         ],
         "z": [
          0.07741228491067886
         ]
        },
        {
         "hovertemplate": "color=bloody<br>0=%{x}<br>1=%{y}<br>2=%{z}<extra></extra>",
         "legendgroup": "bloody",
         "marker": {
          "color": "#00cc96",
          "symbol": "circle"
         },
         "mode": "markers",
         "name": "bloody",
         "scene": "scene",
         "showlegend": true,
         "type": "scatter3d",
         "x": [
          0.06506412476301193
         ],
         "y": [
          0.38236773014068604
         ],
         "z": [
          0.15955105423927307
         ]
        },
        {
         "hovertemplate": "color=heart<br>0=%{x}<br>1=%{y}<br>2=%{z}<extra></extra>",
         "legendgroup": "heart",
         "marker": {
          "color": "#ab63fa",
          "symbol": "circle"
         },
         "mode": "markers",
         "name": "heart",
         "scene": "scene",
         "showlegend": true,
         "type": "scatter3d",
         "x": [
          0.18991701304912567
         ],
         "y": [
          0.47268325090408325
         ],
         "z": [
          0.11925507336854935
         ]
        },
        {
         "hovertemplate": "color=pale<br>0=%{x}<br>1=%{y}<br>2=%{z}<extra></extra>",
         "legendgroup": "pale",
         "marker": {
          "color": "#FFA15A",
          "symbol": "circle"
         },
         "mode": "markers",
         "name": "pale",
         "scene": "scene",
         "showlegend": true,
         "type": "scatter3d",
         "x": [
          0.5305539965629578
         ],
         "y": [
          -0.005363410338759422
         ],
         "z": [
          0.1748344749212265
         ]
        },
        {
         "hovertemplate": "color=love<br>0=%{x}<br>1=%{y}<br>2=%{z}<extra></extra>",
         "legendgroup": "love",
         "marker": {
          "color": "#19d3f3",
          "symbol": "circle"
         },
         "mode": "markers",
         "name": "love",
         "scene": "scene",
         "showlegend": true,
         "type": "scatter3d",
         "x": [
          -0.5114300847053528
         ],
         "y": [
          0.6295073628425598
         ],
         "z": [
          0.14113515615463257
         ]
        },
        {
         "hovertemplate": "color=moment<br>0=%{x}<br>1=%{y}<br>2=%{z}<extra></extra>",
         "legendgroup": "moment",
         "marker": {
          "color": "#FF6692",
          "symbol": "circle"
         },
         "mode": "markers",
         "name": "moment",
         "scene": "scene",
         "showlegend": true,
         "type": "scatter3d",
         "x": [
          0.11138538271188736
         ],
         "y": [
          0.41506439447402954
         ],
         "z": [
          0.33239004015922546
         ]
        },
        {
         "hovertemplate": "color=sat<br>0=%{x}<br>1=%{y}<br>2=%{z}<extra></extra>",
         "legendgroup": "sat",
         "marker": {
          "color": "#B6E880",
          "symbol": "circle"
         },
         "mode": "markers",
         "name": "sat",
         "scene": "scene",
         "showlegend": true,
         "type": "scatter3d",
         "x": [
          0.2852276861667633
         ],
         "y": [
          0.2139948159456253
         ],
         "z": [
          0.46017032861709595
         ]
        },
        {
         "hovertemplate": "color=bring<br>0=%{x}<br>1=%{y}<br>2=%{z}<extra></extra>",
         "legendgroup": "bring",
         "marker": {
          "color": "#FF97FF",
          "symbol": "circle"
         },
         "mode": "markers",
         "name": "bring",
         "scene": "scene",
         "showlegend": true,
         "type": "scatter3d",
         "x": [
          -0.24565407633781433
         ],
         "y": [
          0.5712233185768127
         ],
         "z": [
          0.35112112760543823
         ]
        },
        {
         "hovertemplate": "color=bed<br>0=%{x}<br>1=%{y}<br>2=%{z}<extra></extra>",
         "legendgroup": "bed",
         "marker": {
          "color": "#FECB52",
          "symbol": "circle"
         },
         "mode": "markers",
         "name": "bed",
         "scene": "scene",
         "showlegend": true,
         "type": "scatter3d",
         "x": [
          0.20872536301612854
         ],
         "y": [
          0.572180986404419
         ],
         "z": [
          0.2511584162712097
         ]
        },
        {
         "hovertemplate": "color=close<br>0=%{x}<br>1=%{y}<br>2=%{z}<extra></extra>",
         "legendgroup": "close",
         "marker": {
          "color": "#636efa",
          "symbol": "circle"
         },
         "mode": "markers",
         "name": "close",
         "scene": "scene",
         "showlegend": true,
         "type": "scatter3d",
         "x": [
          0.18096518516540527
         ],
         "y": [
          0.37083709239959717
         ],
         "z": [
          0.20427125692367554
         ]
        },
        {
         "hovertemplate": "color=knights<br>0=%{x}<br>1=%{y}<br>2=%{z}<extra></extra>",
         "legendgroup": "knights",
         "marker": {
          "color": "#EF553B",
          "symbol": "circle"
         },
         "mode": "markers",
         "name": "knights",
         "scene": "scene",
         "showlegend": true,
         "type": "scatter3d",
         "x": [
          -0.073582723736763
         ],
         "y": [
          0.5518035292625427
         ],
         "z": [
          -0.26236340403556824
         ]
        },
        {
         "hovertemplate": "color=cut<br>0=%{x}<br>1=%{y}<br>2=%{z}<extra></extra>",
         "legendgroup": "cut",
         "marker": {
          "color": "#00cc96",
          "symbol": "circle"
         },
         "mode": "markers",
         "name": "cut",
         "scene": "scene",
         "showlegend": true,
         "type": "scatter3d",
         "x": [
          0.15070125460624695
         ],
         "y": [
          0.40722519159317017
         ],
         "z": [
          0.4257320463657379
         ]
        },
        {
         "hovertemplate": "color=wolf<br>0=%{x}<br>1=%{y}<br>2=%{z}<extra></extra>",
         "legendgroup": "wolf",
         "marker": {
          "color": "#ab63fa",
          "symbol": "circle"
         },
         "mode": "markers",
         "name": "wolf",
         "scene": "scene",
         "showlegend": true,
         "type": "scatter3d",
         "x": [
          0.13559915125370026
         ],
         "y": [
          0.4468878507614136
         ],
         "z": [
          0.11180379986763
         ]
        },
        {
         "hovertemplate": "color=horses<br>0=%{x}<br>1=%{y}<br>2=%{z}<extra></extra>",
         "legendgroup": "horses",
         "marker": {
          "color": "#FFA15A",
          "symbol": "circle"
         },
         "mode": "markers",
         "name": "horses",
         "scene": "scene",
         "showlegend": true,
         "type": "scatter3d",
         "x": [
          0.42676442861557007
         ],
         "y": [
          0.4205436706542969
         ],
         "z": [
          -0.14637760818004608
         ]
        },
        {
         "hovertemplate": "color=smile<br>0=%{x}<br>1=%{y}<br>2=%{z}<extra></extra>",
         "legendgroup": "smile",
         "marker": {
          "color": "#19d3f3",
          "symbol": "circle"
         },
         "mode": "markers",
         "name": "smile",
         "scene": "scene",
         "showlegend": true,
         "type": "scatter3d",
         "x": [
          -0.06010758876800537
         ],
         "y": [
          0.208144873380661
         ],
         "z": [
          0.40344464778900146
         ]
        },
        {
         "hovertemplate": "color=death<br>0=%{x}<br>1=%{y}<br>2=%{z}<extra></extra>",
         "legendgroup": "death",
         "marker": {
          "color": "#FF6692",
          "symbol": "circle"
         },
         "mode": "markers",
         "name": "death",
         "scene": "scene",
         "showlegend": true,
         "type": "scatter3d",
         "x": [
          -0.09345970302820206
         ],
         "y": [
          0.6757640838623047
         ],
         "z": [
          0.016567137092351913
         ]
        },
        {
         "hovertemplate": "color=inside<br>0=%{x}<br>1=%{y}<br>2=%{z}<extra></extra>",
         "legendgroup": "inside",
         "marker": {
          "color": "#B6E880",
          "symbol": "circle"
         },
         "mode": "markers",
         "name": "inside",
         "scene": "scene",
         "showlegend": true,
         "type": "scatter3d",
         "x": [
          0.4277251660823822
         ],
         "y": [
          0.24106547236442566
         ],
         "z": [
          0.21285094320774078
         ]
        },
        {
         "hovertemplate": "color=four<br>0=%{x}<br>1=%{y}<br>2=%{z}<extra></extra>",
         "legendgroup": "four",
         "marker": {
          "color": "#FF97FF",
          "symbol": "circle"
         },
         "mode": "markers",
         "name": "four",
         "scene": "scene",
         "showlegend": true,
         "type": "scatter3d",
         "x": [
          0.1549510359764099
         ],
         "y": [
          0.4352065324783325
         ],
         "z": [
          -0.21237656474113464
         ]
        },
        {
         "hovertemplate": "color=brown<br>0=%{x}<br>1=%{y}<br>2=%{z}<extra></extra>",
         "legendgroup": "brown",
         "marker": {
          "color": "#FECB52",
          "symbol": "circle"
         },
         "mode": "markers",
         "name": "brown",
         "scene": "scene",
         "showlegend": true,
         "type": "scatter3d",
         "x": [
          0.37648317217826843
         ],
         "y": [
          -0.042662717401981354
         ],
         "z": [
          0.030497338622808456
         ]
        },
        {
         "hovertemplate": "color=dragons<br>0=%{x}<br>1=%{y}<br>2=%{z}<extra></extra>",
         "legendgroup": "dragons",
         "marker": {
          "color": "#636efa",
          "symbol": "circle"
         },
         "mode": "markers",
         "name": "dragons",
         "scene": "scene",
         "showlegend": true,
         "type": "scatter3d",
         "x": [
          0.02087961696088314
         ],
         "y": [
          0.6245555281639099
         ],
         "z": [
          -0.2822684645652771
         ]
        },
        {
         "hovertemplate": "color=hot<br>0=%{x}<br>1=%{y}<br>2=%{z}<extra></extra>",
         "legendgroup": "hot",
         "marker": {
          "color": "#EF553B",
          "symbol": "circle"
         },
         "mode": "markers",
         "name": "hot",
         "scene": "scene",
         "showlegend": true,
         "type": "scatter3d",
         "x": [
          0.3728947043418884
         ],
         "y": [
          0.21909001469612122
         ],
         "z": [
          0.14705441892147064
         ]
        },
        {
         "hovertemplate": "color=silver<br>0=%{x}<br>1=%{y}<br>2=%{z}<extra></extra>",
         "legendgroup": "silver",
         "marker": {
          "color": "#00cc96",
          "symbol": "circle"
         },
         "mode": "markers",
         "name": "silver",
         "scene": "scene",
         "showlegend": true,
         "type": "scatter3d",
         "x": [
          0.266753613948822
         ],
         "y": [
          0.24522922933101654
         ],
         "z": [
          -0.0729106143116951
         ]
        },
        {
         "hovertemplate": "color=part<br>0=%{x}<br>1=%{y}<br>2=%{z}<extra></extra>",
         "legendgroup": "part",
         "marker": {
          "color": "#ab63fa",
          "symbol": "circle"
         },
         "mode": "markers",
         "name": "part",
         "scene": "scene",
         "showlegend": true,
         "type": "scatter3d",
         "x": [
          -0.1609572172164917
         ],
         "y": [
          0.6783291101455688
         ],
         "z": [
          -0.07902265340089798
         ]
        },
        {
         "hovertemplate": "color=bastard<br>0=%{x}<br>1=%{y}<br>2=%{z}<extra></extra>",
         "legendgroup": "bastard",
         "marker": {
          "color": "#FFA15A",
          "symbol": "circle"
         },
         "mode": "markers",
         "name": "bastard",
         "scene": "scene",
         "showlegend": true,
         "type": "scatter3d",
         "x": [
          -0.39204132556915283
         ],
         "y": [
          0.5256772041320801
         ],
         "z": [
          0.12080491334199905
         ]
        },
        {
         "hovertemplate": "color=open<br>0=%{x}<br>1=%{y}<br>2=%{z}<extra></extra>",
         "legendgroup": "open",
         "marker": {
          "color": "#19d3f3",
          "symbol": "circle"
         },
         "mode": "markers",
         "name": "open",
         "scene": "scene",
         "showlegend": true,
         "type": "scatter3d",
         "x": [
          0.25583338737487793
         ],
         "y": [
          0.2601717412471771
         ],
         "z": [
          0.2556982636451721
         ]
        },
        {
         "hovertemplate": "color=nor<br>0=%{x}<br>1=%{y}<br>2=%{z}<extra></extra>",
         "legendgroup": "nor",
         "marker": {
          "color": "#FF6692",
          "symbol": "circle"
         },
         "mode": "markers",
         "name": "nor",
         "scene": "scene",
         "showlegend": true,
         "type": "scatter3d",
         "x": [
          -0.2011140137910843
         ],
         "y": [
          0.4346129596233368
         ],
         "z": [
          -0.004536259453743696
         ]
        },
        {
         "hovertemplate": "color=thousand<br>0=%{x}<br>1=%{y}<br>2=%{z}<extra></extra>",
         "legendgroup": "thousand",
         "marker": {
          "color": "#B6E880",
          "symbol": "circle"
         },
         "mode": "markers",
         "name": "thousand",
         "scene": "scene",
         "showlegend": true,
         "type": "scatter3d",
         "x": [
          0.06943924725055695
         ],
         "y": [
          0.5516306757926941
         ],
         "z": [
          -0.278999000787735
         ]
        },
        {
         "hovertemplate": "color=landing<br>0=%{x}<br>1=%{y}<br>2=%{z}<extra></extra>",
         "legendgroup": "landing",
         "marker": {
          "color": "#FF97FF",
          "symbol": "circle"
         },
         "mode": "markers",
         "name": "landing",
         "scene": "scene",
         "showlegend": true,
         "type": "scatter3d",
         "x": [
          0.02582239918410778
         ],
         "y": [
          0.5894309282302856
         ],
         "z": [
          0.04398930072784424
         ]
        },
        {
         "hovertemplate": "color=uncle<br>0=%{x}<br>1=%{y}<br>2=%{z}<extra></extra>",
         "legendgroup": "uncle",
         "marker": {
          "color": "#FECB52",
          "symbol": "circle"
         },
         "mode": "markers",
         "name": "uncle",
         "scene": "scene",
         "showlegend": true,
         "type": "scatter3d",
         "x": [
          -0.41312262415885925
         ],
         "y": [
          0.603320300579071
         ],
         "z": [
          0.16878767311573029
         ]
        },
        {
         "hovertemplate": "color=above<br>0=%{x}<br>1=%{y}<br>2=%{z}<extra></extra>",
         "legendgroup": "above",
         "marker": {
          "color": "#636efa",
          "symbol": "circle"
         },
         "mode": "markers",
         "name": "above",
         "scene": "scene",
         "showlegend": true,
         "type": "scatter3d",
         "x": [
          0.40931233763694763
         ],
         "y": [
          0.21992729604244232
         ],
         "z": [
          0.06288452446460724
         ]
        },
        {
         "hovertemplate": "color=going<br>0=%{x}<br>1=%{y}<br>2=%{z}<extra></extra>",
         "legendgroup": "going",
         "marker": {
          "color": "#EF553B",
          "symbol": "circle"
         },
         "mode": "markers",
         "name": "going",
         "scene": "scene",
         "showlegend": true,
         "type": "scatter3d",
         "x": [
          0.029629288241267204
         ],
         "y": [
          0.541354775428772
         ],
         "z": [
          0.2411954700946808
         ]
        },
        {
         "hovertemplate": "color=blue<br>0=%{x}<br>1=%{y}<br>2=%{z}<extra></extra>",
         "legendgroup": "blue",
         "marker": {
          "color": "#00cc96",
          "symbol": "circle"
         },
         "mode": "markers",
         "name": "blue",
         "scene": "scene",
         "showlegend": true,
         "type": "scatter3d",
         "x": [
          0.3345125615596771
         ],
         "y": [
          0.13563065230846405
         ],
         "z": [
          -0.031129589304327965
         ]
        },
        {
         "hovertemplate": "color=air<br>0=%{x}<br>1=%{y}<br>2=%{z}<extra></extra>",
         "legendgroup": "air",
         "marker": {
          "color": "#ab63fa",
          "symbol": "circle"
         },
         "mode": "markers",
         "name": "air",
         "scene": "scene",
         "showlegend": true,
         "type": "scatter3d",
         "x": [
          0.6548435688018799
         ],
         "y": [
          0.2152465134859085
         ],
         "z": [
          0.11300422251224518
         ]
        },
        {
         "hovertemplate": "color=captain<br>0=%{x}<br>1=%{y}<br>2=%{z}<extra></extra>",
         "legendgroup": "captain",
         "marker": {
          "color": "#FFA15A",
          "symbol": "circle"
         },
         "mode": "markers",
         "name": "captain",
         "scene": "scene",
         "showlegend": true,
         "type": "scatter3d",
         "x": [
          -0.24497529864311218
         ],
         "y": [
          0.4198482632637024
         ],
         "z": [
          0.0029921340756118298
         ]
        },
        {
         "hovertemplate": "color=please<br>0=%{x}<br>1=%{y}<br>2=%{z}<extra></extra>",
         "legendgroup": "please",
         "marker": {
          "color": "#19d3f3",
          "symbol": "circle"
         },
         "mode": "markers",
         "name": "please",
         "scene": "scene",
         "showlegend": true,
         "type": "scatter3d",
         "x": [
          -0.3626706600189209
         ],
         "y": [
          0.4008735716342926
         ],
         "z": [
          0.39490509033203125
         ]
        },
        {
         "hovertemplate": "color=laughed<br>0=%{x}<br>1=%{y}<br>2=%{z}<extra></extra>",
         "legendgroup": "laughed",
         "marker": {
          "color": "#FF6692",
          "symbol": "circle"
         },
         "mode": "markers",
         "name": "laughed",
         "scene": "scene",
         "showlegend": true,
         "type": "scatter3d",
         "x": [
          -0.21863800287246704
         ],
         "y": [
          0.22172094881534576
         ],
         "z": [
          0.5665549039840698
         ]
        },
        {
         "hovertemplate": "color=river<br>0=%{x}<br>1=%{y}<br>2=%{z}<extra></extra>",
         "legendgroup": "river",
         "marker": {
          "color": "#B6E880",
          "symbol": "circle"
         },
         "mode": "markers",
         "name": "river",
         "scene": "scene",
         "showlegend": true,
         "type": "scatter3d",
         "x": [
          0.47715750336647034
         ],
         "y": [
          0.5372166633605957
         ],
         "z": [
          -0.27480632066726685
         ]
        },
        {
         "hovertemplate": "color=sun<br>0=%{x}<br>1=%{y}<br>2=%{z}<extra></extra>",
         "legendgroup": "sun",
         "marker": {
          "color": "#FF97FF",
          "symbol": "circle"
         },
         "mode": "markers",
         "name": "sun",
         "scene": "scene",
         "showlegend": true,
         "type": "scatter3d",
         "x": [
          0.4894581437110901
         ],
         "y": [
          0.4750500023365021
         ],
         "z": [
          -0.08940478414297104
         ]
        },
        {
         "hovertemplate": "color=rose<br>0=%{x}<br>1=%{y}<br>2=%{z}<extra></extra>",
         "legendgroup": "rose",
         "marker": {
          "color": "#FECB52",
          "symbol": "circle"
         },
         "mode": "markers",
         "name": "rose",
         "scene": "scene",
         "showlegend": true,
         "type": "scatter3d",
         "x": [
          0.45788469910621643
         ],
         "y": [
          0.18551385402679443
         ],
         "z": [
          0.30751165747642517
         ]
        },
        {
         "hovertemplate": "color=fell<br>0=%{x}<br>1=%{y}<br>2=%{z}<extra></extra>",
         "legendgroup": "fell",
         "marker": {
          "color": "#636efa",
          "symbol": "circle"
         },
         "mode": "markers",
         "name": "fell",
         "scene": "scene",
         "showlegend": true,
         "type": "scatter3d",
         "x": [
          0.39243799448013306
         ],
         "y": [
          0.238103449344635
         ],
         "z": [
          0.5113771557807922
         ]
        },
        {
         "hovertemplate": "color=war<br>0=%{x}<br>1=%{y}<br>2=%{z}<extra></extra>",
         "legendgroup": "war",
         "marker": {
          "color": "#EF553B",
          "symbol": "circle"
         },
         "mode": "markers",
         "name": "war",
         "scene": "scene",
         "showlegend": true,
         "type": "scatter3d",
         "x": [
          -0.1630174070596695
         ],
         "y": [
          0.7775999903678894
         ],
         "z": [
          -0.29901906847953796
         ]
        },
        {
         "hovertemplate": "color=golden<br>0=%{x}<br>1=%{y}<br>2=%{z}<extra></extra>",
         "legendgroup": "golden",
         "marker": {
          "color": "#00cc96",
          "symbol": "circle"
         },
         "mode": "markers",
         "name": "golden",
         "scene": "scene",
         "showlegend": true,
         "type": "scatter3d",
         "x": [
          0.25923171639442444
         ],
         "y": [
          0.25388073921203613
         ],
         "z": [
          -0.054219625890254974
         ]
        },
        {
         "hovertemplate": "color=sleep<br>0=%{x}<br>1=%{y}<br>2=%{z}<extra></extra>",
         "legendgroup": "sleep",
         "marker": {
          "color": "#ab63fa",
          "symbol": "circle"
         },
         "mode": "markers",
         "name": "sleep",
         "scene": "scene",
         "showlegend": true,
         "type": "scatter3d",
         "x": [
          0.1994202882051468
         ],
         "y": [
          0.5188615322113037
         ],
         "z": [
          0.3427123427391052
         ]
        },
        {
         "hovertemplate": "color=without<br>0=%{x}<br>1=%{y}<br>2=%{z}<extra></extra>",
         "legendgroup": "without",
         "marker": {
          "color": "#FFA15A",
          "symbol": "circle"
         },
         "mode": "markers",
         "name": "without",
         "scene": "scene",
         "showlegend": true,
         "type": "scatter3d",
         "x": [
          -0.3346138000488281
         ],
         "y": [
          0.49582672119140625
         ],
         "z": [
          0.11706738919019699
         ]
        },
        {
         "hovertemplate": "color=swords<br>0=%{x}<br>1=%{y}<br>2=%{z}<extra></extra>",
         "legendgroup": "swords",
         "marker": {
          "color": "#19d3f3",
          "symbol": "circle"
         },
         "mode": "markers",
         "name": "swords",
         "scene": "scene",
         "showlegend": true,
         "type": "scatter3d",
         "x": [
          0.08797737956047058
         ],
         "y": [
          0.5960526466369629
         ],
         "z": [
          -0.17607688903808594
         ]
        },
        {
         "hovertemplate": "color=speak<br>0=%{x}<br>1=%{y}<br>2=%{z}<extra></extra>",
         "legendgroup": "speak",
         "marker": {
          "color": "#FF6692",
          "symbol": "circle"
         },
         "mode": "markers",
         "name": "speak",
         "scene": "scene",
         "showlegend": true,
         "type": "scatter3d",
         "x": [
          -0.2951412796974182
         ],
         "y": [
          0.6258789300918579
         ],
         "z": [
          0.2286829948425293
         ]
        },
        {
         "hovertemplate": "color=renly<br>0=%{x}<br>1=%{y}<br>2=%{z}<extra></extra>",
         "legendgroup": "renly",
         "marker": {
          "color": "#B6E880",
          "symbol": "circle"
         },
         "mode": "markers",
         "name": "renly",
         "scene": "scene",
         "showlegend": true,
         "type": "scatter3d",
         "x": [
          -0.27398040890693665
         ],
         "y": [
          0.5025607347488403
         ],
         "z": [
          0.009423910640180111
         ]
        },
        {
         "hovertemplate": "color=full<br>0=%{x}<br>1=%{y}<br>2=%{z}<extra></extra>",
         "legendgroup": "full",
         "marker": {
          "color": "#FF97FF",
          "symbol": "circle"
         },
         "mode": "markers",
         "name": "full",
         "scene": "scene",
         "showlegend": true,
         "type": "scatter3d",
         "x": [
          0.17642994225025177
         ],
         "y": [
          0.19989316165447235
         ],
         "z": [
          -0.017179744318127632
         ]
        },
        {
         "hovertemplate": "color=fool<br>0=%{x}<br>1=%{y}<br>2=%{z}<extra></extra>",
         "legendgroup": "fool",
         "marker": {
          "color": "#FECB52",
          "symbol": "circle"
         },
         "mode": "markers",
         "name": "fool",
         "scene": "scene",
         "showlegend": true,
         "type": "scatter3d",
         "x": [
          -0.34603261947631836
         ],
         "y": [
          0.38525545597076416
         ],
         "z": [
          0.16267061233520508
         ]
        },
        {
         "hovertemplate": "color=certain<br>0=%{x}<br>1=%{y}<br>2=%{z}<extra></extra>",
         "legendgroup": "certain",
         "marker": {
          "color": "#636efa",
          "symbol": "circle"
         },
         "mode": "markers",
         "name": "certain",
         "scene": "scene",
         "showlegend": true,
         "type": "scatter3d",
         "x": [
          -0.2242983728647232
         ],
         "y": [
          0.6080191135406494
         ],
         "z": [
          0.008575620129704475
         ]
        },
        {
         "hovertemplate": "color=beyond<br>0=%{x}<br>1=%{y}<br>2=%{z}<extra></extra>",
         "legendgroup": "beyond",
         "marker": {
          "color": "#EF553B",
          "symbol": "circle"
         },
         "mode": "markers",
         "name": "beyond",
         "scene": "scene",
         "showlegend": true,
         "type": "scatter3d",
         "x": [
          0.029424544423818588
         ],
         "y": [
          0.46682024002075195
         ],
         "z": [
          -0.1792626976966858
         ]
        },
        {
         "hovertemplate": "color=feel<br>0=%{x}<br>1=%{y}<br>2=%{z}<extra></extra>",
         "legendgroup": "feel",
         "marker": {
          "color": "#00cc96",
          "symbol": "circle"
         },
         "mode": "markers",
         "name": "feel",
         "scene": "scene",
         "showlegend": true,
         "type": "scatter3d",
         "x": [
          0.1843433380126953
         ],
         "y": [
          0.3482958674430847
         ],
         "z": [
          0.3726729154586792
         ]
        },
        {
         "hovertemplate": "color=send<br>0=%{x}<br>1=%{y}<br>2=%{z}<extra></extra>",
         "legendgroup": "send",
         "marker": {
          "color": "#ab63fa",
          "symbol": "circle"
         },
         "mode": "markers",
         "name": "send",
         "scene": "scene",
         "showlegend": true,
         "type": "scatter3d",
         "x": [
          -0.24075238406658173
         ],
         "y": [
          0.63332200050354
         ],
         "z": [
          0.36404746770858765
         ]
        },
        {
         "hovertemplate": "color=tongue<br>0=%{x}<br>1=%{y}<br>2=%{z}<extra></extra>",
         "legendgroup": "tongue",
         "marker": {
          "color": "#FFA15A",
          "symbol": "circle"
         },
         "mode": "markers",
         "name": "tongue",
         "scene": "scene",
         "showlegend": true,
         "type": "scatter3d",
         "x": [
          0.04878843575716019
         ],
         "y": [
          0.42777809500694275
         ],
         "z": [
          0.1557013988494873
         ]
        },
        {
         "hovertemplate": "color=got<br>0=%{x}<br>1=%{y}<br>2=%{z}<extra></extra>",
         "legendgroup": "got",
         "marker": {
          "color": "#19d3f3",
          "symbol": "circle"
         },
         "mode": "markers",
         "name": "got",
         "scene": "scene",
         "showlegend": true,
         "type": "scatter3d",
         "x": [
          -0.004194572102278471
         ],
         "y": [
          0.3160311281681061
         ],
         "z": [
          0.5144916772842407
         ]
        },
        {
         "hovertemplate": "color=fight<br>0=%{x}<br>1=%{y}<br>2=%{z}<extra></extra>",
         "legendgroup": "fight",
         "marker": {
          "color": "#FF6692",
          "symbol": "circle"
         },
         "mode": "markers",
         "name": "fight",
         "scene": "scene",
         "showlegend": true,
         "type": "scatter3d",
         "x": [
          -0.12242251634597778
         ],
         "y": [
          0.6929667592048645
         ],
         "z": [
          0.10900872200727463
         ]
        },
        {
         "hovertemplate": "color=rode<br>0=%{x}<br>1=%{y}<br>2=%{z}<extra></extra>",
         "legendgroup": "rode",
         "marker": {
          "color": "#B6E880",
          "symbol": "circle"
         },
         "mode": "markers",
         "name": "rode",
         "scene": "scene",
         "showlegend": true,
         "type": "scatter3d",
         "x": [
          0.23878560960292816
         ],
         "y": [
          0.35766392946243286
         ],
         "z": [
          0.3309597074985504
         ]
        },
        {
         "hovertemplate": "color=set<br>0=%{x}<br>1=%{y}<br>2=%{z}<extra></extra>",
         "legendgroup": "set",
         "marker": {
          "color": "#FF97FF",
          "symbol": "circle"
         },
         "mode": "markers",
         "name": "set",
         "scene": "scene",
         "showlegend": true,
         "type": "scatter3d",
         "x": [
          0.21003901958465576
         ],
         "y": [
          0.42162254452705383
         ],
         "z": [
          0.32402724027633667
         ]
        },
        {
         "hovertemplate": "color=thick<br>0=%{x}<br>1=%{y}<br>2=%{z}<extra></extra>",
         "legendgroup": "thick",
         "marker": {
          "color": "#FECB52",
          "symbol": "circle"
         },
         "mode": "markers",
         "name": "thick",
         "scene": "scene",
         "showlegend": true,
         "type": "scatter3d",
         "x": [
          0.5304740071296692
         ],
         "y": [
          -0.017973758280277252
         ],
         "z": [
          0.07930317521095276
         ]
        },
        {
         "hovertemplate": "color=throat<br>0=%{x}<br>1=%{y}<br>2=%{z}<extra></extra>",
         "legendgroup": "throat",
         "marker": {
          "color": "#636efa",
          "symbol": "circle"
         },
         "mode": "markers",
         "name": "throat",
         "scene": "scene",
         "showlegend": true,
         "type": "scatter3d",
         "x": [
          0.32683297991752625
         ],
         "y": [
          0.2742201089859009
         ],
         "z": [
          0.48167353868484497
         ]
        },
        {
         "hovertemplate": "color=world<br>0=%{x}<br>1=%{y}<br>2=%{z}<extra></extra>",
         "legendgroup": "world",
         "marker": {
          "color": "#EF553B",
          "symbol": "circle"
         },
         "mode": "markers",
         "name": "world",
         "scene": "scene",
         "showlegend": true,
         "type": "scatter3d",
         "x": [
          0.21861469745635986
         ],
         "y": [
          0.6681672930717468
         ],
         "z": [
          -0.15299811959266663
         ]
        },
        {
         "hovertemplate": "color=deep<br>0=%{x}<br>1=%{y}<br>2=%{z}<extra></extra>",
         "legendgroup": "deep",
         "marker": {
          "color": "#00cc96",
          "symbol": "circle"
         },
         "mode": "markers",
         "name": "deep",
         "scene": "scene",
         "showlegend": true,
         "type": "scatter3d",
         "x": [
          0.5814153552055359
         ],
         "y": [
          0.15834622085094452
         ],
         "z": [
          0.0020759080071002245
         ]
        },
        {
         "hovertemplate": "color=legs<br>0=%{x}<br>1=%{y}<br>2=%{z}<extra></extra>",
         "legendgroup": "legs",
         "marker": {
          "color": "#ab63fa",
          "symbol": "circle"
         },
         "mode": "markers",
         "name": "legs",
         "scene": "scene",
         "showlegend": true,
         "type": "scatter3d",
         "x": [
          0.5114505290985107
         ],
         "y": [
          0.26373109221458435
         ],
         "z": [
          0.3338799476623535
         ]
        },
        {
         "hovertemplate": "color=call<br>0=%{x}<br>1=%{y}<br>2=%{z}<extra></extra>",
         "legendgroup": "call",
         "marker": {
          "color": "#FFA15A",
          "symbol": "circle"
         },
         "mode": "markers",
         "name": "call",
         "scene": "scene",
         "showlegend": true,
         "type": "scatter3d",
         "x": [
          -0.2999594211578369
         ],
         "y": [
          0.49702852964401245
         ],
         "z": [
          0.352067768573761
         ]
        },
        {
         "hovertemplate": "color=honor<br>0=%{x}<br>1=%{y}<br>2=%{z}<extra></extra>",
         "legendgroup": "honor",
         "marker": {
          "color": "#19d3f3",
          "symbol": "circle"
         },
         "mode": "markers",
         "name": "honor",
         "scene": "scene",
         "showlegend": true,
         "type": "scatter3d",
         "x": [
          -0.3986877501010895
         ],
         "y": [
          0.7218969464302063
         ],
         "z": [
          -0.09093810617923737
         ]
        },
        {
         "hovertemplate": "color=rock<br>0=%{x}<br>1=%{y}<br>2=%{z}<extra></extra>",
         "legendgroup": "rock",
         "marker": {
          "color": "#FF6692",
          "symbol": "circle"
         },
         "mode": "markers",
         "name": "rock",
         "scene": "scene",
         "showlegend": true,
         "type": "scatter3d",
         "x": [
          0.2564925253391266
         ],
         "y": [
          0.5110902190208435
         ],
         "z": [
          0.0200811754912138
         ]
        },
        {
         "hovertemplate": "color=trees<br>0=%{x}<br>1=%{y}<br>2=%{z}<extra></extra>",
         "legendgroup": "trees",
         "marker": {
          "color": "#B6E880",
          "symbol": "circle"
         },
         "mode": "markers",
         "name": "trees",
         "scene": "scene",
         "showlegend": true,
         "type": "scatter3d",
         "x": [
          0.6692344546318054
         ],
         "y": [
          0.33063870668411255
         ],
         "z": [
          -0.2513594329357147
         ]
        },
        {
         "hovertemplate": "color=tall<br>0=%{x}<br>1=%{y}<br>2=%{z}<extra></extra>",
         "legendgroup": "tall",
         "marker": {
          "color": "#FF97FF",
          "symbol": "circle"
         },
         "mode": "markers",
         "name": "tall",
         "scene": "scene",
         "showlegend": true,
         "type": "scatter3d",
         "x": [
          0.3121156692504883
         ],
         "y": [
          0.15557904541492462
         ],
         "z": [
          0.029541870579123497
         ]
        },
        {
         "hovertemplate": "color=table<br>0=%{x}<br>1=%{y}<br>2=%{z}<extra></extra>",
         "legendgroup": "table",
         "marker": {
          "color": "#FECB52",
          "symbol": "circle"
         },
         "mode": "markers",
         "name": "table",
         "scene": "scene",
         "showlegend": true,
         "type": "scatter3d",
         "x": [
          0.3394758105278015
         ],
         "y": [
          0.3291599154472351
         ],
         "z": [
          0.17636893689632416
         ]
        },
        {
         "hovertemplate": "color=pulled<br>0=%{x}<br>1=%{y}<br>2=%{z}<extra></extra>",
         "legendgroup": "pulled",
         "marker": {
          "color": "#636efa",
          "symbol": "circle"
         },
         "mode": "markers",
         "name": "pulled",
         "scene": "scene",
         "showlegend": true,
         "type": "scatter3d",
         "x": [
          0.42322343587875366
         ],
         "y": [
          0.1327640414237976
         ],
         "z": [
          0.6850782036781311
         ]
        },
        {
         "hovertemplate": "color=broken<br>0=%{x}<br>1=%{y}<br>2=%{z}<extra></extra>",
         "legendgroup": "broken",
         "marker": {
          "color": "#EF553B",
          "symbol": "circle"
         },
         "mode": "markers",
         "name": "broken",
         "scene": "scene",
         "showlegend": true,
         "type": "scatter3d",
         "x": [
          0.5489181876182556
         ],
         "y": [
          0.20590882003307343
         ],
         "z": [
          0.07042905688285828
         ]
        },
        {
         "hovertemplate": "color=mormont<br>0=%{x}<br>1=%{y}<br>2=%{z}<extra></extra>",
         "legendgroup": "mormont",
         "marker": {
          "color": "#00cc96",
          "symbol": "circle"
         },
         "mode": "markers",
         "name": "mormont",
         "scene": "scene",
         "showlegend": true,
         "type": "scatter3d",
         "x": [
          -0.015700068324804306
         ],
         "y": [
          0.1950305551290512
         ],
         "z": [
          0.15939439833164215
         ]
        },
        {
         "hovertemplate": "color=women<br>0=%{x}<br>1=%{y}<br>2=%{z}<extra></extra>",
         "legendgroup": "women",
         "marker": {
          "color": "#ab63fa",
          "symbol": "circle"
         },
         "mode": "markers",
         "name": "women",
         "scene": "scene",
         "showlegend": true,
         "type": "scatter3d",
         "x": [
          0.0061152041889727116
         ],
         "y": [
          0.45819711685180664
         ],
         "z": [
          -0.26186779141426086
         ]
        },
        {
         "hovertemplate": "color=steps<br>0=%{x}<br>1=%{y}<br>2=%{z}<extra></extra>",
         "legendgroup": "steps",
         "marker": {
          "color": "#FFA15A",
          "symbol": "circle"
         },
         "mode": "markers",
         "name": "steps",
         "scene": "scene",
         "showlegend": true,
         "type": "scatter3d",
         "x": [
          0.5240627527236938
         ],
         "y": [
          0.38599807024002075
         ],
         "z": [
          0.1672072559595108
         ]
        },
        {
         "hovertemplate": "color=things<br>0=%{x}<br>1=%{y}<br>2=%{z}<extra></extra>",
         "legendgroup": "things",
         "marker": {
          "color": "#19d3f3",
          "symbol": "circle"
         },
         "mode": "markers",
         "name": "things",
         "scene": "scene",
         "showlegend": true,
         "type": "scatter3d",
         "x": [
          -0.011995045468211174
         ],
         "y": [
          0.5216799974441528
         ],
         "z": [
          -0.1715170294046402
         ]
        },
        {
         "hovertemplate": "color=next<br>0=%{x}<br>1=%{y}<br>2=%{z}<extra></extra>",
         "legendgroup": "next",
         "marker": {
          "color": "#FF6692",
          "symbol": "circle"
         },
         "mode": "markers",
         "name": "next",
         "scene": "scene",
         "showlegend": true,
         "type": "scatter3d",
         "x": [
          0.02991482801735401
         ],
         "y": [
          0.4822150766849518
         ],
         "z": [
          0.2716526389122009
         ]
        },
        {
         "hovertemplate": "color=hodor<br>0=%{x}<br>1=%{y}<br>2=%{z}<extra></extra>",
         "legendgroup": "hodor",
         "marker": {
          "color": "#B6E880",
          "symbol": "circle"
         },
         "mode": "markers",
         "name": "hodor",
         "scene": "scene",
         "showlegend": true,
         "type": "scatter3d",
         "x": [
          0.38803938031196594
         ],
         "y": [
          0.15410611033439636
         ],
         "z": [
          0.3354259431362152
         ]
        },
        {
         "hovertemplate": "color=heavy<br>0=%{x}<br>1=%{y}<br>2=%{z}<extra></extra>",
         "legendgroup": "heavy",
         "marker": {
          "color": "#FF97FF",
          "symbol": "circle"
         },
         "mode": "markers",
         "name": "heavy",
         "scene": "scene",
         "showlegend": true,
         "type": "scatter3d",
         "x": [
          0.5805579423904419
         ],
         "y": [
          -0.003243539482355118
         ],
         "z": [
          0.15074659883975983
         ]
        },
        {
         "hovertemplate": "color=burned<br>0=%{x}<br>1=%{y}<br>2=%{z}<extra></extra>",
         "legendgroup": "burned",
         "marker": {
          "color": "#FECB52",
          "symbol": "circle"
         },
         "mode": "markers",
         "name": "burned",
         "scene": "scene",
         "showlegend": true,
         "type": "scatter3d",
         "x": [
          0.3458692133426666
         ],
         "y": [
          0.3563438355922699
         ],
         "z": [
          0.0345422737300396
         ]
        },
        {
         "hovertemplate": "color=oh<br>0=%{x}<br>1=%{y}<br>2=%{z}<extra></extra>",
         "legendgroup": "oh",
         "marker": {
          "color": "#636efa",
          "symbol": "circle"
         },
         "mode": "markers",
         "name": "oh",
         "scene": "scene",
         "showlegend": true,
         "type": "scatter3d",
         "x": [
          -0.4837474822998047
         ],
         "y": [
          0.3474999964237213
         ],
         "z": [
          0.17084914445877075
         ]
        },
        {
         "hovertemplate": "color=toward<br>0=%{x}<br>1=%{y}<br>2=%{z}<extra></extra>",
         "legendgroup": "toward",
         "marker": {
          "color": "#EF553B",
          "symbol": "circle"
         },
         "mode": "markers",
         "name": "toward",
         "scene": "scene",
         "showlegend": true,
         "type": "scatter3d",
         "x": [
          0.36502185463905334
         ],
         "y": [
          0.17265279591083527
         ],
         "z": [
          0.30270591378211975
         ]
        },
        {
         "hovertemplate": "color=together<br>0=%{x}<br>1=%{y}<br>2=%{z}<extra></extra>",
         "legendgroup": "together",
         "marker": {
          "color": "#00cc96",
          "symbol": "circle"
         },
         "mode": "markers",
         "name": "together",
         "scene": "scene",
         "showlegend": true,
         "type": "scatter3d",
         "x": [
          0.3086034953594208
         ],
         "y": [
          0.2483414113521576
         ],
         "z": [
          0.04098768159747124
         ]
        },
        {
         "hovertemplate": "color=skin<br>0=%{x}<br>1=%{y}<br>2=%{z}<extra></extra>",
         "legendgroup": "skin",
         "marker": {
          "color": "#ab63fa",
          "symbol": "circle"
         },
         "mode": "markers",
         "name": "skin",
         "scene": "scene",
         "showlegend": true,
         "type": "scatter3d",
         "x": [
          0.507347822189331
         ],
         "y": [
          0.1509731113910675
         ],
         "z": [
          0.3223894536495209
         ]
        },
        {
         "hovertemplate": "color=given<br>0=%{x}<br>1=%{y}<br>2=%{z}<extra></extra>",
         "legendgroup": "given",
         "marker": {
          "color": "#FFA15A",
          "symbol": "circle"
         },
         "mode": "markers",
         "name": "given",
         "scene": "scene",
         "showlegend": true,
         "type": "scatter3d",
         "x": [
          -0.22179841995239258
         ],
         "y": [
          0.4535928964614868
         ],
         "z": [
          0.32006165385246277
         ]
        },
        {
         "hovertemplate": "color=since<br>0=%{x}<br>1=%{y}<br>2=%{z}<extra></extra>",
         "legendgroup": "since",
         "marker": {
          "color": "#19d3f3",
          "symbol": "circle"
         },
         "mode": "markers",
         "name": "since",
         "scene": "scene",
         "showlegend": true,
         "type": "scatter3d",
         "x": [
          -0.14663010835647583
         ],
         "y": [
          0.43678373098373413
         ],
         "z": [
          0.024375341832637787
         ]
        },
        {
         "hovertemplate": "color=smiled<br>0=%{x}<br>1=%{y}<br>2=%{z}<extra></extra>",
         "legendgroup": "smiled",
         "marker": {
          "color": "#FF6692",
          "symbol": "circle"
         },
         "mode": "markers",
         "name": "smiled",
         "scene": "scene",
         "showlegend": true,
         "type": "scatter3d",
         "x": [
          -0.12782949209213257
         ],
         "y": [
          0.14362779259681702
         ],
         "z": [
          0.6340481042861938
         ]
        },
        {
         "hovertemplate": "color=dwarf<br>0=%{x}<br>1=%{y}<br>2=%{z}<extra></extra>",
         "legendgroup": "dwarf",
         "marker": {
          "color": "#B6E880",
          "symbol": "circle"
         },
         "mode": "markers",
         "name": "dwarf",
         "scene": "scene",
         "showlegend": true,
         "type": "scatter3d",
         "x": [
          -0.18377983570098877
         ],
         "y": [
          0.38207027316093445
         ],
         "z": [
          0.24377192556858063
         ]
        },
        {
         "hovertemplate": "color=alone<br>0=%{x}<br>1=%{y}<br>2=%{z}<extra></extra>",
         "legendgroup": "alone",
         "marker": {
          "color": "#FF97FF",
          "symbol": "circle"
         },
         "mode": "markers",
         "name": "alone",
         "scene": "scene",
         "showlegend": true,
         "type": "scatter3d",
         "x": [
          0.008423089049756527
         ],
         "y": [
          0.5931574702262878
         ],
         "z": [
          0.15704350173473358
         ]
        },
        {
         "hovertemplate": "color=moved<br>0=%{x}<br>1=%{y}<br>2=%{z}<extra></extra>",
         "legendgroup": "moved",
         "marker": {
          "color": "#FECB52",
          "symbol": "circle"
         },
         "mode": "markers",
         "name": "moved",
         "scene": "scene",
         "showlegend": true,
         "type": "scatter3d",
         "x": [
          0.36528974771499634
         ],
         "y": [
          0.23878000676631927
         ],
         "z": [
          0.5563212037086487
         ]
        },
        {
         "hovertemplate": "color=storm<br>0=%{x}<br>1=%{y}<br>2=%{z}<extra></extra>",
         "legendgroup": "storm",
         "marker": {
          "color": "#636efa",
          "symbol": "circle"
         },
         "mode": "markers",
         "name": "storm",
         "scene": "scene",
         "showlegend": true,
         "type": "scatter3d",
         "x": [
          0.033613964915275574
         ],
         "y": [
          0.5724281668663025
         ],
         "z": [
          -0.0975288450717926
         ]
        },
        {
         "hovertemplate": "color=raised<br>0=%{x}<br>1=%{y}<br>2=%{z}<extra></extra>",
         "legendgroup": "raised",
         "marker": {
          "color": "#EF553B",
          "symbol": "circle"
         },
         "mode": "markers",
         "name": "raised",
         "scene": "scene",
         "showlegend": true,
         "type": "scatter3d",
         "x": [
          0.09532047808170319
         ],
         "y": [
          0.28262585401535034
         ],
         "z": [
          0.3908717930316925
         ]
        },
        {
         "hovertemplate": "color=ride<br>0=%{x}<br>1=%{y}<br>2=%{z}<extra></extra>",
         "legendgroup": "ride",
         "marker": {
          "color": "#00cc96",
          "symbol": "circle"
         },
         "mode": "markers",
         "name": "ride",
         "scene": "scene",
         "showlegend": true,
         "type": "scatter3d",
         "x": [
          0.0799354836344719
         ],
         "y": [
          0.7050465941429138
         ],
         "z": [
          0.17558717727661133
         ]
        },
        {
         "hovertemplate": "color=ask<br>0=%{x}<br>1=%{y}<br>2=%{z}<extra></extra>",
         "legendgroup": "ask",
         "marker": {
          "color": "#ab63fa",
          "symbol": "circle"
         },
         "mode": "markers",
         "name": "ask",
         "scene": "scene",
         "showlegend": true,
         "type": "scatter3d",
         "x": [
          -0.5014454126358032
         ],
         "y": [
          0.6308826804161072
         ],
         "z": [
          0.30574968457221985
         ]
        },
        {
         "hovertemplate": "color=hope<br>0=%{x}<br>1=%{y}<br>2=%{z}<extra></extra>",
         "legendgroup": "hope",
         "marker": {
          "color": "#FFA15A",
          "symbol": "circle"
         },
         "mode": "markers",
         "name": "hope",
         "scene": "scene",
         "showlegend": true,
         "type": "scatter3d",
         "x": [
          -0.3092164099216461
         ],
         "y": [
          0.7757304906845093
         ],
         "z": [
          0.12273665517568588
         ]
        },
        {
         "hovertemplate": "color=eye<br>0=%{x}<br>1=%{y}<br>2=%{z}<extra></extra>",
         "legendgroup": "eye",
         "marker": {
          "color": "#19d3f3",
          "symbol": "circle"
         },
         "mode": "markers",
         "name": "eye",
         "scene": "scene",
         "showlegend": true,
         "type": "scatter3d",
         "x": [
          0.2700023949146271
         ],
         "y": [
          0.431047260761261
         ],
         "z": [
          0.12354961782693863
         ]
        },
        {
         "hovertemplate": "color=soft<br>0=%{x}<br>1=%{y}<br>2=%{z}<extra></extra>",
         "legendgroup": "soft",
         "marker": {
          "color": "#FF6692",
          "symbol": "circle"
         },
         "mode": "markers",
         "name": "soft",
         "scene": "scene",
         "showlegend": true,
         "type": "scatter3d",
         "x": [
          0.4095288813114166
         ],
         "y": [
          -0.07858538627624512
         ],
         "z": [
          0.3141450583934784
         ]
        },
        {
         "hovertemplate": "color=reached<br>0=%{x}<br>1=%{y}<br>2=%{z}<extra></extra>",
         "legendgroup": "reached",
         "marker": {
          "color": "#B6E880",
          "symbol": "circle"
         },
         "mode": "markers",
         "name": "reached",
         "scene": "scene",
         "showlegend": true,
         "type": "scatter3d",
         "x": [
          0.3330053687095642
         ],
         "y": [
          0.3257960379123688
         ],
         "z": [
          0.5058199167251587
         ]
        },
        {
         "hovertemplate": "color=frey<br>0=%{x}<br>1=%{y}<br>2=%{z}<extra></extra>",
         "legendgroup": "frey",
         "marker": {
          "color": "#FF97FF",
          "symbol": "circle"
         },
         "mode": "markers",
         "name": "frey",
         "scene": "scene",
         "showlegend": true,
         "type": "scatter3d",
         "x": [
          -0.26790523529052734
         ],
         "y": [
          0.37671011686325073
         ],
         "z": [
          0.04828489199280739
         ]
        },
        {
         "hovertemplate": "color=second<br>0=%{x}<br>1=%{y}<br>2=%{z}<extra></extra>",
         "legendgroup": "second",
         "marker": {
          "color": "#FECB52",
          "symbol": "circle"
         },
         "mode": "markers",
         "name": "second",
         "scene": "scene",
         "showlegend": true,
         "type": "scatter3d",
         "x": [
          0.033789388835430145
         ],
         "y": [
          0.3889033794403076
         ],
         "z": [
          0.1559024602174759
         ]
        },
        {
         "hovertemplate": "color=remember<br>0=%{x}<br>1=%{y}<br>2=%{z}<extra></extra>",
         "legendgroup": "remember",
         "marker": {
          "color": "#636efa",
          "symbol": "circle"
         },
         "mode": "markers",
         "name": "remember",
         "scene": "scene",
         "showlegend": true,
         "type": "scatter3d",
         "x": [
          -0.25933340191841125
         ],
         "y": [
          0.5118538737297058
         ],
         "z": [
          0.30793800950050354
         ]
        },
        {
         "hovertemplate": "color=someone<br>0=%{x}<br>1=%{y}<br>2=%{z}<extra></extra>",
         "legendgroup": "someone",
         "marker": {
          "color": "#EF553B",
          "symbol": "circle"
         },
         "mode": "markers",
         "name": "someone",
         "scene": "scene",
         "showlegend": true,
         "type": "scatter3d",
         "x": [
          -0.0591869130730629
         ],
         "y": [
          0.4651878774166107
         ],
         "z": [
          0.12928493320941925
         ]
        },
        {
         "hovertemplate": "color=remembered<br>0=%{x}<br>1=%{y}<br>2=%{z}<extra></extra>",
         "legendgroup": "remembered",
         "marker": {
          "color": "#00cc96",
          "symbol": "circle"
         },
         "mode": "markers",
         "name": "remembered",
         "scene": "scene",
         "showlegend": true,
         "type": "scatter3d",
         "x": [
          -0.05896658077836037
         ],
         "y": [
          0.2963559925556183
         ],
         "z": [
          0.4275648295879364
         ]
        },
        {
         "hovertemplate": "color=coming<br>0=%{x}<br>1=%{y}<br>2=%{z}<extra></extra>",
         "legendgroup": "coming",
         "marker": {
          "color": "#ab63fa",
          "symbol": "circle"
         },
         "mode": "markers",
         "name": "coming",
         "scene": "scene",
         "showlegend": true,
         "type": "scatter3d",
         "x": [
          0.19913150370121002
         ],
         "y": [
          0.5678272843360901
         ],
         "z": [
          0.1037432998418808
         ]
        },
        {
         "hovertemplate": "color=meant<br>0=%{x}<br>1=%{y}<br>2=%{z}<extra></extra>",
         "legendgroup": "meant",
         "marker": {
          "color": "#FFA15A",
          "symbol": "circle"
         },
         "mode": "markers",
         "name": "meant",
         "scene": "scene",
         "showlegend": true,
         "type": "scatter3d",
         "x": [
          -0.3372414708137512
         ],
         "y": [
          0.5234740972518921
         ],
         "z": [
          0.2459721565246582
         ]
        },
        {
         "hovertemplate": "color=cannot<br>0=%{x}<br>1=%{y}<br>2=%{z}<extra></extra>",
         "legendgroup": "cannot",
         "marker": {
          "color": "#19d3f3",
          "symbol": "circle"
         },
         "mode": "markers",
         "name": "cannot",
         "scene": "scene",
         "showlegend": true,
         "type": "scatter3d",
         "x": [
          -0.3518408536911011
         ],
         "y": [
          0.4914761483669281
         ],
         "z": [
          0.05776751786470413
         ]
        },
        {
         "hovertemplate": "color=hold<br>0=%{x}<br>1=%{y}<br>2=%{z}<extra></extra>",
         "legendgroup": "hold",
         "marker": {
          "color": "#FF6692",
          "symbol": "circle"
         },
         "mode": "markers",
         "name": "hold",
         "scene": "scene",
         "showlegend": true,
         "type": "scatter3d",
         "x": [
          -0.13430579006671906
         ],
         "y": [
          0.5620325207710266
         ],
         "z": [
          0.2919536530971527
         ]
        },
        {
         "hovertemplate": "color=morning<br>0=%{x}<br>1=%{y}<br>2=%{z}<extra></extra>",
         "legendgroup": "morning",
         "marker": {
          "color": "#B6E880",
          "symbol": "circle"
         },
         "mode": "markers",
         "name": "morning",
         "scene": "scene",
         "showlegend": true,
         "type": "scatter3d",
         "x": [
          0.27034127712249756
         ],
         "y": [
          0.41324034333229065
         ],
         "z": [
          0.034126315265893936
         ]
        },
        {
         "hovertemplate": "color=ten<br>0=%{x}<br>1=%{y}<br>2=%{z}<extra></extra>",
         "legendgroup": "ten",
         "marker": {
          "color": "#FF97FF",
          "symbol": "circle"
         },
         "mode": "markers",
         "name": "ten",
         "scene": "scene",
         "showlegend": true,
         "type": "scatter3d",
         "x": [
          -0.035329993814229965
         ],
         "y": [
          0.4743677079677582
         ],
         "z": [
          -0.08824872970581055
         ]
        },
        {
         "hovertemplate": "color=teeth<br>0=%{x}<br>1=%{y}<br>2=%{z}<extra></extra>",
         "legendgroup": "teeth",
         "marker": {
          "color": "#FECB52",
          "symbol": "circle"
         },
         "mode": "markers",
         "name": "teeth",
         "scene": "scene",
         "showlegend": true,
         "type": "scatter3d",
         "x": [
          0.47558367252349854
         ],
         "y": [
          0.16380146145820618
         ],
         "z": [
          0.28323349356651306
         ]
        },
        {
         "hovertemplate": "color=else<br>0=%{x}<br>1=%{y}<br>2=%{z}<extra></extra>",
         "legendgroup": "else",
         "marker": {
          "color": "#636efa",
          "symbol": "circle"
         },
         "mode": "markers",
         "name": "else",
         "scene": "scene",
         "showlegend": true,
         "type": "scatter3d",
         "x": [
          -0.23024393618106842
         ],
         "y": [
          0.48633313179016113
         ],
         "z": [
          0.150492861866951
         ]
        },
        {
         "hovertemplate": "color=throne<br>0=%{x}<br>1=%{y}<br>2=%{z}<extra></extra>",
         "legendgroup": "throne",
         "marker": {
          "color": "#EF553B",
          "symbol": "circle"
         },
         "mode": "markers",
         "name": "throne",
         "scene": "scene",
         "showlegend": true,
         "type": "scatter3d",
         "x": [
          -0.01208135299384594
         ],
         "y": [
          0.5823044180870056
         ],
         "z": [
          0.0791756734251976
         ]
        },
        {
         "hovertemplate": "color=command<br>0=%{x}<br>1=%{y}<br>2=%{z}<extra></extra>",
         "legendgroup": "command",
         "marker": {
          "color": "#00cc96",
          "symbol": "circle"
         },
         "mode": "markers",
         "name": "command",
         "scene": "scene",
         "showlegend": true,
         "type": "scatter3d",
         "x": [
          -0.2538883686065674
         ],
         "y": [
          0.6634718775749207
         ],
         "z": [
          0.09588862210512161
         ]
        },
        {
         "hovertemplate": "color=which<br>0=%{x}<br>1=%{y}<br>2=%{z}<extra></extra>",
         "legendgroup": "which",
         "marker": {
          "color": "#ab63fa",
          "symbol": "circle"
         },
         "mode": "markers",
         "name": "which",
         "scene": "scene",
         "showlegend": true,
         "type": "scatter3d",
         "x": [
          -0.11177404224872589
         ],
         "y": [
          0.5479459166526794
         ],
         "z": [
          -0.15946806967258453
         ]
        },
        {
         "hovertemplate": "color=fat<br>0=%{x}<br>1=%{y}<br>2=%{z}<extra></extra>",
         "legendgroup": "fat",
         "marker": {
          "color": "#FFA15A",
          "symbol": "circle"
         },
         "mode": "markers",
         "name": "fat",
         "scene": "scene",
         "showlegend": true,
         "type": "scatter3d",
         "x": [
          -0.038636740297079086
         ],
         "y": [
          0.07507037371397018
         ],
         "z": [
          0.2638782560825348
         ]
        },
        {
         "hovertemplate": "color=truth<br>0=%{x}<br>1=%{y}<br>2=%{z}<extra></extra>",
         "legendgroup": "truth",
         "marker": {
          "color": "#19d3f3",
          "symbol": "circle"
         },
         "mode": "markers",
         "name": "truth",
         "scene": "scene",
         "showlegend": true,
         "type": "scatter3d",
         "x": [
          -0.2529858350753784
         ],
         "y": [
          0.5513960719108582
         ],
         "z": [
          -0.11318258941173553
         ]
        },
        {
         "hovertemplate": "color=commander<br>0=%{x}<br>1=%{y}<br>2=%{z}<extra></extra>",
         "legendgroup": "commander",
         "marker": {
          "color": "#FF6692",
          "symbol": "circle"
         },
         "mode": "markers",
         "name": "commander",
         "scene": "scene",
         "showlegend": true,
         "type": "scatter3d",
         "x": [
          -0.22333836555480957
         ],
         "y": [
          0.4679139256477356
         ],
         "z": [
          -0.08381817489862442
         ]
        },
        {
         "hovertemplate": "color=walder<br>0=%{x}<br>1=%{y}<br>2=%{z}<extra></extra>",
         "legendgroup": "walder",
         "marker": {
          "color": "#B6E880",
          "symbol": "circle"
         },
         "mode": "markers",
         "name": "walder",
         "scene": "scene",
         "showlegend": true,
         "type": "scatter3d",
         "x": [
          -0.19381201267242432
         ],
         "y": [
          0.2999788522720337
         ],
         "z": [
          0.0008446284919045866
         ]
        },
        {
         "hovertemplate": "color=doubt<br>0=%{x}<br>1=%{y}<br>2=%{z}<extra></extra>",
         "legendgroup": "doubt",
         "marker": {
          "color": "#FF97FF",
          "symbol": "circle"
         },
         "mode": "markers",
         "name": "doubt",
         "scene": "scene",
         "showlegend": true,
         "type": "scatter3d",
         "x": [
          -0.28817683458328247
         ],
         "y": [
          0.56181401014328
         ],
         "z": [
          0.07832084596157074
         ]
        },
        {
         "hovertemplate": "color=ground<br>0=%{x}<br>1=%{y}<br>2=%{z}<extra></extra>",
         "legendgroup": "ground",
         "marker": {
          "color": "#FECB52",
          "symbol": "circle"
         },
         "mode": "markers",
         "name": "ground",
         "scene": "scene",
         "showlegend": true,
         "type": "scatter3d",
         "x": [
          0.748833954334259
         ],
         "y": [
          0.24935215711593628
         ],
         "z": [
          0.16747526824474335
         ]
        },
        {
         "hovertemplate": "color=jorah<br>0=%{x}<br>1=%{y}<br>2=%{z}<extra></extra>",
         "legendgroup": "jorah",
         "marker": {
          "color": "#636efa",
          "symbol": "circle"
         },
         "mode": "markers",
         "name": "jorah",
         "scene": "scene",
         "showlegend": true,
         "type": "scatter3d",
         "x": [
          0.025033120065927505
         ],
         "y": [
          0.2557985186576843
         ],
         "z": [
          0.15204642713069916
         ]
        },
        {
         "hovertemplate": "color=cup<br>0=%{x}<br>1=%{y}<br>2=%{z}<extra></extra>",
         "legendgroup": "cup",
         "marker": {
          "color": "#EF553B",
          "symbol": "circle"
         },
         "mode": "markers",
         "name": "cup",
         "scene": "scene",
         "showlegend": true,
         "type": "scatter3d",
         "x": [
          0.14915813505649567
         ],
         "y": [
          0.33098697662353516
         ],
         "z": [
          0.35430219769477844
         ]
        },
        {
         "hovertemplate": "color=outside<br>0=%{x}<br>1=%{y}<br>2=%{z}<extra></extra>",
         "legendgroup": "outside",
         "marker": {
          "color": "#00cc96",
          "symbol": "circle"
         },
         "mode": "markers",
         "name": "outside",
         "scene": "scene",
         "showlegend": true,
         "type": "scatter3d",
         "x": [
          0.26863887906074524
         ],
         "y": [
          0.3051965832710266
         ],
         "z": [
          -0.006108112167567015
         ]
        },
        {
         "hovertemplate": "color=known<br>0=%{x}<br>1=%{y}<br>2=%{z}<extra></extra>",
         "legendgroup": "known",
         "marker": {
          "color": "#ab63fa",
          "symbol": "circle"
         },
         "mode": "markers",
         "name": "known",
         "scene": "scene",
         "showlegend": true,
         "type": "scatter3d",
         "x": [
          -0.2826504111289978
         ],
         "y": [
          0.499542236328125
         ],
         "z": [
          0.15962348878383636
         ]
        },
        {
         "hovertemplate": "color=wore<br>0=%{x}<br>1=%{y}<br>2=%{z}<extra></extra>",
         "legendgroup": "wore",
         "marker": {
          "color": "#FFA15A",
          "symbol": "circle"
         },
         "mode": "markers",
         "name": "wore",
         "scene": "scene",
         "showlegend": true,
         "type": "scatter3d",
         "x": [
          0.09836648404598236
         ],
         "y": [
          0.11458487808704376
         ],
         "z": [
          0.17399977147579193
         ]
        },
        {
         "hovertemplate": "color=ran<br>0=%{x}<br>1=%{y}<br>2=%{z}<extra></extra>",
         "legendgroup": "ran",
         "marker": {
          "color": "#19d3f3",
          "symbol": "circle"
         },
         "mode": "markers",
         "name": "ran",
         "scene": "scene",
         "showlegend": true,
         "type": "scatter3d",
         "x": [
          0.48827511072158813
         ],
         "y": [
          0.13415446877479553
         ],
         "z": [
          0.4907184839248657
         ]
        },
        {
         "hovertemplate": "color=gate<br>0=%{x}<br>1=%{y}<br>2=%{z}<extra></extra>",
         "legendgroup": "gate",
         "marker": {
          "color": "#FF6692",
          "symbol": "circle"
         },
         "mode": "markers",
         "name": "gate",
         "scene": "scene",
         "showlegend": true,
         "type": "scatter3d",
         "x": [
          0.39496731758117676
         ],
         "y": [
          0.5508681535720825
         ],
         "z": [
          -0.05247614160180092
         ]
        },
        {
         "hovertemplate": "color=room<br>0=%{x}<br>1=%{y}<br>2=%{z}<extra></extra>",
         "legendgroup": "room",
         "marker": {
          "color": "#B6E880",
          "symbol": "circle"
         },
         "mode": "markers",
         "name": "room",
         "scene": "scene",
         "showlegend": true,
         "type": "scatter3d",
         "x": [
          0.434805303812027
         ],
         "y": [
          0.48423439264297485
         ],
         "z": [
          0.09759777784347534
         ]
        },
        {
         "hovertemplate": "color=held<br>0=%{x}<br>1=%{y}<br>2=%{z}<extra></extra>",
         "legendgroup": "held",
         "marker": {
          "color": "#FF97FF",
          "symbol": "circle"
         },
         "mode": "markers",
         "name": "held",
         "scene": "scene",
         "showlegend": true,
         "type": "scatter3d",
         "x": [
          0.08480897545814514
         ],
         "y": [
          0.19915179908275604
         ],
         "z": [
          0.5721842646598816
         ]
        },
        {
         "hovertemplate": "color=closed<br>0=%{x}<br>1=%{y}<br>2=%{z}<extra></extra>",
         "legendgroup": "closed",
         "marker": {
          "color": "#FECB52",
          "symbol": "circle"
         },
         "mode": "markers",
         "name": "closed",
         "scene": "scene",
         "showlegend": true,
         "type": "scatter3d",
         "x": [
          0.259244829416275
         ],
         "y": [
          0.20140261948108673
         ],
         "z": [
          0.3903716802597046
         ]
        },
        {
         "hovertemplate": "color=home<br>0=%{x}<br>1=%{y}<br>2=%{z}<extra></extra>",
         "legendgroup": "home",
         "marker": {
          "color": "#636efa",
          "symbol": "circle"
         },
         "mode": "markers",
         "name": "home",
         "scene": "scene",
         "showlegend": true,
         "type": "scatter3d",
         "x": [
          -0.08408991247415543
         ],
         "y": [
          0.7117654085159302
         ],
         "z": [
          -0.06124095246195793
         ]
        },
        {
         "hovertemplate": "color=matter<br>0=%{x}<br>1=%{y}<br>2=%{z}<extra></extra>",
         "legendgroup": "matter",
         "marker": {
          "color": "#EF553B",
          "symbol": "circle"
         },
         "mode": "markers",
         "name": "matter",
         "scene": "scene",
         "showlegend": true,
         "type": "scatter3d",
         "x": [
          -0.1777195930480957
         ],
         "y": [
          0.47709232568740845
         ],
         "z": [
          0.09899570792913437
         ]
        },
        {
         "hovertemplate": "color=sky<br>0=%{x}<br>1=%{y}<br>2=%{z}<extra></extra>",
         "legendgroup": "sky",
         "marker": {
          "color": "#00cc96",
          "symbol": "circle"
         },
         "mode": "markers",
         "name": "sky",
         "scene": "scene",
         "showlegend": true,
         "type": "scatter3d",
         "x": [
          0.6517922282218933
         ],
         "y": [
          0.3578357994556427
         ],
         "z": [
          -0.051915012300014496
         ]
        },
        {
         "hovertemplate": "color=south<br>0=%{x}<br>1=%{y}<br>2=%{z}<extra></extra>",
         "legendgroup": "south",
         "marker": {
          "color": "#ab63fa",
          "symbol": "circle"
         },
         "mode": "markers",
         "name": "south",
         "scene": "scene",
         "showlegend": true,
         "type": "scatter3d",
         "x": [
          0.21182642877101898
         ],
         "y": [
          0.635911762714386
         ],
         "z": [
          -0.22931411862373352
         ]
        },
        {
         "hovertemplate": "color=wood<br>0=%{x}<br>1=%{y}<br>2=%{z}<extra></extra>",
         "legendgroup": "wood",
         "marker": {
          "color": "#FFA15A",
          "symbol": "circle"
         },
         "mode": "markers",
         "name": "wood",
         "scene": "scene",
         "showlegend": true,
         "type": "scatter3d",
         "x": [
          0.6504928469657898
         ],
         "y": [
          0.29815956950187683
         ],
         "z": [
          -0.15476107597351074
         ]
        },
        {
         "hovertemplate": "color=dozen<br>0=%{x}<br>1=%{y}<br>2=%{z}<extra></extra>",
         "legendgroup": "dozen",
         "marker": {
          "color": "#19d3f3",
          "symbol": "circle"
         },
         "mode": "markers",
         "name": "dozen",
         "scene": "scene",
         "showlegend": true,
         "type": "scatter3d",
         "x": [
          0.3413332402706146
         ],
         "y": [
          0.31329432129859924
         ],
         "z": [
          -0.2240246832370758
         ]
        },
        {
         "hovertemplate": "color=wed<br>0=%{x}<br>1=%{y}<br>2=%{z}<extra></extra>",
         "legendgroup": "wed",
         "marker": {
          "color": "#FF6692",
          "symbol": "circle"
         },
         "mode": "markers",
         "name": "wed",
         "scene": "scene",
         "showlegend": true,
         "type": "scatter3d",
         "x": [
          -0.48212960362434387
         ],
         "y": [
          0.6479991674423218
         ],
         "z": [
          0.24547022581100464
         ]
        },
        {
         "hovertemplate": "color=people<br>0=%{x}<br>1=%{y}<br>2=%{z}<extra></extra>",
         "legendgroup": "people",
         "marker": {
          "color": "#B6E880",
          "symbol": "circle"
         },
         "mode": "markers",
         "name": "people",
         "scene": "scene",
         "showlegend": true,
         "type": "scatter3d",
         "x": [
          -0.03299349918961525
         ],
         "y": [
          0.6981910467147827
         ],
         "z": [
          -0.3700585961341858
         ]
        },
        {
         "hovertemplate": "color=neck<br>0=%{x}<br>1=%{y}<br>2=%{z}<extra></extra>",
         "legendgroup": "neck",
         "marker": {
          "color": "#FF97FF",
          "symbol": "circle"
         },
         "mode": "markers",
         "name": "neck",
         "scene": "scene",
         "showlegend": true,
         "type": "scatter3d",
         "x": [
          0.5269274115562439
         ],
         "y": [
          0.23396912217140198
         ],
         "z": [
          0.3669162690639496
         ]
        },
        {
         "hovertemplate": "color=riverrun<br>0=%{x}<br>1=%{y}<br>2=%{z}<extra></extra>",
         "legendgroup": "riverrun",
         "marker": {
          "color": "#FECB52",
          "symbol": "circle"
         },
         "mode": "markers",
         "name": "riverrun",
         "scene": "scene",
         "showlegend": true,
         "type": "scatter3d",
         "x": [
          -0.08530324697494507
         ],
         "y": [
          0.6633674502372742
         ],
         "z": [
          -0.01837216503918171
         ]
        },
        {
         "hovertemplate": "color=food<br>0=%{x}<br>1=%{y}<br>2=%{z}<extra></extra>",
         "legendgroup": "food",
         "marker": {
          "color": "#636efa",
          "symbol": "circle"
         },
         "mode": "markers",
         "name": "food",
         "scene": "scene",
         "showlegend": true,
         "type": "scatter3d",
         "x": [
          0.1491098403930664
         ],
         "y": [
          0.5399638414382935
         ],
         "z": [
          -0.08678290992975235
         ]
        },
        {
         "hovertemplate": "color=instead<br>0=%{x}<br>1=%{y}<br>2=%{z}<extra></extra>",
         "legendgroup": "instead",
         "marker": {
          "color": "#EF553B",
          "symbol": "circle"
         },
         "mode": "markers",
         "name": "instead",
         "scene": "scene",
         "showlegend": true,
         "type": "scatter3d",
         "x": [
          0.0000200981321540894
         ],
         "y": [
          0.3492400348186493
         ],
         "z": [
          0.1502537727355957
         ]
        },
        {
         "hovertemplate": "color=near<br>0=%{x}<br>1=%{y}<br>2=%{z}<extra></extra>",
         "legendgroup": "near",
         "marker": {
          "color": "#00cc96",
          "symbol": "circle"
         },
         "mode": "markers",
         "name": "near",
         "scene": "scene",
         "showlegend": true,
         "type": "scatter3d",
         "x": [
          0.12501247227191925
         ],
         "y": [
          0.3677513003349304
         ],
         "z": [
          0.01531923282891512
         ]
        },
        {
         "hovertemplate": "color=talk<br>0=%{x}<br>1=%{y}<br>2=%{z}<extra></extra>",
         "legendgroup": "talk",
         "marker": {
          "color": "#ab63fa",
          "symbol": "circle"
         },
         "mode": "markers",
         "name": "talk",
         "scene": "scene",
         "showlegend": true,
         "type": "scatter3d",
         "x": [
          -0.20421935617923737
         ],
         "y": [
          0.657765805721283
         ],
         "z": [
          0.12574446201324463
         ]
        },
        {
         "hovertemplate": "color=turn<br>0=%{x}<br>1=%{y}<br>2=%{z}<extra></extra>",
         "legendgroup": "turn",
         "marker": {
          "color": "#FFA15A",
          "symbol": "circle"
         },
         "mode": "markers",
         "name": "turn",
         "scene": "scene",
         "showlegend": true,
         "type": "scatter3d",
         "x": [
          0.14511749148368835
         ],
         "y": [
          0.6869853734970093
         ],
         "z": [
          0.3133193552494049
         ]
        },
        {
         "hovertemplate": "color=none<br>0=%{x}<br>1=%{y}<br>2=%{z}<extra></extra>",
         "legendgroup": "none",
         "marker": {
          "color": "#19d3f3",
          "symbol": "circle"
         },
         "mode": "markers",
         "name": "none",
         "scene": "scene",
         "showlegend": true,
         "type": "scatter3d",
         "x": [
          -0.25614824891090393
         ],
         "y": [
          0.5737624764442444
         ],
         "z": [
          -0.107173852622509
         ]
        },
        {
         "hovertemplate": "color=ships<br>0=%{x}<br>1=%{y}<br>2=%{z}<extra></extra>",
         "legendgroup": "ships",
         "marker": {
          "color": "#FF6692",
          "symbol": "circle"
         },
         "mode": "markers",
         "name": "ships",
         "scene": "scene",
         "showlegend": true,
         "type": "scatter3d",
         "x": [
          0.129106804728508
         ],
         "y": [
          0.7343358993530273
         ],
         "z": [
          -0.4631797671318054
         ]
        },
        {
         "hovertemplate": "color=tyrell<br>0=%{x}<br>1=%{y}<br>2=%{z}<extra></extra>",
         "legendgroup": "tyrell",
         "marker": {
          "color": "#B6E880",
          "symbol": "circle"
         },
         "mode": "markers",
         "name": "tyrell",
         "scene": "scene",
         "showlegend": true,
         "type": "scatter3d",
         "x": [
          -0.35095280408859253
         ],
         "y": [
          0.387451708316803
         ],
         "z": [
          0.09366615861654282
         ]
        },
        {
         "hovertemplate": "color=below<br>0=%{x}<br>1=%{y}<br>2=%{z}<extra></extra>",
         "legendgroup": "below",
         "marker": {
          "color": "#FF97FF",
          "symbol": "circle"
         },
         "mode": "markers",
         "name": "below",
         "scene": "scene",
         "showlegend": true,
         "type": "scatter3d",
         "x": [
          0.555997371673584
         ],
         "y": [
          0.26792365312576294
         ],
         "z": [
          0.014019359834492207
         ]
        },
        {
         "hovertemplate": "color=moon<br>0=%{x}<br>1=%{y}<br>2=%{z}<extra></extra>",
         "legendgroup": "moon",
         "marker": {
          "color": "#FECB52",
          "symbol": "circle"
         },
         "mode": "markers",
         "name": "moon",
         "scene": "scene",
         "showlegend": true,
         "type": "scatter3d",
         "x": [
          0.2797147035598755
         ],
         "y": [
          0.43258586525917053
         ],
         "z": [
          -0.033555373549461365
         ]
        },
        {
         "hovertemplate": "color=summer<br>0=%{x}<br>1=%{y}<br>2=%{z}<extra></extra>",
         "legendgroup": "summer",
         "marker": {
          "color": "#636efa",
          "symbol": "circle"
         },
         "mode": "markers",
         "name": "summer",
         "scene": "scene",
         "showlegend": true,
         "type": "scatter3d",
         "x": [
          0.24692659080028534
         ],
         "y": [
          0.37323763966560364
         ],
         "z": [
          -0.1713864505290985
         ]
        },
        {
         "hovertemplate": "color=bolton<br>0=%{x}<br>1=%{y}<br>2=%{z}<extra></extra>",
         "legendgroup": "bolton",
         "marker": {
          "color": "#EF553B",
          "symbol": "circle"
         },
         "mode": "markers",
         "name": "bolton",
         "scene": "scene",
         "showlegend": true,
         "type": "scatter3d",
         "x": [
          -0.18116097152233124
         ],
         "y": [
          0.45421671867370605
         ],
         "z": [
          0.026045767590403557
         ]
        },
        {
         "hovertemplate": "color=shadow<br>0=%{x}<br>1=%{y}<br>2=%{z}<extra></extra>",
         "legendgroup": "shadow",
         "marker": {
          "color": "#00cc96",
          "symbol": "circle"
         },
         "mode": "markers",
         "name": "shadow",
         "scene": "scene",
         "showlegend": true,
         "type": "scatter3d",
         "x": [
          0.42492780089378357
         ],
         "y": [
          0.4148242473602295
         ],
         "z": [
          -0.09452313184738159
         ]
        },
        {
         "hovertemplate": "color=lips<br>0=%{x}<br>1=%{y}<br>2=%{z}<extra></extra>",
         "legendgroup": "lips",
         "marker": {
          "color": "#ab63fa",
          "symbol": "circle"
         },
         "mode": "markers",
         "name": "lips",
         "scene": "scene",
         "showlegend": true,
         "type": "scatter3d",
         "x": [
          0.30196359753608704
         ],
         "y": [
          0.18935087323188782
         ],
         "z": [
          0.3819830119609833
         ]
        },
        {
         "hovertemplate": "color=watched<br>0=%{x}<br>1=%{y}<br>2=%{z}<extra></extra>",
         "legendgroup": "watched",
         "marker": {
          "color": "#FFA15A",
          "symbol": "circle"
         },
         "mode": "markers",
         "name": "watched",
         "scene": "scene",
         "showlegend": true,
         "type": "scatter3d",
         "x": [
          0.2111087590456009
         ],
         "y": [
          0.23325982689857483
         ],
         "z": [
          0.5052393674850464
         ]
        },
        {
         "hovertemplate": "color=times<br>0=%{x}<br>1=%{y}<br>2=%{z}<extra></extra>",
         "legendgroup": "times",
         "marker": {
          "color": "#19d3f3",
          "symbol": "circle"
         },
         "mode": "markers",
         "name": "times",
         "scene": "scene",
         "showlegend": true,
         "type": "scatter3d",
         "x": [
          0.003305949969217181
         ],
         "y": [
          0.5778051614761353
         ],
         "z": [
          -0.04068613052368164
         ]
        },
        {
         "hovertemplate": "color=leather<br>0=%{x}<br>1=%{y}<br>2=%{z}<extra></extra>",
         "legendgroup": "leather",
         "marker": {
          "color": "#FF6692",
          "symbol": "circle"
         },
         "mode": "markers",
         "name": "leather",
         "scene": "scene",
         "showlegend": true,
         "type": "scatter3d",
         "x": [
          0.4998181164264679
         ],
         "y": [
          0.032929059118032455
         ],
         "z": [
          0.05618467181921005
         ]
        },
        {
         "hovertemplate": "color=varys<br>0=%{x}<br>1=%{y}<br>2=%{z}<extra></extra>",
         "legendgroup": "varys",
         "marker": {
          "color": "#B6E880",
          "symbol": "circle"
         },
         "mode": "markers",
         "name": "varys",
         "scene": "scene",
         "showlegend": true,
         "type": "scatter3d",
         "x": [
          -0.32233309745788574
         ],
         "y": [
          0.2959598898887634
         ],
         "z": [
          0.06048687919974327
         ]
        },
        {
         "hovertemplate": "color=shoulder<br>0=%{x}<br>1=%{y}<br>2=%{z}<extra></extra>",
         "legendgroup": "shoulder",
         "marker": {
          "color": "#FF97FF",
          "symbol": "circle"
         },
         "mode": "markers",
         "name": "shoulder",
         "scene": "scene",
         "showlegend": true,
         "type": "scatter3d",
         "x": [
          0.5028813481330872
         ],
         "y": [
          0.17260313034057617
         ],
         "z": [
          0.43737950921058655
         ]
        },
        {
         "hovertemplate": "color=septon<br>0=%{x}<br>1=%{y}<br>2=%{z}<extra></extra>",
         "legendgroup": "septon",
         "marker": {
          "color": "#FECB52",
          "symbol": "circle"
         },
         "mode": "markers",
         "name": "septon",
         "scene": "scene",
         "showlegend": true,
         "type": "scatter3d",
         "x": [
          -0.17715506255626678
         ],
         "y": [
          0.4913519620895386
         ],
         "z": [
          -0.0738987848162651
         ]
        }
       ],
       "layout": {
        "legend": {
         "title": {
          "text": "color"
         },
         "tracegroupgap": 0
        },
        "margin": {
         "t": 60
        },
        "scene": {
         "domain": {
          "x": [
           0,
           1
          ],
          "y": [
           0,
           1
          ]
         },
         "xaxis": {
          "title": {
           "text": "0"
          }
         },
         "yaxis": {
          "title": {
           "text": "1"
          }
         },
         "zaxis": {
          "title": {
           "text": "2"
          }
         }
        },
        "template": {
         "data": {
          "bar": [
           {
            "error_x": {
             "color": "#2a3f5f"
            },
            "error_y": {
             "color": "#2a3f5f"
            },
            "marker": {
             "line": {
              "color": "#E5ECF6",
              "width": 0.5
             },
             "pattern": {
              "fillmode": "overlay",
              "size": 10,
              "solidity": 0.2
             }
            },
            "type": "bar"
           }
          ],
          "barpolar": [
           {
            "marker": {
             "line": {
              "color": "#E5ECF6",
              "width": 0.5
             },
             "pattern": {
              "fillmode": "overlay",
              "size": 10,
              "solidity": 0.2
             }
            },
            "type": "barpolar"
           }
          ],
          "carpet": [
           {
            "aaxis": {
             "endlinecolor": "#2a3f5f",
             "gridcolor": "white",
             "linecolor": "white",
             "minorgridcolor": "white",
             "startlinecolor": "#2a3f5f"
            },
            "baxis": {
             "endlinecolor": "#2a3f5f",
             "gridcolor": "white",
             "linecolor": "white",
             "minorgridcolor": "white",
             "startlinecolor": "#2a3f5f"
            },
            "type": "carpet"
           }
          ],
          "choropleth": [
           {
            "colorbar": {
             "outlinewidth": 0,
             "ticks": ""
            },
            "type": "choropleth"
           }
          ],
          "contour": [
           {
            "colorbar": {
             "outlinewidth": 0,
             "ticks": ""
            },
            "colorscale": [
             [
              0,
              "#0d0887"
             ],
             [
              0.1111111111111111,
              "#46039f"
             ],
             [
              0.2222222222222222,
              "#7201a8"
             ],
             [
              0.3333333333333333,
              "#9c179e"
             ],
             [
              0.4444444444444444,
              "#bd3786"
             ],
             [
              0.5555555555555556,
              "#d8576b"
             ],
             [
              0.6666666666666666,
              "#ed7953"
             ],
             [
              0.7777777777777778,
              "#fb9f3a"
             ],
             [
              0.8888888888888888,
              "#fdca26"
             ],
             [
              1,
              "#f0f921"
             ]
            ],
            "type": "contour"
           }
          ],
          "contourcarpet": [
           {
            "colorbar": {
             "outlinewidth": 0,
             "ticks": ""
            },
            "type": "contourcarpet"
           }
          ],
          "heatmap": [
           {
            "colorbar": {
             "outlinewidth": 0,
             "ticks": ""
            },
            "colorscale": [
             [
              0,
              "#0d0887"
             ],
             [
              0.1111111111111111,
              "#46039f"
             ],
             [
              0.2222222222222222,
              "#7201a8"
             ],
             [
              0.3333333333333333,
              "#9c179e"
             ],
             [
              0.4444444444444444,
              "#bd3786"
             ],
             [
              0.5555555555555556,
              "#d8576b"
             ],
             [
              0.6666666666666666,
              "#ed7953"
             ],
             [
              0.7777777777777778,
              "#fb9f3a"
             ],
             [
              0.8888888888888888,
              "#fdca26"
             ],
             [
              1,
              "#f0f921"
             ]
            ],
            "type": "heatmap"
           }
          ],
          "heatmapgl": [
           {
            "colorbar": {
             "outlinewidth": 0,
             "ticks": ""
            },
            "colorscale": [
             [
              0,
              "#0d0887"
             ],
             [
              0.1111111111111111,
              "#46039f"
             ],
             [
              0.2222222222222222,
              "#7201a8"
             ],
             [
              0.3333333333333333,
              "#9c179e"
             ],
             [
              0.4444444444444444,
              "#bd3786"
             ],
             [
              0.5555555555555556,
              "#d8576b"
             ],
             [
              0.6666666666666666,
              "#ed7953"
             ],
             [
              0.7777777777777778,
              "#fb9f3a"
             ],
             [
              0.8888888888888888,
              "#fdca26"
             ],
             [
              1,
              "#f0f921"
             ]
            ],
            "type": "heatmapgl"
           }
          ],
          "histogram": [
           {
            "marker": {
             "pattern": {
              "fillmode": "overlay",
              "size": 10,
              "solidity": 0.2
             }
            },
            "type": "histogram"
           }
          ],
          "histogram2d": [
           {
            "colorbar": {
             "outlinewidth": 0,
             "ticks": ""
            },
            "colorscale": [
             [
              0,
              "#0d0887"
             ],
             [
              0.1111111111111111,
              "#46039f"
             ],
             [
              0.2222222222222222,
              "#7201a8"
             ],
             [
              0.3333333333333333,
              "#9c179e"
             ],
             [
              0.4444444444444444,
              "#bd3786"
             ],
             [
              0.5555555555555556,
              "#d8576b"
             ],
             [
              0.6666666666666666,
              "#ed7953"
             ],
             [
              0.7777777777777778,
              "#fb9f3a"
             ],
             [
              0.8888888888888888,
              "#fdca26"
             ],
             [
              1,
              "#f0f921"
             ]
            ],
            "type": "histogram2d"
           }
          ],
          "histogram2dcontour": [
           {
            "colorbar": {
             "outlinewidth": 0,
             "ticks": ""
            },
            "colorscale": [
             [
              0,
              "#0d0887"
             ],
             [
              0.1111111111111111,
              "#46039f"
             ],
             [
              0.2222222222222222,
              "#7201a8"
             ],
             [
              0.3333333333333333,
              "#9c179e"
             ],
             [
              0.4444444444444444,
              "#bd3786"
             ],
             [
              0.5555555555555556,
              "#d8576b"
             ],
             [
              0.6666666666666666,
              "#ed7953"
             ],
             [
              0.7777777777777778,
              "#fb9f3a"
             ],
             [
              0.8888888888888888,
              "#fdca26"
             ],
             [
              1,
              "#f0f921"
             ]
            ],
            "type": "histogram2dcontour"
           }
          ],
          "mesh3d": [
           {
            "colorbar": {
             "outlinewidth": 0,
             "ticks": ""
            },
            "type": "mesh3d"
           }
          ],
          "parcoords": [
           {
            "line": {
             "colorbar": {
              "outlinewidth": 0,
              "ticks": ""
             }
            },
            "type": "parcoords"
           }
          ],
          "pie": [
           {
            "automargin": true,
            "type": "pie"
           }
          ],
          "scatter": [
           {
            "fillpattern": {
             "fillmode": "overlay",
             "size": 10,
             "solidity": 0.2
            },
            "type": "scatter"
           }
          ],
          "scatter3d": [
           {
            "line": {
             "colorbar": {
              "outlinewidth": 0,
              "ticks": ""
             }
            },
            "marker": {
             "colorbar": {
              "outlinewidth": 0,
              "ticks": ""
             }
            },
            "type": "scatter3d"
           }
          ],
          "scattercarpet": [
           {
            "marker": {
             "colorbar": {
              "outlinewidth": 0,
              "ticks": ""
             }
            },
            "type": "scattercarpet"
           }
          ],
          "scattergeo": [
           {
            "marker": {
             "colorbar": {
              "outlinewidth": 0,
              "ticks": ""
             }
            },
            "type": "scattergeo"
           }
          ],
          "scattergl": [
           {
            "marker": {
             "colorbar": {
              "outlinewidth": 0,
              "ticks": ""
             }
            },
            "type": "scattergl"
           }
          ],
          "scattermapbox": [
           {
            "marker": {
             "colorbar": {
              "outlinewidth": 0,
              "ticks": ""
             }
            },
            "type": "scattermapbox"
           }
          ],
          "scatterpolar": [
           {
            "marker": {
             "colorbar": {
              "outlinewidth": 0,
              "ticks": ""
             }
            },
            "type": "scatterpolar"
           }
          ],
          "scatterpolargl": [
           {
            "marker": {
             "colorbar": {
              "outlinewidth": 0,
              "ticks": ""
             }
            },
            "type": "scatterpolargl"
           }
          ],
          "scatterternary": [
           {
            "marker": {
             "colorbar": {
              "outlinewidth": 0,
              "ticks": ""
             }
            },
            "type": "scatterternary"
           }
          ],
          "surface": [
           {
            "colorbar": {
             "outlinewidth": 0,
             "ticks": ""
            },
            "colorscale": [
             [
              0,
              "#0d0887"
             ],
             [
              0.1111111111111111,
              "#46039f"
             ],
             [
              0.2222222222222222,
              "#7201a8"
             ],
             [
              0.3333333333333333,
              "#9c179e"
             ],
             [
              0.4444444444444444,
              "#bd3786"
             ],
             [
              0.5555555555555556,
              "#d8576b"
             ],
             [
              0.6666666666666666,
              "#ed7953"
             ],
             [
              0.7777777777777778,
              "#fb9f3a"
             ],
             [
              0.8888888888888888,
              "#fdca26"
             ],
             [
              1,
              "#f0f921"
             ]
            ],
            "type": "surface"
           }
          ],
          "table": [
           {
            "cells": {
             "fill": {
              "color": "#EBF0F8"
             },
             "line": {
              "color": "white"
             }
            },
            "header": {
             "fill": {
              "color": "#C8D4E3"
             },
             "line": {
              "color": "white"
             }
            },
            "type": "table"
           }
          ]
         },
         "layout": {
          "annotationdefaults": {
           "arrowcolor": "#2a3f5f",
           "arrowhead": 0,
           "arrowwidth": 1
          },
          "autotypenumbers": "strict",
          "coloraxis": {
           "colorbar": {
            "outlinewidth": 0,
            "ticks": ""
           }
          },
          "colorscale": {
           "diverging": [
            [
             0,
             "#8e0152"
            ],
            [
             0.1,
             "#c51b7d"
            ],
            [
             0.2,
             "#de77ae"
            ],
            [
             0.3,
             "#f1b6da"
            ],
            [
             0.4,
             "#fde0ef"
            ],
            [
             0.5,
             "#f7f7f7"
            ],
            [
             0.6,
             "#e6f5d0"
            ],
            [
             0.7,
             "#b8e186"
            ],
            [
             0.8,
             "#7fbc41"
            ],
            [
             0.9,
             "#4d9221"
            ],
            [
             1,
             "#276419"
            ]
           ],
           "sequential": [
            [
             0,
             "#0d0887"
            ],
            [
             0.1111111111111111,
             "#46039f"
            ],
            [
             0.2222222222222222,
             "#7201a8"
            ],
            [
             0.3333333333333333,
             "#9c179e"
            ],
            [
             0.4444444444444444,
             "#bd3786"
            ],
            [
             0.5555555555555556,
             "#d8576b"
            ],
            [
             0.6666666666666666,
             "#ed7953"
            ],
            [
             0.7777777777777778,
             "#fb9f3a"
            ],
            [
             0.8888888888888888,
             "#fdca26"
            ],
            [
             1,
             "#f0f921"
            ]
           ],
           "sequentialminus": [
            [
             0,
             "#0d0887"
            ],
            [
             0.1111111111111111,
             "#46039f"
            ],
            [
             0.2222222222222222,
             "#7201a8"
            ],
            [
             0.3333333333333333,
             "#9c179e"
            ],
            [
             0.4444444444444444,
             "#bd3786"
            ],
            [
             0.5555555555555556,
             "#d8576b"
            ],
            [
             0.6666666666666666,
             "#ed7953"
            ],
            [
             0.7777777777777778,
             "#fb9f3a"
            ],
            [
             0.8888888888888888,
             "#fdca26"
            ],
            [
             1,
             "#f0f921"
            ]
           ]
          },
          "colorway": [
           "#636efa",
           "#EF553B",
           "#00cc96",
           "#ab63fa",
           "#FFA15A",
           "#19d3f3",
           "#FF6692",
           "#B6E880",
           "#FF97FF",
           "#FECB52"
          ],
          "font": {
           "color": "#2a3f5f"
          },
          "geo": {
           "bgcolor": "white",
           "lakecolor": "white",
           "landcolor": "#E5ECF6",
           "showlakes": true,
           "showland": true,
           "subunitcolor": "white"
          },
          "hoverlabel": {
           "align": "left"
          },
          "hovermode": "closest",
          "mapbox": {
           "style": "light"
          },
          "paper_bgcolor": "white",
          "plot_bgcolor": "#E5ECF6",
          "polar": {
           "angularaxis": {
            "gridcolor": "white",
            "linecolor": "white",
            "ticks": ""
           },
           "bgcolor": "#E5ECF6",
           "radialaxis": {
            "gridcolor": "white",
            "linecolor": "white",
            "ticks": ""
           }
          },
          "scene": {
           "xaxis": {
            "backgroundcolor": "#E5ECF6",
            "gridcolor": "white",
            "gridwidth": 2,
            "linecolor": "white",
            "showbackground": true,
            "ticks": "",
            "zerolinecolor": "white"
           },
           "yaxis": {
            "backgroundcolor": "#E5ECF6",
            "gridcolor": "white",
            "gridwidth": 2,
            "linecolor": "white",
            "showbackground": true,
            "ticks": "",
            "zerolinecolor": "white"
           },
           "zaxis": {
            "backgroundcolor": "#E5ECF6",
            "gridcolor": "white",
            "gridwidth": 2,
            "linecolor": "white",
            "showbackground": true,
            "ticks": "",
            "zerolinecolor": "white"
           }
          },
          "shapedefaults": {
           "line": {
            "color": "#2a3f5f"
           }
          },
          "ternary": {
           "aaxis": {
            "gridcolor": "white",
            "linecolor": "white",
            "ticks": ""
           },
           "baxis": {
            "gridcolor": "white",
            "linecolor": "white",
            "ticks": ""
           },
           "bgcolor": "#E5ECF6",
           "caxis": {
            "gridcolor": "white",
            "linecolor": "white",
            "ticks": ""
           }
          },
          "title": {
           "x": 0.05
          },
          "xaxis": {
           "automargin": true,
           "gridcolor": "white",
           "linecolor": "white",
           "ticks": "",
           "title": {
            "standoff": 15
           },
           "zerolinecolor": "white",
           "zerolinewidth": 2
          },
          "yaxis": {
           "automargin": true,
           "gridcolor": "white",
           "linecolor": "white",
           "ticks": "",
           "title": {
            "standoff": 15
           },
           "zerolinecolor": "white",
           "zerolinewidth": 2
          }
         }
        }
       }
      }
     },
     "metadata": {},
     "output_type": "display_data"
    }
   ],
   "source": [
    "fig.show()"
   ]
  },
  {
   "cell_type": "code",
   "execution_count": null,
   "metadata": {},
   "outputs": [],
   "source": []
  },
  {
   "cell_type": "code",
   "execution_count": null,
   "metadata": {},
   "outputs": [],
   "source": []
  },
  {
   "cell_type": "code",
   "execution_count": null,
   "metadata": {},
   "outputs": [],
   "source": []
  },
  {
   "cell_type": "code",
   "execution_count": null,
   "metadata": {},
   "outputs": [],
   "source": []
  },
  {
   "cell_type": "code",
   "execution_count": null,
   "metadata": {},
   "outputs": [],
   "source": []
  },
  {
   "cell_type": "code",
   "execution_count": null,
   "metadata": {},
   "outputs": [],
   "source": []
  },
  {
   "cell_type": "code",
   "execution_count": null,
   "metadata": {},
   "outputs": [],
   "source": []
  },
  {
   "cell_type": "code",
   "execution_count": null,
   "metadata": {},
   "outputs": [],
   "source": []
  },
  {
   "cell_type": "code",
   "execution_count": null,
   "metadata": {},
   "outputs": [],
   "source": []
  },
  {
   "cell_type": "code",
   "execution_count": null,
   "metadata": {},
   "outputs": [],
   "source": []
  },
  {
   "cell_type": "code",
   "execution_count": null,
   "metadata": {},
   "outputs": [],
   "source": []
  },
  {
   "cell_type": "code",
   "execution_count": null,
   "metadata": {},
   "outputs": [],
   "source": []
  }
 ],
 "metadata": {
  "kernelspec": {
   "display_name": "Python 3",
   "language": "python",
   "name": "python3"
  },
  "language_info": {
   "codemirror_mode": {
    "name": "ipython",
    "version": 3
   },
   "file_extension": ".py",
   "mimetype": "text/x-python",
   "name": "python",
   "nbconvert_exporter": "python",
   "pygments_lexer": "ipython3",
   "version": "3.11.8"
  }
 },
 "nbformat": 4,
 "nbformat_minor": 2
}
