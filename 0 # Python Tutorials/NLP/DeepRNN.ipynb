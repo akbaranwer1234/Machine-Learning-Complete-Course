{
 "cells": [
  {
   "cell_type": "code",
   "execution_count": 14,
   "metadata": {},
   "outputs": [],
   "source": [
    "from keras.datasets import imdb\n",
    "from keras.preprocessing.sequence import pad_sequences\n",
    "from keras.models import Sequential\n",
    "from keras.layers import SimpleRNN, Embedding, Dense, LSTM, GRU"
   ]
  },
  {
   "cell_type": "code",
   "execution_count": 29,
   "metadata": {},
   "outputs": [
    {
     "name": "stdout",
     "output_type": "stream",
     "text": [
      "(25000, 100) (25000,) 100 100\n"
     ]
    }
   ],
   "source": [
    "(X_train, y_train), (X_test, y_test) = imdb.load_data(num_words=10000)\n",
    "\n",
    "X_train = pad_sequences(X_train, padding='post', maxlen=100)\n",
    "X_test = pad_sequences(X_test, padding='post', maxlen=100)\n",
    "\n",
    "print(X_train.shape, y_train.shape, len(X_train[0]), len(X_test[0]))"
   ]
  },
  {
   "cell_type": "code",
   "execution_count": 30,
   "metadata": {},
   "outputs": [
    {
     "data": {
      "text/plain": [
       "9999"
      ]
     },
     "execution_count": 30,
     "metadata": {},
     "output_type": "execute_result"
    }
   ],
   "source": [
    "# X_train.shape\n",
    "max_index_value = max([max(sequence) for sequence in X_train])\n",
    "max_index_value"
   ]
  },
  {
   "cell_type": "code",
   "execution_count": 31,
   "metadata": {},
   "outputs": [
    {
     "name": "stdout",
     "output_type": "stream",
     "text": [
      "Model: \"sequential_2\"\n",
      "_________________________________________________________________\n",
      " Layer (type)                Output Shape              Param #   \n",
      "=================================================================\n",
      " embedding_10 (Embedding)    (None, 100, 32)           320000    \n",
      "                                                                 \n",
      " simple_rnn_4 (SimpleRNN)    (None, 100, 5)            190       \n",
      "                                                                 \n",
      " simple_rnn_5 (SimpleRNN)    (None, 5)                 55        \n",
      "                                                                 \n",
      " dense_2 (Dense)             (None, 1)                 6         \n",
      "                                                                 \n",
      "=================================================================\n",
      "Total params: 320251 (1.22 MB)\n",
      "Trainable params: 320251 (1.22 MB)\n",
      "Non-trainable params: 0 (0.00 Byte)\n",
      "_________________________________________________________________\n"
     ]
    }
   ],
   "source": [
    "model = Sequential([\n",
    "    Embedding(input_dim=max_index_value+1, output_dim=32, input_length=100),\n",
    "    SimpleRNN(5, return_sequences=True),\n",
    "    SimpleRNN(5, return_sequences=False),\n",
    "    Dense(1, activation='sigmoid')\n",
    "])\n",
    "\n",
    "model.summary()"
   ]
  },
  {
   "cell_type": "code",
   "execution_count": 32,
   "metadata": {},
   "outputs": [
    {
     "name": "stdout",
     "output_type": "stream",
     "text": [
      "Epoch 1/5\n",
      "782/782 [==============================] - 22s 26ms/step - loss: 0.5004 - accuracy: 0.7720 - val_loss: 0.4501 - val_accuracy: 0.8005\n",
      "Epoch 2/5\n",
      "782/782 [==============================] - 49s 62ms/step - loss: 0.3716 - accuracy: 0.8496 - val_loss: 0.4249 - val_accuracy: 0.8148\n",
      "Epoch 3/5\n",
      "782/782 [==============================] - 43s 54ms/step - loss: 0.3054 - accuracy: 0.8832 - val_loss: 0.6528 - val_accuracy: 0.6940\n",
      "Epoch 4/5\n",
      "782/782 [==============================] - 30s 39ms/step - loss: 0.2746 - accuracy: 0.8961 - val_loss: 0.5198 - val_accuracy: 0.8072\n",
      "Epoch 5/5\n",
      "782/782 [==============================] - 25s 33ms/step - loss: 0.1944 - accuracy: 0.9306 - val_loss: 0.5664 - val_accuracy: 0.8006\n"
     ]
    }
   ],
   "source": [
    "model.compile(optimizer='adam', loss='binary_crossentropy', metrics=['accuracy'])\n",
    "history = model.fit(X_train, y_train,epochs=5,validation_data=(X_test,y_test))"
   ]
  },
  {
   "cell_type": "code",
   "execution_count": null,
   "metadata": {},
   "outputs": [],
   "source": []
  }
 ],
 "metadata": {
  "kernelspec": {
   "display_name": "Python 3",
   "language": "python",
   "name": "python3"
  },
  "language_info": {
   "codemirror_mode": {
    "name": "ipython",
    "version": 3
   },
   "file_extension": ".py",
   "mimetype": "text/x-python",
   "name": "python",
   "nbconvert_exporter": "python",
   "pygments_lexer": "ipython3",
   "version": "3.11.8"
  }
 },
 "nbformat": 4,
 "nbformat_minor": 2
}
