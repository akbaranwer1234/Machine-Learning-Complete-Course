{
 "cells": [
  {
   "cell_type": "code",
   "execution_count": 2,
   "metadata": {},
   "outputs": [],
   "source": [
    "import numpy as np\n",
    "import pandas as pd"
   ]
  },
  {
   "cell_type": "code",
   "execution_count": 3,
   "metadata": {},
   "outputs": [
    {
     "data": {
      "text/html": [
       "<div>\n",
       "<style scoped>\n",
       "    .dataframe tbody tr th:only-of-type {\n",
       "        vertical-align: middle;\n",
       "    }\n",
       "\n",
       "    .dataframe tbody tr th {\n",
       "        vertical-align: top;\n",
       "    }\n",
       "\n",
       "    .dataframe thead th {\n",
       "        text-align: right;\n",
       "    }\n",
       "</style>\n",
       "<table border=\"1\" class=\"dataframe\">\n",
       "  <thead>\n",
       "    <tr style=\"text-align: right;\">\n",
       "      <th></th>\n",
       "      <th>batting_team</th>\n",
       "      <th>bowling_team</th>\n",
       "      <th>venue</th>\n",
       "      <th>current_score</th>\n",
       "      <th>is_powerplay</th>\n",
       "      <th>balls_left</th>\n",
       "      <th>wickets_left</th>\n",
       "      <th>current_run_rate</th>\n",
       "      <th>Top_Order</th>\n",
       "      <th>Middle_Order</th>\n",
       "      <th>Lower_Order</th>\n",
       "      <th>Tail</th>\n",
       "      <th>last_five</th>\n",
       "      <th>Death_Overs</th>\n",
       "      <th>final_score</th>\n",
       "    </tr>\n",
       "  </thead>\n",
       "  <tbody>\n",
       "    <tr>\n",
       "      <th>0</th>\n",
       "      <td>South Africa</td>\n",
       "      <td>India</td>\n",
       "      <td>Johannesburg</td>\n",
       "      <td>171</td>\n",
       "      <td>0</td>\n",
       "      <td>15</td>\n",
       "      <td>7</td>\n",
       "      <td>9.771429</td>\n",
       "      <td>0</td>\n",
       "      <td>1</td>\n",
       "      <td>0</td>\n",
       "      <td>0</td>\n",
       "      <td>61</td>\n",
       "      <td>1</td>\n",
       "      <td>219</td>\n",
       "    </tr>\n",
       "    <tr>\n",
       "      <th>1</th>\n",
       "      <td>India</td>\n",
       "      <td>South Africa</td>\n",
       "      <td>Cape Town</td>\n",
       "      <td>66</td>\n",
       "      <td>0</td>\n",
       "      <td>71</td>\n",
       "      <td>9</td>\n",
       "      <td>8.081633</td>\n",
       "      <td>1</td>\n",
       "      <td>0</td>\n",
       "      <td>0</td>\n",
       "      <td>0</td>\n",
       "      <td>35</td>\n",
       "      <td>0</td>\n",
       "      <td>172</td>\n",
       "    </tr>\n",
       "    <tr>\n",
       "      <th>2</th>\n",
       "      <td>West Indies</td>\n",
       "      <td>Sri Lanka</td>\n",
       "      <td>Pallekele</td>\n",
       "      <td>120</td>\n",
       "      <td>0</td>\n",
       "      <td>9</td>\n",
       "      <td>6</td>\n",
       "      <td>6.486486</td>\n",
       "      <td>0</td>\n",
       "      <td>0</td>\n",
       "      <td>1</td>\n",
       "      <td>0</td>\n",
       "      <td>47</td>\n",
       "      <td>1</td>\n",
       "      <td>129</td>\n",
       "    </tr>\n",
       "    <tr>\n",
       "      <th>3</th>\n",
       "      <td>Australia</td>\n",
       "      <td>England</td>\n",
       "      <td>Melbourne</td>\n",
       "      <td>118</td>\n",
       "      <td>0</td>\n",
       "      <td>18</td>\n",
       "      <td>5</td>\n",
       "      <td>6.941176</td>\n",
       "      <td>0</td>\n",
       "      <td>0</td>\n",
       "      <td>1</td>\n",
       "      <td>0</td>\n",
       "      <td>38</td>\n",
       "      <td>1</td>\n",
       "      <td>147</td>\n",
       "    </tr>\n",
       "    <tr>\n",
       "      <th>4</th>\n",
       "      <td>South Africa</td>\n",
       "      <td>Sri Lanka</td>\n",
       "      <td>Johannesburg</td>\n",
       "      <td>69</td>\n",
       "      <td>0</td>\n",
       "      <td>56</td>\n",
       "      <td>5</td>\n",
       "      <td>6.468750</td>\n",
       "      <td>0</td>\n",
       "      <td>0</td>\n",
       "      <td>1</td>\n",
       "      <td>0</td>\n",
       "      <td>29</td>\n",
       "      <td>0</td>\n",
       "      <td>113</td>\n",
       "    </tr>\n",
       "  </tbody>\n",
       "</table>\n",
       "</div>"
      ],
      "text/plain": [
       "   batting_team  bowling_team         venue  current_score  is_powerplay  \\\n",
       "0  South Africa         India  Johannesburg            171             0   \n",
       "1         India  South Africa     Cape Town             66             0   \n",
       "2   West Indies     Sri Lanka     Pallekele            120             0   \n",
       "3     Australia       England     Melbourne            118             0   \n",
       "4  South Africa     Sri Lanka  Johannesburg             69             0   \n",
       "\n",
       "   balls_left  wickets_left  current_run_rate  Top_Order  Middle_Order  \\\n",
       "0          15             7          9.771429          0             1   \n",
       "1          71             9          8.081633          1             0   \n",
       "2           9             6          6.486486          0             0   \n",
       "3          18             5          6.941176          0             0   \n",
       "4          56             5          6.468750          0             0   \n",
       "\n",
       "   Lower_Order  Tail  last_five  Death_Overs  final_score  \n",
       "0            0     0         61            1          219  \n",
       "1            0     0         35            0          172  \n",
       "2            1     0         47            1          129  \n",
       "3            1     0         38            1          147  \n",
       "4            1     0         29            0          113  "
      ]
     },
     "execution_count": 3,
     "metadata": {},
     "output_type": "execute_result"
    }
   ],
   "source": [
    "df = pd.read_csv('Dataset.csv')\n",
    "df.head()"
   ]
  },
  {
   "cell_type": "code",
   "execution_count": 197,
   "metadata": {},
   "outputs": [],
   "source": [
    "from sklearn.model_selection import  train_test_split"
   ]
  },
  {
   "cell_type": "code",
   "execution_count": 198,
   "metadata": {},
   "outputs": [],
   "source": [
    "columnsToDrop = ['batting_team', 'bowling_team', 'venue', 'is_powerplay', 'Top_Order', 'Middle_Order', 'Lower_Order', 'Tail', 'Death_Overs', 'final_score']"
   ]
  },
  {
   "cell_type": "code",
   "execution_count": 199,
   "metadata": {},
   "outputs": [],
   "source": [
    "X_train, X_test, y_train, y_test = train_test_split(df.drop(columns=columnsToDrop), df['final_score'], test_size=0.3, random_state=42)"
   ]
  },
  {
   "cell_type": "code",
   "execution_count": 217,
   "metadata": {},
   "outputs": [
    {
     "data": {
      "text/html": [
       "<div>\n",
       "<style scoped>\n",
       "    .dataframe tbody tr th:only-of-type {\n",
       "        vertical-align: middle;\n",
       "    }\n",
       "\n",
       "    .dataframe tbody tr th {\n",
       "        vertical-align: top;\n",
       "    }\n",
       "\n",
       "    .dataframe thead th {\n",
       "        text-align: right;\n",
       "    }\n",
       "</style>\n",
       "<table border=\"1\" class=\"dataframe\">\n",
       "  <thead>\n",
       "    <tr style=\"text-align: right;\">\n",
       "      <th></th>\n",
       "      <th>current_score</th>\n",
       "      <th>balls_left</th>\n",
       "      <th>wickets_left</th>\n",
       "      <th>current_run_rate</th>\n",
       "      <th>last_five</th>\n",
       "    </tr>\n",
       "  </thead>\n",
       "  <tbody>\n",
       "    <tr>\n",
       "      <th>15694</th>\n",
       "      <td>115</td>\n",
       "      <td>32</td>\n",
       "      <td>5</td>\n",
       "      <td>7.840909</td>\n",
       "      <td>41</td>\n",
       "    </tr>\n",
       "    <tr>\n",
       "      <th>27735</th>\n",
       "      <td>67</td>\n",
       "      <td>77</td>\n",
       "      <td>9</td>\n",
       "      <td>9.348837</td>\n",
       "      <td>52</td>\n",
       "    </tr>\n",
       "    <tr>\n",
       "      <th>33072</th>\n",
       "      <td>86</td>\n",
       "      <td>57</td>\n",
       "      <td>9</td>\n",
       "      <td>8.190476</td>\n",
       "      <td>42</td>\n",
       "    </tr>\n",
       "    <tr>\n",
       "      <th>1686</th>\n",
       "      <td>66</td>\n",
       "      <td>65</td>\n",
       "      <td>7</td>\n",
       "      <td>7.200000</td>\n",
       "      <td>24</td>\n",
       "    </tr>\n",
       "    <tr>\n",
       "      <th>17831</th>\n",
       "      <td>132</td>\n",
       "      <td>12</td>\n",
       "      <td>5</td>\n",
       "      <td>7.333333</td>\n",
       "      <td>45</td>\n",
       "    </tr>\n",
       "  </tbody>\n",
       "</table>\n",
       "</div>"
      ],
      "text/plain": [
       "       current_score  balls_left  wickets_left  current_run_rate  last_five\n",
       "15694            115          32             5          7.840909         41\n",
       "27735             67          77             9          9.348837         52\n",
       "33072             86          57             9          8.190476         42\n",
       "1686              66          65             7          7.200000         24\n",
       "17831            132          12             5          7.333333         45"
      ]
     },
     "execution_count": 217,
     "metadata": {},
     "output_type": "execute_result"
    }
   ],
   "source": [
    "X_train[:5]"
   ]
  },
  {
   "cell_type": "code",
   "execution_count": 218,
   "metadata": {},
   "outputs": [
    {
     "data": {
      "text/plain": [
       "15694    162\n",
       "27735    157\n",
       "33072    196\n",
       "1686     144\n",
       "17831    139\n",
       "Name: final_score, dtype: int64"
      ]
     },
     "execution_count": 218,
     "metadata": {},
     "output_type": "execute_result"
    }
   ],
   "source": [
    "y_train[:5]"
   ]
  },
  {
   "cell_type": "code",
   "execution_count": 200,
   "metadata": {},
   "outputs": [],
   "source": [
    "from sklearn.pipeline import Pipeline\n",
    "from sklearn.preprocessing import StandardScaler\n",
    "from sklearn.compose import ColumnTransformer\n",
    "from sklearn.linear_model import LinearRegression"
   ]
  },
  {
   "cell_type": "code",
   "execution_count": 204,
   "metadata": {},
   "outputs": [],
   "source": [
    "scalePipeline = Pipeline(steps=[\n",
    "    ('scale', StandardScaler()),\n",
    "    ('model', LinearRegression())\n",
    "])"
   ]
  },
  {
   "cell_type": "code",
   "execution_count": 202,
   "metadata": {},
   "outputs": [],
   "source": [
    "# transformer = ColumnTransformer(transformers=[\n",
    "#     ('scaling', scalePipeline),\n",
    "#     ('model', LinearRegression())\n",
    "# ])"
   ]
  },
  {
   "cell_type": "code",
   "execution_count": 205,
   "metadata": {},
   "outputs": [
    {
     "data": {
      "text/html": [
       "<style>#sk-container-id-3 {color: black;}#sk-container-id-3 pre{padding: 0;}#sk-container-id-3 div.sk-toggleable {background-color: white;}#sk-container-id-3 label.sk-toggleable__label {cursor: pointer;display: block;width: 100%;margin-bottom: 0;padding: 0.3em;box-sizing: border-box;text-align: center;}#sk-container-id-3 label.sk-toggleable__label-arrow:before {content: \"▸\";float: left;margin-right: 0.25em;color: #696969;}#sk-container-id-3 label.sk-toggleable__label-arrow:hover:before {color: black;}#sk-container-id-3 div.sk-estimator:hover label.sk-toggleable__label-arrow:before {color: black;}#sk-container-id-3 div.sk-toggleable__content {max-height: 0;max-width: 0;overflow: hidden;text-align: left;background-color: #f0f8ff;}#sk-container-id-3 div.sk-toggleable__content pre {margin: 0.2em;color: black;border-radius: 0.25em;background-color: #f0f8ff;}#sk-container-id-3 input.sk-toggleable__control:checked~div.sk-toggleable__content {max-height: 200px;max-width: 100%;overflow: auto;}#sk-container-id-3 input.sk-toggleable__control:checked~label.sk-toggleable__label-arrow:before {content: \"▾\";}#sk-container-id-3 div.sk-estimator input.sk-toggleable__control:checked~label.sk-toggleable__label {background-color: #d4ebff;}#sk-container-id-3 div.sk-label input.sk-toggleable__control:checked~label.sk-toggleable__label {background-color: #d4ebff;}#sk-container-id-3 input.sk-hidden--visually {border: 0;clip: rect(1px 1px 1px 1px);clip: rect(1px, 1px, 1px, 1px);height: 1px;margin: -1px;overflow: hidden;padding: 0;position: absolute;width: 1px;}#sk-container-id-3 div.sk-estimator {font-family: monospace;background-color: #f0f8ff;border: 1px dotted black;border-radius: 0.25em;box-sizing: border-box;margin-bottom: 0.5em;}#sk-container-id-3 div.sk-estimator:hover {background-color: #d4ebff;}#sk-container-id-3 div.sk-parallel-item::after {content: \"\";width: 100%;border-bottom: 1px solid gray;flex-grow: 1;}#sk-container-id-3 div.sk-label:hover label.sk-toggleable__label {background-color: #d4ebff;}#sk-container-id-3 div.sk-serial::before {content: \"\";position: absolute;border-left: 1px solid gray;box-sizing: border-box;top: 0;bottom: 0;left: 50%;z-index: 0;}#sk-container-id-3 div.sk-serial {display: flex;flex-direction: column;align-items: center;background-color: white;padding-right: 0.2em;padding-left: 0.2em;position: relative;}#sk-container-id-3 div.sk-item {position: relative;z-index: 1;}#sk-container-id-3 div.sk-parallel {display: flex;align-items: stretch;justify-content: center;background-color: white;position: relative;}#sk-container-id-3 div.sk-item::before, #sk-container-id-3 div.sk-parallel-item::before {content: \"\";position: absolute;border-left: 1px solid gray;box-sizing: border-box;top: 0;bottom: 0;left: 50%;z-index: -1;}#sk-container-id-3 div.sk-parallel-item {display: flex;flex-direction: column;z-index: 1;position: relative;background-color: white;}#sk-container-id-3 div.sk-parallel-item:first-child::after {align-self: flex-end;width: 50%;}#sk-container-id-3 div.sk-parallel-item:last-child::after {align-self: flex-start;width: 50%;}#sk-container-id-3 div.sk-parallel-item:only-child::after {width: 0;}#sk-container-id-3 div.sk-dashed-wrapped {border: 1px dashed gray;margin: 0 0.4em 0.5em 0.4em;box-sizing: border-box;padding-bottom: 0.4em;background-color: white;}#sk-container-id-3 div.sk-label label {font-family: monospace;font-weight: bold;display: inline-block;line-height: 1.2em;}#sk-container-id-3 div.sk-label-container {text-align: center;}#sk-container-id-3 div.sk-container {/* jupyter's `normalize.less` sets `[hidden] { display: none; }` but bootstrap.min.css set `[hidden] { display: none !important; }` so we also need the `!important` here to be able to override the default hidden behavior on the sphinx rendered scikit-learn.org. See: https://github.com/scikit-learn/scikit-learn/issues/21755 */display: inline-block !important;position: relative;}#sk-container-id-3 div.sk-text-repr-fallback {display: none;}</style><div id=\"sk-container-id-3\" class=\"sk-top-container\"><div class=\"sk-text-repr-fallback\"><pre>Pipeline(steps=[(&#x27;scale&#x27;, StandardScaler()), (&#x27;model&#x27;, LinearRegression())])</pre><b>In a Jupyter environment, please rerun this cell to show the HTML representation or trust the notebook. <br />On GitHub, the HTML representation is unable to render, please try loading this page with nbviewer.org.</b></div><div class=\"sk-container\" hidden><div class=\"sk-item sk-dashed-wrapped\"><div class=\"sk-label-container\"><div class=\"sk-label sk-toggleable\"><input class=\"sk-toggleable__control sk-hidden--visually\" id=\"sk-estimator-id-3\" type=\"checkbox\" ><label for=\"sk-estimator-id-3\" class=\"sk-toggleable__label sk-toggleable__label-arrow\">Pipeline</label><div class=\"sk-toggleable__content\"><pre>Pipeline(steps=[(&#x27;scale&#x27;, StandardScaler()), (&#x27;model&#x27;, LinearRegression())])</pre></div></div></div><div class=\"sk-serial\"><div class=\"sk-item\"><div class=\"sk-estimator sk-toggleable\"><input class=\"sk-toggleable__control sk-hidden--visually\" id=\"sk-estimator-id-4\" type=\"checkbox\" ><label for=\"sk-estimator-id-4\" class=\"sk-toggleable__label sk-toggleable__label-arrow\">StandardScaler</label><div class=\"sk-toggleable__content\"><pre>StandardScaler()</pre></div></div></div><div class=\"sk-item\"><div class=\"sk-estimator sk-toggleable\"><input class=\"sk-toggleable__control sk-hidden--visually\" id=\"sk-estimator-id-5\" type=\"checkbox\" ><label for=\"sk-estimator-id-5\" class=\"sk-toggleable__label sk-toggleable__label-arrow\">LinearRegression</label><div class=\"sk-toggleable__content\"><pre>LinearRegression()</pre></div></div></div></div></div></div></div>"
      ],
      "text/plain": [
       "Pipeline(steps=[('scale', StandardScaler()), ('model', LinearRegression())])"
      ]
     },
     "execution_count": 205,
     "metadata": {},
     "output_type": "execute_result"
    }
   ],
   "source": [
    "scalePipeline.fit(X_train, y_train)"
   ]
  },
  {
   "cell_type": "code",
   "execution_count": 206,
   "metadata": {},
   "outputs": [
    {
     "data": {
      "text/plain": [
       "array([164.10876032, 134.46273111, 166.01442172, ..., 180.52033046,\n",
       "       158.439085  , 173.73688119])"
      ]
     },
     "execution_count": 206,
     "metadata": {},
     "output_type": "execute_result"
    }
   ],
   "source": [
    "y_pred2 = scalePipeline.predict(X_test)\n",
    "y_pred2"
   ]
  },
  {
   "cell_type": "code",
   "execution_count": 221,
   "metadata": {},
   "outputs": [
    {
     "data": {
      "text/plain": [
       "array([[86.      , 57.      ,  9.      ,  8.190476, 42.      ]])"
      ]
     },
     "execution_count": 221,
     "metadata": {},
     "output_type": "execute_result"
    }
   ],
   "source": [
    "testData = np.array([86, 57, 9, 8.190476, 42]).reshape(1, -1)\n",
    "testData"
   ]
  },
  {
   "cell_type": "code",
   "execution_count": 222,
   "metadata": {},
   "outputs": [
    {
     "name": "stderr",
     "output_type": "stream",
     "text": [
      "c:\\Users\\Jonathan\\AppData\\Local\\Programs\\Python\\Python311\\Lib\\site-packages\\sklearn\\base.py:465: UserWarning: X does not have valid feature names, but StandardScaler was fitted with feature names\n",
      "  warnings.warn(\n"
     ]
    },
    {
     "data": {
      "text/plain": [
       "array([175.0619666])"
      ]
     },
     "execution_count": 222,
     "metadata": {},
     "output_type": "execute_result"
    }
   ],
   "source": [
    "scalePipeline.predict(testData)"
   ]
  },
  {
   "cell_type": "code",
   "execution_count": null,
   "metadata": {},
   "outputs": [
    {
     "data": {
      "text/plain": [
       "(30228, 5)"
      ]
     },
     "execution_count": 149,
     "metadata": {},
     "output_type": "execute_result"
    }
   ],
   "source": [
    "X_train.shape"
   ]
  },
  {
   "cell_type": "code",
   "execution_count": null,
   "metadata": {},
   "outputs": [
    {
     "data": {
      "text/plain": [
       "(12955, 5)"
      ]
     },
     "execution_count": 150,
     "metadata": {},
     "output_type": "execute_result"
    }
   ],
   "source": [
    "X_test.shape"
   ]
  },
  {
   "cell_type": "code",
   "execution_count": null,
   "metadata": {},
   "outputs": [
    {
     "data": {
      "text/plain": [
       "(30228,)"
      ]
     },
     "execution_count": 151,
     "metadata": {},
     "output_type": "execute_result"
    }
   ],
   "source": [
    "y_train.shape"
   ]
  },
  {
   "cell_type": "code",
   "execution_count": null,
   "metadata": {},
   "outputs": [
    {
     "data": {
      "text/plain": [
       "(12955,)"
      ]
     },
     "execution_count": 164,
     "metadata": {},
     "output_type": "execute_result"
    }
   ],
   "source": [
    "y_test.shape"
   ]
  },
  {
   "cell_type": "code",
   "execution_count": null,
   "metadata": {},
   "outputs": [],
   "source": []
  },
  {
   "cell_type": "code",
   "execution_count": null,
   "metadata": {},
   "outputs": [],
   "source": [
    "scale = StandardScaler()"
   ]
  },
  {
   "cell_type": "code",
   "execution_count": null,
   "metadata": {},
   "outputs": [],
   "source": [
    "X_train_transform = scale.fit_transform(X_train)\n",
    "X_test_transform = scale.transform(X_test)"
   ]
  },
  {
   "cell_type": "code",
   "execution_count": null,
   "metadata": {},
   "outputs": [
    {
     "data": {
      "text/plain": [
       "array([[-0.75411243,  0.86230016,  1.1086848 , -0.12459647, -0.49036793],\n",
       "       [-0.8729592 ,  0.37481845,  0.12839042, -1.25047721, -1.16342216]])"
      ]
     },
     "execution_count": 158,
     "metadata": {},
     "output_type": "execute_result"
    }
   ],
   "source": [
    "X_test_transform[:2]"
   ]
  },
  {
   "cell_type": "code",
   "execution_count": null,
   "metadata": {},
   "outputs": [],
   "source": []
  },
  {
   "cell_type": "code",
   "execution_count": null,
   "metadata": {},
   "outputs": [
    {
     "data": {
      "text/html": [
       "<style>#sk-container-id-1 {color: black;}#sk-container-id-1 pre{padding: 0;}#sk-container-id-1 div.sk-toggleable {background-color: white;}#sk-container-id-1 label.sk-toggleable__label {cursor: pointer;display: block;width: 100%;margin-bottom: 0;padding: 0.3em;box-sizing: border-box;text-align: center;}#sk-container-id-1 label.sk-toggleable__label-arrow:before {content: \"▸\";float: left;margin-right: 0.25em;color: #696969;}#sk-container-id-1 label.sk-toggleable__label-arrow:hover:before {color: black;}#sk-container-id-1 div.sk-estimator:hover label.sk-toggleable__label-arrow:before {color: black;}#sk-container-id-1 div.sk-toggleable__content {max-height: 0;max-width: 0;overflow: hidden;text-align: left;background-color: #f0f8ff;}#sk-container-id-1 div.sk-toggleable__content pre {margin: 0.2em;color: black;border-radius: 0.25em;background-color: #f0f8ff;}#sk-container-id-1 input.sk-toggleable__control:checked~div.sk-toggleable__content {max-height: 200px;max-width: 100%;overflow: auto;}#sk-container-id-1 input.sk-toggleable__control:checked~label.sk-toggleable__label-arrow:before {content: \"▾\";}#sk-container-id-1 div.sk-estimator input.sk-toggleable__control:checked~label.sk-toggleable__label {background-color: #d4ebff;}#sk-container-id-1 div.sk-label input.sk-toggleable__control:checked~label.sk-toggleable__label {background-color: #d4ebff;}#sk-container-id-1 input.sk-hidden--visually {border: 0;clip: rect(1px 1px 1px 1px);clip: rect(1px, 1px, 1px, 1px);height: 1px;margin: -1px;overflow: hidden;padding: 0;position: absolute;width: 1px;}#sk-container-id-1 div.sk-estimator {font-family: monospace;background-color: #f0f8ff;border: 1px dotted black;border-radius: 0.25em;box-sizing: border-box;margin-bottom: 0.5em;}#sk-container-id-1 div.sk-estimator:hover {background-color: #d4ebff;}#sk-container-id-1 div.sk-parallel-item::after {content: \"\";width: 100%;border-bottom: 1px solid gray;flex-grow: 1;}#sk-container-id-1 div.sk-label:hover label.sk-toggleable__label {background-color: #d4ebff;}#sk-container-id-1 div.sk-serial::before {content: \"\";position: absolute;border-left: 1px solid gray;box-sizing: border-box;top: 0;bottom: 0;left: 50%;z-index: 0;}#sk-container-id-1 div.sk-serial {display: flex;flex-direction: column;align-items: center;background-color: white;padding-right: 0.2em;padding-left: 0.2em;position: relative;}#sk-container-id-1 div.sk-item {position: relative;z-index: 1;}#sk-container-id-1 div.sk-parallel {display: flex;align-items: stretch;justify-content: center;background-color: white;position: relative;}#sk-container-id-1 div.sk-item::before, #sk-container-id-1 div.sk-parallel-item::before {content: \"\";position: absolute;border-left: 1px solid gray;box-sizing: border-box;top: 0;bottom: 0;left: 50%;z-index: -1;}#sk-container-id-1 div.sk-parallel-item {display: flex;flex-direction: column;z-index: 1;position: relative;background-color: white;}#sk-container-id-1 div.sk-parallel-item:first-child::after {align-self: flex-end;width: 50%;}#sk-container-id-1 div.sk-parallel-item:last-child::after {align-self: flex-start;width: 50%;}#sk-container-id-1 div.sk-parallel-item:only-child::after {width: 0;}#sk-container-id-1 div.sk-dashed-wrapped {border: 1px dashed gray;margin: 0 0.4em 0.5em 0.4em;box-sizing: border-box;padding-bottom: 0.4em;background-color: white;}#sk-container-id-1 div.sk-label label {font-family: monospace;font-weight: bold;display: inline-block;line-height: 1.2em;}#sk-container-id-1 div.sk-label-container {text-align: center;}#sk-container-id-1 div.sk-container {/* jupyter's `normalize.less` sets `[hidden] { display: none; }` but bootstrap.min.css set `[hidden] { display: none !important; }` so we also need the `!important` here to be able to override the default hidden behavior on the sphinx rendered scikit-learn.org. See: https://github.com/scikit-learn/scikit-learn/issues/21755 */display: inline-block !important;position: relative;}#sk-container-id-1 div.sk-text-repr-fallback {display: none;}</style><div id=\"sk-container-id-1\" class=\"sk-top-container\"><div class=\"sk-text-repr-fallback\"><pre>LinearRegression()</pre><b>In a Jupyter environment, please rerun this cell to show the HTML representation or trust the notebook. <br />On GitHub, the HTML representation is unable to render, please try loading this page with nbviewer.org.</b></div><div class=\"sk-container\" hidden><div class=\"sk-item\"><div class=\"sk-estimator sk-toggleable\"><input class=\"sk-toggleable__control sk-hidden--visually\" id=\"sk-estimator-id-1\" type=\"checkbox\" checked><label for=\"sk-estimator-id-1\" class=\"sk-toggleable__label sk-toggleable__label-arrow\">LinearRegression</label><div class=\"sk-toggleable__content\"><pre>LinearRegression()</pre></div></div></div></div></div>"
      ],
      "text/plain": [
       "LinearRegression()"
      ]
     },
     "execution_count": 154,
     "metadata": {},
     "output_type": "execute_result"
    }
   ],
   "source": [
    "model = LinearRegression()\n",
    "model.fit(X_train_transform, y_train)"
   ]
  },
  {
   "cell_type": "code",
   "execution_count": null,
   "metadata": {},
   "outputs": [
    {
     "data": {
      "text/plain": [
       "array([164.10876032, 134.46273111, 166.01442172, ..., 180.52033046,\n",
       "       158.439085  , 173.73688119])"
      ]
     },
     "execution_count": 159,
     "metadata": {},
     "output_type": "execute_result"
    }
   ],
   "source": [
    "y_pred = model.predict(X_test_transform)\n",
    "y_pred"
   ]
  },
  {
   "cell_type": "code",
   "execution_count": null,
   "metadata": {},
   "outputs": [],
   "source": [
    "model.predict([])"
   ]
  },
  {
   "cell_type": "code",
   "execution_count": null,
   "metadata": {},
   "outputs": [],
   "source": [
    "from sklearn.metrics import mean_squared_error, r2_score"
   ]
  },
  {
   "cell_type": "code",
   "execution_count": null,
   "metadata": {},
   "outputs": [
    {
     "name": "stdout",
     "output_type": "stream",
     "text": [
      "Coefficients:\n",
      "[32.99335256 21.59268637  9.12264114  5.35627212  0.33494872]\n",
      "Intercept:\n",
      "161.08756781791718\n",
      "\n",
      "Performance Metrics:\n",
      "Training RMSE: 18.85\n",
      "Test RMSE: 18.81\n",
      "Training R-squared: 0.66\n",
      "Test R-squared: 0.66\n"
     ]
    }
   ],
   "source": [
    "# Print coefficients\n",
    "print(\"Coefficients:\")\n",
    "print(model.coef_)  # Coefficients for each feature\n",
    "print(\"Intercept:\")\n",
    "print(model.intercept_)  # Intercept\n",
    "\n",
    "# Make predictions on training and test sets\n",
    "y_train_pred = model.predict(X_train_transform)\n",
    "y_test_pred = model.predict(X_test_transform)\n",
    "\n",
    "# Evaluate the model's performance\n",
    "train_rmse = np.sqrt(mean_squared_error(y_train, y_train_pred))\n",
    "test_rmse = np.sqrt(mean_squared_error(y_test, y_test_pred))\n",
    "train_r2 = r2_score(y_train, y_train_pred)\n",
    "test_r2 = r2_score(y_test, y_test_pred)\n",
    "\n",
    "# Print performance metrics\n",
    "print(\"\\nPerformance Metrics:\")\n",
    "print(f\"Training RMSE: {train_rmse:.2f}\")\n",
    "print(f\"Test RMSE: {test_rmse:.2f}\")\n",
    "print(f\"Training R-squared: {train_r2:.2f}\")\n",
    "print(f\"Test R-squared: {test_r2:.2f}\")"
   ]
  },
  {
   "cell_type": "code",
   "execution_count": null,
   "metadata": {},
   "outputs": [],
   "source": [
    "import matplotlib.pyplot as plt"
   ]
  },
  {
   "cell_type": "code",
   "execution_count": null,
   "metadata": {},
   "outputs": [
    {
     "data": {
      "image/png": "[encoded data removed]",
      "text/plain": [
       "<Figure size 640x480 with 1 Axes>"
      ]
     },
     "metadata": {},
     "output_type": "display_data"
    }
   ],
   "source": [
    "# Generate some sample data for demonstration purposes\n",
    "X_feature = np.array([1, 2, 3, 4, 5, 6, 7, 8, 9, 10])  # Example feature values\n",
    "y_target = 22 * X_feature + 3.4  # Example linear relationship: y = 2*X + 3\n",
    "\n",
    "# Create a linear regression model with the specified coefficients\n",
    "intercept = 3\n",
    "coefficient = 2\n",
    "\n",
    "# Calculate the predicted values using the model\n",
    "y_predicted = intercept + coefficient * X_feature\n",
    "\n",
    "# Plot the data points and the regression line\n",
    "plt.scatter(X_feature, y_target, label=\"Data Points\")\n",
    "plt.plot(X_feature, y_predicted, color='red', label=\"Regression Line\")\n",
    "\n",
    "# Add labels and legend\n",
    "plt.xlabel(\"Feature\")\n",
    "plt.ylabel(\"Target\")\n",
    "plt.legend()\n",
    "\n",
    "# Show the plot\n",
    "plt.grid(True)\n",
    "plt.title(\"Linear Regression with Intercept and Coefficient\")\n",
    "plt.show()\n"
   ]
  },
  {
   "cell_type": "code",
   "execution_count": 234,
   "metadata": {},
   "outputs": [
    {
     "name": "stdout",
     "output_type": "stream",
     "text": [
      "<class 'pandas.core.frame.DataFrame'>\n",
      "RangeIndex: 43183 entries, 0 to 43182\n",
      "Data columns (total 12 columns):\n",
      " #   Column            Non-Null Count  Dtype  \n",
      "---  ------            --------------  -----  \n",
      " 0   current_score     43183 non-null  int64  \n",
      " 1   is_powerplay      43183 non-null  int64  \n",
      " 2   balls_left        43183 non-null  int64  \n",
      " 3   wickets_left      43183 non-null  int64  \n",
      " 4   current_run_rate  43183 non-null  float64\n",
      " 5   Top_Order         43183 non-null  int64  \n",
      " 6   Middle_Order      43183 non-null  int64  \n",
      " 7   Lower_Order       43183 non-null  int64  \n",
      " 8   Tail              43183 non-null  int64  \n",
      " 9   last_five         43183 non-null  int64  \n",
      " 10  Death_Overs       43183 non-null  int64  \n",
      " 11  final_score       43183 non-null  int64  \n",
      "dtypes: float64(1), int64(11)\n",
      "memory usage: 4.0 MB\n"
     ]
    }
   ],
   "source": [
    "df.info()"
   ]
  },
  {
   "cell_type": "code",
   "execution_count": 7,
   "metadata": {},
   "outputs": [],
   "source": [
    "import matplotlib.pyplot as plt"
   ]
  },
  {
   "cell_type": "code",
   "execution_count": 231,
   "metadata": {},
   "outputs": [
    {
     "data": {
      "text/plain": [
       "array([[<Axes: title={'center': 'current_score'}>,\n",
       "        <Axes: title={'center': 'is_powerplay'}>,\n",
       "        <Axes: title={'center': 'balls_left'}>],\n",
       "       [<Axes: title={'center': 'wickets_left'}>,\n",
       "        <Axes: title={'center': 'current_run_rate'}>,\n",
       "        <Axes: title={'center': 'Top_Order'}>],\n",
       "       [<Axes: title={'center': 'Middle_Order'}>,\n",
       "        <Axes: title={'center': 'Lower_Order'}>,\n",
       "        <Axes: title={'center': 'Tail'}>],\n",
       "       [<Axes: title={'center': 'last_five'}>,\n",
       "        <Axes: title={'center': 'Death_Overs'}>,\n",
       "        <Axes: title={'center': 'final_score'}>]], dtype=object)"
      ]
     },
     "execution_count": 231,
     "metadata": {},
     "output_type": "execute_result"
    },
    {
     "data": {
      "image/png": "[encoded data removed]",
      "text/plain": [
       "<Figure size 2000x1500 with 12 Axes>"
      ]
     },
     "metadata": {},
     "output_type": "display_data"
    }
   ],
   "source": [
    "df.hist(bins=10, figsize=(20, 15))"
   ]
  },
  {
   "cell_type": "code",
   "execution_count": 4,
   "metadata": {},
   "outputs": [],
   "source": [
    "import seaborn as sns"
   ]
  },
  {
   "cell_type": "code",
   "execution_count": 19,
   "metadata": {},
   "outputs": [
    {
     "data": {
      "text/html": [
       "<div>\n",
       "<style scoped>\n",
       "    .dataframe tbody tr th:only-of-type {\n",
       "        vertical-align: middle;\n",
       "    }\n",
       "\n",
       "    .dataframe tbody tr th {\n",
       "        vertical-align: top;\n",
       "    }\n",
       "\n",
       "    .dataframe thead th {\n",
       "        text-align: right;\n",
       "    }\n",
       "</style>\n",
       "<table border=\"1\" class=\"dataframe\">\n",
       "  <thead>\n",
       "    <tr style=\"text-align: right;\">\n",
       "      <th></th>\n",
       "      <th>current_score</th>\n",
       "      <th>is_powerplay</th>\n",
       "      <th>balls_left</th>\n",
       "      <th>wickets_left</th>\n",
       "      <th>current_run_rate</th>\n",
       "      <th>Top_Order</th>\n",
       "      <th>Middle_Order</th>\n",
       "      <th>Lower_Order</th>\n",
       "      <th>Tail</th>\n",
       "      <th>last_five</th>\n",
       "      <th>Death_Overs</th>\n",
       "    </tr>\n",
       "  </thead>\n",
       "  <tbody>\n",
       "    <tr>\n",
       "      <th>current_score</th>\n",
       "      <td>1.000000</td>\n",
       "      <td>-0.402314</td>\n",
       "      <td>-0.861007</td>\n",
       "      <td>-0.386150</td>\n",
       "      <td>0.541583</td>\n",
       "      <td>-0.296664</td>\n",
       "      <td>-0.110103</td>\n",
       "      <td>0.204991</td>\n",
       "      <td>0.237890</td>\n",
       "      <td>0.519779</td>\n",
       "      <td>0.714434</td>\n",
       "    </tr>\n",
       "    <tr>\n",
       "      <th>is_powerplay</th>\n",
       "      <td>-0.402314</td>\n",
       "      <td>1.000000</td>\n",
       "      <td>0.495668</td>\n",
       "      <td>0.300075</td>\n",
       "      <td>0.006167</td>\n",
       "      <td>0.314652</td>\n",
       "      <td>-0.014935</td>\n",
       "      <td>-0.170320</td>\n",
       "      <td>-0.129118</td>\n",
       "      <td>-0.026726</td>\n",
       "      <td>-0.216277</td>\n",
       "    </tr>\n",
       "    <tr>\n",
       "      <th>balls_left</th>\n",
       "      <td>-0.861007</td>\n",
       "      <td>0.495668</td>\n",
       "      <td>1.000000</td>\n",
       "      <td>0.670424</td>\n",
       "      <td>-0.081433</td>\n",
       "      <td>0.474245</td>\n",
       "      <td>0.198097</td>\n",
       "      <td>-0.303632</td>\n",
       "      <td>-0.441332</td>\n",
       "      <td>-0.183304</td>\n",
       "      <td>-0.807807</td>\n",
       "    </tr>\n",
       "    <tr>\n",
       "      <th>wickets_left</th>\n",
       "      <td>-0.386150</td>\n",
       "      <td>0.300075</td>\n",
       "      <td>0.670424</td>\n",
       "      <td>1.000000</td>\n",
       "      <td>0.304497</td>\n",
       "      <td>0.648881</td>\n",
       "      <td>0.290472</td>\n",
       "      <td>-0.343395</td>\n",
       "      <td>-0.721825</td>\n",
       "      <td>0.247674</td>\n",
       "      <td>-0.563163</td>\n",
       "    </tr>\n",
       "    <tr>\n",
       "      <th>current_run_rate</th>\n",
       "      <td>0.541583</td>\n",
       "      <td>0.006167</td>\n",
       "      <td>-0.081433</td>\n",
       "      <td>0.304497</td>\n",
       "      <td>1.000000</td>\n",
       "      <td>0.249501</td>\n",
       "      <td>0.021567</td>\n",
       "      <td>-0.111902</td>\n",
       "      <td>-0.177979</td>\n",
       "      <td>0.768347</td>\n",
       "      <td>0.096192</td>\n",
       "    </tr>\n",
       "    <tr>\n",
       "      <th>Top_Order</th>\n",
       "      <td>-0.296664</td>\n",
       "      <td>0.314652</td>\n",
       "      <td>0.474245</td>\n",
       "      <td>0.648881</td>\n",
       "      <td>0.249501</td>\n",
       "      <td>1.000000</td>\n",
       "      <td>-0.402969</td>\n",
       "      <td>-0.309789</td>\n",
       "      <td>-0.209721</td>\n",
       "      <td>0.199148</td>\n",
       "      <td>-0.328543</td>\n",
       "    </tr>\n",
       "    <tr>\n",
       "      <th>Middle_Order</th>\n",
       "      <td>-0.110103</td>\n",
       "      <td>-0.014935</td>\n",
       "      <td>0.198097</td>\n",
       "      <td>0.290472</td>\n",
       "      <td>0.021567</td>\n",
       "      <td>-0.402969</td>\n",
       "      <td>1.000000</td>\n",
       "      <td>-0.473939</td>\n",
       "      <td>-0.320848</td>\n",
       "      <td>0.005243</td>\n",
       "      <td>-0.233235</td>\n",
       "    </tr>\n",
       "    <tr>\n",
       "      <th>Lower_Order</th>\n",
       "      <td>0.204991</td>\n",
       "      <td>-0.170320</td>\n",
       "      <td>-0.303632</td>\n",
       "      <td>-0.343395</td>\n",
       "      <td>-0.111902</td>\n",
       "      <td>-0.309789</td>\n",
       "      <td>-0.473939</td>\n",
       "      <td>1.000000</td>\n",
       "      <td>-0.246657</td>\n",
       "      <td>-0.067097</td>\n",
       "      <td>0.226040</td>\n",
       "    </tr>\n",
       "    <tr>\n",
       "      <th>Tail</th>\n",
       "      <td>0.237890</td>\n",
       "      <td>-0.129118</td>\n",
       "      <td>-0.441332</td>\n",
       "      <td>-0.721825</td>\n",
       "      <td>-0.177979</td>\n",
       "      <td>-0.209721</td>\n",
       "      <td>-0.320848</td>\n",
       "      <td>-0.246657</td>\n",
       "      <td>1.000000</td>\n",
       "      <td>-0.153530</td>\n",
       "      <td>0.419079</td>\n",
       "    </tr>\n",
       "    <tr>\n",
       "      <th>last_five</th>\n",
       "      <td>0.519779</td>\n",
       "      <td>-0.026726</td>\n",
       "      <td>-0.183304</td>\n",
       "      <td>0.247674</td>\n",
       "      <td>0.768347</td>\n",
       "      <td>0.199148</td>\n",
       "      <td>0.005243</td>\n",
       "      <td>-0.067097</td>\n",
       "      <td>-0.153530</td>\n",
       "      <td>1.000000</td>\n",
       "      <td>0.208872</td>\n",
       "    </tr>\n",
       "    <tr>\n",
       "      <th>Death_Overs</th>\n",
       "      <td>0.714434</td>\n",
       "      <td>-0.216277</td>\n",
       "      <td>-0.807807</td>\n",
       "      <td>-0.563163</td>\n",
       "      <td>0.096192</td>\n",
       "      <td>-0.328543</td>\n",
       "      <td>-0.233235</td>\n",
       "      <td>0.226040</td>\n",
       "      <td>0.419079</td>\n",
       "      <td>0.208872</td>\n",
       "      <td>1.000000</td>\n",
       "    </tr>\n",
       "  </tbody>\n",
       "</table>\n",
       "</div>"
      ],
      "text/plain": [
       "                  current_score  is_powerplay  balls_left  wickets_left  \\\n",
       "current_score          1.000000     -0.402314   -0.861007     -0.386150   \n",
       "is_powerplay          -0.402314      1.000000    0.495668      0.300075   \n",
       "balls_left            -0.861007      0.495668    1.000000      0.670424   \n",
       "wickets_left          -0.386150      0.300075    0.670424      1.000000   \n",
       "current_run_rate       0.541583      0.006167   -0.081433      0.304497   \n",
       "Top_Order             -0.296664      0.314652    0.474245      0.648881   \n",
       "Middle_Order          -0.110103     -0.014935    0.198097      0.290472   \n",
       "Lower_Order            0.204991     -0.170320   -0.303632     -0.343395   \n",
       "Tail                   0.237890     -0.129118   -0.441332     -0.721825   \n",
       "last_five              0.519779     -0.026726   -0.183304      0.247674   \n",
       "Death_Overs            0.714434     -0.216277   -0.807807     -0.563163   \n",
       "\n",
       "                  current_run_rate  Top_Order  Middle_Order  Lower_Order  \\\n",
       "current_score             0.541583  -0.296664     -0.110103     0.204991   \n",
       "is_powerplay              0.006167   0.314652     -0.014935    -0.170320   \n",
       "balls_left               -0.081433   0.474245      0.198097    -0.303632   \n",
       "wickets_left              0.304497   0.648881      0.290472    -0.343395   \n",
       "current_run_rate          1.000000   0.249501      0.021567    -0.111902   \n",
       "Top_Order                 0.249501   1.000000     -0.402969    -0.309789   \n",
       "Middle_Order              0.021567  -0.402969      1.000000    -0.473939   \n",
       "Lower_Order              -0.111902  -0.309789     -0.473939     1.000000   \n",
       "Tail                     -0.177979  -0.209721     -0.320848    -0.246657   \n",
       "last_five                 0.768347   0.199148      0.005243    -0.067097   \n",
       "Death_Overs               0.096192  -0.328543     -0.233235     0.226040   \n",
       "\n",
       "                      Tail  last_five  Death_Overs  \n",
       "current_score     0.237890   0.519779     0.714434  \n",
       "is_powerplay     -0.129118  -0.026726    -0.216277  \n",
       "balls_left       -0.441332  -0.183304    -0.807807  \n",
       "wickets_left     -0.721825   0.247674    -0.563163  \n",
       "current_run_rate -0.177979   0.768347     0.096192  \n",
       "Top_Order        -0.209721   0.199148    -0.328543  \n",
       "Middle_Order     -0.320848   0.005243    -0.233235  \n",
       "Lower_Order      -0.246657  -0.067097     0.226040  \n",
       "Tail              1.000000  -0.153530     0.419079  \n",
       "last_five        -0.153530   1.000000     0.208872  \n",
       "Death_Overs       0.419079   0.208872     1.000000  "
      ]
     },
     "execution_count": 19,
     "metadata": {},
     "output_type": "execute_result"
    }
   ],
   "source": [
    "colForCorr = ['current_score', 'is_powerplay', 'balls_left', 'wickets_left', 'current_run_rate', 'Top_Order', 'Middle_Order', 'Lower_Order', 'Tail', 'last_five', 'Death_Overs']\n",
    "dfForCorr = df[colForCorr]\n",
    "corr = dfForCorr.corr()\n",
    "corr\n",
    "# fig, ax = plt.subplots(figsize=(10, 10))\n",
    "# sns.heatmap(corr, annot=True)"
   ]
  },
  {
   "cell_type": "markdown",
   "metadata": {},
   "source": []
  },
  {
   "cell_type": "markdown",
   "metadata": {},
   "source": []
  },
  {
   "cell_type": "markdown",
   "metadata": {},
   "source": []
  },
  {
   "cell_type": "markdown",
   "metadata": {},
   "source": [
    "1) Other than home ground, where did Sri Lanka play the most number of matches?"
   ]
  },
  {
   "cell_type": "markdown",
   "metadata": {},
   "source": [
    "2) Which Team has the highest score and opposition against which team did it occur?"
   ]
  },
  {
   "cell_type": "markdown",
   "metadata": {},
   "source": [
    "3) Which team has the highest run rate?"
   ]
  },
  {
   "cell_type": "markdown",
   "metadata": {},
   "source": [
    "4) Which batting order (Top Order, Middle Order, Lower Order, or Tail) performed the best in\n",
    "terms of average runs scored?"
   ]
  },
  {
   "cell_type": "markdown",
   "metadata": {},
   "source": [
    "5) What is the average pressure score in matches where the Tail was batting?"
   ]
  },
  {
   "cell_type": "markdown",
   "metadata": {},
   "source": [
    "6) In how many matches was the Aggression Mode set to 1? describe the teams with most\n",
    "aggressive Matches"
   ]
  },
  {
   "cell_type": "markdown",
   "metadata": {},
   "source": [
    "7) What is the average runs scored by India in the last five overs (Death Overs) across all\n",
    "matches?"
   ]
  },
  {
   "cell_type": "markdown",
   "metadata": {},
   "source": [
    "8) Highest and Average score in Johannesburg?"
   ]
  },
  {
   "cell_type": "markdown",
   "metadata": {},
   "source": [
    "9) Highest and Average target set against Pakistan?"
   ]
  },
  {
   "cell_type": "markdown",
   "metadata": {},
   "source": [
    "10) Visualize the highest vs lowest score of a team"
   ]
  },
  {
   "cell_type": "markdown",
   "metadata": {},
   "source": [
    "11) Average Number of wickets fallen in death Overs?"
   ]
  },
  {
   "cell_type": "markdown",
   "metadata": {},
   "source": [
    "12) Average target set by Pakistan in their homeland? Note: Homeland may include cities of\n",
    "Pakistan and UAE"
   ]
  },
  {
   "cell_type": "markdown",
   "metadata": {},
   "source": [
    "13) describe the average runs scored by each team under pressure"
   ]
  },
  {
   "cell_type": "markdown",
   "metadata": {},
   "source": [
    "14)  describe the average runs scored by each team in death overs"
   ]
  },
  {
   "cell_type": "markdown",
   "metadata": {},
   "source": [
    "15) describe the average target by each Team"
   ]
  }
 ],
 "metadata": {
  "kernelspec": {
   "display_name": "Python 3",
   "language": "python",
   "name": "python3"
  },
  "language_info": {
   "codemirror_mode": {
    "name": "ipython",
    "version": 3
   },
   "file_extension": ".py",
   "mimetype": "text/x-python",
   "name": "python",
   "nbconvert_exporter": "python",
   "pygments_lexer": "ipython3",
   "version": "3.11.4"
  },
  "orig_nbformat": 4
 },
 "nbformat": 4,
 "nbformat_minor": 2
}
