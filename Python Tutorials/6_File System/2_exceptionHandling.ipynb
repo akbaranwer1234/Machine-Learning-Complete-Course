{
 "cells": [
  {
   "cell_type": "code",
   "execution_count": 10,
   "metadata": {},
   "outputs": [
    {
     "name": "stdout",
     "output_type": "stream",
     "text": [
      "Sorry, Something went wrong!\n",
      "Everything is done\n"
     ]
    }
   ],
   "source": [
    "try:\n",
    "    f = open('test.txt', 'r')\n",
    "    var = var2\n",
    "\n",
    "except FileNotFoundError:\n",
    "    print('Sprry, This file does not exist')\n",
    "\n",
    "except Exception:\n",
    "    print('Sorry, Something went wrong!')\n",
    "\n",
    "else:\n",
    "    print(f.read())\n",
    "    f.close()\n",
    "\n",
    "finally:\n",
    "    print('Everything is done')"
   ]
  },
  {
   "cell_type": "code",
   "execution_count": 17,
   "metadata": {},
   "outputs": [
    {
     "name": "stdout",
     "output_type": "stream",
     "text": [
      "This is an error\n",
      "Everything is done\n"
     ]
    }
   ],
   "source": [
    "try:\n",
    "    f = open('test.txt', 'r')\n",
    "    # var = var2\n",
    "    if f.name == 'test.txt':\n",
    "        raise Exception('This is an error')\n",
    "\n",
    "except FileNotFoundError as e:\n",
    "    print(e)\n",
    "\n",
    "except Exception as e:\n",
    "    print(e)\n",
    "\n",
    "else:\n",
    "    print(f.read())\n",
    "    f.close()\n",
    "\n",
    "finally:\n",
    "    print('Everything is done')"
   ]
  }
 ],
 "metadata": {
  "kernelspec": {
   "display_name": "Python 3",
   "language": "python",
   "name": "python3"
  },
  "language_info": {
   "codemirror_mode": {
    "name": "ipython",
    "version": 3
   },
   "file_extension": ".py",
   "mimetype": "text/x-python",
   "name": "python",
   "nbconvert_exporter": "python",
   "pygments_lexer": "ipython3",
   "version": "3.11.4"
  },
  "orig_nbformat": 4
 },
 "nbformat": 4,
 "nbformat_minor": 2
}
