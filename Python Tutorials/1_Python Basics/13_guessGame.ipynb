{
 "cells": [
  {
   "cell_type": "code",
   "execution_count": 1,
   "metadata": {},
   "outputs": [],
   "source": [
    "import random"
   ]
  },
  {
   "cell_type": "code",
   "execution_count": 26,
   "metadata": {},
   "outputs": [
    {
     "name": "stdout",
     "output_type": "stream",
     "text": [
      "27\n"
     ]
    }
   ],
   "source": [
    "actualNumber = random.randint(1, 100)\n",
    "print(actualNumber)"
   ]
  },
  {
   "cell_type": "code",
   "execution_count": 45,
   "metadata": {},
   "outputs": [
    {
     "name": "stdout",
     "output_type": "stream",
     "text": [
      "34\n"
     ]
    }
   ],
   "source": [
    "guessNumber = int(input(prompt = \"Enter some number between 1 and 100\"))\n",
    "print(guessNumber)"
   ]
  },
  {
   "cell_type": "code",
   "execution_count": 47,
   "metadata": {},
   "outputs": [
    {
     "name": "stdout",
     "output_type": "stream",
     "text": [
      "Congratulations! You guessed the correct number\n"
     ]
    }
   ],
   "source": [
    "while guessNumber != actualNumber:\n",
    "    if guessNumber > actualNumber:\n",
    "        print(\"Try again with lower number\")\n",
    "    else:\n",
    "        print(\"Try again with higher number\")\n",
    "\n",
    "    guessNumber = int(input(prompt = \"Enter some number between 1 and 100\"))\n",
    "    print(guessNumber)\n",
    "\n",
    "print(\"Congratulations! You guessed the correct number\")"
   ]
  }
 ],
 "metadata": {
  "kernelspec": {
   "display_name": "Python 3",
   "language": "python",
   "name": "python3"
  },
  "language_info": {
   "codemirror_mode": {
    "name": "ipython",
    "version": 3
   },
   "file_extension": ".py",
   "mimetype": "text/x-python",
   "name": "python",
   "nbconvert_exporter": "python",
   "pygments_lexer": "ipython3",
   "version": "3.11.4"
  },
  "orig_nbformat": 4
 },
 "nbformat": 4,
 "nbformat_minor": 2
}
