{
 "cells": [
  {
   "cell_type": "code",
   "execution_count": 2,
   "metadata": {},
   "outputs": [],
   "source": [
    "list = list(range(1, 11))"
   ]
  },
  {
   "cell_type": "code",
   "execution_count": 3,
   "metadata": {},
   "outputs": [
    {
     "name": "stdout",
     "output_type": "stream",
     "text": [
      "1\n",
      "2\n",
      "3\n"
     ]
    }
   ],
   "source": [
    "for i in list:\n",
    "    if i == 4:\n",
    "        break #when you want to break out of the loop\n",
    "    print(i)"
   ]
  },
  {
   "cell_type": "code",
   "execution_count": 5,
   "metadata": {},
   "outputs": [
    {
     "name": "stdout",
     "output_type": "stream",
     "text": [
      "1\n",
      "iteration no:  1\n",
      "2\n",
      "iteration no:  2\n",
      "3\n",
      "iteration no:  3\n",
      "5\n",
      "iteration no:  5\n",
      "6\n",
      "iteration no:  6\n",
      "7\n",
      "iteration no:  7\n",
      "8\n",
      "iteration no:  8\n",
      "9\n",
      "iteration no:  9\n",
      "10\n",
      "iteration no:  10\n"
     ]
    }
   ],
   "source": [
    "for i in list:\n",
    "    if i == 4:\n",
    "        continue #when you don't want to continue with some value\n",
    "    print(i)\n",
    "    print('iteration no: ', i)"
   ]
  },
  {
   "cell_type": "code",
   "execution_count": 6,
   "metadata": {},
   "outputs": [],
   "source": [
    "list = ['Lahore', 'Karachi', 'Islamabad', 'Multan', 'Faisalabad']"
   ]
  },
  {
   "cell_type": "code",
   "execution_count": 7,
   "metadata": {},
   "outputs": [
    {
     "name": "stdout",
     "output_type": "stream",
     "text": [
      "Lahore\n",
      "Karachi\n",
      "Islamabad\n"
     ]
    }
   ],
   "source": [
    "for i in list:\n",
    "    if i == 'Multan':\n",
    "        break\n",
    "    print(i)"
   ]
  },
  {
   "cell_type": "code",
   "execution_count": 8,
   "metadata": {},
   "outputs": [
    {
     "name": "stdout",
     "output_type": "stream",
     "text": [
      "Lahore\n",
      "Karachi\n",
      "Islamabad\n",
      "Faisalabad\n"
     ]
    }
   ],
   "source": [
    "for i in list:\n",
    "    if i == 'Multan':\n",
    "        continue\n",
    "    print(i)"
   ]
  },
  {
   "cell_type": "code",
   "execution_count": 9,
   "metadata": {},
   "outputs": [],
   "source": [
    "for i in list:\n",
    "    pass #for future purposes"
   ]
  }
 ],
 "metadata": {
  "kernelspec": {
   "display_name": "Python 3",
   "language": "python",
   "name": "python3"
  },
  "language_info": {
   "codemirror_mode": {
    "name": "ipython",
    "version": 3
   },
   "file_extension": ".py",
   "mimetype": "text/x-python",
   "name": "python",
   "nbconvert_exporter": "python",
   "pygments_lexer": "ipython3",
   "version": "3.11.4"
  },
  "orig_nbformat": 4
 },
 "nbformat": 4,
 "nbformat_minor": 2
}
