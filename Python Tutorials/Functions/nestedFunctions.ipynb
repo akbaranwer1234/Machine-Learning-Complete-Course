{
 "cells": [
  {
   "cell_type": "code",
   "execution_count": 2,
   "metadata": {},
   "outputs": [],
   "source": [
    "def sumFx (x, y):\n",
    "    sum = x + y\n",
    "    return sum"
   ]
  },
  {
   "cell_type": "code",
   "execution_count": 3,
   "metadata": {},
   "outputs": [],
   "source": [
    "def divFx (x, y):\n",
    "    div = x / y\n",
    "    return div"
   ]
  },
  {
   "cell_type": "code",
   "execution_count": 4,
   "metadata": {},
   "outputs": [],
   "source": [
    "def multFx (x, y):\n",
    "    mult = x * y\n",
    "    return sum"
   ]
  },
  {
   "cell_type": "code",
   "execution_count": 5,
   "metadata": {},
   "outputs": [],
   "source": [
    "def subFx (x, y):\n",
    "    sub = x - y\n",
    "    return sub"
   ]
  },
  {
   "cell_type": "code",
   "execution_count": 19,
   "metadata": {},
   "outputs": [],
   "source": [
    "def calculator (choice, firstNumber, secondNumber):\n",
    "    if choice == 1:\n",
    "        print(sumFx(firstNumber, secondNumber))\n",
    "    elif choice == 2:\n",
    "        print(subFx(firstNumber, secondNumber))\n",
    "    elif choice == 3:\n",
    "        print(mulFx(firstNumber, secondNumber))\n",
    "    elif choice == 4:\n",
    "        print(divFx(firstNumber, secondNumber))\n",
    "    else:\n",
    "        print(\"Invalid choice\")"
   ]
  },
  {
   "cell_type": "code",
   "execution_count": 10,
   "metadata": {},
   "outputs": [
    {
     "name": "stdout",
     "output_type": "stream",
     "text": [
      "1. Addition of\n",
      "2. Subtraction\n",
      "3. Mmultiplication \n",
      "4. Division\n"
     ]
    }
   ],
   "source": [
    "print(\"1. Addition of\")\n",
    "print(\"2. Subtraction\")\n",
    "print(\"3. Mmultiplication \")\n",
    "print(\"4. Division\")"
   ]
  },
  {
   "cell_type": "code",
   "execution_count": 20,
   "metadata": {},
   "outputs": [
    {
     "name": "stdout",
     "output_type": "stream",
     "text": [
      "-1\n"
     ]
    }
   ],
   "source": [
    "operation = int(input(\"Enter operation number: \"))\n",
    "firstNumber = int(input(\"Enter first number: \"))\n",
    "secondNumber = int(input(\"Enter second number: \"))\n",
    "\n",
    "calculator(operation, firstNumber, secondNumber)"
   ]
  },
  {
   "attachments": {},
   "cell_type": "markdown",
   "metadata": {},
   "source": [
    "Renaming a function\n",
    "Deleting a function\n",
    "Sorting a function\n",
    "Returning a function\n",
    "Functoin as argument"
   ]
  },
  {
   "cell_type": "code",
   "execution_count": null,
   "metadata": {},
   "outputs": [],
   "source": []
  }
 ],
 "metadata": {
  "kernelspec": {
   "display_name": "Python 3",
   "language": "python",
   "name": "python3"
  },
  "language_info": {
   "codemirror_mode": {
    "name": "ipython",
    "version": 3
   },
   "file_extension": ".py",
   "mimetype": "text/x-python",
   "name": "python",
   "nbconvert_exporter": "python",
   "pygments_lexer": "ipython3",
   "version": "3.11.4"
  },
  "orig_nbformat": 4
 },
 "nbformat": 4,
 "nbformat_minor": 2
}
