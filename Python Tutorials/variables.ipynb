{
 "cells": [
  {
   "attachments": {},
   "cell_type": "markdown",
   "metadata": {},
   "source": [
    "Variables\n",
    "\n",
    "Static Typing (Must be declared as int, float, bool, etc...)\n",
    "Static Binding (Must be the same type as it is declared in the variable declaration)\n",
    "Dynamic Typing (No variable declaration as like C/C++)\n",
    "Dynamic Binding (Automatically adjust the tyed value)"
   ]
  },
  {
   "cell_type": "code",
   "execution_count": null,
   "metadata": {},
   "outputs": [],
   "source": [
    "#C/C++ Language\n",
    "int alpha = 5\n",
    "float beta = 3.14\n",
    "boolean delta = false"
   ]
  },
  {
   "cell_type": "code",
   "execution_count": null,
   "metadata": {},
   "outputs": [],
   "source": [
    "alpha = false \n",
    "beta = 5\n",
    "delta = 3.14"
   ]
  },
  {
   "cell_type": "code",
   "execution_count": null,
   "metadata": {},
   "outputs": [],
   "source": [
    "alpha = 10 \n",
    "beta = 9.17\n",
    "delta = true"
   ]
  },
  {
   "cell_type": "code",
   "execution_count": 7,
   "metadata": {},
   "outputs": [
    {
     "name": "stdout",
     "output_type": "stream",
     "text": [
      "5 3.14 False\n"
     ]
    }
   ],
   "source": [
    "#python / PHP\n",
    "alpha = 5\n",
    "beta = 3.14\n",
    "delta = False\n",
    "print(alpha, beta, delta)"
   ]
  },
  {
   "cell_type": "code",
   "execution_count": 8,
   "metadata": {},
   "outputs": [
    {
     "name": "stdout",
     "output_type": "stream",
     "text": [
      "Python programming language True 10\n"
     ]
    }
   ],
   "source": [
    "alpha = 'Python programming language'\n",
    "beta = True\n",
    "delta = 10\n",
    "print(alpha, beta, delta)"
   ]
  },
  {
   "cell_type": "code",
   "execution_count": 10,
   "metadata": {},
   "outputs": [
    {
     "name": "stdout",
     "output_type": "stream",
     "text": [
      "10 3.14 True\n"
     ]
    }
   ],
   "source": [
    "#special case\n",
    "alpha = 10; beta = 3.14; delta = True\n",
    "print(alpha, beta, delta)"
   ]
  },
  {
   "cell_type": "code",
   "execution_count": 12,
   "metadata": {},
   "outputs": [
    {
     "name": "stdout",
     "output_type": "stream",
     "text": [
      "10 3.14 True\n"
     ]
    }
   ],
   "source": [
    "alpha, beta, delta = 10, 3.14, True\n",
    "print(alpha, beta, delta)"
   ]
  },
  {
   "cell_type": "code",
   "execution_count": 15,
   "metadata": {},
   "outputs": [
    {
     "name": "stdout",
     "output_type": "stream",
     "text": [
      "90 90 90\n"
     ]
    }
   ],
   "source": [
    "alpha = beta = delta = 90\n",
    "print(alpha, beta, delta)"
   ]
  },
  {
   "cell_type": "code",
   "execution_count": 16,
   "metadata": {},
   "outputs": [
    {
     "name": "stdout",
     "output_type": "stream",
     "text": [
      "90-90-90\n"
     ]
    }
   ],
   "source": [
    "alpha = beta = delta = 90\n",
    "print(alpha, beta, delta, sep='-')"
   ]
  }
 ],
 "metadata": {
  "kernelspec": {
   "display_name": "Python 3",
   "language": "python",
   "name": "python3"
  },
  "language_info": {
   "codemirror_mode": {
    "name": "ipython",
    "version": 3
   },
   "file_extension": ".py",
   "mimetype": "text/x-python",
   "name": "python",
   "nbconvert_exporter": "python",
   "pygments_lexer": "ipython3",
   "version": "3.11.4"
  },
  "orig_nbformat": 4
 },
 "nbformat": 4,
 "nbformat_minor": 2
}
