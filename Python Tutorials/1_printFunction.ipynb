{
 "cells": [
  {
   "cell_type": "code",
   "execution_count": 26,
   "metadata": {},
   "outputs": [
    {
     "name": "stdout",
     "output_type": "stream",
     "text": [
      "Hello World!\n"
     ]
    }
   ],
   "source": [
    "print(\"Hello World!\")"
   ]
  },
  {
   "cell_type": "code",
   "execution_count": 27,
   "metadata": {},
   "outputs": [
    {
     "name": "stdout",
     "output_type": "stream",
     "text": [
      "Hello World Python is a great programming language\n"
     ]
    }
   ],
   "source": [
    "print(\"Hello World\", \"Python is a great programming language\")"
   ]
  },
  {
   "cell_type": "code",
   "execution_count": 28,
   "metadata": {},
   "outputs": [
    {
     "name": "stdout",
     "output_type": "stream",
     "text": [
      "Hello World!\n"
     ]
    }
   ],
   "source": [
    "print('Hello World!')"
   ]
  },
  {
   "cell_type": "code",
   "execution_count": 29,
   "metadata": {},
   "outputs": [
    {
     "name": "stdout",
     "output_type": "stream",
     "text": [
      "Hello World Python is a great programming language\n"
     ]
    }
   ],
   "source": [
    "print('Hello World', 'Python is a great programming language')"
   ]
  },
  {
   "cell_type": "code",
   "execution_count": 30,
   "metadata": {},
   "outputs": [
    {
     "ename": "SyntaxError",
     "evalue": "unterminated string literal (detected at line 1) (3129532693.py, line 1)",
     "output_type": "error",
     "traceback": [
      "\u001b[1;36m  Cell \u001b[1;32mIn[30], line 1\u001b[1;36m\u001b[0m\n\u001b[1;33m    print(\"John\"s book was good enough\")\u001b[0m\n\u001b[1;37m                                      ^\u001b[0m\n\u001b[1;31mSyntaxError\u001b[0m\u001b[1;31m:\u001b[0m unterminated string literal (detected at line 1)\n"
     ]
    }
   ],
   "source": [
    "print(\"John\"s book was good enough\")"
   ]
  },
  {
   "cell_type": "code",
   "execution_count": 31,
   "metadata": {},
   "outputs": [
    {
     "name": "stdout",
     "output_type": "stream",
     "text": [
      "John's book was good enough\n"
     ]
    }
   ],
   "source": [
    "print(\"John's book was good enough\")"
   ]
  },
  {
   "cell_type": "code",
   "execution_count": 32,
   "metadata": {},
   "outputs": [
    {
     "name": "stdout",
     "output_type": "stream",
     "text": [
      "John's book was 'good' enough\n"
     ]
    }
   ],
   "source": [
    "print(\"John's book was 'good' enough\")"
   ]
  },
  {
   "cell_type": "code",
   "execution_count": 34,
   "metadata": {},
   "outputs": [
    {
     "name": "stdout",
     "output_type": "stream",
     "text": [
      "John\"s book was good enough\n"
     ]
    }
   ],
   "source": [
    "print('John\"s book was good enough')"
   ]
  },
  {
   "cell_type": "code",
   "execution_count": 35,
   "metadata": {},
   "outputs": [
    {
     "name": "stdout",
     "output_type": "stream",
     "text": [
      "John\"s book was \"good\" enough\n"
     ]
    }
   ],
   "source": [
    "print('John\"s book was \"good\" enough')"
   ]
  },
  {
   "cell_type": "code",
   "execution_count": 36,
   "metadata": {},
   "outputs": [
    {
     "name": "stdout",
     "output_type": "stream",
     "text": [
      "Hello World Python is a great programming language It is a free course 0 Fee for this\n"
     ]
    }
   ],
   "source": [
    "print(\"Hello World\", \"Python is a great programming language\", \"It is a free course\", 0, \"Fee for this\")"
   ]
  },
  {
   "cell_type": "code",
   "execution_count": 44,
   "metadata": {},
   "outputs": [
    {
     "name": "stdout",
     "output_type": "stream",
     "text": [
      "My house rent is 6000 '$' per month and i pay 72000 \"$\"in an year\n"
     ]
    }
   ],
   "source": [
    "print(\"My house rent is\", 1000+100+900+4000, \"'$' per month\", 'and i pay', (1000+100+900+4000)*12, '\"$\"in an year' )"
   ]
  },
  {
   "cell_type": "code",
   "execution_count": 45,
   "metadata": {},
   "outputs": [],
   "source": [
    "monthlyRent = 6000\n",
    "yearlyRent = monthlyRent * 12"
   ]
  },
  {
   "cell_type": "code",
   "execution_count": 47,
   "metadata": {},
   "outputs": [
    {
     "name": "stdout",
     "output_type": "stream",
     "text": [
      "My house rent is 6000 '$' per month and i pay 72000 \"$\"in an year\n"
     ]
    }
   ],
   "source": [
    "print(\"My house rent is\", monthlyRent, \"'$' per month\", 'and i pay', yearlyRent, '\"$\"in an year' )"
   ]
  },
  {
   "cell_type": "code",
   "execution_count": 48,
   "metadata": {},
   "outputs": [
    {
     "name": "stdout",
     "output_type": "stream",
     "text": [
      "Hello World Python Java JavaScript\n"
     ]
    }
   ],
   "source": [
    "print('Hello', 'World', 'Python', 'Java', 'JavaScript')"
   ]
  },
  {
   "cell_type": "code",
   "execution_count": 49,
   "metadata": {},
   "outputs": [
    {
     "name": "stdout",
     "output_type": "stream",
     "text": [
      "Hello-World-Python-Java-JavaScript\n"
     ]
    }
   ],
   "source": [
    "print('Hello', 'World', 'Python', 'Java', 'JavaScript', sep=\"-\")"
   ]
  },
  {
   "cell_type": "code",
   "execution_count": 50,
   "metadata": {},
   "outputs": [
    {
     "name": "stdout",
     "output_type": "stream",
     "text": [
      "Hello world\n",
      "Python is a good programming language\n"
     ]
    }
   ],
   "source": [
    "print(\"Hello world\")\n",
    "print(\"Python is a good programming language\")\n"
   ]
  },
  {
   "cell_type": "code",
   "execution_count": 54,
   "metadata": {},
   "outputs": [
    {
     "name": "stdout",
     "output_type": "stream",
     "text": [
      "Hello world@Python is a good programming language\n"
     ]
    }
   ],
   "source": [
    "print(\"Hello world\", end='@')\n",
    "print(\"Python is a good programming language\")"
   ]
  }
 ],
 "metadata": {
  "kernelspec": {
   "display_name": "Python 3",
   "language": "python",
   "name": "python3"
  },
  "language_info": {
   "codemirror_mode": {
    "name": "ipython",
    "version": 3
   },
   "file_extension": ".py",
   "mimetype": "text/x-python",
   "name": "python",
   "nbconvert_exporter": "python",
   "pygments_lexer": "ipython3",
   "version": "3.11.4"
  },
  "orig_nbformat": 4
 },
 "nbformat": 4,
 "nbformat_minor": 2
}
