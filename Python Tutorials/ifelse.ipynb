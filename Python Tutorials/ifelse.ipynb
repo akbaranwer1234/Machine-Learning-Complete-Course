{
 "cells": [
  {
   "cell_type": "code",
   "execution_count": 9,
   "metadata": {},
   "outputs": [
    {
     "name": "stdout",
     "output_type": "stream",
     "text": [
      "sadhfajksd slklakdhhaskd\n"
     ]
    }
   ],
   "source": [
    "# Corret email = abcd@email.com\n",
    "# Correct password = password@123\n",
    "\n",
    "email = input(\"Enter Your Email: \")\n",
    "password = input(\"Enter Your Password: \")\n",
    "\n",
    "print(email, password)"
   ]
  },
  {
   "cell_type": "code",
   "execution_count": 10,
   "metadata": {},
   "outputs": [
    {
     "name": "stdout",
     "output_type": "stream",
     "text": [
      "Invalid Credentials!\n"
     ]
    }
   ],
   "source": [
    "if email == 'abcd@email.com' and password == 'password@123':\n",
    "    print('Welcome to the Dashboard!')\n",
    "else:\n",
    "    print('Invalid Credentials!')"
   ]
  },
  {
   "cell_type": "code",
   "execution_count": 11,
   "metadata": {},
   "outputs": [
    {
     "name": "stdout",
     "output_type": "stream",
     "text": [
      "abcd@email.com password@123\n"
     ]
    }
   ],
   "source": [
    "email = input(\"Enter Your Email: \")\n",
    "password = input(\"Enter Your Password: \")\n",
    "print(email, password)"
   ]
  },
  {
   "cell_type": "code",
   "execution_count": 12,
   "metadata": {},
   "outputs": [
    {
     "name": "stdout",
     "output_type": "stream",
     "text": [
      "Welcome to the Dashboard!\n"
     ]
    }
   ],
   "source": [
    "if email == 'abcd@email.com' and password == 'password@123':\n",
    "    print('Welcome to the Dashboard!')\n",
    "else:\n",
    "    print('Invalid Credentials!')"
   ]
  },
  {
   "cell_type": "code",
   "execution_count": 16,
   "metadata": {},
   "outputs": [
    {
     "name": "stdout",
     "output_type": "stream",
     "text": [
      "abcd@email.com lsakdhfd\n"
     ]
    }
   ],
   "source": [
    "email = input(\"Enter Your Email: \")\n",
    "password = input(\"Enter Your Password: \")\n",
    "print(email, password)"
   ]
  },
  {
   "cell_type": "code",
   "execution_count": 17,
   "metadata": {},
   "outputs": [
    {
     "name": "stdout",
     "output_type": "stream",
     "text": [
      "Wrong Password, retry\n",
      "Wrong Password, nikal jaa\n"
     ]
    }
   ],
   "source": [
    "if email == 'abcd@email.com' and password == 'password@123':\n",
    "    print('Welcome to the Dashboard!')\n",
    "elif email == 'abcd@email.com' and password != 'password@123':\n",
    "    print('Wrong Password, retry')\n",
    "    password = input('Re-enter your password')\n",
    "    if password == 'password@123':\n",
    "        print('Welcome to the Dashboard!')\n",
    "    else:\n",
    "        print('Wrong Password, nikal jaa')\n",
    "else:\n",
    "    print('Invalid Credentials!')"
   ]
  },
  {
   "cell_type": "code",
   "execution_count": 18,
   "metadata": {},
   "outputs": [
    {
     "name": "stdout",
     "output_type": "stream",
     "text": [
      "asdlgkh@lksg.com\n"
     ]
    }
   ],
   "source": [
    "email = input(\"Enter Your Email: \")\n",
    "print(email)"
   ]
  },
  {
   "cell_type": "code",
   "execution_count": 20,
   "metadata": {},
   "outputs": [
    {
     "name": "stdout",
     "output_type": "stream",
     "text": [
      "A valid email address\n"
     ]
    }
   ],
   "source": [
    "if '@' in email:\n",
    "    print('A valid email address')\n",
    "else:\n",
    "    print('Invalid email address')"
   ]
  }
 ],
 "metadata": {
  "kernelspec": {
   "display_name": "Python 3",
   "language": "python",
   "name": "python3"
  },
  "language_info": {
   "codemirror_mode": {
    "name": "ipython",
    "version": 3
   },
   "file_extension": ".py",
   "mimetype": "text/x-python",
   "name": "python",
   "nbconvert_exporter": "python",
   "pygments_lexer": "ipython3",
   "version": "3.11.4"
  },
  "orig_nbformat": 4
 },
 "nbformat": 4,
 "nbformat_minor": 2
}
