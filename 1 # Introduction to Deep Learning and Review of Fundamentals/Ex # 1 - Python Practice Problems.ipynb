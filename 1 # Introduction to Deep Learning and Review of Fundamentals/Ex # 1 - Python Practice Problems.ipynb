{
 "cells": [
  {
   "cell_type": "markdown",
   "metadata": {},
   "source": [
    "Self-Assessment Exercise 1:"
   ]
  },
  {
   "cell_type": "markdown",
   "metadata": {},
   "source": []
  },
  {
   "cell_type": "markdown",
   "metadata": {},
   "source": [
    "a) Write code in a single cell that adds three numbers (of your choice) together. Use variables to\n",
    "store the values in your program and consider the following rule that you cannot add more\n",
    "than two numbers in a single line i.e. a+b+c is not allowed while a+b is fine"
   ]
  },
  {
   "cell_type": "code",
   "execution_count": 2,
   "metadata": {},
   "outputs": [
    {
     "name": "stdout",
     "output_type": "stream",
     "text": [
      "6\n"
     ]
    }
   ],
   "source": [
    "num1 = int(input(\"Pleasse enter num1: \"))\n",
    "num2 = int(input(\"Pleasse enter num2: \"))\n",
    "num3 = int(input(\"Pleasse enter num3: \"))\n",
    "\n",
    "num1, num2 = num1 + num2, num3\n",
    "finalNumber = num1 + num2\n",
    "print(finalNumber)"
   ]
  },
  {
   "cell_type": "markdown",
   "metadata": {},
   "source": [
    "b) Write a program convert.py that converts the temperature from Celsius to Fahrenheit and\n",
    "displays the result to the screen. Conversion Formula: (9/5) * Celsius + 32"
   ]
  },
  {
   "cell_type": "code",
   "execution_count": 3,
   "metadata": {},
   "outputs": [],
   "source": [
    "tempInCelcius = float(input(\"Please Enter the temperature in Celcius: \"))"
   ]
  },
  {
   "cell_type": "code",
   "execution_count": 4,
   "metadata": {},
   "outputs": [],
   "source": [
    "def celToFarenheit (cel):\n",
    "    return (cel * 9/5) + 32"
   ]
  },
  {
   "cell_type": "code",
   "execution_count": 5,
   "metadata": {},
   "outputs": [
    {
     "name": "stdout",
     "output_type": "stream",
     "text": [
      "103.1\n"
     ]
    }
   ],
   "source": [
    "print(celToFarenheit(tempInCelcius))"
   ]
  },
  {
   "cell_type": "markdown",
   "metadata": {},
   "source": [
    "c) Mr. Ali has provided you with the electricity bills for past three months. The bills for the last three\n",
    "months have been Rs. 8925, Rs. 7645 and Rs. 6280. Write a program that computes average\n",
    "monthly electricity bill over the three-month period. Using variables write an appropriate\n",
    "expression to calculate the average and display the result"
   ]
  },
  {
   "cell_type": "code",
   "execution_count": 6,
   "metadata": {},
   "outputs": [
    {
     "name": "stdout",
     "output_type": "stream",
     "text": [
      "Everage Monthly bill is:  7616.666666666667\n"
     ]
    }
   ],
   "source": [
    "listOfBills = [8925, 7645, 6280]\n",
    "\n",
    "def calculateAverage (list):\n",
    "    totalBill = 0\n",
    "    for x in list:\n",
    "        totalBill = totalBill + x\n",
    "    \n",
    "    return totalBill / len(list)\n",
    "\n",
    "print(\"Everage Monthly bill is: \", calculateAverage(listOfBills))"
   ]
  },
  {
   "cell_type": "markdown",
   "metadata": {},
   "source": []
  },
  {
   "cell_type": "markdown",
   "metadata": {},
   "source": [
    "Self-Assessment Exercise 2:"
   ]
  },
  {
   "cell_type": "markdown",
   "metadata": {},
   "source": [
    "a) Write code for a program in a new cell that prompts the user to input two values. It then assigns\n",
    "those values to two variables and then swaps their values. Int the end, print the swapped values\n",
    "to verify the results of your program"
   ]
  },
  {
   "cell_type": "code",
   "execution_count": 11,
   "metadata": {},
   "outputs": [
    {
     "name": "stdout",
     "output_type": "stream",
     "text": [
      "Var one is '5', and var two is '8'\n",
      "After swapping, Var one is '8', and var two is '5'\n"
     ]
    }
   ],
   "source": [
    "var1 = int(input(\"Please enter value 1: \"))\n",
    "var2 = int(input(\"Please enter value 2: \"))\n",
    "\n",
    "print(\"Var one is '{}', and var two is '{}'\".format(var1, var2))\n",
    "\n",
    "var1, var2 = var2, var1\n",
    "\n",
    "print(\"After swapping, Var one is '{}', and var two is '{}'\".format(var1, var2))"
   ]
  },
  {
   "cell_type": "markdown",
   "metadata": {},
   "source": [
    "b) Write a program that calculates the square and cube of the numbers from 0 to 10 and uses tabs\n",
    "to print the following table of values"
   ]
  },
  {
   "cell_type": "code",
   "execution_count": 15,
   "metadata": {},
   "outputs": [
    {
     "name": "stdout",
     "output_type": "stream",
     "text": [
      "number \t squre \t quabe\n",
      "0 \t 0 \t 0\n",
      "1 \t 1 \t 1\n",
      "2 \t 4 \t 8\n",
      "3 \t 9 \t 27\n",
      "4 \t 16 \t 64\n",
      "5 \t 25 \t 125\n",
      "6 \t 36 \t 216\n",
      "7 \t 49 \t 343\n",
      "8 \t 64 \t 512\n",
      "9 \t 81 \t 729\n",
      "10 \t 100 \t 1000\n"
     ]
    }
   ],
   "source": [
    "print('number \\t squre \\t quabe')\n",
    "for x in range(0,11):\n",
    "    print('{} \\t {} \\t {}'.format(x, x**2, x**3))"
   ]
  },
  {
   "cell_type": "markdown",
   "metadata": {},
   "source": [
    "c) Write a program that reads in the radius of a circle and prints the circle’s diameter, circumference,\n",
    "and area. Use the constant value 3.14159 for π(pi). Perform each of these calculations inside the\n",
    "print statement(s)"
   ]
  },
  {
   "cell_type": "code",
   "execution_count": 20,
   "metadata": {},
   "outputs": [
    {
     "name": "stdout",
     "output_type": "stream",
     "text": [
      "Radius of the circle is: 45.0 \n",
      " Area of the circle is: 6361.71975 \n",
      " Circumference of the circle is: 282.74309999999997 \n",
      " Diameter of the circle is: 90.0\n"
     ]
    }
   ],
   "source": [
    "pi = 3.14159\n",
    "radius = float(input(\"Please enter the radius of the circle: \"))\n",
    "print(\"Radius of the circle is: {} \\n Area of the circle is: {} \\n Circumference of the circle is: {} \\n Diameter of the circle is: {}\".format(radius, pi * (radius**2), 2 * pi * radius, 2 * radius))\n"
   ]
  },
  {
   "cell_type": "markdown",
   "metadata": {},
   "source": [
    "d) Write a program that reads in the year entered by a user and displays if the year entered is a leap\n",
    "year or not. A year divisible by 4 is a leap year but if it is divisible by 100 then it is not a leap year\n",
    "unless it is divisible by 400 in which case it is a leap year"
   ]
  },
  {
   "cell_type": "code",
   "execution_count": 23,
   "metadata": {},
   "outputs": [
    {
     "name": "stdout",
     "output_type": "stream",
     "text": [
      "It is a leap year\n"
     ]
    }
   ],
   "source": [
    "year = int(input(\"Please enter the year: \"))\n",
    "\n",
    "if (year % 4 == 0 or year % 400 == 0) and ~(year % 100 == 0):\n",
    "    print(\"It is a leap year\")\n",
    "else:\n",
    "    print(\"It is not a leap year\")\n"
   ]
  },
  {
   "cell_type": "markdown",
   "metadata": {},
   "source": [
    "e) A school has following rules for grading system:\n",
    "i. Below 25 - F\n",
    "ii. 25 to 45 - E\n",
    "iii. 45 to 50 - D\n",
    "iv. 50 to 60 - C\n",
    "v. 60 to 80 - B\n",
    "vi. Above 80 - A\n",
    "Ask user to enter marks and print the corresponding grade"
   ]
  },
  {
   "cell_type": "code",
   "execution_count": 28,
   "metadata": {},
   "outputs": [
    {
     "name": "stdout",
     "output_type": "stream",
     "text": [
      "Your grade is 'B'\n"
     ]
    }
   ],
   "source": [
    "marks = float(input(\"Please enter the marks: \"))\n",
    "\n",
    "grade = None\n",
    "\n",
    "if marks > 80:\n",
    "    grade = 'A'\n",
    "elif marks >= 61 and marks <= 80:\n",
    "    grade = 'B'\n",
    "elif marks >= 51 and marks <=60:\n",
    "    grade = 'C'\n",
    "elif marks >= 46 and marks <= 50:\n",
    "    grade = 'D'\n",
    "elif marks >= 25 and marks <= 45:\n",
    "    grade = 'E'\n",
    "else:\n",
    "    grade = 'F'\n",
    "\n",
    "print(\"Your grade is '{}'\".format(grade)) \n",
    "    "
   ]
  },
  {
   "cell_type": "markdown",
   "metadata": {},
   "source": []
  },
  {
   "cell_type": "markdown",
   "metadata": {},
   "source": [
    " Self-Assessment Exercise 3:"
   ]
  },
  {
   "cell_type": "markdown",
   "metadata": {},
   "source": [
    "a) Write a program that reads three nonzero integers and determines and prints if they could be\n",
    "the sides of a right triangle"
   ]
  },
  {
   "cell_type": "code",
   "execution_count": 39,
   "metadata": {},
   "outputs": [
    {
     "name": "stdout",
     "output_type": "stream",
     "text": [
      "5.0 3.0 4.0\n",
      "It is a right triangle\n"
     ]
    }
   ],
   "source": [
    "sides = []\n",
    "\n",
    "for i in range(1,4):\n",
    "    side = float(input(\"Please enter the side {} value: \".format(i)))\n",
    "    sides.append(side)\n",
    "\n",
    "maxSide = max(sides)\n",
    "\n",
    "sides.remove(maxSide)\n",
    "\n",
    "side1, side2 = sides[0], sides[1]\n",
    "\n",
    "print(maxSide, side1, side2)\n",
    "\n",
    "if maxSide ** 2 == ( side1 ** 2 + side2 ** 2):\n",
    "    print(\"It is a right triangle\")\n",
    "else:\n",
    "    print(\"It is not a right triangle\")\n"
   ]
  },
  {
   "cell_type": "markdown",
   "metadata": {},
   "source": [
    "b) A palindrome is a number or a text phrase that reads the same backwards as forwards. For\n",
    "example, each of the following five-digit integers are palindromes: 12321, 55555, 45554 and\n",
    "11611. Write code that reads in a five-digit integer and determines whether it is a palindrome"
   ]
  },
  {
   "cell_type": "code",
   "execution_count": 50,
   "metadata": {},
   "outputs": [
    {
     "name": "stdout",
     "output_type": "stream",
     "text": [
      "It is not a palindrome\n",
      "None\n"
     ]
    }
   ],
   "source": [
    "def checkPalindrome (number):\n",
    "    if number[::1] != number[::-1]:\n",
    "        print(\"It is not a palindrome\")\n",
    "    else:\n",
    "        print(\"It is a palindrome\")\n",
    "\n",
    "number = list(input(\"Please enter 5 digit number: \"))\n",
    "print(checkPalindrome(number))"
   ]
  },
  {
   "cell_type": "markdown",
   "metadata": {},
   "source": [
    "c) Write code that takes a natural number as input from the user and then calculates the sum of\n",
    "all numbers from 1 to that natural number."
   ]
  },
  {
   "cell_type": "code",
   "execution_count": 68,
   "metadata": {},
   "outputs": [
    {
     "name": "stdout",
     "output_type": "stream",
     "text": [
      "15\n"
     ]
    }
   ],
   "source": [
    "naturalNumber = (input(\"Please enter the natural number: \"))\n",
    "\n",
    "sum = 0\n",
    "\n",
    "for i in naturalNumber:\n",
    "    sum = sum + int(i)\n",
    "\n",
    "print(sum)"
   ]
  },
  {
   "cell_type": "markdown",
   "metadata": {},
   "source": [
    "d) Write code that takes a natural number as input from the user and then calculates the factorial\n",
    "of that number. For example, to find factorial of 7 you need to do 7x6x5x4x3x2x1."
   ]
  },
  {
   "cell_type": "code",
   "execution_count": 72,
   "metadata": {},
   "outputs": [],
   "source": [
    "factorial = 0\n",
    "\n",
    "def findFact (naturalNumber):\n",
    "    if naturalNumber == 1:\n",
    "        return naturalNumber\n",
    "    else:\n",
    "        return naturalNumber * findFact(naturalNumber - 1)"
   ]
  },
  {
   "cell_type": "code",
   "execution_count": 75,
   "metadata": {},
   "outputs": [
    {
     "name": "stdout",
     "output_type": "stream",
     "text": [
      "Factorial is: 6\n"
     ]
    }
   ],
   "source": [
    "naturalNumber = int(input(\"Please enter the natural number: \"))\n",
    "print(\"Factorial is: {}\".format(findFact(naturalNumber)))"
   ]
  },
  {
   "cell_type": "markdown",
   "metadata": {},
   "source": [
    "e) Write code that reverses a number entered by a user"
   ]
  },
  {
   "cell_type": "code",
   "execution_count": 76,
   "metadata": {},
   "outputs": [
    {
     "name": "stdout",
     "output_type": "stream",
     "text": [
      "987654321\n"
     ]
    }
   ],
   "source": [
    "number = input(\"Please enter the natural number: \")\n",
    "print(number[::-1])"
   ]
  },
  {
   "cell_type": "markdown",
   "metadata": {},
   "source": [
    "f) Write code that takes an integer input from the user which is the number of terms. The program\n",
    "then displays the Fibonacci series up to the number of terms entered by the user. The Fibonacci\n",
    "series is 0,1,1,2,3,5,8,13,21, 34……. The next term in Fibonacci series is given by the sum of the\n",
    "previous two terms."
   ]
  },
  {
   "cell_type": "code",
   "execution_count": 2,
   "metadata": {},
   "outputs": [
    {
     "name": "stdout",
     "output_type": "stream",
     "text": [
      "[0, 1, 2]\n"
     ]
    }
   ],
   "source": [
    "def fibonacciSeries (number):\n",
    "    list = []\n",
    "    for x in range (number + 1):\n",
    "        list.append(x)\n",
    "\n",
    "    print(list)  \n",
    "\n",
    "    previous = 0\n",
    "    next = 1\n",
    "    destination = 2\n",
    "\n",
    "    for i in list:\n",
    "        list.insert(destination, list[previous] + list[next])\n",
    "        previous = previous + 1\n",
    "        next = next + 1\n",
    "        destination = destination + 1\n",
    "        \n",
    "\n",
    "    \n",
    "    print(list)\n",
    "        \n",
    "number = int(input(\"Please enter the natural number: \"))\n",
    "print(fibonacciSeries(number))"
   ]
  },
  {
   "cell_type": "markdown",
   "metadata": {},
   "source": [
    "g) Write code that takes a binary number as input and displays the decimal equivalent of that\n",
    "binary number. To convert a binary number to decimal we do the following: For example, 1011\n",
    "can be converted by finding 1×2^0+1×2^1+0×2^2+1×2^3=11."
   ]
  },
  {
   "cell_type": "code",
   "execution_count": 16,
   "metadata": {},
   "outputs": [
    {
     "name": "stdout",
     "output_type": "stream",
     "text": [
      "Binary number is: 10111101011, and its decimal number is: 1515\n"
     ]
    }
   ],
   "source": [
    "def binaryToDecimal (number):\n",
    "    decimal = 0\n",
    "    j = len(number) - 1\n",
    "    for i in number:\n",
    "        decimal = decimal + (int(i) * (2 ** j))\n",
    "        j = j - 1\n",
    "    return decimal\n",
    "\n",
    "\n",
    "binaryNumber = input(\"Please enter the number in binary format: \")\n",
    "print(\"Binary number is: {}, and its decimal number is: {}\".format(binaryNumber, binaryToDecimal(binaryNumber)))\n"
   ]
  },
  {
   "cell_type": "markdown",
   "metadata": {},
   "source": [
    "Self-Assessment Exercise 4"
   ]
  },
  {
   "cell_type": "markdown",
   "metadata": {},
   "source": [
    "a) Write a program that takes a string as input and displays the number of characters in that string.\n",
    "Do not use “len” function for this task"
   ]
  },
  {
   "cell_type": "code",
   "execution_count": 18,
   "metadata": {},
   "outputs": [
    {
     "name": "stdout",
     "output_type": "stream",
     "text": [
      "10\n"
     ]
    }
   ],
   "source": [
    "string = input(\"Please enter the string: \")\n",
    "noOfCharacters = 0\n",
    "\n",
    "for characters in string:\n",
    "    noOfCharacters = noOfCharacters + 1\n",
    "\n",
    "print(noOfCharacters)"
   ]
  },
  {
   "cell_type": "markdown",
   "metadata": {},
   "source": [
    "b) Write a program that takes a sentence as input from the user and saves it as a string. It then asks\n",
    "the user to enter an alphabet to be removed and then removes all instances of that alphabet\n",
    "from the entered sentence and displays the result"
   ]
  },
  {
   "cell_type": "code",
   "execution_count": 51,
   "metadata": {},
   "outputs": [
    {
     "name": "stdout",
     "output_type": "stream",
     "text": [
      "Your entered string is, my name is khan and a a\n",
      "Your entered alphabet is, a\n",
      "my nme is khn nd  \n"
     ]
    }
   ],
   "source": [
    "sentence = input(\"Please enter the sentence: \")\n",
    "print(\"Your entered string is, {}\".format(sentence))\n",
    "alphabet = input(\"Please enter the alphabet to be removed: \")\n",
    "print(\"Your entered alphabet is, {}\".format(alphabet))\n",
    "\n",
    "newSentence = ''\n",
    "\n",
    "for i in sentence:\n",
    "    if i == alphabet or i == '':\n",
    "        continue\n",
    "    else:\n",
    "        newSentence = newSentence + i\n",
    "\n",
    "print(newSentence)"
   ]
  },
  {
   "cell_type": "markdown",
   "metadata": {},
   "source": [
    "c) Write a program that takes a sentence as input and saves it as a string. It then finds the character\n",
    "that occurs the maximum number of times in that sentence and displays that character and the\n",
    "number of times it occurs. Do not consider a space as a character."
   ]
  },
  {
   "cell_type": "code",
   "execution_count": 61,
   "metadata": {},
   "outputs": [
    {
     "name": "stdout",
     "output_type": "stream",
     "text": [
      "Your entered string is, hell\n",
      "[['h', 1], ['e', 1], ['l', 1], ['l', 1]]\n"
     ]
    }
   ],
   "source": [
    "sentence = input(\"Please enter the sentence: \")\n",
    "print(\"Your entered string is, {}\".format(sentence))\n",
    "\n",
    "# sentence = sentence.lower()\n",
    "newSentence = []\n",
    "\n",
    "for x in sentence:\n",
    "    \n",
    "    if x in newSentence:\n",
    "\n",
    "\n",
    "    else:\n",
    "        newSentence.append([x, 1])\n",
    "\n",
    "\n",
    "print(newSentence)\n"
   ]
  },
  {
   "cell_type": "markdown",
   "metadata": {},
   "source": [
    "d) Write a program that takes a list of 20 positive integers as input and removes all the even\n",
    "numbers from the list and then displays the result. You should take the input in a list"
   ]
  },
  {
   "cell_type": "code",
   "execution_count": 69,
   "metadata": {},
   "outputs": [
    {
     "name": "stdout",
     "output_type": "stream",
     "text": [
      "[45, 34, 34264, 45, 65, 235, 14, 65, 57, 865, 645, 352, 643, 13, 46, 75, 75, 46, 53, 47]\n",
      "[45, 34264, 45, 65, 235, 65, 57, 865, 645, 643, 13, 75, 75, 53, 47]\n"
     ]
    }
   ],
   "source": [
    "list = []\n",
    "for x in range(20):\n",
    "    number = int(input(\"Please enter the number: \"))\n",
    "    list.append(number)\n",
    "\n",
    "print(list)\n",
    "\n",
    "for i in list:\n",
    "    if (i % 2) == 0:\n",
    "        list.remove(i)\n",
    "\n",
    "print(list)"
   ]
  },
  {
   "cell_type": "markdown",
   "metadata": {},
   "source": [
    "e) Write a python program that takes a list of positive integers as input from the user. The\n",
    "program should find the largest and smallest number in the list and display them. You can only\n",
    "use those inbuilt functions that have been taught in the class or given in this lab manual"
   ]
  },
  {
   "cell_type": "code",
   "execution_count": 76,
   "metadata": {},
   "outputs": [
    {
     "name": "stdout",
     "output_type": "stream",
     "text": [
      "[43, 65, 65, 42, 56, 24, 6, 90, 13, 54]\n",
      "min is: 6, and max is: 90\n"
     ]
    }
   ],
   "source": [
    "list = []\n",
    "for x in range(10):\n",
    "    number = int(input(\"Please enter the number: \"))\n",
    "    list.append(number)\n",
    "\n",
    "print(list)\n",
    "\n",
    "print('min is: {}, and max is: {}'.format(min(list), max(list)))"
   ]
  },
  {
   "cell_type": "markdown",
   "metadata": {},
   "source": [
    "f) Write a python program that takes a list of integers as input and removes the duplicate\n",
    "elements in that list and then displays the modified list"
   ]
  },
  {
   "cell_type": "code",
   "execution_count": 77,
   "metadata": {},
   "outputs": [
    {
     "name": "stdout",
     "output_type": "stream",
     "text": [
      "[34, 34, 34, 56, 78, 12, 45, 90, 45, 32]\n",
      "[34, 56, 78, 12, 45, 90, 32]\n"
     ]
    }
   ],
   "source": [
    "list = []\n",
    "for x in range(10):\n",
    "    number = int(input(\"Please enter the number: \"))\n",
    "    list.append(number)\n",
    "\n",
    "print(list)\n",
    "\n",
    "list2 = []\n",
    "\n",
    "for i in list:\n",
    "    if i in list2:\n",
    "        continue\n",
    "    else:\n",
    "        list2.append(i)\n",
    "\n",
    "print(list2)"
   ]
  },
  {
   "cell_type": "markdown",
   "metadata": {},
   "source": [
    "g) Write a python program that takes two lists as input from the user and displays the common\n",
    "elements of those lists."
   ]
  },
  {
   "cell_type": "code",
   "execution_count": 81,
   "metadata": {},
   "outputs": [
    {
     "name": "stdout",
     "output_type": "stream",
     "text": [
      "list1:  [12, 23, 34, 45, 66]\n",
      "list2:  [12, 23, 34, 54, 32]\n",
      "list3:  [12, 23, 34]\n"
     ]
    }
   ],
   "source": [
    "list1 = []\n",
    "for x in range(5):\n",
    "    number = int(input(\"Please enter the number: \"))\n",
    "    list1.append(number)\n",
    "\n",
    "list2 = []\n",
    "for x in range(5):\n",
    "    number = int(input(\"Please enter the number: \"))\n",
    "    list2.append(number)\n",
    "\n",
    "list3 = []\n",
    "print('list1: ',list1)\n",
    "print('list2: ',list2)\n",
    "\n",
    "for i in list1:\n",
    "    if i in list2:\n",
    "        list3.append(i)\n",
    "\n",
    "print('list3: ',list3)"
   ]
  },
  {
   "cell_type": "markdown",
   "metadata": {},
   "source": [
    "h) Write a python program that takes a list of integers as input and then sorts it in ascending order\n",
    "and displays the sorted list. Do not use inbuilt sort and sorted methods for lists"
   ]
  },
  {
   "cell_type": "code",
   "execution_count": null,
   "metadata": {},
   "outputs": [],
   "source": []
  },
  {
   "cell_type": "markdown",
   "metadata": {},
   "source": [
    "i) Write a python program that takes a paragraph in English as input and finds and displays the\n",
    "word with the largest number of characters"
   ]
  },
  {
   "cell_type": "code",
   "execution_count": 88,
   "metadata": {},
   "outputs": [
    {
     "name": "stdout",
     "output_type": "stream",
     "text": [
      "['my', 'name', 'is', 'khan', 'and', 'not', 'adistinguish']\n",
      "Max length is:  12\n"
     ]
    }
   ],
   "source": [
    "sentence = input(\"Please enter the sentence: \")\n",
    "\n",
    "list = sentence.split()\n",
    "\n",
    "print(list)\n",
    "\n",
    "maxLengthIndex = []\n",
    "\n",
    "for i in list:\n",
    "    maxLengthIndex.append(len(i))\n",
    "\n",
    "print('Max length is: ', max(maxLengthIndex))\n",
    "    \n",
    "\n"
   ]
  },
  {
   "cell_type": "markdown",
   "metadata": {},
   "source": []
  },
  {
   "cell_type": "markdown",
   "metadata": {},
   "source": [
    "Self-Assessment Exercise 5"
   ]
  },
  {
   "cell_type": "markdown",
   "metadata": {},
   "source": [
    "a) Write a function that takes a string as input and returns the number of words in that string. Check\n",
    "if your function works correctly by calling it for some suitable inputs."
   ]
  },
  {
   "cell_type": "code",
   "execution_count": 131,
   "metadata": {},
   "outputs": [
    {
     "name": "stdout",
     "output_type": "stream",
     "text": [
      "Your string is:  my name is khan\n",
      "Total number in this string is 12\n"
     ]
    }
   ],
   "source": [
    "def numberCounter (string):\n",
    "    count = 0\n",
    "    for i in string:\n",
    "        if i != ' ':\n",
    "            count = count + 1\n",
    "            \n",
    "    return count\n",
    "\n",
    "sentence = input(\"Please enter the sentence: \")\n",
    "\n",
    "print(\"Your string is: \", sentence)\n",
    "\n",
    "print(\"Total number in this string is\", numberCounter(sentence))\n"
   ]
  },
  {
   "cell_type": "markdown",
   "metadata": {},
   "source": [
    "b) Write a function that takes a number as input and returns the prime number that is closest to\n",
    "the input number. Check if your function works correctly by calling it for some suitable inputs"
   ]
  },
  {
   "cell_type": "code",
   "execution_count": 138,
   "metadata": {},
   "outputs": [
    {
     "name": "stdout",
     "output_type": "stream",
     "text": [
      "8888867 Is a closest Prime number\n"
     ]
    }
   ],
   "source": [
    "def closestPrimeNumber (number):\n",
    "    if number == 1:\n",
    "        returnStatement = \"Its a Prime number\"\n",
    "    else:\n",
    "        for i in range(number, 2, -1):\n",
    "            if number % i != 0:\n",
    "                continue\n",
    "\n",
    "\n",
    "number = int(input(\"Please enter the number: \"))\n",
    "print(closestPrimeNumber(number))\n"
   ]
  },
  {
   "cell_type": "markdown",
   "metadata": {},
   "source": [
    " Mini Project: Tic-Tac-Toe Game with AI Player"
   ]
  },
  {
   "cell_type": "code",
   "execution_count": 126,
   "metadata": {},
   "outputs": [
    {
     "name": "stdout",
     "output_type": "stream",
     "text": [
      "Game box is there\n",
      "['', '', '']\n",
      "['', '', '']\n",
      "['', '', '']\n",
      "Your choice is: 12\n",
      "Result after your move is\n",
      "['', '', '']\n",
      "['', '', '']\n",
      "['', '', 'X']\n",
      "Result after your move AI player is\n",
      "Your choice is: 12\n",
      "Result after your move is\n",
      "['', '', '']\n",
      "['', '', '']\n",
      "['', '', 'X']\n",
      "Result after your move AI player is\n",
      "Your choice is: 12\n",
      "Result after your move is\n",
      "['', '', '']\n",
      "['', '', '']\n",
      "['', '', 'X']\n",
      "Result after your move AI player is\n",
      "Your choice is: 21\n",
      "Result after your move is\n",
      "['', '', '']\n",
      "['', '', '']\n",
      "['', 'X', 'X']\n",
      "Result after your move AI player is\n",
      "Your choice is: 01\n",
      "Result after your move is\n",
      "['', '', '']\n",
      "['', '', '']\n",
      "['', 'X', 'X']\n",
      "Result after your move AI player is\n",
      "Your choice is: 21\n",
      "Result after your move is\n",
      "['', '', '']\n",
      "['', '', '']\n",
      "['', 'X', 'X']\n",
      "Result after your move AI player is\n",
      "Your choice is: 21\n",
      "Result after your move is\n",
      "['', '', '']\n",
      "['', '', '']\n",
      "['', 'X', 'X']\n",
      "Result after your move AI player is\n",
      "Your choice is: 21\n",
      "Result after your move is\n",
      "['', '', '']\n",
      "['', '', '']\n",
      "['', 'X', 'X']\n",
      "Result after your move AI player is\n",
      "Your choice is: 21\n",
      "Result after your move is\n",
      "['', '', '']\n",
      "['', '', '']\n",
      "['', 'X', 'X']\n",
      "Result after your move AI player is\n",
      "Your choice is: 21\n",
      "Result after your move is\n",
      "['', '', '']\n",
      "['', '', '']\n",
      "['', 'X', 'X']\n",
      "Result after your move AI player is\n",
      "Your choice is: 21\n",
      "Result after your move is\n",
      "['', '', '']\n",
      "['', '', '']\n",
      "['', 'X', 'X']\n",
      "Result after your move AI player is\n",
      "Your choice is: 21\n",
      "Result after your move is\n",
      "['', '', '']\n",
      "['', '', '']\n",
      "['', 'X', 'X']\n",
      "Result after your move AI player is\n",
      "Your choice is: 21\n",
      "Result after your move is\n",
      "['', '', '']\n",
      "['', '', '']\n",
      "['', 'X', 'X']\n",
      "Result after your move AI player is\n",
      "Your choice is: 21\n",
      "Result after your move is\n",
      "['', '', '']\n",
      "['', '', '']\n",
      "['', 'X', 'X']\n",
      "Result after your move AI player is\n",
      "Your choice is: 21\n",
      "Result after your move is\n",
      "['', '', '']\n",
      "['', '', '']\n",
      "['', 'X', 'X']\n",
      "Result after your move AI player is\n",
      "Your choice is: \n"
     ]
    },
    {
     "ename": "IndexError",
     "evalue": "string index out of range",
     "output_type": "error",
     "traceback": [
      "\u001b[1;31m---------------------------------------------------------------------------\u001b[0m",
      "\u001b[1;31mIndexError\u001b[0m                                Traceback (most recent call last)",
      "\u001b[1;32mc:\\Users\\Jonathan\\Desktop\\DNN Bootcamp\\Labs\\lab1.ipynb Cell 61\u001b[0m line \u001b[0;36m3\n\u001b[0;32m     <a href='vscode-notebook-cell:/c%3A/Users/Jonathan/Desktop/DNN%20Bootcamp/Labs/lab1.ipynb#Y115sZmlsZQ%3D%3D?line=28'>29</a>\u001b[0m userInput \u001b[39m=\u001b[39m \u001b[39minput\u001b[39m(\u001b[39m\"\u001b[39m\u001b[39mEnter you box number (first rown then column number, 12 eg.): \u001b[39m\u001b[39m\"\u001b[39m)\n\u001b[0;32m     <a href='vscode-notebook-cell:/c%3A/Users/Jonathan/Desktop/DNN%20Bootcamp/Labs/lab1.ipynb#Y115sZmlsZQ%3D%3D?line=29'>30</a>\u001b[0m \u001b[39mprint\u001b[39m(\u001b[39m\"\u001b[39m\u001b[39mYour choice is: \u001b[39m\u001b[39m{}\u001b[39;00m\u001b[39m\"\u001b[39m\u001b[39m.\u001b[39mformat(userInput))\n\u001b[1;32m---> <a href='vscode-notebook-cell:/c%3A/Users/Jonathan/Desktop/DNN%20Bootcamp/Labs/lab1.ipynb#Y115sZmlsZQ%3D%3D?line=31'>32</a>\u001b[0m \u001b[39mif\u001b[39;00m \u001b[39mint\u001b[39m(userInput[\u001b[39m0\u001b[39;49m]) \u001b[39m==\u001b[39m \u001b[39m1\u001b[39m:\n\u001b[0;32m     <a href='vscode-notebook-cell:/c%3A/Users/Jonathan/Desktop/DNN%20Bootcamp/Labs/lab1.ipynb#Y115sZmlsZQ%3D%3D?line=32'>33</a>\u001b[0m     \u001b[39mif\u001b[39;00m \u001b[39mlen\u001b[39m(box1[\u001b[39mint\u001b[39m(userInput[\u001b[39m1\u001b[39m])]) \u001b[39m>\u001b[39m \u001b[39m0\u001b[39m:\n\u001b[0;32m     <a href='vscode-notebook-cell:/c%3A/Users/Jonathan/Desktop/DNN%20Bootcamp/Labs/lab1.ipynb#Y115sZmlsZQ%3D%3D?line=33'>34</a>\u001b[0m         \u001b[39mprint\u001b[39m(\u001b[39m\"\u001b[39m\u001b[39mIt already exists: please select another one\u001b[39m\u001b[39m\"\u001b[39m)\n",
      "\u001b[1;31mIndexError\u001b[0m: string index out of range"
     ]
    }
   ],
   "source": [
    "\n",
    "import numpy as np\n",
    "# print(\"Welcome to the Mini Project: Tic-Tac-Toe Game with AI Player\")\n",
    "# print(\"Kinldy select on of the following option: \")\n",
    "\n",
    "# print(\"To play the game, press 1: \")\n",
    "# print(\"To exit the game, press 2: \")\n",
    "\n",
    "# userInput = int(input(\"Please enter your choice: \"))\n",
    "\n",
    "# if userInput == 1:\n",
    "    # userName = input(\"Please enter you name: \")\n",
    "    # print(\"Your name is {}, and AI player name is {}\".format(userName, 'John'))\n",
    "\n",
    "# square = np.empty((3, 3))\n",
    "\n",
    "box1 = ['', '', '']\n",
    "box2 = ['', '', '']\n",
    "box3 = ['', '', '']\n",
    "\n",
    "print(\"Game box is there\")\n",
    "\n",
    "print(box1)\n",
    "print(box2)\n",
    "print(box3)\n",
    "\n",
    "a = 0\n",
    "\n",
    "while a == 0:\n",
    "    userInput = input(\"Enter you box number (first rown then column number, 12 eg.): \")\n",
    "    print(\"Your choice is: {}\".format(userInput))\n",
    "\n",
    "    if int(userInput[0]) == 1:\n",
    "        if len(box1[int(userInput[1])]) > 0:\n",
    "            print(\"It already exists: please select another one\")\n",
    "        else:\n",
    "            box3[int(userInput[1])] = 'X'\n",
    "\n",
    "    elif int(userInput[0]) == 2:\n",
    "        if len(box2[int(userInput[1])]) > 0:\n",
    "            print(\"It already exists: please select another one\")\n",
    "        else:\n",
    "            box3[int(userInput[1])] = 'X'\n",
    "    \n",
    "    elif int(userInput[0]) == 3:\n",
    "        if len(box3[int(userInput[1])]) > 0:\n",
    "            print(\"It already exists: please select another one\")\n",
    "        else:\n",
    "            box3[int(userInput[1])] = 'X'\n",
    "    else:\n",
    "        pass\n",
    "\n",
    "    print(\"Result after your move is\")\n",
    "\n",
    "    print(box1)\n",
    "    print(box2)\n",
    "    print(box3)\n",
    "\n",
    "    print(\"Result after your move AI player is\")\n",
    "\n",
    "# else:\n",
    "#     print(\"Wrong input. Please re enter your choice: \")"
   ]
  },
  {
   "cell_type": "markdown",
   "metadata": {},
   "source": [
    "print(f\"          {myGameBoard[0]}           |         {myGameBoard[1]}            |    {myGameBoard[2]}\")\n",
    "    print(\"                      |                      |                      \")\n",
    "    print(\"----------------------|----------------------|----------------------\")\n",
    "    print(f\"          {myGameBoard[3]}           |         {myGameBoard[4]}            |    {myGameBoard[5]}\")\n",
    "    print(\"                      |                      |                      \")\n",
    "    print(\"----------------------|----------------------|----------------------\")\n",
    "    print(f\"          {myGameBoard[6]}           |         {myGameBoard[7]}            |    {myGameBoard[8]}\")\n",
    "    print(\"                      |                      |                      \")"
   ]
  },
  {
   "cell_type": "code",
   "execution_count": 6,
   "metadata": {},
   "outputs": [
    {
     "name": "stdout",
     "output_type": "stream",
     "text": [
      "  |   |  \n",
      "--|---|--\n",
      "  |   |  \n",
      "--|---|--\n",
      "  |   |  \n",
      "\n"
     ]
    },
    {
     "name": "stdout",
     "output_type": "stream",
     "text": [
      "  |   |  \n",
      "--|---|--\n",
      "  |   |  \n",
      "--|---|--\n",
      "  |   | X\n",
      "\n",
      "  |   |  \n",
      "--|---|--\n",
      "  | O |  \n",
      "--|---|--\n",
      "  |   | X\n",
      "\n",
      "  |   |  \n",
      "--|---|--\n",
      "  | O |  \n",
      "--|---|--\n",
      "  | X | X\n",
      "\n",
      "  |   |  \n",
      "--|---|--\n",
      "  | O |  \n",
      "--|---|--\n",
      "O | X | X\n",
      "\n",
      "  |   | X\n",
      "--|---|--\n",
      "  | O |  \n",
      "--|---|--\n",
      "O | X | X\n",
      "\n",
      "  |   | X\n",
      "--|---|--\n",
      "  | O | O\n",
      "--|---|--\n",
      "O | X | X\n",
      "\n",
      "Invalid move. Try again.\n",
      "Invalid move. Try again.\n",
      "  | X | X\n",
      "--|---|--\n",
      "  | O | O\n",
      "--|---|--\n",
      "O | X | X\n",
      "\n",
      "  | X | X\n",
      "--|---|--\n",
      "O | O | O\n",
      "--|---|--\n",
      "O | X | X\n",
      "\n",
      "Computer wins!\n"
     ]
    }
   ],
   "source": [
    "import random\n",
    "\n",
    "# Initialize the Tic-Tac-Toe board\n",
    "board = [' ' for _ in range(9)]\n",
    "\n",
    "# Function to print the Tic-Tac-Toe board\n",
    "def print_board():\n",
    "    print(f\"{board[0]} | {board[1]} | {board[2]}\")\n",
    "    print(\"--|---|--\")\n",
    "    print(f\"{board[3]} | {board[4]} | {board[5]}\")\n",
    "    print(\"--|---|--\")\n",
    "    print(f\"{board[6]} | {board[7]} | {board[8]}\")\n",
    "    print('')\n",
    "\n",
    "# Function to check if the board is full (a tie)\n",
    "def is_board_full(board):\n",
    "    return ' ' not in board\n",
    "\n",
    "# Function to check if a player has won\n",
    "def check_win(board, player):\n",
    "    win_conditions = [(0, 1, 2), (3, 4, 5), (6, 7, 8), (0, 3, 6), (1, 4, 7), (2, 5, 8), (0, 4, 8), (2, 4, 6)]\n",
    "    for condition in win_conditions:\n",
    "        if board[condition[0]] == board[condition[1]] == board[condition[2]] == player:\n",
    "            return True\n",
    "    return False\n",
    "\n",
    "# Function to make a player's move\n",
    "def make_move(board, position, player):\n",
    "    if board[position] == ' ':\n",
    "        board[position] = player\n",
    "\n",
    "# Minimax Algorithm for the computer player\n",
    "def minimax(board, depth, maximizing_player):\n",
    "    if check_win(board, 'O'):\n",
    "        return 1\n",
    "    if check_win(board, 'X'):\n",
    "        return -1\n",
    "    if is_board_full(board):\n",
    "        return 0\n",
    "\n",
    "    if maximizing_player:\n",
    "        max_eval = -float('inf')\n",
    "        for i in range(9):\n",
    "            if board[i] == ' ':\n",
    "                board[i] = 'O'\n",
    "                eval = minimax(board, depth + 1, False)\n",
    "                board[i] = ' '\n",
    "                max_eval = max(max_eval, eval)\n",
    "        return max_eval\n",
    "    else:\n",
    "        min_eval = float('inf')\n",
    "        for i in range(9):\n",
    "            if board[i] == ' ':\n",
    "                board[i] = 'X'\n",
    "                eval = minimax(board, depth + 1, True)\n",
    "                board[i] = ' '\n",
    "                min_eval = min(min_eval, eval)\n",
    "        return min_eval\n",
    "\n",
    "# Function to make the computer player's move using minimax\n",
    "def computer_move():\n",
    "    best_move = -1\n",
    "    best_eval = -float('inf')\n",
    "    for i in range(9):\n",
    "        if board[i] == ' ':\n",
    "            board[i] = 'O'\n",
    "            eval = minimax(board, 0, False)\n",
    "            board[i] = ' '\n",
    "            if eval > best_eval:\n",
    "                best_eval = eval\n",
    "                best_move = i\n",
    "    return best_move\n",
    "\n",
    "# Main game loop\n",
    "while True:\n",
    "    print_board()\n",
    "    \n",
    "    # Human player's turn\n",
    "    while True:\n",
    "        try:\n",
    "            user_move = int(input(\"Enter your move (1-9): \")) - 1\n",
    "            if user_move >= 0 and user_move < 9 and board[user_move] == ' ':\n",
    "                make_move(board, user_move, 'X')\n",
    "                print_board()\n",
    "                break\n",
    "            else:\n",
    "                print(\"Invalid move. Try again.\")\n",
    "        except ValueError:\n",
    "            print(\"Invalid input. Please enter a number.\")\n",
    "\n",
    "    # Check if the human player wins\n",
    "    if check_win(board, 'X'):\n",
    "        print_board()\n",
    "        print(\"You win!\")\n",
    "        break\n",
    "\n",
    "    # Check for a tie\n",
    "    if is_board_full(board):\n",
    "        print_board()\n",
    "        print(\"It's a tie!\")\n",
    "        break\n",
    "\n",
    "    # Computer player's turn\n",
    "    computer_choice = computer_move()\n",
    "    make_move(board, computer_choice, 'O')\n",
    "    # print_board()\n",
    "    \n",
    "\n",
    "    # Check if the computer player win\n",
    "    if check_win(board, 'O'):\n",
    "        print_board()\n",
    "        print(\"Computer wins!\")\n",
    "        break\n"
   ]
  }
 ],
 "metadata": {
  "kernelspec": {
   "display_name": "Python 3",
   "language": "python",
   "name": "python3"
  },
  "language_info": {
   "codemirror_mode": {
    "name": "ipython",
    "version": 3
   },
   "file_extension": ".py",
   "mimetype": "text/x-python",
   "name": "python",
   "nbconvert_exporter": "python",
   "pygments_lexer": "ipython3",
   "version": "3.11.4"
  },
  "orig_nbformat": 4
 },
 "nbformat": 4,
 "nbformat_minor": 2
}
