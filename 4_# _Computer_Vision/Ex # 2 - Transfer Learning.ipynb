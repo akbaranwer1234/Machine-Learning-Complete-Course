{
  "cells": [
    {
      "cell_type": "markdown",
      "metadata": {
        "id": "ydHW_gtA-lME"
      },
      "source": [
        "### $$\\text{Lab 2: TRANSFER LEARNING (GRADED)}$$"
      ]
    },
    {
      "cell_type": "markdown",
      "metadata": {
        "id": "AauCh0bS-qzE"
      },
      "source": [
        "\n",
        "#### $$\\text{Problem: Fine-tuning a Pre-trained VGG16 Model for Multiclass Food Classification}$$"
      ]
    },
    {
      "cell_type": "markdown",
      "metadata": {
        "id": "m-YgZKW3-tv6"
      },
      "source": [
        "## **Importing basic Libraries**"
      ]
    },
    {
      "cell_type": "code",
      "execution_count": 74,
      "metadata": {
        "id": "4eCcT434-Ybq"
      },
      "outputs": [],
      "source": [
        "import matplotlib.pyplot as plt\n",
        "import numpy as np\n",
        "import os\n",
        "import tensorflow as tf\n",
        "from keras.preprocessing.image import ImageDataGenerator\n",
        "from keras.applications.vgg16 import VGG16, preprocess_input\n",
        "from keras.optimizers import Adam\n",
        "from keras.models import Model\n",
        "from keras.callbacks import EarlyStopping"
      ]
    },
    {
      "cell_type": "markdown",
      "metadata": {
        "id": "xXE3qagF-x83"
      },
      "source": [
        "## **0.0.1 Data download**"
      ]
    },
    {
      "cell_type": "code",
      "execution_count": 75,
      "metadata": {
        "id": "HlTBS-WF-zFX"
      },
      "outputs": [],
      "source": [
        "import os\n",
        "import requests\n",
        "import zipfile\n",
        "def download_and_unzip_data(url, destination_folder):\n",
        "    # Create the destination folder if it doesn't exist\n",
        "    os.makedirs(destination_folder, exist_ok=True)\n",
        "    # Extract the filename from the URL\n",
        "    file_name = os.path.basename(url)\n",
        "    # Define the path to save the downloaded zip file\n",
        "    save_path = os.path.join(destination_folder, file_name)\n",
        "    try:\n",
        "    # Send an HTTP GET request to download the zip file\n",
        "        response = requests.get(url, stream=True)\n",
        "        response.raise_for_status() # Raise an exception if the request was␣not successful\n",
        "    # Save the downloaded zip file\n",
        "        with open(save_path, 'wb') as file:\n",
        "            for chunk in response.iter_content(chunk_size=8192):\n",
        "                file.write(chunk)\n",
        "        # Unzip the downloaded file\n",
        "        with zipfile.ZipFile(save_path, 'r') as zip_ref:\n",
        "            zip_ref.extractall(destination_folder)\n",
        "        print(f\"File downloaded and unzipped to {destination_folder}\")\n",
        "    except requests.exceptions.RequestException as e:\n",
        "        print(f\"Failed to download the file: {str(e)}\")\n"
      ]
    },
    {
      "cell_type": "code",
      "execution_count": 76,
      "metadata": {
        "id": "ZFf0IUNF-4Km"
      },
      "outputs": [],
      "source": [
        "url = \"https://storage.googleapis.com/ztm_tf_course/food_vision/101_food_classes_10_percent.zip\"\n",
        "destination_folder = \"/content/dataset2\" # TODO: Change this to your desired destination folder\n",
        "# TODO: Call download_and_unzip_data and download the data"
      ]
    },
    {
      "cell_type": "code",
      "execution_count": 77,
      "metadata": {
        "colab": {
          "base_uri": "https://localhost:8080/"
        },
        "id": "cuESPp8N_B0e",
        "outputId": "b471c135-1f05-46d3-b161-49bff2802468"
      },
      "outputs": [
        {
          "output_type": "stream",
          "name": "stdout",
          "text": [
            "File downloaded and unzipped to /content/dataset2\n"
          ]
        }
      ],
      "source": [
        "download_and_unzip_data(url, destination_folder)"
      ]
    },
    {
      "cell_type": "markdown",
      "metadata": {
        "id": "Zz3mMAMO_F6D"
      },
      "source": [
        "## **0.0.2 IMAGE PREPROCESSING and Data Augmentation**"
      ]
    },
    {
      "cell_type": "code",
      "execution_count": 78,
      "metadata": {
        "id": "1omch4ee_Hzj"
      },
      "outputs": [],
      "source": [
        "train_dir = '/content/dataset2/101_food_classes_10_percent/train' # TODO: Change the directory to train folder\n",
        "test_dir = '/content/dataset2/101_food_classes_10_percent/test' # TODO: Change the directory to test folder\n",
        "# Make sure to give path of folder not file"
      ]
    },
    {
      "cell_type": "code",
      "execution_count": 79,
      "metadata": {
        "colab": {
          "base_uri": "https://localhost:8080/"
        },
        "id": "6s3SO43H_OKk",
        "outputId": "dc68e945-9c7f-4d86-ead9-5b3a85a635b5"
      },
      "outputs": [
        {
          "output_type": "stream",
          "name": "stdout",
          "text": [
            "Number of images in the train set: 7575\n",
            "Number of images in the test set: 25250\n"
          ]
        }
      ],
      "source": [
        "import os\n",
        "# Function to count files in a directory\n",
        "def count_files_in_directory(directory):\n",
        "    count = 0\n",
        "    for root, dirs, files in os.walk(directory):\n",
        "        count += len(files)\n",
        "    return count\n",
        "# Count the number of images in the train and test sets\n",
        "num_train_images = count_files_in_directory(train_dir)\n",
        "num_test_images = count_files_in_directory(test_dir)\n",
        "# Print the counts\n",
        "print(f\"Number of images in the train set: {num_train_images}\")\n",
        "print(f\"Number of images in the test set: {num_test_images}\")"
      ]
    },
    {
      "cell_type": "code",
      "execution_count": 80,
      "metadata": {
        "id": "8DuIegsS_QRa"
      },
      "outputs": [],
      "source": [
        "train_datagen = ImageDataGenerator(\n",
        "    rotation_range = 40, # TODO: Rotation range -> 40,\n",
        "    width_shift_range = 0.2, # TODO: Width shift range -> 0.2,\n",
        "    height_shift_range = 0.2, # TODO: Height shift range -> 0.2,\n",
        "    shear_range=0.2,\n",
        "    zoom_range=0.2,\n",
        "    fill_mode='nearest',\n",
        "validation_split=0.2) # set validation split"
      ]
    },
    {
      "cell_type": "code",
      "execution_count": 81,
      "metadata": {
        "id": "0KRSlL38_YPE",
        "colab": {
          "base_uri": "https://localhost:8080/"
        },
        "outputId": "e038bd0e-52c3-4ac0-9cfb-ec69beecb1b6"
      },
      "outputs": [
        {
          "output_type": "stream",
          "name": "stdout",
          "text": [
            "Found 600 images belonging to 10 classes.\n",
            "Found 150 images belonging to 10 classes.\n",
            "Found 2500 images belonging to 10 classes.\n"
          ]
        }
      ],
      "source": [
        "class_subset = sorted(os.listdir(os.path.join(destination_folder,'101_food_classes_10_percent/train')))[:10]\n",
        "BATCH_SIZE = 64 # TODO: Define batch size of your choice\n",
        "IMG_SHAPE = (224, 224, 3)\n",
        "traingen = train_datagen.flow_from_directory(train_dir,\n",
        "                                              target_size = (224, 224), # target_size= # TODO: Define image size,\n",
        "                                              class_mode='categorical',\n",
        "                                              classes=class_subset,\n",
        "                                              subset='training',\n",
        "                                              batch_size = 64, # TODO: BATCH SIZE,\n",
        "                                              shuffle = True, # TODO: Shuffle dataset,\n",
        "                                              seed = 42 # TODO: Set the seed\n",
        "                                            )\n",
        "\n",
        "# TODO: Define valdgen for the validation set. Hint: traingen\n",
        "validgen = train_datagen.flow_from_directory(train_dir,\n",
        "                                              target_size = (224, 224), # target_size= # TODO: Define image size,\n",
        "                                              class_mode='categorical',\n",
        "                                              classes=class_subset,\n",
        "                                              subset='validation',\n",
        "                                              batch_size = 64, # TODO: BATCH SIZE,\n",
        "                                              shuffle = True, # TODO: Shuffle dataset,\n",
        "                                              seed = 42 # TODO: Set the seed\n",
        "                                            )\n",
        "\n",
        "\n",
        "testgen = ImageDataGenerator().flow_from_directory(test_dir,\n",
        "                                                    target_size = (224, 224), # target_size= # TODO: Define image size,\n",
        "                                                    class_mode=None,\n",
        "                                                    classes=class_subset,\n",
        "                                                    batch_size=1,\n",
        "                                                    shuffle=False,\n",
        "                                                    seed=42\n",
        "                                                   )"
      ]
    },
    {
      "cell_type": "markdown",
      "metadata": {
        "id": "kFCrmVj__13_"
      },
      "source": [
        "## **0.0.3 Preprocess VGG16**"
      ]
    },
    {
      "cell_type": "code",
      "execution_count": 82,
      "metadata": {
        "id": "OlyOtH4VABYi"
      },
      "outputs": [],
      "source": [
        "from keras.applications.vgg16 import preprocess_input\n",
        "preprocess_input = preprocess_input\n",
        "# preprocess_input = TODO: Initial VGG16 Preprocess Hint: libraries"
      ]
    },
    {
      "cell_type": "code",
      "execution_count": 83,
      "metadata": {
        "id": "QexJhj-wADpG",
        "colab": {
          "base_uri": "https://localhost:8080/"
        },
        "outputId": "75dd7444-5a37-44ae-eeae-ef388697d3fd"
      },
      "outputs": [
        {
          "output_type": "stream",
          "name": "stdout",
          "text": [
            "(64, 7, 7, 512)\n"
          ]
        }
      ],
      "source": [
        "# TODO: Download weights of VGG16 model.\n",
        "base_model = VGG16(include_top = False, weights = 'imagenet', input_shape = IMG_SHAPE, classes = 10 )\n",
        "# TODO: Freeze the trainable parameters\n",
        "# base_model.trainable = # TODO: Freeze the weights\n",
        "base_model.trainable = False\n",
        "image_batch, label_batch = next(iter(traingen))\n",
        "feature_batch = base_model(image_batch)\n",
        "print(feature_batch.shape)"
      ]
    },
    {
      "cell_type": "code",
      "execution_count": 84,
      "metadata": {
        "id": "UIyMiaVvAGEQ",
        "colab": {
          "base_uri": "https://localhost:8080/"
        },
        "outputId": "f75c0fd5-fb2a-4d4f-cece-c0901d20a0b2"
      },
      "outputs": [
        {
          "output_type": "stream",
          "name": "stdout",
          "text": [
            "Model: \"vgg16\"\n",
            "_________________________________________________________________\n",
            " Layer (type)                Output Shape              Param #   \n",
            "=================================================================\n",
            " input_6 (InputLayer)        [(None, 224, 224, 3)]     0         \n",
            "                                                                 \n",
            " block1_conv1 (Conv2D)       (None, 224, 224, 64)      1792      \n",
            "                                                                 \n",
            " block1_conv2 (Conv2D)       (None, 224, 224, 64)      36928     \n",
            "                                                                 \n",
            " block1_pool (MaxPooling2D)  (None, 112, 112, 64)      0         \n",
            "                                                                 \n",
            " block2_conv1 (Conv2D)       (None, 112, 112, 128)     73856     \n",
            "                                                                 \n",
            " block2_conv2 (Conv2D)       (None, 112, 112, 128)     147584    \n",
            "                                                                 \n",
            " block2_pool (MaxPooling2D)  (None, 56, 56, 128)       0         \n",
            "                                                                 \n",
            " block3_conv1 (Conv2D)       (None, 56, 56, 256)       295168    \n",
            "                                                                 \n",
            " block3_conv2 (Conv2D)       (None, 56, 56, 256)       590080    \n",
            "                                                                 \n",
            " block3_conv3 (Conv2D)       (None, 56, 56, 256)       590080    \n",
            "                                                                 \n",
            " block3_pool (MaxPooling2D)  (None, 28, 28, 256)       0         \n",
            "                                                                 \n",
            " block4_conv1 (Conv2D)       (None, 28, 28, 512)       1180160   \n",
            "                                                                 \n",
            " block4_conv2 (Conv2D)       (None, 28, 28, 512)       2359808   \n",
            "                                                                 \n",
            " block4_conv3 (Conv2D)       (None, 28, 28, 512)       2359808   \n",
            "                                                                 \n",
            " block4_pool (MaxPooling2D)  (None, 14, 14, 512)       0         \n",
            "                                                                 \n",
            " block5_conv1 (Conv2D)       (None, 14, 14, 512)       2359808   \n",
            "                                                                 \n",
            " block5_conv2 (Conv2D)       (None, 14, 14, 512)       2359808   \n",
            "                                                                 \n",
            " block5_conv3 (Conv2D)       (None, 14, 14, 512)       2359808   \n",
            "                                                                 \n",
            " block5_pool (MaxPooling2D)  (None, 7, 7, 512)         0         \n",
            "                                                                 \n",
            "=================================================================\n",
            "Total params: 14714688 (56.13 MB)\n",
            "Trainable params: 0 (0.00 Byte)\n",
            "Non-trainable params: 14714688 (56.13 MB)\n",
            "_________________________________________________________________\n"
          ]
        }
      ],
      "source": [
        "# Let's take a look at the base model architecture\n",
        "# TODO: Print the architecture of base model and get the intuition\n",
        "base_model.summary()"
      ]
    },
    {
      "cell_type": "markdown",
      "metadata": {
        "id": "q7-7lOAwAIhi"
      },
      "source": [
        "## **0.0.4 Architecture**"
      ]
    },
    {
      "cell_type": "code",
      "execution_count": 85,
      "metadata": {
        "id": "7mKBaXZZAPKt"
      },
      "outputs": [],
      "source": [
        "inputs = tf.keras.Input(shape=IMG_SHAPE)\n",
        "x = preprocess_input(inputs) # x = # TODO: Preprocess the input by VGG16 Preprocessor\n",
        "x = base_model(x) # x = # TODO: Initialize the base_model and pass the preprocessed data\n",
        "x = tf.keras.layers.Flatten()(x) # x = tf.keras.layers. # TODO Flatten the data\n",
        "x = tf.keras.layers.Dense(4096, activation = 'relu')(x) # x = # TODO: Apply Dense layer with 4096 neurons and relu activation\n",
        "x = tf.keras.layers.Dense(1072, activation = 'relu')(x) # x = # TODO: Apply Dense layer with 1072 neurons and relu activation\n",
        "x = tf.keras.layers.Dropout(0.2)(x) # x = # TODO: Apply Dropout layer with 0.2 for dropout value\n",
        "x = tf.keras.layers.Dense(10, activation = 'softmax')(x) # x = # TODO: Apply softmax for prediction Hint: what shoould be number of neurons in it?\n",
        "# NOTE: Sequential, .add(...) will not work. We need fully connected network. Hint ()(input)\n",
        "model = tf.keras.Model(inputs, x) # model = tf.keras.Model(inputs, outputs)"
      ]
    },
    {
      "cell_type": "code",
      "execution_count": 86,
      "metadata": {
        "id": "BPS89NsbAUS8",
        "colab": {
          "base_uri": "https://localhost:8080/"
        },
        "outputId": "04761d9c-3312-4e09-efbb-e3de386c74c6"
      },
      "outputs": [
        {
          "output_type": "stream",
          "name": "stdout",
          "text": [
            "Model: \"model_2\"\n",
            "_________________________________________________________________\n",
            " Layer (type)                Output Shape              Param #   \n",
            "=================================================================\n",
            " input_7 (InputLayer)        [(None, 224, 224, 3)]     0         \n",
            "                                                                 \n",
            " tf.__operators__.getitem_2  (None, 224, 224, 3)       0         \n",
            "  (SlicingOpLambda)                                              \n",
            "                                                                 \n",
            " tf.nn.bias_add_2 (TFOpLamb  (None, 224, 224, 3)       0         \n",
            " da)                                                             \n",
            "                                                                 \n",
            " vgg16 (Functional)          (None, 7, 7, 512)         14714688  \n",
            "                                                                 \n",
            " flatten_2 (Flatten)         (None, 25088)             0         \n",
            "                                                                 \n",
            " dense_6 (Dense)             (None, 4096)              102764544 \n",
            "                                                                 \n",
            " dense_7 (Dense)             (None, 1072)              4391984   \n",
            "                                                                 \n",
            " dropout_2 (Dropout)         (None, 1072)              0         \n",
            "                                                                 \n",
            " dense_8 (Dense)             (None, 10)                10730     \n",
            "                                                                 \n",
            "=================================================================\n",
            "Total params: 121881946 (464.94 MB)\n",
            "Trainable params: 107167258 (408.81 MB)\n",
            "Non-trainable params: 14714688 (56.13 MB)\n",
            "_________________________________________________________________\n"
          ]
        }
      ],
      "source": [
        "model.summary()"
      ]
    },
    {
      "cell_type": "code",
      "execution_count": 87,
      "metadata": {
        "id": "6NYC5-3YAYiL"
      },
      "outputs": [],
      "source": [
        "# Create an instance of the Adam optimizer with a custom learning rate\n",
        "optimizer = Adam(learning_rate=0.001)\n",
        "# Compile your model with the custom optimizer, categorical cross entropy loss and accuracy metric\n",
        "model.compile(loss='categorical_crossentropy', optimizer=optimizer, metrics=['accuracy'])\n",
        "# history = model.fit(X_train, y_train, batch_size=128, epochs=10, verbose=1)"
      ]
    },
    {
      "cell_type": "code",
      "execution_count": 88,
      "metadata": {
        "id": "AEibZAn8Affc"
      },
      "outputs": [],
      "source": [
        "# EarlyStopping\n",
        "early_stop = EarlyStopping(monitor='val_loss',\n",
        "patience=10,\n",
        "restore_best_weights=True,\n",
        "mode='min')"
      ]
    },
    {
      "cell_type": "code",
      "execution_count": 89,
      "metadata": {
        "id": "ftBzOUO9Ah7q",
        "colab": {
          "base_uri": "https://localhost:8080/"
        },
        "outputId": "4fc60674-f4bf-4d47-d1a0-4d818fdec4b6"
      },
      "outputs": [
        {
          "output_type": "stream",
          "name": "stdout",
          "text": [
            "Epoch 1/15\n",
            "10/10 [==============================] - ETA: 0s - loss: 177.4477 - accuracy: 0.1450\n",
            "Epoch 1: val_loss improved from inf to 48.19104, saving model to /content/modelWeights4/cp.ckpt\n",
            "10/10 [==============================] - 34s 3s/step - loss: 177.4477 - accuracy: 0.1450 - val_loss: 48.1910 - val_accuracy: 0.2000\n",
            "Epoch 2/15\n",
            "10/10 [==============================] - ETA: 0s - loss: 21.6143 - accuracy: 0.2300\n",
            "Epoch 2: val_loss improved from 48.19104 to 6.21735, saving model to /content/modelWeights4/cp.ckpt\n",
            "10/10 [==============================] - 29s 3s/step - loss: 21.6143 - accuracy: 0.2300 - val_loss: 6.2174 - val_accuracy: 0.4600\n",
            "Epoch 3/15\n",
            "10/10 [==============================] - ETA: 0s - loss: 5.5997 - accuracy: 0.4417\n",
            "Epoch 3: val_loss improved from 6.21735 to 2.33079, saving model to /content/modelWeights4/cp.ckpt\n",
            "10/10 [==============================] - 28s 3s/step - loss: 5.5997 - accuracy: 0.4417 - val_loss: 2.3308 - val_accuracy: 0.4800\n",
            "Epoch 4/15\n",
            "10/10 [==============================] - ETA: 0s - loss: 1.9056 - accuracy: 0.5517\n",
            "Epoch 4: val_loss improved from 2.33079 to 2.19590, saving model to /content/modelWeights4/cp.ckpt\n",
            "10/10 [==============================] - 32s 3s/step - loss: 1.9056 - accuracy: 0.5517 - val_loss: 2.1959 - val_accuracy: 0.4733\n",
            "Epoch 5/15\n",
            "10/10 [==============================] - ETA: 0s - loss: 1.1656 - accuracy: 0.6767\n",
            "Epoch 5: val_loss improved from 2.19590 to 1.56524, saving model to /content/modelWeights4/cp.ckpt\n",
            "10/10 [==============================] - 31s 3s/step - loss: 1.1656 - accuracy: 0.6767 - val_loss: 1.5652 - val_accuracy: 0.5667\n",
            "Epoch 6/15\n",
            "10/10 [==============================] - ETA: 0s - loss: 0.8906 - accuracy: 0.7383\n",
            "Epoch 6: val_loss improved from 1.56524 to 1.46001, saving model to /content/modelWeights4/cp.ckpt\n",
            "10/10 [==============================] - 31s 3s/step - loss: 0.8906 - accuracy: 0.7383 - val_loss: 1.4600 - val_accuracy: 0.5533\n",
            "Epoch 7/15\n",
            "10/10 [==============================] - ETA: 0s - loss: 0.7041 - accuracy: 0.7583\n",
            "Epoch 7: val_loss did not improve from 1.46001\n",
            "10/10 [==============================] - 11s 1s/step - loss: 0.7041 - accuracy: 0.7583 - val_loss: 1.5286 - val_accuracy: 0.6200\n",
            "Epoch 8/15\n",
            "10/10 [==============================] - ETA: 0s - loss: 0.6354 - accuracy: 0.8083\n",
            "Epoch 8: val_loss improved from 1.46001 to 1.27460, saving model to /content/modelWeights4/cp.ckpt\n",
            "10/10 [==============================] - 35s 4s/step - loss: 0.6354 - accuracy: 0.8083 - val_loss: 1.2746 - val_accuracy: 0.6200\n",
            "Epoch 9/15\n",
            "10/10 [==============================] - ETA: 0s - loss: 0.4688 - accuracy: 0.8283\n",
            "Epoch 9: val_loss did not improve from 1.27460\n",
            "10/10 [==============================] - 11s 1s/step - loss: 0.4688 - accuracy: 0.8283 - val_loss: 1.7460 - val_accuracy: 0.5933\n",
            "Epoch 10/15\n",
            "10/10 [==============================] - ETA: 0s - loss: 0.4889 - accuracy: 0.8367\n",
            "Epoch 10: val_loss did not improve from 1.27460\n",
            "10/10 [==============================] - 11s 1s/step - loss: 0.4889 - accuracy: 0.8367 - val_loss: 1.5970 - val_accuracy: 0.5800\n",
            "Epoch 11/15\n",
            "10/10 [==============================] - ETA: 0s - loss: 0.3439 - accuracy: 0.8733\n",
            "Epoch 11: val_loss did not improve from 1.27460\n",
            "10/10 [==============================] - 11s 1s/step - loss: 0.3439 - accuracy: 0.8733 - val_loss: 1.4403 - val_accuracy: 0.6133\n",
            "Epoch 12/15\n",
            "10/10 [==============================] - ETA: 0s - loss: 0.3016 - accuracy: 0.8917\n",
            "Epoch 12: val_loss did not improve from 1.27460\n",
            "10/10 [==============================] - 10s 1s/step - loss: 0.3016 - accuracy: 0.8917 - val_loss: 1.3772 - val_accuracy: 0.6200\n",
            "Epoch 13/15\n",
            "10/10 [==============================] - ETA: 0s - loss: 0.4265 - accuracy: 0.8683\n",
            "Epoch 13: val_loss did not improve from 1.27460\n",
            "10/10 [==============================] - 11s 1s/step - loss: 0.4265 - accuracy: 0.8683 - val_loss: 1.6189 - val_accuracy: 0.5933\n",
            "Epoch 14/15\n",
            "10/10 [==============================] - ETA: 0s - loss: 0.2316 - accuracy: 0.9233\n",
            "Epoch 14: val_loss did not improve from 1.27460\n",
            "10/10 [==============================] - 11s 1s/step - loss: 0.2316 - accuracy: 0.9233 - val_loss: 1.7529 - val_accuracy: 0.5867\n",
            "Epoch 15/15\n",
            "10/10 [==============================] - ETA: 0s - loss: 0.2580 - accuracy: 0.9183\n",
            "Epoch 15: val_loss did not improve from 1.27460\n",
            "10/10 [==============================] - 11s 1s/step - loss: 0.2580 - accuracy: 0.9183 - val_loss: 1.7865 - val_accuracy: 0.6200\n"
          ]
        }
      ],
      "source": [
        "from keras.callbacks import ModelCheckpoint\n",
        "\n",
        "checkpoint_path = \"/content/modelWeights4/cp.ckpt\"\n",
        "checkpoint_dir = os.path.dirname(checkpoint_path)\n",
        "\n",
        "checkpoint = ModelCheckpoint(filepath=checkpoint_path, save_best_only=True, verbose=1)\n",
        "# checkpoint = ModelCheckpoint('model-{epoch:03d}.h5', monitor='val_loss', save_best_only=True, mode='auto')\n",
        "\n",
        "\n",
        "# n_epochs = # TODO: DEFINE NO OF EPOCHS\n",
        "vgg_history = model.fit(traingen,\n",
        "batch_size=BATCH_SIZE,\n",
        "epochs=15,\n",
        "validation_data=validgen,\n",
        "callbacks=[early_stop, checkpoint],\n",
        "verbose=1)"
      ]
    },
    {
      "cell_type": "code",
      "source": [
        "os.listdir(checkpoint_dir)"
      ],
      "metadata": {
        "colab": {
          "base_uri": "https://localhost:8080/"
        },
        "id": "msoJ4ucBywuF",
        "outputId": "2a456c14-904d-4364-9fbb-f14c5d0bced1"
      },
      "execution_count": 90,
      "outputs": [
        {
          "output_type": "execute_result",
          "data": {
            "text/plain": [
              "['cp.ckpt']"
            ]
          },
          "metadata": {},
          "execution_count": 90
        }
      ]
    },
    {
      "cell_type": "code",
      "execution_count": 91,
      "metadata": {
        "id": "CrBIo1IyAlgc"
      },
      "outputs": [],
      "source": [
        "import matplotlib.pyplot as plt\n",
        "def plot_training_history(history):\n",
        "  \"\"\"\n",
        "  Plots the training and validation accuracy and loss curves from a training history object.\n",
        "  Parameters:\n",
        "  - history: A training history object containing 'accuracy', 'loss', 'val_accuracy', and 'val_loss' values.\n",
        "  \"\"\"\n",
        "  # Plot training & validation accuracy values\n",
        "  plt.figure(figsize=(12, 6))\n",
        "  plt.subplot(1, 2, 1)\n",
        "  plt.plot(history.history['accuracy'])\n",
        "  plt.plot(history.history['val_accuracy'])\n",
        "  plt.title('Model Accuracy')\n",
        "  plt.xlabel('Epoch')\n",
        "  plt.ylabel('Accuracy')\n",
        "  plt.legend(['Train', 'Validation'], loc='upper left')\n",
        "  # Plot training & validation loss values\n",
        "  plt.subplot(1, 2, 2)\n",
        "  plt.plot(history.history['loss'])\n",
        "  plt.plot(history.history['val_loss'])\n",
        "  plt.title('Model Loss')\n",
        "  plt.xlabel('Epoch')\n",
        "  plt.ylabel('Loss')\n",
        "  plt.legend(['Train', 'Validation'], loc='upper left')\n",
        "  plt.tight_layout()"
      ]
    },
    {
      "cell_type": "code",
      "execution_count": 92,
      "metadata": {
        "id": "TM0cysg8AtZd",
        "colab": {
          "base_uri": "https://localhost:8080/",
          "height": 484
        },
        "outputId": "d4ba2cdb-42e4-4273-e38e-0e01a8b42142"
      },
      "outputs": [
        {
          "output_type": "display_data",
          "data": {
            "text/plain": [
              "<Figure size 1200x600 with 2 Axes>"
            ],
            "image/png": "[encoded data removed]"
          },
          "metadata": {}
        }
      ],
      "source": [
        "plot_training_history(vgg_history)"
      ]
    },
    {
      "cell_type": "code",
      "execution_count": 93,
      "metadata": {
        "id": "Umu94mj6Av2u",
        "colab": {
          "base_uri": "https://localhost:8080/"
        },
        "outputId": "5d6bb1ab-86d2-45a6-ef0c-539a0aa50df2"
      },
      "outputs": [
        {
          "output_type": "stream",
          "name": "stdout",
          "text": [
            "2500/2500 [==============================] - 26s 10ms/step\n"
          ]
        }
      ],
      "source": [
        "# sample = test_gen\n",
        "vgg_preds = model.predict(testgen) # Generate predictions\n",
        "# vgg_model.load_weights('tl_model_v1.weights.best.hdf5') # initialize the best trained weights\n",
        "true_classes = testgen.classes\n",
        "class_indices = traingen.class_indices\n",
        "class_indices = dict((v,k) for k,v in class_indices.items())\n",
        "# vgg_preds = # Make prediction on test dataset\n",
        "vgg_pred_classes = np.argmax(vgg_preds, axis=1)"
      ]
    },
    {
      "cell_type": "code",
      "execution_count": 94,
      "metadata": {
        "id": "CMg24HTcAzgu",
        "colab": {
          "base_uri": "https://localhost:8080/"
        },
        "outputId": "4cb0fd0b-632e-4f54-ad42-9daf4768267b"
      },
      "outputs": [
        {
          "output_type": "stream",
          "name": "stdout",
          "text": [
            "VGG16 Model Accuracy without Fine-Tuning: 68.52%\n"
          ]
        }
      ],
      "source": [
        "from sklearn.metrics import accuracy_score\n",
        "vgg_acc = accuracy_score(true_classes, vgg_pred_classes)\n",
        "print(\"VGG16 Model Accuracy without Fine-Tuning: {:.2f}%\".format(vgg_acc * 100))"
      ]
    },
    {
      "cell_type": "markdown",
      "metadata": {
        "id": "gyJQBkQPA2AF"
      },
      "source": [
        "## **0.0.5 Fine Tuning**"
      ]
    },
    {
      "cell_type": "code",
      "execution_count": 95,
      "metadata": {
        "id": "_cjpjQiTA8kx",
        "colab": {
          "base_uri": "https://localhost:8080/"
        },
        "outputId": "5e6913d7-5226-447a-e719-f935753d1469"
      },
      "outputs": [
        {
          "output_type": "stream",
          "name": "stdout",
          "text": [
            "Number of layers in the model:  9\n"
          ]
        }
      ],
      "source": [
        "# Reset our image data generators\n",
        "traingen.reset()\n",
        "validgen.reset()\n",
        "testgen.reset()\n",
        "# TODO: Make the model weights trainable\n",
        "base_model.trainable = True\n",
        "# Let's take a look to see how many layers are in the base model\n",
        "print(\"Number of layers in the model: \", len(model.layers))"
      ]
    },
    {
      "cell_type": "code",
      "source": [
        "model.summary()"
      ],
      "metadata": {
        "colab": {
          "base_uri": "https://localhost:8080/"
        },
        "id": "fJpDTPsQTkX2",
        "outputId": "029c8c99-d345-419a-d65f-1ce3d191dc8a"
      },
      "execution_count": 96,
      "outputs": [
        {
          "output_type": "stream",
          "name": "stdout",
          "text": [
            "Model: \"model_2\"\n",
            "_________________________________________________________________\n",
            " Layer (type)                Output Shape              Param #   \n",
            "=================================================================\n",
            " input_7 (InputLayer)        [(None, 224, 224, 3)]     0         \n",
            "                                                                 \n",
            " tf.__operators__.getitem_2  (None, 224, 224, 3)       0         \n",
            "  (SlicingOpLambda)                                              \n",
            "                                                                 \n",
            " tf.nn.bias_add_2 (TFOpLamb  (None, 224, 224, 3)       0         \n",
            " da)                                                             \n",
            "                                                                 \n",
            " vgg16 (Functional)          (None, 7, 7, 512)         14714688  \n",
            "                                                                 \n",
            " flatten_2 (Flatten)         (None, 25088)             0         \n",
            "                                                                 \n",
            " dense_6 (Dense)             (None, 4096)              102764544 \n",
            "                                                                 \n",
            " dense_7 (Dense)             (None, 1072)              4391984   \n",
            "                                                                 \n",
            " dropout_2 (Dropout)         (None, 1072)              0         \n",
            "                                                                 \n",
            " dense_8 (Dense)             (None, 10)                10730     \n",
            "                                                                 \n",
            "=================================================================\n",
            "Total params: 121881946 (464.94 MB)\n",
            "Trainable params: 121881946 (464.94 MB)\n",
            "Non-trainable params: 0 (0.00 Byte)\n",
            "_________________________________________________________________\n"
          ]
        }
      ]
    },
    {
      "cell_type": "code",
      "execution_count": 97,
      "metadata": {
        "id": "38-8OOdgA_s6"
      },
      "outputs": [],
      "source": [
        "# Fine-tune from this layer onwards\n",
        "# fine_tune_at = # Define after how many layers we need to make weights trainable\n",
        "# Freeze all the layers before the `fine_tune_at` layer\n",
        "for layer in base_model.layers[:10]:\n",
        "  layer.trainable = False\n",
        "  # print(layer.name)"
      ]
    },
    {
      "cell_type": "code",
      "source": [
        "model.summary()"
      ],
      "metadata": {
        "colab": {
          "base_uri": "https://localhost:8080/"
        },
        "id": "zU-UywKrZUJp",
        "outputId": "2905784e-1b3b-415c-cd4c-175b87c64c84"
      },
      "execution_count": 98,
      "outputs": [
        {
          "output_type": "stream",
          "name": "stdout",
          "text": [
            "Model: \"model_2\"\n",
            "_________________________________________________________________\n",
            " Layer (type)                Output Shape              Param #   \n",
            "=================================================================\n",
            " input_7 (InputLayer)        [(None, 224, 224, 3)]     0         \n",
            "                                                                 \n",
            " tf.__operators__.getitem_2  (None, 224, 224, 3)       0         \n",
            "  (SlicingOpLambda)                                              \n",
            "                                                                 \n",
            " tf.nn.bias_add_2 (TFOpLamb  (None, 224, 224, 3)       0         \n",
            " da)                                                             \n",
            "                                                                 \n",
            " vgg16 (Functional)          (None, 7, 7, 512)         14714688  \n",
            "                                                                 \n",
            " flatten_2 (Flatten)         (None, 25088)             0         \n",
            "                                                                 \n",
            " dense_6 (Dense)             (None, 4096)              102764544 \n",
            "                                                                 \n",
            " dense_7 (Dense)             (None, 1072)              4391984   \n",
            "                                                                 \n",
            " dropout_2 (Dropout)         (None, 1072)              0         \n",
            "                                                                 \n",
            " dense_8 (Dense)             (None, 10)                10730     \n",
            "                                                                 \n",
            "=================================================================\n",
            "Total params: 121881946 (464.94 MB)\n",
            "Trainable params: 120146458 (458.32 MB)\n",
            "Non-trainable params: 1735488 (6.62 MB)\n",
            "_________________________________________________________________\n"
          ]
        }
      ]
    },
    {
      "cell_type": "code",
      "source": [],
      "metadata": {
        "id": "2VgT60rawm1G"
      },
      "execution_count": 98,
      "outputs": []
    },
    {
      "cell_type": "code",
      "execution_count": 99,
      "metadata": {
        "id": "PaZ8ABLzBDkq",
        "colab": {
          "base_uri": "https://localhost:8080/"
        },
        "outputId": "3715a583-498a-4e47-8fd1-0e3dc80407cb"
      },
      "outputs": [
        {
          "output_type": "stream",
          "name": "stdout",
          "text": [
            "Epoch 1/15\n",
            "10/10 [==============================] - 15s 1s/step - loss: 377.4727 - accuracy: 0.1833 - val_loss: 24.9101 - val_accuracy: 0.1000\n",
            "Epoch 2/15\n",
            "10/10 [==============================] - 12s 1s/step - loss: 6.8465 - accuracy: 0.0833 - val_loss: 2.6792 - val_accuracy: 0.1267\n",
            "Epoch 3/15\n",
            "10/10 [==============================] - 12s 1s/step - loss: 2.8342 - accuracy: 0.1083 - val_loss: 2.4292 - val_accuracy: 0.1000\n",
            "Epoch 4/15\n",
            "10/10 [==============================] - 12s 1s/step - loss: 2.5349 - accuracy: 0.1067 - val_loss: 2.3846 - val_accuracy: 0.1000\n",
            "Epoch 5/15\n",
            "10/10 [==============================] - 12s 1s/step - loss: 2.3253 - accuracy: 0.1050 - val_loss: 2.3054 - val_accuracy: 0.1133\n",
            "Epoch 6/15\n",
            "10/10 [==============================] - 13s 1s/step - loss: 2.3137 - accuracy: 0.0967 - val_loss: 2.3006 - val_accuracy: 0.1267\n",
            "Epoch 7/15\n",
            "10/10 [==============================] - 12s 1s/step - loss: 2.3079 - accuracy: 0.0917 - val_loss: 2.3045 - val_accuracy: 0.1133\n",
            "Epoch 8/15\n",
            "10/10 [==============================] - 12s 1s/step - loss: 2.3241 - accuracy: 0.1000 - val_loss: 2.3012 - val_accuracy: 0.0933\n",
            "Epoch 9/15\n",
            "10/10 [==============================] - 13s 1s/step - loss: 2.3019 - accuracy: 0.0967 - val_loss: 2.3035 - val_accuracy: 0.0867\n",
            "Epoch 10/15\n",
            "10/10 [==============================] - 12s 1s/step - loss: 2.3054 - accuracy: 0.1000 - val_loss: 2.3025 - val_accuracy: 0.1067\n",
            "Epoch 11/15\n",
            "10/10 [==============================] - 12s 1s/step - loss: 2.3033 - accuracy: 0.0817 - val_loss: 2.3011 - val_accuracy: 0.1000\n",
            "Epoch 12/15\n",
            "10/10 [==============================] - 12s 1s/step - loss: 2.3016 - accuracy: 0.1000 - val_loss: 2.3049 - val_accuracy: 0.1000\n",
            "Epoch 13/15\n",
            "10/10 [==============================] - 12s 1s/step - loss: 2.3030 - accuracy: 0.0750 - val_loss: 2.3026 - val_accuracy: 0.1000\n",
            "Epoch 14/15\n",
            "10/10 [==============================] - 12s 1s/step - loss: 2.3026 - accuracy: 0.1000 - val_loss: 2.3026 - val_accuracy: 0.1000\n",
            "Epoch 15/15\n",
            "10/10 [==============================] - 12s 1s/step - loss: 2.3026 - accuracy: 0.1000 - val_loss: 2.3026 - val_accuracy: 0.1000\n"
          ]
        }
      ],
      "source": [
        "# Retrain model with fine-tuning\n",
        "# TODO Fit the fine tuned model on train and validation set, do apply early stopping\n",
        "# callbacks=[checkpoint]\n",
        "model.load_weights(checkpoint_path)\n",
        "model.compile(loss='categorical_crossentropy', optimizer=tf.keras.optimizers.legacy.Adam(learning_rate=0.001), metrics=['accuracy'])\n",
        "vgg_fine_tune_history = model.fit(traingen,\n",
        "batch_size=BATCH_SIZE,\n",
        "epochs=15,\n",
        "validation_data=validgen,\n",
        "callbacks=[early_stop],\n",
        "verbose=1,\n",
        ")"
      ]
    },
    {
      "cell_type": "code",
      "execution_count": 103,
      "metadata": {
        "id": "hnCygbnQBGqS",
        "colab": {
          "base_uri": "https://localhost:8080/",
          "height": 484
        },
        "outputId": "ab95b181-e841-426d-eb92-2bcae9da231a"
      },
      "outputs": [
        {
          "output_type": "display_data",
          "data": {
            "text/plain": [
              "<Figure size 1200x600 with 2 Axes>"
            ],
            "image/png": "[encoded data removed]"
          },
          "metadata": {}
        }
      ],
      "source": [
        "plot_training_history(vgg_fine_tune_history)"
      ]
    },
    {
      "cell_type": "code",
      "execution_count": 101,
      "metadata": {
        "id": "Gddxd1bfBJLQ",
        "colab": {
          "base_uri": "https://localhost:8080/"
        },
        "outputId": "3f6bc203-3b00-429a-c39f-6019f4ed741f"
      },
      "outputs": [
        {
          "output_type": "stream",
          "name": "stdout",
          "text": [
            "2500/2500 [==============================] - 27s 11ms/step\n",
            "2500/2500 [==============================] - 26s 10ms/step\n"
          ]
        }
      ],
      "source": [
        "# Generate predictions\n",
        "# vgg_model_ft.load_weights('tl_model_v1_ft.weights.best.hdf5') # initialize the best trained weights\n",
        "vgg_preds_ft = model.predict(testgen)\n",
        "# vgg_pred_classes_ft = # TODO Make prediction on fine tuned model\n",
        "\n",
        "# sample = test_gen\n",
        "vgg_preds = model.predict(testgen) # Generate predictions\n",
        "# vgg_model.load_weights('tl_model_v1.weights.best.hdf5') # initialize the best trained weights\n",
        "fine_tune_true_classes = testgen.classes\n",
        "fine_tune_class_indices = traingen.class_indices\n",
        "fine_tune_class_indices = dict((v,k) for k,v in class_indices.items())\n",
        "# vgg_preds = # Make prediction on test dataset\n",
        "vgg_pred_classes = np.argmax(vgg_preds, axis=1)"
      ]
    },
    {
      "cell_type": "code",
      "execution_count": null,
      "metadata": {
        "id": "j4ncWjl1BLqE"
      },
      "outputs": [],
      "source": [
        "vgg_acc_ft = accuracy_score(true_classes, vgg_pred_classes_ft)\n",
        "print(\"VGG16 Model Accuracy with Fine-Tuning: {:.2f}%\".format(vgg_acc_ft * 100))"
      ]
    },
    {
      "cell_type": "code",
      "execution_count": null,
      "metadata": {
        "id": "-dMJ1_pIBOrA"
      },
      "outputs": [],
      "source": [
        "import seaborn as sns\n",
        "from sklearn.metrics import confusion_matrix\n",
        "# Get the names of the ten classes\n",
        "class_names = testgen.class_indices.keys()\n",
        "def plot_heatmap(y_true, y_pred, class_names, ax, title):\n",
        "cm = confusion_matrix(y_true, y_pred)\n",
        "sns.heatmap(\n",
        "cm,\n",
        "annot=True,\n",
        "             square=True,\n",
        "xticklabels=class_names,\n",
        "yticklabels=class_names,\n",
        "fmt='d',\n",
        "cmap=plt.cm.Blues,\n",
        "cbar=False,\n",
        "ax=ax\n",
        ")\n",
        "\n",
        "ax.set_title(title, fontsize=16)\n",
        "ax.set_xticklabels(ax.get_xticklabels(), rotation=45, ha=\"right\")\n",
        "ax.set_ylabel('True Label', fontsize=12)\n",
        "ax.set_xlabel('Predicted Label', fontsize=12)\n",
        "fig, (ax1, ax2) = plt.subplots(1, 2, figsize=(20, 10))\n",
        "plot_heatmap(true_classes, vgg_pred_classes, class_names, ax1, title=\"Transfer Learning (VGG16) No Fine-Tuning\")\n",
        "plot_heatmap(true_classes, vgg_pred_classes_ft, class_names, ax2,␣\n",
        "↪title=\"Transfer Learning (VGG16) with Fine-Tuning\")\n",
        "fig.tight_layout()\n",
        "fig.subplots_adjust(top=1.25)\n",
        "plt.show()"
      ]
    },
    {
      "cell_type": "code",
      "execution_count": null,
      "metadata": {
        "id": "UQtFQOZ1BYm3"
      },
      "outputs": [],
      "source": [
        "# Plot the predictions with labels"
      ]
    }
  ],
  "metadata": {
    "accelerator": "GPU",
    "colab": {
      "provenance": []
    },
    "kernelspec": {
      "display_name": "Python 3",
      "name": "python3"
    },
    "language_info": {
      "name": "python"
    }
  },
  "nbformat": 4,
  "nbformat_minor": 0
}