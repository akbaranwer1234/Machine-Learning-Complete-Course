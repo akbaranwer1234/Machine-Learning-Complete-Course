{
  "cells": [
    {
      "cell_type": "markdown",
      "metadata": {
        "id": "mJr07ch0oLJM"
      },
      "source": [
        "# Module 2: Word Vectors and Embeddings"
      ]
    },
    {
      "cell_type": "markdown",
      "metadata": {
        "id": "qrXHbSBf-ouA"
      },
      "source": [
        "Now after cleaning the text we need to convert the text into some kind of numerical representation called vectors so that we can feed the data to a machine learning model for further processing."
      ]
    },
    {
      "cell_type": "markdown",
      "metadata": {
        "id": "hAqKBYPUQ3sW"
      },
      "source": [
        "**Scikit-learn**, also known as sklearn, is a free software machine learning library for the Python programming language. It’s one of the most useful and robust libraries for machine learning in Python. It provides a selection of efficient tools for machine learning and statistical modeling including classification, regression, clustering, and dimensionality reduction via a consistent interface in Python.\n",
        "\n",
        "Documentation: https://scikit-learn.org/stable/"
      ]
    },
    {
      "cell_type": "markdown",
      "metadata": {
        "id": "5ip4uFrQEdAl"
      },
      "source": [
        "## 2.1 Bag of Words"
      ]
    },
    {
      "cell_type": "markdown",
      "metadata": {
        "id": "EGtrrjx0SF_C"
      },
      "source": [
        "The Bag of Words (BoW) model is a common way to represent text data in Natural Language Processing (NLP). Here's how it works:\n",
        "\n",
        "1. **Tokenization**: The text is broken down into individual words or tokens.\n",
        "\n",
        "2. **Counting**: The frequency of each word is counted.\n",
        "\n",
        "3. **Storing**: The information is stored in a data structure, such as a dictionary or a vector.\n",
        "\n",
        "The name \"Bag of Words\" comes from the fact that this model represents the document as a 'bag' of its words, disregarding grammar and word order but keeping track of frequency.\n",
        "\n",
        "For example, if we have a vocabulary of 1000 words, then the whole document will be represented by a 1000-dimensional vector, where the vector’s ith entry represents the frequency of the ith vocabulary word in the document.\n"
      ]
    },
    {
      "cell_type": "code",
      "source": [
        "from sklearn.feature_extraction.text import CountVectorizer"
      ],
      "metadata": {
        "id": "avn3ynxY9o-T"
      },
      "execution_count": 1,
      "outputs": []
    },
    {
      "cell_type": "code",
      "execution_count": 2,
      "metadata": {
        "id": "Hk0DwJ_5EiHz"
      },
      "outputs": [],
      "source": [
        "# Sample Corpus\n",
        "\n",
        "corpus = ['This is the first document.',\n",
        "          'This document is the second document.',\n",
        "          'And this is the third one.',\n",
        "          'Is this the first document?']\n"
      ]
    },
    {
      "cell_type": "code",
      "source": [
        "# Create a CountVectorizer object\n",
        "\n",
        "vectorizer = CountVectorizer()"
      ],
      "metadata": {
        "id": "Q_bFrWXj9uAS"
      },
      "execution_count": 3,
      "outputs": []
    },
    {
      "cell_type": "code",
      "source": [
        "# Learn the vocabulary dictionary and return term-document matrix\n",
        "\n",
        "X = vectorizer.fit_transform(corpus)"
      ],
      "metadata": {
        "id": "6KMub9yd9wYZ"
      },
      "execution_count": 4,
      "outputs": []
    },
    {
      "cell_type": "code",
      "source": [
        "# Convert text into tokens\n",
        "\n",
        "print(vectorizer.get_feature_names_out())"
      ],
      "metadata": {
        "id": "w0bG0fSM92NV",
        "colab": {
          "base_uri": "https://localhost:8080/"
        },
        "outputId": "03189a59-0f11-494c-bc42-5761458c7314"
      },
      "execution_count": 5,
      "outputs": [
        {
          "output_type": "stream",
          "name": "stdout",
          "text": [
            "['and' 'document' 'first' 'is' 'one' 'second' 'the' 'third' 'this']\n"
          ]
        }
      ]
    },
    {
      "cell_type": "code",
      "source": [
        "# Display the embeddings matrix\n",
        "\n",
        "print(X.toarray())"
      ],
      "metadata": {
        "id": "glVv7-mp9oGM",
        "colab": {
          "base_uri": "https://localhost:8080/"
        },
        "outputId": "b351943a-f38c-4c83-c99a-9a61d5507b34"
      },
      "execution_count": 6,
      "outputs": [
        {
          "output_type": "stream",
          "name": "stdout",
          "text": [
            "[[0 1 1 1 0 0 1 0 1]\n",
            " [0 2 0 1 0 1 1 0 1]\n",
            " [1 0 0 1 1 0 1 1 1]\n",
            " [0 1 1 1 0 0 1 0 1]]\n"
          ]
        }
      ]
    },
    {
      "cell_type": "markdown",
      "metadata": {
        "id": "jgnduEtrS8E0"
      },
      "source": [
        "Disadvantages:\n",
        "\n",
        "- It ignores the order and context of the words, which can affect the meaning and semantics of the text.\n",
        "- It suffers from high dimensionality and sparsity, which can make the model complex and inefficient.\n",
        "- It does not capture synonyms, antonyms, or other linguistic features that can enrich the representation of the text."
      ]
    },
    {
      "cell_type": "markdown",
      "metadata": {
        "id": "06rI85fAEfvE"
      },
      "source": [
        "## 2.2 TF-IDF"
      ]
    },
    {
      "cell_type": "markdown",
      "metadata": {
        "id": "Vk0GCBS4URK6"
      },
      "source": [
        "**TF-IDF**, short for **Term Frequency-Inverse Document Frequency**, is a numerical statistic used in Natural Language Processing (NLP) to reflect how important a word is to a document in a collection or corpus. It's often used as a weighing factor in information retrieval, text mining, and user modeling.\n",
        "\n",
        "The TF-IDF value increases proportionally to the number of times a word appears in the document and is offset by the number of documents in the corpus that contain the word, which helps to adjust for the fact that some words appear more frequently in general.\n",
        "\n",
        "TF-IDF consists of two components:\n",
        "\n",
        "1. **Term Frequency (TF)**: This measures how frequently a term occurs in a document. Since every document is different in length, it is possible that a term would appear much more times in long documents than shorter ones. Thus, the term frequency is often divided by the document length (aka. the total number of terms in the document) as a way of normalization. It's calculated as:\n",
        "\n",
        "   $$\\text{TF}(t) = \\frac{\\text{Number of times term t appears in a document}}{\\text{Total number of terms in the document}}$$\n",
        "\n",
        "2. **Inverse Document Frequency (IDF)**: This measures how important a term is. While computing TF, all terms are considered equally important. However it is known that certain terms, such as “is”, “of”, and “that”, may appear a lot of times but have little importance. Thus we need to weigh down the frequent terms while scale up the rare ones. It's calculated as:\n",
        "\n",
        "   $$\\text{IDF}(t) = \\log_e \\left(\\frac{\\text{Total number of documents}}{\\text{Number of documents with term t in it}}\\right)$$\n",
        "\n",
        "The TF-IDF score for a word in a document is the product of its TF score and its IDF score. The higher the TF-IDF score, the more important that word is to that document.\n"
      ]
    },
    {
      "cell_type": "code",
      "source": [
        "from sklearn.feature_extraction.text import TfidfVectorizer"
      ],
      "metadata": {
        "id": "2L9zOl1D-B8H"
      },
      "execution_count": 7,
      "outputs": []
    },
    {
      "cell_type": "code",
      "source": [
        "# Sample Corpus\n",
        "\n",
        "corpus = ['This is the first document.',\n",
        "          'This document is the second document.',\n",
        "          'And this is the third one.',\n",
        "          'Is this the first document?']"
      ],
      "metadata": {
        "id": "Num2eBcI-Dum"
      },
      "execution_count": 8,
      "outputs": []
    },
    {
      "cell_type": "code",
      "source": [
        "# Create a TfidfVectorizer object\n",
        "\n",
        "vectorizer = TfidfVectorizer()"
      ],
      "metadata": {
        "id": "mcv_SIbR-F7h"
      },
      "execution_count": 9,
      "outputs": []
    },
    {
      "cell_type": "code",
      "source": [
        "# Learn the vocabulary dictionary and return term-document matrix\n",
        "\n",
        "X = vectorizer.fit_transform(corpus)"
      ],
      "metadata": {
        "id": "ipPKYr_b-H3T"
      },
      "execution_count": 10,
      "outputs": []
    },
    {
      "cell_type": "code",
      "source": [
        "# Convert text into tokens\n",
        "\n",
        "print(vectorizer.get_feature_names_out())"
      ],
      "metadata": {
        "id": "RWkl0jO_-KLk",
        "colab": {
          "base_uri": "https://localhost:8080/"
        },
        "outputId": "3e6ec0e2-8d05-4dc1-d37c-095f0c7fe728"
      },
      "execution_count": 11,
      "outputs": [
        {
          "output_type": "stream",
          "name": "stdout",
          "text": [
            "['and' 'document' 'first' 'is' 'one' 'second' 'the' 'third' 'this']\n"
          ]
        }
      ]
    },
    {
      "cell_type": "code",
      "execution_count": 12,
      "metadata": {
        "id": "9Ngf6AxvEitY",
        "colab": {
          "base_uri": "https://localhost:8080/"
        },
        "outputId": "8f93f232-3617-490e-aeb3-cdeafa10b28f"
      },
      "outputs": [
        {
          "output_type": "stream",
          "name": "stdout",
          "text": [
            "[[0.         0.46979139 0.58028582 0.38408524 0.         0.\n",
            "  0.38408524 0.         0.38408524]\n",
            " [0.         0.6876236  0.         0.28108867 0.         0.53864762\n",
            "  0.28108867 0.         0.28108867]\n",
            " [0.51184851 0.         0.         0.26710379 0.51184851 0.\n",
            "  0.26710379 0.51184851 0.26710379]\n",
            " [0.         0.46979139 0.58028582 0.38408524 0.         0.\n",
            "  0.38408524 0.         0.38408524]]\n"
          ]
        }
      ],
      "source": [
        "# Display the embeddings matrix\n",
        "\n",
        "print(X.toarray())"
      ]
    },
    {
      "cell_type": "markdown",
      "metadata": {
        "id": "m8oUyNLaWBn-"
      },
      "source": [
        "Disadvantages:\n",
        "\n",
        "- It ignores the order and context of the words, which can affect the meaning and semantics of the text.\n",
        "- It gives equal importance to all words, regardless of their relevance or frequency.\n",
        "- It suffers from high dimensionality and sparsity, which can make the model complex and inefficient.\n",
        "- It does not capture synonyms, antonyms, or other linguistic features that can enrich the representation of the text."
      ]
    },
    {
      "cell_type": "markdown",
      "metadata": {
        "id": "WokHHdWcpqWz"
      },
      "source": [
        "## 2.3 Pre-Trained Embeddings\n"
      ]
    },
    {
      "cell_type": "markdown",
      "metadata": {
        "id": "laNz01Z071Y9"
      },
      "source": [
        "Pre-trained embeddings and methods like Bag of Words (BoW) and TF-IDF are all techniques used to convert text into numerical form that can be processed by machine learning algorithms.\n",
        "\n",
        "**Bag of Words (BoW)** and **TF-IDF** are simple statistical vectorization techniques. They treat each word as a feature of the document and represent the document as a bag of these features. However, *they do not capture any semantic information or the context in which words appear*.\n",
        "\n",
        "**Pre-trained embeddings**, on the other hand, are more advanced and capture a lot more information. They are trained on large amounts of data and are able to capture semantic meaning and context. Examples of pre-trained embeddings include:\n",
        "- Word2Vec\n",
        "- GloVe\n",
        "- FastText\n",
        "- BERT.\n",
        "\n",
        "Pre-trained embeddings can be used to generalize text classification models to new datasets and tasks, which can save time and resources in training the model. They provide dense vector representations of words, where the vector dimensions represent different linguistic properties of the words.\n",
        "\n",
        "In summary, while BoW and TF-IDF provide a simple count-based representation of the text data, pre-trained embeddings provide a much richer representation that captures semantic meaning, context, and linguistic properties of the words.\n"
      ]
    },
    {
      "cell_type": "markdown",
      "metadata": {
        "id": "nSjr6Sy_bma3"
      },
      "source": [
        "### 2.3.1 Word2Vec Algorithm\n",
        "Both Continuous Bag of Words (CBOW) and Skip-gram are two popular algorithms used in Word2Vec to create word embeddings from large text corpora. They are both used for learning distributed representations of words, but they have different approaches:\n",
        "\n",
        "**CBOW (Continuous Bag of Words)**\n",
        "\n",
        "*   In CBOW, the model predicts a target word based on the context words (words that surround the target word).\n",
        "*   CBOW is faster to train compared to Skip-gram because it considers multiple context words to predict one target word.\n",
        "\n",
        "**Skip-gram**\n",
        "\n",
        "*   In Skip-gram, the model predicts context words based on the target word.\n",
        "*   Skip-gram is slower to train compared to CBOW because it trains multiple models (one for each context word) to predict the target word.\n"
      ]
    },
    {
      "cell_type": "markdown",
      "source": [
        "Model card: https://radimrehurek.com/gensim/models/word2vec.html"
      ],
      "metadata": {
        "id": "QWUzbnhWJluG"
      }
    },
    {
      "cell_type": "code",
      "source": [
        "from gensim.models import Word2Vec\n",
        "from nltk.tokenize import sent_tokenize, word_tokenize\n",
        "import nltk\n",
        "nltk.download('punkt')"
      ],
      "metadata": {
        "id": "qU5kzo-W-WfN",
        "colab": {
          "base_uri": "https://localhost:8080/"
        },
        "outputId": "4aa84250-599f-4de0-d66f-14ae5f901ccd"
      },
      "execution_count": 13,
      "outputs": [
        {
          "output_type": "stream",
          "name": "stderr",
          "text": [
            "[nltk_data] Downloading package punkt to /root/nltk_data...\n",
            "[nltk_data]   Unzipping tokenizers/punkt.zip.\n"
          ]
        },
        {
          "output_type": "execute_result",
          "data": {
            "text/plain": [
              "True"
            ]
          },
          "metadata": {},
          "execution_count": 13
        }
      ]
    },
    {
      "cell_type": "code",
      "source": [
        "# assuming 's' is your text data\n",
        "\n",
        "s = \"\"\"\n",
        "This is the first document. This document is the second document.\n",
        "And this is the third one. Is this the first document?\n",
        "\"\"\"\n",
        "# Preprocessing the data\n",
        "data = []\n",
        "for i in sent_tokenize(s):\n",
        "    temp = []\n",
        "    for j in word_tokenize(i):\n",
        "        temp.append(j.lower())\n",
        "    data.append(temp)"
      ],
      "metadata": {
        "id": "B9FHqpCe-YU6"
      },
      "execution_count": 14,
      "outputs": []
    },
    {
      "cell_type": "code",
      "source": [
        "# Creating the model and setting values for the various parameters\n",
        "\n",
        "model = Word2Vec(data, vector_size = 100, window = 5, min_count = 1, sg =1)"
      ],
      "metadata": {
        "id": "51d2kYHi-lQh"
      },
      "execution_count": 15,
      "outputs": []
    },
    {
      "cell_type": "markdown",
      "source": [
        "**Note:**  In Gensim's Word2Vec implementation, the default value for the sg (skip-gram) parameter is 0, indicating that the Continuous Bag of Words (CBOW) variant is used by default.\n",
        "To create a Skip-gram model, you need to explicitly set the sg parameter to 1 in the model initialization:\n",
        "  model = Word2Vec(data, vector_size=100, window=5, min_count=1, **sg=1**)"
      ],
      "metadata": {
        "id": "z_rtGkdsJsdm"
      }
    },
    {
      "cell_type": "code",
      "source": [
        "# Getting vector embeddings for a word\n",
        "\n",
        "vector = model.wv['document']"
      ],
      "metadata": {
        "id": "fS0iRYKo-0D3"
      },
      "execution_count": 16,
      "outputs": []
    },
    {
      "cell_type": "code",
      "execution_count": 17,
      "metadata": {
        "id": "66ldFCsqcZul",
        "colab": {
          "base_uri": "https://localhost:8080/"
        },
        "outputId": "f98ef729-6aeb-4599-815d-675069512c84"
      },
      "outputs": [
        {
          "output_type": "stream",
          "name": "stdout",
          "text": [
            "[-5.3675898e-04  2.3377803e-04  5.1011126e-03  9.0111634e-03\n",
            " -9.3046296e-03 -7.1193478e-03  6.4571658e-03  8.9753037e-03\n",
            " -5.0158435e-03 -3.7650017e-03  7.3809996e-03 -1.5337780e-03\n",
            " -4.5382124e-03  6.5550413e-03 -4.8621432e-03 -1.8138700e-03\n",
            "  2.8784047e-03  9.8939589e-04 -8.2832631e-03 -9.4508985e-03\n",
            "  7.3122787e-03  5.0708465e-03  6.7557860e-03  7.6295465e-04\n",
            "  6.3531208e-03 -3.4069265e-03 -9.4830303e-04  5.7722903e-03\n",
            " -7.5227362e-03 -3.9368360e-03 -7.5102518e-03 -9.2837535e-04\n",
            "  9.5392996e-03 -7.3179631e-03 -2.3361896e-03 -1.9368406e-03\n",
            "  8.0786077e-03 -5.9307734e-03  4.5256016e-05 -4.7519240e-03\n",
            " -9.6026259e-03  5.0088917e-03 -8.7609310e-03 -4.3932023e-03\n",
            " -3.5118584e-05 -2.9534783e-04 -7.6626088e-03  9.6165314e-03\n",
            "  4.9838675e-03  9.2361327e-03 -8.1576584e-03  4.4982354e-03\n",
            " -4.1376660e-03  8.2723942e-04  8.4996941e-03 -4.4644130e-03\n",
            "  4.5164754e-03 -6.7880703e-03 -3.5479118e-03  9.3994327e-03\n",
            " -1.5778678e-03  3.2395139e-04 -4.1392036e-03 -7.6834001e-03\n",
            " -1.5086082e-03  2.4686980e-03 -8.8897825e-04  5.5307760e-03\n",
            " -2.7418470e-03  2.2587653e-03  5.4576583e-03  8.3478261e-03\n",
            " -1.4554978e-03 -9.2119677e-03  4.3719350e-03  5.7055918e-04\n",
            "  7.4436441e-03 -8.1361103e-04 -2.6357276e-03 -8.7531134e-03\n",
            " -8.5555256e-04  2.8266562e-03  5.4006162e-03  7.0550269e-03\n",
            " -5.7036011e-03  1.8571850e-03  6.0869837e-03 -4.7972812e-03\n",
            " -3.1054628e-03  6.7991111e-03  1.6295947e-03  1.9216667e-04\n",
            "  3.4746602e-03  2.1997424e-04  9.6210763e-03  5.0581018e-03\n",
            " -8.9205764e-03 -7.0410264e-03  9.0351258e-04  6.3943700e-03]\n"
          ]
        }
      ],
      "source": [
        "print(vector)"
      ]
    },
    {
      "cell_type": "code",
      "execution_count": 18,
      "metadata": {
        "id": "TY-LyzR8dGnv",
        "colab": {
          "base_uri": "https://localhost:8080/"
        },
        "outputId": "28a82270-ed49-4a66-b2d7-764dab6aa9d8"
      },
      "outputs": [
        {
          "output_type": "execute_result",
          "data": {
            "text/plain": [
              "[['this', 'is', 'the', 'first', 'document', '.'],\n",
              " ['this', 'document', 'is', 'the', 'second', 'document', '.'],\n",
              " ['and', 'this', 'is', 'the', 'third', 'one', '.'],\n",
              " ['is', 'this', 'the', 'first', 'document', '?']]"
            ]
          },
          "metadata": {},
          "execution_count": 18
        }
      ],
      "source": [
        "data"
      ]
    },
    {
      "cell_type": "markdown",
      "metadata": {
        "id": "Sj9-s8cGce7-"
      },
      "source": [
        "In this code:\n",
        "\n",
        "- `vector_size` is the number of dimensions (N) of the N-dimensional space that gensim Word2Vec maps the words onto.\n",
        "- `window` is the maximum distance between a target word and words around the target word.\n",
        "- `min_count` is the minimum count of words to consider when training the model; words with occurrence less than this count will be ignored."
      ]
    },
    {
      "cell_type": "markdown",
      "metadata": {
        "id": "E5zQv-zH52_2"
      },
      "source": [
        "Note: Training Word2Vec from scratch on a small dataset may not perform as well as pre-trained embeddings.\n",
        "You can use pre-trained Word2Vec embeddings.\n",
        "\n",
        "Example: https://radimrehurek.com/gensim/models/word2vec.html"
      ]
    },
    {
      "cell_type": "markdown",
      "metadata": {
        "id": "OHe9uGOdqNmV"
      },
      "source": [
        "### 2.3.2 BERT (Bidirectional Encoder Representations from Transformers)\n"
      ]
    },
    {
      "cell_type": "markdown",
      "metadata": {
        "id": "K-jMKdZCGoOv"
      },
      "source": [
        "BERT is a deep learning model that generates contextualized word embeddings. Unlike Word2Vec, FastText, and GloVe which generate a single static embedding for each word, BERT generates different embeddings for a word based on its specific context within a sentence. For example, in the sentences “I deposited money in the bank” and “I sat by the river bank”, BERT would generate different embeddings for the word “bank” in each sentence.\n",
        "\n",
        "In terms of complexity and computational requirements, BERT is significantly more complex and resource-intensive than Word2Vec, FastText, and GloVe.\n",
        "\n",
        "Documentation: https://huggingface.co/bert-base-uncased"
      ]
    },
    {
      "cell_type": "code",
      "execution_count": 19,
      "metadata": {
        "id": "9WSxqdZEqVpo",
        "colab": {
          "base_uri": "https://localhost:8080/"
        },
        "outputId": "acd075d8-b9a8-43a7-e80e-d91057c21eea"
      },
      "outputs": [
        {
          "output_type": "stream",
          "name": "stdout",
          "text": [
            "Collecting transformers\n",
            "  Downloading transformers-4.34.0-py3-none-any.whl (7.7 MB)\n",
            "\u001b[2K     \u001b[90m━━━━━━━━━━━━━━━━━━━━━━━━━━━━━━━━━━━━━━━━\u001b[0m \u001b[32m7.7/7.7 MB\u001b[0m \u001b[31m18.1 MB/s\u001b[0m eta \u001b[36m0:00:00\u001b[0m\n",
            "\u001b[?25hRequirement already satisfied: filelock in /usr/local/lib/python3.10/dist-packages (from transformers) (3.12.4)\n",
            "Collecting huggingface-hub<1.0,>=0.16.4 (from transformers)\n",
            "  Downloading huggingface_hub-0.18.0-py3-none-any.whl (301 kB)\n",
            "\u001b[2K     \u001b[90m━━━━━━━━━━━━━━━━━━━━━━━━━━━━━━━━━━━━━━━━\u001b[0m \u001b[32m302.0/302.0 kB\u001b[0m \u001b[31m34.0 MB/s\u001b[0m eta \u001b[36m0:00:00\u001b[0m\n",
            "\u001b[?25hRequirement already satisfied: numpy>=1.17 in /usr/local/lib/python3.10/dist-packages (from transformers) (1.23.5)\n",
            "Requirement already satisfied: packaging>=20.0 in /usr/local/lib/python3.10/dist-packages (from transformers) (23.2)\n",
            "Requirement already satisfied: pyyaml>=5.1 in /usr/local/lib/python3.10/dist-packages (from transformers) (6.0.1)\n",
            "Requirement already satisfied: regex!=2019.12.17 in /usr/local/lib/python3.10/dist-packages (from transformers) (2023.6.3)\n",
            "Requirement already satisfied: requests in /usr/local/lib/python3.10/dist-packages (from transformers) (2.31.0)\n",
            "Collecting tokenizers<0.15,>=0.14 (from transformers)\n",
            "  Downloading tokenizers-0.14.1-cp310-cp310-manylinux_2_17_x86_64.manylinux2014_x86_64.whl (3.8 MB)\n",
            "\u001b[2K     \u001b[90m━━━━━━━━━━━━━━━━━━━━━━━━━━━━━━━━━━━━━━━━\u001b[0m \u001b[32m3.8/3.8 MB\u001b[0m \u001b[31m41.1 MB/s\u001b[0m eta \u001b[36m0:00:00\u001b[0m\n",
            "\u001b[?25hCollecting safetensors>=0.3.1 (from transformers)\n",
            "  Downloading safetensors-0.4.0-cp310-cp310-manylinux_2_17_x86_64.manylinux2014_x86_64.whl (1.3 MB)\n",
            "\u001b[2K     \u001b[90m━━━━━━━━━━━━━━━━━━━━━━━━━━━━━━━━━━━━━━━━\u001b[0m \u001b[32m1.3/1.3 MB\u001b[0m \u001b[31m45.1 MB/s\u001b[0m eta \u001b[36m0:00:00\u001b[0m\n",
            "\u001b[?25hRequirement already satisfied: tqdm>=4.27 in /usr/local/lib/python3.10/dist-packages (from transformers) (4.66.1)\n",
            "Requirement already satisfied: fsspec>=2023.5.0 in /usr/local/lib/python3.10/dist-packages (from huggingface-hub<1.0,>=0.16.4->transformers) (2023.6.0)\n",
            "Requirement already satisfied: typing-extensions>=3.7.4.3 in /usr/local/lib/python3.10/dist-packages (from huggingface-hub<1.0,>=0.16.4->transformers) (4.5.0)\n",
            "Collecting huggingface-hub<1.0,>=0.16.4 (from transformers)\n",
            "  Downloading huggingface_hub-0.17.3-py3-none-any.whl (295 kB)\n",
            "\u001b[2K     \u001b[90m━━━━━━━━━━━━━━━━━━━━━━━━━━━━━━━━━━━━━━━━\u001b[0m \u001b[32m295.0/295.0 kB\u001b[0m \u001b[31m28.4 MB/s\u001b[0m eta \u001b[36m0:00:00\u001b[0m\n",
            "\u001b[?25hRequirement already satisfied: charset-normalizer<4,>=2 in /usr/local/lib/python3.10/dist-packages (from requests->transformers) (3.3.0)\n",
            "Requirement already satisfied: idna<4,>=2.5 in /usr/local/lib/python3.10/dist-packages (from requests->transformers) (3.4)\n",
            "Requirement already satisfied: urllib3<3,>=1.21.1 in /usr/local/lib/python3.10/dist-packages (from requests->transformers) (2.0.6)\n",
            "Requirement already satisfied: certifi>=2017.4.17 in /usr/local/lib/python3.10/dist-packages (from requests->transformers) (2023.7.22)\n",
            "Installing collected packages: safetensors, huggingface-hub, tokenizers, transformers\n",
            "Successfully installed huggingface-hub-0.17.3 safetensors-0.4.0 tokenizers-0.14.1 transformers-4.34.0\n",
            "Requirement already satisfied: torch in /usr/local/lib/python3.10/dist-packages (2.0.1+cu118)\n",
            "Requirement already satisfied: filelock in /usr/local/lib/python3.10/dist-packages (from torch) (3.12.4)\n",
            "Requirement already satisfied: typing-extensions in /usr/local/lib/python3.10/dist-packages (from torch) (4.5.0)\n",
            "Requirement already satisfied: sympy in /usr/local/lib/python3.10/dist-packages (from torch) (1.12)\n",
            "Requirement already satisfied: networkx in /usr/local/lib/python3.10/dist-packages (from torch) (3.1)\n",
            "Requirement already satisfied: jinja2 in /usr/local/lib/python3.10/dist-packages (from torch) (3.1.2)\n",
            "Requirement already satisfied: triton==2.0.0 in /usr/local/lib/python3.10/dist-packages (from torch) (2.0.0)\n",
            "Requirement already satisfied: cmake in /usr/local/lib/python3.10/dist-packages (from triton==2.0.0->torch) (3.27.6)\n",
            "Requirement already satisfied: lit in /usr/local/lib/python3.10/dist-packages (from triton==2.0.0->torch) (17.0.2)\n",
            "Requirement already satisfied: MarkupSafe>=2.0 in /usr/local/lib/python3.10/dist-packages (from jinja2->torch) (2.1.3)\n",
            "Requirement already satisfied: mpmath>=0.19 in /usr/local/lib/python3.10/dist-packages (from sympy->torch) (1.3.0)\n"
          ]
        }
      ],
      "source": [
        "# Step 1: Library Installs\n",
        "!pip install transformers\n",
        "!pip install torch"
      ]
    },
    {
      "cell_type": "code",
      "execution_count": 20,
      "metadata": {
        "id": "ZDGxsdd8isAf"
      },
      "outputs": [],
      "source": [
        "# Step 2: Neccesary Imports\n",
        "\n",
        "from transformers import BertModel, BertTokenizer\n",
        "import torch"
      ]
    },
    {
      "cell_type": "code",
      "execution_count": 21,
      "metadata": {
        "id": "j6LaLNZ4iz8q",
        "colab": {
          "base_uri": "https://localhost:8080/",
          "height": 177,
          "referenced_widgets": [
            "e0661060a6f94793a7dde19cfacd252d",
            "839604355d3542b3928c5bf7b451af03",
            "0daf748df7cc436091ec037e955e488d",
            "b585267e72a140108b47f10c328f13e1",
            "d5e2481c98dd4a94adcde882435a7deb",
            "b6c78b26d3a2456891990a0c9258e6f4",
            "0bb04a9e25a34c9a903f3018460b2bc3",
            "63588272b20a466b9fb67be49cee8abb",
            "d00206bff01e4ee6950dae4897375757",
            "b27fcc9248c74fa6937c4d2154f5ab3f",
            "bce6afee899d49f3aa10a4988943598f",
            "eebaea77285d45668f2f00cdd31a38c6",
            "1176e36b3592435581f4076df0f30579",
            "2981705f784d4f77b55db8d99cc67448",
            "142e81942ae14203b7617f46814a7f2d",
            "35859b092c0b41eba1845a9ba882d63e",
            "29011d2a21bf4307a2ba1264035b3867",
            "e7d7c5ed23164d5c9812f4a47f35e0d9",
            "6b99091ebe3e474d993af4d82f17a119",
            "f67bbe1f439a4d70867b6e2715c4ebfa",
            "c9bb4def40314620ae13fb1bd7988e86",
            "9389d76cd13e4fc8a5f731e7df36fe4e",
            "3a9590598a3f479d8833e96bafa90070",
            "c827a412186b488aac20de963f72363a",
            "8792f2f4a5124f0bac2d41a599ab9e68",
            "d13d5a992f154ecdbf7f834ec66b1d06",
            "adc96eea25a14d91968b7da0bf6bb33c",
            "b57e20c95dec42da985f677ab84dbb0c",
            "d582af9365b84252b840e27fe2561de3",
            "4cafde50b0c84425b335240d227af8e7",
            "b3e72f3d0fd145f894c1bfa05399dba8",
            "c2097dee4b3f43d0b1d258c87cd8e17d",
            "979f6b2e65c34f2c83cc15bbe65d5aae",
            "6999a68a54a04e4ab29044b613c45686",
            "7f9c2cfec8d249b19a9a6eb7b6464d28",
            "66971fb325f44f48b80c902efbbaa62a",
            "b58895cf36f241efa8fb8eaf8a365866",
            "23a33b56da3a4576ac973c13f82399bd",
            "1460b5521c374163a90393ce00717628",
            "871c7be5e36b4de2999624137f94c1ce",
            "9b6d4656a11145d0a249db7874c6adf6",
            "f9d860f266f74b34b62354c43b060707",
            "728242184f4144a5a95a098f5045ed43",
            "5b6cd0370ff04778b1132cd4ce2bd551",
            "9d3e127a05b149a0812ed23814fafed1",
            "14938169ab4743ef8aa3d61006d110c6",
            "6560a7faf1ba4ce4b87b78a43820ed4d",
            "c249751db04849f08a064835e2cb98aa",
            "6986055a525147849991f99284796d1c",
            "8a8a59513231497cbfae097b5d12bd04",
            "424a9b585bee4d24b4ba089eaecf7dcc",
            "9afb10fec021447283201bde47b586e4",
            "354485def1d84f39802adfc7fd89623b",
            "399c7bcdd24540d3ab3419ae1a04dd46",
            "0636ec5ecc2b4a6c983092c79c28017b"
          ]
        },
        "outputId": "03153759-3474-47c1-f314-5f5116bdd44e"
      },
      "outputs": [
        {
          "output_type": "display_data",
          "data": {
            "text/plain": [
              "Downloading (…)okenizer_config.json:   0%|          | 0.00/28.0 [00:00<?, ?B/s]"
            ],
            "application/vnd.jupyter.widget-view+json": {
              "version_major": 2,
              "version_minor": 0,
              "model_id": "e0661060a6f94793a7dde19cfacd252d"
            }
          },
          "metadata": {}
        },
        {
          "output_type": "display_data",
          "data": {
            "text/plain": [
              "Downloading (…)solve/main/vocab.txt:   0%|          | 0.00/232k [00:00<?, ?B/s]"
            ],
            "application/vnd.jupyter.widget-view+json": {
              "version_major": 2,
              "version_minor": 0,
              "model_id": "eebaea77285d45668f2f00cdd31a38c6"
            }
          },
          "metadata": {}
        },
        {
          "output_type": "display_data",
          "data": {
            "text/plain": [
              "Downloading (…)/main/tokenizer.json:   0%|          | 0.00/466k [00:00<?, ?B/s]"
            ],
            "application/vnd.jupyter.widget-view+json": {
              "version_major": 2,
              "version_minor": 0,
              "model_id": "3a9590598a3f479d8833e96bafa90070"
            }
          },
          "metadata": {}
        },
        {
          "output_type": "display_data",
          "data": {
            "text/plain": [
              "Downloading (…)lve/main/config.json:   0%|          | 0.00/570 [00:00<?, ?B/s]"
            ],
            "application/vnd.jupyter.widget-view+json": {
              "version_major": 2,
              "version_minor": 0,
              "model_id": "6999a68a54a04e4ab29044b613c45686"
            }
          },
          "metadata": {}
        },
        {
          "output_type": "display_data",
          "data": {
            "text/plain": [
              "Downloading model.safetensors:   0%|          | 0.00/440M [00:00<?, ?B/s]"
            ],
            "application/vnd.jupyter.widget-view+json": {
              "version_major": 2,
              "version_minor": 0,
              "model_id": "9d3e127a05b149a0812ed23814fafed1"
            }
          },
          "metadata": {}
        }
      ],
      "source": [
        "# Step 3: Load Pre-Trained BERT Model and Tokenizer\n",
        "\n",
        "checkpoint = \"bert-base-uncased\"\n",
        "tokenizer = BertTokenizer.from_pretrained(checkpoint)\n",
        "model = BertModel.from_pretrained(checkpoint)"
      ]
    },
    {
      "cell_type": "code",
      "execution_count": 22,
      "metadata": {
        "id": "8cYivY-7i5uD",
        "colab": {
          "base_uri": "https://localhost:8080/"
        },
        "outputId": "c496eb59-415b-487e-8dd6-d012afd7c316"
      },
      "outputs": [
        {
          "output_type": "execute_result",
          "data": {
            "text/plain": [
              "BertModel(\n",
              "  (embeddings): BertEmbeddings(\n",
              "    (word_embeddings): Embedding(30522, 768, padding_idx=0)\n",
              "    (position_embeddings): Embedding(512, 768)\n",
              "    (token_type_embeddings): Embedding(2, 768)\n",
              "    (LayerNorm): LayerNorm((768,), eps=1e-12, elementwise_affine=True)\n",
              "    (dropout): Dropout(p=0.1, inplace=False)\n",
              "  )\n",
              "  (encoder): BertEncoder(\n",
              "    (layer): ModuleList(\n",
              "      (0-11): 12 x BertLayer(\n",
              "        (attention): BertAttention(\n",
              "          (self): BertSelfAttention(\n",
              "            (query): Linear(in_features=768, out_features=768, bias=True)\n",
              "            (key): Linear(in_features=768, out_features=768, bias=True)\n",
              "            (value): Linear(in_features=768, out_features=768, bias=True)\n",
              "            (dropout): Dropout(p=0.1, inplace=False)\n",
              "          )\n",
              "          (output): BertSelfOutput(\n",
              "            (dense): Linear(in_features=768, out_features=768, bias=True)\n",
              "            (LayerNorm): LayerNorm((768,), eps=1e-12, elementwise_affine=True)\n",
              "            (dropout): Dropout(p=0.1, inplace=False)\n",
              "          )\n",
              "        )\n",
              "        (intermediate): BertIntermediate(\n",
              "          (dense): Linear(in_features=768, out_features=3072, bias=True)\n",
              "          (intermediate_act_fn): GELUActivation()\n",
              "        )\n",
              "        (output): BertOutput(\n",
              "          (dense): Linear(in_features=3072, out_features=768, bias=True)\n",
              "          (LayerNorm): LayerNorm((768,), eps=1e-12, elementwise_affine=True)\n",
              "          (dropout): Dropout(p=0.1, inplace=False)\n",
              "        )\n",
              "      )\n",
              "    )\n",
              "  )\n",
              "  (pooler): BertPooler(\n",
              "    (dense): Linear(in_features=768, out_features=768, bias=True)\n",
              "    (activation): Tanh()\n",
              "  )\n",
              ")"
            ]
          },
          "metadata": {},
          "execution_count": 22
        }
      ],
      "source": [
        "model"
      ]
    },
    {
      "cell_type": "code",
      "execution_count": 23,
      "metadata": {
        "id": "zR0jwj0mi67k"
      },
      "outputs": [],
      "source": [
        "# Step 4.1: Just get the embeddings from a pretrained model\n",
        "\n",
        "text = \"Hugging Face's BERT is a powerful tool for natural language processing.\"\n",
        "tokens = tokenizer(text, padding = True, truncation = True, return_tensors = \"pt\") # Tokenize your text\n",
        "\n",
        "\n",
        "with torch.no_grad():\n",
        "    embeddings = model(**tokens).last_hidden_state"
      ]
    },
    {
      "cell_type": "code",
      "execution_count": 24,
      "metadata": {
        "id": "FT_FABCljNWl",
        "colab": {
          "base_uri": "https://localhost:8080/"
        },
        "outputId": "9ed5ab3f-11b1-4438-bafd-a78cfc8f7892"
      },
      "outputs": [
        {
          "output_type": "execute_result",
          "data": {
            "text/plain": [
              "tensor([[[-0.5006, -0.0108,  0.0482,  ..., -0.3206, -0.0234,  0.4465],\n",
              "         [ 0.0371, -0.3443,  0.9923,  ..., -0.0259,  0.6778,  0.5390],\n",
              "         [ 0.1315, -0.2351,  0.9058,  ..., -0.2614,  0.4007,  0.2539],\n",
              "         ...,\n",
              "         [ 0.0892,  0.0058,  0.2358,  ..., -1.1112, -0.8665, -0.2763],\n",
              "         [ 0.6234,  0.3100, -0.6328,  ...,  0.1791, -0.5473, -0.3639],\n",
              "         [-0.2104,  0.1521,  0.0763,  ...,  0.3794, -0.6476, -0.3708]]])"
            ]
          },
          "metadata": {},
          "execution_count": 24
        }
      ],
      "source": [
        "embeddings"
      ]
    },
    {
      "cell_type": "code",
      "execution_count": 25,
      "metadata": {
        "id": "HcwT0PaajP-d",
        "colab": {
          "base_uri": "https://localhost:8080/"
        },
        "outputId": "ba3b9cf6-22e2-4cca-c679-4890d9bd2222"
      },
      "outputs": [
        {
          "output_type": "execute_result",
          "data": {
            "text/plain": [
              "torch.Size([1, 16, 768])"
            ]
          },
          "metadata": {},
          "execution_count": 25
        }
      ],
      "source": [
        "embeddings.shape"
      ]
    },
    {
      "cell_type": "markdown",
      "metadata": {
        "id": "xA2ZAp9oO_ak"
      },
      "source": [
        "Another major difference is that while Word2Vec, FastText, and GloVe only provide word-level embeddings, BERT can also provide sentence-level embeddings."
      ]
    },
    {
      "cell_type": "code",
      "execution_count": 26,
      "metadata": {
        "id": "X1IcgjHAPCU6",
        "colab": {
          "base_uri": "https://localhost:8080/"
        },
        "outputId": "59f77d07-510f-4200-8523-e842a03251ab"
      },
      "outputs": [
        {
          "output_type": "stream",
          "name": "stdout",
          "text": [
            "[[-1.99308127e-01 -2.10060462e-01 -1.94994643e-01 -3.32378864e-01\n",
            "  -5.21259665e-01 -3.73374075e-01  1.54189378e-01  4.00057852e-01\n",
            "   3.53623852e-02 -1.50123253e-01 -3.52665842e-01 -2.28611425e-01\n",
            "  -9.49477926e-02  1.03279911e-01  5.13516724e-01 -9.09007639e-02\n",
            "   2.38635913e-01  4.82231945e-01  3.13785404e-01 -4.05656695e-01\n",
            "   9.86269861e-02 -8.87676030e-02 -2.74609476e-01 -5.08711934e-01\n",
            "   2.09130079e-01 -3.06265086e-01 -4.29530442e-02 -4.13105071e-01\n",
            "  -4.07091305e-02  8.08255672e-02 -6.02922365e-02  3.57201546e-01\n",
            "  -3.41745675e-01 -1.48240894e-01  3.90801311e-01 -1.31516546e-01\n",
            "   3.67418706e-01 -9.12577286e-03  4.34040397e-01  1.41824752e-01\n",
            "  -2.67848015e-01 -8.74635801e-02  2.66388327e-01  5.40870503e-02\n",
            "  -5.58938347e-02 -5.74296772e-01 -2.81868768e+00 -3.43125105e-01\n",
            "  -2.79367685e-01 -3.09405774e-01 -8.85440782e-02 -2.27909401e-01\n",
            "   4.06301439e-01  5.09021819e-01 -2.27963448e-01  3.77304614e-01\n",
            "  -2.90175945e-01  3.12225699e-01  1.94541186e-01 -1.05505832e-01\n",
            "   1.51795074e-01 -6.63270131e-02 -5.12372777e-02 -1.49615303e-01\n",
            "  -1.73069403e-01  6.69515729e-01 -1.29113346e-01  3.70587915e-01\n",
            "  -3.55942339e-01  6.18687987e-01 -7.38425732e-01 -3.17977667e-01\n",
            "   5.09875774e-01 -6.32505193e-02 -1.00528888e-01  1.71477124e-02\n",
            "  -1.47525772e-01  3.83849025e-01 -4.78081167e-01 -3.09235871e-01\n",
            "  -1.22946963e-01  4.82407033e-01  2.45979443e-01 -2.26515234e-01\n",
            "   5.13205409e-01  1.27970323e-01 -4.57104027e-01 -3.58582079e-01\n",
            "   1.41716138e-01  4.86789465e-01 -7.14694336e-02  2.90923387e-01\n",
            "  -2.42915928e-01  4.06075418e-01  3.14134836e-01  6.62179664e-02\n",
            "   1.02262914e-01  7.13417083e-02  1.28325403e-01  3.70183647e-01\n",
            "   1.53920755e-01 -8.83949772e-02  4.21139807e-01 -6.67406857e-01\n",
            "   7.77179152e-02 -2.59937465e-01 -3.60749900e-01 -2.70808309e-01\n",
            "   2.58211136e-01 -2.62997484e+00  4.36953336e-01  2.96510160e-01\n",
            "  -2.04381973e-01 -4.14322279e-02 -2.19805464e-01  6.16169453e-01\n",
            "   4.86316890e-01  1.49623275e-01  1.56064585e-01  8.02542344e-02\n",
            "  -2.27944553e-01  2.77485043e-01 -4.60430682e-02 -3.94765884e-01\n",
            "  -1.62183449e-01  4.45267648e-01  4.05344874e-01  1.37735590e-01\n",
            "   4.14594144e-01  2.35148564e-01  9.36704054e-02  5.70697069e-01\n",
            "   2.02279031e-01 -2.35572070e-01 -1.99455708e-01 -2.21032068e-01\n",
            "   3.92846227e-01  2.50028656e-03 -4.63500082e-01 -1.72613546e-01\n",
            "  -1.54461801e-01 -3.07091951e-01 -3.03597069e+00 -6.01808578e-02\n",
            "   6.37220919e-01  2.71709949e-01 -4.45748121e-01 -1.52565852e-01\n",
            "   4.34956163e-01  3.15685451e-01  1.47108212e-01 -3.31430994e-02\n",
            "  -1.25063032e-01  9.99373719e-02 -4.97853041e-01 -9.86700226e-03\n",
            "  -1.02398299e-01 -7.17582405e-02  4.94354904e-01  5.32281399e-01\n",
            "   3.21837425e-01 -4.49590720e-02  2.63614118e-01 -1.46002531e-01\n",
            "  -2.18695045e-01  5.29312007e-02  5.66569030e-01 -9.33800861e-02\n",
            "  -4.20010574e-02  1.51065409e-01 -4.45315540e-01 -1.69188343e-02\n",
            "   4.49296772e-01 -9.94198248e-02 -2.68321368e-03  1.63144823e-02\n",
            "   1.38209954e-01  3.13728958e-01  6.07062399e-01 -3.53907436e-01\n",
            "  -3.52411687e-01  5.80274105e-01  9.81323496e-02 -2.11072370e-01\n",
            "   3.82497251e-01 -5.27066700e-02  6.43785000e-01 -6.18617274e-02\n",
            "  -2.63954937e-01  3.16560239e-01 -3.47862169e-02 -2.85512120e-01\n",
            "   2.08121896e-01 -1.46399587e-01  4.63482857e-01  5.13013363e-01\n",
            "  -3.08046415e-02 -5.88399827e-01 -1.58127889e-01  4.55660582e-01\n",
            "  -1.28463432e-01  3.81572507e-02 -2.92889357e-01  6.04699645e-03\n",
            "   2.06951573e-02  4.03658676e+00  2.06295118e-01  1.21165989e-02\n",
            "   2.40402237e-01  3.54696900e-01 -2.23121151e-01  3.84736747e-01\n",
            "   2.88192346e-03 -3.14247876e-01  3.93892169e-01 -1.00725606e-01\n",
            "   4.05378968e-01 -7.25757703e-02 -3.27310145e-01 -1.67016342e-01\n",
            "   1.66201368e-01  1.64764747e-02 -1.27388388e-01  2.30615601e-01\n",
            "  -3.33406478e-01  1.16884157e-01  2.67637432e-01  7.51119971e-01\n",
            "   1.86059594e-01 -1.50504327e+00  1.01837784e-01  1.89143986e-01\n",
            "  -6.94087073e-02  2.57058412e-01 -3.00415665e-01 -1.48767754e-01\n",
            "  -4.76045050e-02 -7.51954317e-02 -7.93271661e-02  7.76891634e-02\n",
            "   1.18129604e-01  5.44110537e-01 -2.43914738e-01 -8.31626803e-02\n",
            "  -3.07620943e-01  9.89589691e-02  1.44523636e-01 -1.54934511e-01\n",
            "   9.01586413e-02 -1.02787070e-01  5.61267614e-01  6.07951079e-03\n",
            "  -5.66591993e-02 -1.01973288e-01 -9.80928540e-02  3.21857750e-01\n",
            "   2.86523163e-01  4.03303623e-01 -2.75707752e-01  2.81714290e-01\n",
            "  -4.87662315e-01 -5.27538843e-02  9.66894850e-02  2.82973260e-01\n",
            "  -6.97588205e-01 -2.12155983e-01 -1.93274021e-01 -1.01086669e-01\n",
            "   1.62323758e-01 -1.16773747e-01 -3.59571189e-01 -7.48808324e-01\n",
            "  -2.06742689e-01 -3.73578334e+00  1.61440536e-01  2.67636925e-01\n",
            "   5.05536608e-03  1.85333058e-01 -2.68117160e-01  3.57242167e-01\n",
            "   1.72861621e-01  2.26953864e-01 -4.58595544e-01  4.08012271e-01\n",
            "   2.11547032e-01 -3.15300137e-01  3.44027907e-01 -1.18943684e-01\n",
            "   2.85620868e-01 -1.67005807e-01 -4.20677304e-01 -6.02440722e-02\n",
            "  -5.89386106e-01 -6.51448742e-02  2.57079601e-01 -9.73678529e-02\n",
            "   3.06489319e-01 -1.02247015e-01 -1.73585005e-02 -1.83261916e-01\n",
            "  -5.16630054e-01 -7.80535862e-02 -4.60805982e-01 -1.21095479e-01\n",
            "  -4.05400276e-01  9.18306038e-02 -1.47159323e-01  1.17662951e-01\n",
            "  -2.58540773e+00  5.23597479e-01 -1.79081351e-01  2.19816789e-02\n",
            "  -1.25501066e-01 -1.18492439e-01  4.42803621e-01  4.25269902e-02\n",
            "  -3.56877834e-01  1.65507227e-01  3.12051326e-02 -3.92780274e-01\n",
            "  -3.49060684e-01  5.55844426e-01  3.88005823e-01  3.12894762e-01\n",
            "   3.64899009e-01  2.89675415e-01  1.77003056e-01  1.80859029e-01\n",
            "  -1.31863311e-01  2.17343420e-01  1.71687305e-01 -2.15556815e-01\n",
            "   2.75224686e-01  4.98104304e-01 -2.57107347e-01  6.31204620e-02\n",
            "  -2.92918473e-01 -1.68111235e-01  5.22225201e-02  9.94314924e-02\n",
            "   1.17741518e-01 -4.10605997e-01 -6.52812958e-01  2.76926700e-02\n",
            "   3.25925171e-01  3.06494147e-01  4.51330394e-01 -8.14625323e-02\n",
            "  -2.89263099e-01  7.04859555e-01  2.01248437e-01  6.76799864e-02\n",
            "   4.93230075e-01  1.28703371e-01 -2.18794584e-01 -6.67743087e-02\n",
            "   2.20183432e-01 -2.79883854e-02 -4.93742347e-01 -1.14440233e-01\n",
            "   1.26311100e+00  2.52548963e-01  2.79936939e-01 -1.51804775e-01\n",
            "   5.00831664e-01  9.87892076e-02  4.05910969e-01  3.61149341e-01\n",
            "   9.28842902e-01 -2.97131419e-01  2.41904587e-01 -4.34857965e-01\n",
            "   2.71214157e-01 -6.14073217e-01  5.32761097e-01 -9.56523716e-02\n",
            "  -2.09735595e-02  2.15913758e-01  2.18582049e-01  7.29801357e-02\n",
            "  -3.41767460e-01 -9.38229263e-01 -1.92439388e-02 -8.50771666e-02\n",
            "  -2.00647376e-02  2.65090875e-02  1.47112861e-01 -2.26843372e-01\n",
            "  -1.74250245e-01 -1.70853198e-01 -5.52602291e-01  4.17160988e-01\n",
            "  -1.38973817e-01 -1.51278153e-01  1.30768925e-01  1.35458022e-01\n",
            "  -6.35131896e-01 -2.45653510e-01 -4.60219175e-01  9.66945961e-02\n",
            "   7.30637461e-02  1.37235969e-01 -3.56404573e-01  3.00655719e-02\n",
            "   6.26963675e-01 -9.26870227e-01  1.53840721e-01 -5.32187283e-01\n",
            "  -1.96514130e-01 -3.93789858e-01 -2.28128191e-02  3.77888605e-02\n",
            "  -4.36786860e-01  9.22467411e-02 -5.04902780e-01  4.63039547e-01\n",
            "   1.16635859e-01  3.57184470e-01 -2.05165781e-02 -8.11019316e-02\n",
            "  -9.74899083e-02  1.08336344e-01  7.03067839e-01  1.11004107e-01\n",
            "  -5.89837790e-01  3.92169654e-01  5.53034127e-01  2.83662438e-01\n",
            "   3.09020013e-01 -1.20452642e-01 -9.17014107e-02 -9.06454995e-02\n",
            "  -5.84020615e-01  7.78004341e-03  1.22713797e-01  1.08428918e-01\n",
            "  -3.68053645e-01 -3.77160460e-01 -2.93312579e-01 -7.89546296e-02\n",
            "  -4.34061706e-01 -3.86332095e-01  8.99384618e-02 -6.86520815e-01\n",
            "  -2.93297440e-01  5.13588667e-01  4.35572177e-01 -2.12479547e-01\n",
            "   6.14185214e-01 -1.45651009e-02 -4.95716989e-01  2.53075629e-01\n",
            "  -1.50767535e-01  5.91084361e-01  7.88816512e-02 -2.09881231e-01\n",
            "  -4.27464336e-01  5.41673660e-01  1.39069259e-01 -3.91734242e-01\n",
            "  -1.69575557e-01 -4.52400178e-01  1.16890177e-01 -2.06955373e-01\n",
            "  -1.55930266e-01  3.80312577e-02  6.53207898e-02  2.71168239e-02\n",
            "   1.20296583e-01  3.46654713e-01 -1.36988521e+00  2.10465491e-01\n",
            "   5.77632666e-01 -2.96688348e-01 -9.41817537e-02  1.36018395e-01\n",
            "  -4.76543546e-01  7.07914650e-01 -2.55065411e-01  7.29771554e-02\n",
            "  -2.29591370e-01  8.34160075e-02  2.33146876e-01  1.13248993e-02\n",
            "   2.89200097e-01  1.09843999e-01  1.67019546e-01 -9.45751742e-02\n",
            "  -6.53093681e-02 -1.02840498e-01 -1.36917129e-01  5.45931101e-01\n",
            "   4.60631959e-02  6.35461286e-02  2.74241716e-01  8.88991505e-02\n",
            "  -2.43360654e-01  2.71603972e-01 -6.17840104e-02  2.83663601e-01\n",
            "   7.17518330e-02 -5.07931888e-01 -9.31072474e-01 -2.82834232e-01\n",
            "   5.85520416e-02  3.59042198e-03  1.38916761e-01 -2.47753516e-01\n",
            "   6.23430550e-01  5.96401989e-01 -1.77655786e-01  5.09430885e-01\n",
            "   2.78511316e-01 -1.05820812e-01  8.47901404e-02  5.18101871e-01\n",
            "  -2.32256174e-01  3.73800963e-01  4.87087928e-02 -6.00732982e-01\n",
            "  -2.12118194e-01 -4.76880163e-01 -3.70010585e-01 -2.24228427e-01\n",
            "   1.92351922e-01 -2.93191046e-01  2.01160759e-01 -2.01796710e-01\n",
            "  -2.65366137e-01 -3.60937089e-01  7.84836262e-02 -4.17879313e-01\n",
            "  -2.23442763e-01  3.42198670e-01 -5.78317642e-01 -6.87136292e-01\n",
            "   4.66163233e-02 -1.39092088e-01 -1.74330682e-01  3.30118865e-01\n",
            "   3.60382110e-01 -2.73831352e-03 -3.82291168e-01 -5.21693885e-01\n",
            "  -5.82990944e-01  1.64944641e-02  6.71560764e-02 -6.16443418e-02\n",
            "   3.17064166e-01 -3.21225859e-02  3.61536652e-01 -6.25626683e-01\n",
            "  -1.25014916e-01  1.89696699e-01  3.31838846e-01  7.97133744e-02\n",
            "  -9.80961248e-02  1.08360097e-01 -3.13177072e-02 -4.33689542e-03\n",
            "  -6.56987607e-01 -4.72420186e-01  6.72172010e-01  1.57390654e-01\n",
            "   3.32530916e-01  5.78583777e-02 -9.24249738e-02  1.24313369e-01\n",
            "   2.16583326e-01 -7.07858652e-02 -1.70143813e-01  8.08984518e-01\n",
            "   1.34310588e-01  5.19952357e-01  3.63364637e-01  7.37144113e-01\n",
            "   4.82230932e-01  3.12968105e-01 -3.16845477e-01 -3.78977269e-01\n",
            "  -1.45996690e-01  1.24125198e-01  1.13836542e-01 -3.33975285e-01\n",
            "   2.46534660e-01 -7.23125879e-03  2.58158118e-01 -1.42654270e-01\n",
            "   2.09767485e+00  5.46185255e-01  1.11882418e-01 -1.53110176e-01\n",
            "   4.82257038e-01  2.50490189e-01 -2.31493190e-01  1.55246213e-01\n",
            "  -2.68833935e-01  4.35934246e-01 -4.55755055e-01  8.52679759e-02\n",
            "  -8.39253813e-02  2.54314691e-01  1.70288205e-01 -5.04646190e-02\n",
            "  -2.21721418e-02 -1.20554686e-01 -7.38015056e-01 -5.02874434e-01\n",
            "  -4.59072948e-01  6.49700880e-01  2.02198640e-01 -9.97365937e-02\n",
            "   7.95239955e-02  4.56911236e-01  3.09912235e-01 -1.07827291e-01\n",
            "   1.25370771e-01  4.46299523e-01 -9.21774730e-02  4.33764279e-01\n",
            "   1.95536628e-01  1.37052834e-01 -3.05183977e-01  8.83674696e-02\n",
            "  -1.85161322e-01 -3.29631448e-01 -1.24863245e-01  7.29248524e-02\n",
            "  -1.38696864e-01 -4.73123699e-01  4.46780145e-01 -7.75224045e-02\n",
            "  -7.16626525e-01  6.18795276e-01 -1.06420889e-01 -2.78241813e-01\n",
            "   3.27502608e-01  1.23348832e-01  3.15358907e-01  5.94530366e-02\n",
            "  -4.89852220e-01  2.75405020e-01 -7.40285158e-01 -2.19929203e-01\n",
            "   5.46064317e-01  3.74901146e-02 -2.35550672e-01  2.66806364e-01\n",
            "   2.64444262e-01  4.05472308e-01 -6.92161322e-02 -3.69663328e-01\n",
            "  -4.11667198e-01 -3.87343615e-01 -2.17495129e-01  2.68034846e-01\n",
            "   5.42109311e-02 -1.90692335e-01  1.27992675e-01  6.51585340e-01\n",
            "   7.23490655e-01  3.85908365e-01  5.44673324e-01  1.34024350e-02\n",
            "   9.82706696e-02 -2.35221937e-01 -2.72270441e-01 -2.92815161e+00\n",
            "   6.16838895e-02  2.44886890e-01  1.49601847e-01  1.83628604e-01\n",
            "   3.82410467e-01  1.02431230e-01  1.70292929e-01  3.95465076e-01\n",
            "   4.62443717e-02  3.20406437e-01  2.72892088e-01  2.24753544e-01\n",
            "   5.55955768e-02 -5.93888797e-02 -2.38166116e-02  2.73630798e-01\n",
            "  -3.48962933e-01 -3.77198793e-02 -2.15279981e-01  2.94493278e-03\n",
            "   3.95460017e-02  2.82644689e-01 -1.69974640e-01 -4.21410948e-01\n",
            "  -1.45586669e-01 -8.89728591e-02 -2.30664074e-01  2.24803507e-01\n",
            "   2.42436826e-01 -2.11814925e-01  1.35848954e-01 -1.54493079e-01\n",
            "   1.00642771e-01 -2.20890213e-02  5.32891788e-02  2.15851173e-01\n",
            "  -2.67430782e-01  4.54674035e-01  5.02397597e-01 -3.04933101e-01\n",
            "   5.55570245e-01 -3.31968546e-01  4.17756528e-01 -3.57275248e-01\n",
            "  -1.62769288e-01  4.78633136e-01 -2.38509476e-01  5.09976566e-01\n",
            "  -2.26726905e-01 -2.62987256e-01  7.15225236e-03  1.22118264e-01\n",
            "   1.54386044e-01  5.27432442e-01 -1.39737390e-02  1.18420281e-01\n",
            "  -4.36231464e-01 -4.15035263e-02 -1.16981007e-01  7.13185444e-02\n",
            "  -3.25681806e-01 -7.77837262e-02 -1.86013609e-01  5.95577955e-01\n",
            "  -3.96949947e-01 -1.64911091e-01  1.62251309e-01 -1.79091871e-01\n",
            "  -2.23359108e-01 -2.44924724e-01  2.12758988e-01  4.36835498e-01\n",
            "   4.00508702e-01  1.77309036e-01  9.48406607e-02  2.33450279e-01\n",
            "   4.11891252e-01  4.34574574e-01  2.36725375e-01  5.12009263e-02\n",
            "  -5.11424005e-01 -1.51153877e-01  4.87066805e-02  5.66067576e-01\n",
            "  -7.83567047e+00  1.47149578e-01 -3.40465575e-01 -5.38894773e-01\n",
            "  -8.74860659e-02 -2.47100130e-01  6.10022359e-02 -2.02684850e-01\n",
            "  -2.00820863e-01  6.22046553e-02 -1.14140652e-01  3.54077697e-01\n",
            "   1.26438618e-01 -4.73342240e-01  8.61402676e-02  7.10313737e-01]]\n"
          ]
        }
      ],
      "source": [
        "# Step 4.2:  Get sentence-level embeddings\n",
        "\n",
        "from transformers import AutoTokenizer, AutoModel\n",
        "import torch\n",
        "\n",
        "# Load the BERT model\n",
        "tokenizer = AutoTokenizer.from_pretrained('bert-base-uncased')\n",
        "model = AutoModel.from_pretrained('bert-base-uncased')\n",
        "\n",
        "# Function to get the embeddings\n",
        "def get_embeddings(sentence):\n",
        "    # Tokenize the sentence\n",
        "    inputs = tokenizer(sentence, return_tensors='pt', truncation=True, padding=True)\n",
        "\n",
        "    # Get the embeddings\n",
        "    with torch.no_grad():\n",
        "        outputs = model(**inputs)\n",
        "\n",
        "    # Use the embeddings of the [CLS] token for the sentence-level embedding\n",
        "    embeddings = outputs.last_hidden_state[:, 0, :].numpy()\n",
        "\n",
        "    return embeddings\n",
        "\n",
        "# Test the function\n",
        "sentence = \"This is a sample sentence.\"\n",
        "embeddings = get_embeddings(sentence)\n",
        "print(embeddings)\n"
      ]
    },
    {
      "cell_type": "code",
      "execution_count": 27,
      "metadata": {
        "id": "6iclp7AvQdIj",
        "colab": {
          "base_uri": "https://localhost:8080/"
        },
        "outputId": "1089ee20-26aa-48bb-fc08-6e34d3923e04"
      },
      "outputs": [
        {
          "output_type": "execute_result",
          "data": {
            "text/plain": [
              "(1, 768)"
            ]
          },
          "metadata": {},
          "execution_count": 27
        }
      ],
      "source": [
        "embeddings.shape"
      ]
    },
    {
      "cell_type": "code",
      "execution_count": 28,
      "metadata": {
        "id": "nuSUjsCmgkzZ",
        "colab": {
          "base_uri": "https://localhost:8080/"
        },
        "outputId": "e82f4c4a-a048-492c-d89f-87db7b79e75e"
      },
      "outputs": [
        {
          "output_type": "stream",
          "name": "stderr",
          "text": [
            "Some weights of BertForSequenceClassification were not initialized from the model checkpoint at bert-base-uncased and are newly initialized: ['classifier.weight', 'classifier.bias']\n",
            "You should probably TRAIN this model on a down-stream task to be able to use it for predictions and inference.\n"
          ]
        }
      ],
      "source": [
        "# Step 5 : Perform Text Classification\n",
        "\n",
        "import torch\n",
        "from transformers import BertTokenizer, BertForSequenceClassification\n",
        "\n",
        "checkpoint = \"bert-base-uncased\"\n",
        "tokenizer = BertTokenizer.from_pretrained(checkpoint)\n",
        "model = BertForSequenceClassification.from_pretrained(checkpoint)\n",
        "\n",
        "labels = [\"Negative\", \"Positive\"]\n",
        "text = \"I love using BERT for NLP tasks.\"\n",
        "\n",
        "inputs = tokenizer(text, return_tensors = \"pt\", padding = True, truncation = True)\n",
        "outputs = model(**inputs)\n",
        "\n",
        "logits = outputs.logits\n",
        "predicted_class = torch.argmax(logits, dim = 1)\n",
        "predicted_label = labels[predicted_class]"
      ]
    },
    {
      "cell_type": "code",
      "execution_count": 29,
      "metadata": {
        "id": "LEGnqf0jj4il",
        "colab": {
          "base_uri": "https://localhost:8080/"
        },
        "outputId": "f4718a62-9296-416d-9021-d38f571ac888"
      },
      "outputs": [
        {
          "output_type": "stream",
          "name": "stdout",
          "text": [
            "Predicted Label: Negative\n"
          ]
        }
      ],
      "source": [
        "print(f\"Predicted Label: {predicted_label}\")"
      ]
    },
    {
      "cell_type": "markdown",
      "metadata": {
        "id": "1VgL1zlth0mT"
      },
      "source": [
        "### Working with Domain-Specific BERT Models\n",
        "Domain-specific BERT models are pre-trained models fine-tuned on specific domains, making them more suitable for tasks in those particular domains.\n",
        "\n",
        "\n",
        "1.   Legal-BERT: Tailored for legal text analysis, LegalBERT is designed to handle legal documents, contracts, and other law-related text. (model card: https://huggingface.co/nlpaueb/legal-bert-base-uncased)\n",
        "2.   Fin-BERT: Targeted at financial news, reports, and documents, FinBERT is pre-trained for financial sentiment analysis and related tasks. (model card: https://huggingface.co/ProsusAI/finbert)\n",
        "3.  SciBERT: Fine-tuned on scientific articles and is well-suited for NLP tasks within the scientific research domain. (model card: https://huggingface.co/allenai/scibert_scivocab_uncased)\n",
        "4. Bio_Clinical: Intended for tasks in the medical and healthcare domain, this model is pre-trained on a large corpus of biomedical literature. (model card: https://huggingface.co/emilyalsentzer/Bio_ClinicalBERT)\n",
        "\n",
        "\n"
      ]
    },
    {
      "cell_type": "markdown",
      "metadata": {
        "id": "0ZEnLuMIQfEG"
      },
      "source": [
        "### Fine-tuning BERT Embeddings\n",
        "In this lab, you will fine-tune a pre-trained BERT model on the SMS Spam Collection Dataset to build a spam detection system. You will use the Hugging Face Transformers library and PyTorch for fine-tuning.\n",
        "1. **Load** the SMS Spam Collection **Dataset**.\n",
        "2. Perform **data preprocessing steps**, including text cleaning, tokenization, and splitting into training and testing sets.\n",
        "3. Convert the text data into **BERT-compatible input format ** (token IDs, attention masks).\n",
        "4. **Load a pre-trained BERT model** (e.g., 'bert-base-uncased') from Hugging Face Transformers.\n",
        "5. Define a **classification head** for spam/ham detection.\n",
        "6. **Save embeddings** for later use."
      ]
    },
    {
      "cell_type": "code",
      "execution_count": 30,
      "metadata": {
        "id": "wcPTYKWjShTh"
      },
      "outputs": [],
      "source": [
        "import torch\n",
        "from transformers import BertTokenizer, BertForSequenceClassification, AdamW\n",
        "from torch.utils.data import DataLoader, TensorDataset\n",
        "from sklearn.model_selection import train_test_split\n",
        "from sklearn.preprocessing import LabelEncoder\n",
        "from sklearn.metrics import accuracy_score\n",
        "import pandas as pd\n",
        "from tqdm.notebook import trange, tqdm"
      ]
    },
    {
      "cell_type": "code",
      "execution_count": 31,
      "metadata": {
        "id": "5_pE6jTRSVsu"
      },
      "outputs": [],
      "source": [
        "path_to_dataset = '/content/spam.csv'"
      ]
    },
    {
      "cell_type": "code",
      "execution_count": 32,
      "metadata": {
        "id": "wS-mCy1NSw0z",
        "colab": {
          "base_uri": "https://localhost:8080/",
          "height": 423
        },
        "outputId": "f0607994-a811-4c38-9bec-66cf194e123e"
      },
      "outputs": [
        {
          "output_type": "execute_result",
          "data": {
            "text/plain": [
              "        v1                                                 v2 Unnamed: 2  \\\n",
              "0      ham  Go until jurong point, crazy.. Available only ...        NaN   \n",
              "1      ham                      Ok lar... Joking wif u oni...        NaN   \n",
              "2     spam  Free entry in 2 a wkly comp to win FA Cup fina...        NaN   \n",
              "3      ham  U dun say so early hor... U c already then say...        NaN   \n",
              "4      ham  Nah I don't think he goes to usf, he lives aro...        NaN   \n",
              "...    ...                                                ...        ...   \n",
              "5567  spam  This is the 2nd time we have tried 2 contact u...        NaN   \n",
              "5568   ham              Will Ì_ b going to esplanade fr home?        NaN   \n",
              "5569   ham  Pity, * was in mood for that. So...any other s...        NaN   \n",
              "5570   ham  The guy did some bitching but I acted like i'd...        NaN   \n",
              "5571   ham                         Rofl. Its true to its name        NaN   \n",
              "\n",
              "     Unnamed: 3 Unnamed: 4  \n",
              "0           NaN        NaN  \n",
              "1           NaN        NaN  \n",
              "2           NaN        NaN  \n",
              "3           NaN        NaN  \n",
              "4           NaN        NaN  \n",
              "...         ...        ...  \n",
              "5567        NaN        NaN  \n",
              "5568        NaN        NaN  \n",
              "5569        NaN        NaN  \n",
              "5570        NaN        NaN  \n",
              "5571        NaN        NaN  \n",
              "\n",
              "[5572 rows x 5 columns]"
            ],
            "text/html": [
              "\n",
              "  <div id=\"df-bffb2708-8854-4aca-8b0d-22723d1d0b07\" class=\"colab-df-container\">\n",
              "    <div>\n",
              "<style scoped>\n",
              "    .dataframe tbody tr th:only-of-type {\n",
              "        vertical-align: middle;\n",
              "    }\n",
              "\n",
              "    .dataframe tbody tr th {\n",
              "        vertical-align: top;\n",
              "    }\n",
              "\n",
              "    .dataframe thead th {\n",
              "        text-align: right;\n",
              "    }\n",
              "</style>\n",
              "<table border=\"1\" class=\"dataframe\">\n",
              "  <thead>\n",
              "    <tr style=\"text-align: right;\">\n",
              "      <th></th>\n",
              "      <th>v1</th>\n",
              "      <th>v2</th>\n",
              "      <th>Unnamed: 2</th>\n",
              "      <th>Unnamed: 3</th>\n",
              "      <th>Unnamed: 4</th>\n",
              "    </tr>\n",
              "  </thead>\n",
              "  <tbody>\n",
              "    <tr>\n",
              "      <th>0</th>\n",
              "      <td>ham</td>\n",
              "      <td>Go until jurong point, crazy.. Available only ...</td>\n",
              "      <td>NaN</td>\n",
              "      <td>NaN</td>\n",
              "      <td>NaN</td>\n",
              "    </tr>\n",
              "    <tr>\n",
              "      <th>1</th>\n",
              "      <td>ham</td>\n",
              "      <td>Ok lar... Joking wif u oni...</td>\n",
              "      <td>NaN</td>\n",
              "      <td>NaN</td>\n",
              "      <td>NaN</td>\n",
              "    </tr>\n",
              "    <tr>\n",
              "      <th>2</th>\n",
              "      <td>spam</td>\n",
              "      <td>Free entry in 2 a wkly comp to win FA Cup fina...</td>\n",
              "      <td>NaN</td>\n",
              "      <td>NaN</td>\n",
              "      <td>NaN</td>\n",
              "    </tr>\n",
              "    <tr>\n",
              "      <th>3</th>\n",
              "      <td>ham</td>\n",
              "      <td>U dun say so early hor... U c already then say...</td>\n",
              "      <td>NaN</td>\n",
              "      <td>NaN</td>\n",
              "      <td>NaN</td>\n",
              "    </tr>\n",
              "    <tr>\n",
              "      <th>4</th>\n",
              "      <td>ham</td>\n",
              "      <td>Nah I don't think he goes to usf, he lives aro...</td>\n",
              "      <td>NaN</td>\n",
              "      <td>NaN</td>\n",
              "      <td>NaN</td>\n",
              "    </tr>\n",
              "    <tr>\n",
              "      <th>...</th>\n",
              "      <td>...</td>\n",
              "      <td>...</td>\n",
              "      <td>...</td>\n",
              "      <td>...</td>\n",
              "      <td>...</td>\n",
              "    </tr>\n",
              "    <tr>\n",
              "      <th>5567</th>\n",
              "      <td>spam</td>\n",
              "      <td>This is the 2nd time we have tried 2 contact u...</td>\n",
              "      <td>NaN</td>\n",
              "      <td>NaN</td>\n",
              "      <td>NaN</td>\n",
              "    </tr>\n",
              "    <tr>\n",
              "      <th>5568</th>\n",
              "      <td>ham</td>\n",
              "      <td>Will Ì_ b going to esplanade fr home?</td>\n",
              "      <td>NaN</td>\n",
              "      <td>NaN</td>\n",
              "      <td>NaN</td>\n",
              "    </tr>\n",
              "    <tr>\n",
              "      <th>5569</th>\n",
              "      <td>ham</td>\n",
              "      <td>Pity, * was in mood for that. So...any other s...</td>\n",
              "      <td>NaN</td>\n",
              "      <td>NaN</td>\n",
              "      <td>NaN</td>\n",
              "    </tr>\n",
              "    <tr>\n",
              "      <th>5570</th>\n",
              "      <td>ham</td>\n",
              "      <td>The guy did some bitching but I acted like i'd...</td>\n",
              "      <td>NaN</td>\n",
              "      <td>NaN</td>\n",
              "      <td>NaN</td>\n",
              "    </tr>\n",
              "    <tr>\n",
              "      <th>5571</th>\n",
              "      <td>ham</td>\n",
              "      <td>Rofl. Its true to its name</td>\n",
              "      <td>NaN</td>\n",
              "      <td>NaN</td>\n",
              "      <td>NaN</td>\n",
              "    </tr>\n",
              "  </tbody>\n",
              "</table>\n",
              "<p>5572 rows × 5 columns</p>\n",
              "</div>\n",
              "    <div class=\"colab-df-buttons\">\n",
              "\n",
              "  <div class=\"colab-df-container\">\n",
              "    <button class=\"colab-df-convert\" onclick=\"convertToInteractive('df-bffb2708-8854-4aca-8b0d-22723d1d0b07')\"\n",
              "            title=\"Convert this dataframe to an interactive table.\"\n",
              "            style=\"display:none;\">\n",
              "\n",
              "  <svg xmlns=\"http://www.w3.org/2000/svg\" height=\"24px\" viewBox=\"0 -960 960 960\">\n",
              "    <path d=\"M120-120v-720h720v720H120Zm60-500h600v-160H180v160Zm220 220h160v-160H400v160Zm0 220h160v-160H400v160ZM180-400h160v-160H180v160Zm440 0h160v-160H620v160ZM180-180h160v-160H180v160Zm440 0h160v-160H620v160Z\"/>\n",
              "  </svg>\n",
              "    </button>\n",
              "\n",
              "  <style>\n",
              "    .colab-df-container {\n",
              "      display:flex;\n",
              "      gap: 12px;\n",
              "    }\n",
              "\n",
              "    .colab-df-convert {\n",
              "      background-color: #E8F0FE;\n",
              "      border: none;\n",
              "      border-radius: 50%;\n",
              "      cursor: pointer;\n",
              "      display: none;\n",
              "      fill: #1967D2;\n",
              "      height: 32px;\n",
              "      padding: 0 0 0 0;\n",
              "      width: 32px;\n",
              "    }\n",
              "\n",
              "    .colab-df-convert:hover {\n",
              "      background-color: #E2EBFA;\n",
              "      box-shadow: 0px 1px 2px rgba(60, 64, 67, 0.3), 0px 1px 3px 1px rgba(60, 64, 67, 0.15);\n",
              "      fill: #174EA6;\n",
              "    }\n",
              "\n",
              "    .colab-df-buttons div {\n",
              "      margin-bottom: 4px;\n",
              "    }\n",
              "\n",
              "    [theme=dark] .colab-df-convert {\n",
              "      background-color: #3B4455;\n",
              "      fill: #D2E3FC;\n",
              "    }\n",
              "\n",
              "    [theme=dark] .colab-df-convert:hover {\n",
              "      background-color: #434B5C;\n",
              "      box-shadow: 0px 1px 3px 1px rgba(0, 0, 0, 0.15);\n",
              "      filter: drop-shadow(0px 1px 2px rgba(0, 0, 0, 0.3));\n",
              "      fill: #FFFFFF;\n",
              "    }\n",
              "  </style>\n",
              "\n",
              "    <script>\n",
              "      const buttonEl =\n",
              "        document.querySelector('#df-bffb2708-8854-4aca-8b0d-22723d1d0b07 button.colab-df-convert');\n",
              "      buttonEl.style.display =\n",
              "        google.colab.kernel.accessAllowed ? 'block' : 'none';\n",
              "\n",
              "      async function convertToInteractive(key) {\n",
              "        const element = document.querySelector('#df-bffb2708-8854-4aca-8b0d-22723d1d0b07');\n",
              "        const dataTable =\n",
              "          await google.colab.kernel.invokeFunction('convertToInteractive',\n",
              "                                                    [key], {});\n",
              "        if (!dataTable) return;\n",
              "\n",
              "        const docLinkHtml = 'Like what you see? Visit the ' +\n",
              "          '<a target=\"_blank\" href=https://colab.research.google.com/notebooks/data_table.ipynb>data table notebook</a>'\n",
              "          + ' to learn more about interactive tables.';\n",
              "        element.innerHTML = '';\n",
              "        dataTable['output_type'] = 'display_data';\n",
              "        await google.colab.output.renderOutput(dataTable, element);\n",
              "        const docLink = document.createElement('div');\n",
              "        docLink.innerHTML = docLinkHtml;\n",
              "        element.appendChild(docLink);\n",
              "      }\n",
              "    </script>\n",
              "  </div>\n",
              "\n",
              "\n",
              "<div id=\"df-27a81f26-29ab-4948-a6a5-51928f9f3c6c\">\n",
              "  <button class=\"colab-df-quickchart\" onclick=\"quickchart('df-27a81f26-29ab-4948-a6a5-51928f9f3c6c')\"\n",
              "            title=\"Suggest charts.\"\n",
              "            style=\"display:none;\">\n",
              "\n",
              "<svg xmlns=\"http://www.w3.org/2000/svg\" height=\"24px\"viewBox=\"0 0 24 24\"\n",
              "     width=\"24px\">\n",
              "    <g>\n",
              "        <path d=\"M19 3H5c-1.1 0-2 .9-2 2v14c0 1.1.9 2 2 2h14c1.1 0 2-.9 2-2V5c0-1.1-.9-2-2-2zM9 17H7v-7h2v7zm4 0h-2V7h2v10zm4 0h-2v-4h2v4z\"/>\n",
              "    </g>\n",
              "</svg>\n",
              "  </button>\n",
              "\n",
              "<style>\n",
              "  .colab-df-quickchart {\n",
              "      --bg-color: #E8F0FE;\n",
              "      --fill-color: #1967D2;\n",
              "      --hover-bg-color: #E2EBFA;\n",
              "      --hover-fill-color: #174EA6;\n",
              "      --disabled-fill-color: #AAA;\n",
              "      --disabled-bg-color: #DDD;\n",
              "  }\n",
              "\n",
              "  [theme=dark] .colab-df-quickchart {\n",
              "      --bg-color: #3B4455;\n",
              "      --fill-color: #D2E3FC;\n",
              "      --hover-bg-color: #434B5C;\n",
              "      --hover-fill-color: #FFFFFF;\n",
              "      --disabled-bg-color: #3B4455;\n",
              "      --disabled-fill-color: #666;\n",
              "  }\n",
              "\n",
              "  .colab-df-quickchart {\n",
              "    background-color: var(--bg-color);\n",
              "    border: none;\n",
              "    border-radius: 50%;\n",
              "    cursor: pointer;\n",
              "    display: none;\n",
              "    fill: var(--fill-color);\n",
              "    height: 32px;\n",
              "    padding: 0;\n",
              "    width: 32px;\n",
              "  }\n",
              "\n",
              "  .colab-df-quickchart:hover {\n",
              "    background-color: var(--hover-bg-color);\n",
              "    box-shadow: 0 1px 2px rgba(60, 64, 67, 0.3), 0 1px 3px 1px rgba(60, 64, 67, 0.15);\n",
              "    fill: var(--button-hover-fill-color);\n",
              "  }\n",
              "\n",
              "  .colab-df-quickchart-complete:disabled,\n",
              "  .colab-df-quickchart-complete:disabled:hover {\n",
              "    background-color: var(--disabled-bg-color);\n",
              "    fill: var(--disabled-fill-color);\n",
              "    box-shadow: none;\n",
              "  }\n",
              "\n",
              "  .colab-df-spinner {\n",
              "    border: 2px solid var(--fill-color);\n",
              "    border-color: transparent;\n",
              "    border-bottom-color: var(--fill-color);\n",
              "    animation:\n",
              "      spin 1s steps(1) infinite;\n",
              "  }\n",
              "\n",
              "  @keyframes spin {\n",
              "    0% {\n",
              "      border-color: transparent;\n",
              "      border-bottom-color: var(--fill-color);\n",
              "      border-left-color: var(--fill-color);\n",
              "    }\n",
              "    20% {\n",
              "      border-color: transparent;\n",
              "      border-left-color: var(--fill-color);\n",
              "      border-top-color: var(--fill-color);\n",
              "    }\n",
              "    30% {\n",
              "      border-color: transparent;\n",
              "      border-left-color: var(--fill-color);\n",
              "      border-top-color: var(--fill-color);\n",
              "      border-right-color: var(--fill-color);\n",
              "    }\n",
              "    40% {\n",
              "      border-color: transparent;\n",
              "      border-right-color: var(--fill-color);\n",
              "      border-top-color: var(--fill-color);\n",
              "    }\n",
              "    60% {\n",
              "      border-color: transparent;\n",
              "      border-right-color: var(--fill-color);\n",
              "    }\n",
              "    80% {\n",
              "      border-color: transparent;\n",
              "      border-right-color: var(--fill-color);\n",
              "      border-bottom-color: var(--fill-color);\n",
              "    }\n",
              "    90% {\n",
              "      border-color: transparent;\n",
              "      border-bottom-color: var(--fill-color);\n",
              "    }\n",
              "  }\n",
              "</style>\n",
              "\n",
              "  <script>\n",
              "    async function quickchart(key) {\n",
              "      const quickchartButtonEl =\n",
              "        document.querySelector('#' + key + ' button');\n",
              "      quickchartButtonEl.disabled = true;  // To prevent multiple clicks.\n",
              "      quickchartButtonEl.classList.add('colab-df-spinner');\n",
              "      try {\n",
              "        const charts = await google.colab.kernel.invokeFunction(\n",
              "            'suggestCharts', [key], {});\n",
              "      } catch (error) {\n",
              "        console.error('Error during call to suggestCharts:', error);\n",
              "      }\n",
              "      quickchartButtonEl.classList.remove('colab-df-spinner');\n",
              "      quickchartButtonEl.classList.add('colab-df-quickchart-complete');\n",
              "    }\n",
              "    (() => {\n",
              "      let quickchartButtonEl =\n",
              "        document.querySelector('#df-27a81f26-29ab-4948-a6a5-51928f9f3c6c button');\n",
              "      quickchartButtonEl.style.display =\n",
              "        google.colab.kernel.accessAllowed ? 'block' : 'none';\n",
              "    })();\n",
              "  </script>\n",
              "</div>\n",
              "    </div>\n",
              "  </div>\n"
            ]
          },
          "metadata": {},
          "execution_count": 32
        }
      ],
      "source": [
        "data = pd.read_csv(path_to_dataset, encoding='ISO-8859-1')\n",
        "data"
      ]
    },
    {
      "cell_type": "code",
      "execution_count": 33,
      "metadata": {
        "id": "teZz7wOETVhN"
      },
      "outputs": [],
      "source": [
        "# List of columns to drop\n",
        "columns_to_drop = ['Unnamed: 2', 'Unnamed: 3', 'Unnamed: 4']\n",
        "\n",
        "# drop the specified columns\n",
        "data = data.drop(columns = columns_to_drop)\n",
        "\n",
        "# rename 'v1' to 'label' and 'v2' to 'text'\n",
        "data = data.rename(columns={'v1': 'label', 'v2': 'text'})"
      ]
    },
    {
      "cell_type": "code",
      "execution_count": 34,
      "metadata": {
        "id": "mCeDon6pTdY0",
        "colab": {
          "base_uri": "https://localhost:8080/",
          "height": 206
        },
        "outputId": "85b23d5b-b010-4d22-bd22-8712b43d8515"
      },
      "outputs": [
        {
          "output_type": "execute_result",
          "data": {
            "text/plain": [
              "  label                                               text\n",
              "0   ham  Go until jurong point, crazy.. Available only ...\n",
              "1   ham                      Ok lar... Joking wif u oni...\n",
              "2  spam  Free entry in 2 a wkly comp to win FA Cup fina...\n",
              "3   ham  U dun say so early hor... U c already then say...\n",
              "4   ham  Nah I don't think he goes to usf, he lives aro..."
            ],
            "text/html": [
              "\n",
              "  <div id=\"df-8c3e57e0-ce63-4387-8ef4-bd481ea670ca\" class=\"colab-df-container\">\n",
              "    <div>\n",
              "<style scoped>\n",
              "    .dataframe tbody tr th:only-of-type {\n",
              "        vertical-align: middle;\n",
              "    }\n",
              "\n",
              "    .dataframe tbody tr th {\n",
              "        vertical-align: top;\n",
              "    }\n",
              "\n",
              "    .dataframe thead th {\n",
              "        text-align: right;\n",
              "    }\n",
              "</style>\n",
              "<table border=\"1\" class=\"dataframe\">\n",
              "  <thead>\n",
              "    <tr style=\"text-align: right;\">\n",
              "      <th></th>\n",
              "      <th>label</th>\n",
              "      <th>text</th>\n",
              "    </tr>\n",
              "  </thead>\n",
              "  <tbody>\n",
              "    <tr>\n",
              "      <th>0</th>\n",
              "      <td>ham</td>\n",
              "      <td>Go until jurong point, crazy.. Available only ...</td>\n",
              "    </tr>\n",
              "    <tr>\n",
              "      <th>1</th>\n",
              "      <td>ham</td>\n",
              "      <td>Ok lar... Joking wif u oni...</td>\n",
              "    </tr>\n",
              "    <tr>\n",
              "      <th>2</th>\n",
              "      <td>spam</td>\n",
              "      <td>Free entry in 2 a wkly comp to win FA Cup fina...</td>\n",
              "    </tr>\n",
              "    <tr>\n",
              "      <th>3</th>\n",
              "      <td>ham</td>\n",
              "      <td>U dun say so early hor... U c already then say...</td>\n",
              "    </tr>\n",
              "    <tr>\n",
              "      <th>4</th>\n",
              "      <td>ham</td>\n",
              "      <td>Nah I don't think he goes to usf, he lives aro...</td>\n",
              "    </tr>\n",
              "  </tbody>\n",
              "</table>\n",
              "</div>\n",
              "    <div class=\"colab-df-buttons\">\n",
              "\n",
              "  <div class=\"colab-df-container\">\n",
              "    <button class=\"colab-df-convert\" onclick=\"convertToInteractive('df-8c3e57e0-ce63-4387-8ef4-bd481ea670ca')\"\n",
              "            title=\"Convert this dataframe to an interactive table.\"\n",
              "            style=\"display:none;\">\n",
              "\n",
              "  <svg xmlns=\"http://www.w3.org/2000/svg\" height=\"24px\" viewBox=\"0 -960 960 960\">\n",
              "    <path d=\"M120-120v-720h720v720H120Zm60-500h600v-160H180v160Zm220 220h160v-160H400v160Zm0 220h160v-160H400v160ZM180-400h160v-160H180v160Zm440 0h160v-160H620v160ZM180-180h160v-160H180v160Zm440 0h160v-160H620v160Z\"/>\n",
              "  </svg>\n",
              "    </button>\n",
              "\n",
              "  <style>\n",
              "    .colab-df-container {\n",
              "      display:flex;\n",
              "      gap: 12px;\n",
              "    }\n",
              "\n",
              "    .colab-df-convert {\n",
              "      background-color: #E8F0FE;\n",
              "      border: none;\n",
              "      border-radius: 50%;\n",
              "      cursor: pointer;\n",
              "      display: none;\n",
              "      fill: #1967D2;\n",
              "      height: 32px;\n",
              "      padding: 0 0 0 0;\n",
              "      width: 32px;\n",
              "    }\n",
              "\n",
              "    .colab-df-convert:hover {\n",
              "      background-color: #E2EBFA;\n",
              "      box-shadow: 0px 1px 2px rgba(60, 64, 67, 0.3), 0px 1px 3px 1px rgba(60, 64, 67, 0.15);\n",
              "      fill: #174EA6;\n",
              "    }\n",
              "\n",
              "    .colab-df-buttons div {\n",
              "      margin-bottom: 4px;\n",
              "    }\n",
              "\n",
              "    [theme=dark] .colab-df-convert {\n",
              "      background-color: #3B4455;\n",
              "      fill: #D2E3FC;\n",
              "    }\n",
              "\n",
              "    [theme=dark] .colab-df-convert:hover {\n",
              "      background-color: #434B5C;\n",
              "      box-shadow: 0px 1px 3px 1px rgba(0, 0, 0, 0.15);\n",
              "      filter: drop-shadow(0px 1px 2px rgba(0, 0, 0, 0.3));\n",
              "      fill: #FFFFFF;\n",
              "    }\n",
              "  </style>\n",
              "\n",
              "    <script>\n",
              "      const buttonEl =\n",
              "        document.querySelector('#df-8c3e57e0-ce63-4387-8ef4-bd481ea670ca button.colab-df-convert');\n",
              "      buttonEl.style.display =\n",
              "        google.colab.kernel.accessAllowed ? 'block' : 'none';\n",
              "\n",
              "      async function convertToInteractive(key) {\n",
              "        const element = document.querySelector('#df-8c3e57e0-ce63-4387-8ef4-bd481ea670ca');\n",
              "        const dataTable =\n",
              "          await google.colab.kernel.invokeFunction('convertToInteractive',\n",
              "                                                    [key], {});\n",
              "        if (!dataTable) return;\n",
              "\n",
              "        const docLinkHtml = 'Like what you see? Visit the ' +\n",
              "          '<a target=\"_blank\" href=https://colab.research.google.com/notebooks/data_table.ipynb>data table notebook</a>'\n",
              "          + ' to learn more about interactive tables.';\n",
              "        element.innerHTML = '';\n",
              "        dataTable['output_type'] = 'display_data';\n",
              "        await google.colab.output.renderOutput(dataTable, element);\n",
              "        const docLink = document.createElement('div');\n",
              "        docLink.innerHTML = docLinkHtml;\n",
              "        element.appendChild(docLink);\n",
              "      }\n",
              "    </script>\n",
              "  </div>\n",
              "\n",
              "\n",
              "<div id=\"df-5f7a2e21-0950-4a73-bf61-8662d461354c\">\n",
              "  <button class=\"colab-df-quickchart\" onclick=\"quickchart('df-5f7a2e21-0950-4a73-bf61-8662d461354c')\"\n",
              "            title=\"Suggest charts.\"\n",
              "            style=\"display:none;\">\n",
              "\n",
              "<svg xmlns=\"http://www.w3.org/2000/svg\" height=\"24px\"viewBox=\"0 0 24 24\"\n",
              "     width=\"24px\">\n",
              "    <g>\n",
              "        <path d=\"M19 3H5c-1.1 0-2 .9-2 2v14c0 1.1.9 2 2 2h14c1.1 0 2-.9 2-2V5c0-1.1-.9-2-2-2zM9 17H7v-7h2v7zm4 0h-2V7h2v10zm4 0h-2v-4h2v4z\"/>\n",
              "    </g>\n",
              "</svg>\n",
              "  </button>\n",
              "\n",
              "<style>\n",
              "  .colab-df-quickchart {\n",
              "      --bg-color: #E8F0FE;\n",
              "      --fill-color: #1967D2;\n",
              "      --hover-bg-color: #E2EBFA;\n",
              "      --hover-fill-color: #174EA6;\n",
              "      --disabled-fill-color: #AAA;\n",
              "      --disabled-bg-color: #DDD;\n",
              "  }\n",
              "\n",
              "  [theme=dark] .colab-df-quickchart {\n",
              "      --bg-color: #3B4455;\n",
              "      --fill-color: #D2E3FC;\n",
              "      --hover-bg-color: #434B5C;\n",
              "      --hover-fill-color: #FFFFFF;\n",
              "      --disabled-bg-color: #3B4455;\n",
              "      --disabled-fill-color: #666;\n",
              "  }\n",
              "\n",
              "  .colab-df-quickchart {\n",
              "    background-color: var(--bg-color);\n",
              "    border: none;\n",
              "    border-radius: 50%;\n",
              "    cursor: pointer;\n",
              "    display: none;\n",
              "    fill: var(--fill-color);\n",
              "    height: 32px;\n",
              "    padding: 0;\n",
              "    width: 32px;\n",
              "  }\n",
              "\n",
              "  .colab-df-quickchart:hover {\n",
              "    background-color: var(--hover-bg-color);\n",
              "    box-shadow: 0 1px 2px rgba(60, 64, 67, 0.3), 0 1px 3px 1px rgba(60, 64, 67, 0.15);\n",
              "    fill: var(--button-hover-fill-color);\n",
              "  }\n",
              "\n",
              "  .colab-df-quickchart-complete:disabled,\n",
              "  .colab-df-quickchart-complete:disabled:hover {\n",
              "    background-color: var(--disabled-bg-color);\n",
              "    fill: var(--disabled-fill-color);\n",
              "    box-shadow: none;\n",
              "  }\n",
              "\n",
              "  .colab-df-spinner {\n",
              "    border: 2px solid var(--fill-color);\n",
              "    border-color: transparent;\n",
              "    border-bottom-color: var(--fill-color);\n",
              "    animation:\n",
              "      spin 1s steps(1) infinite;\n",
              "  }\n",
              "\n",
              "  @keyframes spin {\n",
              "    0% {\n",
              "      border-color: transparent;\n",
              "      border-bottom-color: var(--fill-color);\n",
              "      border-left-color: var(--fill-color);\n",
              "    }\n",
              "    20% {\n",
              "      border-color: transparent;\n",
              "      border-left-color: var(--fill-color);\n",
              "      border-top-color: var(--fill-color);\n",
              "    }\n",
              "    30% {\n",
              "      border-color: transparent;\n",
              "      border-left-color: var(--fill-color);\n",
              "      border-top-color: var(--fill-color);\n",
              "      border-right-color: var(--fill-color);\n",
              "    }\n",
              "    40% {\n",
              "      border-color: transparent;\n",
              "      border-right-color: var(--fill-color);\n",
              "      border-top-color: var(--fill-color);\n",
              "    }\n",
              "    60% {\n",
              "      border-color: transparent;\n",
              "      border-right-color: var(--fill-color);\n",
              "    }\n",
              "    80% {\n",
              "      border-color: transparent;\n",
              "      border-right-color: var(--fill-color);\n",
              "      border-bottom-color: var(--fill-color);\n",
              "    }\n",
              "    90% {\n",
              "      border-color: transparent;\n",
              "      border-bottom-color: var(--fill-color);\n",
              "    }\n",
              "  }\n",
              "</style>\n",
              "\n",
              "  <script>\n",
              "    async function quickchart(key) {\n",
              "      const quickchartButtonEl =\n",
              "        document.querySelector('#' + key + ' button');\n",
              "      quickchartButtonEl.disabled = true;  // To prevent multiple clicks.\n",
              "      quickchartButtonEl.classList.add('colab-df-spinner');\n",
              "      try {\n",
              "        const charts = await google.colab.kernel.invokeFunction(\n",
              "            'suggestCharts', [key], {});\n",
              "      } catch (error) {\n",
              "        console.error('Error during call to suggestCharts:', error);\n",
              "      }\n",
              "      quickchartButtonEl.classList.remove('colab-df-spinner');\n",
              "      quickchartButtonEl.classList.add('colab-df-quickchart-complete');\n",
              "    }\n",
              "    (() => {\n",
              "      let quickchartButtonEl =\n",
              "        document.querySelector('#df-5f7a2e21-0950-4a73-bf61-8662d461354c button');\n",
              "      quickchartButtonEl.style.display =\n",
              "        google.colab.kernel.accessAllowed ? 'block' : 'none';\n",
              "    })();\n",
              "  </script>\n",
              "</div>\n",
              "    </div>\n",
              "  </div>\n"
            ]
          },
          "metadata": {},
          "execution_count": 34
        }
      ],
      "source": [
        "data.head()"
      ]
    },
    {
      "cell_type": "code",
      "execution_count": 35,
      "metadata": {
        "id": "ckQet0QUWwSL"
      },
      "outputs": [],
      "source": [
        "labels = LabelEncoder().fit_transform(data['label'])\n",
        "texts = data['text']"
      ]
    },
    {
      "cell_type": "code",
      "execution_count": 36,
      "metadata": {
        "id": "cKsJXwioW_m9"
      },
      "outputs": [],
      "source": [
        "# Split the data into train, validation, and test sets\n",
        "train_texts, temp_texts, train_labels, temp_labels = train_test_split(texts, labels, stratify = labels, test_size = 0.2, random_state = 42)\n",
        "val_texts, test_texts, val_labels, test_labels = train_test_split(temp_texts, temp_labels, stratify = temp_labels, test_size = 0.5, random_state = 42)"
      ]
    },
    {
      "cell_type": "code",
      "execution_count": 37,
      "metadata": {
        "id": "uWWc9czvXAqA"
      },
      "outputs": [],
      "source": [
        "# Load the BERT tokenizer and encode the text data\n",
        "tokenizer = BertTokenizer.from_pretrained('bert-base-uncased')\n",
        "\n",
        "train_encodings = tokenizer(train_texts.tolist(), truncation = True, padding = True, return_tensors = 'pt', max_length = 512)\n",
        "val_encodings = tokenizer(val_texts.tolist(), truncation = True, padding = True, return_tensors = 'pt', max_length = 512)\n",
        "test_encodings = tokenizer(test_texts.tolist(), truncation = True, padding = True, return_tensors = 'pt', max_length = 512)"
      ]
    },
    {
      "cell_type": "code",
      "execution_count": 38,
      "metadata": {
        "id": "wY5XntBFXLkh"
      },
      "outputs": [],
      "source": [
        "# Create PyTorch data loaders\n",
        "train_dataset = TensorDataset(train_encodings['input_ids'], train_encodings['attention_mask'], torch.tensor(train_labels))\n",
        "val_dataset = TensorDataset(val_encodings['input_ids'], val_encodings['attention_mask'], torch.tensor(val_labels))\n",
        "test_dataset = TensorDataset(test_encodings['input_ids'], test_encodings['attention_mask'], torch.tensor(test_labels))\n",
        "\n",
        "train_loader = DataLoader(train_dataset, batch_size= 32, shuffle = True)\n",
        "val_loader = DataLoader(val_dataset, batch_size = 16)\n",
        "test_loader = DataLoader(test_dataset, batch_size = 16)"
      ]
    },
    {
      "cell_type": "code",
      "execution_count": 39,
      "metadata": {
        "id": "INjBJ49pXSjq",
        "colab": {
          "base_uri": "https://localhost:8080/"
        },
        "outputId": "3285dccd-3fd8-49ed-fe6c-bca774415792"
      },
      "outputs": [
        {
          "output_type": "stream",
          "name": "stderr",
          "text": [
            "Some weights of BertForSequenceClassification were not initialized from the model checkpoint at bert-base-uncased and are newly initialized: ['classifier.weight', 'classifier.bias']\n",
            "You should probably TRAIN this model on a down-stream task to be able to use it for predictions and inference.\n"
          ]
        }
      ],
      "source": [
        "# Load the pre-trained BERT model for sequence classification\n",
        "model = BertForSequenceClassification.from_pretrained('bert-base-uncased', num_labels = 2)"
      ]
    },
    {
      "cell_type": "code",
      "execution_count": 40,
      "metadata": {
        "id": "0f0bRDeeXUOb",
        "colab": {
          "base_uri": "https://localhost:8080/"
        },
        "outputId": "cd7eb2cd-aa20-4a0b-ba8e-d107bcb17ff0"
      },
      "outputs": [
        {
          "output_type": "stream",
          "name": "stderr",
          "text": [
            "/usr/local/lib/python3.10/dist-packages/transformers/optimization.py:411: FutureWarning: This implementation of AdamW is deprecated and will be removed in a future version. Use the PyTorch implementation torch.optim.AdamW instead, or set `no_deprecation_warning=True` to disable this warning\n",
            "  warnings.warn(\n"
          ]
        },
        {
          "output_type": "execute_result",
          "data": {
            "text/plain": [
              "BertForSequenceClassification(\n",
              "  (bert): BertModel(\n",
              "    (embeddings): BertEmbeddings(\n",
              "      (word_embeddings): Embedding(30522, 768, padding_idx=0)\n",
              "      (position_embeddings): Embedding(512, 768)\n",
              "      (token_type_embeddings): Embedding(2, 768)\n",
              "      (LayerNorm): LayerNorm((768,), eps=1e-12, elementwise_affine=True)\n",
              "      (dropout): Dropout(p=0.1, inplace=False)\n",
              "    )\n",
              "    (encoder): BertEncoder(\n",
              "      (layer): ModuleList(\n",
              "        (0-11): 12 x BertLayer(\n",
              "          (attention): BertAttention(\n",
              "            (self): BertSelfAttention(\n",
              "              (query): Linear(in_features=768, out_features=768, bias=True)\n",
              "              (key): Linear(in_features=768, out_features=768, bias=True)\n",
              "              (value): Linear(in_features=768, out_features=768, bias=True)\n",
              "              (dropout): Dropout(p=0.1, inplace=False)\n",
              "            )\n",
              "            (output): BertSelfOutput(\n",
              "              (dense): Linear(in_features=768, out_features=768, bias=True)\n",
              "              (LayerNorm): LayerNorm((768,), eps=1e-12, elementwise_affine=True)\n",
              "              (dropout): Dropout(p=0.1, inplace=False)\n",
              "            )\n",
              "          )\n",
              "          (intermediate): BertIntermediate(\n",
              "            (dense): Linear(in_features=768, out_features=3072, bias=True)\n",
              "            (intermediate_act_fn): GELUActivation()\n",
              "          )\n",
              "          (output): BertOutput(\n",
              "            (dense): Linear(in_features=3072, out_features=768, bias=True)\n",
              "            (LayerNorm): LayerNorm((768,), eps=1e-12, elementwise_affine=True)\n",
              "            (dropout): Dropout(p=0.1, inplace=False)\n",
              "          )\n",
              "        )\n",
              "      )\n",
              "    )\n",
              "    (pooler): BertPooler(\n",
              "      (dense): Linear(in_features=768, out_features=768, bias=True)\n",
              "      (activation): Tanh()\n",
              "    )\n",
              "  )\n",
              "  (dropout): Dropout(p=0.1, inplace=False)\n",
              "  (classifier): Linear(in_features=768, out_features=2, bias=True)\n",
              ")"
            ]
          },
          "metadata": {},
          "execution_count": 40
        }
      ],
      "source": [
        "# Define training parameters\n",
        "optimizer = AdamW(model.parameters(), lr = 1e-5)\n",
        "device = torch.device(\"cuda\" if torch.cuda.is_available() else \"cpu\")\n",
        "model.to(device)"
      ]
    },
    {
      "cell_type": "code",
      "execution_count": 41,
      "metadata": {
        "id": "lRpnvcwCWqAD",
        "colab": {
          "base_uri": "https://localhost:8080/",
          "height": 117,
          "referenced_widgets": [
            "675af2f923e648248e767432344d4101",
            "760f11e1a59e412682ff82994a6212fc",
            "eeef1c5c7de84f3d94afe002791ef9bb",
            "58f616d46a344ab38cf212cfd2317ead",
            "70a0b6c742a141b680a9c8d0c1761029",
            "8811c0c4e5fe490a97c6f520456f65fa",
            "e7e44f80233f4db78f771e1c258c10b1",
            "fbce9afe32fa4fc2ba7577bbc8397b9c",
            "2a379f992fa14e50be9864068fdb5ed3",
            "e4c47d6ccb7f4b158dd4a72374613c2f",
            "88dcee27347346d2a53b33e2d17a5b56",
            "b61db86000eb4286945f425a3e27844f",
            "698b7ac180114a9381a516676135967d",
            "318ec6c3d52348129183119f5dafe980",
            "08ed581ab2d34a0ea68b7fc56f6c4bc7",
            "825fcad0a85148389ea88adf3c21f290",
            "6feabd324b6d4079889f078b0a7aa941",
            "e17cf3aff59c43ae9f2ebc2b5563e224",
            "9676a62dca4c4cb0a6bf1ee9c52a2455",
            "530ffc1c16d143759a6c1253323fb2d5",
            "3ec17b58ffc54a039c368fe3ea3f4f5c",
            "af43b7d3abaa46e1983ae3e15f959c60"
          ]
        },
        "outputId": "7a61dfb4-7136-4832-d201-6657eb55ca42"
      },
      "outputs": [
        {
          "output_type": "display_data",
          "data": {
            "text/plain": [
              "Epoch 1:   0%|          | 0/140 [00:00<?, ?it/s]"
            ],
            "application/vnd.jupyter.widget-view+json": {
              "version_major": 2,
              "version_minor": 0,
              "model_id": "675af2f923e648248e767432344d4101"
            }
          },
          "metadata": {}
        },
        {
          "output_type": "stream",
          "name": "stdout",
          "text": [
            "Average training loss: 0.1526\n"
          ]
        },
        {
          "output_type": "display_data",
          "data": {
            "text/plain": [
              "Epoch 2:   0%|          | 0/140 [00:00<?, ?it/s]"
            ],
            "application/vnd.jupyter.widget-view+json": {
              "version_major": 2,
              "version_minor": 0,
              "model_id": "b61db86000eb4286945f425a3e27844f"
            }
          },
          "metadata": {}
        },
        {
          "output_type": "stream",
          "name": "stdout",
          "text": [
            "Average training loss: 0.0318\n"
          ]
        }
      ],
      "source": [
        "# Training loop\n",
        "num_epochs = 2\n",
        "\n",
        "for epoch in range(num_epochs):\n",
        "    model.train()\n",
        "    total_loss = 0\n",
        "    for batch in tqdm(train_loader, desc=\"Epoch {}\".format(epoch+1)):\n",
        "        input_ids, attention_mask, labels = batch\n",
        "        input_ids, attention_mask, labels = input_ids.to(device), attention_mask.to(device), labels.to(device)\n",
        "\n",
        "        optimizer.zero_grad()\n",
        "        outputs = model(input_ids, attention_mask=attention_mask, labels=labels)\n",
        "        loss = outputs.loss\n",
        "        total_loss += loss.item()\n",
        "        loss.backward()\n",
        "        optimizer.step()\n",
        "\n",
        "    average_loss = total_loss / len(train_loader)\n",
        "    print(\"Average training loss: {:.4f}\".format(average_loss))"
      ]
    },
    {
      "cell_type": "code",
      "execution_count": null,
      "metadata": {
        "id": "4UxhjpyYXdXl",
        "colab": {
          "base_uri": "https://localhost:8080/",
          "height": 66,
          "referenced_widgets": [
            "9e3fbfadc17e43b68121bbb0b6ebffa8",
            "ced99ad311f0461ba614f61879e5e0da",
            "66d99a5abe0a4b51ac47aa5298de9d11",
            "c23c4fbb8b4d4f7ba81723d0ca019d3f",
            "1db42112172848ed8ebc2753baec58ce",
            "5ada0af9a27f4e6dbacfe411f1c0f774",
            "87ba7e8d1763470b939febe5a682bfcf",
            "f741d15a467a4d2083528b814e824cfd",
            "601be2a2dd78435eab9eb3a7d907c518",
            "a8f85c12d548444e8ea18fda4aa1670c",
            "0402ff451bc44d839363e9aa15b6b311"
          ]
        },
        "outputId": "5bcb6254-60e9-4b47-a968-4efdd137f3f9"
      },
      "outputs": [
        {
          "output_type": "display_data",
          "data": {
            "text/plain": [
              "Validation:   0%|          | 0/35 [00:00<?, ?it/s]"
            ],
            "application/vnd.jupyter.widget-view+json": {
              "version_major": 2,
              "version_minor": 0,
              "model_id": "9e3fbfadc17e43b68121bbb0b6ebffa8"
            }
          },
          "metadata": {}
        },
        {
          "output_type": "stream",
          "name": "stdout",
          "text": [
            "Validation Accuracy: 99.10%\n"
          ]
        }
      ],
      "source": [
        "# Evaluation\n",
        "model.eval()\n",
        "val_predictions = []\n",
        "val_labels = []\n",
        "\n",
        "for batch in tqdm(val_loader, desc=\"Validation\"):\n",
        "    input_ids, attention_mask, labels = batch\n",
        "    input_ids, attention_mask, labels = input_ids.to(device), attention_mask.to(device), labels.to(device)\n",
        "\n",
        "    with torch.no_grad():\n",
        "        outputs = model(input_ids, attention_mask=attention_mask)\n",
        "\n",
        "    logits = outputs.logits\n",
        "    predictions = torch.argmax(logits, dim=1).cpu().numpy()\n",
        "    val_predictions.extend(predictions)\n",
        "    val_labels.extend(labels.cpu().numpy())\n",
        "\n",
        "accuracy = accuracy_score(val_labels, val_predictions)\n",
        "print(\"Validation Accuracy: {:.2f}%\".format(accuracy * 100))"
      ]
    },
    {
      "cell_type": "code",
      "execution_count": null,
      "metadata": {
        "id": "pvzGTrdgXe5H",
        "colab": {
          "base_uri": "https://localhost:8080/",
          "height": 66,
          "referenced_widgets": [
            "99e786f642344413be919795384a9066",
            "c6e9bcb5df3d41168169f28f2dfa377a",
            "76732d9c40b04e5e811128f7879ad219",
            "f509ebcdefdd40188aa4cee091bcc210",
            "91ed497d4fbb44d88038172f91c3bac1",
            "2025b641dc514c7e9a0f438c3c33b58a",
            "2b22dba6ddf94fdb8e3abeeb2a149503",
            "95b5c7e9c936414bbf4be8bf47aeef17",
            "50323c3f9d494b71bde18b7c9a9747a7",
            "3055af55723a47168841b5947f3cd7f1",
            "8f0a4ff01c314d0498a46b313c529503"
          ]
        },
        "outputId": "d3cb6c1b-7a5e-4523-b9cb-4f12a7b80e48"
      },
      "outputs": [
        {
          "output_type": "display_data",
          "data": {
            "text/plain": [
              "Testing:   0%|          | 0/35 [00:00<?, ?it/s]"
            ],
            "application/vnd.jupyter.widget-view+json": {
              "version_major": 2,
              "version_minor": 0,
              "model_id": "99e786f642344413be919795384a9066"
            }
          },
          "metadata": {}
        },
        {
          "output_type": "stream",
          "name": "stdout",
          "text": [
            "Test Accuracy: 98.92%\n"
          ]
        }
      ],
      "source": [
        "# Test the model on the test set\n",
        "test_predictions = []\n",
        "test_labels = []\n",
        "\n",
        "for batch in tqdm(test_loader, desc=\"Testing\"):\n",
        "    input_ids, attention_mask, labels = batch\n",
        "    input_ids, attention_mask, labels = input_ids.to(device), attention_mask.to(device), labels.to(device)\n",
        "\n",
        "    with torch.no_grad():\n",
        "        outputs = model(input_ids, attention_mask=attention_mask)\n",
        "\n",
        "    logits = outputs.logits\n",
        "    predictions = torch.argmax(logits, dim=1).cpu().numpy()\n",
        "    test_predictions.extend(predictions)\n",
        "    test_labels.extend(labels.cpu().numpy())\n",
        "\n",
        "test_accuracy = accuracy_score(test_labels, test_predictions)\n",
        "print(\"Test Accuracy: {:.2f}%\".format(test_accuracy * 100))"
      ]
    },
    {
      "cell_type": "code",
      "execution_count": 42,
      "metadata": {
        "id": "OGkv_XRAXjt9"
      },
      "outputs": [],
      "source": [
        "# After training, extract embeddings\n",
        "\n",
        "import numpy as np\n",
        "\n",
        "def extract_bert_embeddings(model, dataloader):\n",
        "    embeddings = []\n",
        "\n",
        "    model.eval()\n",
        "    with torch.no_grad():\n",
        "        for batch in dataloader:\n",
        "            input_ids, attention_mask, _ = batch\n",
        "            input_ids, attention_mask = input_ids.to(device), attention_mask.to(device)\n",
        "\n",
        "            outputs = model(input_ids, attention_mask=attention_mask)\n",
        "            pooled_output = outputs.logits  # Get the pooled output, which is the embedding for [CLS] token\n",
        "            embeddings.append(pooled_output.cpu().numpy())\n",
        "\n",
        "    embeddings = np.vstack(embeddings)\n",
        "    return embeddings"
      ]
    },
    {
      "cell_type": "code",
      "execution_count": 43,
      "metadata": {
        "id": "hlA5-I32XmMh"
      },
      "outputs": [],
      "source": [
        "# Extract embeddings for train, validation, and test sets\n",
        "train_embeddings = extract_bert_embeddings(model, train_loader)\n",
        "val_embeddings = extract_bert_embeddings(model, val_loader)\n",
        "test_embeddings = extract_bert_embeddings(model, test_loader)"
      ]
    },
    {
      "cell_type": "code",
      "execution_count": 44,
      "metadata": {
        "id": "0SVfiINWaQPQ",
        "colab": {
          "base_uri": "https://localhost:8080/"
        },
        "outputId": "c4643906-349d-479b-8af1-917a0374134b"
      },
      "outputs": [
        {
          "output_type": "execute_result",
          "data": {
            "text/plain": [
              "array([[-2.4921439,  2.4942746],\n",
              "       [ 2.9128332, -2.7602217],\n",
              "       [ 3.0440102, -2.8486948],\n",
              "       ...,\n",
              "       [ 3.0164921, -2.9879208],\n",
              "       [-2.4487917,  2.511305 ],\n",
              "       [ 2.881147 , -2.6458378]], dtype=float32)"
            ]
          },
          "metadata": {},
          "execution_count": 44
        }
      ],
      "source": [
        "train_embeddings"
      ]
    },
    {
      "cell_type": "code",
      "execution_count": 45,
      "metadata": {
        "id": "pdG06HqaXndM"
      },
      "outputs": [],
      "source": [
        "# Save embeddings to files (you can choose your desired format)\n",
        "np.save('train_embeddings.npy', train_embeddings)\n",
        "np.save('val_embeddings.npy', val_embeddings)\n",
        "np.save('test_embeddings.npy', test_embeddings)"
      ]
    },
    {
      "cell_type": "code",
      "source": [],
      "metadata": {
        "id": "fZBjHI7F_UjZ"
      },
      "execution_count": null,
      "outputs": []
    },
    {
      "cell_type": "markdown",
      "source": [
        "## Lab Task 2: Vectorization and Classification"
      ],
      "metadata": {
        "id": "Apqzfy7PFFCp"
      }
    },
    {
      "cell_type": "markdown",
      "metadata": {
        "id": "m_PS4X7vUyH-"
      },
      "source": [
        "### Lab Task 2.1: Vectorization using Bag of Words, TF-IDF, and Word2Vec (Skip-Gram)"
      ]
    },
    {
      "cell_type": "code",
      "source": [
        "from gensim.models import Word2Vec\n",
        "\n",
        "spam_df = pd.read_csv(path_to_dataset, encoding='ISO-8859-1')\n",
        "\n",
        "# List of columns to drop\n",
        "columns_to_drop = ['Unnamed: 2', 'Unnamed: 3', 'Unnamed: 4']\n",
        "\n",
        "# drop the specified columns\n",
        "spam_df = spam_df.drop(columns = columns_to_drop)\n",
        "\n",
        "# rename 'v1' to 'label' and 'v2' to 'text'\n",
        "spam_df = spam_df.rename(columns={'v1': 'label', 'v2': 'text'})\n",
        "\n",
        "# Tokenizing the processed text for Word2Vec\n",
        "tokenized_texts = [text.split() for text in spam_df['text']]\n",
        "\n",
        "# Training the Word2Vec model\n",
        "model = Word2Vec(sentences=tokenized_texts, vector_size=100, window=5, min_count=1, workers=4)\n",
        "model.save(\"word2vec_model.model\")\n",
        "\n",
        "# To get the vector for a specific word\n",
        "# vector = model.wv['example_word']\n"
      ],
      "metadata": {
        "id": "5cNOvvrLSEDP"
      },
      "execution_count": 46,
      "outputs": []
    },
    {
      "cell_type": "code",
      "execution_count": 86,
      "metadata": {
        "id": "ZKxW2PZuo_7H",
        "colab": {
          "base_uri": "https://localhost:8080/"
        },
        "outputId": "051e650d-1193-4f91-9f0d-bb58f5f3c95e"
      },
      "outputs": [
        {
          "output_type": "stream",
          "name": "stdout",
          "text": [
            "['00' '000' '000pes' ... 'ûïharry' 'ûò' 'ûówell']\n"
          ]
        }
      ],
      "source": [
        "# 1. Transform the messages into Vectors using Bag of Words, TF-IDF, and Word2Vec (Skip-Gram)\n",
        "\n",
        "# Bag of Words\n",
        "\n",
        "corpus = spam_df['text'].str.split(' ')\n",
        "bagOfWords = []\n",
        "for line in corpus:\n",
        "  a = (\" \".join([alpha for alpha in line]))\n",
        "  bagOfWords.append(a)\n",
        "\n",
        "vectorizer = CountVectorizer()\n",
        "X = vectorizer.fit_transform(bagOfWords)\n",
        "print(vectorizer.get_feature_names_out())"
      ]
    },
    {
      "cell_type": "code",
      "source": [
        "print(X)"
      ],
      "metadata": {
        "colab": {
          "base_uri": "https://localhost:8080/"
        },
        "id": "Xq4ifUSbdri_",
        "outputId": "951e54a8-097f-431d-fe99-3bc6c04fc269"
      },
      "execution_count": 87,
      "outputs": [
        {
          "output_type": "stream",
          "name": "stdout",
          "text": [
            "  (0, 3550)\t1\n",
            "  (0, 8030)\t1\n",
            "  (0, 4350)\t1\n",
            "  (0, 5920)\t1\n",
            "  (0, 2327)\t1\n",
            "  (0, 1303)\t1\n",
            "  (0, 5537)\t1\n",
            "  (0, 4087)\t1\n",
            "  (0, 1751)\t1\n",
            "  (0, 3634)\t1\n",
            "  (0, 8489)\t1\n",
            "  (0, 4476)\t1\n",
            "  (0, 1749)\t1\n",
            "  (0, 2048)\t1\n",
            "  (0, 7645)\t1\n",
            "  (0, 3594)\t1\n",
            "  (0, 1069)\t1\n",
            "  (0, 8267)\t1\n",
            "  (1, 5504)\t1\n",
            "  (1, 4512)\t1\n",
            "  (1, 4318)\t1\n",
            "  (1, 8392)\t1\n",
            "  (1, 5533)\t1\n",
            "  (2, 4087)\t1\n",
            "  (2, 3358)\t1\n",
            "  :\t:\n",
            "  (5570, 4218)\t1\n",
            "  (5570, 8313)\t1\n",
            "  (5570, 1084)\t1\n",
            "  (5570, 4615)\t1\n",
            "  (5570, 7039)\t1\n",
            "  (5570, 3308)\t1\n",
            "  (5570, 7627)\t1\n",
            "  (5570, 1438)\t1\n",
            "  (5570, 5334)\t1\n",
            "  (5570, 2592)\t1\n",
            "  (5570, 8065)\t1\n",
            "  (5570, 1778)\t1\n",
            "  (5570, 7049)\t1\n",
            "  (5570, 2892)\t1\n",
            "  (5570, 3470)\t1\n",
            "  (5570, 1786)\t1\n",
            "  (5570, 3687)\t1\n",
            "  (5570, 4161)\t1\n",
            "  (5570, 903)\t1\n",
            "  (5570, 1546)\t1\n",
            "  (5571, 7756)\t1\n",
            "  (5571, 5244)\t1\n",
            "  (5571, 4225)\t2\n",
            "  (5571, 7885)\t1\n",
            "  (5571, 6505)\t1\n"
          ]
        }
      ]
    },
    {
      "cell_type": "code",
      "source": [
        "# TF-IDF\n",
        "\n",
        "corpus = spam_df['text'].str.split(' ')\n",
        "bagOfWords = []\n",
        "for line in corpus:\n",
        "  a = (\" \".join([alpha for alpha in line]))\n",
        "  bagOfWords.append(a)\n",
        "\n",
        "vectorizer = TfidfVectorizer()\n",
        "X = vectorizer.fit_transform(bagOfWords)\n",
        "print(vectorizer.get_feature_names_out())"
      ],
      "metadata": {
        "colab": {
          "base_uri": "https://localhost:8080/"
        },
        "id": "n-IMlDJ5dkwX",
        "outputId": "7ff8197f-8aa6-498d-c6f1-70739af89ee5"
      },
      "execution_count": 88,
      "outputs": [
        {
          "output_type": "stream",
          "name": "stdout",
          "text": [
            "['00' '000' '000pes' ... 'ûïharry' 'ûò' 'ûówell']\n"
          ]
        }
      ]
    },
    {
      "cell_type": "code",
      "source": [
        "print(X)"
      ],
      "metadata": {
        "colab": {
          "base_uri": "https://localhost:8080/"
        },
        "id": "FbTtFvHjeHQf",
        "outputId": "00161908-56a2-4dd3-ab75-fdabd37a5ee8"
      },
      "execution_count": 89,
      "outputs": [
        {
          "output_type": "stream",
          "name": "stdout",
          "text": [
            "  (0, 8267)\t0.18238655630689804\n",
            "  (0, 1069)\t0.3264252905795869\n",
            "  (0, 3594)\t0.15318864840197105\n",
            "  (0, 7645)\t0.15566431601878158\n",
            "  (0, 2048)\t0.2757654045621182\n",
            "  (0, 1749)\t0.3116082237740733\n",
            "  (0, 4476)\t0.2757654045621182\n",
            "  (0, 8489)\t0.22080132794235655\n",
            "  (0, 3634)\t0.1803175103691124\n",
            "  (0, 1751)\t0.2757654045621182\n",
            "  (0, 4087)\t0.10720385321563428\n",
            "  (0, 5537)\t0.15618023117358304\n",
            "  (0, 1303)\t0.24415547176756056\n",
            "  (0, 2327)\t0.25279391746019725\n",
            "  (0, 5920)\t0.2553151503985779\n",
            "  (0, 4350)\t0.3264252905795869\n",
            "  (0, 8030)\t0.22998520738984352\n",
            "  (0, 3550)\t0.1481298737377147\n",
            "  (1, 5533)\t0.5465881710238072\n",
            "  (1, 8392)\t0.4316010362639011\n",
            "  (1, 4318)\t0.5236458071582338\n",
            "  (1, 4512)\t0.4082988561907181\n",
            "  (1, 5504)\t0.27211951321382544\n",
            "  (2, 77)\t0.23012628226525952\n",
            "  (2, 1156)\t0.16541257593676326\n",
            "  :\t:\n",
            "  (5570, 1786)\t0.2829205787072918\n",
            "  (5570, 3470)\t0.2752778321471703\n",
            "  (5570, 2892)\t0.24400995680638932\n",
            "  (5570, 7049)\t0.20534386872930602\n",
            "  (5570, 1778)\t0.1366456751602606\n",
            "  (5570, 8065)\t0.20880862098597563\n",
            "  (5570, 2592)\t0.1845863450431389\n",
            "  (5570, 5334)\t0.21003730857873565\n",
            "  (5570, 1438)\t0.1429585509124154\n",
            "  (5570, 7627)\t0.10242646659763288\n",
            "  (5570, 3308)\t0.12172172618634512\n",
            "  (5570, 7039)\t0.18426763178390448\n",
            "  (5570, 4615)\t0.15965529817341642\n",
            "  (5570, 1084)\t0.11225268140936365\n",
            "  (5570, 8313)\t0.18723687600522526\n",
            "  (5570, 4218)\t0.1224661019112692\n",
            "  (5570, 3781)\t0.17077863975758362\n",
            "  (5570, 7756)\t0.0837337985706596\n",
            "  (5570, 3358)\t0.15948934578787605\n",
            "  (5570, 4087)\t0.11172931760302046\n",
            "  (5571, 6505)\t0.5565029307246047\n",
            "  (5571, 7885)\t0.4275291317643216\n",
            "  (5571, 4225)\t0.5773238083586979\n",
            "  (5571, 5244)\t0.3900900272638623\n",
            "  (5571, 7756)\t0.14849350328973987\n"
          ]
        }
      ]
    },
    {
      "cell_type": "code",
      "source": [
        "# Word2Vec (Skip-Gram)\n",
        "\n",
        "\"\"\"Define model here\"\"\"\n",
        "\n",
        "# Use the Word2Vec model to convert messages to vectors\n",
        "def word2vec_transform(text, model):\n",
        "    word_vectors = []\n",
        "    for word in text.split():\n",
        "        if word in model.wv:\n",
        "            word_vectors.append(model.wv[word])\n",
        "    if not word_vectors:\n",
        "        # If no word vectors are found, return a vector of zeros\n",
        "        return [0] * model.vector_size\n",
        "    return np.mean(word_vectors, axis=0)\n",
        "\n",
        "spam_df['word2vec_vectors'] = spam_df['text'].apply(lambda x: word2vec_transform(x, model))\n",
        "\n",
        "# Split the dataset into training and testing sets\n",
        "X_word2vec = np.vstack(spam_df['word2vec_vectors'])"
      ],
      "metadata": {
        "id": "aj_efMXceE1U"
      },
      "execution_count": 90,
      "outputs": []
    },
    {
      "cell_type": "markdown",
      "metadata": {
        "id": "cZkuJw6EUk2q"
      },
      "source": [
        "### Lab Task 2.2: Encode Labels and Split the Dataset into Train and Test Sets"
      ]
    },
    {
      "cell_type": "code",
      "execution_count": 91,
      "metadata": {
        "id": "1yBOz9YfmPlq"
      },
      "outputs": [],
      "source": [
        "# 2. Encode the labels\n",
        "\n",
        "from sklearn.preprocessing import LabelEncoder\n",
        "\n",
        "# Encoding labels\n",
        "encoder = LabelEncoder()\n",
        "y = encoder.fit_transform(spam_df['label'])\n",
        "\n"
      ]
    },
    {
      "cell_type": "code",
      "source": [
        "from sklearn.feature_extraction.text import TfidfVectorizer\n",
        "\n",
        "# TF-IDF Vectorization\n",
        "tfidf_vectorizer = TfidfVectorizer(max_features=5000)  # Limiting to 5000 most frequent words for simplicity\n",
        "X_tfidf = tfidf_vectorizer.fit_transform(spam_df['text'])"
      ],
      "metadata": {
        "id": "KcSjQ343UDkp"
      },
      "execution_count": 92,
      "outputs": []
    },
    {
      "cell_type": "code",
      "execution_count": 93,
      "metadata": {
        "id": "gc3-LGPeY3A6"
      },
      "outputs": [],
      "source": [
        "# 3. Split the data into train and test sets for each of the vector representation. Test set should be 20% of the entire dataset.\n",
        "\n",
        "from sklearn.model_selection import train_test_split\n",
        "\n",
        "# Using TF-IDF vectors for this example, but you can replace with BoW or Word2Vec vectors as needed\n",
        "X_train, X_test, y_train, y_test = train_test_split(X_tfidf, y, test_size=0.2, random_state=42)"
      ]
    },
    {
      "cell_type": "markdown",
      "metadata": {
        "id": "W4ml_egD7HY7"
      },
      "source": [
        "### Lab Task 2.3: Train and Evaluate Models"
      ]
    },
    {
      "cell_type": "markdown",
      "metadata": {
        "id": "RR1seVAm7SFU"
      },
      "source": [
        "#### Logistic Regression:\n",
        "The logistic regression model is based on the logistic function, which is a type of S-shaped curve that maps any continuous input to a probability value between 0 and 1. The logistic function allows us to model the relationship between the independent variables and the probability of the dependent variable taking on the value of 1."
      ]
    },
    {
      "cell_type": "code",
      "execution_count": 94,
      "metadata": {
        "id": "QA9_Nq3J6mjW",
        "colab": {
          "base_uri": "https://localhost:8080/"
        },
        "outputId": "bfb579b9-9405-49a9-bb9f-f9e4749f8bb7"
      },
      "outputs": [
        {
          "output_type": "stream",
          "name": "stdout",
          "text": [
            "Accuracy: 0.96\n",
            "\n",
            "Classification Report:\n",
            "               precision    recall  f1-score   support\n",
            "\n",
            "           0       0.96      1.00      0.98       965\n",
            "           1       1.00      0.73      0.84       150\n",
            "\n",
            "    accuracy                           0.96      1115\n",
            "   macro avg       0.98      0.86      0.91      1115\n",
            "weighted avg       0.96      0.96      0.96      1115\n",
            "\n"
          ]
        }
      ],
      "source": [
        "# 4. Use Logistic Regression with all 3 vector types to predict whether the sms is spam or ham.\n",
        "\n",
        "from sklearn.linear_model import LogisticRegression\n",
        "from sklearn.metrics import accuracy_score, classification_report\n",
        "\n",
        "# Training a logistic regression model\n",
        "clf = LogisticRegression(max_iter=1000)\n",
        "clf.fit(X_train, y_train)\n",
        "\n",
        "# Predictions\n",
        "y_pred = clf.predict(X_test)\n",
        "\n",
        "# Evaluation\n",
        "accuracy = accuracy_score(y_test, y_pred)\n",
        "report = classification_report(y_test, y_pred)\n",
        "print(f\"Accuracy: {accuracy:.2f}\")\n",
        "print(\"\\nClassification Report:\\n\", report)\n",
        "\n"
      ]
    },
    {
      "cell_type": "code",
      "source": [],
      "metadata": {
        "id": "th6LozgUUVhc"
      },
      "execution_count": null,
      "outputs": []
    }
  ],
  "metadata": {
    "accelerator": "GPU",
    "colab": {
      "provenance": [],
      "gpuType": "T4"
    },
    "kernelspec": {
      "display_name": "Python 3",
      "name": "python3"
    },
    "language_info": {
      "codemirror_mode": {
        "name": "ipython",
        "version": 3
      },
      "file_extension": ".py",
      "mimetype": "text/x-python",
      "name": "python",
      "nbconvert_exporter": "python",
      "pygments_lexer": "ipython3",
      "version": "3.9.7"
    },
    "widgets": {
      "application/vnd.jupyter.widget-state+json": {
        "9e3fbfadc17e43b68121bbb0b6ebffa8": {
          "model_module": "@jupyter-widgets/controls",
          "model_name": "HBoxModel",
          "model_module_version": "1.5.0",
          "state": {
            "_dom_classes": [],
            "_model_module": "@jupyter-widgets/controls",
            "_model_module_version": "1.5.0",
            "_model_name": "HBoxModel",
            "_view_count": null,
            "_view_module": "@jupyter-widgets/controls",
            "_view_module_version": "1.5.0",
            "_view_name": "HBoxView",
            "box_style": "",
            "children": [
              "IPY_MODEL_ced99ad311f0461ba614f61879e5e0da",
              "IPY_MODEL_66d99a5abe0a4b51ac47aa5298de9d11",
              "IPY_MODEL_c23c4fbb8b4d4f7ba81723d0ca019d3f"
            ],
            "layout": "IPY_MODEL_1db42112172848ed8ebc2753baec58ce"
          }
        },
        "ced99ad311f0461ba614f61879e5e0da": {
          "model_module": "@jupyter-widgets/controls",
          "model_name": "HTMLModel",
          "model_module_version": "1.5.0",
          "state": {
            "_dom_classes": [],
            "_model_module": "@jupyter-widgets/controls",
            "_model_module_version": "1.5.0",
            "_model_name": "HTMLModel",
            "_view_count": null,
            "_view_module": "@jupyter-widgets/controls",
            "_view_module_version": "1.5.0",
            "_view_name": "HTMLView",
            "description": "",
            "description_tooltip": null,
            "layout": "IPY_MODEL_5ada0af9a27f4e6dbacfe411f1c0f774",
            "placeholder": "​",
            "style": "IPY_MODEL_87ba7e8d1763470b939febe5a682bfcf",
            "value": "Validation: 100%"
          }
        },
        "66d99a5abe0a4b51ac47aa5298de9d11": {
          "model_module": "@jupyter-widgets/controls",
          "model_name": "FloatProgressModel",
          "model_module_version": "1.5.0",
          "state": {
            "_dom_classes": [],
            "_model_module": "@jupyter-widgets/controls",
            "_model_module_version": "1.5.0",
            "_model_name": "FloatProgressModel",
            "_view_count": null,
            "_view_module": "@jupyter-widgets/controls",
            "_view_module_version": "1.5.0",
            "_view_name": "ProgressView",
            "bar_style": "success",
            "description": "",
            "description_tooltip": null,
            "layout": "IPY_MODEL_f741d15a467a4d2083528b814e824cfd",
            "max": 35,
            "min": 0,
            "orientation": "horizontal",
            "style": "IPY_MODEL_601be2a2dd78435eab9eb3a7d907c518",
            "value": 35
          }
        },
        "c23c4fbb8b4d4f7ba81723d0ca019d3f": {
          "model_module": "@jupyter-widgets/controls",
          "model_name": "HTMLModel",
          "model_module_version": "1.5.0",
          "state": {
            "_dom_classes": [],
            "_model_module": "@jupyter-widgets/controls",
            "_model_module_version": "1.5.0",
            "_model_name": "HTMLModel",
            "_view_count": null,
            "_view_module": "@jupyter-widgets/controls",
            "_view_module_version": "1.5.0",
            "_view_name": "HTMLView",
            "description": "",
            "description_tooltip": null,
            "layout": "IPY_MODEL_a8f85c12d548444e8ea18fda4aa1670c",
            "placeholder": "​",
            "style": "IPY_MODEL_0402ff451bc44d839363e9aa15b6b311",
            "value": " 35/35 [00:06&lt;00:00,  5.66it/s]"
          }
        },
        "1db42112172848ed8ebc2753baec58ce": {
          "model_module": "@jupyter-widgets/base",
          "model_name": "LayoutModel",
          "model_module_version": "1.2.0",
          "state": {
            "_model_module": "@jupyter-widgets/base",
            "_model_module_version": "1.2.0",
            "_model_name": "LayoutModel",
            "_view_count": null,
            "_view_module": "@jupyter-widgets/base",
            "_view_module_version": "1.2.0",
            "_view_name": "LayoutView",
            "align_content": null,
            "align_items": null,
            "align_self": null,
            "border": null,
            "bottom": null,
            "display": null,
            "flex": null,
            "flex_flow": null,
            "grid_area": null,
            "grid_auto_columns": null,
            "grid_auto_flow": null,
            "grid_auto_rows": null,
            "grid_column": null,
            "grid_gap": null,
            "grid_row": null,
            "grid_template_areas": null,
            "grid_template_columns": null,
            "grid_template_rows": null,
            "height": null,
            "justify_content": null,
            "justify_items": null,
            "left": null,
            "margin": null,
            "max_height": null,
            "max_width": null,
            "min_height": null,
            "min_width": null,
            "object_fit": null,
            "object_position": null,
            "order": null,
            "overflow": null,
            "overflow_x": null,
            "overflow_y": null,
            "padding": null,
            "right": null,
            "top": null,
            "visibility": null,
            "width": null
          }
        },
        "5ada0af9a27f4e6dbacfe411f1c0f774": {
          "model_module": "@jupyter-widgets/base",
          "model_name": "LayoutModel",
          "model_module_version": "1.2.0",
          "state": {
            "_model_module": "@jupyter-widgets/base",
            "_model_module_version": "1.2.0",
            "_model_name": "LayoutModel",
            "_view_count": null,
            "_view_module": "@jupyter-widgets/base",
            "_view_module_version": "1.2.0",
            "_view_name": "LayoutView",
            "align_content": null,
            "align_items": null,
            "align_self": null,
            "border": null,
            "bottom": null,
            "display": null,
            "flex": null,
            "flex_flow": null,
            "grid_area": null,
            "grid_auto_columns": null,
            "grid_auto_flow": null,
            "grid_auto_rows": null,
            "grid_column": null,
            "grid_gap": null,
            "grid_row": null,
            "grid_template_areas": null,
            "grid_template_columns": null,
            "grid_template_rows": null,
            "height": null,
            "justify_content": null,
            "justify_items": null,
            "left": null,
            "margin": null,
            "max_height": null,
            "max_width": null,
            "min_height": null,
            "min_width": null,
            "object_fit": null,
            "object_position": null,
            "order": null,
            "overflow": null,
            "overflow_x": null,
            "overflow_y": null,
            "padding": null,
            "right": null,
            "top": null,
            "visibility": null,
            "width": null
          }
        },
        "87ba7e8d1763470b939febe5a682bfcf": {
          "model_module": "@jupyter-widgets/controls",
          "model_name": "DescriptionStyleModel",
          "model_module_version": "1.5.0",
          "state": {
            "_model_module": "@jupyter-widgets/controls",
            "_model_module_version": "1.5.0",
            "_model_name": "DescriptionStyleModel",
            "_view_count": null,
            "_view_module": "@jupyter-widgets/base",
            "_view_module_version": "1.2.0",
            "_view_name": "StyleView",
            "description_width": ""
          }
        },
        "f741d15a467a4d2083528b814e824cfd": {
          "model_module": "@jupyter-widgets/base",
          "model_name": "LayoutModel",
          "model_module_version": "1.2.0",
          "state": {
            "_model_module": "@jupyter-widgets/base",
            "_model_module_version": "1.2.0",
            "_model_name": "LayoutModel",
            "_view_count": null,
            "_view_module": "@jupyter-widgets/base",
            "_view_module_version": "1.2.0",
            "_view_name": "LayoutView",
            "align_content": null,
            "align_items": null,
            "align_self": null,
            "border": null,
            "bottom": null,
            "display": null,
            "flex": null,
            "flex_flow": null,
            "grid_area": null,
            "grid_auto_columns": null,
            "grid_auto_flow": null,
            "grid_auto_rows": null,
            "grid_column": null,
            "grid_gap": null,
            "grid_row": null,
            "grid_template_areas": null,
            "grid_template_columns": null,
            "grid_template_rows": null,
            "height": null,
            "justify_content": null,
            "justify_items": null,
            "left": null,
            "margin": null,
            "max_height": null,
            "max_width": null,
            "min_height": null,
            "min_width": null,
            "object_fit": null,
            "object_position": null,
            "order": null,
            "overflow": null,
            "overflow_x": null,
            "overflow_y": null,
            "padding": null,
            "right": null,
            "top": null,
            "visibility": null,
            "width": null
          }
        },
        "601be2a2dd78435eab9eb3a7d907c518": {
          "model_module": "@jupyter-widgets/controls",
          "model_name": "ProgressStyleModel",
          "model_module_version": "1.5.0",
          "state": {
            "_model_module": "@jupyter-widgets/controls",
            "_model_module_version": "1.5.0",
            "_model_name": "ProgressStyleModel",
            "_view_count": null,
            "_view_module": "@jupyter-widgets/base",
            "_view_module_version": "1.2.0",
            "_view_name": "StyleView",
            "bar_color": null,
            "description_width": ""
          }
        },
        "a8f85c12d548444e8ea18fda4aa1670c": {
          "model_module": "@jupyter-widgets/base",
          "model_name": "LayoutModel",
          "model_module_version": "1.2.0",
          "state": {
            "_model_module": "@jupyter-widgets/base",
            "_model_module_version": "1.2.0",
            "_model_name": "LayoutModel",
            "_view_count": null,
            "_view_module": "@jupyter-widgets/base",
            "_view_module_version": "1.2.0",
            "_view_name": "LayoutView",
            "align_content": null,
            "align_items": null,
            "align_self": null,
            "border": null,
            "bottom": null,
            "display": null,
            "flex": null,
            "flex_flow": null,
            "grid_area": null,
            "grid_auto_columns": null,
            "grid_auto_flow": null,
            "grid_auto_rows": null,
            "grid_column": null,
            "grid_gap": null,
            "grid_row": null,
            "grid_template_areas": null,
            "grid_template_columns": null,
            "grid_template_rows": null,
            "height": null,
            "justify_content": null,
            "justify_items": null,
            "left": null,
            "margin": null,
            "max_height": null,
            "max_width": null,
            "min_height": null,
            "min_width": null,
            "object_fit": null,
            "object_position": null,
            "order": null,
            "overflow": null,
            "overflow_x": null,
            "overflow_y": null,
            "padding": null,
            "right": null,
            "top": null,
            "visibility": null,
            "width": null
          }
        },
        "0402ff451bc44d839363e9aa15b6b311": {
          "model_module": "@jupyter-widgets/controls",
          "model_name": "DescriptionStyleModel",
          "model_module_version": "1.5.0",
          "state": {
            "_model_module": "@jupyter-widgets/controls",
            "_model_module_version": "1.5.0",
            "_model_name": "DescriptionStyleModel",
            "_view_count": null,
            "_view_module": "@jupyter-widgets/base",
            "_view_module_version": "1.2.0",
            "_view_name": "StyleView",
            "description_width": ""
          }
        },
        "99e786f642344413be919795384a9066": {
          "model_module": "@jupyter-widgets/controls",
          "model_name": "HBoxModel",
          "model_module_version": "1.5.0",
          "state": {
            "_dom_classes": [],
            "_model_module": "@jupyter-widgets/controls",
            "_model_module_version": "1.5.0",
            "_model_name": "HBoxModel",
            "_view_count": null,
            "_view_module": "@jupyter-widgets/controls",
            "_view_module_version": "1.5.0",
            "_view_name": "HBoxView",
            "box_style": "",
            "children": [
              "IPY_MODEL_c6e9bcb5df3d41168169f28f2dfa377a",
              "IPY_MODEL_76732d9c40b04e5e811128f7879ad219",
              "IPY_MODEL_f509ebcdefdd40188aa4cee091bcc210"
            ],
            "layout": "IPY_MODEL_91ed497d4fbb44d88038172f91c3bac1"
          }
        },
        "c6e9bcb5df3d41168169f28f2dfa377a": {
          "model_module": "@jupyter-widgets/controls",
          "model_name": "HTMLModel",
          "model_module_version": "1.5.0",
          "state": {
            "_dom_classes": [],
            "_model_module": "@jupyter-widgets/controls",
            "_model_module_version": "1.5.0",
            "_model_name": "HTMLModel",
            "_view_count": null,
            "_view_module": "@jupyter-widgets/controls",
            "_view_module_version": "1.5.0",
            "_view_name": "HTMLView",
            "description": "",
            "description_tooltip": null,
            "layout": "IPY_MODEL_2025b641dc514c7e9a0f438c3c33b58a",
            "placeholder": "​",
            "style": "IPY_MODEL_2b22dba6ddf94fdb8e3abeeb2a149503",
            "value": "Testing: 100%"
          }
        },
        "76732d9c40b04e5e811128f7879ad219": {
          "model_module": "@jupyter-widgets/controls",
          "model_name": "FloatProgressModel",
          "model_module_version": "1.5.0",
          "state": {
            "_dom_classes": [],
            "_model_module": "@jupyter-widgets/controls",
            "_model_module_version": "1.5.0",
            "_model_name": "FloatProgressModel",
            "_view_count": null,
            "_view_module": "@jupyter-widgets/controls",
            "_view_module_version": "1.5.0",
            "_view_name": "ProgressView",
            "bar_style": "success",
            "description": "",
            "description_tooltip": null,
            "layout": "IPY_MODEL_95b5c7e9c936414bbf4be8bf47aeef17",
            "max": 35,
            "min": 0,
            "orientation": "horizontal",
            "style": "IPY_MODEL_50323c3f9d494b71bde18b7c9a9747a7",
            "value": 35
          }
        },
        "f509ebcdefdd40188aa4cee091bcc210": {
          "model_module": "@jupyter-widgets/controls",
          "model_name": "HTMLModel",
          "model_module_version": "1.5.0",
          "state": {
            "_dom_classes": [],
            "_model_module": "@jupyter-widgets/controls",
            "_model_module_version": "1.5.0",
            "_model_name": "HTMLModel",
            "_view_count": null,
            "_view_module": "@jupyter-widgets/controls",
            "_view_module_version": "1.5.0",
            "_view_name": "HTMLView",
            "description": "",
            "description_tooltip": null,
            "layout": "IPY_MODEL_3055af55723a47168841b5947f3cd7f1",
            "placeholder": "​",
            "style": "IPY_MODEL_8f0a4ff01c314d0498a46b313c529503",
            "value": " 35/35 [00:04&lt;00:00,  8.47it/s]"
          }
        },
        "91ed497d4fbb44d88038172f91c3bac1": {
          "model_module": "@jupyter-widgets/base",
          "model_name": "LayoutModel",
          "model_module_version": "1.2.0",
          "state": {
            "_model_module": "@jupyter-widgets/base",
            "_model_module_version": "1.2.0",
            "_model_name": "LayoutModel",
            "_view_count": null,
            "_view_module": "@jupyter-widgets/base",
            "_view_module_version": "1.2.0",
            "_view_name": "LayoutView",
            "align_content": null,
            "align_items": null,
            "align_self": null,
            "border": null,
            "bottom": null,
            "display": null,
            "flex": null,
            "flex_flow": null,
            "grid_area": null,
            "grid_auto_columns": null,
            "grid_auto_flow": null,
            "grid_auto_rows": null,
            "grid_column": null,
            "grid_gap": null,
            "grid_row": null,
            "grid_template_areas": null,
            "grid_template_columns": null,
            "grid_template_rows": null,
            "height": null,
            "justify_content": null,
            "justify_items": null,
            "left": null,
            "margin": null,
            "max_height": null,
            "max_width": null,
            "min_height": null,
            "min_width": null,
            "object_fit": null,
            "object_position": null,
            "order": null,
            "overflow": null,
            "overflow_x": null,
            "overflow_y": null,
            "padding": null,
            "right": null,
            "top": null,
            "visibility": null,
            "width": null
          }
        },
        "2025b641dc514c7e9a0f438c3c33b58a": {
          "model_module": "@jupyter-widgets/base",
          "model_name": "LayoutModel",
          "model_module_version": "1.2.0",
          "state": {
            "_model_module": "@jupyter-widgets/base",
            "_model_module_version": "1.2.0",
            "_model_name": "LayoutModel",
            "_view_count": null,
            "_view_module": "@jupyter-widgets/base",
            "_view_module_version": "1.2.0",
            "_view_name": "LayoutView",
            "align_content": null,
            "align_items": null,
            "align_self": null,
            "border": null,
            "bottom": null,
            "display": null,
            "flex": null,
            "flex_flow": null,
            "grid_area": null,
            "grid_auto_columns": null,
            "grid_auto_flow": null,
            "grid_auto_rows": null,
            "grid_column": null,
            "grid_gap": null,
            "grid_row": null,
            "grid_template_areas": null,
            "grid_template_columns": null,
            "grid_template_rows": null,
            "height": null,
            "justify_content": null,
            "justify_items": null,
            "left": null,
            "margin": null,
            "max_height": null,
            "max_width": null,
            "min_height": null,
            "min_width": null,
            "object_fit": null,
            "object_position": null,
            "order": null,
            "overflow": null,
            "overflow_x": null,
            "overflow_y": null,
            "padding": null,
            "right": null,
            "top": null,
            "visibility": null,
            "width": null
          }
        },
        "2b22dba6ddf94fdb8e3abeeb2a149503": {
          "model_module": "@jupyter-widgets/controls",
          "model_name": "DescriptionStyleModel",
          "model_module_version": "1.5.0",
          "state": {
            "_model_module": "@jupyter-widgets/controls",
            "_model_module_version": "1.5.0",
            "_model_name": "DescriptionStyleModel",
            "_view_count": null,
            "_view_module": "@jupyter-widgets/base",
            "_view_module_version": "1.2.0",
            "_view_name": "StyleView",
            "description_width": ""
          }
        },
        "95b5c7e9c936414bbf4be8bf47aeef17": {
          "model_module": "@jupyter-widgets/base",
          "model_name": "LayoutModel",
          "model_module_version": "1.2.0",
          "state": {
            "_model_module": "@jupyter-widgets/base",
            "_model_module_version": "1.2.0",
            "_model_name": "LayoutModel",
            "_view_count": null,
            "_view_module": "@jupyter-widgets/base",
            "_view_module_version": "1.2.0",
            "_view_name": "LayoutView",
            "align_content": null,
            "align_items": null,
            "align_self": null,
            "border": null,
            "bottom": null,
            "display": null,
            "flex": null,
            "flex_flow": null,
            "grid_area": null,
            "grid_auto_columns": null,
            "grid_auto_flow": null,
            "grid_auto_rows": null,
            "grid_column": null,
            "grid_gap": null,
            "grid_row": null,
            "grid_template_areas": null,
            "grid_template_columns": null,
            "grid_template_rows": null,
            "height": null,
            "justify_content": null,
            "justify_items": null,
            "left": null,
            "margin": null,
            "max_height": null,
            "max_width": null,
            "min_height": null,
            "min_width": null,
            "object_fit": null,
            "object_position": null,
            "order": null,
            "overflow": null,
            "overflow_x": null,
            "overflow_y": null,
            "padding": null,
            "right": null,
            "top": null,
            "visibility": null,
            "width": null
          }
        },
        "50323c3f9d494b71bde18b7c9a9747a7": {
          "model_module": "@jupyter-widgets/controls",
          "model_name": "ProgressStyleModel",
          "model_module_version": "1.5.0",
          "state": {
            "_model_module": "@jupyter-widgets/controls",
            "_model_module_version": "1.5.0",
            "_model_name": "ProgressStyleModel",
            "_view_count": null,
            "_view_module": "@jupyter-widgets/base",
            "_view_module_version": "1.2.0",
            "_view_name": "StyleView",
            "bar_color": null,
            "description_width": ""
          }
        },
        "3055af55723a47168841b5947f3cd7f1": {
          "model_module": "@jupyter-widgets/base",
          "model_name": "LayoutModel",
          "model_module_version": "1.2.0",
          "state": {
            "_model_module": "@jupyter-widgets/base",
            "_model_module_version": "1.2.0",
            "_model_name": "LayoutModel",
            "_view_count": null,
            "_view_module": "@jupyter-widgets/base",
            "_view_module_version": "1.2.0",
            "_view_name": "LayoutView",
            "align_content": null,
            "align_items": null,
            "align_self": null,
            "border": null,
            "bottom": null,
            "display": null,
            "flex": null,
            "flex_flow": null,
            "grid_area": null,
            "grid_auto_columns": null,
            "grid_auto_flow": null,
            "grid_auto_rows": null,
            "grid_column": null,
            "grid_gap": null,
            "grid_row": null,
            "grid_template_areas": null,
            "grid_template_columns": null,
            "grid_template_rows": null,
            "height": null,
            "justify_content": null,
            "justify_items": null,
            "left": null,
            "margin": null,
            "max_height": null,
            "max_width": null,
            "min_height": null,
            "min_width": null,
            "object_fit": null,
            "object_position": null,
            "order": null,
            "overflow": null,
            "overflow_x": null,
            "overflow_y": null,
            "padding": null,
            "right": null,
            "top": null,
            "visibility": null,
            "width": null
          }
        },
        "8f0a4ff01c314d0498a46b313c529503": {
          "model_module": "@jupyter-widgets/controls",
          "model_name": "DescriptionStyleModel",
          "model_module_version": "1.5.0",
          "state": {
            "_model_module": "@jupyter-widgets/controls",
            "_model_module_version": "1.5.0",
            "_model_name": "DescriptionStyleModel",
            "_view_count": null,
            "_view_module": "@jupyter-widgets/base",
            "_view_module_version": "1.2.0",
            "_view_name": "StyleView",
            "description_width": ""
          }
        },
        "e0661060a6f94793a7dde19cfacd252d": {
          "model_module": "@jupyter-widgets/controls",
          "model_name": "HBoxModel",
          "model_module_version": "1.5.0",
          "state": {
            "_dom_classes": [],
            "_model_module": "@jupyter-widgets/controls",
            "_model_module_version": "1.5.0",
            "_model_name": "HBoxModel",
            "_view_count": null,
            "_view_module": "@jupyter-widgets/controls",
            "_view_module_version": "1.5.0",
            "_view_name": "HBoxView",
            "box_style": "",
            "children": [
              "IPY_MODEL_839604355d3542b3928c5bf7b451af03",
              "IPY_MODEL_0daf748df7cc436091ec037e955e488d",
              "IPY_MODEL_b585267e72a140108b47f10c328f13e1"
            ],
            "layout": "IPY_MODEL_d5e2481c98dd4a94adcde882435a7deb"
          }
        },
        "839604355d3542b3928c5bf7b451af03": {
          "model_module": "@jupyter-widgets/controls",
          "model_name": "HTMLModel",
          "model_module_version": "1.5.0",
          "state": {
            "_dom_classes": [],
            "_model_module": "@jupyter-widgets/controls",
            "_model_module_version": "1.5.0",
            "_model_name": "HTMLModel",
            "_view_count": null,
            "_view_module": "@jupyter-widgets/controls",
            "_view_module_version": "1.5.0",
            "_view_name": "HTMLView",
            "description": "",
            "description_tooltip": null,
            "layout": "IPY_MODEL_b6c78b26d3a2456891990a0c9258e6f4",
            "placeholder": "​",
            "style": "IPY_MODEL_0bb04a9e25a34c9a903f3018460b2bc3",
            "value": "Downloading (…)okenizer_config.json: 100%"
          }
        },
        "0daf748df7cc436091ec037e955e488d": {
          "model_module": "@jupyter-widgets/controls",
          "model_name": "FloatProgressModel",
          "model_module_version": "1.5.0",
          "state": {
            "_dom_classes": [],
            "_model_module": "@jupyter-widgets/controls",
            "_model_module_version": "1.5.0",
            "_model_name": "FloatProgressModel",
            "_view_count": null,
            "_view_module": "@jupyter-widgets/controls",
            "_view_module_version": "1.5.0",
            "_view_name": "ProgressView",
            "bar_style": "success",
            "description": "",
            "description_tooltip": null,
            "layout": "IPY_MODEL_63588272b20a466b9fb67be49cee8abb",
            "max": 28,
            "min": 0,
            "orientation": "horizontal",
            "style": "IPY_MODEL_d00206bff01e4ee6950dae4897375757",
            "value": 28
          }
        },
        "b585267e72a140108b47f10c328f13e1": {
          "model_module": "@jupyter-widgets/controls",
          "model_name": "HTMLModel",
          "model_module_version": "1.5.0",
          "state": {
            "_dom_classes": [],
            "_model_module": "@jupyter-widgets/controls",
            "_model_module_version": "1.5.0",
            "_model_name": "HTMLModel",
            "_view_count": null,
            "_view_module": "@jupyter-widgets/controls",
            "_view_module_version": "1.5.0",
            "_view_name": "HTMLView",
            "description": "",
            "description_tooltip": null,
            "layout": "IPY_MODEL_b27fcc9248c74fa6937c4d2154f5ab3f",
            "placeholder": "​",
            "style": "IPY_MODEL_bce6afee899d49f3aa10a4988943598f",
            "value": " 28.0/28.0 [00:00&lt;00:00, 1.83kB/s]"
          }
        },
        "d5e2481c98dd4a94adcde882435a7deb": {
          "model_module": "@jupyter-widgets/base",
          "model_name": "LayoutModel",
          "model_module_version": "1.2.0",
          "state": {
            "_model_module": "@jupyter-widgets/base",
            "_model_module_version": "1.2.0",
            "_model_name": "LayoutModel",
            "_view_count": null,
            "_view_module": "@jupyter-widgets/base",
            "_view_module_version": "1.2.0",
            "_view_name": "LayoutView",
            "align_content": null,
            "align_items": null,
            "align_self": null,
            "border": null,
            "bottom": null,
            "display": null,
            "flex": null,
            "flex_flow": null,
            "grid_area": null,
            "grid_auto_columns": null,
            "grid_auto_flow": null,
            "grid_auto_rows": null,
            "grid_column": null,
            "grid_gap": null,
            "grid_row": null,
            "grid_template_areas": null,
            "grid_template_columns": null,
            "grid_template_rows": null,
            "height": null,
            "justify_content": null,
            "justify_items": null,
            "left": null,
            "margin": null,
            "max_height": null,
            "max_width": null,
            "min_height": null,
            "min_width": null,
            "object_fit": null,
            "object_position": null,
            "order": null,
            "overflow": null,
            "overflow_x": null,
            "overflow_y": null,
            "padding": null,
            "right": null,
            "top": null,
            "visibility": null,
            "width": null
          }
        },
        "b6c78b26d3a2456891990a0c9258e6f4": {
          "model_module": "@jupyter-widgets/base",
          "model_name": "LayoutModel",
          "model_module_version": "1.2.0",
          "state": {
            "_model_module": "@jupyter-widgets/base",
            "_model_module_version": "1.2.0",
            "_model_name": "LayoutModel",
            "_view_count": null,
            "_view_module": "@jupyter-widgets/base",
            "_view_module_version": "1.2.0",
            "_view_name": "LayoutView",
            "align_content": null,
            "align_items": null,
            "align_self": null,
            "border": null,
            "bottom": null,
            "display": null,
            "flex": null,
            "flex_flow": null,
            "grid_area": null,
            "grid_auto_columns": null,
            "grid_auto_flow": null,
            "grid_auto_rows": null,
            "grid_column": null,
            "grid_gap": null,
            "grid_row": null,
            "grid_template_areas": null,
            "grid_template_columns": null,
            "grid_template_rows": null,
            "height": null,
            "justify_content": null,
            "justify_items": null,
            "left": null,
            "margin": null,
            "max_height": null,
            "max_width": null,
            "min_height": null,
            "min_width": null,
            "object_fit": null,
            "object_position": null,
            "order": null,
            "overflow": null,
            "overflow_x": null,
            "overflow_y": null,
            "padding": null,
            "right": null,
            "top": null,
            "visibility": null,
            "width": null
          }
        },
        "0bb04a9e25a34c9a903f3018460b2bc3": {
          "model_module": "@jupyter-widgets/controls",
          "model_name": "DescriptionStyleModel",
          "model_module_version": "1.5.0",
          "state": {
            "_model_module": "@jupyter-widgets/controls",
            "_model_module_version": "1.5.0",
            "_model_name": "DescriptionStyleModel",
            "_view_count": null,
            "_view_module": "@jupyter-widgets/base",
            "_view_module_version": "1.2.0",
            "_view_name": "StyleView",
            "description_width": ""
          }
        },
        "63588272b20a466b9fb67be49cee8abb": {
          "model_module": "@jupyter-widgets/base",
          "model_name": "LayoutModel",
          "model_module_version": "1.2.0",
          "state": {
            "_model_module": "@jupyter-widgets/base",
            "_model_module_version": "1.2.0",
            "_model_name": "LayoutModel",
            "_view_count": null,
            "_view_module": "@jupyter-widgets/base",
            "_view_module_version": "1.2.0",
            "_view_name": "LayoutView",
            "align_content": null,
            "align_items": null,
            "align_self": null,
            "border": null,
            "bottom": null,
            "display": null,
            "flex": null,
            "flex_flow": null,
            "grid_area": null,
            "grid_auto_columns": null,
            "grid_auto_flow": null,
            "grid_auto_rows": null,
            "grid_column": null,
            "grid_gap": null,
            "grid_row": null,
            "grid_template_areas": null,
            "grid_template_columns": null,
            "grid_template_rows": null,
            "height": null,
            "justify_content": null,
            "justify_items": null,
            "left": null,
            "margin": null,
            "max_height": null,
            "max_width": null,
            "min_height": null,
            "min_width": null,
            "object_fit": null,
            "object_position": null,
            "order": null,
            "overflow": null,
            "overflow_x": null,
            "overflow_y": null,
            "padding": null,
            "right": null,
            "top": null,
            "visibility": null,
            "width": null
          }
        },
        "d00206bff01e4ee6950dae4897375757": {
          "model_module": "@jupyter-widgets/controls",
          "model_name": "ProgressStyleModel",
          "model_module_version": "1.5.0",
          "state": {
            "_model_module": "@jupyter-widgets/controls",
            "_model_module_version": "1.5.0",
            "_model_name": "ProgressStyleModel",
            "_view_count": null,
            "_view_module": "@jupyter-widgets/base",
            "_view_module_version": "1.2.0",
            "_view_name": "StyleView",
            "bar_color": null,
            "description_width": ""
          }
        },
        "b27fcc9248c74fa6937c4d2154f5ab3f": {
          "model_module": "@jupyter-widgets/base",
          "model_name": "LayoutModel",
          "model_module_version": "1.2.0",
          "state": {
            "_model_module": "@jupyter-widgets/base",
            "_model_module_version": "1.2.0",
            "_model_name": "LayoutModel",
            "_view_count": null,
            "_view_module": "@jupyter-widgets/base",
            "_view_module_version": "1.2.0",
            "_view_name": "LayoutView",
            "align_content": null,
            "align_items": null,
            "align_self": null,
            "border": null,
            "bottom": null,
            "display": null,
            "flex": null,
            "flex_flow": null,
            "grid_area": null,
            "grid_auto_columns": null,
            "grid_auto_flow": null,
            "grid_auto_rows": null,
            "grid_column": null,
            "grid_gap": null,
            "grid_row": null,
            "grid_template_areas": null,
            "grid_template_columns": null,
            "grid_template_rows": null,
            "height": null,
            "justify_content": null,
            "justify_items": null,
            "left": null,
            "margin": null,
            "max_height": null,
            "max_width": null,
            "min_height": null,
            "min_width": null,
            "object_fit": null,
            "object_position": null,
            "order": null,
            "overflow": null,
            "overflow_x": null,
            "overflow_y": null,
            "padding": null,
            "right": null,
            "top": null,
            "visibility": null,
            "width": null
          }
        },
        "bce6afee899d49f3aa10a4988943598f": {
          "model_module": "@jupyter-widgets/controls",
          "model_name": "DescriptionStyleModel",
          "model_module_version": "1.5.0",
          "state": {
            "_model_module": "@jupyter-widgets/controls",
            "_model_module_version": "1.5.0",
            "_model_name": "DescriptionStyleModel",
            "_view_count": null,
            "_view_module": "@jupyter-widgets/base",
            "_view_module_version": "1.2.0",
            "_view_name": "StyleView",
            "description_width": ""
          }
        },
        "eebaea77285d45668f2f00cdd31a38c6": {
          "model_module": "@jupyter-widgets/controls",
          "model_name": "HBoxModel",
          "model_module_version": "1.5.0",
          "state": {
            "_dom_classes": [],
            "_model_module": "@jupyter-widgets/controls",
            "_model_module_version": "1.5.0",
            "_model_name": "HBoxModel",
            "_view_count": null,
            "_view_module": "@jupyter-widgets/controls",
            "_view_module_version": "1.5.0",
            "_view_name": "HBoxView",
            "box_style": "",
            "children": [
              "IPY_MODEL_1176e36b3592435581f4076df0f30579",
              "IPY_MODEL_2981705f784d4f77b55db8d99cc67448",
              "IPY_MODEL_142e81942ae14203b7617f46814a7f2d"
            ],
            "layout": "IPY_MODEL_35859b092c0b41eba1845a9ba882d63e"
          }
        },
        "1176e36b3592435581f4076df0f30579": {
          "model_module": "@jupyter-widgets/controls",
          "model_name": "HTMLModel",
          "model_module_version": "1.5.0",
          "state": {
            "_dom_classes": [],
            "_model_module": "@jupyter-widgets/controls",
            "_model_module_version": "1.5.0",
            "_model_name": "HTMLModel",
            "_view_count": null,
            "_view_module": "@jupyter-widgets/controls",
            "_view_module_version": "1.5.0",
            "_view_name": "HTMLView",
            "description": "",
            "description_tooltip": null,
            "layout": "IPY_MODEL_29011d2a21bf4307a2ba1264035b3867",
            "placeholder": "​",
            "style": "IPY_MODEL_e7d7c5ed23164d5c9812f4a47f35e0d9",
            "value": "Downloading (…)solve/main/vocab.txt: 100%"
          }
        },
        "2981705f784d4f77b55db8d99cc67448": {
          "model_module": "@jupyter-widgets/controls",
          "model_name": "FloatProgressModel",
          "model_module_version": "1.5.0",
          "state": {
            "_dom_classes": [],
            "_model_module": "@jupyter-widgets/controls",
            "_model_module_version": "1.5.0",
            "_model_name": "FloatProgressModel",
            "_view_count": null,
            "_view_module": "@jupyter-widgets/controls",
            "_view_module_version": "1.5.0",
            "_view_name": "ProgressView",
            "bar_style": "success",
            "description": "",
            "description_tooltip": null,
            "layout": "IPY_MODEL_6b99091ebe3e474d993af4d82f17a119",
            "max": 231508,
            "min": 0,
            "orientation": "horizontal",
            "style": "IPY_MODEL_f67bbe1f439a4d70867b6e2715c4ebfa",
            "value": 231508
          }
        },
        "142e81942ae14203b7617f46814a7f2d": {
          "model_module": "@jupyter-widgets/controls",
          "model_name": "HTMLModel",
          "model_module_version": "1.5.0",
          "state": {
            "_dom_classes": [],
            "_model_module": "@jupyter-widgets/controls",
            "_model_module_version": "1.5.0",
            "_model_name": "HTMLModel",
            "_view_count": null,
            "_view_module": "@jupyter-widgets/controls",
            "_view_module_version": "1.5.0",
            "_view_name": "HTMLView",
            "description": "",
            "description_tooltip": null,
            "layout": "IPY_MODEL_c9bb4def40314620ae13fb1bd7988e86",
            "placeholder": "​",
            "style": "IPY_MODEL_9389d76cd13e4fc8a5f731e7df36fe4e",
            "value": " 232k/232k [00:00&lt;00:00, 4.38MB/s]"
          }
        },
        "35859b092c0b41eba1845a9ba882d63e": {
          "model_module": "@jupyter-widgets/base",
          "model_name": "LayoutModel",
          "model_module_version": "1.2.0",
          "state": {
            "_model_module": "@jupyter-widgets/base",
            "_model_module_version": "1.2.0",
            "_model_name": "LayoutModel",
            "_view_count": null,
            "_view_module": "@jupyter-widgets/base",
            "_view_module_version": "1.2.0",
            "_view_name": "LayoutView",
            "align_content": null,
            "align_items": null,
            "align_self": null,
            "border": null,
            "bottom": null,
            "display": null,
            "flex": null,
            "flex_flow": null,
            "grid_area": null,
            "grid_auto_columns": null,
            "grid_auto_flow": null,
            "grid_auto_rows": null,
            "grid_column": null,
            "grid_gap": null,
            "grid_row": null,
            "grid_template_areas": null,
            "grid_template_columns": null,
            "grid_template_rows": null,
            "height": null,
            "justify_content": null,
            "justify_items": null,
            "left": null,
            "margin": null,
            "max_height": null,
            "max_width": null,
            "min_height": null,
            "min_width": null,
            "object_fit": null,
            "object_position": null,
            "order": null,
            "overflow": null,
            "overflow_x": null,
            "overflow_y": null,
            "padding": null,
            "right": null,
            "top": null,
            "visibility": null,
            "width": null
          }
        },
        "29011d2a21bf4307a2ba1264035b3867": {
          "model_module": "@jupyter-widgets/base",
          "model_name": "LayoutModel",
          "model_module_version": "1.2.0",
          "state": {
            "_model_module": "@jupyter-widgets/base",
            "_model_module_version": "1.2.0",
            "_model_name": "LayoutModel",
            "_view_count": null,
            "_view_module": "@jupyter-widgets/base",
            "_view_module_version": "1.2.0",
            "_view_name": "LayoutView",
            "align_content": null,
            "align_items": null,
            "align_self": null,
            "border": null,
            "bottom": null,
            "display": null,
            "flex": null,
            "flex_flow": null,
            "grid_area": null,
            "grid_auto_columns": null,
            "grid_auto_flow": null,
            "grid_auto_rows": null,
            "grid_column": null,
            "grid_gap": null,
            "grid_row": null,
            "grid_template_areas": null,
            "grid_template_columns": null,
            "grid_template_rows": null,
            "height": null,
            "justify_content": null,
            "justify_items": null,
            "left": null,
            "margin": null,
            "max_height": null,
            "max_width": null,
            "min_height": null,
            "min_width": null,
            "object_fit": null,
            "object_position": null,
            "order": null,
            "overflow": null,
            "overflow_x": null,
            "overflow_y": null,
            "padding": null,
            "right": null,
            "top": null,
            "visibility": null,
            "width": null
          }
        },
        "e7d7c5ed23164d5c9812f4a47f35e0d9": {
          "model_module": "@jupyter-widgets/controls",
          "model_name": "DescriptionStyleModel",
          "model_module_version": "1.5.0",
          "state": {
            "_model_module": "@jupyter-widgets/controls",
            "_model_module_version": "1.5.0",
            "_model_name": "DescriptionStyleModel",
            "_view_count": null,
            "_view_module": "@jupyter-widgets/base",
            "_view_module_version": "1.2.0",
            "_view_name": "StyleView",
            "description_width": ""
          }
        },
        "6b99091ebe3e474d993af4d82f17a119": {
          "model_module": "@jupyter-widgets/base",
          "model_name": "LayoutModel",
          "model_module_version": "1.2.0",
          "state": {
            "_model_module": "@jupyter-widgets/base",
            "_model_module_version": "1.2.0",
            "_model_name": "LayoutModel",
            "_view_count": null,
            "_view_module": "@jupyter-widgets/base",
            "_view_module_version": "1.2.0",
            "_view_name": "LayoutView",
            "align_content": null,
            "align_items": null,
            "align_self": null,
            "border": null,
            "bottom": null,
            "display": null,
            "flex": null,
            "flex_flow": null,
            "grid_area": null,
            "grid_auto_columns": null,
            "grid_auto_flow": null,
            "grid_auto_rows": null,
            "grid_column": null,
            "grid_gap": null,
            "grid_row": null,
            "grid_template_areas": null,
            "grid_template_columns": null,
            "grid_template_rows": null,
            "height": null,
            "justify_content": null,
            "justify_items": null,
            "left": null,
            "margin": null,
            "max_height": null,
            "max_width": null,
            "min_height": null,
            "min_width": null,
            "object_fit": null,
            "object_position": null,
            "order": null,
            "overflow": null,
            "overflow_x": null,
            "overflow_y": null,
            "padding": null,
            "right": null,
            "top": null,
            "visibility": null,
            "width": null
          }
        },
        "f67bbe1f439a4d70867b6e2715c4ebfa": {
          "model_module": "@jupyter-widgets/controls",
          "model_name": "ProgressStyleModel",
          "model_module_version": "1.5.0",
          "state": {
            "_model_module": "@jupyter-widgets/controls",
            "_model_module_version": "1.5.0",
            "_model_name": "ProgressStyleModel",
            "_view_count": null,
            "_view_module": "@jupyter-widgets/base",
            "_view_module_version": "1.2.0",
            "_view_name": "StyleView",
            "bar_color": null,
            "description_width": ""
          }
        },
        "c9bb4def40314620ae13fb1bd7988e86": {
          "model_module": "@jupyter-widgets/base",
          "model_name": "LayoutModel",
          "model_module_version": "1.2.0",
          "state": {
            "_model_module": "@jupyter-widgets/base",
            "_model_module_version": "1.2.0",
            "_model_name": "LayoutModel",
            "_view_count": null,
            "_view_module": "@jupyter-widgets/base",
            "_view_module_version": "1.2.0",
            "_view_name": "LayoutView",
            "align_content": null,
            "align_items": null,
            "align_self": null,
            "border": null,
            "bottom": null,
            "display": null,
            "flex": null,
            "flex_flow": null,
            "grid_area": null,
            "grid_auto_columns": null,
            "grid_auto_flow": null,
            "grid_auto_rows": null,
            "grid_column": null,
            "grid_gap": null,
            "grid_row": null,
            "grid_template_areas": null,
            "grid_template_columns": null,
            "grid_template_rows": null,
            "height": null,
            "justify_content": null,
            "justify_items": null,
            "left": null,
            "margin": null,
            "max_height": null,
            "max_width": null,
            "min_height": null,
            "min_width": null,
            "object_fit": null,
            "object_position": null,
            "order": null,
            "overflow": null,
            "overflow_x": null,
            "overflow_y": null,
            "padding": null,
            "right": null,
            "top": null,
            "visibility": null,
            "width": null
          }
        },
        "9389d76cd13e4fc8a5f731e7df36fe4e": {
          "model_module": "@jupyter-widgets/controls",
          "model_name": "DescriptionStyleModel",
          "model_module_version": "1.5.0",
          "state": {
            "_model_module": "@jupyter-widgets/controls",
            "_model_module_version": "1.5.0",
            "_model_name": "DescriptionStyleModel",
            "_view_count": null,
            "_view_module": "@jupyter-widgets/base",
            "_view_module_version": "1.2.0",
            "_view_name": "StyleView",
            "description_width": ""
          }
        },
        "3a9590598a3f479d8833e96bafa90070": {
          "model_module": "@jupyter-widgets/controls",
          "model_name": "HBoxModel",
          "model_module_version": "1.5.0",
          "state": {
            "_dom_classes": [],
            "_model_module": "@jupyter-widgets/controls",
            "_model_module_version": "1.5.0",
            "_model_name": "HBoxModel",
            "_view_count": null,
            "_view_module": "@jupyter-widgets/controls",
            "_view_module_version": "1.5.0",
            "_view_name": "HBoxView",
            "box_style": "",
            "children": [
              "IPY_MODEL_c827a412186b488aac20de963f72363a",
              "IPY_MODEL_8792f2f4a5124f0bac2d41a599ab9e68",
              "IPY_MODEL_d13d5a992f154ecdbf7f834ec66b1d06"
            ],
            "layout": "IPY_MODEL_adc96eea25a14d91968b7da0bf6bb33c"
          }
        },
        "c827a412186b488aac20de963f72363a": {
          "model_module": "@jupyter-widgets/controls",
          "model_name": "HTMLModel",
          "model_module_version": "1.5.0",
          "state": {
            "_dom_classes": [],
            "_model_module": "@jupyter-widgets/controls",
            "_model_module_version": "1.5.0",
            "_model_name": "HTMLModel",
            "_view_count": null,
            "_view_module": "@jupyter-widgets/controls",
            "_view_module_version": "1.5.0",
            "_view_name": "HTMLView",
            "description": "",
            "description_tooltip": null,
            "layout": "IPY_MODEL_b57e20c95dec42da985f677ab84dbb0c",
            "placeholder": "​",
            "style": "IPY_MODEL_d582af9365b84252b840e27fe2561de3",
            "value": "Downloading (…)/main/tokenizer.json: 100%"
          }
        },
        "8792f2f4a5124f0bac2d41a599ab9e68": {
          "model_module": "@jupyter-widgets/controls",
          "model_name": "FloatProgressModel",
          "model_module_version": "1.5.0",
          "state": {
            "_dom_classes": [],
            "_model_module": "@jupyter-widgets/controls",
            "_model_module_version": "1.5.0",
            "_model_name": "FloatProgressModel",
            "_view_count": null,
            "_view_module": "@jupyter-widgets/controls",
            "_view_module_version": "1.5.0",
            "_view_name": "ProgressView",
            "bar_style": "success",
            "description": "",
            "description_tooltip": null,
            "layout": "IPY_MODEL_4cafde50b0c84425b335240d227af8e7",
            "max": 466062,
            "min": 0,
            "orientation": "horizontal",
            "style": "IPY_MODEL_b3e72f3d0fd145f894c1bfa05399dba8",
            "value": 466062
          }
        },
        "d13d5a992f154ecdbf7f834ec66b1d06": {
          "model_module": "@jupyter-widgets/controls",
          "model_name": "HTMLModel",
          "model_module_version": "1.5.0",
          "state": {
            "_dom_classes": [],
            "_model_module": "@jupyter-widgets/controls",
            "_model_module_version": "1.5.0",
            "_model_name": "HTMLModel",
            "_view_count": null,
            "_view_module": "@jupyter-widgets/controls",
            "_view_module_version": "1.5.0",
            "_view_name": "HTMLView",
            "description": "",
            "description_tooltip": null,
            "layout": "IPY_MODEL_c2097dee4b3f43d0b1d258c87cd8e17d",
            "placeholder": "​",
            "style": "IPY_MODEL_979f6b2e65c34f2c83cc15bbe65d5aae",
            "value": " 466k/466k [00:00&lt;00:00, 24.4MB/s]"
          }
        },
        "adc96eea25a14d91968b7da0bf6bb33c": {
          "model_module": "@jupyter-widgets/base",
          "model_name": "LayoutModel",
          "model_module_version": "1.2.0",
          "state": {
            "_model_module": "@jupyter-widgets/base",
            "_model_module_version": "1.2.0",
            "_model_name": "LayoutModel",
            "_view_count": null,
            "_view_module": "@jupyter-widgets/base",
            "_view_module_version": "1.2.0",
            "_view_name": "LayoutView",
            "align_content": null,
            "align_items": null,
            "align_self": null,
            "border": null,
            "bottom": null,
            "display": null,
            "flex": null,
            "flex_flow": null,
            "grid_area": null,
            "grid_auto_columns": null,
            "grid_auto_flow": null,
            "grid_auto_rows": null,
            "grid_column": null,
            "grid_gap": null,
            "grid_row": null,
            "grid_template_areas": null,
            "grid_template_columns": null,
            "grid_template_rows": null,
            "height": null,
            "justify_content": null,
            "justify_items": null,
            "left": null,
            "margin": null,
            "max_height": null,
            "max_width": null,
            "min_height": null,
            "min_width": null,
            "object_fit": null,
            "object_position": null,
            "order": null,
            "overflow": null,
            "overflow_x": null,
            "overflow_y": null,
            "padding": null,
            "right": null,
            "top": null,
            "visibility": null,
            "width": null
          }
        },
        "b57e20c95dec42da985f677ab84dbb0c": {
          "model_module": "@jupyter-widgets/base",
          "model_name": "LayoutModel",
          "model_module_version": "1.2.0",
          "state": {
            "_model_module": "@jupyter-widgets/base",
            "_model_module_version": "1.2.0",
            "_model_name": "LayoutModel",
            "_view_count": null,
            "_view_module": "@jupyter-widgets/base",
            "_view_module_version": "1.2.0",
            "_view_name": "LayoutView",
            "align_content": null,
            "align_items": null,
            "align_self": null,
            "border": null,
            "bottom": null,
            "display": null,
            "flex": null,
            "flex_flow": null,
            "grid_area": null,
            "grid_auto_columns": null,
            "grid_auto_flow": null,
            "grid_auto_rows": null,
            "grid_column": null,
            "grid_gap": null,
            "grid_row": null,
            "grid_template_areas": null,
            "grid_template_columns": null,
            "grid_template_rows": null,
            "height": null,
            "justify_content": null,
            "justify_items": null,
            "left": null,
            "margin": null,
            "max_height": null,
            "max_width": null,
            "min_height": null,
            "min_width": null,
            "object_fit": null,
            "object_position": null,
            "order": null,
            "overflow": null,
            "overflow_x": null,
            "overflow_y": null,
            "padding": null,
            "right": null,
            "top": null,
            "visibility": null,
            "width": null
          }
        },
        "d582af9365b84252b840e27fe2561de3": {
          "model_module": "@jupyter-widgets/controls",
          "model_name": "DescriptionStyleModel",
          "model_module_version": "1.5.0",
          "state": {
            "_model_module": "@jupyter-widgets/controls",
            "_model_module_version": "1.5.0",
            "_model_name": "DescriptionStyleModel",
            "_view_count": null,
            "_view_module": "@jupyter-widgets/base",
            "_view_module_version": "1.2.0",
            "_view_name": "StyleView",
            "description_width": ""
          }
        },
        "4cafde50b0c84425b335240d227af8e7": {
          "model_module": "@jupyter-widgets/base",
          "model_name": "LayoutModel",
          "model_module_version": "1.2.0",
          "state": {
            "_model_module": "@jupyter-widgets/base",
            "_model_module_version": "1.2.0",
            "_model_name": "LayoutModel",
            "_view_count": null,
            "_view_module": "@jupyter-widgets/base",
            "_view_module_version": "1.2.0",
            "_view_name": "LayoutView",
            "align_content": null,
            "align_items": null,
            "align_self": null,
            "border": null,
            "bottom": null,
            "display": null,
            "flex": null,
            "flex_flow": null,
            "grid_area": null,
            "grid_auto_columns": null,
            "grid_auto_flow": null,
            "grid_auto_rows": null,
            "grid_column": null,
            "grid_gap": null,
            "grid_row": null,
            "grid_template_areas": null,
            "grid_template_columns": null,
            "grid_template_rows": null,
            "height": null,
            "justify_content": null,
            "justify_items": null,
            "left": null,
            "margin": null,
            "max_height": null,
            "max_width": null,
            "min_height": null,
            "min_width": null,
            "object_fit": null,
            "object_position": null,
            "order": null,
            "overflow": null,
            "overflow_x": null,
            "overflow_y": null,
            "padding": null,
            "right": null,
            "top": null,
            "visibility": null,
            "width": null
          }
        },
        "b3e72f3d0fd145f894c1bfa05399dba8": {
          "model_module": "@jupyter-widgets/controls",
          "model_name": "ProgressStyleModel",
          "model_module_version": "1.5.0",
          "state": {
            "_model_module": "@jupyter-widgets/controls",
            "_model_module_version": "1.5.0",
            "_model_name": "ProgressStyleModel",
            "_view_count": null,
            "_view_module": "@jupyter-widgets/base",
            "_view_module_version": "1.2.0",
            "_view_name": "StyleView",
            "bar_color": null,
            "description_width": ""
          }
        },
        "c2097dee4b3f43d0b1d258c87cd8e17d": {
          "model_module": "@jupyter-widgets/base",
          "model_name": "LayoutModel",
          "model_module_version": "1.2.0",
          "state": {
            "_model_module": "@jupyter-widgets/base",
            "_model_module_version": "1.2.0",
            "_model_name": "LayoutModel",
            "_view_count": null,
            "_view_module": "@jupyter-widgets/base",
            "_view_module_version": "1.2.0",
            "_view_name": "LayoutView",
            "align_content": null,
            "align_items": null,
            "align_self": null,
            "border": null,
            "bottom": null,
            "display": null,
            "flex": null,
            "flex_flow": null,
            "grid_area": null,
            "grid_auto_columns": null,
            "grid_auto_flow": null,
            "grid_auto_rows": null,
            "grid_column": null,
            "grid_gap": null,
            "grid_row": null,
            "grid_template_areas": null,
            "grid_template_columns": null,
            "grid_template_rows": null,
            "height": null,
            "justify_content": null,
            "justify_items": null,
            "left": null,
            "margin": null,
            "max_height": null,
            "max_width": null,
            "min_height": null,
            "min_width": null,
            "object_fit": null,
            "object_position": null,
            "order": null,
            "overflow": null,
            "overflow_x": null,
            "overflow_y": null,
            "padding": null,
            "right": null,
            "top": null,
            "visibility": null,
            "width": null
          }
        },
        "979f6b2e65c34f2c83cc15bbe65d5aae": {
          "model_module": "@jupyter-widgets/controls",
          "model_name": "DescriptionStyleModel",
          "model_module_version": "1.5.0",
          "state": {
            "_model_module": "@jupyter-widgets/controls",
            "_model_module_version": "1.5.0",
            "_model_name": "DescriptionStyleModel",
            "_view_count": null,
            "_view_module": "@jupyter-widgets/base",
            "_view_module_version": "1.2.0",
            "_view_name": "StyleView",
            "description_width": ""
          }
        },
        "6999a68a54a04e4ab29044b613c45686": {
          "model_module": "@jupyter-widgets/controls",
          "model_name": "HBoxModel",
          "model_module_version": "1.5.0",
          "state": {
            "_dom_classes": [],
            "_model_module": "@jupyter-widgets/controls",
            "_model_module_version": "1.5.0",
            "_model_name": "HBoxModel",
            "_view_count": null,
            "_view_module": "@jupyter-widgets/controls",
            "_view_module_version": "1.5.0",
            "_view_name": "HBoxView",
            "box_style": "",
            "children": [
              "IPY_MODEL_7f9c2cfec8d249b19a9a6eb7b6464d28",
              "IPY_MODEL_66971fb325f44f48b80c902efbbaa62a",
              "IPY_MODEL_b58895cf36f241efa8fb8eaf8a365866"
            ],
            "layout": "IPY_MODEL_23a33b56da3a4576ac973c13f82399bd"
          }
        },
        "7f9c2cfec8d249b19a9a6eb7b6464d28": {
          "model_module": "@jupyter-widgets/controls",
          "model_name": "HTMLModel",
          "model_module_version": "1.5.0",
          "state": {
            "_dom_classes": [],
            "_model_module": "@jupyter-widgets/controls",
            "_model_module_version": "1.5.0",
            "_model_name": "HTMLModel",
            "_view_count": null,
            "_view_module": "@jupyter-widgets/controls",
            "_view_module_version": "1.5.0",
            "_view_name": "HTMLView",
            "description": "",
            "description_tooltip": null,
            "layout": "IPY_MODEL_1460b5521c374163a90393ce00717628",
            "placeholder": "​",
            "style": "IPY_MODEL_871c7be5e36b4de2999624137f94c1ce",
            "value": "Downloading (…)lve/main/config.json: 100%"
          }
        },
        "66971fb325f44f48b80c902efbbaa62a": {
          "model_module": "@jupyter-widgets/controls",
          "model_name": "FloatProgressModel",
          "model_module_version": "1.5.0",
          "state": {
            "_dom_classes": [],
            "_model_module": "@jupyter-widgets/controls",
            "_model_module_version": "1.5.0",
            "_model_name": "FloatProgressModel",
            "_view_count": null,
            "_view_module": "@jupyter-widgets/controls",
            "_view_module_version": "1.5.0",
            "_view_name": "ProgressView",
            "bar_style": "success",
            "description": "",
            "description_tooltip": null,
            "layout": "IPY_MODEL_9b6d4656a11145d0a249db7874c6adf6",
            "max": 570,
            "min": 0,
            "orientation": "horizontal",
            "style": "IPY_MODEL_f9d860f266f74b34b62354c43b060707",
            "value": 570
          }
        },
        "b58895cf36f241efa8fb8eaf8a365866": {
          "model_module": "@jupyter-widgets/controls",
          "model_name": "HTMLModel",
          "model_module_version": "1.5.0",
          "state": {
            "_dom_classes": [],
            "_model_module": "@jupyter-widgets/controls",
            "_model_module_version": "1.5.0",
            "_model_name": "HTMLModel",
            "_view_count": null,
            "_view_module": "@jupyter-widgets/controls",
            "_view_module_version": "1.5.0",
            "_view_name": "HTMLView",
            "description": "",
            "description_tooltip": null,
            "layout": "IPY_MODEL_728242184f4144a5a95a098f5045ed43",
            "placeholder": "​",
            "style": "IPY_MODEL_5b6cd0370ff04778b1132cd4ce2bd551",
            "value": " 570/570 [00:00&lt;00:00, 44.6kB/s]"
          }
        },
        "23a33b56da3a4576ac973c13f82399bd": {
          "model_module": "@jupyter-widgets/base",
          "model_name": "LayoutModel",
          "model_module_version": "1.2.0",
          "state": {
            "_model_module": "@jupyter-widgets/base",
            "_model_module_version": "1.2.0",
            "_model_name": "LayoutModel",
            "_view_count": null,
            "_view_module": "@jupyter-widgets/base",
            "_view_module_version": "1.2.0",
            "_view_name": "LayoutView",
            "align_content": null,
            "align_items": null,
            "align_self": null,
            "border": null,
            "bottom": null,
            "display": null,
            "flex": null,
            "flex_flow": null,
            "grid_area": null,
            "grid_auto_columns": null,
            "grid_auto_flow": null,
            "grid_auto_rows": null,
            "grid_column": null,
            "grid_gap": null,
            "grid_row": null,
            "grid_template_areas": null,
            "grid_template_columns": null,
            "grid_template_rows": null,
            "height": null,
            "justify_content": null,
            "justify_items": null,
            "left": null,
            "margin": null,
            "max_height": null,
            "max_width": null,
            "min_height": null,
            "min_width": null,
            "object_fit": null,
            "object_position": null,
            "order": null,
            "overflow": null,
            "overflow_x": null,
            "overflow_y": null,
            "padding": null,
            "right": null,
            "top": null,
            "visibility": null,
            "width": null
          }
        },
        "1460b5521c374163a90393ce00717628": {
          "model_module": "@jupyter-widgets/base",
          "model_name": "LayoutModel",
          "model_module_version": "1.2.0",
          "state": {
            "_model_module": "@jupyter-widgets/base",
            "_model_module_version": "1.2.0",
            "_model_name": "LayoutModel",
            "_view_count": null,
            "_view_module": "@jupyter-widgets/base",
            "_view_module_version": "1.2.0",
            "_view_name": "LayoutView",
            "align_content": null,
            "align_items": null,
            "align_self": null,
            "border": null,
            "bottom": null,
            "display": null,
            "flex": null,
            "flex_flow": null,
            "grid_area": null,
            "grid_auto_columns": null,
            "grid_auto_flow": null,
            "grid_auto_rows": null,
            "grid_column": null,
            "grid_gap": null,
            "grid_row": null,
            "grid_template_areas": null,
            "grid_template_columns": null,
            "grid_template_rows": null,
            "height": null,
            "justify_content": null,
            "justify_items": null,
            "left": null,
            "margin": null,
            "max_height": null,
            "max_width": null,
            "min_height": null,
            "min_width": null,
            "object_fit": null,
            "object_position": null,
            "order": null,
            "overflow": null,
            "overflow_x": null,
            "overflow_y": null,
            "padding": null,
            "right": null,
            "top": null,
            "visibility": null,
            "width": null
          }
        },
        "871c7be5e36b4de2999624137f94c1ce": {
          "model_module": "@jupyter-widgets/controls",
          "model_name": "DescriptionStyleModel",
          "model_module_version": "1.5.0",
          "state": {
            "_model_module": "@jupyter-widgets/controls",
            "_model_module_version": "1.5.0",
            "_model_name": "DescriptionStyleModel",
            "_view_count": null,
            "_view_module": "@jupyter-widgets/base",
            "_view_module_version": "1.2.0",
            "_view_name": "StyleView",
            "description_width": ""
          }
        },
        "9b6d4656a11145d0a249db7874c6adf6": {
          "model_module": "@jupyter-widgets/base",
          "model_name": "LayoutModel",
          "model_module_version": "1.2.0",
          "state": {
            "_model_module": "@jupyter-widgets/base",
            "_model_module_version": "1.2.0",
            "_model_name": "LayoutModel",
            "_view_count": null,
            "_view_module": "@jupyter-widgets/base",
            "_view_module_version": "1.2.0",
            "_view_name": "LayoutView",
            "align_content": null,
            "align_items": null,
            "align_self": null,
            "border": null,
            "bottom": null,
            "display": null,
            "flex": null,
            "flex_flow": null,
            "grid_area": null,
            "grid_auto_columns": null,
            "grid_auto_flow": null,
            "grid_auto_rows": null,
            "grid_column": null,
            "grid_gap": null,
            "grid_row": null,
            "grid_template_areas": null,
            "grid_template_columns": null,
            "grid_template_rows": null,
            "height": null,
            "justify_content": null,
            "justify_items": null,
            "left": null,
            "margin": null,
            "max_height": null,
            "max_width": null,
            "min_height": null,
            "min_width": null,
            "object_fit": null,
            "object_position": null,
            "order": null,
            "overflow": null,
            "overflow_x": null,
            "overflow_y": null,
            "padding": null,
            "right": null,
            "top": null,
            "visibility": null,
            "width": null
          }
        },
        "f9d860f266f74b34b62354c43b060707": {
          "model_module": "@jupyter-widgets/controls",
          "model_name": "ProgressStyleModel",
          "model_module_version": "1.5.0",
          "state": {
            "_model_module": "@jupyter-widgets/controls",
            "_model_module_version": "1.5.0",
            "_model_name": "ProgressStyleModel",
            "_view_count": null,
            "_view_module": "@jupyter-widgets/base",
            "_view_module_version": "1.2.0",
            "_view_name": "StyleView",
            "bar_color": null,
            "description_width": ""
          }
        },
        "728242184f4144a5a95a098f5045ed43": {
          "model_module": "@jupyter-widgets/base",
          "model_name": "LayoutModel",
          "model_module_version": "1.2.0",
          "state": {
            "_model_module": "@jupyter-widgets/base",
            "_model_module_version": "1.2.0",
            "_model_name": "LayoutModel",
            "_view_count": null,
            "_view_module": "@jupyter-widgets/base",
            "_view_module_version": "1.2.0",
            "_view_name": "LayoutView",
            "align_content": null,
            "align_items": null,
            "align_self": null,
            "border": null,
            "bottom": null,
            "display": null,
            "flex": null,
            "flex_flow": null,
            "grid_area": null,
            "grid_auto_columns": null,
            "grid_auto_flow": null,
            "grid_auto_rows": null,
            "grid_column": null,
            "grid_gap": null,
            "grid_row": null,
            "grid_template_areas": null,
            "grid_template_columns": null,
            "grid_template_rows": null,
            "height": null,
            "justify_content": null,
            "justify_items": null,
            "left": null,
            "margin": null,
            "max_height": null,
            "max_width": null,
            "min_height": null,
            "min_width": null,
            "object_fit": null,
            "object_position": null,
            "order": null,
            "overflow": null,
            "overflow_x": null,
            "overflow_y": null,
            "padding": null,
            "right": null,
            "top": null,
            "visibility": null,
            "width": null
          }
        },
        "5b6cd0370ff04778b1132cd4ce2bd551": {
          "model_module": "@jupyter-widgets/controls",
          "model_name": "DescriptionStyleModel",
          "model_module_version": "1.5.0",
          "state": {
            "_model_module": "@jupyter-widgets/controls",
            "_model_module_version": "1.5.0",
            "_model_name": "DescriptionStyleModel",
            "_view_count": null,
            "_view_module": "@jupyter-widgets/base",
            "_view_module_version": "1.2.0",
            "_view_name": "StyleView",
            "description_width": ""
          }
        },
        "9d3e127a05b149a0812ed23814fafed1": {
          "model_module": "@jupyter-widgets/controls",
          "model_name": "HBoxModel",
          "model_module_version": "1.5.0",
          "state": {
            "_dom_classes": [],
            "_model_module": "@jupyter-widgets/controls",
            "_model_module_version": "1.5.0",
            "_model_name": "HBoxModel",
            "_view_count": null,
            "_view_module": "@jupyter-widgets/controls",
            "_view_module_version": "1.5.0",
            "_view_name": "HBoxView",
            "box_style": "",
            "children": [
              "IPY_MODEL_14938169ab4743ef8aa3d61006d110c6",
              "IPY_MODEL_6560a7faf1ba4ce4b87b78a43820ed4d",
              "IPY_MODEL_c249751db04849f08a064835e2cb98aa"
            ],
            "layout": "IPY_MODEL_6986055a525147849991f99284796d1c"
          }
        },
        "14938169ab4743ef8aa3d61006d110c6": {
          "model_module": "@jupyter-widgets/controls",
          "model_name": "HTMLModel",
          "model_module_version": "1.5.0",
          "state": {
            "_dom_classes": [],
            "_model_module": "@jupyter-widgets/controls",
            "_model_module_version": "1.5.0",
            "_model_name": "HTMLModel",
            "_view_count": null,
            "_view_module": "@jupyter-widgets/controls",
            "_view_module_version": "1.5.0",
            "_view_name": "HTMLView",
            "description": "",
            "description_tooltip": null,
            "layout": "IPY_MODEL_8a8a59513231497cbfae097b5d12bd04",
            "placeholder": "​",
            "style": "IPY_MODEL_424a9b585bee4d24b4ba089eaecf7dcc",
            "value": "Downloading model.safetensors: 100%"
          }
        },
        "6560a7faf1ba4ce4b87b78a43820ed4d": {
          "model_module": "@jupyter-widgets/controls",
          "model_name": "FloatProgressModel",
          "model_module_version": "1.5.0",
          "state": {
            "_dom_classes": [],
            "_model_module": "@jupyter-widgets/controls",
            "_model_module_version": "1.5.0",
            "_model_name": "FloatProgressModel",
            "_view_count": null,
            "_view_module": "@jupyter-widgets/controls",
            "_view_module_version": "1.5.0",
            "_view_name": "ProgressView",
            "bar_style": "success",
            "description": "",
            "description_tooltip": null,
            "layout": "IPY_MODEL_9afb10fec021447283201bde47b586e4",
            "max": 440449768,
            "min": 0,
            "orientation": "horizontal",
            "style": "IPY_MODEL_354485def1d84f39802adfc7fd89623b",
            "value": 440449768
          }
        },
        "c249751db04849f08a064835e2cb98aa": {
          "model_module": "@jupyter-widgets/controls",
          "model_name": "HTMLModel",
          "model_module_version": "1.5.0",
          "state": {
            "_dom_classes": [],
            "_model_module": "@jupyter-widgets/controls",
            "_model_module_version": "1.5.0",
            "_model_name": "HTMLModel",
            "_view_count": null,
            "_view_module": "@jupyter-widgets/controls",
            "_view_module_version": "1.5.0",
            "_view_name": "HTMLView",
            "description": "",
            "description_tooltip": null,
            "layout": "IPY_MODEL_399c7bcdd24540d3ab3419ae1a04dd46",
            "placeholder": "​",
            "style": "IPY_MODEL_0636ec5ecc2b4a6c983092c79c28017b",
            "value": " 440M/440M [00:04&lt;00:00, 168MB/s]"
          }
        },
        "6986055a525147849991f99284796d1c": {
          "model_module": "@jupyter-widgets/base",
          "model_name": "LayoutModel",
          "model_module_version": "1.2.0",
          "state": {
            "_model_module": "@jupyter-widgets/base",
            "_model_module_version": "1.2.0",
            "_model_name": "LayoutModel",
            "_view_count": null,
            "_view_module": "@jupyter-widgets/base",
            "_view_module_version": "1.2.0",
            "_view_name": "LayoutView",
            "align_content": null,
            "align_items": null,
            "align_self": null,
            "border": null,
            "bottom": null,
            "display": null,
            "flex": null,
            "flex_flow": null,
            "grid_area": null,
            "grid_auto_columns": null,
            "grid_auto_flow": null,
            "grid_auto_rows": null,
            "grid_column": null,
            "grid_gap": null,
            "grid_row": null,
            "grid_template_areas": null,
            "grid_template_columns": null,
            "grid_template_rows": null,
            "height": null,
            "justify_content": null,
            "justify_items": null,
            "left": null,
            "margin": null,
            "max_height": null,
            "max_width": null,
            "min_height": null,
            "min_width": null,
            "object_fit": null,
            "object_position": null,
            "order": null,
            "overflow": null,
            "overflow_x": null,
            "overflow_y": null,
            "padding": null,
            "right": null,
            "top": null,
            "visibility": null,
            "width": null
          }
        },
        "8a8a59513231497cbfae097b5d12bd04": {
          "model_module": "@jupyter-widgets/base",
          "model_name": "LayoutModel",
          "model_module_version": "1.2.0",
          "state": {
            "_model_module": "@jupyter-widgets/base",
            "_model_module_version": "1.2.0",
            "_model_name": "LayoutModel",
            "_view_count": null,
            "_view_module": "@jupyter-widgets/base",
            "_view_module_version": "1.2.0",
            "_view_name": "LayoutView",
            "align_content": null,
            "align_items": null,
            "align_self": null,
            "border": null,
            "bottom": null,
            "display": null,
            "flex": null,
            "flex_flow": null,
            "grid_area": null,
            "grid_auto_columns": null,
            "grid_auto_flow": null,
            "grid_auto_rows": null,
            "grid_column": null,
            "grid_gap": null,
            "grid_row": null,
            "grid_template_areas": null,
            "grid_template_columns": null,
            "grid_template_rows": null,
            "height": null,
            "justify_content": null,
            "justify_items": null,
            "left": null,
            "margin": null,
            "max_height": null,
            "max_width": null,
            "min_height": null,
            "min_width": null,
            "object_fit": null,
            "object_position": null,
            "order": null,
            "overflow": null,
            "overflow_x": null,
            "overflow_y": null,
            "padding": null,
            "right": null,
            "top": null,
            "visibility": null,
            "width": null
          }
        },
        "424a9b585bee4d24b4ba089eaecf7dcc": {
          "model_module": "@jupyter-widgets/controls",
          "model_name": "DescriptionStyleModel",
          "model_module_version": "1.5.0",
          "state": {
            "_model_module": "@jupyter-widgets/controls",
            "_model_module_version": "1.5.0",
            "_model_name": "DescriptionStyleModel",
            "_view_count": null,
            "_view_module": "@jupyter-widgets/base",
            "_view_module_version": "1.2.0",
            "_view_name": "StyleView",
            "description_width": ""
          }
        },
        "9afb10fec021447283201bde47b586e4": {
          "model_module": "@jupyter-widgets/base",
          "model_name": "LayoutModel",
          "model_module_version": "1.2.0",
          "state": {
            "_model_module": "@jupyter-widgets/base",
            "_model_module_version": "1.2.0",
            "_model_name": "LayoutModel",
            "_view_count": null,
            "_view_module": "@jupyter-widgets/base",
            "_view_module_version": "1.2.0",
            "_view_name": "LayoutView",
            "align_content": null,
            "align_items": null,
            "align_self": null,
            "border": null,
            "bottom": null,
            "display": null,
            "flex": null,
            "flex_flow": null,
            "grid_area": null,
            "grid_auto_columns": null,
            "grid_auto_flow": null,
            "grid_auto_rows": null,
            "grid_column": null,
            "grid_gap": null,
            "grid_row": null,
            "grid_template_areas": null,
            "grid_template_columns": null,
            "grid_template_rows": null,
            "height": null,
            "justify_content": null,
            "justify_items": null,
            "left": null,
            "margin": null,
            "max_height": null,
            "max_width": null,
            "min_height": null,
            "min_width": null,
            "object_fit": null,
            "object_position": null,
            "order": null,
            "overflow": null,
            "overflow_x": null,
            "overflow_y": null,
            "padding": null,
            "right": null,
            "top": null,
            "visibility": null,
            "width": null
          }
        },
        "354485def1d84f39802adfc7fd89623b": {
          "model_module": "@jupyter-widgets/controls",
          "model_name": "ProgressStyleModel",
          "model_module_version": "1.5.0",
          "state": {
            "_model_module": "@jupyter-widgets/controls",
            "_model_module_version": "1.5.0",
            "_model_name": "ProgressStyleModel",
            "_view_count": null,
            "_view_module": "@jupyter-widgets/base",
            "_view_module_version": "1.2.0",
            "_view_name": "StyleView",
            "bar_color": null,
            "description_width": ""
          }
        },
        "399c7bcdd24540d3ab3419ae1a04dd46": {
          "model_module": "@jupyter-widgets/base",
          "model_name": "LayoutModel",
          "model_module_version": "1.2.0",
          "state": {
            "_model_module": "@jupyter-widgets/base",
            "_model_module_version": "1.2.0",
            "_model_name": "LayoutModel",
            "_view_count": null,
            "_view_module": "@jupyter-widgets/base",
            "_view_module_version": "1.2.0",
            "_view_name": "LayoutView",
            "align_content": null,
            "align_items": null,
            "align_self": null,
            "border": null,
            "bottom": null,
            "display": null,
            "flex": null,
            "flex_flow": null,
            "grid_area": null,
            "grid_auto_columns": null,
            "grid_auto_flow": null,
            "grid_auto_rows": null,
            "grid_column": null,
            "grid_gap": null,
            "grid_row": null,
            "grid_template_areas": null,
            "grid_template_columns": null,
            "grid_template_rows": null,
            "height": null,
            "justify_content": null,
            "justify_items": null,
            "left": null,
            "margin": null,
            "max_height": null,
            "max_width": null,
            "min_height": null,
            "min_width": null,
            "object_fit": null,
            "object_position": null,
            "order": null,
            "overflow": null,
            "overflow_x": null,
            "overflow_y": null,
            "padding": null,
            "right": null,
            "top": null,
            "visibility": null,
            "width": null
          }
        },
        "0636ec5ecc2b4a6c983092c79c28017b": {
          "model_module": "@jupyter-widgets/controls",
          "model_name": "DescriptionStyleModel",
          "model_module_version": "1.5.0",
          "state": {
            "_model_module": "@jupyter-widgets/controls",
            "_model_module_version": "1.5.0",
            "_model_name": "DescriptionStyleModel",
            "_view_count": null,
            "_view_module": "@jupyter-widgets/base",
            "_view_module_version": "1.2.0",
            "_view_name": "StyleView",
            "description_width": ""
          }
        },
        "675af2f923e648248e767432344d4101": {
          "model_module": "@jupyter-widgets/controls",
          "model_name": "HBoxModel",
          "model_module_version": "1.5.0",
          "state": {
            "_dom_classes": [],
            "_model_module": "@jupyter-widgets/controls",
            "_model_module_version": "1.5.0",
            "_model_name": "HBoxModel",
            "_view_count": null,
            "_view_module": "@jupyter-widgets/controls",
            "_view_module_version": "1.5.0",
            "_view_name": "HBoxView",
            "box_style": "",
            "children": [
              "IPY_MODEL_760f11e1a59e412682ff82994a6212fc",
              "IPY_MODEL_eeef1c5c7de84f3d94afe002791ef9bb",
              "IPY_MODEL_58f616d46a344ab38cf212cfd2317ead"
            ],
            "layout": "IPY_MODEL_70a0b6c742a141b680a9c8d0c1761029"
          }
        },
        "760f11e1a59e412682ff82994a6212fc": {
          "model_module": "@jupyter-widgets/controls",
          "model_name": "HTMLModel",
          "model_module_version": "1.5.0",
          "state": {
            "_dom_classes": [],
            "_model_module": "@jupyter-widgets/controls",
            "_model_module_version": "1.5.0",
            "_model_name": "HTMLModel",
            "_view_count": null,
            "_view_module": "@jupyter-widgets/controls",
            "_view_module_version": "1.5.0",
            "_view_name": "HTMLView",
            "description": "",
            "description_tooltip": null,
            "layout": "IPY_MODEL_8811c0c4e5fe490a97c6f520456f65fa",
            "placeholder": "​",
            "style": "IPY_MODEL_e7e44f80233f4db78f771e1c258c10b1",
            "value": "Epoch 1: 100%"
          }
        },
        "eeef1c5c7de84f3d94afe002791ef9bb": {
          "model_module": "@jupyter-widgets/controls",
          "model_name": "FloatProgressModel",
          "model_module_version": "1.5.0",
          "state": {
            "_dom_classes": [],
            "_model_module": "@jupyter-widgets/controls",
            "_model_module_version": "1.5.0",
            "_model_name": "FloatProgressModel",
            "_view_count": null,
            "_view_module": "@jupyter-widgets/controls",
            "_view_module_version": "1.5.0",
            "_view_name": "ProgressView",
            "bar_style": "success",
            "description": "",
            "description_tooltip": null,
            "layout": "IPY_MODEL_fbce9afe32fa4fc2ba7577bbc8397b9c",
            "max": 140,
            "min": 0,
            "orientation": "horizontal",
            "style": "IPY_MODEL_2a379f992fa14e50be9864068fdb5ed3",
            "value": 140
          }
        },
        "58f616d46a344ab38cf212cfd2317ead": {
          "model_module": "@jupyter-widgets/controls",
          "model_name": "HTMLModel",
          "model_module_version": "1.5.0",
          "state": {
            "_dom_classes": [],
            "_model_module": "@jupyter-widgets/controls",
            "_model_module_version": "1.5.0",
            "_model_name": "HTMLModel",
            "_view_count": null,
            "_view_module": "@jupyter-widgets/controls",
            "_view_module_version": "1.5.0",
            "_view_name": "HTMLView",
            "description": "",
            "description_tooltip": null,
            "layout": "IPY_MODEL_e4c47d6ccb7f4b158dd4a72374613c2f",
            "placeholder": "​",
            "style": "IPY_MODEL_88dcee27347346d2a53b33e2d17a5b56",
            "value": " 140/140 [02:43&lt;00:00,  1.05it/s]"
          }
        },
        "70a0b6c742a141b680a9c8d0c1761029": {
          "model_module": "@jupyter-widgets/base",
          "model_name": "LayoutModel",
          "model_module_version": "1.2.0",
          "state": {
            "_model_module": "@jupyter-widgets/base",
            "_model_module_version": "1.2.0",
            "_model_name": "LayoutModel",
            "_view_count": null,
            "_view_module": "@jupyter-widgets/base",
            "_view_module_version": "1.2.0",
            "_view_name": "LayoutView",
            "align_content": null,
            "align_items": null,
            "align_self": null,
            "border": null,
            "bottom": null,
            "display": null,
            "flex": null,
            "flex_flow": null,
            "grid_area": null,
            "grid_auto_columns": null,
            "grid_auto_flow": null,
            "grid_auto_rows": null,
            "grid_column": null,
            "grid_gap": null,
            "grid_row": null,
            "grid_template_areas": null,
            "grid_template_columns": null,
            "grid_template_rows": null,
            "height": null,
            "justify_content": null,
            "justify_items": null,
            "left": null,
            "margin": null,
            "max_height": null,
            "max_width": null,
            "min_height": null,
            "min_width": null,
            "object_fit": null,
            "object_position": null,
            "order": null,
            "overflow": null,
            "overflow_x": null,
            "overflow_y": null,
            "padding": null,
            "right": null,
            "top": null,
            "visibility": null,
            "width": null
          }
        },
        "8811c0c4e5fe490a97c6f520456f65fa": {
          "model_module": "@jupyter-widgets/base",
          "model_name": "LayoutModel",
          "model_module_version": "1.2.0",
          "state": {
            "_model_module": "@jupyter-widgets/base",
            "_model_module_version": "1.2.0",
            "_model_name": "LayoutModel",
            "_view_count": null,
            "_view_module": "@jupyter-widgets/base",
            "_view_module_version": "1.2.0",
            "_view_name": "LayoutView",
            "align_content": null,
            "align_items": null,
            "align_self": null,
            "border": null,
            "bottom": null,
            "display": null,
            "flex": null,
            "flex_flow": null,
            "grid_area": null,
            "grid_auto_columns": null,
            "grid_auto_flow": null,
            "grid_auto_rows": null,
            "grid_column": null,
            "grid_gap": null,
            "grid_row": null,
            "grid_template_areas": null,
            "grid_template_columns": null,
            "grid_template_rows": null,
            "height": null,
            "justify_content": null,
            "justify_items": null,
            "left": null,
            "margin": null,
            "max_height": null,
            "max_width": null,
            "min_height": null,
            "min_width": null,
            "object_fit": null,
            "object_position": null,
            "order": null,
            "overflow": null,
            "overflow_x": null,
            "overflow_y": null,
            "padding": null,
            "right": null,
            "top": null,
            "visibility": null,
            "width": null
          }
        },
        "e7e44f80233f4db78f771e1c258c10b1": {
          "model_module": "@jupyter-widgets/controls",
          "model_name": "DescriptionStyleModel",
          "model_module_version": "1.5.0",
          "state": {
            "_model_module": "@jupyter-widgets/controls",
            "_model_module_version": "1.5.0",
            "_model_name": "DescriptionStyleModel",
            "_view_count": null,
            "_view_module": "@jupyter-widgets/base",
            "_view_module_version": "1.2.0",
            "_view_name": "StyleView",
            "description_width": ""
          }
        },
        "fbce9afe32fa4fc2ba7577bbc8397b9c": {
          "model_module": "@jupyter-widgets/base",
          "model_name": "LayoutModel",
          "model_module_version": "1.2.0",
          "state": {
            "_model_module": "@jupyter-widgets/base",
            "_model_module_version": "1.2.0",
            "_model_name": "LayoutModel",
            "_view_count": null,
            "_view_module": "@jupyter-widgets/base",
            "_view_module_version": "1.2.0",
            "_view_name": "LayoutView",
            "align_content": null,
            "align_items": null,
            "align_self": null,
            "border": null,
            "bottom": null,
            "display": null,
            "flex": null,
            "flex_flow": null,
            "grid_area": null,
            "grid_auto_columns": null,
            "grid_auto_flow": null,
            "grid_auto_rows": null,
            "grid_column": null,
            "grid_gap": null,
            "grid_row": null,
            "grid_template_areas": null,
            "grid_template_columns": null,
            "grid_template_rows": null,
            "height": null,
            "justify_content": null,
            "justify_items": null,
            "left": null,
            "margin": null,
            "max_height": null,
            "max_width": null,
            "min_height": null,
            "min_width": null,
            "object_fit": null,
            "object_position": null,
            "order": null,
            "overflow": null,
            "overflow_x": null,
            "overflow_y": null,
            "padding": null,
            "right": null,
            "top": null,
            "visibility": null,
            "width": null
          }
        },
        "2a379f992fa14e50be9864068fdb5ed3": {
          "model_module": "@jupyter-widgets/controls",
          "model_name": "ProgressStyleModel",
          "model_module_version": "1.5.0",
          "state": {
            "_model_module": "@jupyter-widgets/controls",
            "_model_module_version": "1.5.0",
            "_model_name": "ProgressStyleModel",
            "_view_count": null,
            "_view_module": "@jupyter-widgets/base",
            "_view_module_version": "1.2.0",
            "_view_name": "StyleView",
            "bar_color": null,
            "description_width": ""
          }
        },
        "e4c47d6ccb7f4b158dd4a72374613c2f": {
          "model_module": "@jupyter-widgets/base",
          "model_name": "LayoutModel",
          "model_module_version": "1.2.0",
          "state": {
            "_model_module": "@jupyter-widgets/base",
            "_model_module_version": "1.2.0",
            "_model_name": "LayoutModel",
            "_view_count": null,
            "_view_module": "@jupyter-widgets/base",
            "_view_module_version": "1.2.0",
            "_view_name": "LayoutView",
            "align_content": null,
            "align_items": null,
            "align_self": null,
            "border": null,
            "bottom": null,
            "display": null,
            "flex": null,
            "flex_flow": null,
            "grid_area": null,
            "grid_auto_columns": null,
            "grid_auto_flow": null,
            "grid_auto_rows": null,
            "grid_column": null,
            "grid_gap": null,
            "grid_row": null,
            "grid_template_areas": null,
            "grid_template_columns": null,
            "grid_template_rows": null,
            "height": null,
            "justify_content": null,
            "justify_items": null,
            "left": null,
            "margin": null,
            "max_height": null,
            "max_width": null,
            "min_height": null,
            "min_width": null,
            "object_fit": null,
            "object_position": null,
            "order": null,
            "overflow": null,
            "overflow_x": null,
            "overflow_y": null,
            "padding": null,
            "right": null,
            "top": null,
            "visibility": null,
            "width": null
          }
        },
        "88dcee27347346d2a53b33e2d17a5b56": {
          "model_module": "@jupyter-widgets/controls",
          "model_name": "DescriptionStyleModel",
          "model_module_version": "1.5.0",
          "state": {
            "_model_module": "@jupyter-widgets/controls",
            "_model_module_version": "1.5.0",
            "_model_name": "DescriptionStyleModel",
            "_view_count": null,
            "_view_module": "@jupyter-widgets/base",
            "_view_module_version": "1.2.0",
            "_view_name": "StyleView",
            "description_width": ""
          }
        },
        "b61db86000eb4286945f425a3e27844f": {
          "model_module": "@jupyter-widgets/controls",
          "model_name": "HBoxModel",
          "model_module_version": "1.5.0",
          "state": {
            "_dom_classes": [],
            "_model_module": "@jupyter-widgets/controls",
            "_model_module_version": "1.5.0",
            "_model_name": "HBoxModel",
            "_view_count": null,
            "_view_module": "@jupyter-widgets/controls",
            "_view_module_version": "1.5.0",
            "_view_name": "HBoxView",
            "box_style": "",
            "children": [
              "IPY_MODEL_698b7ac180114a9381a516676135967d",
              "IPY_MODEL_318ec6c3d52348129183119f5dafe980",
              "IPY_MODEL_08ed581ab2d34a0ea68b7fc56f6c4bc7"
            ],
            "layout": "IPY_MODEL_825fcad0a85148389ea88adf3c21f290"
          }
        },
        "698b7ac180114a9381a516676135967d": {
          "model_module": "@jupyter-widgets/controls",
          "model_name": "HTMLModel",
          "model_module_version": "1.5.0",
          "state": {
            "_dom_classes": [],
            "_model_module": "@jupyter-widgets/controls",
            "_model_module_version": "1.5.0",
            "_model_name": "HTMLModel",
            "_view_count": null,
            "_view_module": "@jupyter-widgets/controls",
            "_view_module_version": "1.5.0",
            "_view_name": "HTMLView",
            "description": "",
            "description_tooltip": null,
            "layout": "IPY_MODEL_6feabd324b6d4079889f078b0a7aa941",
            "placeholder": "​",
            "style": "IPY_MODEL_e17cf3aff59c43ae9f2ebc2b5563e224",
            "value": "Epoch 2: 100%"
          }
        },
        "318ec6c3d52348129183119f5dafe980": {
          "model_module": "@jupyter-widgets/controls",
          "model_name": "FloatProgressModel",
          "model_module_version": "1.5.0",
          "state": {
            "_dom_classes": [],
            "_model_module": "@jupyter-widgets/controls",
            "_model_module_version": "1.5.0",
            "_model_name": "FloatProgressModel",
            "_view_count": null,
            "_view_module": "@jupyter-widgets/controls",
            "_view_module_version": "1.5.0",
            "_view_name": "ProgressView",
            "bar_style": "success",
            "description": "",
            "description_tooltip": null,
            "layout": "IPY_MODEL_9676a62dca4c4cb0a6bf1ee9c52a2455",
            "max": 140,
            "min": 0,
            "orientation": "horizontal",
            "style": "IPY_MODEL_530ffc1c16d143759a6c1253323fb2d5",
            "value": 140
          }
        },
        "08ed581ab2d34a0ea68b7fc56f6c4bc7": {
          "model_module": "@jupyter-widgets/controls",
          "model_name": "HTMLModel",
          "model_module_version": "1.5.0",
          "state": {
            "_dom_classes": [],
            "_model_module": "@jupyter-widgets/controls",
            "_model_module_version": "1.5.0",
            "_model_name": "HTMLModel",
            "_view_count": null,
            "_view_module": "@jupyter-widgets/controls",
            "_view_module_version": "1.5.0",
            "_view_name": "HTMLView",
            "description": "",
            "description_tooltip": null,
            "layout": "IPY_MODEL_3ec17b58ffc54a039c368fe3ea3f4f5c",
            "placeholder": "​",
            "style": "IPY_MODEL_af43b7d3abaa46e1983ae3e15f959c60",
            "value": " 140/140 [02:48&lt;00:00,  1.04it/s]"
          }
        },
        "825fcad0a85148389ea88adf3c21f290": {
          "model_module": "@jupyter-widgets/base",
          "model_name": "LayoutModel",
          "model_module_version": "1.2.0",
          "state": {
            "_model_module": "@jupyter-widgets/base",
            "_model_module_version": "1.2.0",
            "_model_name": "LayoutModel",
            "_view_count": null,
            "_view_module": "@jupyter-widgets/base",
            "_view_module_version": "1.2.0",
            "_view_name": "LayoutView",
            "align_content": null,
            "align_items": null,
            "align_self": null,
            "border": null,
            "bottom": null,
            "display": null,
            "flex": null,
            "flex_flow": null,
            "grid_area": null,
            "grid_auto_columns": null,
            "grid_auto_flow": null,
            "grid_auto_rows": null,
            "grid_column": null,
            "grid_gap": null,
            "grid_row": null,
            "grid_template_areas": null,
            "grid_template_columns": null,
            "grid_template_rows": null,
            "height": null,
            "justify_content": null,
            "justify_items": null,
            "left": null,
            "margin": null,
            "max_height": null,
            "max_width": null,
            "min_height": null,
            "min_width": null,
            "object_fit": null,
            "object_position": null,
            "order": null,
            "overflow": null,
            "overflow_x": null,
            "overflow_y": null,
            "padding": null,
            "right": null,
            "top": null,
            "visibility": null,
            "width": null
          }
        },
        "6feabd324b6d4079889f078b0a7aa941": {
          "model_module": "@jupyter-widgets/base",
          "model_name": "LayoutModel",
          "model_module_version": "1.2.0",
          "state": {
            "_model_module": "@jupyter-widgets/base",
            "_model_module_version": "1.2.0",
            "_model_name": "LayoutModel",
            "_view_count": null,
            "_view_module": "@jupyter-widgets/base",
            "_view_module_version": "1.2.0",
            "_view_name": "LayoutView",
            "align_content": null,
            "align_items": null,
            "align_self": null,
            "border": null,
            "bottom": null,
            "display": null,
            "flex": null,
            "flex_flow": null,
            "grid_area": null,
            "grid_auto_columns": null,
            "grid_auto_flow": null,
            "grid_auto_rows": null,
            "grid_column": null,
            "grid_gap": null,
            "grid_row": null,
            "grid_template_areas": null,
            "grid_template_columns": null,
            "grid_template_rows": null,
            "height": null,
            "justify_content": null,
            "justify_items": null,
            "left": null,
            "margin": null,
            "max_height": null,
            "max_width": null,
            "min_height": null,
            "min_width": null,
            "object_fit": null,
            "object_position": null,
            "order": null,
            "overflow": null,
            "overflow_x": null,
            "overflow_y": null,
            "padding": null,
            "right": null,
            "top": null,
            "visibility": null,
            "width": null
          }
        },
        "e17cf3aff59c43ae9f2ebc2b5563e224": {
          "model_module": "@jupyter-widgets/controls",
          "model_name": "DescriptionStyleModel",
          "model_module_version": "1.5.0",
          "state": {
            "_model_module": "@jupyter-widgets/controls",
            "_model_module_version": "1.5.0",
            "_model_name": "DescriptionStyleModel",
            "_view_count": null,
            "_view_module": "@jupyter-widgets/base",
            "_view_module_version": "1.2.0",
            "_view_name": "StyleView",
            "description_width": ""
          }
        },
        "9676a62dca4c4cb0a6bf1ee9c52a2455": {
          "model_module": "@jupyter-widgets/base",
          "model_name": "LayoutModel",
          "model_module_version": "1.2.0",
          "state": {
            "_model_module": "@jupyter-widgets/base",
            "_model_module_version": "1.2.0",
            "_model_name": "LayoutModel",
            "_view_count": null,
            "_view_module": "@jupyter-widgets/base",
            "_view_module_version": "1.2.0",
            "_view_name": "LayoutView",
            "align_content": null,
            "align_items": null,
            "align_self": null,
            "border": null,
            "bottom": null,
            "display": null,
            "flex": null,
            "flex_flow": null,
            "grid_area": null,
            "grid_auto_columns": null,
            "grid_auto_flow": null,
            "grid_auto_rows": null,
            "grid_column": null,
            "grid_gap": null,
            "grid_row": null,
            "grid_template_areas": null,
            "grid_template_columns": null,
            "grid_template_rows": null,
            "height": null,
            "justify_content": null,
            "justify_items": null,
            "left": null,
            "margin": null,
            "max_height": null,
            "max_width": null,
            "min_height": null,
            "min_width": null,
            "object_fit": null,
            "object_position": null,
            "order": null,
            "overflow": null,
            "overflow_x": null,
            "overflow_y": null,
            "padding": null,
            "right": null,
            "top": null,
            "visibility": null,
            "width": null
          }
        },
        "530ffc1c16d143759a6c1253323fb2d5": {
          "model_module": "@jupyter-widgets/controls",
          "model_name": "ProgressStyleModel",
          "model_module_version": "1.5.0",
          "state": {
            "_model_module": "@jupyter-widgets/controls",
            "_model_module_version": "1.5.0",
            "_model_name": "ProgressStyleModel",
            "_view_count": null,
            "_view_module": "@jupyter-widgets/base",
            "_view_module_version": "1.2.0",
            "_view_name": "StyleView",
            "bar_color": null,
            "description_width": ""
          }
        },
        "3ec17b58ffc54a039c368fe3ea3f4f5c": {
          "model_module": "@jupyter-widgets/base",
          "model_name": "LayoutModel",
          "model_module_version": "1.2.0",
          "state": {
            "_model_module": "@jupyter-widgets/base",
            "_model_module_version": "1.2.0",
            "_model_name": "LayoutModel",
            "_view_count": null,
            "_view_module": "@jupyter-widgets/base",
            "_view_module_version": "1.2.0",
            "_view_name": "LayoutView",
            "align_content": null,
            "align_items": null,
            "align_self": null,
            "border": null,
            "bottom": null,
            "display": null,
            "flex": null,
            "flex_flow": null,
            "grid_area": null,
            "grid_auto_columns": null,
            "grid_auto_flow": null,
            "grid_auto_rows": null,
            "grid_column": null,
            "grid_gap": null,
            "grid_row": null,
            "grid_template_areas": null,
            "grid_template_columns": null,
            "grid_template_rows": null,
            "height": null,
            "justify_content": null,
            "justify_items": null,
            "left": null,
            "margin": null,
            "max_height": null,
            "max_width": null,
            "min_height": null,
            "min_width": null,
            "object_fit": null,
            "object_position": null,
            "order": null,
            "overflow": null,
            "overflow_x": null,
            "overflow_y": null,
            "padding": null,
            "right": null,
            "top": null,
            "visibility": null,
            "width": null
          }
        },
        "af43b7d3abaa46e1983ae3e15f959c60": {
          "model_module": "@jupyter-widgets/controls",
          "model_name": "DescriptionStyleModel",
          "model_module_version": "1.5.0",
          "state": {
            "_model_module": "@jupyter-widgets/controls",
            "_model_module_version": "1.5.0",
            "_model_name": "DescriptionStyleModel",
            "_view_count": null,
            "_view_module": "@jupyter-widgets/base",
            "_view_module_version": "1.2.0",
            "_view_name": "StyleView",
            "description_width": ""
          }
        }
      }
    }
  },
  "nbformat": 4,
  "nbformat_minor": 0
}