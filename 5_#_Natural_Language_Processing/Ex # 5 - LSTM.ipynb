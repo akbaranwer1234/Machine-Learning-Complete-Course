{
  "cells": [
    {
      "cell_type": "markdown",
      "metadata": {
        "id": "hX4n9TsbGw-f"
      },
      "source": [
        "##### Copyright 2018 The TensorFlow Authors."
      ]
    },
    {
      "cell_type": "code",
      "execution_count": null,
      "metadata": {
        "cellView": "form",
        "id": "0nbI5DtDGw-i"
      },
      "outputs": [],
      "source": [
        "#@title Licensed under the Apache License, Version 2.0 (the \"License\");\n",
        "# you may not use this file except in compliance with the License.\n",
        "# You may obtain a copy of the License at\n",
        "#\n",
        "# https://www.apache.org/licenses/LICENSE-2.0\n",
        "#\n",
        "# Unless required by applicable law or agreed to in writing, software\n",
        "# distributed under the License is distributed on an \"AS IS\" BASIS,\n",
        "# WITHOUT WARRANTIES OR CONDITIONS OF ANY KIND, either express or implied.\n",
        "# See the License for the specific language governing permissions and\n",
        "# limitations under the License."
      ]
    },
    {
      "cell_type": "markdown",
      "metadata": {
        "id": "9TnJztDZGw-n"
      },
      "source": [
        "# Text classification with an RNN"
      ]
    },
    {
      "cell_type": "markdown",
      "metadata": {
        "id": "AfN3bMR5Gw-o"
      },
      "source": [
        "<table class=\"tfo-notebook-buttons\" align=\"left\">\n",
        "  <td>\n",
        "    <a target=\"_blank\" href=\"https://www.tensorflow.org/text/tutorials/text_classification_rnn\"><img src=\"https://www.tensorflow.org/images/tf_logo_32px.png\" />View on TensorFlow.org</a>\n",
        "  </td>\n",
        "  <td>\n",
        "    <a target=\"_blank\" href=\"https://colab.research.google.com/github/tensorflow/text/blob/master/docs/tutorials/text_classification_rnn.ipynb\"><img src=\"https://www.tensorflow.org/images/colab_logo_32px.png\" />Run in Google Colab</a>\n",
        "  </td>\n",
        "  <td>\n",
        "    <a target=\"_blank\" href=\"https://github.com/tensorflow/text/blob/master/docs/tutorials/text_classification_rnn.ipynb\"><img src=\"https://www.tensorflow.org/images/GitHub-Mark-32px.png\" />View source on GitHub</a>\n",
        "  </td>\n",
        "  <td>\n",
        "    <a href=\"https://storage.googleapis.com/tensorflow_docs/text/docs/tutorials/text_classification_rnn.ipynb\"><img src=\"https://www.tensorflow.org/images/download_logo_32px.png\" />Download notebook</a>\n",
        "  </td>\n",
        "</table>"
      ]
    },
    {
      "cell_type": "markdown",
      "metadata": {
        "id": "lUWearf0Gw-p"
      },
      "source": [
        "This text classification tutorial trains a [recurrent neural network](https://developers.google.com/machine-learning/glossary/#recurrent_neural_network) on the [IMDB large movie review dataset](http://ai.stanford.edu/~amaas/data/sentiment/) for sentiment analysis."
      ]
    },
    {
      "cell_type": "markdown",
      "metadata": {
        "id": "_2VQo4bajwUU"
      },
      "source": [
        "## Setup"
      ]
    },
    {
      "cell_type": "code",
      "execution_count": null,
      "metadata": {
        "id": "z682XYsrjkY9"
      },
      "outputs": [],
      "source": [
        "import numpy as np\n",
        "\n",
        "import tensorflow_datasets as tfds\n",
        "import tensorflow as tf\n",
        "\n",
        "tfds.disable_progress_bar()"
      ]
    },
    {
      "cell_type": "markdown",
      "metadata": {
        "id": "1rXHa-w9JZhb"
      },
      "source": [
        "Import `matplotlib` and create a helper function to plot graphs:"
      ]
    },
    {
      "cell_type": "code",
      "execution_count": null,
      "metadata": {
        "id": "Mp1Z7P9pYRSK"
      },
      "outputs": [],
      "source": [
        "import matplotlib.pyplot as plt\n",
        "\n",
        "\n",
        "def plot_graphs(history, metric):\n",
        "  plt.plot(history.history[metric])\n",
        "  plt.plot(history.history['val_'+metric], '')\n",
        "  plt.xlabel(\"Epochs\")\n",
        "  plt.ylabel(metric)\n",
        "  plt.legend([metric, 'val_'+metric])"
      ]
    },
    {
      "cell_type": "markdown",
      "metadata": {
        "id": "pRmMubr0jrE2"
      },
      "source": [
        "## Setup input pipeline\n",
        "\n",
        "\n",
        "The IMDB large movie review dataset is a *binary classification* dataset—all the reviews have either a *positive* or *negative* sentiment.\n",
        "\n",
        "Download the dataset using [TFDS](https://www.tensorflow.org/datasets). See the [loading text tutorial](https://www.tensorflow.org/tutorials/load_data/text) for details on how to load this sort of data manually.\n"
      ]
    },
    {
      "cell_type": "code",
      "execution_count": null,
      "metadata": {
        "colab": {
          "base_uri": "https://localhost:8080/"
        },
        "id": "SHRwRoP2nVHX",
        "outputId": "7816f56e-c219-4c86-cc6b-2067bb85993e"
      },
      "outputs": [
        {
          "name": "stdout",
          "output_type": "stream",
          "text": [
            "Downloading and preparing dataset 80.23 MiB (download: 80.23 MiB, generated: Unknown size, total: 80.23 MiB) to /root/tensorflow_datasets/imdb_reviews/plain_text/1.0.0...\n",
            "Dataset imdb_reviews downloaded and prepared to /root/tensorflow_datasets/imdb_reviews/plain_text/1.0.0. Subsequent calls will reuse this data.\n"
          ]
        },
        {
          "data": {
            "text/plain": [
              "(TensorSpec(shape=(), dtype=tf.string, name=None),\n",
              " TensorSpec(shape=(), dtype=tf.int64, name=None))"
            ]
          },
          "execution_count": 4,
          "metadata": {},
          "output_type": "execute_result"
        }
      ],
      "source": [
        "dataset, info = tfds.load('imdb_reviews', with_info=True,\n",
        "                          as_supervised=True)\n",
        "train_dataset, test_dataset = dataset['train'], dataset['test']\n",
        "\n",
        "train_dataset.element_spec"
      ]
    },
    {
      "cell_type": "code",
      "execution_count": null,
      "metadata": {
        "colab": {
          "base_uri": "https://localhost:8080/"
        },
        "id": "4d4rgkuXZ00f",
        "outputId": "bce44df1-83b0-47e6-d52f-6a74f1c945ee"
      },
      "outputs": [
        {
          "data": {
            "text/plain": [
              "tfds.core.DatasetInfo(\n",
              "    name='imdb_reviews',\n",
              "    full_name='imdb_reviews/plain_text/1.0.0',\n",
              "    description=\"\"\"\n",
              "    Large Movie Review Dataset. This is a dataset for binary sentiment\n",
              "    classification containing substantially more data than previous benchmark\n",
              "    datasets. We provide a set of 25,000 highly polar movie reviews for training,\n",
              "    and 25,000 for testing. There is additional unlabeled data for use as well.\n",
              "    \"\"\",\n",
              "    config_description=\"\"\"\n",
              "    Plain text\n",
              "    \"\"\",\n",
              "    homepage='http://ai.stanford.edu/~amaas/data/sentiment/',\n",
              "    data_dir=PosixGPath('/tmp/tmpku6wgbe0tfds'),\n",
              "    file_format=tfrecord,\n",
              "    download_size=80.23 MiB,\n",
              "    dataset_size=129.83 MiB,\n",
              "    features=FeaturesDict({\n",
              "        'label': ClassLabel(shape=(), dtype=int64, num_classes=2),\n",
              "        'text': Text(shape=(), dtype=string),\n",
              "    }),\n",
              "    supervised_keys=('text', 'label'),\n",
              "    disable_shuffling=False,\n",
              "    splits={\n",
              "        'test': <SplitInfo num_examples=25000, num_shards=1>,\n",
              "        'train': <SplitInfo num_examples=25000, num_shards=1>,\n",
              "        'unsupervised': <SplitInfo num_examples=50000, num_shards=1>,\n",
              "    },\n",
              "    citation=\"\"\"@InProceedings{maas-EtAl:2011:ACL-HLT2011,\n",
              "      author    = {Maas, Andrew L.  and  Daly, Raymond E.  and  Pham, Peter T.  and  Huang, Dan  and  Ng, Andrew Y.  and  Potts, Christopher},\n",
              "      title     = {Learning Word Vectors for Sentiment Analysis},\n",
              "      booktitle = {Proceedings of the 49th Annual Meeting of the Association for Computational Linguistics: Human Language Technologies},\n",
              "      month     = {June},\n",
              "      year      = {2011},\n",
              "      address   = {Portland, Oregon, USA},\n",
              "      publisher = {Association for Computational Linguistics},\n",
              "      pages     = {142--150},\n",
              "      url       = {http://www.aclweb.org/anthology/P11-1015}\n",
              "    }\"\"\",\n",
              ")"
            ]
          },
          "execution_count": 5,
          "metadata": {},
          "output_type": "execute_result"
        }
      ],
      "source": [
        "info"
      ]
    },
    {
      "cell_type": "code",
      "execution_count": null,
      "metadata": {
        "colab": {
          "base_uri": "https://localhost:8080/"
        },
        "id": "LqfZGzIsZ54_",
        "outputId": "4977d167-5ef4-41ba-bd47-315cb61c7657"
      },
      "outputs": [
        {
          "data": {
            "text/plain": [
              "{Split('train'): <_PrefetchDataset element_spec=(TensorSpec(shape=(), dtype=tf.string, name=None), TensorSpec(shape=(), dtype=tf.int64, name=None))>,\n",
              " Split('test'): <_PrefetchDataset element_spec=(TensorSpec(shape=(), dtype=tf.string, name=None), TensorSpec(shape=(), dtype=tf.int64, name=None))>,\n",
              " Split('unsupervised'): <_PrefetchDataset element_spec=(TensorSpec(shape=(), dtype=tf.string, name=None), TensorSpec(shape=(), dtype=tf.int64, name=None))>}"
            ]
          },
          "execution_count": 6,
          "metadata": {},
          "output_type": "execute_result"
        }
      ],
      "source": [
        "dataset"
      ]
    },
    {
      "cell_type": "markdown",
      "metadata": {
        "id": "nWA4c2ir7g6p"
      },
      "source": [
        "Initially this returns a dataset of (text, label pairs):"
      ]
    },
    {
      "cell_type": "code",
      "execution_count": null,
      "metadata": {
        "colab": {
          "base_uri": "https://localhost:8080/"
        },
        "id": "vd4_BGKyurao",
        "outputId": "a2c6b820-16d5-4203-da26-669cb7ffaf90"
      },
      "outputs": [
        {
          "name": "stdout",
          "output_type": "stream",
          "text": [
            "text:  [b'I have just started watching the TV series \"What I like About You\" and I must say that is a joy to watch. I always like to see new shows do well considering a lot of shows go off before you really get a feel for them. I have watched Amanda Bynes since \"All That\" she is truly a funny girl, what is the best about her comedy is that its so natural and what i mean about that is, its something that a person could here there best friend saying, its not rehearsed.<br /><br />I just recently started watching the show and have fell in love. I am just watching re-runs as of now but am looking forward to the next season. All the characters in the show give something to the whole story line. Its nice to see some old face from other shows I enjoyed watching in the past such as, Jennie Garth from \"90210\", Leslie Grossman from \"Popular\", and Wesley Jonathan from \"City Guys.\" The New Character are very talented as well, Nick Zano has that charm the makes you love him even when he is doing something wrong to holly (Bynes).<br /><br />Overall this show has the right ingredients to be successful, I look forward to watching it grow.'\n",
            " b\"Joseph L. Mankiewicz's Sleuth didn't need a remake. It's a thoroughly well made film that stands up well to this day. However, given that the modern day remake machine is currently in full swing; I really can't say I'm surprised to see the film updated for modern audience. The plot remains identical to the original film and at its core we have the story of a young man, Milo Tindle, who goes off to see an older man, Andrew Wyke, to discuss a divorce as the younger man is having an affair with the older man's wife. From there, a game of cat and mouse ensues. Its clear right from the outset that director Kenneth Branagh wanted to add a different touch to this film and he does so by way of the central location, which has been changed from the charming games-ridden country house of the original to a technical marvel kitted out with layers of security equipment. I'm glad that the director chose to make this change as nobody wants to see a remake that directly copies of the original; plus there's the fact that the location is well used and always nice to look at. Unfortunately, however, the positive elements of Sleuth 2007 end there.<br /><br />The original film was over two hours long, while this remake is only just a shade over eighty minutes. Naturally, therefore, that means that this version has less about it; and unfortunately it's the characters that suffer. The plot is also rushed and we get into the first twist in the tale far too quickly and before we are given any chance to actually understand why and how these events can be taking place. The film does not build the characters, or the rapport between them, enough to make sure that their relationship makes sense. One major thing that has been changed about the older character is his obsession; in the original he was obsessed with games which turned out to be VERY important once the twists come into play. Here he has some kind of security fetish that doesn't really mean anything by the end. Kenneth Branagh's handling of the film allows for a classy score but the class ends there. The original thrived on it, but this film is happy merely to soil itself with expletives on numerous, and mostly unwarranted, occasions; which cheapen the whole thing. The final twist in the tale is completely different to how it was in the original and ensures that the film boils down to a really hideous conclusion. After spending two hours with the original I understood, respected and liked both characters presented in the film - after eighty minutes of this, I hated them both. I do have some respect for Branagh for not merely rolling out a carbon copy of the original film; but this is not a good adaptation of the great Anthony Shaffer play.\"\n",
            " b'MAKE A 0 YOU SACKS OF German STAPLES! well, when i started to watch this sack of crud, it was a Sunday afternoon, and i was just looking for stuff on show time. I was introduced to a hot naked babe, and like any guy (im a guy, the e-mail is my sisters...) i was happy. But then they threw it all to the dogs, spit on it, lit it on fire, and peed it out. You wanna know how? THE DUMB CHICK TALKED! The dialog throughout the film was just horrible. sounded like something my 2nd grade bro could wright. The violence was nice for some scenes, but some was just totally moronic. The scene in the pit were he gives the guy the knife... dumb moron! To sum it up, this is pure cinema barf drenched in the chocolate syrup known as nudity, and topped with the cherry of horrible acting as only a porn star could deliver.'\n",
            " b\"didn't know anything about the film or that it was based on a best selling book.Tried guessing from the opening scenes what it would be about,best guess,buried treasure and a death list.That lasted about 15 minutes when i got the sneaky suspicion that the film was crap.I'll not bore you with how bad the plot and acting were but anyone who gave it more than two stars must work for the film makers.I watched until the hero jumped into his corvette to rush to the hospital.He had his on his suit,shirt and tie arrived at the hospital in jeans and a t/shirt.Couldn't even get the continuity right. I got the Christian theme,hard to miss it .\"\n",
            " b\"I first saw this as a child living in East London. The scars of Hitlers Luftwaffe were all too evident and the landscape of the movie was reminiscent of our street. I remember having nightmares after seeing it. The odd thing is, it really hasn't dated if viewed as a piece of social history in Cinema fiction. <br /><br />Apart from a globally destructive war, the scale of the machines was badly awry, more Nano-Technology now, but overall, an excellent and well-crafted work. It was interesting to see how space travel was perceived back then. I would think that firing a spacecraft from a gigantic gun would almost certainly kill the astronauts. However, much was right. Mans desire for war, mans inhumanity to man. The means of war as a catalyst for development. <br /><br />\"\n",
            " b'Frailty is a non-gory horror film that achieves its chills by following the logic and impact of a man\\'s delusion/obsession straight into depravity. Dad (we never learn his name) is a gentle man and loving father who\\'s raising his sons alone after Mom died giving birth to the youngest son, Adam. The family\\'s world flips upside down late one night when Dad rushes into the boys\\' room and tells them God has given him a vision. And what a vision \\xc2\\x96 the entire family\\'s job is to destroy demons, who, of course, are disguised in human form.<br /><br />Proceeding from this premise, the movie is unflinching in following it. Dad kidnaps people/demons whom God has told him to destroy, binds them, lays his hand on them to see a vision of their evil, then kills them \\xc2\\x96 while making his young sons watch. Fenton, the older boy, is horrified, seeing only a father who\\'s turned into a crazed murderer. Adam, the younger, is uncomfortable, but trusts that Dad is following God\\'s will. Eventually, Dad takes his sons on missions to abduct the \"demons\" that God has put on Dad\\'s list, and finally, invites them to fully participate in God\\'s mission for the family.<br /><br />This is not, you understand, an abusive father. He loves his children. He is only following God\\'s instructions: \"This is our job now, son. We\\'ve got to do this.\" When Fenton, terrified and convinced his father has gone mad, says he\\'ll report him to the police, his father explains, \"If you do that, son, I\\'ll die. The angel was clear on this.\" The pressure that the children are under is unbearable and tragic, and warps their entire lives.(1) The movie\\'s structure is similar to the one used in The Usual Suspects: a story in flashback, told in a police station to a FBI agent. The moody lighting, the stormy weather, and the eerie calm in the present day add to the menace of the backstory. I wanted to believe the unfolding horror was just a story, until I remembered the real-life parallel of Andrea Yates, who believed she was possessed by Satan and could save her children by drowning them. Even then, I wanted to believe that I was watching a human tragedy, rather than a story of divine retribution.<br /><br />The movie gave me no such comfort, though, as it gave strong clues at the end about the veracity of Dad\\'s vision. And this, as much as some plot holes, posed a problem for me. Regardless of the accuracy of Dad\\'s visions, regardless of the evil that his victims may have committed, where does anyone derive the authority to act as an angel of death? (1) Roger Ebert review, 4/12/02'\n",
            " b'I watched the trailer on the DVD after seeing the film, and I think anyone who saw it before watching the film would be very surprised and possibly disappointed. It made much of the fact that the film was \"by the director of Cube\" and made it look like a horror film, when in fact it is an Absurdist comedy (IMDB\\'s spell checker doesn\\'t seem to think that Absurdist is a word, but it is), reminiscent of Rosencrantz and Guildernstern are Dead.<br /><br />I love the way the story builds up slowly at first, then gradually escalates. I also enjoy the fact that no explanation is given for what happens in the film. That and the fact that the story plays out mainly in just the one set are the only respects in which this film is similar to Cube. I recommend it.'\n",
            " b\"I knew that 'Evening' was a girlie film, so I was expecting to be bored. A wicked tease on IMDb had said that it was a 'chick flick' but that your companion would survive.<br /><br />Survive? Yes. I am still here, but when the two of us came out we were amazed to find that it had only lasted two hours - it seemed a much longer evening than that! I suppose that, for Yanks, it is supposed to be elevating or fascinating because it is about rich people living on the beach - well, next to the beach, in a house with a wide verandah and a lawn but no apparent lawnmower. If that sort of thing impresses you it might seem quite a short film.<br /><br />There's a Monty Python film about a Knight who just won't die. He ends up a wriggling (why do Yanks add an third syllable to this word I wonder) torso in the road still shouting threats at his nemesis. This film is also about a sort of living dead. Vanessa Redgrave (inappropriate name for the grave dodger shown here) goes on and on dying whilst having inappropriate guilt. She's not worried about having been a wide-eyed, breathless bimbo, but imagines herself a murderess.<br /><br />Obviously, being a girlie film, there's a chap who is supposed to be the Mr Darcy/Heathcliff character. I'm not a woofter, so I can't claim to be a good judge of such things, but the tedious wimp who is wheeled out for this role seems only to have the title of servant in his favour. He's a bloodless cypher.<br /><br />As you might gather, the main characters aren't much cop, but the minor ones manage, amazingly to be much worse. There's a fellow whose only job is to react to the news that his girlfriend is preggers. Fair enough, but it isn't the role of Hamlet - why ham it up so badly? Forgetting that it was a girlie film, I thought he was going to be thrown out because any decent girl-friend would have told him that face-fungus didn't flatter him, but then I realised that she must have encouraged him to grow a 'beard' because he looked worse without it.<br /><br />I kept awake by noticing which actors and actresses had their earlobes attached or free and noting interesting bits of scenery - if you're dragged along to it, see if you can spot the stuffed buffalo head, just the sort of thing you'd expect in a beach cottage.<br /><br />Apart from the obligatory wedding, there is only one piece of action. You'd have thought that they'd have got it right. Sadly, though, the hit and run accident is carried out by a car that couldn't be there. When the accident is discovered the cast wander about shouting for a character that they can't know is nearby (but we do as the audience). If they don't have any clue that the person is within a couple of miles of the place, then why do they wander about aimlessly shouting for him? I suppose that the director's excuse is that it is supposed to be a half-remembered dream sequence...<br /><br />Another scenery item that caught my attention was a copper bottomed saucepan. I didn't think that the technology to do this was developed until the fifties.\"\n",
            " b\"I liked this show! I think it was nothing with wrong with it! Only that Spidey don't punch anyone but only for that the show doesn't suck! Some people only think this show is bad because of that. The story was great and it was fun when other heroes appeared like X-men, The Punisher, Daredevil and Iron Man! To bad Sandman never appear but i kinda like it! Best Spidey show ever!! My favorite episodes are: 1. Turning Point 2. Spider Wars 3. The Hobgoblin 4. The Alien Costume 5. Mutant Agenda<br /><br />But there are some episodes that was really really bad like: Rocket Racer and The Spot which was embarrassing to watch. And i don't like Morbius and Hydro Man. First of Morbius suck plasma instead of blood and i don't like vampires. And it irritates me that he was almost the main villain in Season 2. Of course i have to mentioned Hydro Man! He was terrible! I rather see Sandman! His last appearance was so terrible. And i don't like Spidey as the Man-spider!<br /><br />But i guess everything than this was bad!\"\n",
            " b\"Mr. Blandings Builds His Dream House may be the best Frank Capra/Preston Sturges movie neither man ever made! If you love Bringing Up Baby, The Philadelpia Story, The Thin Man, I Was A Male War Bride or It's a Wonderful Life - movies made with wit, taste and and the occasional tongue firmly panted in cheek, check this one out. Post WWII life is simply and idyllically portrayed.<br /><br />Grant is at the absolute top of his form playing the city mouse venturing into the life of a country squire. Loy is adorable as his pre-NOW wife. The cast of supporting characters compares to You Can't Take It With You and contains an early bit by future Tarzan Lex Barker. Art Direction and Editing are way above par.<br /><br />The movie never stoops to the low-rent, by-the-numbers venal slapstick of the later adaptation The Money Pit.\"\n",
            " b'I dont know about you, but I\\'ve always felt drawn to \\'ART\\' cinema. The first \\'art\\' film I managed to get a hold of was Peter Greenaway\\'s \"The Cook, The Thief, His Wife and Her Lover\", which blew my mind and creative spiret into overdrive. The film was the ultimate paradox, both beautiful and grotesque...this is what \\'art cinema\\' was about, exploring intellectual ideas and bringing the visceral to the screen with purpose. Life, real life, can be like living in a madhouse, and art expressed shows it for what it is. I love movies of all types, but especially those that both entertain and have something to say, whether I agree with it\\'s stance or no...<br /><br />\"8 1/2 WOMEN\", is a dry, clinical \\'comedy\\' where a father and son gather a harem to fufill their many sexual fantasies. There is only a very brief allusion to Fellini in the film, unlike what the previews have suggested. The main focus of the film falls on the \\'close\\' relationship between father and son, brought together after the mothers\\' death. In the early scenes of the film the fathers\\' sadness is believable, you can feel his pain. What happens afterwards is plain by Greenaway standards, the gathering of the harem, observations on love and death, and flesh displayed for the sake of flesh...One could argue this, but I feel the movie to be shallow and pointless. And the idea that this could be a comedy is perplexing to me. The acting for the most part if fine,...especially good are Polly Walker and Amanda Plummer(though poor Mandy should put her clothes back on) What the film lacks is a compelling story, and the usual Greenaway touches of excess that made his other films so wonderful to watch. <br /><br />While filled with moments of insight, and the occasional taboo, \"8 1/2 Women\" is too cut and paste to be considered art, too bland to considered \\'funny\\', and simply too dull to be considered worthwhile.<br /><br />Save your money...I can only recommend this film as a sleeping aid.<br /><br />4 out of 10'\n",
            " b\"A great concept gone wrong. Poor acting, even worse writing....After watching the first two episodes I was wondering why it ever made it to season two. The characters are forgettable, the writing is poor, the sets are just OK. The special effects are simply sad - so much better has been made in the same time-frame - where is the money going on this one? The first episode starts out interesting then goes downhill fast - the precept of the whole show is just silly. Now don't get me wrong, I am a huge Sci-Fi fan and 'geek' - but this show simply doesn't cut it. As I said in the beginning, I am truly surprised it made it to season two - so much better has been canceled after only one season (Jake 2.0 for example). This show was just bad.\"\n",
            " b\"The film is side spliting from the outset, Eddie just seems to bring that uniqueness to the stage and makes the most basic thing funny from having an ice cream as a child to the long old tradition of the family get together. The film is very rare in this country but unsure of availability in other countries i have searched through a lot of web sites and still no luck, phoned companies that search for rare videos and there are year waiting lists for it. SO HINTS ARE VERY WELCOME. If any one likes Eddie Murphy as a comedian and see's the video get it,it is worth the money and can't go far wrong.\"\n",
            " b'This is a great documentary film. Any fan of car racing should own a copy of this outstanding film. Director \"Stephen Low\" did a great job,as well as the main stars of the film, Father & Son, Mario & Michael Andretti. The DVD looks & sounds amazing. And best of all it\\'s IMAX! Great home theater test disc.'\n",
            " b'I was lucky to see \"Oliver!\" in 1968 on a big cinema screen in Boston when I was a young teenager. Later, during the summer of 1969, I was pleased to see this film was still playing at a prominent cinema in Leicester Square, London, after it had won the Academy Award for Best Picture of the previous year.<br /><br />Th success of \"Oliver!\" on both the stage and screen reminded me that not all talent begins on Broadway and ends in Hollywood. This legendary story by Charles Dickens, which is part of the literary heritage of all English-speaking people, was admirably brought to the London stage by Lionel Bart of Great Britain. His charming musical then became a hit in New York and throughout the world. The film adaptation was made in England during the summer of 1967 and then released in 1968. The sets and musical numbers are mind boggling. The song \"Who Will Buy?\" required hundreds of actors and the British film director truly deserved his Oscar for putting it all together in a seamless manner. Some Canadian and American talent is also part of this wonderful production, but mostly it is a tribute to the fine craftsmanship of the British film studios, such as Shepperton. Good show! Other film studios at Elstree, Boreham Wood, Bray, Denham, and Ealing have also given the world many films to treasure over the years.'\n",
            " b\"I love Ashley Judd and think all of her movies are great. Ruby<br /><br />in Paradise is one of her best. It is a very understated movie that you really have to watch close to appreciate it. A story of a woman trying to make it on her own and refusing to give in to temptations that would make her life easy. Some of her movies such as Kiss The Girls and Time to Kill probably did better at the box office and video rentals. They were very good movies<br /><br />also, but take the time to really look at Ruby and I think you will agree it is one of Ashley's Best.<br /><br />\"\n",
            " b'The \"Wrinkle in Time\" book series is my favorite series from childhood. I have read and re-read them more times than I can count over the last 35+ years. The characters, with all their virtues and flaws, are near and dear to my heart. This adaptation contained very little of the wonderful, magical, spiritual story that I love so much. To say I was disappointed with this film would be a great understatement.<br /><br />If you have never read the book(s) I imagine you will enjoy the movie. The acting is passable, the special effects are well done for a made for TV movie, and the story is interesting. However, if you love the books, avoid this movie at all costs.<br /><br />I found this statement at the Wikipedia page of the novel: \"In an interview with Newsweek, L\\'Engle said of the film, \\'I expected it to be bad, and it is.\\'\"<br /><br />I, like another reviewer here, feel the need to read the book again to dispel this movie from my mind.'\n",
            " b'A young girl surviving as a prostitute.<br /><br />A cheap hustler who wants to get the big score.<br /><br />They meet each other in Thailand. You may think by the opening titles it\\'s going to be a violent movie but it is also a story of love with two persons in their own struggle to get the money for a better way of life. This film feels like an essay sometimes because of its changes of images, but still refreshing. This story is also about Eros and Thanatos. \"It\\'s not an original joke but it is well told\" says a character and that also applies to this one: We\\'ve seen the story but this way we see it. Thailand appears in hot tones, the photograph going from one colored to a multicolored place. And it captures the city as the cage of this imperfect persons. There is also a good use of the music to dot the actions.'\n",
            " b\"At the end of this episode Holmes asks Watson not to record the case for posterity.For a good reason! The super sleuth left his little grey cells(sorry Agatha)at home for this tale. There is no deductive reasoning,no acute analysis of signs at crime scenes. Holmes bumbles along fifty yards behind the plot. The dastardly CAM is finally dealt to by an old frail-in a manner that would have made Charles Bronson's heart swell with pride-six bullets in the breadbasket.In an ensuing chase a pursuer gets hold of one of Watson's shoes.Mercifully the writer didn't decide to tack on the story of Cinderella to lengthen the film.The murderess,Holmes and Watson,escape scot free. Oh well,it is a bit of a change of pace in late Victorian London.A bit of sixgun law:-)\"\n",
            " b\"I want to start by stating I am a republican, even though I don't agree with a lot of the things bush has done in office. And I love the daily show and Colbert report. They have to be two of my favorite shows on TV. I enjoy the bush jokes on Conan, Letterman, Leno, because I admit that W is not the smartest guy to ever walk the earth(I do believe he's not the dumbest either.) But it comes to a point when enough is enough and it's not really that funny anymore. I see where it can be funny and it is(hey he's making fun of our authority figure he's hilarious.). Comedy central though is just trying to hard to poke fun at him. I mean maybe one special episode, but an entire series is just dumb. It seems CC is just saying the same bush jokes that we've heard WAY to many times. I really cannot see this show going past 1 season.\"\n",
            " b'The case is the best part of the movie but it alone is not worth the purchase price. I expected a \"Based on the true story\" movie only to find a shot on home video hodge-podge of poorly shot clips tied together with pathetic acting and non-related slaughter house scenes. The video scenes had numerous rewind situations which were used probably to extend the length of the feature rather than for effects. I started this review before I was even halfway through the movie and waited till it was over just in case it had a better ending but, low and behold it only got worse. If I could mark it any lower it would have been a negative ten. Learn from my mistake and save your money and time with this one.'\n",
            " b\"Shinjuku Triad Society: Chinese Mafia Wars is unlikely to get distribution in the West outside film festivals. Why? Could your censors stomach a film where policemen anally rape male and female suspects to get them to talk (and the victims enjoy it) or see an old lady have her eye torn out of her skull? These are just a few of the shocks in store for viewers of this ultraviolent cops and gangsters story. It makes Clockwork Orange which was banned for years in the UK look like a Disney cartoon.<br /><br />Should you see this film? YES It is fantastic and essential viewing for fans of Asian cinema. The shocking moments are there to illustrate what goers on in the world of these characters. If you like this make sure you catch Dead or Alive which is very similar (barring the insane ending in DOA of course). Great for Japan that they have a talent like Miike working at the same time as Takeshi Kitano. The best chance of seeing this film outside a Takashi Miike retrospective at a film festival is on DVD. If I haven't put you off try hunting for a Hong Kong version on the web as I'm sure it will come out in that country.\"\n",
            " b\"I don't think I could have enjoyed it more, though certain things were disturbing. I'm not going to say what, if you haven't seen it...you'll have to find out for yourself. At any rate, what movie can lack with Robert Downey Jr.'s puppy-dog eyes? All-in-all, the plot was developed sufficiently. Nothing seemed too rushed, as movies like this tend to be. The characters were like-able, and there were plenty of hilarious scenes in it. The idea over-all is that the story is very well tied together, even if certain aspects may be unsatisfactory...by matter of opinion. But like I said before, it's hard not to love any movie with Robert Downey Jr.\"\n",
            " b'Yes, I was lucky enough to see the long-running original production of Michael Bennett\\'s hit musical. It was an amazing experience and I paid to see the movie when it hit theatres back in 1985. It is awful. Almost everything fails. First off, Attenborough (a fine actor, a good director with the right material) is a sorry choice - almost as bad as when John Huston was hired to mangle ANNIE. The camera is always in the wrong place - they chop up the songs and the CASTING!!! They are awful - the power of the play was these dancers - these hungry, talented performers just wanted a chance to show what they could do and when they got their chance - you couldn\\'t take your eyes off of them. But this cast just gets by dancing, does a \"nice\" job singing but none of them spark one bit. In fact, look up the cast on IMDb - none of them really went on to do anything much. (OK, OK, Janet Jones married Gretzky - sheesh). So this cinema trainwreck does not capture for one second the magic, the desperation, the passion of the stage musical. A total strike-out! (But even though they try to smother the music - the great music still rises up at times and reminds people how great the score was).'\n",
            " b'I remember back when I was little when I was away at camp and we would campout under the stars. There was always someone there that would have a good story to tell that involved the woods that surrounded us and they would always creep me out. Well, when I found Wendigo at the library, I checked it out hoping to be one of those films that had a supernatural being haunting people in the woods much like the stories that were told at camp. Well, much to my dismay, I was so far from the truth. Wendigo is really bad. The story starts of when a family of three is driving to their winter cabin, which looks like your normal suburban home and nothing like a cabin in the woods, and they run into a deer. Well, it seems the local rednecks were actually hunting this particular deer and are pretty upset at our city folk. The movie spends far too much time following the families everyday activities instead of getting to the point of the film. It wasn\\'t until about the last 15 minutes that we actually have some action involving the \"wendigo.\" My suggestion is that you stay very far away this film. It will leave you wanting your hour and a half back.'\n",
            " b\"I only recently found out that Madeleine L'Engle's novel had been turned into a TV movie by Disney and ordered the DVD. The book was a favorite of mine when I was a child and I read it several times.<br /><br />Despite some of the child actors not resembling the characters as described in the novel, the Murry family is well cast, with a likable (if too pretty) Meg at the center and a Charles Wallace who is convincing as a child prodigy without becoming irritating. <br /><br />The first half hour is promising enough, doing a good job in establishing the relationships between the lead characters and at setting the scene. Unfortunately as soon as the non-human characters appear the adaptation starts to unravel and once the children leave earth the whole thing falls apart. Alfre Woodward is too youthful looking and much too regal as the eccentric Mrs Whatsit (think Miriam Margolis or Joan Plowright instead) and Kate Nelligan face is so mask like and inexpressive, she must have visited Faye Dunaway's plastic surgeon in recent years. For some reason they make her Mrs Which look like Glinda from The Wizard of Oz when she should have resembled a benign Wicked Witch of the West.<br /><br />In the end what lets this down most badly are the terrible special effects and art direction. I understand that this is a TV movie, but the CGI looked like something that could have been done 15 years earlier. Mrs Whatsits' centaur incarnation is a disaster as is the Chewbacca like suit for Aunt Beast, who in the novel is a velvety, elegant creature instead of the ungainly Big Foot like thing shown here. I could go on and on, nearly every artistic choice is a disaster, presumably because there wasn't a large enough budget to do this justice, but also because the design work lacks imagination and good judgement.<br /><br />This really would have needed the sense of wonder Spielberg brought to his early films. What a shame that with the current popularity of adapting children's literary fantasy series nobody thought of adapting A Wrinkle in Time and it's sequels for the big screen, giving it the scope it deserves.\"\n",
            " b'First of all: I love good Splattermovies and am not afraid to get in touch with art, but this zero-budget-flick is none of it! The picture-quality is so damned low, the soundtrack the most annoying one I ever (!!!!)heard, and as for the FX... well the super-low quality makes some of them look not as bad as they would in a real movie (what this junk here isn\\'t). No concept, a wafer-thin storyline, primitive acting and rare dialog - I think I counted about 10 sentences in the whole movie, each one repeated about 20 times... same for a lot of film-sequences (may be an indication for which kind of audience this crap was made!!!) The story seems to be that a young boy had to watch his father rape and kill his mother, got psychological damaged and as an adult goes touring, performing a show of self-mutilation. So far, so good... But for these pseudo-art-idiot-directors, this plot is just a line to put cheap produced shock scenes in a row which neither have a message nor make any sense (freshly taken-out bowels are thrown on a naked, bound woman in an earth-hole... why?? and why is that the only time you see both woman and thrower in the whole bloody \"movie\")??? Disturbing? Yes!! Sick? Yes!! Necessary? No! Artistically? NO!!!!! Everyone mistaking this cheap gore-show for art should as soon as possible visit his psychiatrist or should watch Pink Floyd\\'s \"The Wall\" to see how a similar topic can be worked out in an artful way... I hope this was your first and last (!!!!!!!!) movie, Andrew Cobb... !!!! And all you gore-heads out there, remember: Not everything that looks cheap and makes obviously no sense at all is automatically \"Art\"...'\n",
            " b'Steve Carell comes into his own in his first starring role in the 40 Year Old Virgin, having only had supporting roles in such films as Bewitched, Bruce Almighty, Anchorman, and his work on the Daily Show, we had only gotten a small taste of the comedy that Carell truly makes his own. You can tell that Will Ferrell influenced his \"comedic air\" but Carell takes it to another level, everything he does is innocent, lovable, and hilarious. I would not hesitate to say that Steve Carell is one of the next great comedians of our time.<br /><br />The 40 Year Old Virgin is two hours of non-stop laughs (or 4 hours if you see it twice like I did), a perfect supporting cast and great leads charm the audience through the entire movie. The script was perfect with so many great lines that you will want to see the movie again just to try to remember them all. The music fit the tone of the movie great, and you can tell the director knew what he was doing.<br /><br />Filled with sex jokes, some nudity, and a lot of language, this movie isn\\'t for everyone but if you liked the Wedding Crashers, Anchorman, or any movie along those lines, you will absolutely love The 40 Year Old Virgin.'\n",
            " b\"I saw a preview of Freebird at the Isle of Man TT as i had heard about it in a couple of motorcycle mags. Although i was over mainly for the racing, the lure of seeing Phil Daniels in a motorcycle movie (yes i love Quadrophenia like everyone else) proved enough to get me away from the beer and partying. At last! we've done it! us British have actually made a great motorcycle film (and no it's not like Torque) this is up there with the best of British comedy. Mark my words, this is Phil Daniels best screen performance, and as far as Geoff Bell is concerned, there's a new British legend making his name felt. I loved Gary Stretch in Shane Meadows' fantastic Dead Mans Shoes and here he gives a quietly touching performance that he can proudly add to his growing film reputation. This is a film not just for us Bikers, but I think for everyone (even my girlfriend loved it). I hope it gets the same brilliant response on the mainland as it got at the Isle of Man. I'm not going to go into the details of certain classic scenes that this movie has, (watch out for the shop), as it would spoil the fun, but i would say, go see, enjoy, and have one of the best nights in the cinema you've had in a while. I really think this could well be a cult classic. As they were saying at the TT... C'Mon Freebird!\"\n",
            " b\"2 stars out of a possible 10 - and that is being overly generous.<br /><br />I thought with a cast of James Woods, Cathy Bates, Randy Quaid, Lou Gossett, Jr., and Henry Thomas - how could it miss. I was wrong.<br /><br />I can only wonder what drugs Sam Shepard was on the week-end he cranked out this piece of dribble. I'd long suspected Sam S. of being kind of nuts, this film, based on his play, confirms it.<br /><br />This is the kind of artsy b.s. that actors LOVE to sink their teeth into as it gives them a chance to endlessly emote. However, for the viewer who sits through this nonsensical trash, there is absolutely NOTHING to love about this movie.<br /><br />You haven't seen dysfunctional families until you've seen this bunch. Pa is crazy, Ma is crazy, the son is crazy and the daughter is, oh yeah, crazy. They also have mouths on them that utter words that would make a sailor blush, especially the teenage daughter.<br /><br />In addition to the above, as if that weren't enough, the plot--and it's so thin you could read thorough it--has a hole in it the size of Alaska.<br /><br />Ma is conspiring to sell their rundown farm. As it turns out so is Pa. Now I don't claim to be a real estate expert, but the last time I checked, property jointly owned must have both of the owners signatures in order to be sold. If only one of them owned the property, then the other could not legally sell it, so it would be pointless for that person to do so. Mr. Shepherd prefers to ignore this basic fact, and therefore, his plot does not work.<br /><br />Not that anything else was really working anyway.<br /><br />The only possible reason anyone could have for watching this film is if they are absolutely desperate to see James Woods in full frontal nudity, and I can't imagine why anyone would want to.\"\n",
            " b'One of the weaker Carry On adventures sees Sid James as the head of a crime gang stealing contraceptive pills. The fourth of the series to be hospital-based, it\\'s possibly the least of the genre. There\\'s a curiously flat feel throughout, with all seemingly squandered on below-par material. This is far from the late-70s nadir, but Williams, James, Bresslaw, Maynard et al. are all class performers yet not given the backing of a script equal to their ability.<br /><br />Most of the gags are onrunning, rather than episodic as Carry Ons usually are. So that instead of the traditional hit and miss ratio, if you don\\'t find the joke funny in the first place you\\'re stuck with it for most of the film. These continuous plot strands include Williams \\xc2\\x96 for no good reason \\xc2\\x96 worrying that he\\'s changing sex, and Kenneth Cope in drag. Like the stagy physical pratt falls, the whole thing feels more contrived than in other movies, and lacking in cast interest. Continuing this theme, Matron lacks the customary pun and innuendo format, largely opting for characterisation and consequence to provide the humour. In fact, the somewhat puerile series of laboured misunderstandings and forced circumstance reminds one more of Terry and June ... so it\\'s appropriate that Terry Scott is present, mugging futilely throughout.<br /><br />Some dialogue exchanges have a bit of the old magic, such as this between Scott and Cope: \"What about a little drink?\" \"Oh, no, no, I never touch it.\" \"Oh. Cigarette then?\" \"No, I never touch them.\" \"That leaves only one thing to offer you.\" \"I never touch that either.\" That said, while a funny man in his own right (livening up the duller episodes of Randall and Hopkirk (Deceased) no end), you do feel that Cope isn\\'t quite tapped in to the self-parodying Carry On idealology and that Bernard Bresslaw dressed as a nurse would be far funnier. This does actually happen, in part, though only for the last fifteen minutes.<br /><br />Williams attempting to seduce Hattie Jacques while Charles Hawtrey is hiding in a cupboard is pure drawer room farce, but lacks the irony to carry it off. That said, Williams\\'s description of premarital relations is priceless: \"You don\\'t just go into the shop and buy enough for the whole room, you tear yourself off a little strip and try it first!\" \"That may be so,\" counters Jacques, \"but you\\'re not going to stick me up against a wall.\" Williams really comes to life in his scenes with Hattie, and you can never get bored of hearing a tin whistle whenever someone accidentally flashes their knickers.<br /><br />Carry On Matron is not a bad film by any means, just a crushingly bog-standard one.'\n",
            " b\"This musical is decidedly mixed, and none of the elements really fit together, but it somehow manages to be mostly enjoyable. The plot contains some of the elements of Wodehouse's novel, but none of its virtues, though he co-wrote the script. The songs, though charming, have nothing to do with this particular film, and are unusually crudely squeezed into the plot, even by pre-Oklahoma standards. Burns and Allen do their usual shtick quite competently, but it misses the tone of the rest of the film by about forty IQ points.<br /><br />There are a few high points. Reginald Gardiner does good work when he remembers that this is a talkie, and stops mugging like a silent actor. And there are a few bits of writing which could only have been written by Wodehouse, though most of the film feels like the production of one of the Hollywood meetings he later parodied.\"\n",
            " b\"I was so surprised by how great The Man In The Moon truly was.I mean at first I was kinda expecting a cheesy, and predictable film, but I decided to put that aside when watching.Well, when it was over I was just left stunned(mainly in tears), by how great The Man In The Moon turned out to be.This movie is so entertaining and is so aware of its tone, and its just a fabulous film.The acting was great especially from Reece Witherspoon(who was so cute and lovable), and everyone else.There wasn't anything that really bothered me, I felt the ending kinda predictable, but very well done at that.Also I felt some things to be plain or as if it had been done before, but still a great film.Overall I must say I don't to much to say about this film, not that it was bad, its just a film you either like or don't like.I would however recommend this to any and everyone, even if you don't like these type of films, its still an enjoyable film.<br /><br />8.7 out of 10 stars\"\n",
            " b'This is by far the worst movie I\\'ve ever seen. From the plot, though the shots, the \"special effects\", the acting, and did I mentioned the plot? Every single thing in it sucked ass!<br /><br />This is a good example of what \"over-doing\" means and I\\'ll try to explain:<br /><br />I understand what the creator of this movie was trying to do; this was supposed to be one of those movies you can\\'t really tell what the hell is going on up until the end. You sit mesmerized, not knowing who\\'s dead and who\\'s alive and who killed who and why and just when you think you got the timeline right you find out you\\'re wrong and the movie ends - leaving you with an opened mouth for the next 5 minutes! Something like \"Unbreakable\" or \"The Job\" if you know what I mean.<br /><br />But Olga Levens, the writer of this junk, yes, Olga \\xc2\\x96 The writer, Director, Producer, Screenplay author, Caster, Production designer, Art Director, Costume Designer and also a double for one of the characters is some scenes... this is basically a one woman movie and when it comes to Olga Levens from \"Levens Productions\" you can\\'t go wrong :-)<br /><br />Well this might come as a shocker but \"this time\" Olga over did this big time, jumping from scene to scene, from dreams to reality... but wait! this was all a dream after all... or was it??? The picture fades and I realized none of this ever happened, the girl was all alone on the ship... actually there was no ship... no wait! There\\'s the ship again, and the guys! They\\'re alive! Thank god! No they\\'re calling her to join the cruise... but then the ship disappears so maybe they\\'re dead after all??? or maybe they never were alive to begin with???<br /><br />If you understood what I just said you might like this movie - otherwise it\\'s a boring piece of work and the only reason I set through this entire crap is to find out how the hell can they finish this movie...<br /><br />Don\\'t watch this if you value time, ever 90 minutes are a waste in this case...'\n",
            " b'Kurosawa really blew it on this one. Every genius is allowed a failure. The concept is fine but the execution is badly blurred.<br /><br />There is an air of fantasy about this film making it something of an art film. The poverty stricken of Tokyo deserve a fairer and more realistic portrayal. Many of them have interesting stories to tell. A very disappointing film.'\n",
            " b'I watched this today, partially attracted to the all-star cast and partly because I have enjoyed so many other films of this ilk. However, this is one to avoid. There are dozens of badly cut scenes where the continuity just does not flow, the billiards challenge at the start, for example. The fighting scenes with the natives are about as good as you would remember in those old black and white Tarzan movies, you know where you see a spear fly through the air and camera cuts to a dead native lying motionless on the floor with it sticking from his thigh. Is that instantaneous death? There are also several quite unnecessary scenes which have nothing to do with the plot, like the little girl being rescued while collecting flowers. The really badly animated clay toys are too painful to watch. If you do see this movie the crabs which inch forward at about 5kph are the highlight. Somehow one manages to creep up on David Mccullum and give him a nip. Its as if there was no time to get out of the way, like when the obelisk in the city falls over, the native has all the time in the world to take a 2 step to the left, but no he screams and it falls on him. I only give this a 2 because of Ekland. And why does Mccullums voice develop a stutter as the movie progresses?'\n",
            " b'Was convincing the world that he didn\\'t exist...<br /><br />This is a line that is probably remembered by a lot of people. It\\'s from The Usual Suspects of course in relation to Kaiser Gold..I mean Sose..<br /><br />I got another one like that: -The dumbest trick a director ever pulled was trying to convince an audience he actually had a storyline-<br /><br />This movie is one of the saddest pieces of film-making I have seen in a long time. It starts out so well, with really fantastic cinematography, great acting and a very smart premise. But alas, the only way this movie is heading is on a course of self-destruction. And it does so, not by a single blow but with nagging little wrist-cuts.<br /><br />Pay no attention to the comments here that marvel at the fact that they found a way to explain this donut. With enough booze in my brain I would probably be capable of explaining the very existence of mankind to a very plausible degree. I have seen and read about a dozen totally different ways people explained the story. And they vary from a story set totally in someones head, playing chess with himself, to a cunning way for a criminal to play out his enemies by means resembling chess gaming.<br /><br />And that\\'s all jolly swell. But at the same time it is a painful giveaway that there is something terribly wrong with this story. And apart from that, it is in any case a blunt rip off of a score of movies and books like \"Fight Club, Kill Bill, Casino, The Usual Suspects, Snatch, Magnolia and Shachnovelle. And we are not dealing with kind borrowing here, it\\'s a blatant robbery.<br /><br />What ultimately goes wrong here in this movie is that the storyline swirls like a drunk bum on speed. If this movie was a roller-coaster ride, you\\'d have crashed into the attraction next to it shorty after take off. There are so many twists in this movie which will never be resolved, that if it was a cocktail, you\\'d be needing a life supply of hurl-buckets to work of the nausea after drinking it. Nothing is ever explained and when you finally get some grasp of the direction you think it\\'s going, you get pulled in yet another one.<br /><br />I guess this story wasn\\'t going anywhere on paper and Ritchy must have thought that is was awesome to make a movie out of it anyway, being the next David Lynch or something.<br /><br />1/10 for totally violating one\\'s own work (Ritchy: seek professional help). What could have easily been a gem instead becomes a contrived art-piece, food for pseudo intellectuals to debate on at sundayafternoon debating-clubs. <br /><br />Spare your soul and stomach, avoid at all cost!'\n",
            " b'I bought this video at Walmart\\'s $1 bin. I think I over-paid!!! In the 1940s, Bela Lugosi made a long string of 3rd-rate movies for small studios (in this case, Monogram--the ones who made most of the Bowry Boys films). While the wretchedness of most of these films does not approach the level of awfulness his last films achieved (Ed Wood \"classics\" such as Bride of the Monster and Plan 9 From Outer Space), they are nonetheless poor films and should be avoided by all but the most die-hard fans.<br /><br />I am an old movie junkie, so I gave this a try. Besides, a few of these lesser films were actually pretty good--just not this one.<br /><br />Lugosi is, what else, a mad scientist who wants to keep his rather bizarre and violent wife alive through a serum he concocts from young brides. They never really explained WHY it had to be brides or why it must be women or even what disease his wife had--so you can see that the plot was never really hashed out at all.<br /><br />Anyways, a really annoying female reporter (a Lois Lane type without Jimmy Olsen or Superman) wants to get to the bottom of all these apparent murders in which the bodies were STOLEN! So, she follows some clues all the way to the doorstep of Lugosi. Lugosi\\'s home is complete with his crazed wife, a female assistant and two strange people who are apparently the assistant\\'s sons (an ugly hunchbacked sex fiend and a dwarf). Naturally this plucky reporter faints repeatedly throughout the film--apparently narcolepsy and good investigative journalism go hand in hand! Eventually, the maniacs ALL die--mostly due to their own hands and all is well. At the conclusion, the reporter and a doctor she just met decide to marry. And, naturally, the reporter\\'s dumb cameraman faints when this occurs. If you haven\\'t noticed, there\\'s a lot of fainting in this film. Or, maybe because it was such a slow and ponderous film they just fell asleep!'\n",
            " b\"I buy or at least watch every Seagall movie. He came out with a handful of good movies then descending into poor stories, bad camera work and a walk-thru persona, he nearly lost me. A few movies ago he remembered how to make a decent movie. Now he's forgotten again. This film is seriously dark (on any level you care to name). There is a lot of slash & gash going on here with no discernible purpose unless it's meant as a warning against the military.<br /><br />Seagall may have had a stand-in for many of his scenes as it was often too dark to tell and someone else's voice was used most of the time. Sadly the only interesting character was the bad guy who killed his guard to escape custody & then proceeded to raise havoc all over the place. Okay since when do we place an armed guard in the holding room with a prisoner? Anyway this bad guy was at least colorful, and very focused. There's lots of gore if you like that king of thing. It looked to me like the bad guys tore the same gash every time. I'm just glad they didn't suck the blood from their hapless victims. I harken you back to my summary. Basically it is a horror movie disguised as an action film.Dec 6,2006\"\n",
            " b'I had never heard of Larry Fessenden before but judging by this effort into writing and directing, he should keep his day job as a journeyman actor. Like many others on here, I don\\'t know how to categorize this film, it wasn\\'t scary or spooky so can\\'t be called a horror, the plot was so wafer thin it can\\'t be a drama, there was no suspense so it can\\'t be a thriller, its just a bad film that you should only see if you were a fan of the Blair witch project. People who liked this film used words, like \"ambiguity\" and complex and subtle but they were reading into something that wasn\\'t there. Like the Blair witch, people got scared because people assumed they should be scared and bought into some guff that it was terrifying. This movie actually started off well with the family \"meeting\" the locals after hitting a deer. It looked like being a modern day deliverance but then for the next 45 minutes, (well over half the film), nothing happened, the family potted about their holiday home which was all very nice and dandy but not the slightest bit entertaining. It was obvious the locals would be involved in some way at some stage but Essendon clearly has no idea how to build suspense in a movie. Finally, when something does happen, its not even clear how the father was shot, how he dies, (the nurse said his liver was only grazed), and all the time this wendigo spirit apparently tracks down the apparent shooter in a very clumsy way with 3rd grade special effects. The film is called Wendigo but no attempt is made to explain it in any clear way, the film ends all muddled and leaves you very unsatisfied, i would have bailed out with 15 minutes to go but I wanted to see if this movie could redeem itself. It didn\\'t.'\n",
            " b\"The Write Word<br /><br />What you see is what you get. Not really! What Madhur Bhandarkar's brave and brilliant 'Page 3' does is destroy the myth attached to the glam and glitterati that colour the pages of our newspapers and whose lives(read party habits) we follow with such maniacal fervour which only our intrinsic voyeuristic streak can explain. <br /><br />The page 3 phenomenon is as deplorable as it is enigmatic. How exactly did it gain such control over the printed word and when did it start to encroach into the front page is subject for another debate. Bhandarkar cleverly avoids that. He is concerned only with the mechanisms of this grotesque existence. And in doing that, he pieces together the various elements of this way of life. Like Robert Altman(although I'm not comparing Bhandarkar to Altman's genius), Bhandarkar uses myriad characters to further his motive. Whether it is a page 3 wannabe NRI, the gate-crashers, the newly-rich, an upcoming model, a socialite politician or an erotic novella authoress; all the characters are introduced with an objective and each of them has a separate character-sketch, even if their parts may be miniscule. And therein lays the film's appeal. <br /><br />Konkona Sen Sharma plays Madhavi Sharma, a young and talented journalist who covers page 3 for Nation Today. Initially content with her job, she soon begins to see the ugliness of this underbelly that is covered by its fake and cosmetic profligacy. But Bhandarkar resists the temptation to make this subject into a moral-policing movie and avoids concentrating on one character alone. Hence the movie is not only about Madhavi, but also equally about Deepak Suri(Boman Irani)- Madhavi's editor who passively accepts his role as a cog of a larger machinery, Anjali Thapar(Soni Razdan)- a socialite suffocating from the social pollution, Abhijeet(Rehan Engineer)- a homosexual make-up artist and Madhavi's roommates Pearl(Sandhya Mridul)- the sassy airhostess and Gayatri(Tara Sharma)-an aspiring actress. It seems like an impossible task to assimilate so many characters(and more) in one story, but full credit to Nina Arora and Manoj Tyagi for penning a tight screenplay. The dialogues by Sanjeev Datta and Bhandarkar have been written with great attention to detail. <br /><br />Any narrative, no matter how good, can fall flat with the lack of genuine performances. Thankfully, 'Page 3' brims with actors and not stars. Konkona goes through her author-backed role with effortless ease. Ditto Boman. Sandhya Mridul gets the best written part, but almost overdoes it. Atul Kulkarni is wasted though with an underwritten character. At times, the director seems too keen to incorporate as much as possible(paedophilia, homosexuality, etc.). But the contexts in which they are used do not make them look rushed. <br /><br />Ultimately, Bhandarkar's attempt is to satiate our voyeurism, but he takes it a step further. He takes us inside the photographs and exposes us to the gruesome realities of this sect of humanity that strangely seems to be living in a different and remote world. These are the same people that indulged in new-year's revelry while a few hundred kilometers away their fellow countrymen had been ravaged by nature's ferocity! Clever writing, skillfully incorporated songs, able performances and a genuine feeling of sincerity are what make this film worthy in spite of its lack of finesse and poor production values. 'Page 3' is an optimum way to enter a new year of cinema.<br /><br />- Abhishek Bandekar<br /><br />Rating- ****<br /><br />* Poor ** Average *** Good **** Very Good ***** Excellent<br /><br />29th January, 2005\"\n",
            " b'By my \"Kool-Aid drinkers\" remark, I mean that these are such devoted fans of the man Pavarotti that they make no attempt to objectively rate this film. Giving this a 10 is akin to giving Wally Cox the award for Mr. Universe or putting a velvet Elvis painting in the Louvre!!! When this film debuted, I remember the savage reviews with headlines such as \"No, Giorgio\" and some said it was among the worst films ever made. This is definitely overstating it as well. While bad and far from a great work of art, there was a lot to like about the film and the movie\\'s biggest deficit was not the acting of Pavarotti nor his girth.<br /><br />Believe it or not, the brunt of the blame rests solely on the shoulders of the writers (who, I believe, were chimps). It is rare to see a movie with such clich\\xc3\\xa9d dialog or goofy scenes like the food fight, but even they aren\\'t the heart of the problem. The problem is that the writers intend for the audience to care about a \"romance\" that consists of a horny married middle-aged man and a seemingly desperate lady. Perhaps European audiences might be more forgiving of this, but in the United States in 1982 or today, such a romance seems sleazy and selfish--especially when Pavarotti tells Harrold that he loves his wife and \"this is just fun\". Wow, talk about romantic dialog!! Sadly, if they had just changed the script a little bit and made Pavarotti a widower or perhaps had his wife be like the wife from a couple classic Hollywood films, such as from ALL THIS AND HEAVEN, TOO or THE SUSPECT (where the wife was so vile and unlikable you could forgive the husband having an affair or even killing her). Instead, she\\'s the loving mother of two kids who waits patiently at home while her egotistical hubby beds tarts right and left--as Pavarotti admits to having had many affairs before meeting Harrold.<br /><br />Sadly, even the gorgeous music of Pavarotti couldn\\'t save this film. Towards the end of the film, there are some amazing scenes in New York where the set is just incredible and Pavarotti\\'s singing transcendent. For that reason, I think the movie at least deserves a 3. I really wanted to like the film more, but it was a truly bad film--though not quite as rotten as you might have heard.<br /><br />Sadly, from what I have read, this film might be a case of art imitating life, as Pavarotti\\'s own life later had some parallels to this film, though this isn\\'t exactly the forum to discuss this in detail.'\n",
            " b'This movie is ridiculous. Anyone saying the acting is great and the casting is superb have never seen even mediocre cinema. The acting is obviously terrible in the first 5 characters you meet. Lame. I feel like all the other \"soaring\" comments must have been made by people associated with the filmmakers. I was not very impressed by the storyline, but just wanted to see some beautiful Oregon countryside, and there was some decent cinematography--but the casting was anything BUT inspired. I think this movie also makes a mockery of the generally noble suggestion that something deep in the Amerindian culture has been ignored and perhaps lost and that reviving it is worthwhile, and possible. It places jokes in the wrong and all-too-obvious places, and makes me think it was written by the State Department or something. Back to the drawing board. To even suggest that this film deserves a place in the same vicinity of classics like Harold and Maude is absolutely retarded, and along the same line of begging and pretension and \"joking\" as is rampant in this film.'\n",
            " b\"As a fan of looking further into the phenomenon that is school shootings, this film took an interesting and different approach to the idea. Presented as a series of video recordings made by the two troubled men (I cannot refer to persons who kill as boys or teens), the months of preparation leading to zero day (the codename for the day on which they will attack) the film tries to present the situation from the opposite end of the gun. It seems intent on portraying the pain they suffer, yet focuses on the literal preparation. The problem is that little in terms of emotion is directly delivered. The only point at which emotion became overwhelming was the ending, as expected. But leading up to this point, it's never really clear as to why they are planning this out. We are told the obligatory story that they were mocked, but the film also seems to contradict this. Without ruining the film, it's easy to say it was a great attempt and had equally great intentions, but falls short because of sloppy film-making. All directing is amateur, to further the homemade video concept, but the story and continuity is weak. The film seems to want the audience to decide a lot, but also fails to provide the information for such an event. The ending is abrupt, and doesn't feel like it finishes everything that the film began.\"\n",
            " b'After seeing \"Driven\" on a plane flight to America 3 years ago I truly believed I had seen the worst film ever created, and I could relax safe in the knowledge I would never have to suffer that much in front of a screen ever again. Unfortunately as I found out last night this was not the case. Revolver is so monstrously bad I am actually thinking about recommending friends to go and see it, just so I don\\'t feel like I\\'m the only one stupid enough for being conned into watching this. Its really quite amazing how much this film falls completely on its face with the constant, and I mean CONSTANT voice overs of the main characters, with totally inane pretentious nonsense! I was actually getting angry in the cinema listening to Andre Benjamin\\'s utterly relentless droning for what seemed like half the film, whilst all the time thinking - what would Turkish have done to this complete joke of gangster/con man, whatever he\\'s supposed to be, when he made his \"offer\"? I\\'ll tell you what. He would have told him to f**k off, blown his head away, and watch with utter disdain as his equally inept partner waddles away as fast as his chubby little legs would carry him. I mean what are we supposed to believe is going through Jake\\'s head when they offer him their \"solution\" to his problem? They\\'re con men, therefore they must obviously also have the skill to cure incurable blood diseases! I mean ffs. Doesn\\'t he start to wonder why his symptoms aren\\'t getting worse? Doesn\\'t the penny drop on the third day what is happening instead of Richie subjecting the audience to a painfully patronising phone call from Avi to Jake to let him know he\\'s been conned. <br /><br />Anyway, I can add a small positive note to the film by moving on to the dry humour if provides, thankfully of a similar standard to his previous films\\xc2\\x85\\xc2\\x85. bulls**t! This film doesn\\'t try anything as smart as redeeming itself through some well timed amusing lines, oh no. It somehow managed to be so disastrously unfunny I genuinely didn\\'t hear so much as a titter from a completely packed cinema \\xc2\\x96 and anyone who knows the UGC in Sheffield knows how full a main screen can get, and not 1 person so much as smiled. Maybe he never wanted the film to be funny, and fair enough you can still make good gangster films without comedy, but what was he planning on hanging this film on may I ask? The unnecessarily baffling plot!?? I sincerely hope not!<br /><br />By far the most satisfying moment I went through last night was hearing the very loud sighing coming from ALL directions of the audience as everyone desperately prayed for the film to end. It was also really quite amusing watching just how fast patrons were fighting and dashing for the exits after they realised it was over, and they were free from their torment!<br /><br />I\\'ll round this off (I\\'ve got to finish, writing this is making me angry again) by elaborating on the \"end\". I mean sh**t! The ending\\xc2\\x85.. no, sorry I can\\'t, your just going to have to go and see it. It can\\'t be put in words, it just can\\'t, and after you\\'ve seen it you\\'ll know why. Uuhhhhh \\xc2\\x96 shudders \\xc2\\x96'\n",
            " b'What more can be said? I have not been this fascinated with a young actress since Cate Blanchett burst upon the scene over ten years ago. And although both Blanchett and Blunt have played Queens now( seems to be the benchmark for up and coming actresses), the roles are complete polar opposites.<br /><br />Simply put if you are looking for high passion, compelling drama, and Machiavellian intrigue, this is not the movie for you. This isn\\'t to say that the script or direction was bad, its just that the subject of the film did not lead too dramatic a life when compared to other notable royals like Elizabeth I, Anne Boylen, Henry VIII, Henry V, Henry II and Elainor of Acquitane. These are people whose lives were the stuff such as good soap operas are made of and whose policies and decisions altered the course of British ,and in most cases, world history. Victoria, in contrast, ascended the throne without incident, she quasi-governed a nation that was fast becoming a global power due to industrialization and the rise of the Navy, her State had a stable government led by competent and dynamic politicians, and she married young had a harmonious family life. The facts of her life are not the Sturm und Drag such as powerful dramas are made of.<br /><br />The heart of the film, aside from the attempt to dramatize her stultifying upbringing and the machinations surrounding her throne, is the story of the one thing that was truly shocking and surprising about her reign- a love story. Marriage made for financial or political reasons is with reason not necessarily the place to look for world shaking passion, yet Victoria will always be remembered in history as being sort of a Patron Saint marital fidelity, happiness and ideal family life. Thus, central to the film is the budding love of Victoria and her Prince Albert. I was very taken with Rupert Friend\\'s characterization of Albert whom he portrayed as a kind, patient, somewhat earnest and maybe a touch naive young man, looking to\" do good in the world and help\". In short, he is a good man with a good heart, not the most dynamic figure to base a drama around, but as that is not the point of the story, that does not matter. The heart of the character shines through thanks to Friend\\'s understated yet earnest performance. <br /><br />As for the Queen, well..Emily Blunt is sublime. Her beauty cannot be denied, but she is more than something pretty to look at; her face is like quicksilver because of her expressiveness. The slightest arch of the eyebrow, glance of the eye or slight wry smile delivers so much. Again, this is not a bombastic performance of heavy speeches and impassioned pleas, its not that kind of movie. But what Ms. Blunt does do with the role is show the simple humanity of the character with potent subtlety. <br /><br />For example, we see the joie de vivre that has been kept in check by Victoria\\'s mother ( Miranda Richardson) and her scheming adviser/lover Conroy expressed in the simple things like Victoria trying to sketch her dog. We see her delight and fascination upon first meeting Albert by her eyes being continually drawn to him. We see her nervous and overwhelmed when addressing Parliament upon her Ascension. And my favorite scene of all in the film- we see her nervous, happy, and hopeful as she steels herself to do what really most women never have to do in their life- ask the man she loves to marry her, a proposition so ridiculous for those times( and some would say now) that Victoria bursts out in nervous laughter before she can even say \"marry me\". Again, this is not a movie for over the top larger than life expressions, but more a study in the subtleties of a character and making the little things say so much.<br /><br />So, overall, I judge the film by what it is and what it tried to do and as such I give it a 7. I felt that some of the politics could be better explained and that some very fine actors were wasted with little do and little character development, namely Miranda Richardson as the Duchess of Kent, and the characters of Conroy and Lord Peal. Again, the film need not have spent a large amount of time on those characters, but a little more exposition would have helped to explain the political environment. Also I would have loved to have seen more of the adjustment to married life between Victoria and Albert, but that may be just my greed for more scenes between Friend and Blunt. <br /><br />In summary, don\\'t view this film in terms of a historical drama but for what it really is, a love story between two characters that happen to be historical figures. I give this film a solid 7 for wonderful lead performances, brilliant costumes and scenery and the magnificent Victoria of Emily Blunt. And anyone who has any shred of romance left in them, you will be touched by the end of this movie. God save the Queen.'\n",
            " b\"Whoever thought that ANOTHER Home Alone film would be a good idea should have their head examined... Same plot, different kid, more villains (which leads to MORE endless stupidity in the traps). The other two films were bad enough, and this is where it hits rock bottom. People may as well watch the other films for plot, as it's all identical.\"\n",
            " b'(SPOILERS AHEAD) Russian fantasy \"actioner\" (and I use the term loosely) that I\\'ve been trying to watch for over a year. I\\'ve finally gotten to the end and now I wish I didn\\'t put in the repeated effort.<br /><br />In an effort to save two hours of your life I\\'m going to tell you he plot- a guy who has the ability to project a long blade out of his arm returns home to see his mom. Things turn ugly after he is beaten up by the mafia boyfriend of an old girl friend. He takes revenge on the guy when he brings the girl home. The guys mafia mom sends her men out to get revenge while the cops begin looking for him as well.<br /><br />Very little is said. no explanation is really given for anything (like why they lock id girlfriend in an asylum) and the action, for the most part is all off screen. The film essentially consists of a guy who looks like Adrian Brody looking intense and not saying anything, killing people (off screen-most of the action happens off screen). It looks good, is well acted and had there been some form of reason for what is going on it might have been a good film. Hell, I would have liked some sense of real character development or back story (all we know is that the guy was picked on as a kid). The movie runs the better part of two hours and it feels like its six. If they weren\\'t going to tell us anything they could have at least picked up the pace so it seemed like it was moving too fast. No instead we get the hero on a boat. The hero in a bus, the hero walking, the hero looking disturbed.Hero with his girl. It really annoyed me since I think this could have been a good film if they had simply done something or had someone actually say something meaningful other than give instructions to \"get this guy\".<br /><br />4 out of 10. Its about four hours (all my attempts to see this) I\\'ll never get back. Only for those who want to see a brooding Russian action film with very little action'\n",
            " b\"Cash (Now played by Khrystyne Haje in for Angelina Jolie) has wandered to a post apocalypse wasteland (after her protector has died from old age, said protector was played by Elias Koteas, an actual decent actor) and now she finds that people wander through the rubble looking for cyborgs to trade for scrap metal and cash. She leads a group of burned out cyborgs (That includes William Katt, Evan Lurie and a human scientist played by Zach Galligan) against bounty hunter Richard Lynch. Malcolm McDowell has two minutes of screen time as Lynch's employer. Cyborg 3 does manage to be better than the other two entries but it still is a largely dull feature. The problem this time is that the ideas with potential are never used well, the action sequences are routine and the name cast such as McDowell, Katt and Galligan are given little to do. Haje is indeed a whiny heroine and Lynch is too over the top(as usual) and the film lacks the inspiration or ambition to be as fun-bad as it's hilarious predecessor. (The one with Van Damme, the second one is just dull.) Also disappointing is the science fiction angle which almost aggressively resists any good idea it has. As an action flick this is routine and by the numbers B-movie stuff and it is competently made, that's the only thing positive I can say about it.<br /><br />*1/2 out of 4-(Poor)\"\n",
            " b\"Jude Law gives his all in this beautifully filmed vampire flick which offers little else of value. Completely lacking in eroticism, excitement, or leading ladies with appeal. One decent fight, a few moments of mild suspense. And a one-note plot.<br /><br />The movie waxes philisophic in a series of conversations between Law's character and a dogged homicide detective, well played by Timothy Spall. But despite their best efforts, both actors are staked to the cross of the film's banality.<br /><br />With a lesser actor in the lead role -- and without the benefit of Oliver Curtis's cinematography -- Crocodiles would blend into the sea of low-budget vampire quickies.\"\n",
            " b\"Okay, so I have come a long way from Houston by now, but whenever I see this movie, I am taken back to a little cowgirl's dream to one day ride the bull at Gilley's. (It burned down before I was of drinking age.)<br /><br />If you grew up in in East Texas, then you know this movie is an accurate depiction of contemporary life at that time. If you didn't then trust me and watch the movie. Either you will join the many who love it (and at the same time strangely repulsed), or at the very least, you can make fun of the red-necks. (There is plenty material for poking fun.) This movie doesn't try to be P.C. (what was that in the 80's) or hide the white trash element and it is honest to the time and place.<br /><br />Gotta be a 10 for me!\"\n",
            " b'The first mistake you make in titling a film is to use \"of the living dead\" without really having a budget for real zombie FX. Sure, this was a low budget zombie flick - really low budget. I thought it was a film school project. Amateur actors and amateur effects.<br /><br />It was really not too bad considering the above, and it presented an interesting twist to the zombie genre. If you are going to get an \"R\" for violence, you might as well give us some good shots of the babes being attacked. The women were so little used in this film that it could almost be classified as \"gay interest.\"<br /><br />And, I am staying out of Oakland. There was a heck of a lot of shooting going on and no cops in sight!'\n",
            " b'Its like if you took the general themes of The Usual Suspects and Fightclub, take away all their style and class and mixed them together with a lot of pretentious new wave \"i\\'m intellectual so my movie must be hard to make sense of\" film maker rubbish, mashed in a few extra styles for good measure, chopped off the ending, there you have Revolver.<br /><br />Yes, I did think about it for a little bit after watching, and yes it did kind of make sense, however that doesn\\'t stop it being garbage.<br /><br />Waste of money. Waste of time.<br /><br />Up there as the worst Movie I have ever seen, with not even a bad movie novelty value to redeem it a little.'\n",
            " b\"This film is described as a action/comedy. The first 15 minutes and James Belushi's presence point to it being a humorous gangster film.<br /><br />However, the introduction of the ridiculous female lead begins a number of ludicrous plot twists which do little to conceal the contrived ending. The film moves between comedy(description used loosely) and surreal drama with some out of context adult scenes thrown in. The lead female (the Angel of the title) is poorly acted and the actress is not helped by the script which requires some unbelievable, extremes of character to be portrayed. James Belushi is the only one who handles his part well but is also let down by the poor script. One to avoid.\"\n",
            " b\"I once promised never to walk out of any film ( a personal policy that made me suffer through the most different kinds of dreck, such as Rambo 3, Baise Moi, Deep Impact) - but Mr. Seidl almost succeeded. Hundstage was a truly awful experience. Anyone who sees this movie will think that Austrians are a miserable, pathetic bunch of retards. It shows a world where love and humanity don't exist, a world where people humiliate each other only for one reason - to distract from their own miserable existence. By choosing a documentary-like style with non-professional actors (most of them look like straight from the imagination of Austrian shock-cartoonist Deix) director Seidl wants to make us believe that this is real life in Austrian (European? Western?) suburbs. The viewer is confronted with depictions of sex orgies, violence against women and handicapped people, madness and degradation. But this isn't social criticism. This is just pure shock without any aesthetic value. Instead you get bad acting, bad cinematography, bad filmmaking. If anybody needs a film like this to realize that there are things wrong in our society then this person must have walked through life with closed eyes. This is pseudo-social criticism with a sledge hammer. And it looks down on people in a disgustingly condescending way. It shows ugly people - that is not the reason why I hate it. But it depicts average people in an ugly, misanthropic way. And this is why this film is truly despicable.\"\n",
            " b'Joan Fontaine is \"A Damsel in Distress\" in this 1937 musical starring Fred Astaire, George Burns, and Gracie Allen. The plot, what there is of it, is about a British woman (Fontaine) in love with an American, who is mistaken for Astaire, a musical comedy star.<br /><br />The film, directed by George Stevens, contains some wonderful Gershwin music, including \"Nice Work if You Can Get It\" and \"A Foggy Day.\" The best scene is the \"Stiff Upper Lip\" number, which takes place in a fun house.<br /><br />Astaire\\'s singing voice sounds more robust in this film than it does in others, and he has a couple of excellent dance numbers. Burns plays his over the top publicist and Allen is Burns\\' secretary. She\\'s hilarious. The problem, as others have pointed out, is Fontaine, who has to dance with Astaire at the end of the film. Stevens could easily have used a double because he shows the dance in a long shot, and it takes place among the trees. I would have thought it was a double except the dancing was so lousy.<br /><br />Definitely worth seeing despite its flaws.'\n",
            " b'I was dreading taking my nephews to this movie, as I didn\\'t think it was going to be well done. The kids, ages 6 and 10 were set on seeing it, so I caved. I must admit that it was not nearly as bad as I had thought, but was still a far cry from the book. The movie seemed right on with the 10 year old\\'s understanding and sense of humor. I found that the 6 year old understood what was going on and he was presenting solutions to the issues that were taking place. I eventually had to explain that sometimes the movies don\\'t show the best solutions to the problems because it is more fun to watch what happens if they make the \"silly\" or \"stupid\" choices.'\n",
            " b'The title song for this movie ...........is the greatest free spirited ballad ever written! ! ! ! ! ! ! ! ! <br /><br />I first saw this movie back in 1978-79 when I first subscribed to cable. In 1979 cable was just starting to become common place in homes. (or at least that when it was becoming common here in Missouri).<br /><br />This might very well be the first movie I ever watched on the pay channel called \"The Movie Channel\" - which was called \"The Star Channel\" back then, they changed the name to \"The Movie Channel\" in the early 1980\\'s........I received a free month of \"The Star Channel\" with my new cable subscription. \"The Van\" was one of the movies that was in heavy rotation on that network at that time.<br /><br />I remember watching this movie back then, and thinking it was a typical teen flick(along the same lines as other medium budget teen flicks) ...the ones where the plot revolves around nudity and parties.<br /><br />I totally forgot that this movie even existed until I recently seen this movie again after having not seeing it for decades( I found a copy of it on DVD for sale in cheap bin) I recognized it, and bought it for a mere $4.99.<br /><br />Seems like I had remembered this film being much better that it was(is). However watching it back then was a different experience than watching now(30+ years later).<br /><br />It was fun to see the kids listing to rock n roll music, smoking weed, and having sex in the back a fancy van(often all at the same time). This is what a good teen party movie should be.<br /><br />There isn\\'t much of a plot other than the fact that the main character fantasizes about having sex with his arch rivals good looking girlfriend ...he blows all of his college savings money to purchase a tricked out Dodge Van(with shag carpet walls . mirrored ceiling and a water bed in it)to get her attention, and he eventually gets to have sex with her. But his arch rival finds out and comes looking for him (so that the two of them can settle their differences by drag racing their vans)....he and his arch rival end up wrecking both of their vans, and instead of stealing away his arch rivals girlfriend, he wins over the heart of a preppy(lesser attractive) girl that he half/ass dates through most of the movie and he decides he is happier/better off and the movie ends.<br /><br />the movie does have it\\'s funny moments. But watching this movie 30+ years later, it becomes more of a trip down memory lane. Because I still can remember Pizza parlors, pinball arcades, It also brought back memories of cruising around a small town while we smoked pot as we would yell at good looking girls and hoping to get laid (sometimes I\\'d get lucky and get some decent looking girl to share a joint with me and we\\'d screw in the backseat afterwords, I also remember many of the songs in this move(when they were new)......this movie serves as a perfect time capsule for that era in those regards (brought back lots of memories)<br /><br />the one thing that is depicted in this movie that I honestly can not remember is ....I never remember a time when full sized vans were as popular as this film depicts them as being. I remember that era very well, and I don\\'t young men going around wishing they had a van. Instead I remember young men in the 70\\'s (self included) wanting a Pontiac Trans Am, Chevy Camaro or a hot rod Ford Mustang, but never a van. This movie makes it appear as if vans were most popular item going and that every young man wanted one(which just wasn\\'t true of that era)'\n",
            " b'What do you do with a 14-inch cocked porn star who was involved in drugs and murder, and then died of AIDS? You make a movie, of course. The probable reason why it wasn\\'t made earlier is the fact that Eddie Nash would have been in the way of its production. So it\\'s no coincidence that the film was made just a little while after Nash was sent to prison.<br /><br />The best thing about the movie is its quick pace. There is no time wasted on unnecessary crap. And why would it be? There is too much good material here to require dull filler scenes.The cast is good. Kilmer has been mediocre in a string of movies, so here was finally a role quite suitable for him. Bosworth is cute so it\\'s irrelevant how she acts (she\\'s solid), and McDermott, who is otherwise quite annoying, is rather good, to a large extent because he is wearing so much facial hair that I didn\\'t recognize him at first. (I wish they did that to Cruise in every movie so I wouldn\\'t have to watch his dumb face.) I utterly failed to recognize Christina Applegate, and wouldn\\'t have known she was in it, had I not seen her name in the end-credits. Kudrow is charming as ever, a bit unusual to see her in a dramatic role. (Btw, \"Friends\" is the worst TV sitcom of all time.) The only casting choices that were questionable were an early near-cameo by Carrie Fischer and the totally absurd inclusion of the 90s moron Janeane Garofalo. You thought I\\'d include Paris Hilton, too, didn\\'t you? No, I think Hilton is the ideal choice in her 10-second appearance as a dumb whore. Because the film is about decadence, among other things \\xc2\\x96 and about a porn actor \\xc2\\x96 she fits in perfectly.'\n",
            " b\"This is said to be a personal film for Peter Bogdonavitch. He based it on his life but changed things around to fit the characters, who are detectives. These detectives date beautiful models and have no problem getting them. Sounds more like a millionaire playboy filmmaker than a detective, doesn't it? This entire movie was written by Peter, and it shows how out of touch with real people he was. You're supposed to write what you know, and he did that, indeed. And leaves the audience bored and confused, and jealous, for that matter. This is a curio for people who want to see Dorothy Stratten, who was murdered right after filming. But Patti Hanson, who would, in real life, marry Keith Richards, was also a model, like Stratten, but is a lot better and has a more ample part. In fact, Stratten's part seemed forced; added. She doesn't have a lot to do with the story, which is pretty convoluted to begin with. All in all, every character in this film is somebody that very few people can relate with, unless you're millionaire from Manhattan with beautiful supermodels at your beckon call. For the rest of us, it's an irritating snore fest. That's what happens when you're out of touch. You entertain your few friends with inside jokes, and bore all the rest.\"\n",
            " b'On the day of the California Presidential Primary, between midnight and 1:00 AM, the spy Victor Rovner sends a message from Kuala Lumpur to USA. Meanwhile, in Los Angeles, the Federal Agent Jack Bauer has returned to his family and is having trouble at home with his teenage daughter Kimberly, who blames her mother Teri for putting Jack out of the house. Teri and Jack decide to have a serious conversation with Kim, and they discover that the girl has run away home. While trying to solve his domestic problem, Jack is called to his Counter Terrorist Unit by his colleague Nina Myers for a meeting with their chief Richard Walsh, who discloses a menace against the life of Senator David Palmer, who is running for president, and they need to find the shooter. Later, Walsh has a private conversation with Jack and tells that there is a conspiracy in the agency against David Palmer, and assigns Jack to find the conspirators. When an airplane explodes over the Mojave Desert, Jack has one additional issue to worry about.<br /><br />The first episode of \"24\" is a promising beginning of a successful series, introducing Jack Bauer. This is the first time that I have watched this show and I confess that I liked what I have seen: a complex and dramatic story, with multiple and realistic characters. Kiefer Sutherland is perfect in the role of a family man and a reliable agent in charge of three difficult missions at the same time: find a killer to protect an important politician; find a traitor in his agency; and find his teenage daughter, who is getting in trouble, while trying to save his marriage. My vote is eight.<br /><br />Title (Brazil): \"12:00\"'\n",
            " b'Screenwriter Lisa Lutz began writing the screenplay at the age of 21 in 1991 <br /><br />Is she even in business? If someone gave her another chance after this piece of crap, she\\'s up for the most Fortunate Person Of Ever award.This movie sucks to no END...It never ceases to amaze me what the turn into movies...and the fact that they made this writer put it off for a bit? Seriously? I can write better crap than this in my sleep.<br /><br />OK, so how many lines to I have to type? I don\\'t get this at all. I guess I\"m a newbie. I guess I don\\'t understand why there should ever be a limit to what anyone has to say...or a quota? Seriously, I don\\'t care if you have a one word sentence...or even a one word response. I mean, c\\'mon? <br /><br />Thanks...is this enough, finally?<br /><br />This movie is worthless.'\n",
            " b\"A true classic. Beautifully filmed and acted. Reveals an area of Paris which is alive and filled with comedy and tragedy. Although the area of 'Hotel du Nord' and the Hotel itself still exists, it is not as gay (in the original sense of the word) and joyful as it once must have been. The film makes one yearn for the past, which has been lost, with a sigh and bittersweetness.\"\n",
            " b'i\\'ve discovered that this film gets rented based off of the packaging. the zombie on the front of the DVD looks cool and scary. then you get to the movie and it\\'s women with raccoon masks on. zero special effects...and even the fight scenes you can see them miss punches by 2 feet. the funny thing is that Lommel acts in the movie briefly himself and is worse than the rest of the crap actors in the movie. the only thing i can think is that Lommel is just trying to make such a bad film that people dub it a \"cult classic\"...however, i can\\'t possibly imagine anyone thinking this is anything but one of the worst movies ever made. the real horror in this film is how bad it is. i\\'m embarrassed i rented it and vow never to see another Lommel film again!']\n",
            "label:  [1 0 0 0 1 1 1 0 0 1 0 0 1 1 1 1 0 1 0 0 0 1 1 0 0 0 0 1 1 0 0 1 1 0 0 0 0\n",
            " 0 0 0 1 0 0 1 0 1 0 0 0 0 1 0 0 0 0 1 0 0 1 0 1 0 1 0]\n"
          ]
        }
      ],
      "source": [
        "for example, label in train_dataset.take(1):\n",
        "  print('text: ', example.numpy())\n",
        "  print('label: ', label.numpy())"
      ]
    },
    {
      "cell_type": "markdown",
      "metadata": {
        "id": "z2qVJzcEluH_"
      },
      "source": [
        "Next shuffle the data for training and create batches of these `(text, label)` pairs:"
      ]
    },
    {
      "cell_type": "code",
      "execution_count": null,
      "metadata": {
        "id": "dDsCaZCDYZgm"
      },
      "outputs": [],
      "source": [
        "BUFFER_SIZE = 10000\n",
        "BATCH_SIZE = 64"
      ]
    },
    {
      "cell_type": "code",
      "execution_count": null,
      "metadata": {
        "id": "VznrltNOnUc5"
      },
      "outputs": [],
      "source": [
        "train_dataset = train_dataset.shuffle(BUFFER_SIZE).batch(BATCH_SIZE).prefetch(tf.data.AUTOTUNE)\n",
        "test_dataset = test_dataset.batch(BATCH_SIZE).prefetch(tf.data.AUTOTUNE)"
      ]
    },
    {
      "cell_type": "code",
      "execution_count": null,
      "metadata": {
        "colab": {
          "base_uri": "https://localhost:8080/"
        },
        "id": "jqkvdcFv41wC",
        "outputId": "0a9a8af4-10ad-4b58-b091-55addce34857"
      },
      "outputs": [
        {
          "name": "stdout",
          "output_type": "stream",
          "text": [
            "texts:  [b'Tom the cat, Jerry the mouse, and Spike the Dog (here called Butch, his third name, his second being \\'Killer\\') decide to sign a peace treaty to all love each other. It\\'s weird and a bit unnatural seeing them all buddy buddy like this and their friend\\'s seem to think so too. But by the end thanks to a disagreement over a steak, everything is back to normal and all is how it should be. This short is the second one of three on the new Spotlight DVD to be edited and I have no clue why this one was. This cartoon can be found on disc one of the Spotlight collection DVD of \"Tom & Jerry\" <br /><br />My Grade: B'\n",
            " b\"This independent, B&W, DV feature consistently shocks, amazes and amuses with it's ability to create the most insane situations and then find humor and interest in them. It's all hilarious and ridiculous stuff, yet as absurd as much of the film should be, there is a heart and a reality here that keeps the film grounded, keeps the entire piece from drifting into complete craziness and therein lies the real message here. This film is about how we all survive in a world gone mad. That seems to be the heart of the film. For as insane and off the wall as things get, Leon, the 30 yr. old paperboy-protagonist, always tries to keep it together. He's like a child forever trying to catch the balloon that is floating away so that everything will work out for the best, so that everyone can have what they want.<br /><br />The acting in the film could have went far over the top but the exceptional cast really keeps the piece cohesive. Van Meter is perhaps the best of the bunch here with a performance that shines through her absurd diseased tics. Just as the characters in the film do, we overlook her sudden outbursts to see the real person underneath. <br /><br />Majkowski is a true genius here. He takes the utmost ridiculous plot twists and keeps them real. It is his script and his cast that help keep the whole thing afloat. It's a true testament to the skill of Majkowski and all involved that this film, with it's grating plot and characters, never once works our nerves. Majkowski has taken a film that could have been abrasive and repugnant, and somehow given it heart and humor. This is a unique film. Not to be missed. <br /><br />\"\n",
            " b'Ever since I can remember and I\\'m only 18 my mother and I have been and continue to watch older movies because well I find them much more rewarding in the long run (but hey don\\'t get me wrong I do love the movies we have today just not as much as I love movies of the 40s and 50s) Anyways, now I have to say the moment I started watching the movie my eyes were glued to the TV. Of course my favorite character was the Grandmother played by Lucile Watson. But I loved the way Betty Davis and her family was portrayed. The children...did not act like children in the slightest. But there is good reason for that, having had to hid and run most of your life, seeing the awful things children saw those days destroyed their innocence. So people saying \"oooo i hated how the kids acted...blah blah blah\" read between the lines and know they saw things children should not see.<br /><br />Paul Lukas...dear Paul did an amazing job!!! Now I know many people are mad that he go the Oscar and Bogie didn\\'t but hey they both did amazing jobs so I think it could have gone either way. But Lukas\\' performance was so amazing that by the end of the movie I was reduced to tears. I loved this movie so much and recommend it to anyone!! :-D']\n",
            "\n",
            "labels:  [1 1 1]\n"
          ]
        }
      ],
      "source": [
        "for example, label in train_dataset.take(1):\n",
        "  print('texts: ', example.numpy()[:3])\n",
        "  print()\n",
        "  print('labels: ', label.numpy()[:3])"
      ]
    },
    {
      "cell_type": "markdown",
      "metadata": {
        "id": "s5eWCo88voPY"
      },
      "source": [
        "## Create the text encoder"
      ]
    },
    {
      "cell_type": "markdown",
      "metadata": {
        "id": "TFevcItw15P_"
      },
      "source": [
        "The raw text loaded by `tfds` needs to be processed before it can be used in a model. The simplest way to process text for training is using the `TextVectorization` layer. This layer has many capabilities, but this tutorial sticks to the default behavior.\n",
        "\n",
        "Create the layer, and pass the dataset's text to the layer's `.adapt` method:"
      ]
    },
    {
      "cell_type": "code",
      "execution_count": null,
      "metadata": {
        "id": "uC25Lu1Yvuqy"
      },
      "outputs": [],
      "source": [
        "VOCAB_SIZE = 1000\n",
        "encoder = tf.keras.layers.TextVectorization(\n",
        "    max_tokens=VOCAB_SIZE)\n",
        "encoder.adapt(train_dataset.map(lambda text, label: text))"
      ]
    },
    {
      "cell_type": "markdown",
      "metadata": {
        "id": "IuQzVBbe3Ldu"
      },
      "source": [
        "The `.adapt` method sets the layer's vocabulary. Here are the first 20 tokens. After the padding and unknown tokens they're sorted by frequency:"
      ]
    },
    {
      "cell_type": "code",
      "execution_count": null,
      "metadata": {
        "colab": {
          "base_uri": "https://localhost:8080/"
        },
        "id": "tBoyjjWg0Ac9",
        "outputId": "edb410d8-c9f2-414c-c07d-52221a314f26"
      },
      "outputs": [
        {
          "data": {
            "text/plain": [
              "array(['', '[UNK]', 'the', 'and', 'a', 'of', 'to', 'is', 'in', 'it', 'i',\n",
              "       'this', 'that', 'br', 'was', 'as', 'for', 'with', 'movie', 'but'],\n",
              "      dtype='<U14')"
            ]
          },
          "execution_count": 9,
          "metadata": {},
          "output_type": "execute_result"
        }
      ],
      "source": [
        "vocab = np.array(encoder.get_vocabulary())\n",
        "vocab[:20]"
      ]
    },
    {
      "cell_type": "markdown",
      "metadata": {
        "id": "mjId5pua3jHQ"
      },
      "source": [
        "Once the vocabulary is set, the layer can encode text into indices. The tensors of indices are 0-padded to the longest sequence in the batch (unless you set a fixed `output_sequence_length`):"
      ]
    },
    {
      "cell_type": "code",
      "execution_count": null,
      "metadata": {
        "colab": {
          "base_uri": "https://localhost:8080/"
        },
        "id": "RGc7C9WiwRWs",
        "outputId": "37ac0040-b6c9-441c-c928-d190c4d17ba4"
      },
      "outputs": [
        {
          "data": {
            "text/plain": [
              "array([[10, 26, 41, ...,  0,  0,  0],\n",
              "       [ 1,  1,  1, ...,  0,  0,  0],\n",
              "       [94,  4,  1, ...,  0,  0,  0]])"
            ]
          },
          "execution_count": 12,
          "metadata": {},
          "output_type": "execute_result"
        }
      ],
      "source": [
        "encoded_example = encoder(example)[:3].numpy()\n",
        "encoded_example"
      ]
    },
    {
      "cell_type": "markdown",
      "metadata": {
        "id": "F5cjz0bS39IN"
      },
      "source": [
        "With the default settings, the process is not completely reversible. There are three main reasons for that:\n",
        "\n",
        "1. The default value for `preprocessing.TextVectorization`'s `standardize` argument is `\"lower_and_strip_punctuation\"`.\n",
        "2. The limited vocabulary size and lack of character-based fallback results in some unknown tokens."
      ]
    },
    {
      "cell_type": "code",
      "execution_count": null,
      "metadata": {
        "colab": {
          "base_uri": "https://localhost:8080/"
        },
        "id": "N_tD0QY5wXaK",
        "outputId": "16657b92-5bb5-4681-9367-2f3bcac887ad"
      },
      "outputs": [
        {
          "name": "stdout",
          "output_type": "stream",
          "text": [
            "Original:  b'I have just started watching the TV series \"What I like About You\" and I must say that is a joy to watch. I always like to see new shows do well considering a lot of shows go off before you really get a feel for them. I have watched Amanda Bynes since \"All That\" she is truly a funny girl, what is the best about her comedy is that its so natural and what i mean about that is, its something that a person could here there best friend saying, its not rehearsed.<br /><br />I just recently started watching the show and have fell in love. I am just watching re-runs as of now but am looking forward to the next season. All the characters in the show give something to the whole story line. Its nice to see some old face from other shows I enjoyed watching in the past such as, Jennie Garth from \"90210\", Leslie Grossman from \"Popular\", and Wesley Jonathan from \"City Guys.\" The New Character are very talented as well, Nick Zano has that charm the makes you love him even when he is doing something wrong to holly (Bynes).<br /><br />Overall this show has the right ingredients to be successful, I look forward to watching it grow.'\n",
            "Round-trip:  i have just started watching the tv series what i like about you and i must say that is a [UNK] to watch i always like to see new shows do well [UNK] a lot of shows go off before you really get a feel for them i have watched [UNK] [UNK] since all that she is truly a funny girl what is the best about her comedy is that its so [UNK] and what i mean about that is its something that a person could here there best friend saying its not [UNK] br i just [UNK] started watching the show and have [UNK] in love i am just watching [UNK] as of now but am looking forward to the next season all the characters in the show give something to the whole story line its nice to see some old face from other shows i enjoyed watching in the past such as [UNK] [UNK] from [UNK] [UNK] [UNK] from [UNK] and [UNK] [UNK] from city guys the new character are very [UNK] as well [UNK] [UNK] has that [UNK] the makes you love him even when he is doing something wrong to [UNK] [UNK] br overall this show has the right [UNK] to be [UNK] i look forward to watching it [UNK]                                                                                                                                                                                                                                                                                                                                                                                                                                                                                                                                                                                                                                                                           \n",
            "\n",
            "Original:  b\"Joseph L. Mankiewicz's Sleuth didn't need a remake. It's a thoroughly well made film that stands up well to this day. However, given that the modern day remake machine is currently in full swing; I really can't say I'm surprised to see the film updated for modern audience. The plot remains identical to the original film and at its core we have the story of a young man, Milo Tindle, who goes off to see an older man, Andrew Wyke, to discuss a divorce as the younger man is having an affair with the older man's wife. From there, a game of cat and mouse ensues. Its clear right from the outset that director Kenneth Branagh wanted to add a different touch to this film and he does so by way of the central location, which has been changed from the charming games-ridden country house of the original to a technical marvel kitted out with layers of security equipment. I'm glad that the director chose to make this change as nobody wants to see a remake that directly copies of the original; plus there's the fact that the location is well used and always nice to look at. Unfortunately, however, the positive elements of Sleuth 2007 end there.<br /><br />The original film was over two hours long, while this remake is only just a shade over eighty minutes. Naturally, therefore, that means that this version has less about it; and unfortunately it's the characters that suffer. The plot is also rushed and we get into the first twist in the tale far too quickly and before we are given any chance to actually understand why and how these events can be taking place. The film does not build the characters, or the rapport between them, enough to make sure that their relationship makes sense. One major thing that has been changed about the older character is his obsession; in the original he was obsessed with games which turned out to be VERY important once the twists come into play. Here he has some kind of security fetish that doesn't really mean anything by the end. Kenneth Branagh's handling of the film allows for a classy score but the class ends there. The original thrived on it, but this film is happy merely to soil itself with expletives on numerous, and mostly unwarranted, occasions; which cheapen the whole thing. The final twist in the tale is completely different to how it was in the original and ensures that the film boils down to a really hideous conclusion. After spending two hours with the original I understood, respected and liked both characters presented in the film - after eighty minutes of this, I hated them both. I do have some respect for Branagh for not merely rolling out a carbon copy of the original film; but this is not a good adaptation of the great Anthony Shaffer play.\"\n",
            "Round-trip:  [UNK] [UNK] [UNK] [UNK] didnt need a remake its a [UNK] well made film that [UNK] up well to this day however given that the modern day remake [UNK] is [UNK] in full [UNK] i really cant say im surprised to see the film [UNK] for modern audience the plot [UNK] [UNK] to the original film and at its [UNK] we have the story of a young man [UNK] [UNK] who goes off to see an older man [UNK] [UNK] to [UNK] a [UNK] as the [UNK] man is having an [UNK] with the older [UNK] wife from there a game of [UNK] and [UNK] [UNK] its clear right from the [UNK] that director [UNK] [UNK] wanted to add a different [UNK] to this film and he does so by way of the [UNK] [UNK] which has been [UNK] from the [UNK] [UNK] country house of the original to a [UNK] [UNK] [UNK] out with [UNK] of [UNK] [UNK] im [UNK] that the director [UNK] to make this change as [UNK] wants to see a remake that [UNK] [UNK] of the original plus theres the fact that the [UNK] is well used and always nice to look at unfortunately however the [UNK] elements of [UNK] [UNK] end [UNK] br the original film was over two hours long while this remake is only just a [UNK] over [UNK] minutes [UNK] [UNK] that means that this version has less about it and unfortunately its the characters that [UNK] the plot is also [UNK] and we get into the first twist in the tale far too quickly and before we are given any chance to actually understand why and how these events can be taking place the film does not [UNK] the characters or the [UNK] between them enough to make sure that their relationship makes sense one major thing that has been [UNK] about the older character is his [UNK] in the original he was [UNK] with [UNK] which turned out to be very important once the [UNK] come into play here he has some kind of [UNK] [UNK] that doesnt really mean anything by the end [UNK] [UNK] [UNK] of the film [UNK] for a [UNK] score but the class ends there the original [UNK] on it but this film is happy [UNK] to [UNK] itself with [UNK] on [UNK] and mostly [UNK] [UNK] which [UNK] the whole thing the final twist in the tale is completely different to how it was in the original and [UNK] that the film [UNK] down to a really [UNK] [UNK] after [UNK] two hours with the original i [UNK] [UNK] and liked both characters [UNK] in the film after [UNK] minutes of this i [UNK] them both i do have some [UNK] for [UNK] for not [UNK] [UNK] out a [UNK] [UNK] of the original film but this is not a good [UNK] of the great [UNK] [UNK] play                                                                                                                                                                                                                                                                                                                                                                                            \n",
            "\n",
            "Original:  b'MAKE A 0 YOU SACKS OF German STAPLES! well, when i started to watch this sack of crud, it was a Sunday afternoon, and i was just looking for stuff on show time. I was introduced to a hot naked babe, and like any guy (im a guy, the e-mail is my sisters...) i was happy. But then they threw it all to the dogs, spit on it, lit it on fire, and peed it out. You wanna know how? THE DUMB CHICK TALKED! The dialog throughout the film was just horrible. sounded like something my 2nd grade bro could wright. The violence was nice for some scenes, but some was just totally moronic. The scene in the pit were he gives the guy the knife... dumb moron! To sum it up, this is pure cinema barf drenched in the chocolate syrup known as nudity, and topped with the cherry of horrible acting as only a porn star could deliver.'\n",
            "Round-trip:  make a [UNK] you [UNK] of [UNK] [UNK] well when i started to watch this [UNK] of [UNK] it was a [UNK] [UNK] and i was just looking for stuff on show time i was [UNK] to a hot [UNK] [UNK] and like any guy im a guy the [UNK] is my [UNK] i was happy but then they [UNK] it all to the [UNK] [UNK] on it [UNK] it on fire and [UNK] it out you [UNK] know how the dumb [UNK] [UNK] the dialog throughout the film was just horrible [UNK] like something my [UNK] [UNK] [UNK] could [UNK] the violence was nice for some scenes but some was just totally [UNK] the scene in the [UNK] were he gives the guy the [UNK] dumb [UNK] to [UNK] it up this is [UNK] cinema [UNK] [UNK] in the [UNK] [UNK] known as [UNK] and [UNK] with the [UNK] of horrible acting as only a [UNK] star could [UNK]                                                                                                                                                                                                                                                                                                                                                                                                                                                                                                                                                                                                                                                                                                                                 \n",
            "\n"
          ]
        }
      ],
      "source": [
        "for n in range(3):\n",
        "  print(\"Original: \", example[n].numpy())\n",
        "  print(\"Round-trip: \", \" \".join(vocab[encoded_example[n]]))\n",
        "  print()"
      ]
    },
    {
      "cell_type": "markdown",
      "metadata": {
        "id": "bjUqGVBxGw-t"
      },
      "source": [
        "## Create the model"
      ]
    },
    {
      "cell_type": "markdown",
      "metadata": {
        "id": "W7zsmInBOCPO"
      },
      "source": [
        "![A drawing of the information flow in the model](images/bidirectional.png)"
      ]
    },
    {
      "cell_type": "markdown",
      "metadata": {
        "id": "bgs6nnSTGw-t"
      },
      "source": [
        "Above is a diagram of the model.\n",
        "\n",
        "1. This model can be build as a `tf.keras.Sequential`.\n",
        "\n",
        "2. The first layer is the `encoder`, which converts the text to a sequence of token indices.\n",
        "\n",
        "3. After the encoder is an embedding layer. An embedding layer stores one vector per word. When called, it converts the sequences of word indices to sequences of vectors. These vectors are trainable. After training (on enough data), words with similar meanings often have similar vectors.\n",
        "\n",
        "  This index-lookup is much more efficient than the equivalent operation of passing a one-hot encoded vector through a `tf.keras.layers.Dense` layer.\n",
        "\n",
        "4. A recurrent neural network (RNN) processes sequence input by iterating through the elements. RNNs pass the outputs from one timestep to their input on the next timestep.\n",
        "\n",
        "  The `tf.keras.layers.Bidirectional` wrapper can also be used with an RNN layer. This propagates the input forward and backwards through the RNN layer and then concatenates the final output.\n",
        "\n",
        "  * The main advantage of a bidirectional RNN is that the signal from the beginning of the input doesn't need to be processed all the way through every timestep to affect the output.  \n",
        "\n",
        "  * The main disadvantage of a bidirectional RNN is that you can't efficiently stream predictions as words are being added to the end.\n",
        "\n",
        "5. After the RNN has converted the sequence to a single vector the two `layers.Dense` do some final processing, and convert from this vector representation to a single logit as the classification output.\n"
      ]
    },
    {
      "cell_type": "markdown",
      "metadata": {
        "id": "V4fodCI7soQi"
      },
      "source": [
        "The code to implement this is below:"
      ]
    },
    {
      "cell_type": "code",
      "execution_count": null,
      "metadata": {
        "id": "LwfoBkmRYcP3"
      },
      "outputs": [],
      "source": [
        "model = tf.keras.Sequential([\n",
        "    encoder,\n",
        "    tf.keras.layers.Embedding(\n",
        "        input_dim=len(encoder.get_vocabulary()),\n",
        "        output_dim=64,\n",
        "        # Use masking to handle the variable sequence lengths\n",
        "        mask_zero=True),\n",
        "    tf.keras.layers.Bidirectional(tf.keras.layers.LSTM(64)),\n",
        "    tf.keras.layers.Dense(64, activation='relu'),\n",
        "    tf.keras.layers.Dense(1)\n",
        "])"
      ]
    },
    {
      "cell_type": "markdown",
      "metadata": {
        "id": "QIGmIGkkouUb"
      },
      "source": [
        "Please note that Keras sequential model is used here since all the layers in the model only have single input and produce single output. In case you want to use stateful RNN layer, you might want to build your model with Keras functional API or model subclassing so that you can retrieve and reuse the RNN layer states. Please check [Keras RNN guide](https://www.tensorflow.org/guide/keras/rnn#rnn_state_reuse) for more details."
      ]
    },
    {
      "cell_type": "markdown",
      "metadata": {
        "id": "kF-PsCk1LwjY"
      },
      "source": [
        "The embedding layer [uses masking](https://www.tensorflow.org/guide/keras/masking_and_padding) to handle the varying sequence-lengths. All the layers after the `Embedding` support masking:"
      ]
    },
    {
      "cell_type": "code",
      "execution_count": null,
      "metadata": {
        "colab": {
          "base_uri": "https://localhost:8080/"
        },
        "id": "87a8-CwfKebw",
        "outputId": "056fce11-313c-4ad9-ecbe-e1118685944a"
      },
      "outputs": [
        {
          "name": "stdout",
          "output_type": "stream",
          "text": [
            "[False, True, True, True, True]\n"
          ]
        }
      ],
      "source": [
        "print([layer.supports_masking for layer in model.layers])"
      ]
    },
    {
      "cell_type": "markdown",
      "metadata": {
        "id": "ZlS0iaUIWLpI"
      },
      "source": [
        "To confirm that this works as expected, evaluate a sentence twice. First, alone so there's no padding to mask:"
      ]
    },
    {
      "cell_type": "code",
      "execution_count": null,
      "metadata": {
        "colab": {
          "base_uri": "https://localhost:8080/"
        },
        "id": "O41gw3KfWHus",
        "outputId": "1cdd6c2e-e58b-48ac-ae64-6cb7b0e04628"
      },
      "outputs": [
        {
          "name": "stdout",
          "output_type": "stream",
          "text": [
            "1/1 [==============================] - 6s 6s/step\n",
            "[-0.00513553]\n"
          ]
        }
      ],
      "source": [
        "# predict on a sample text without padding.\n",
        "\n",
        "sample_text = ('The movie was cool. The animation and the graphics '\n",
        "               'were out of this world. I would recommend this movie.')\n",
        "predictions = model.predict(np.array([sample_text]))\n",
        "print(predictions[0])"
      ]
    },
    {
      "cell_type": "markdown",
      "metadata": {
        "id": "K0VQmGnEWcuz"
      },
      "source": [
        "Now, evaluate it again in a batch with a longer sentence. The result should be identical:"
      ]
    },
    {
      "cell_type": "code",
      "execution_count": null,
      "metadata": {
        "colab": {
          "base_uri": "https://localhost:8080/"
        },
        "id": "UIgpuTeFNDzq",
        "outputId": "ba5d5417-19fd-4d5b-ff1a-328437d0d409"
      },
      "outputs": [
        {
          "name": "stdout",
          "output_type": "stream",
          "text": [
            "1/1 [==============================] - 0s 69ms/step\n",
            "[-0.00513553]\n"
          ]
        }
      ],
      "source": [
        "# predict on a sample text with padding\n",
        "\n",
        "padding = \"the \" * 2000\n",
        "predictions = model.predict(np.array([sample_text, padding]))\n",
        "print(predictions[0])"
      ]
    },
    {
      "cell_type": "markdown",
      "metadata": {
        "id": "sRI776ZcH3Tf"
      },
      "source": [
        "Compile the Keras model to configure the training process:"
      ]
    },
    {
      "cell_type": "code",
      "execution_count": null,
      "metadata": {
        "id": "kj2xei41YZjC"
      },
      "outputs": [],
      "source": [
        "model.compile(loss=tf.keras.losses.BinaryCrossentropy(from_logits=True),\n",
        "              optimizer=tf.keras.optimizers.Adam(1e-4),\n",
        "              metrics=['accuracy'])"
      ]
    },
    {
      "cell_type": "markdown",
      "metadata": {
        "id": "zIwH3nto596k"
      },
      "source": [
        "## Train the model"
      ]
    },
    {
      "cell_type": "code",
      "execution_count": null,
      "metadata": {
        "colab": {
          "base_uri": "https://localhost:8080/"
        },
        "id": "hw86wWS4YgR2",
        "outputId": "a8bc7d49-d151-4ed4-a383-16e3cffb1191"
      },
      "outputs": [
        {
          "name": "stdout",
          "output_type": "stream",
          "text": [
            "Epoch 1/10\n",
            "391/391 [==============================] - 55s 112ms/step - loss: 0.6454 - accuracy: 0.5660 - val_loss: 0.4577 - val_accuracy: 0.7688\n",
            "Epoch 2/10\n",
            "391/391 [==============================] - 25s 63ms/step - loss: 0.4147 - accuracy: 0.8104 - val_loss: 0.3724 - val_accuracy: 0.8271\n",
            "Epoch 3/10\n",
            "391/391 [==============================] - 25s 63ms/step - loss: 0.3435 - accuracy: 0.8492 - val_loss: 0.3411 - val_accuracy: 0.8443\n",
            "Epoch 4/10\n",
            "391/391 [==============================] - 24s 61ms/step - loss: 0.3211 - accuracy: 0.8595 - val_loss: 0.3433 - val_accuracy: 0.8422\n",
            "Epoch 5/10\n",
            "391/391 [==============================] - 25s 64ms/step - loss: 0.3113 - accuracy: 0.8666 - val_loss: 0.3264 - val_accuracy: 0.8656\n",
            "Epoch 6/10\n",
            "391/391 [==============================] - 23s 59ms/step - loss: 0.3055 - accuracy: 0.8674 - val_loss: 0.3218 - val_accuracy: 0.8568\n",
            "Epoch 7/10\n",
            "391/391 [==============================] - 24s 60ms/step - loss: 0.3009 - accuracy: 0.8703 - val_loss: 0.3158 - val_accuracy: 0.8573\n",
            "Epoch 8/10\n",
            "391/391 [==============================] - 25s 62ms/step - loss: 0.2969 - accuracy: 0.8710 - val_loss: 0.3155 - val_accuracy: 0.8615\n",
            "Epoch 9/10\n",
            "391/391 [==============================] - 24s 61ms/step - loss: 0.2958 - accuracy: 0.8737 - val_loss: 0.3260 - val_accuracy: 0.8630\n",
            "Epoch 10/10\n",
            "391/391 [==============================] - 24s 62ms/step - loss: 0.2941 - accuracy: 0.8730 - val_loss: 0.3213 - val_accuracy: 0.8656\n"
          ]
        }
      ],
      "source": [
        "history = model.fit(train_dataset, epochs=10,\n",
        "                    validation_data=test_dataset,\n",
        "                    validation_steps=30)"
      ]
    },
    {
      "cell_type": "code",
      "execution_count": null,
      "metadata": {
        "colab": {
          "base_uri": "https://localhost:8080/"
        },
        "id": "BaNbXi43YgUT",
        "outputId": "3d3b21ba-cb01-45b7-bc8e-cbf54ab85a32"
      },
      "outputs": [
        {
          "name": "stdout",
          "output_type": "stream",
          "text": [
            "391/391 [==============================] - 11s 29ms/step - loss: 0.3189 - accuracy: 0.8642\n",
            "Test Loss: 0.31891199946403503\n",
            "Test Accuracy: 0.8641999959945679\n"
          ]
        }
      ],
      "source": [
        "test_loss, test_acc = model.evaluate(test_dataset)\n",
        "\n",
        "print('Test Loss:', test_loss)\n",
        "print('Test Accuracy:', test_acc)"
      ]
    },
    {
      "cell_type": "code",
      "execution_count": null,
      "metadata": {
        "colab": {
          "base_uri": "https://localhost:8080/",
          "height": 553
        },
        "id": "OZmwt_mzaQJk",
        "outputId": "0391cc23-9a01-4798-c69b-bbf2f185360a"
      },
      "outputs": [
        {
          "data": {
            "text/plain": [
              "(0.0, 0.6629698902368546)"
            ]
          },
          "execution_count": 22,
          "metadata": {},
          "output_type": "execute_result"
        },
        {
          "data": {
            "image/png": "[encoded data removed]",
            "text/plain": [
              "<Figure size 1600x800 with 2 Axes>"
            ]
          },
          "metadata": {},
          "output_type": "display_data"
        }
      ],
      "source": [
        "plt.figure(figsize=(16, 8))\n",
        "plt.subplot(1, 2, 1)\n",
        "plot_graphs(history, 'accuracy')\n",
        "plt.ylim(None, 1)\n",
        "plt.subplot(1, 2, 2)\n",
        "plot_graphs(history, 'loss')\n",
        "plt.ylim(0, None)"
      ]
    },
    {
      "cell_type": "markdown",
      "metadata": {
        "id": "DwSE_386uhxD"
      },
      "source": [
        "Run a prediction on a new sentence:\n",
        "\n",
        "If the prediction is >= 0.0, it is positive else it is negative."
      ]
    },
    {
      "cell_type": "code",
      "execution_count": null,
      "metadata": {
        "colab": {
          "base_uri": "https://localhost:8080/"
        },
        "id": "ZXgfQSgRW6zU",
        "outputId": "e94aca88-32ff-4e6d-f81c-c06b55ed828b"
      },
      "outputs": [
        {
          "name": "stdout",
          "output_type": "stream",
          "text": [
            "1/1 [==============================] - 2s 2s/step\n"
          ]
        }
      ],
      "source": [
        "sample_text = ('The movie was cool. The animation and the graphics '\n",
        "               'were out of this world. I would recommend this movie.')\n",
        "predictions = model.predict(np.array([sample_text]))"
      ]
    },
    {
      "cell_type": "code",
      "execution_count": null,
      "metadata": {
        "colab": {
          "base_uri": "https://localhost:8080/"
        },
        "id": "XUsGlm4LSAZE",
        "outputId": "e2f2b01e-897a-4346-d102-b65587886430"
      },
      "outputs": [
        {
          "data": {
            "text/plain": [
              "array([[0.8500975]], dtype=float32)"
            ]
          },
          "execution_count": 24,
          "metadata": {},
          "output_type": "execute_result"
        }
      ],
      "source": [
        "predictions"
      ]
    },
    {
      "cell_type": "code",
      "execution_count": null,
      "metadata": {
        "colab": {
          "base_uri": "https://localhost:8080/"
        },
        "id": "DDQFxkW8SSzV",
        "outputId": "a7a13183-8f06-4b20-e1a1-7842cda42e61"
      },
      "outputs": [
        {
          "name": "stdout",
          "output_type": "stream",
          "text": [
            "1/1 [==============================] - 0s 23ms/step\n",
            "[[-1.5089427]]\n"
          ]
        }
      ],
      "source": [
        "# predict on a sample text without padding.\n",
        "\n",
        "sample_text = ('The movie was not terrible. The animation and the graphics '\n",
        "               'were good. I would recommend this movie.')\n",
        "predictions = model.predict(np.array([sample_text]))\n",
        "print(predictions)"
      ]
    },
    {
      "cell_type": "markdown",
      "metadata": {
        "id": "Fjcc98n8qefs"
      },
      "source": [
        "## **My Model Changes**"
      ]
    },
    {
      "cell_type": "code",
      "execution_count": null,
      "metadata": {
        "id": "X1awcEuuqioN"
      },
      "outputs": [],
      "source": [
        "model = tf.keras.Sequential([\n",
        "    encoder,\n",
        "    tf.keras.layers.Embedding(\n",
        "        input_dim=len(encoder.get_vocabulary()),\n",
        "        output_dim=64,\n",
        "        # Use masking to handle the variable sequence lengths\n",
        "        mask_zero=True),\n",
        "    tf.keras.layers.Bidirectional(tf.keras.layers.LSTM(15, return_sequences=True)),\n",
        "    tf.keras.layers.Bidirectional(tf.keras.layers.LSTM(15, return_sequences=True)),\n",
        "    tf.keras.layers.Bidirectional(tf.keras.layers.LSTM(15, return_sequences=True)),\n",
        "    tf.keras.layers.Bidirectional(tf.keras.layers.LSTM(15, return_sequences=True)),\n",
        "    tf.keras.layers.Bidirectional(tf.keras.layers.LSTM(15)),\n",
        "    tf.keras.layers.Dense(64, activation='relu'),\n",
        "    tf.keras.layers.Dense(1)\n",
        "])"
      ]
    },
    {
      "cell_type": "code",
      "execution_count": null,
      "metadata": {
        "colab": {
          "base_uri": "https://localhost:8080/"
        },
        "id": "wCXgATKRqwlk",
        "outputId": "249e56b9-9cb0-4d62-b8ff-55d3502fbea5"
      },
      "outputs": [
        {
          "name": "stdout",
          "output_type": "stream",
          "text": [
            "1/1 [==============================] - 50s 50s/step\n",
            "[-0.00095708]\n"
          ]
        }
      ],
      "source": [
        "# predict on a sample text without padding.\n",
        "\n",
        "sample_text = ('The movie was cool. The animation and the graphics '\n",
        "               'were out of this world. I would recommend this movie.')\n",
        "predictions = model.predict(np.array([sample_text]))\n",
        "print(predictions[0])"
      ]
    },
    {
      "cell_type": "code",
      "execution_count": null,
      "metadata": {
        "colab": {
          "base_uri": "https://localhost:8080/"
        },
        "id": "7mnZYtpuq3a8",
        "outputId": "69a6ec22-9911-4a00-e0e1-3f04ee1fca8c"
      },
      "outputs": [
        {
          "name": "stdout",
          "output_type": "stream",
          "text": [
            "1/1 [==============================] - 0s 251ms/step\n",
            "[-0.00095708]\n"
          ]
        }
      ],
      "source": [
        "# predict on a sample text with padding\n",
        "\n",
        "padding = \"the \" * 2000\n",
        "predictions = model.predict(np.array([sample_text, padding]))\n",
        "print(predictions[0])"
      ]
    },
    {
      "cell_type": "code",
      "execution_count": null,
      "metadata": {
        "id": "tJMboY7Fq-Ct"
      },
      "outputs": [],
      "source": [
        "model.compile(loss=tf.keras.losses.BinaryCrossentropy(from_logits=True),\n",
        "              optimizer=tf.keras.optimizers.Adam(1e-4),\n",
        "              metrics=['accuracy'])"
      ]
    },
    {
      "cell_type": "code",
      "execution_count": null,
      "metadata": {
        "colab": {
          "base_uri": "https://localhost:8080/"
        },
        "id": "JtXu9XAnrDon",
        "outputId": "34b5b47e-2c7a-4dd6-d94b-6ad5b03b483b"
      },
      "outputs": [
        {
          "name": "stdout",
          "output_type": "stream",
          "text": [
            "Epoch 1/10\n",
            "391/391 [==============================] - 179s 342ms/step - loss: 0.5947 - accuracy: 0.6220 - val_loss: 0.4395 - val_accuracy: 0.7995\n",
            "Epoch 2/10\n",
            "391/391 [==============================] - 105s 267ms/step - loss: 0.3865 - accuracy: 0.8241 - val_loss: 0.3661 - val_accuracy: 0.8266\n",
            "Epoch 3/10\n",
            "391/391 [==============================] - 110s 281ms/step - loss: 0.3389 - accuracy: 0.8510 - val_loss: 0.3460 - val_accuracy: 0.8464\n",
            "Epoch 4/10\n",
            "391/391 [==============================] - 106s 271ms/step - loss: 0.3220 - accuracy: 0.8604 - val_loss: 0.3564 - val_accuracy: 0.8505\n",
            "Epoch 5/10\n",
            "391/391 [==============================] - 105s 268ms/step - loss: 0.3160 - accuracy: 0.8625 - val_loss: 0.3322 - val_accuracy: 0.8510\n",
            "Epoch 6/10\n",
            "391/391 [==============================] - 108s 275ms/step - loss: 0.3053 - accuracy: 0.8682 - val_loss: 0.3279 - val_accuracy: 0.8505\n",
            "Epoch 7/10\n",
            "391/391 [==============================] - 106s 271ms/step - loss: 0.3008 - accuracy: 0.8712 - val_loss: 0.3400 - val_accuracy: 0.8568\n",
            "Epoch 8/10\n",
            "391/391 [==============================] - 105s 269ms/step - loss: 0.2960 - accuracy: 0.8729 - val_loss: 0.3252 - val_accuracy: 0.8516\n",
            "Epoch 9/10\n",
            "391/391 [==============================] - 105s 268ms/step - loss: 0.2921 - accuracy: 0.8751 - val_loss: 0.3329 - val_accuracy: 0.8568\n",
            "Epoch 10/10\n",
            "391/391 [==============================] - 107s 272ms/step - loss: 0.2898 - accuracy: 0.8769 - val_loss: 0.3290 - val_accuracy: 0.8615\n"
          ]
        }
      ],
      "source": [
        "history = model.fit(train_dataset, epochs=10,\n",
        "                    validation_data=test_dataset,\n",
        "                    validation_steps=30)"
      ]
    },
    {
      "cell_type": "code",
      "execution_count": null,
      "metadata": {
        "colab": {
          "base_uri": "https://localhost:8080/"
        },
        "id": "oUeRHOJErHce",
        "outputId": "fe6ef231-1f83-4f92-9130-fe80ff715909"
      },
      "outputs": [
        {
          "name": "stdout",
          "output_type": "stream",
          "text": [
            "391/391 [==============================] - 41s 106ms/step - loss: 0.3261 - accuracy: 0.8605\n",
            "Test Loss: 0.3261001706123352\n",
            "Test Accuracy: 0.8605200052261353\n"
          ]
        }
      ],
      "source": [
        "test_loss, test_acc = model.evaluate(test_dataset)\n",
        "\n",
        "print('Test Loss:', test_loss)\n",
        "print('Test Accuracy:', test_acc)"
      ]
    },
    {
      "cell_type": "code",
      "execution_count": null,
      "metadata": {
        "colab": {
          "base_uri": "https://localhost:8080/",
          "height": 553
        },
        "id": "-roJhtcJrMK8",
        "outputId": "31a20154-f596-4946-b3b6-9fe7f5f46487"
      },
      "outputs": [
        {
          "data": {
            "text/plain": [
              "(0.0, 0.6099291324615479)"
            ]
          },
          "execution_count": 33,
          "metadata": {},
          "output_type": "execute_result"
        },
        {
          "data": {
            "image/png": "[encoded data removed]",
            "text/plain": [
              "<Figure size 1600x800 with 2 Axes>"
            ]
          },
          "metadata": {},
          "output_type": "display_data"
        }
      ],
      "source": [
        "plt.figure(figsize=(16, 8))\n",
        "plt.subplot(1, 2, 1)\n",
        "plot_graphs(history, 'accuracy')\n",
        "plt.ylim(None, 1)\n",
        "plt.subplot(1, 2, 2)\n",
        "plot_graphs(history, 'loss')\n",
        "plt.ylim(0, None)"
      ]
    },
    {
      "cell_type": "code",
      "execution_count": null,
      "metadata": {
        "colab": {
          "base_uri": "https://localhost:8080/"
        },
        "id": "PeQXE3OmrQGU",
        "outputId": "464defe4-7ac8-456a-fa0a-92232ffb51f9"
      },
      "outputs": [
        {
          "name": "stdout",
          "output_type": "stream",
          "text": [
            "1/1 [==============================] - 13s 13s/step\n"
          ]
        }
      ],
      "source": [
        "sample_text = ('The movie was cool. The animation and the graphics '\n",
        "               'were out of this world. I would recommend this movie.')\n",
        "predictions = model.predict(np.array([sample_text]))"
      ]
    },
    {
      "cell_type": "code",
      "execution_count": null,
      "metadata": {
        "colab": {
          "base_uri": "https://localhost:8080/"
        },
        "id": "yC1UdtcSrTue",
        "outputId": "33d82008-db75-40a2-feb8-71a30bbdd653"
      },
      "outputs": [
        {
          "data": {
            "text/plain": [
              "array([[-0.07211334]], dtype=float32)"
            ]
          },
          "execution_count": 35,
          "metadata": {},
          "output_type": "execute_result"
        }
      ],
      "source": [
        "predictions"
      ]
    },
    {
      "cell_type": "code",
      "execution_count": null,
      "metadata": {
        "colab": {
          "base_uri": "https://localhost:8080/"
        },
        "id": "7sXt1Bp7rWnC",
        "outputId": "3d9a0ebf-8561-4c18-b316-2f3507cc7087"
      },
      "outputs": [
        {
          "name": "stdout",
          "output_type": "stream",
          "text": [
            "1/1 [==============================] - 0s 31ms/step\n",
            "[[-1.5479662]]\n"
          ]
        }
      ],
      "source": [
        "# predict on a sample text without padding.\n",
        "\n",
        "sample_text = ('The movie was not terrible. The animation and the graphics '\n",
        "               'were good. I would recommend this movie.')\n",
        "predictions = model.predict(np.array([sample_text]))\n",
        "print(predictions)"
      ]
    },
    {
      "cell_type": "markdown",
      "metadata": {
        "id": "7g1evcaRpTKm"
      },
      "source": [
        "## Stack two or more LSTM layers\n",
        "\n",
        "Keras recurrent layers have two available modes that are controlled by the `return_sequences` constructor argument:\n",
        "\n",
        "* If `False` it returns only the last output for each input sequence (a 2D tensor of shape (batch_size, output_features)). This is the default, used in the previous model.\n",
        "\n",
        "* If `True` the full sequences of successive outputs for each timestep is returned (a 3D tensor of shape `(batch_size, timesteps, output_features)`).\n",
        "\n",
        "Here is what the flow of information looks like with `return_sequences=True`:\n",
        "\n",
        "![layered_bidirectional](images/layered_bidirectional.png)"
      ]
    },
    {
      "cell_type": "markdown",
      "metadata": {
        "id": "wbSClCrG1z8l"
      },
      "source": [
        "The interesting thing about using an `RNN` with `return_sequences=True` is that the output still has 3-axes, like the input, so it can be passed to another RNN layer, like this:"
      ]
    },
    {
      "cell_type": "code",
      "execution_count": null,
      "metadata": {
        "id": "jo1jjO3vn0jo"
      },
      "outputs": [],
      "source": [
        "model = tf.keras.Sequential([\n",
        "    encoder,\n",
        "    tf.keras.layers.Embedding(len(encoder.get_vocabulary()), 64, mask_zero=True),\n",
        "    tf.keras.layers.Bidirectional(tf.keras.layers.LSTM(64,  return_sequences=True)),\n",
        "    tf.keras.layers.Bidirectional(tf.keras.layers.LSTM(32)),\n",
        "    tf.keras.layers.Dense(64, activation='relu'),\n",
        "    tf.keras.layers.Dropout(0.5),\n",
        "    tf.keras.layers.Dense(1)\n",
        "])"
      ]
    },
    {
      "cell_type": "code",
      "execution_count": null,
      "metadata": {
        "id": "hEPV5jVGp-is"
      },
      "outputs": [],
      "source": [
        "model.compile(loss=tf.keras.losses.BinaryCrossentropy(from_logits=True),\n",
        "              optimizer=tf.keras.optimizers.Adam(1e-4),\n",
        "              metrics=['accuracy'])"
      ]
    },
    {
      "cell_type": "code",
      "execution_count": null,
      "metadata": {
        "colab": {
          "background_save": true,
          "base_uri": "https://localhost:8080/"
        },
        "id": "LeSE-YjdqAeN",
        "outputId": "a6c0fc1e-3a15-410c-98a4-957ebd26004a"
      },
      "outputs": [
        {
          "name": "stdout",
          "output_type": "stream",
          "text": [
            "Epoch 1/10\n",
            "391/391 [==============================] - 86s 175ms/step - loss: 0.6328 - accuracy: 0.5772 - val_loss: 0.4219 - val_accuracy: 0.8219\n",
            "Epoch 2/10\n",
            "391/391 [==============================] - 50s 127ms/step - loss: 0.3781 - accuracy: 0.8363 - val_loss: 0.3611 - val_accuracy: 0.8302\n",
            "Epoch 3/10\n",
            "391/391 [==============================] - 48s 122ms/step - loss: 0.3350 - accuracy: 0.8548 - val_loss: 0.3298 - val_accuracy: 0.8490\n",
            "Epoch 4/10\n",
            "391/391 [==============================] - 48s 122ms/step - loss: 0.3192 - accuracy: 0.8642 - val_loss: 0.3233 - val_accuracy: 0.8510\n",
            "Epoch 5/10\n",
            "391/391 [==============================] - 47s 118ms/step - loss: 0.3074 - accuracy: 0.8692 - val_loss: 0.3229 - val_accuracy: 0.8495\n",
            "Epoch 6/10\n",
            "391/391 [==============================] - 47s 120ms/step - loss: 0.3041 - accuracy: 0.8715 - val_loss: 0.3193 - val_accuracy: 0.8547\n",
            "Epoch 7/10\n",
            "391/391 [==============================] - 47s 120ms/step - loss: 0.2989 - accuracy: 0.8720 - val_loss: 0.3245 - val_accuracy: 0.8422\n",
            "Epoch 8/10\n",
            "391/391 [==============================] - 47s 120ms/step - loss: 0.3016 - accuracy: 0.8698 - val_loss: 0.3221 - val_accuracy: 0.8479\n",
            "Epoch 9/10\n",
            "391/391 [==============================] - 47s 119ms/step - loss: 0.2957 - accuracy: 0.8725 - val_loss: 0.3132 - val_accuracy: 0.8687\n",
            "Epoch 10/10\n",
            "391/391 [==============================] - 46s 118ms/step - loss: 0.2923 - accuracy: 0.8764 - val_loss: 0.3202 - val_accuracy: 0.8677\n"
          ]
        }
      ],
      "source": [
        "history = model.fit(train_dataset, epochs=10,\n",
        "                    validation_data=test_dataset,\n",
        "                    validation_steps=30)"
      ]
    },
    {
      "cell_type": "code",
      "execution_count": null,
      "metadata": {
        "id": "_LdwilM1qPM3"
      },
      "outputs": [],
      "source": [
        "test_loss, test_acc = model.evaluate(test_dataset)\n",
        "\n",
        "print('Test Loss:', test_loss)\n",
        "print('Test Accuracy:', test_acc)"
      ]
    },
    {
      "cell_type": "code",
      "execution_count": null,
      "metadata": {
        "colab": {
          "background_save": true
        },
        "id": "ykUKnAoqbycW",
        "outputId": "ce69778e-45a6-4a9c-8c7b-b5ea44e4c059"
      },
      "outputs": [
        {
          "name": "stderr",
          "output_type": "stream",
          "text": [
            "WARNING:tensorflow:5 out of the last 9 calls to <function Model.make_predict_function.<locals>.predict_function at 0x7e572068b7f0> triggered tf.function retracing. Tracing is expensive and the excessive number of tracings could be due to (1) creating @tf.function repeatedly in a loop, (2) passing tensors with different shapes, (3) passing Python objects instead of tensors. For (1), please define your @tf.function outside of the loop. For (2), @tf.function has reduce_retracing=True option that can avoid unnecessary retracing. For (3), please refer to https://www.tensorflow.org/guide/function#controlling_retracing and https://www.tensorflow.org/api_docs/python/tf/function for  more details.\n"
          ]
        },
        {
          "name": "stdout",
          "output_type": "stream",
          "text": [
            "1/1 [==============================] - 5s 5s/step\n",
            "[[-1.9187936]]\n"
          ]
        }
      ],
      "source": [
        "# predict on a sample text without padding.\n",
        "\n",
        "sample_text = ('The movie was not good. The animation and the graphics '\n",
        "               'were terrible. I would not recommend this movie.')\n",
        "predictions = model.predict(np.array([sample_text]))\n",
        "print(predictions)"
      ]
    },
    {
      "cell_type": "code",
      "execution_count": null,
      "metadata": {
        "id": "_YYub0EDtwCu"
      },
      "outputs": [],
      "source": [
        "plt.figure(figsize=(16, 6))\n",
        "plt.subplot(1, 2, 1)\n",
        "plot_graphs(history, 'accuracy')\n",
        "plt.subplot(1, 2, 2)\n",
        "plot_graphs(history, 'loss')"
      ]
    },
    {
      "cell_type": "markdown",
      "metadata": {
        "id": "9xvpE3BaGw_V"
      },
      "source": [
        "Check out other existing recurrent layers such as [GRU layers](https://www.tensorflow.org/api_docs/python/tf/keras/layers/GRU).\n",
        "\n",
        "If you're interested in building custom RNNs, see the [Keras RNN Guide](https://www.tensorflow.org/guide/keras/rnn).\n"
      ]
    }
  ],
  "metadata": {
    "accelerator": "GPU",
    "colab": {
      "toc_visible": true,
      "provenance": []
    },
    "kernelspec": {
      "display_name": "Python 3",
      "name": "python3"
    }
  },
  "nbformat": 4,
  "nbformat_minor": 0
}