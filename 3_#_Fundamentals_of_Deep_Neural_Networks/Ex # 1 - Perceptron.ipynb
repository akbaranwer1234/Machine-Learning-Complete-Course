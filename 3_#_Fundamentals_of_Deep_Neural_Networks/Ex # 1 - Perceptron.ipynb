{
 "cells": [
  {
   "cell_type": "markdown",
   "metadata": {},
   "source": [
    "## **Perceptron**"
   ]
  },
  {
   "cell_type": "code",
   "execution_count": 24,
   "metadata": {},
   "outputs": [],
   "source": [
    "class Perceptron:\n",
    "    def __init__(self, weights, threshold):\n",
    "        self.threshold = threshold\n",
    "        self.weights = weights\n",
    "        \n",
    "    def activationFunction(self, weightedSum):\n",
    "        if weightedSum >= self.threshold:\n",
    "            return 1\n",
    "        else:\n",
    "            return 0\n",
    "    def calculate_weighted_sum (self, inputs, weights):\n",
    "        weighted_sum = sum(w * x for w, x in zip(weights, inputs))\n",
    "        return weighted_sum\n",
    "    def predict (self, inputs):\n",
    "        weighted_sum = self.calculate_weighted_sum(inputs, self.weights)\n",
    "        prediction = self.activationFunction(weighted_sum)\n",
    "        return prediction"
   ]
  },
  {
   "cell_type": "code",
   "execution_count": 25,
   "metadata": {},
   "outputs": [],
   "source": [
    "inputFeatures = [[0, 0], [0, 1], [1, 0], [1, 1]]\n",
    "weights = [0.5, 0.5]\n",
    "threshold = 1"
   ]
  },
  {
   "cell_type": "markdown",
   "metadata": {},
   "source": [
    "## AND Gate"
   ]
  },
  {
   "cell_type": "code",
   "execution_count": 26,
   "metadata": {},
   "outputs": [
    {
     "name": "stdout",
     "output_type": "stream",
     "text": [
      "[0, 0] 0\n",
      "[0, 1] 0\n",
      "[1, 0] 0\n",
      "[1, 1] 1\n"
     ]
    }
   ],
   "source": [
    "perceptron = Perceptron(weights, threshold)\n",
    "for input_set in inputFeatures:\n",
    "    prediction = perceptron.predict(input_set)\n",
    "    print(input_set, prediction)"
   ]
  },
  {
   "cell_type": "code",
   "execution_count": 27,
   "metadata": {},
   "outputs": [],
   "source": [
    "class Perceptron:\n",
    "    def __init__(self, weights, bias):\n",
    "        self.bias = bias\n",
    "        self.weights = weights\n",
    "        \n",
    "    def activationFunction(self, x):\n",
    "        if x >= 0:\n",
    "            return 1\n",
    "        else:\n",
    "            return 0\n",
    "    def predict (self, inputs):\n",
    "        weighted_sum = sum(w * x for w, x in zip(self.weights, inputs)) + self.bias\n",
    "        prediction = self.activationFunction(weighted_sum)\n",
    "        return prediction"
   ]
  },
  {
   "cell_type": "code",
   "execution_count": 28,
   "metadata": {},
   "outputs": [
    {
     "name": "stdout",
     "output_type": "stream",
     "text": [
      "(0, 0) 0\n",
      "(0, 1) 0\n",
      "(1, 0) 0\n",
      "(1, 1) 1\n"
     ]
    }
   ],
   "source": [
    "bias = -0.7\n",
    "and_gate = Perceptron(weights=[0.5, 0.5], bias=bias)\n",
    "inputFeatures = [(0, 0), (0, 1), (1, 0), (1, 1)]\n",
    "for example in inputFeatures:\n",
    "    print(example, and_gate.predict(example))"
   ]
  },
  {
   "cell_type": "code",
   "execution_count": 29,
   "metadata": {},
   "outputs": [],
   "source": [
    "class Perceptron:\n",
    "    def __init__(self, weights, bias):\n",
    "        self.bias = bias\n",
    "        self.weights = weights\n",
    "        \n",
    "    def activationFunction(self, x):\n",
    "        if x >= 0:\n",
    "            return 1\n",
    "        else:\n",
    "            return 0\n",
    "    def predict (self, inputs):\n",
    "        weighted_sum = sum(w * x for w, x in zip(self.weights, inputs)) + self.bias\n",
    "        prediction = self.activationFunction(weighted_sum)\n",
    "        return prediction"
   ]
  },
  {
   "cell_type": "markdown",
   "metadata": {},
   "source": [
    "## OR Gate"
   ]
  },
  {
   "cell_type": "code",
   "execution_count": 30,
   "metadata": {},
   "outputs": [
    {
     "name": "stdout",
     "output_type": "stream",
     "text": [
      "(0, 0) 0\n",
      "(0, 1) 1\n",
      "(1, 0) 1\n",
      "(1, 1) 1\n"
     ]
    }
   ],
   "source": [
    "bias = -0.5\n",
    "and_gate = Perceptron(weights=[0.5, 0.5], bias=bias)\n",
    "inputFeatures = [(0, 0), (0, 1), (1, 0), (1, 1)]\n",
    "for example in inputFeatures:\n",
    "    print(example, and_gate.predict(example))"
   ]
  },
  {
   "cell_type": "code",
   "execution_count": 31,
   "metadata": {},
   "outputs": [],
   "source": [
    "class Perceptron:\n",
    "    def __init__(self, weights, bias):\n",
    "        self.bias = bias\n",
    "        self.weights = weights\n",
    "        \n",
    "    def activationFunction(self, x):\n",
    "        if x >= 0:\n",
    "            return 1\n",
    "        else:\n",
    "            return 0\n",
    "    def predict (self, inputs):\n",
    "        weighted_sum = sum(w * x for w, x in zip(self.weights, inputs)) + self.bias\n",
    "        prediction = self.activationFunction(weighted_sum)\n",
    "        return prediction"
   ]
  },
  {
   "cell_type": "markdown",
   "metadata": {},
   "source": [
    "## NAND Gate"
   ]
  },
  {
   "cell_type": "code",
   "execution_count": 32,
   "metadata": {},
   "outputs": [
    {
     "name": "stdout",
     "output_type": "stream",
     "text": [
      "(0, 0) 1\n",
      "(0, 1) 1\n",
      "(1, 0) 1\n",
      "(1, 1) 0\n"
     ]
    }
   ],
   "source": [
    "bias = 0.5\n",
    "and_gate = Perceptron(weights=[-0.5, -0.5], bias=bias)\n",
    "inputFeatures = [(0, 0), (0, 1), (1, 0), (1, 1)]\n",
    "for example in inputFeatures:\n",
    "    print(example, and_gate.predict(example))"
   ]
  },
  {
   "cell_type": "code",
   "execution_count": 33,
   "metadata": {},
   "outputs": [],
   "source": [
    "class Perceptron:\n",
    "    def __init__(self, weights, bias):\n",
    "        self.bias = bias\n",
    "        self.weights = weights\n",
    "        \n",
    "    def activationFunction(self, x):\n",
    "        if x >= 0:\n",
    "            return 0\n",
    "        else:\n",
    "            return 1\n",
    "    def predict (self, inputs):\n",
    "        weighted_sum = inputs + self.bias\n",
    "        prediction = self.activationFunction(weighted_sum)\n",
    "        return prediction"
   ]
  },
  {
   "cell_type": "markdown",
   "metadata": {},
   "source": [
    "## NOT Gate"
   ]
  },
  {
   "cell_type": "code",
   "execution_count": 34,
   "metadata": {},
   "outputs": [
    {
     "name": "stdout",
     "output_type": "stream",
     "text": [
      "0 1\n",
      "1 0\n"
     ]
    }
   ],
   "source": [
    "bias = -0.1\n",
    "and_gate = Perceptron(weights=[0.5], bias=bias)\n",
    "inputFeatures = [(0), (1)]\n",
    "for example in inputFeatures:\n",
    "    print(example, and_gate.predict(example))"
   ]
  }
 ],
 "metadata": {
  "kernelspec": {
   "display_name": "Python 3",
   "language": "python",
   "name": "python3"
  },
  "language_info": {
   "codemirror_mode": {
    "name": "ipython",
    "version": 3
   },
   "file_extension": ".py",
   "mimetype": "text/x-python",
   "name": "python",
   "nbconvert_exporter": "python",
   "pygments_lexer": "ipython3",
   "version": "3.11.4"
  },
  "orig_nbformat": 4
 },
 "nbformat": 4,
 "nbformat_minor": 2
}
