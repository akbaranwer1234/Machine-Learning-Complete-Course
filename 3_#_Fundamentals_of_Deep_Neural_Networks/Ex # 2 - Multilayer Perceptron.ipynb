{
 "cells": [
  {
   "cell_type": "markdown",
   "metadata": {},
   "source": [
    "## **MLP Perceptron**"
   ]
  },
  {
   "cell_type": "code",
   "execution_count": 26,
   "metadata": {},
   "outputs": [],
   "source": [
    "import numpy as np"
   ]
  },
  {
   "cell_type": "code",
   "execution_count": 27,
   "metadata": {},
   "outputs": [],
   "source": [
    "def perceptron (x, w, b):\n",
    "    net_input = np.dot(w, x) + b\n",
    "    output = np.sign(net_input)\n",
    "    return output"
   ]
  },
  {
   "cell_type": "code",
   "execution_count": 28,
   "metadata": {},
   "outputs": [],
   "source": [
    "X = np.array([[0, 0], [0, 1], [1, 0], [1, 1]])\n",
    "Y = np.array([-1, 1, 1, -1])\n",
    "\n",
    "w = np.array([0.5, 0.5])\n",
    "b = 0"
   ]
  },
  {
   "cell_type": "code",
   "execution_count": 29,
   "metadata": {},
   "outputs": [
    {
     "name": "stdout",
     "output_type": "stream",
     "text": [
      "XOR gate cannot be learned by the perceptron\n",
      "XOR gate cannot be learned by the perceptron\n",
      "XOR gate cannot be learned by the perceptron\n",
      "XOR gate cannot be learned by the perceptron\n",
      "XOR gate cannot be learned by the perceptron\n",
      "XOR gate cannot be learned by the perceptron\n",
      "XOR gate cannot be learned by the perceptron\n",
      "XOR gate cannot be learned by the perceptron\n",
      "XOR gate cannot be learned by the perceptron\n",
      "XOR gate cannot be learned by the perceptron\n"
     ]
    }
   ],
   "source": [
    "for epoch in range(10):\n",
    "    misclassified = 0\n",
    "    for i in range(len(X)):\n",
    "        x = X[i]\n",
    "        y_true = Y[i]\n",
    "        y_pred = perceptron(x, w, b)\n",
    "        # print(y_pred)\n",
    "        if y_pred != y_true:\n",
    "            misclassified += 1\n",
    "            w += y_true * x\n",
    "            b += y_true\n",
    "            \n",
    "    if misclassified == 0:\n",
    "        print(\"XOR gate learned successfully!\")\n",
    "        break\n",
    "    else:\n",
    "        print(\"XOR gate cannot be learned by the perceptron\")"
   ]
  },
  {
   "cell_type": "code",
   "execution_count": 30,
   "metadata": {},
   "outputs": [],
   "source": [
    "def sigmoid(x):\n",
    "    return 1/1+np.exp(-x)"
   ]
  },
  {
   "cell_type": "markdown",
   "metadata": {},
   "source": [
    "## **MLP XOR Gate**"
   ]
  },
  {
   "cell_type": "code",
   "execution_count": 31,
   "metadata": {},
   "outputs": [],
   "source": [
    "# input_size = 2\n",
    "# hidden_size = 4\n",
    "# output_size = 1\n",
    "\n",
    "class NeuralNetwork:\n",
    "    def __init__(self, input_size, hidden_size, putput_size):\n",
    "        self.weights_input_hidden = np.array([[20, -20], [-20, 20]])\n",
    "        self.weights_hidden_output = np.array([[-10], [10]])\n",
    "        \n",
    "    def forward (self, x):\n",
    "        # print(self.weights_input_hidden.size)\n",
    "        hidden_layer_output = np.dot(x, self.weights_input_hidden)\n",
    "        hidden_layer_output = sigmoid(hidden_layer_output)\n",
    "        output_layer_input = np.dot(hidden_layer_output, self.weights_hidden_output)\n",
    "        output_layer_output = sigmoid(output_layer_input)\n",
    "        return output_layer_output"
   ]
  },
  {
   "cell_type": "markdown",
   "metadata": {},
   "source": [
    "## If this gives error message, please re run the cell"
   ]
  },
  {
   "cell_type": "code",
   "execution_count": 38,
   "metadata": {},
   "outputs": [
    {
     "data": {
      "text/plain": [
       "[0, 1, 1, 0]"
      ]
     },
     "execution_count": 38,
     "metadata": {},
     "output_type": "execute_result"
    }
   ],
   "source": [
    "X = np.array([[0, 0], [0, 1], [1, 0], [1, 1]])\n",
    "network = NeuralNetwork(2, 4, 1)\n",
    "\n",
    "output_label1 = []\n",
    "output_label2 = []\n",
    "for input_pair in X:\n",
    "    output = network.forward(input_pair)\n",
    "    output_label = 1 if output > 0.5 else 0\n",
    "    # print(output_label)\n",
    "    output_label1.append(output_label)\n",
    "    output_label = 1 if output < 0.5 else 0\n",
    "    # print(output_label)\n",
    "    output_label2.append(output_label)\n",
    "result = [x + y for x, y in zip(output_label1, output_label2)]\n",
    "result\n",
    "\n",
    "    \n",
    "    "
   ]
  }
 ],
 "metadata": {
  "kernelspec": {
   "display_name": "Python 3",
   "language": "python",
   "name": "python3"
  },
  "language_info": {
   "codemirror_mode": {
    "name": "ipython",
    "version": 3
   },
   "file_extension": ".py",
   "mimetype": "text/x-python",
   "name": "python",
   "nbconvert_exporter": "python",
   "pygments_lexer": "ipython3",
   "version": "3.11.4"
  },
  "orig_nbformat": 4
 },
 "nbformat": 4,
 "nbformat_minor": 2
}
