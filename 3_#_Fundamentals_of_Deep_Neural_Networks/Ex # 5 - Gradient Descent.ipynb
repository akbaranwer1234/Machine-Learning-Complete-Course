{
 "cells": [
  {
   "cell_type": "code",
   "execution_count": 3,
   "metadata": {},
   "outputs": [],
   "source": [
    "import numpy as np\n",
    "import matplotlib.pyplot as plt"
   ]
  },
  {
   "cell_type": "markdown",
   "metadata": {},
   "source": [
    "## **Univariate**"
   ]
  },
  {
   "cell_type": "code",
   "execution_count": 4,
   "metadata": {},
   "outputs": [],
   "source": [
    "def univariateFx (x):\n",
    "    return x**2 - 4*x + 4"
   ]
  },
  {
   "cell_type": "code",
   "execution_count": 5,
   "metadata": {},
   "outputs": [],
   "source": [
    "def gradient_descent (inital_x, learning_rate, num_iterations):\n",
    "    x = inital_x\n",
    "    gradients = []\n",
    "    for i in range(num_iterations):\n",
    "        gradient = 2*x - 4\n",
    "        x = x - learning_rate * gradient\n",
    "        gradients.append(x)\n",
    "    return gradients"
   ]
  },
  {
   "cell_type": "code",
   "execution_count": 6,
   "metadata": {},
   "outputs": [
    {
     "data": {
      "text/plain": [
       "1.9999999995925928"
      ]
     },
     "execution_count": 6,
     "metadata": {},
     "output_type": "execute_result"
    }
   ],
   "source": [
    "initial_x = 0\n",
    "learning_rate = 0.1\n",
    "num_iterations = 100\n",
    "\n",
    "gradients = gradient_descent(initial_x, learning_rate, num_iterations)\n",
    "gradients[-1]"
   ]
  },
  {
   "cell_type": "code",
   "execution_count": 7,
   "metadata": {},
   "outputs": [
    {
     "data": {
      "text/plain": [
       "0.0"
      ]
     },
     "execution_count": 7,
     "metadata": {},
     "output_type": "execute_result"
    }
   ],
   "source": [
    "final_value = univariateFx(gradients[-1])\n",
    "final_value"
   ]
  },
  {
   "cell_type": "markdown",
   "metadata": {},
   "source": [
    "## **Multivariate**"
   ]
  },
  {
   "cell_type": "code",
   "execution_count": 8,
   "metadata": {},
   "outputs": [],
   "source": [
    "def multivariateFx (x, y):\n",
    "    return x**2 + 3 * y**2 + 4*x*y + 5"
   ]
  },
  {
   "cell_type": "code",
   "execution_count": 9,
   "metadata": {},
   "outputs": [],
   "source": [
    "def gradient_descent (inital_x, inital_y, learning_rate, num_iterations):\n",
    "    x = inital_x\n",
    "    y = inital_y\n",
    "    gradients = []\n",
    "    for i in range(num_iterations):\n",
    "        gradient_x = 2*x + 4*y\n",
    "        gradient_y = 6*y + 4*x\n",
    "        x = x - learning_rate * gradient_x\n",
    "        y = y - learning_rate * gradient_y\n",
    "        gradients.append((x,y))\n",
    "    return gradients"
   ]
  },
  {
   "cell_type": "code",
   "execution_count": 10,
   "metadata": {},
   "outputs": [
    {
     "data": {
      "text/plain": [
       "(118.03680922510642, -72.9507600247029)"
      ]
     },
     "execution_count": 10,
     "metadata": {},
     "output_type": "execute_result"
    }
   ],
   "source": [
    "initial_x = 1\n",
    "initial_y = -1\n",
    "learning_rate = 0.1\n",
    "num_iterations = 100\n",
    "\n",
    "gradients = gradient_descent(initial_x, initial_y, learning_rate, num_iterations)\n",
    "gradients[-1]"
   ]
  },
  {
   "cell_type": "code",
   "execution_count": 11,
   "metadata": {},
   "outputs": [
    {
     "data": {
      "text/plain": [
       "-4540.371278859966"
      ]
     },
     "execution_count": 11,
     "metadata": {},
     "output_type": "execute_result"
    }
   ],
   "source": [
    "# gradients[-1][0], gradients[-1][1]\n",
    "final_value = multivariateFx(gradients[-1][0], gradients[-1][1])\n",
    "final_value"
   ]
  },
  {
   "cell_type": "markdown",
   "metadata": {},
   "source": [
    "## **Adaptive learning Rate**"
   ]
  },
  {
   "cell_type": "code",
   "execution_count": 12,
   "metadata": {},
   "outputs": [],
   "source": [
    "def adaptivelearningRate (x):\n",
    "    return 0.1 * x**4 - 2.5 * x**3 + 2 * x**2 + 8 * x"
   ]
  },
  {
   "cell_type": "code",
   "execution_count": 13,
   "metadata": {},
   "outputs": [],
   "source": [
    "def gradient_descent (inital_x, learning_rate, num_iterations):\n",
    "    x = inital_x\n",
    "    gradients = []\n",
    "    for i in range(num_iterations):\n",
    "        gradient = 0.1 * 4 * x**3 -2.5 * 3 * x**2 + 2 * 2 * x + 8\n",
    "        x = x - learning_rate * gradient\n",
    "        learning_rate = learning_rate/(i+2)\n",
    "        gradients.append([i, x])\n",
    "    return gradients"
   ]
  },
  {
   "cell_type": "code",
   "execution_count": 14,
   "metadata": {},
   "outputs": [
    {
     "data": {
      "text/plain": [
       "[19, -0.7890684680783373]"
      ]
     },
     "execution_count": 14,
     "metadata": {},
     "output_type": "execute_result"
    }
   ],
   "source": [
    "initial_x = 0\n",
    "learning_rate = 0.1\n",
    "num_iterations = 20\n",
    "\n",
    "gradients = gradient_descent(initial_x, learning_rate, num_iterations)\n",
    "gradients[-1]"
   ]
  },
  {
   "cell_type": "code",
   "execution_count": 15,
   "metadata": {},
   "outputs": [],
   "source": [
    "history = [row[0] for row in gradients]\n",
    "steps = [row[1] for row in gradients]"
   ]
  },
  {
   "cell_type": "code",
   "execution_count": 35,
   "metadata": {},
   "outputs": [
    {
     "data": {
      "text/plain": [
       "Text(0.5, 1.0, 'Gradient Descent')"
      ]
     },
     "execution_count": 35,
     "metadata": {},
     "output_type": "execute_result"
    },
    {
     "data": {
      "image/png": "[encoded data removed]",
      "text/plain": [
       "<Figure size 640x480 with 1 Axes>"
      ]
     },
     "metadata": {},
     "output_type": "display_data"
    }
   ],
   "source": [
    "plt.plot(history, steps, marker='o', linestyle='--', color='g')\n",
    "plt.grid()\n",
    "plt.title(\"Gradient Descent\")"
   ]
  },
  {
   "cell_type": "code",
   "execution_count": 17,
   "metadata": {},
   "outputs": [
    {
     "data": {
      "text/plain": [
       "-3.800280585573832"
      ]
     },
     "execution_count": 17,
     "metadata": {},
     "output_type": "execute_result"
    }
   ],
   "source": [
    "final_value = adaptivelearningRate(gradients[-1][1])\n",
    "final_value"
   ]
  },
  {
   "cell_type": "markdown",
   "metadata": {},
   "source": [
    "## **Minimizing a Real-Life LossFunction** "
   ]
  },
  {
   "cell_type": "code",
   "execution_count": 24,
   "metadata": {},
   "outputs": [],
   "source": [
    "np.random.seed(42)\n",
    "X = np.random.rand(100, 1)\n",
    "y = 2 + 3 * X + np.random.randn(100, 1)/1000"
   ]
  },
  {
   "cell_type": "code",
   "execution_count": 19,
   "metadata": {},
   "outputs": [],
   "source": [
    "def hypothesis (theta0, theta1, x):\n",
    "    return theta0 + theta1 * x"
   ]
  },
  {
   "cell_type": "code",
   "execution_count": 45,
   "metadata": {},
   "outputs": [],
   "source": [
    "def gradient_descent (X, y_true, initialTheta0, initialTheta1, learning_rate, num_iterations):\n",
    "    \n",
    "    theta0 = initialTheta0\n",
    "    theta1 = initialTheta1\n",
    "    \n",
    "    gradients = []\n",
    "    MSE = []\n",
    "    for i in range(num_iterations):\n",
    "        m = len(X)\n",
    "        h = theta0 + theta1 * X\n",
    "        \n",
    "        newTheta0 = (2/m) * np.sum(h - y_true)\n",
    "        newTheta1 = (2/m) * np.sum((h - y_true)*X)\n",
    "        \n",
    "        theta0 = theta0 - learning_rate * newTheta0\n",
    "        theta1 = theta1 - learning_rate * newTheta1\n",
    "        \n",
    "        mse = (1/m) * np.sum((h - y_true)**2)\n",
    "        MSE.append(mse)   \n",
    "        gradients.append([theta0, theta1])\n",
    "    return gradients, MSE"
   ]
  },
  {
   "cell_type": "code",
   "execution_count": 51,
   "metadata": {},
   "outputs": [
    {
     "data": {
      "text/plain": [
       "[2.00021561131078, 2.9995392086698587]"
      ]
     },
     "execution_count": 51,
     "metadata": {},
     "output_type": "execute_result"
    }
   ],
   "source": [
    "initial_x = 0\n",
    "learning_rate = 0.1\n",
    "num_iterations = 1000\n",
    "\n",
    "gradients, mse = gradient_descent(X, y, 0, 0, learning_rate, num_iterations)\n",
    "gradients[-1]"
   ]
  },
  {
   "cell_type": "code",
   "execution_count": 53,
   "metadata": {},
   "outputs": [
    {
     "name": "stdout",
     "output_type": "stream",
     "text": [
      "MSE:  8.065846587774605e-07\n",
      "MSE:  36.032295106591846\n"
     ]
    }
   ],
   "source": [
    "print(\"MSE: \", mse[-1])\n",
    "print(\"MSE: \", np.sum(mse))"
   ]
  },
  {
   "cell_type": "code",
   "execution_count": 42,
   "metadata": {},
   "outputs": [],
   "source": [
    "theta0 = [row[0] for row in gradients]\n",
    "theta0 = [row[1] for row in gradients]"
   ]
  },
  {
   "cell_type": "code",
   "execution_count": 44,
   "metadata": {},
   "outputs": [],
   "source": [
    "# plt.plot(theta0, theta0, marker='o', linestyle='--', color='g')\n",
    "# plt.grid()\n",
    "# plt.title(\"Gradient Descent\")"
   ]
  }
 ],
 "metadata": {
  "kernelspec": {
   "display_name": "Python 3",
   "language": "python",
   "name": "python3"
  },
  "language_info": {
   "codemirror_mode": {
    "name": "ipython",
    "version": 3
   },
   "file_extension": ".py",
   "mimetype": "text/x-python",
   "name": "python",
   "nbconvert_exporter": "python",
   "pygments_lexer": "ipython3",
   "version": "3.11.4"
  },
  "orig_nbformat": 4
 },
 "nbformat": 4,
 "nbformat_minor": 2
}
